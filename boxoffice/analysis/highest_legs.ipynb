{
 "cells": [
  {
   "cell_type": "code",
   "execution_count": 1,
   "metadata": {},
   "outputs": [
    {
     "name": "stdout",
     "output_type": "stream",
     "text": [
      "MOVIES_DB_PATH: boxoffice/db/data/data.sqlite\n",
      "MOVIES_DB_PATH: ../boxoffice/db/data/data.sqlite\n"
     ]
    }
   ],
   "source": [
    "from boxoffice.db.frames import get_movie_frame_full"
   ]
  },
  {
   "cell_type": "code",
   "execution_count": 2,
   "metadata": {},
   "outputs": [
    {
     "name": "stdout",
     "output_type": "stream",
     "text": [
      "Reading from movies.csv\n",
      "       title  opening_weekend_to_total_ratio\n",
      "1361  Frozen                        0.000606\n"
     ]
    }
   ],
   "source": [
    "# find the movies that has the smallest value in the opening_weekend_to_total_ratio column\n",
    "\n",
    "frame = get_movie_frame_full()\n",
    "\n",
    "# get the smallest value in the opening_weekend_to_total_ratio column\n",
    "min_ratio = frame['opening_weekend_to_total_ratio'].min()\n",
    "\n",
    "# get the movies that have the smallest value in the opening_weekend_to_total_ratio column\n",
    "movies = frame[frame['opening_weekend_to_total_ratio'] == min_ratio]\n",
    "\n",
    "print(movies[['title', 'opening_weekend_to_total_ratio']])"
   ]
  }
 ],
 "metadata": {
  "kernelspec": {
   "display_name": "stat413class_kernel",
   "language": "python",
   "name": "stat413class_kernel"
  },
  "language_info": {
   "codemirror_mode": {
    "name": "ipython",
    "version": 3
   },
   "file_extension": ".py",
   "mimetype": "text/x-python",
   "name": "python",
   "nbconvert_exporter": "python",
   "pygments_lexer": "ipython3",
   "version": "3.12.5"
  }
 },
 "nbformat": 4,
 "nbformat_minor": 2
}
