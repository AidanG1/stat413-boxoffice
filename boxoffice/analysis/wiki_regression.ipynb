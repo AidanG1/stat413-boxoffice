{
 "cells": [
  {
   "cell_type": "code",
   "execution_count": null,
   "metadata": {},
   "outputs": [],
   "source": [
    "import pandas as pd\n",
    "import numpy as np\n",
    "import matplotlib.pyplot as plt\n",
    "import seaborn as sns\n",
    "\n",
    "from boxoffice.db.frames import get_movie_frame_full"
   ]
  }
 ],
 "metadata": {
  "kernelspec": {
   "display_name": "stat413class_kernel",
   "language": "python",
   "name": "stat413class_kernel"
  },
  "language_info": {
   "name": "python",
   "version": "3.12.5"
  }
 },
 "nbformat": 4,
 "nbformat_minor": 2
}
