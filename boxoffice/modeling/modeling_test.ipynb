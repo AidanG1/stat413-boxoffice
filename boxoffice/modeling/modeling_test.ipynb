{
 "cells": [
  {
   "cell_type": "code",
   "execution_count": 1,
   "metadata": {},
   "outputs": [
    {
     "name": "stdout",
     "output_type": "stream",
     "text": [
      "movies.csv not found at boxoffice/db/data/movies.csv\n",
      "movies.csv not found at ../boxoffice/db/data/movies.csv\n",
      "Reading from movies.csv\n",
      "Reading from movies.csv\n"
     ]
    }
   ],
   "source": [
    "from boxoffice.db.frames import get_box_office_day_frame_full, get_movie_frame_full\n",
    "\n",
    "bodf = get_box_office_day_frame_full()\n",
    "mdf = get_movie_frame_full()"
   ]
  },
  {
   "cell_type": "code",
   "execution_count": null,
   "metadata": {},
   "outputs": [],
   "source": [
    "# the goal is to create a model for predicting box office revenue based on an initial value and then successive drop ratios"
   ]
  }
 ],
 "metadata": {
  "kernelspec": {
   "display_name": "stat413class_kernel",
   "language": "python",
   "name": "stat413class_kernel"
  },
  "language_info": {
   "codemirror_mode": {
    "name": "ipython",
    "version": 3
   },
   "file_extension": ".py",
   "mimetype": "text/x-python",
   "name": "python",
   "nbconvert_exporter": "python",
   "pygments_lexer": "ipython3",
   "version": "3.12.5"
  }
 },
 "nbformat": 4,
 "nbformat_minor": 2
}
