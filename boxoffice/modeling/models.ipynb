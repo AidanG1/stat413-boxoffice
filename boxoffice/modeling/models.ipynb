{
 "cells": [
  {
   "cell_type": "code",
   "execution_count": null,
   "metadata": {},
   "outputs": [
    {
     "name": "stdout",
     "output_type": "stream",
     "text": [
      "movies.csv exists, 1730583669.9247737, 1730583580.705396\n",
      "Reading from movies.csv\n"
     ]
    }
   ],
   "source": [
    "from boxoffice.db.frames import get_movie_frame_full\n",
    "import pandas as pd\n",
    "import numpy as np\n",
    "import matplotlib.pyplot as plt\n",
    "import seaborn as sns\n",
    "import datetime\n",
    "from sklearn.metrics import root_mean_squared_error\n",
    "\n",
    "df = get_movie_frame_full()\n",
    "\n",
    "if df is None:\n",
    "    print('No data')\n",
    "    exit()\n",
    "    "
   ]
  },
  {
   "cell_type": "code",
   "execution_count": 22,
   "metadata": {},
   "outputs": [],
   "source": [
    "# main goal is to predict opening_weekend_revenue\n",
    "\n",
    "# do a train test split based on release date. Train on movies released before 2023, test on movies released in 2023 and 2024\n",
    "\n",
    "# drop movies with missing budgets\n",
    "df = df.dropna(subset=['budget'])\n",
    "\n",
    "# drop the opening_weekend_revenue column\n",
    "df = df.drop(columns=['opening_weekend_revenue'])\n",
    "\n",
    "# filter out movies from before 2015    \n",
    "df = df[df['release_day'] >= datetime.date(2015, 1, 1)]\n",
    "\n",
    "# keep original columns for later\n",
    "dummies = pd.get_dummies(df[['mpaa_rating', 'genre', 'creative_type', 'source', 'production_method', 'distributor_slug']], drop_first=True)\n",
    "df = pd.concat([df, dummies], axis=1)\n",
    "\n",
    "df['in_franchise'] = df['franchise_slug'].notnull().astype(int)\n",
    "\n",
    "X_train = df[(df['release_day'] < datetime.date(2023, 1, 1))]\n",
    "X_test = df[df['release_day'] >= datetime.date(2023, 1, 1)]\n",
    "\n",
    "y_train = X_train['opening_wide_revenue']\n",
    "y_test = X_test['opening_wide_revenue']\n",
    "\n",
    "X_train = X_train.drop(columns=['opening_wide_revenue'])\n",
    "X_test = X_test.drop(columns=['opening_wide_revenue'])\n",
    "\n",
    "# reset index\n",
    "X_train = X_train.reset_index(drop=True)\n",
    "X_test = X_test.reset_index(drop=True)\n",
    "y_train = y_train.reset_index(drop=True)\n",
    "y_test = y_test.reset_index(drop=True)"
   ]
  },
  {
   "cell_type": "code",
   "execution_count": 4,
   "metadata": {},
   "outputs": [],
   "source": [
    "# write the titles and ids of the movies with missing budget to a csv file\n",
    "missing_budget = df[df['budget'].isnull()]\n",
    "missing_budget[['title', 'id']].to_csv('missing_budget.csv', index=False)"
   ]
  },
  {
   "cell_type": "code",
   "execution_count": 23,
   "metadata": {},
   "outputs": [
    {
     "name": "stdout",
     "output_type": "stream",
     "text": [
      "Index([], dtype='object')\n",
      "                                                Results: Ordinary least squares\n",
      "================================================================================================================================\n",
      "Model:                                  OLS                                Adj. R-squared (uncentered):               0.846     \n",
      "Dependent Variable:                     opening_wide_revenue               AIC:                                       26882.5367\n",
      "Date:                                   2024-11-02 17:41                   BIC:                                       27379.6162\n",
      "No. Observations:                       737                                Log-Likelihood:                            -13333.   \n",
      "Df Model:                               108                                F-statistic:                               38.52     \n",
      "Df Residuals:                           629                                Prob (F-statistic):                        1.34e-216 \n",
      "R-squared (uncentered):                 0.869                              Scale:                                     3.5500e+14\n",
      "--------------------------------------------------------------------------------------------------------------------------------\n",
      "                                                           Coef.         Std.Err.      t    P>|t|      [0.025         0.975]    \n",
      "--------------------------------------------------------------------------------------------------------------------------------\n",
      "release_year                                              -21552.7698    10230.1594 -2.1068 0.0355    -41642.1700     -1463.3697\n",
      "running_time                                               42044.2550    63134.2810  0.6659 0.5057    -81935.2238    166023.7338\n",
      "budget                                                         0.1590        0.0251  6.3237 0.0000         0.1097         0.2084\n",
      "metacritic_score                                          101510.4663   136895.8495  0.7415 0.4587   -167317.7485    370338.6811\n",
      "metacritic_review_count                                    -7567.0416   107555.9749 -0.0704 0.9439   -218779.2941    203645.2109\n",
      "metacritic_score_calculated                               480938.2024   186629.2919  2.5770 0.0102    114446.3067    847430.0981\n",
      "metacritic_monday_before_wide_friday_calculated           -42787.0714    33774.1073 -1.2669 0.2057   -109110.7256     23536.5828\n",
      "metacritic_before_wide_friday_calculated                 -235299.6479   131268.8168 -1.7925 0.0735   -493077.8188     22478.5230\n",
      "metacritic_before_first_day_calculated                     66687.4033    66974.5914  0.9957 0.3198    -64833.4565    198208.2632\n",
      "release_day_of_week                                     -4301621.6191  1772667.8551 -2.4266 0.0155  -7782685.0465   -820558.1918\n",
      "release_day_of_week_non_preview                          6578228.1138  1948256.0399  3.3765 0.0008   2752354.6834  10404101.5442\n",
      "release_month                                            -742793.8474   229013.0655 -3.2435 0.0012  -1192516.5658   -293071.1289\n",
      "release_day_of_month                                      -79615.6060    92822.9054 -0.8577 0.3914   -261895.9019    102664.6898\n",
      "director_median_box_office                                    -0.2215        0.0591 -3.7496 0.0002        -0.3375        -0.1055\n",
      "director_mean_box_office                                       0.1874        0.0454  4.1305 0.0000         0.0983         0.2765\n",
      "weighted_crew_median_box_office                                1.0877        0.2643  4.1150 0.0000         0.5686         1.6068\n",
      "weighted_crew_mean_box_office                                 -0.2597        0.1363 -1.9050 0.0572        -0.5275         0.0080\n",
      "weighted_cast_median_box_office                                0.0892        0.1756  0.5079 0.6117        -0.2556         0.4340\n",
      "weighted_cast_mean_box_office                                  0.2204        0.1031  2.1386 0.0329         0.0180         0.4228\n",
      "wikipedia_pre_release_cumulative_views                        30.4919        3.6641  8.3219 0.0000        23.2967        37.6872\n",
      "wikipedia_pre_release_monday_views                           -27.6923       12.6881 -2.1825 0.0294       -52.6084        -2.7762\n",
      "wikipedia_pre_release_week_monday                            -62.2282       39.0030 -1.5955 0.1111      -138.8201        14.3637\n",
      "wikipedia_pre_release_three_monday                            74.2605       52.7719  1.4072 0.1599       -29.3700       177.8910\n",
      "mpaa_rating_PG                                            -89932.9766 10173737.6768 -0.0088 0.9929 -20068535.3101  19888669.3570\n",
      "mpaa_rating_PG-13                                        -251809.4659 10804982.6383 -0.0233 0.9814 -21470014.4373  20966395.5054\n",
      "mpaa_rating_R                                            -503974.6909 10900480.2320 -0.0462 0.9631 -21909712.3576  20901762.9758\n",
      "genre_Adventure                                         -2451704.2438  3559506.2925 -0.6888 0.4912  -9441658.4750   4538249.9875\n",
      "genre_Black Comedy                                      -2710957.1905  6540824.1794 -0.4145 0.6787 -15555452.4356  10133538.0546\n",
      "genre_Comedy                                             2776807.0262  3177082.8517  0.8740 0.3824  -3462165.9935   9015780.0460\n",
      "genre_Concert/Performance                                2390911.5127 17069310.9143  0.1401 0.8886 -31128821.9125  35910644.9378\n",
      "genre_Documentary                                       -2583789.6267 21581552.0400 -0.1197 0.9047 -44964403.2857  39796824.0323\n",
      "genre_Drama                                               990059.6158  3309969.7619  0.2991 0.7650  -5509869.0938   7489988.3254\n",
      "genre_Horror                                             1994044.5756  3526965.7251  0.5654 0.5720  -4932008.3564   8920097.5076\n",
      "genre_Musical                                            4640178.5661  6899621.4194  0.6725 0.5015  -8908902.1130  18189259.2452\n",
      "genre_Reality                                          -12431058.6429 17653951.2072 -0.7042 0.4816 -47098875.1318  22236757.8459\n",
      "genre_Romantic Comedy                                   -2233054.4917  5486733.8538 -0.4070 0.6842 -13007587.6335   8541478.6501\n",
      "genre_Thriller/Suspense                                 -5036123.8621  3251680.4161 -1.5488 0.1219 -11421587.2989   1349339.5746\n",
      "genre_Western                                           -5138614.1760  8612358.3639 -0.5967 0.5510 -22051069.3986  11773841.0467\n",
      "creative_type_Dramatization                             -7759485.0108  5863197.6880 -1.3234 0.1862 -19273296.2307   3754326.2090\n",
      "creative_type_Factual                                  -12623936.7569 10494366.9565 -1.2029 0.2295 -33232172.4740   7984298.9601\n",
      "creative_type_Fantasy                                   -6650528.5566  4533587.0609 -1.4669 0.1429 -15553326.7132   2252269.6000\n",
      "creative_type_Historical Fiction                        -6119595.9150  3247599.7089 -1.8843 0.0600 -12497045.8929    257854.0629\n",
      "creative_type_Kids Fiction                              -8183064.0255  5910010.0432 -1.3846 0.1667 -19788802.6626   3422674.6116\n",
      "creative_type_Science Fiction                           -3788223.6615  2797732.5241 -1.3540 0.1762  -9282250.2729   1705802.9500\n",
      "creative_type_Super Hero                                 9782627.2215  5484471.7918  1.7837 0.0750   -987463.8127  20552718.2557\n",
      "source_Based on Factual Book/Article                     2532686.1226  7108087.9900  0.3563 0.7217 -11425769.2470  16491141.4922\n",
      "source_Based on Fiction Book/Short Story                -2676500.8305  4648658.1701 -0.5758 0.5650 -11805269.0292   6452267.3681\n",
      "source_Based on Folk Tale/Legend/Fairytale              -4861129.5267  7649226.0313 -0.6355 0.5253 -19882240.7342  10159981.6808\n",
      "source_Based on Game                                     3240300.2236  6916839.0429  0.4685 0.6396 -10342591.4366  16823191.8837\n",
      "source_Based on Movie                                   -4184968.3336  7414300.8986 -0.5644 0.5727 -18744747.0443  10374810.3770\n",
      "source_Based on Musical or Opera                       -31541512.2077 21600787.1898 -1.4602 0.1447 -73959898.7502  10876874.3348\n",
      "source_Based on Play                                      908126.4073 12185618.7264  0.0745 0.9406 -23021292.5002  24837545.3148\n",
      "source_Based on Real Life Events                         -815097.7501  7299735.5608 -0.1117 0.9111 -15149899.6236  13519704.1233\n",
      "source_Based on Religious Text                           4991261.8073 12307295.7600  0.4056 0.6852 -19177099.4776  29159623.0922\n",
      "source_Based on Short Film                               3604240.5715  9296752.1011  0.3877 0.6984 -14652187.8053  21860668.9484\n",
      "source_Based on Song                                    22142440.4231 23536409.9559  0.9408 0.3472 -24077011.0515  68361891.8976\n",
      "source_Based on TV                                      -4542389.4676  6151046.8616 -0.7385 0.4605 -16621462.3792   7536683.4441\n",
      "source_Based on Theme Park Ride                        -25691999.3964 15102587.8992 -1.7012 0.0894 -55349595.0050   3965596.2122\n",
      "source_Based on Toy                                     -3038891.6825  8222600.5092 -0.3696 0.7118 -19185962.7924  13108179.4273\n",
      "source_Based on Web Series                             -31685661.6985 19783060.4184 -1.6017 0.1097 -70534500.6991   7163177.3021\n",
      "source_Compilation                                      10171758.7591 12011119.4126  0.8469 0.3974 -13414988.4078  33758505.9260\n",
      "source_Original Screenplay                              -2163299.2457  4470750.2057 -0.4839 0.6286 -10942701.9913   6616103.5000\n",
      "source_Remake                                            8515661.5437  5862023.0214  1.4527 0.1468  -2995842.9334  20027166.0209\n",
      "source_Spin-Off                                         -4524043.5178  6353037.2172 -0.7121 0.4767 -16999773.5006   7951686.4651\n",
      "production_method_Digital Animation                     -7006221.9299  5083176.9347 -1.3783 0.1686 -16988273.1480   2975829.2882\n",
      "production_method_Live Action                           -8862718.5119  3623884.9083 -2.4456 0.0147 -15979095.7751  -1746341.2486\n",
      "production_method_Stop-Motion Animation                -14227445.1007 10804705.1716 -1.3168 0.1884 -35445105.1989   6990214.9975\n",
      "distributor_slug_20th-Century-Fox                       11417737.5687 14099662.5400  0.8098 0.4184 -16270370.7620  39105845.8994\n",
      "distributor_slug_20th-Century-Studios                   -6583772.0414 15567476.3526 -0.4229 0.6725 -37154288.9217  23986744.8389\n",
      "distributor_slug_A24                                     8668385.0585 15128814.0568  0.5730 0.5669 -21040711.9735  38377482.0905\n",
      "distributor_slug_Amazon-MGM-Studios                            0.0000        0.0000  0.7232 0.4698        -0.0000         0.0000\n",
      "distributor_slug_Amazon-Studios                         15198126.8885 23579228.6314  0.6446 0.5195 -31105409.4444  61501663.2214\n",
      "distributor_slug_Angel-Studios                                 0.0000        0.0000  0.2072 0.8359        -0.0000         0.0000\n",
      "distributor_slug_Annapurna-Pictures                     14281540.8876 17100332.7861  0.8352 0.4039 -19299111.5096  47862193.2848\n",
      "distributor_slug_Aviron-Pictures                        17862351.6712 17131622.9697  1.0427 0.2975 -15779746.5931  51504449.9356\n",
      "distributor_slug_BH-Tilt                                16063855.6840 17816296.1602  0.9016 0.3676 -18922764.5090  51050475.8769\n",
      "distributor_slug_Bleecker-Street                         2109036.7533 17849829.8714  0.1182 0.9060 -32943435.0178  37161508.5244\n",
      "distributor_slug_Briarcliff-Entertainment               22057456.7377 23689741.8445  0.9311 0.3522 -24463099.1022  68578012.5777\n",
      "distributor_slug_Broad-Green-Pictures                   17299358.4764 17124679.1913  1.0102 0.3128 -16329103.9946  50927820.9473\n",
      "distributor_slug_CBS-Films                              22703236.2944 16785008.5607  1.3526 0.1767 -10258200.4805  55664673.0694\n",
      "distributor_slug_Entertainment-Studios-Motion-Pictures  20043657.2136 16069299.5503  1.2473 0.2127 -11512311.2704  51599625.6976\n",
      "distributor_slug_EuropaCorp                             31251885.8880 17633249.2569  1.7723 0.0768  -3375277.2985  65879049.0745\n",
      "distributor_slug_Focus-Features                         16294404.2918 14599121.1972  1.1161 0.2648 -12374512.2936  44963320.8772\n",
      "distributor_slug_Focus-Gramercy                         23742365.2241 23739309.7828  1.0001 0.3176 -22875529.2893  70360259.7375\n",
      "distributor_slug_Fox-Searchlight                        11891713.1667 15387710.2646  0.7728 0.4399 -18325789.3841  42109215.7174\n",
      "distributor_slug_Freestyle-Releasing                    12495377.8112 23987804.0961  0.5209 0.6026 -34610495.5772  59601251.1996\n",
      "distributor_slug_Global-Road                            11128156.1205 17104958.6157  0.6506 0.5156 -22461580.2155  44717892.4566\n",
      "distributor_slug_High-Top-Releasing                     12266949.9071 19651421.0415  0.6242 0.5327 -26323383.2379  50857283.0520\n",
      "distributor_slug_LD-Entertainment                       27090651.4462 24294779.6286  1.1151 0.2652 -20618042.8804  74799345.7728\n",
      "distributor_slug_Lionsgate                              14752186.6845 14073151.2959  1.0483 0.2949 -12883860.3861  42388233.7552\n",
      "distributor_slug_MGM                                    18629326.7190 16839500.3473  1.1063 0.2690 -14439117.9000  51697771.3381\n",
      "distributor_slug_Neon                                    7533627.3448 20314969.6715  0.3708 0.7109 -32359744.5288  47426999.2184\n",
      "distributor_slug_OTL-Releasing                          11198854.9627 23655944.5960  0.4734 0.6361 -35255331.7800  57653041.7053\n",
      "distributor_slug_Open-Road                              17631954.1855 14844869.3437  1.1877 0.2354 -11519548.5103  46783456.8813\n",
      "distributor_slug_Orion-Pictures                         14706950.7319 19496356.8908  0.7543 0.4509 -23578876.3306  52992777.7944\n",
      "distributor_slug_Paramount-Pictures                     12732976.1974 14179590.8180  0.8980 0.3695 -15112090.6998  40578043.0947\n",
      "distributor_slug_Pure-Flix-Entertainment                16425829.1413 16421489.2729  1.0003 0.3176 -15821749.3131  48673407.5957\n",
      "distributor_slug_Quality-Flix                           58021653.7352 36141336.7305  1.6054 0.1089 -12950629.7343 128993937.2046\n",
      "distributor_slug_RADiUS-TWC                             12876697.9011 24023930.6691  0.5360 0.5922 -34300118.7786  60053514.5808\n",
      "distributor_slug_Relativity                             16501089.5962 20049139.0180  0.8230 0.4108 -22870259.2921  55872438.4845\n",
      "distributor_slug_Roadside-Attractions                   11288652.1485 17729942.3807  0.6367 0.5246 -23528391.4468  46105695.7437\n",
      "distributor_slug_STX-Entertainment                      17459268.0643 14329629.3361  1.2184 0.2235 -10680435.8664  45598971.9950\n",
      "distributor_slug_Searchlight-Pictures                   10065099.4634 19689022.7528  0.5112 0.6094 -28599073.7648  48729272.6915\n",
      "distributor_slug_ShowBiz-Direct                                0.0000        0.0000  0.8265 0.4088        -0.0000         0.0000\n",
      "distributor_slug_Solstice-Studios                       22760629.9795 23606936.0446  0.9642 0.3353 -23597316.5816  69118576.5407\n",
      "distributor_slug_Sony-Pictures                          15971619.5151 14051339.0374  1.1367 0.2561 -11621593.8938  43564832.9239\n",
      "distributor_slug_Toho-International                            0.0000        0.0000  0.2194 0.8264        -0.0000         0.0000\n",
      "distributor_slug_United-Artists                          9890603.6518 15200369.8109  0.6507 0.5155 -19959010.4647  39740217.7683\n",
      "distributor_slug_Universal                              21180685.7152 14076314.2989  1.5047 0.1329  -6461572.6794  48822944.1097\n",
      "distributor_slug_Walt-Disney                            26421286.5955 14425920.0833  1.8315 0.0675  -1907507.5798  54750080.7707\n",
      "distributor_slug_Warner-Bros                            13449033.8229 14050482.9129  0.9572 0.3388 -14142498.3778  41040566.0236\n",
      "distributor_slug_Weinstein-Co                           18059132.4689 15774686.4252  1.1448 0.2527 -12918291.6635  49036556.6013\n",
      "distributor_slug_truTV                                  10171758.7591 12011119.4126  0.8469 0.3974 -13414988.4078  33758505.9260\n",
      "in_franchise                                             9626146.2689  1919603.1613  5.0147 0.0000   5856539.7177  13395752.8202\n",
      "--------------------------------------------------------------------------------------------------------------------------------\n",
      "Omnibus:                              354.208                       Durbin-Watson:                          2.009               \n",
      "Prob(Omnibus):                        0.000                         Jarque-Bera (JB):                       3964.457            \n",
      "Skew:                                 1.873                         Prob(JB):                               0.000               \n",
      "Kurtosis:                             13.727                        Condition No.:                          69113351013317124096\n",
      "================================================================================================================================\n",
      "Notes:\n",
      "[1] R² is computed without centering (uncentered) since the                 model does not contain a constant.\n",
      "[2] Standard Errors assume that the covariance matrix of the errors is correctly specified.\n",
      "[3] The smallest eigenvalue is 1.77e-21. This might indicate that                there are strong multicollinearity problems or\n",
      "that the design                matrix is singular.\n"
     ]
    }
   ],
   "source": [
    "# create a basic MLR\n",
    "from statsmodels.api import OLS\n",
    "\n",
    "# print the columns\n",
    "# print(X_train.columns)\n",
    "\n",
    "# create dummy variables for mpaa_rating, genre, creative_type, source, production_method, and distributor\n",
    "# X_train_dummies = pd.get_dummies(X_train, columns=['mpaa_rating', 'genre', 'creative_type', 'source', 'production_method', 'distributor_slug'])\n",
    "\n",
    "# print(X_train_dummies.columns)\n",
    "\n",
    "# remove all non-numeric columns\n",
    "X_train_dummies = X_train.select_dtypes(include=[np.number, bool])\n",
    "\n",
    "# remove franchise id and distributor id and id\n",
    "X_train_dummies = X_train_dummies.drop(columns=['franchise_id', 'distributor_id', 'id'])\n",
    "\n",
    "# drop preview_sum and preview_to_weekend_ratio\n",
    "X_train_dummies = X_train_dummies.drop(columns=['preview_sum', 'preview_to_weekend_ratio', 'first_five_days_revenue', 'first_seven_days_revenue', 'total_revenue_within_365_days', 'opening_weekend_to_total_ratio', 'fri_sat_ratio_first_five', 'sat_sun_ratio_first_five', 'sun_mon_ratio_first_five', 'mon_tue_ratio_first_five', 'tue_wed_ratio_first_five', 'wed_thu_ratio_first_five', 'thu_fri_ratio_first_five', 'fri_sat_ratio', 'sat_sun_ratio', 'sun_mon_ratio', 'mon_tue_ratio', 'tue_wed_ratio', 'wed_thu_ratio', 'thu_fri_ratio', 'total_box_office', 'largest_theater_count', 'days_over_1000_theaters', 'days_over_1000000_revenue', 'days_over_100000_revenue', 'wikipedia_cumulative_views'])\n",
    "\n",
    "X_train_dummies = X_train_dummies.fillna(0)\n",
    "\n",
    "# print the columns that have NaN values\n",
    "print(X_train_dummies.columns[X_train_dummies.isna().any()])\n",
    "\n",
    "# Ensure all data is numeric\n",
    "X_train_dummies = X_train_dummies.astype(float)\n",
    "\n",
    "model = OLS(y_train, X_train_dummies)\n",
    "results = model.fit()\n",
    "\n",
    "# print the summary with millions of dollars\n",
    "def millions(x):\n",
    "    return '{:,.2f}M'.format(x / 1000000)\n",
    "\n",
    "print(results.summary2(float_format=millions))\n"
   ]
  },
  {
   "cell_type": "code",
   "execution_count": 6,
   "metadata": {},
   "outputs": [
    {
     "name": "stdout",
     "output_type": "stream",
     "text": [
      "Best alpha: 1956845794746.6177\n",
      "Number of non-zero coefficients: 7\n",
      "                                   feature  coefficient\n",
      "2                                   budget     0.207456\n",
      "13              director_median_box_office    -0.267698\n",
      "14                director_mean_box_office     0.205308\n",
      "15         weighted_crew_median_box_office     0.828076\n",
      "17         weighted_cast_median_box_office    -0.142053\n",
      "18           weighted_cast_mean_box_office     0.408910\n",
      "19  wikipedia_pre_release_cumulative_views    13.912162\n",
      "R squared: 0.6947194412842213\n"
     ]
    }
   ],
   "source": [
    "# now do lasso\n",
    "from sklearn.linear_model import Lasso, LassoCV\n",
    "from sklearn.model_selection import RepeatedKFold\n",
    "\n",
    "cv = RepeatedKFold(n_splits=10, n_repeats=3, random_state=1)\n",
    "\n",
    "lasso = LassoCV(cv=cv, n_alphas=100, random_state=1)\n",
    "\n",
    "lasso.fit(X_train_dummies, y_train)\n",
    "\n",
    "print('Best alpha:', lasso.alpha_)\n",
    "print('Number of non-zero coefficients:', np.sum(lasso.coef_ != 0))\n",
    "# print the coefficients\n",
    "\n",
    "# match up the coefficients with the column names\n",
    "coefficients = pd.DataFrame({'feature': X_train_dummies.columns, 'coefficient': lasso.coef_})\n",
    "# remove the columns with 0 coefficients\n",
    "coefficients = coefficients[coefficients['coefficient'] != 0]\n",
    "\n",
    "print(coefficients)\n",
    "\n",
    "# print the r squared value\n",
    "print('R squared:', lasso.score(X_train_dummies, y_train))\n"
   ]
  },
  {
   "cell_type": "code",
   "execution_count": 24,
   "metadata": {},
   "outputs": [
    {
     "data": {
      "text/plain": [
       "[<matplotlib.lines.Line2D at 0x713941fc2cc0>]"
      ]
     },
     "execution_count": 24,
     "metadata": {},
     "output_type": "execute_result"
    },
    {
     "data": {
      "image/png": "[encoded data removed]",
      "text/plain": [
       "<Figure size 640x480 with 1 Axes>"
      ]
     },
     "metadata": {},
     "output_type": "display_data"
    }
   ],
   "source": [
    "# now run the new model on the test data\n",
    "# don't need to create dummy variables and stuff since only some variables are significant\n",
    "def calculate_prediction(coefficients_df, row):\n",
    "    pred_sum = 0\n",
    "    for index, coef_row in coefficients_df.iterrows():\n",
    "        feature = coef_row['feature']\n",
    "        coefficient = coef_row['coefficient']\n",
    "\n",
    "        pred_sum += coefficient * row[feature]\n",
    "\n",
    "    return pred_sum\n",
    "\n",
    "def make_predictions(coefficients_df, X):\n",
    "    return X.apply(lambda x: calculate_prediction(coefficients_df, x), axis=1)\n",
    "\n",
    "# within X_test 0 fill all NaN values\n",
    "X_test = X_test.fillna(0)\n",
    "\n",
    "y_pred = make_predictions(coefficients, X_test)\n",
    "\n",
    "# make a results df with the names and then the values in millions\n",
    "results_df = pd.DataFrame({'title': X_test['title'], 'predicted': y_pred, 'actual': y_test})\n",
    "results_df['predicted'] = results_df['predicted'] / 1000000\n",
    "results_df['actual'] = results_df['actual'] / 1000000\n",
    "\n",
    "results_df.to_csv('lasso_results.csv', index=False)\n",
    "\n",
    "# make a scatter plot of the predicted vs actual\n",
    "sns.scatterplot(x='actual', y='predicted', data=results_df)\n",
    "plt.xlabel('Actual Opening Weekend Revenue (Millions)')\n",
    "plt.ylabel('Predicted Opening Weekend Revenue (Millions)')\n",
    "plt.title('Actual vs Predicted Opening Weekend Revenue')\n",
    "\n",
    "# make a line of y=x\n",
    "plt.plot([0, 100], [0, 100], color='red')"
   ]
  },
  {
   "cell_type": "code",
   "execution_count": 25,
   "metadata": {},
   "outputs": [
    {
     "data": {
      "text/plain": [
       "[<matplotlib.lines.Line2D at 0x713941fae150>]"
      ]
     },
     "execution_count": 25,
     "metadata": {},
     "output_type": "execute_result"
    },
    {
     "data": {
      "image/png": "[encoded data removed]",
      "text/plain": [
       "<Figure size 640x480 with 1 Axes>"
      ]
     },
     "metadata": {},
     "output_type": "display_data"
    }
   ],
   "source": [
    "# plot the residuals\n",
    "results_df['residual'] = results_df['actual'] - results_df['predicted']\n",
    "sns.scatterplot(x='actual', y='residual', data=results_df)\n",
    "plt.xlabel('Actual Opening Weekend Revenue (Millions)')\n",
    "plt.ylabel('Residual (Millions)')\n",
    "plt.title('Residual vs Actual Opening Weekend Revenue')\n",
    "\n",
    "# line at y=0\n",
    "plt.plot([0, 200], [0, 0], color='red')"
   ]
  },
  {
   "cell_type": "code",
   "execution_count": 26,
   "metadata": {},
   "outputs": [
    {
     "data": {
      "text/plain": [
       "<Axes: xlabel='wikipedia_pre_release_cumulative_views', ylabel='opening_wide_revenue'>"
      ]
     },
     "execution_count": 26,
     "metadata": {},
     "output_type": "execute_result"
    },
    {
     "data": {
      "image/png": "[encoded data removed]",
      "text/plain": [
       "<Figure size 1500x1500 with 9 Axes>"
      ]
     },
     "metadata": {},
     "output_type": "display_data"
    }
   ],
   "source": [
    "# the following are the features that lasso found as relevant, want to do exploratory analysis\n",
    "\n",
    "# budget     0.272272\n",
    "# 7               director_median_box_office    -0.114093\n",
    "# 8                 director_mean_box_office     0.139005\n",
    "# 9          weighted_crew_median_box_office     0.135436\n",
    "# 10           weighted_crew_mean_box_office     0.112845\n",
    "# 11         weighted_cast_median_box_office    -0.079282\n",
    "# 12           weighted_cast_mean_box_office     0.145899\n",
    "# 13  wikipedia_pre_release_cumulative_views     9.358108\n",
    "\n",
    "# make a grid of scatter plots\n",
    "fig, axs = plt.subplots(3, 3, figsize=(15, 15))\n",
    "\n",
    "# budget vs opening_wide_revenue\n",
    "sns.regplot(x='budget', y='opening_wide_revenue', data=df, ax=axs[0, 0])\n",
    "\n",
    "# director_median_box_office vs opening_wide_revenue\n",
    "sns.regplot(x='director_median_box_office', y='opening_wide_revenue', data=df, ax=axs[0, 1])\n",
    "\n",
    "# director_mean_box_office vs opening_wide_revenue\n",
    "sns.regplot(x='director_mean_box_office', y='opening_wide_revenue', data=df, ax=axs[0, 2])\n",
    "\n",
    "# weighted_crew_median_box_office vs opening_wide_revenue\n",
    "sns.regplot(x='weighted_crew_median_box_office', y='opening_wide_revenue', data=df, ax=axs[1, 0])\n",
    "\n",
    "# weighted_crew_mean_box_office vs opening_wide_revenue\n",
    "sns.regplot(x='weighted_crew_mean_box_office', y='opening_wide_revenue', data=df, ax=axs[1, 1])\n",
    "\n",
    "# weighted_cast_median_box_office vs opening_wide_revenue\n",
    "sns.regplot(x='weighted_cast_median_box_office', y='opening_wide_revenue', data=df, ax=axs[1, 2])\n",
    "\n",
    "# weighted_cast_mean_box_office vs opening_wide_revenue\n",
    "sns.regplot(x='weighted_cast_mean_box_office', y='opening_wide_revenue', data=df, ax=axs[2, 0])\n",
    "\n",
    "# wikipedia_pre_release_cumulative_views vs opening_wide_revenue\n",
    "sns.regplot(x='wikipedia_pre_release_cumulative_views', y='opening_wide_revenue', data=df, ax=axs[2, 1])"
   ]
  },
  {
   "cell_type": "code",
   "execution_count": 27,
   "metadata": {},
   "outputs": [
    {
     "name": "stdout",
     "output_type": "stream",
     "text": [
      "LinearGAM                                                                                                 \n",
      "=============================================== ==========================================================\n",
      "Distribution:                        NormalDist Effective DoF:                                      83.309\n",
      "Link Function:                     IdentityLink Log Likelihood:                                -25324.1469\n",
      "Number of Samples:                          737 AIC:                                            50816.9117\n",
      "                                                AICc:                                           50838.9845\n",
      "                                                GCV:                                    418116919073250.44\n",
      "                                                Scale:                                  334007135146024.94\n",
      "                                                Pseudo R-Squared:                                   0.8074\n",
      "==========================================================================================================\n",
      "Feature Function                  Lambda               Rank         EDoF         P > x        Sig. Code   \n",
      "================================= ==================== ============ ============ ============ ============\n",
      "s(0)                              [0.6]                20           12.7         1.11e-16     ***         \n",
      "s(1)                              [0.6]                20           10.7         1.87e-05     ***         \n",
      "s(2)                              [0.6]                20           9.2          2.32e-06     ***         \n",
      "s(3)                              [0.6]                20           10.8         7.77e-08     ***         \n",
      "s(4)                              [0.6]                20           9.1          1.65e-02     *           \n",
      "s(5)                              [0.6]                20           9.3          3.43e-04     ***         \n",
      "s(6)                              [0.6]                20           6.1          1.11e-16     ***         \n",
      "s(7)                              [0.6]                20           1.4          3.15e-04     ***         \n",
      "s(8)                              [0.6]                20           1.3          6.61e-01                 \n",
      "s(9)                              [0.6]                20           1.3          6.68e-01                 \n",
      "s(10)                             [0.6]                20           1.1          9.68e-01                 \n",
      "s(11)                             [0.6]                20           1.1          6.36e-01                 \n",
      "s(12)                             [0.6]                20           1.0          8.70e-01                 \n",
      "s(13)                             [0.6]                20           1.0          6.66e-01                 \n",
      "s(14)                             [0.6]                20           7.3          2.36e-03     **          \n",
      "intercept                                              1            0.0          1.11e-16     ***         \n",
      "==========================================================================================================\n",
      "Significance codes:  0 '***' 0.001 '**' 0.01 '*' 0.05 '.' 0.1 ' ' 1\n",
      "\n",
      "WARNING: Fitting splines and a linear function to a feature introduces a model identifiability problem\n",
      "         which can cause p-values to appear significant when they are not.\n",
      "\n",
      "WARNING: p-values calculated in this manner behave correctly for un-penalized models or models with\n",
      "         known smoothing parameters, but when smoothing parameters have been estimated, the p-values\n",
      "         are typically lower than they should be, meaning that the tests reject the null too readily.\n",
      "None\n"
     ]
    },
    {
     "name": "stderr",
     "output_type": "stream",
     "text": [
      "/tmp/ipykernel_11527/3798187377.py:12: UserWarning:\n",
      "\n",
      "KNOWN BUG: p-values computed in this summary are likely much smaller than they should be. \n",
      " \n",
      "Please do not make inferences based on these values! \n",
      "\n",
      "Collaborate on a solution, and stay up to date at: \n",
      "github.com/dswah/pyGAM/issues/163 \n",
      "\n",
      "\n"
     ]
    }
   ],
   "source": [
    "# gam\n",
    "from pygam import LinearGAM\n",
    "\n",
    "# print(X_train_dummies.columns)\n",
    "\n",
    "relevant_features = ['budget', 'director_median_box_office', 'director_mean_box_office', 'weighted_crew_median_box_office', 'weighted_crew_mean_box_office', 'weighted_cast_mean_box_office', 'wikipedia_pre_release_cumulative_views', 'genre_Horror', 'mpaa_rating_PG-13', 'mpaa_rating_R', 'source_Original Screenplay', 'production_method_Digital Animation', 'distributor_slug_Sony-Pictures', 'distributor_slug_Warner-Bros', 'running_time']\n",
    "\n",
    "X_train_gam = X_train_dummies[relevant_features]\n",
    "\n",
    "gam = LinearGAM().fit(X_train_gam, y_train)\n",
    "\n",
    "print(gam.summary())"
   ]
  },
  {
   "cell_type": "code",
   "execution_count": 28,
   "metadata": {},
   "outputs": [
    {
     "data": {
      "application/vnd.plotly.v1+json": {
       "config": {
        "plotlyServerURL": "https://plot.ly"
       },
       "data": [
        {
         "hovertemplate": "<b>%{hovertext}</b><br><br>mpaa_rating=PG-13<br>Actual Opening Weekend Revenue (Millions)=%{x}<br>Predicted Opening Weekend Revenue (Millions)=%{y}<extra></extra>",
         "hovertext": [
          "80 for Brady",
          "Ant-Man and the Wasp: Quantumania",
          "Jesus Revolution",
          "Creed III",
          "65",
          "Shazam! Fury of the Gods",
          "His Only Son",
          "Dungeons & Dragons: Honor Among Thieves",
          "Are You There God? It’s Me, Margaret",
          "Big George Foreman: The Miraculous Story of the Once and Future Heavyweight Champion of the World",
          "Guardians of the Galaxy Vol 3",
          "Fast X",
          "Transformers: Rise of the Beasts",
          "The Flash",
          "Indiana Jones and the Dial of Destiny",
          "Sound of Freedom",
          "Insidious: The Red Door",
          "Barbie",
          "Haunted Mansion",
          "Meg 2: The Trench",
          "Blue Beetle",
          "The Creator",
          "Five Nights at Freddy’s",
          "The Marvels",
          "Next Goal Wins",
          "The Hunger Games: The Ballad of Songbirds & Snakes",
          "Godzilla Minus One (ゴジラ最新作)",
          "Aquaman and the Lost Kingdom",
          "Mean Girls",
          "Argylle",
          "Madame Web",
          "Dune: Part Two",
          "Cabrini",
          "Imaginary",
          "Arthur the King",
          "Ghostbusters: Frozen Empire",
          "Godzilla x Kong: The New Empire",
          "Tarot",
          "The Fall Guy",
          "Kingdom of the Planet of the Apes",
          "The Watchers",
          "A Quiet Place: Day One",
          "Sound of Hope: The Story of Possum Trot",
          "Fly Me to the Moon",
          "Twisters",
          "It Ends With Us",
          "Reagan",
          "Beetlejuice Beetlejuice"
         ],
         "legendgroup": "PG-13",
         "marker": {
          "color": "#636efa",
          "symbol": "circle"
         },
         "mode": "markers",
         "name": "PG-13",
         "orientation": "v",
         "showlegend": true,
         "type": "scatter",
         "x": [
          12.70164,
          106.10965,
          15.882067,
          58.370007,
          12.328361,
          30.111158,
          5.50107,
          37.205784,
          6.739037,
          2.925364,
          118.414021,
          67.01741,
          61.045464,
          55.043679,
          60.368101,
          19.680879,
          33.013036,
          162.022044,
          24.082475,
          30.002735,
          25.030225,
          14.079512,
          80.00172,
          46.110859,
          2.500295,
          44.607143,
          11.419975,
          27.686211,
          28.635307,
          17.47354,
          15.33586,
          82.505391,
          7.16852,
          9.912713,
          7.633898,
          45.004673,
          80.006561,
          6.503012,
          27.747035,
          58.400788,
          7.003537,
          52.202495,
          3.078758,
          9.426615,
          81.251415,
          50.016652,
          7.65072,
          111.003345
         ],
         "xaxis": "x",
         "y": [
          6.6090152527160795,
          143.37816400348717,
          7.097458999934658,
          25.793718482733308,
          22.8097921608368,
          41.44008701270626,
          -4.440224624783367,
          25.867443159113183,
          14.493111814270712,
          12.398977551906318,
          130.2311832175478,
          139.4646521320104,
          96.03552830701938,
          100.53426908422489,
          166.333474530703,
          8.006395249754801,
          12.315428989952386,
          76.54476839525525,
          53.29040271728775,
          29.371766649339744,
          38.11857723123269,
          31.43297028103903,
          26.243979274825616,
          141.90034710560434,
          48.76231091526491,
          44.63654528825298,
          5.0829840995498,
          77.08196416541057,
          9.929613434672698,
          64.81757607205572,
          31.69781093233104,
          85.25106102877903,
          0.7601327753027827,
          118.08287482613288,
          2.7096942394340933,
          25.43773588923578,
          98.49519619299832,
          52.14714705149281,
          31.809998876567946,
          62.95298018375112,
          23.541060499424674,
          30.267055520391256,
          8.868720186727211,
          19.825413645861627,
          39.309196443162186,
          12.727655369169593,
          8.13130341079037,
          34.02049317427546
         ],
         "yaxis": "y"
        },
        {
         "hovertemplate": "<b>%{hovertext}</b><br><br>mpaa_rating=R<br>Actual Opening Weekend Revenue (Millions)=%{x}<br>Predicted Opening Weekend Revenue (Millions)=%{y}<extra></extra>",
         "hovertext": [
          "Knock at the Cabin",
          "Operation Fortune: Ruse de guerre",
          "Scream VI",
          "John Wick: Chapter 4",
          "Renfield",
          "The Pope’s Exorcist",
          "Beau is Afraid",
          "The Machine",
          "No Hard Feelings",
          "Oppenheimer",
          "Talk To Me",
          "The Last Voyage of the Demeter",
          "Strays",
          "Dumb Money",
          "Expend4bles",
          "Saw X",
          "The Exorcist: Believer",
          "Killers of the Flower Moon",
          "Priscilla",
          "Thanksgiving",
          "Napoleon",
          "American Fiction",
          "The Iron Claw",
          "Anyone But You",
          "Ferrari",
          "Civil War",
          "Abigail",
          "Challengers",
          "The Strangers: Chapter 1",
          "Furiosa: A Mad Max Saga",
          "Bad Boys: Ride or Die",
          "Horizon: An American Saga Chapter 1",
          "Deadpool & Wolverine",
          "Alien: Romulus",
          "The Crow",
          "Speak No Evil"
         ],
         "legendgroup": "R",
         "marker": {
          "color": "#EF553B",
          "symbol": "circle"
         },
         "mode": "markers",
         "name": "R",
         "orientation": "v",
         "showlegend": true,
         "type": "scatter",
         "x": [
          14.12717,
          3.140214,
          44.44727,
          73.81795,
          8.026475,
          9.006368,
          2.661957,
          5.000545,
          15.00277,
          82.45542,
          10.43172,
          6.50495,
          8.24781,
          3.325504,
          8.039021,
          18.309301,
          26.4976,
          23.253655,
          5.040003,
          10.306272,
          20.638887,
          1.755364,
          4.86837,
          6.000344,
          3.921773,
          25.537368,
          10.29711,
          15.011061,
          11.825058,
          26.326462,
          56.527324,
          11.052561,
          211.435291,
          42.003361,
          4.644666,
          11.397595
         ],
         "xaxis": "x",
         "y": [
          23.994111882180206,
          5.912426715568289,
          34.94985989994618,
          68.49502406886107,
          22.600178097850264,
          17.34210077464957,
          26.149658728066065,
          2.27512884183909,
          19.628492292394572,
          222.7706576087346,
          2.255280643964127,
          21.45289558018861,
          29.92232170993504,
          8.988934896987379,
          18.19188572224588,
          17.583638057706885,
          23.15480066112841,
          -28.269433701860546,
          -2.4796741116595418,
          16.856842748070395,
          56.74188793446165,
          0.1994692110608667,
          11.798446256791532,
          10.006072849227623,
          23.9302147979875,
          10.697043961188719,
          23.382562902771294,
          29.544630923287748,
          10.55761647360316,
          43.6546406256821,
          37.61894843081978,
          20.363542020075567,
          97.6853125362709,
          35.98331896317603,
          7.728300193835333,
          13.35675745890817
         ],
         "yaxis": "y"
        },
        {
         "hovertemplate": "<b>%{hovertext}</b><br><br>mpaa_rating=PG<br>Actual Opening Weekend Revenue (Millions)=%{x}<br>Predicted Opening Weekend Revenue (Millions)=%{y}<extra></extra>",
         "hovertext": [
          "The Super Mario Bros. Movie",
          "The Little Mermaid",
          "Spider-Man: Across the Spider-Verse",
          "Elemental",
          "Ruby Gillman, Teenage Kraken",
          "Teenage Mutant Ninja Turtles: Mutant Mayhem",
          "PAW Patrol: The Mighty Movie",
          "Journey to Bethlehem",
          "Trolls Band Together",
          "Wish",
          "Wonka",
          "Migration",
          "Kung Fu Panda 4",
          "Unsung Hero",
          "IF",
          "The Garfield Movie",
          "Inside Out 2",
          "Despicable Me 4",
          "Harold and the Purple Crayon"
         ],
         "legendgroup": "PG",
         "marker": {
          "color": "#00cc96",
          "symbol": "circle"
         },
         "mode": "markers",
         "name": "PG",
         "orientation": "v",
         "showlegend": true,
         "type": "scatter",
         "x": [
          146.361865,
          95.57804,
          120.663589,
          29.602429,
          5.50099,
          28.007544,
          22.764354,
          2.400446,
          30.002525,
          19.698228,
          39.0058,
          12.453275,
          57.989905,
          7.731539,
          33.715801,
          24.006629,
          154.201673,
          75.00921,
          6.003197
         ],
         "xaxis": "x",
         "y": [
          54.93518688766308,
          96.13534031653501,
          38.42165868892647,
          89.27380970656411,
          16.63870022878837,
          10.764453838336527,
          9.585053167929232,
          14.134506184332103,
          38.804923626064145,
          -1.3216449648947268,
          50.54420111108266,
          45.35281925286311,
          34.61618575555937,
          1.4143930897979737,
          37.90020181546728,
          21.24811984671855,
          107.82410842867495,
          79.65747562175302,
          16.569192824411594
         ],
         "yaxis": "y"
        },
        {
         "line": {
          "color": "red"
         },
         "mode": "lines",
         "showlegend": false,
         "type": "scatter",
         "x": [
          0,
          200
         ],
         "y": [
          0,
          200
         ]
        }
       ],
       "layout": {
        "legend": {
         "title": {
          "text": "mpaa_rating"
         },
         "tracegroupgap": 0
        },
        "template": {
         "data": {
          "bar": [
           {
            "error_x": {
             "color": "#2a3f5f"
            },
            "error_y": {
             "color": "#2a3f5f"
            },
            "marker": {
             "line": {
              "color": "#E5ECF6",
              "width": 0.5
             },
             "pattern": {
              "fillmode": "overlay",
              "size": 10,
              "solidity": 0.2
             }
            },
            "type": "bar"
           }
          ],
          "barpolar": [
           {
            "marker": {
             "line": {
              "color": "#E5ECF6",
              "width": 0.5
             },
             "pattern": {
              "fillmode": "overlay",
              "size": 10,
              "solidity": 0.2
             }
            },
            "type": "barpolar"
           }
          ],
          "carpet": [
           {
            "aaxis": {
             "endlinecolor": "#2a3f5f",
             "gridcolor": "white",
             "linecolor": "white",
             "minorgridcolor": "white",
             "startlinecolor": "#2a3f5f"
            },
            "baxis": {
             "endlinecolor": "#2a3f5f",
             "gridcolor": "white",
             "linecolor": "white",
             "minorgridcolor": "white",
             "startlinecolor": "#2a3f5f"
            },
            "type": "carpet"
           }
          ],
          "choropleth": [
           {
            "colorbar": {
             "outlinewidth": 0,
             "ticks": ""
            },
            "type": "choropleth"
           }
          ],
          "contour": [
           {
            "colorbar": {
             "outlinewidth": 0,
             "ticks": ""
            },
            "colorscale": [
             [
              0,
              "#0d0887"
             ],
             [
              0.1111111111111111,
              "#46039f"
             ],
             [
              0.2222222222222222,
              "#7201a8"
             ],
             [
              0.3333333333333333,
              "#9c179e"
             ],
             [
              0.4444444444444444,
              "#bd3786"
             ],
             [
              0.5555555555555556,
              "#d8576b"
             ],
             [
              0.6666666666666666,
              "#ed7953"
             ],
             [
              0.7777777777777778,
              "#fb9f3a"
             ],
             [
              0.8888888888888888,
              "#fdca26"
             ],
             [
              1,
              "#f0f921"
             ]
            ],
            "type": "contour"
           }
          ],
          "contourcarpet": [
           {
            "colorbar": {
             "outlinewidth": 0,
             "ticks": ""
            },
            "type": "contourcarpet"
           }
          ],
          "heatmap": [
           {
            "colorbar": {
             "outlinewidth": 0,
             "ticks": ""
            },
            "colorscale": [
             [
              0,
              "#0d0887"
             ],
             [
              0.1111111111111111,
              "#46039f"
             ],
             [
              0.2222222222222222,
              "#7201a8"
             ],
             [
              0.3333333333333333,
              "#9c179e"
             ],
             [
              0.4444444444444444,
              "#bd3786"
             ],
             [
              0.5555555555555556,
              "#d8576b"
             ],
             [
              0.6666666666666666,
              "#ed7953"
             ],
             [
              0.7777777777777778,
              "#fb9f3a"
             ],
             [
              0.8888888888888888,
              "#fdca26"
             ],
             [
              1,
              "#f0f921"
             ]
            ],
            "type": "heatmap"
           }
          ],
          "heatmapgl": [
           {
            "colorbar": {
             "outlinewidth": 0,
             "ticks": ""
            },
            "colorscale": [
             [
              0,
              "#0d0887"
             ],
             [
              0.1111111111111111,
              "#46039f"
             ],
             [
              0.2222222222222222,
              "#7201a8"
             ],
             [
              0.3333333333333333,
              "#9c179e"
             ],
             [
              0.4444444444444444,
              "#bd3786"
             ],
             [
              0.5555555555555556,
              "#d8576b"
             ],
             [
              0.6666666666666666,
              "#ed7953"
             ],
             [
              0.7777777777777778,
              "#fb9f3a"
             ],
             [
              0.8888888888888888,
              "#fdca26"
             ],
             [
              1,
              "#f0f921"
             ]
            ],
            "type": "heatmapgl"
           }
          ],
          "histogram": [
           {
            "marker": {
             "pattern": {
              "fillmode": "overlay",
              "size": 10,
              "solidity": 0.2
             }
            },
            "type": "histogram"
           }
          ],
          "histogram2d": [
           {
            "colorbar": {
             "outlinewidth": 0,
             "ticks": ""
            },
            "colorscale": [
             [
              0,
              "#0d0887"
             ],
             [
              0.1111111111111111,
              "#46039f"
             ],
             [
              0.2222222222222222,
              "#7201a8"
             ],
             [
              0.3333333333333333,
              "#9c179e"
             ],
             [
              0.4444444444444444,
              "#bd3786"
             ],
             [
              0.5555555555555556,
              "#d8576b"
             ],
             [
              0.6666666666666666,
              "#ed7953"
             ],
             [
              0.7777777777777778,
              "#fb9f3a"
             ],
             [
              0.8888888888888888,
              "#fdca26"
             ],
             [
              1,
              "#f0f921"
             ]
            ],
            "type": "histogram2d"
           }
          ],
          "histogram2dcontour": [
           {
            "colorbar": {
             "outlinewidth": 0,
             "ticks": ""
            },
            "colorscale": [
             [
              0,
              "#0d0887"
             ],
             [
              0.1111111111111111,
              "#46039f"
             ],
             [
              0.2222222222222222,
              "#7201a8"
             ],
             [
              0.3333333333333333,
              "#9c179e"
             ],
             [
              0.4444444444444444,
              "#bd3786"
             ],
             [
              0.5555555555555556,
              "#d8576b"
             ],
             [
              0.6666666666666666,
              "#ed7953"
             ],
             [
              0.7777777777777778,
              "#fb9f3a"
             ],
             [
              0.8888888888888888,
              "#fdca26"
             ],
             [
              1,
              "#f0f921"
             ]
            ],
            "type": "histogram2dcontour"
           }
          ],
          "mesh3d": [
           {
            "colorbar": {
             "outlinewidth": 0,
             "ticks": ""
            },
            "type": "mesh3d"
           }
          ],
          "parcoords": [
           {
            "line": {
             "colorbar": {
              "outlinewidth": 0,
              "ticks": ""
             }
            },
            "type": "parcoords"
           }
          ],
          "pie": [
           {
            "automargin": true,
            "type": "pie"
           }
          ],
          "scatter": [
           {
            "fillpattern": {
             "fillmode": "overlay",
             "size": 10,
             "solidity": 0.2
            },
            "type": "scatter"
           }
          ],
          "scatter3d": [
           {
            "line": {
             "colorbar": {
              "outlinewidth": 0,
              "ticks": ""
             }
            },
            "marker": {
             "colorbar": {
              "outlinewidth": 0,
              "ticks": ""
             }
            },
            "type": "scatter3d"
           }
          ],
          "scattercarpet": [
           {
            "marker": {
             "colorbar": {
              "outlinewidth": 0,
              "ticks": ""
             }
            },
            "type": "scattercarpet"
           }
          ],
          "scattergeo": [
           {
            "marker": {
             "colorbar": {
              "outlinewidth": 0,
              "ticks": ""
             }
            },
            "type": "scattergeo"
           }
          ],
          "scattergl": [
           {
            "marker": {
             "colorbar": {
              "outlinewidth": 0,
              "ticks": ""
             }
            },
            "type": "scattergl"
           }
          ],
          "scattermapbox": [
           {
            "marker": {
             "colorbar": {
              "outlinewidth": 0,
              "ticks": ""
             }
            },
            "type": "scattermapbox"
           }
          ],
          "scatterpolar": [
           {
            "marker": {
             "colorbar": {
              "outlinewidth": 0,
              "ticks": ""
             }
            },
            "type": "scatterpolar"
           }
          ],
          "scatterpolargl": [
           {
            "marker": {
             "colorbar": {
              "outlinewidth": 0,
              "ticks": ""
             }
            },
            "type": "scatterpolargl"
           }
          ],
          "scatterternary": [
           {
            "marker": {
             "colorbar": {
              "outlinewidth": 0,
              "ticks": ""
             }
            },
            "type": "scatterternary"
           }
          ],
          "surface": [
           {
            "colorbar": {
             "outlinewidth": 0,
             "ticks": ""
            },
            "colorscale": [
             [
              0,
              "#0d0887"
             ],
             [
              0.1111111111111111,
              "#46039f"
             ],
             [
              0.2222222222222222,
              "#7201a8"
             ],
             [
              0.3333333333333333,
              "#9c179e"
             ],
             [
              0.4444444444444444,
              "#bd3786"
             ],
             [
              0.5555555555555556,
              "#d8576b"
             ],
             [
              0.6666666666666666,
              "#ed7953"
             ],
             [
              0.7777777777777778,
              "#fb9f3a"
             ],
             [
              0.8888888888888888,
              "#fdca26"
             ],
             [
              1,
              "#f0f921"
             ]
            ],
            "type": "surface"
           }
          ],
          "table": [
           {
            "cells": {
             "fill": {
              "color": "#EBF0F8"
             },
             "line": {
              "color": "white"
             }
            },
            "header": {
             "fill": {
              "color": "#C8D4E3"
             },
             "line": {
              "color": "white"
             }
            },
            "type": "table"
           }
          ]
         },
         "layout": {
          "annotationdefaults": {
           "arrowcolor": "#2a3f5f",
           "arrowhead": 0,
           "arrowwidth": 1
          },
          "autotypenumbers": "strict",
          "coloraxis": {
           "colorbar": {
            "outlinewidth": 0,
            "ticks": ""
           }
          },
          "colorscale": {
           "diverging": [
            [
             0,
             "#8e0152"
            ],
            [
             0.1,
             "#c51b7d"
            ],
            [
             0.2,
             "#de77ae"
            ],
            [
             0.3,
             "#f1b6da"
            ],
            [
             0.4,
             "#fde0ef"
            ],
            [
             0.5,
             "#f7f7f7"
            ],
            [
             0.6,
             "#e6f5d0"
            ],
            [
             0.7,
             "#b8e186"
            ],
            [
             0.8,
             "#7fbc41"
            ],
            [
             0.9,
             "#4d9221"
            ],
            [
             1,
             "#276419"
            ]
           ],
           "sequential": [
            [
             0,
             "#0d0887"
            ],
            [
             0.1111111111111111,
             "#46039f"
            ],
            [
             0.2222222222222222,
             "#7201a8"
            ],
            [
             0.3333333333333333,
             "#9c179e"
            ],
            [
             0.4444444444444444,
             "#bd3786"
            ],
            [
             0.5555555555555556,
             "#d8576b"
            ],
            [
             0.6666666666666666,
             "#ed7953"
            ],
            [
             0.7777777777777778,
             "#fb9f3a"
            ],
            [
             0.8888888888888888,
             "#fdca26"
            ],
            [
             1,
             "#f0f921"
            ]
           ],
           "sequentialminus": [
            [
             0,
             "#0d0887"
            ],
            [
             0.1111111111111111,
             "#46039f"
            ],
            [
             0.2222222222222222,
             "#7201a8"
            ],
            [
             0.3333333333333333,
             "#9c179e"
            ],
            [
             0.4444444444444444,
             "#bd3786"
            ],
            [
             0.5555555555555556,
             "#d8576b"
            ],
            [
             0.6666666666666666,
             "#ed7953"
            ],
            [
             0.7777777777777778,
             "#fb9f3a"
            ],
            [
             0.8888888888888888,
             "#fdca26"
            ],
            [
             1,
             "#f0f921"
            ]
           ]
          },
          "colorway": [
           "#636efa",
           "#EF553B",
           "#00cc96",
           "#ab63fa",
           "#FFA15A",
           "#19d3f3",
           "#FF6692",
           "#B6E880",
           "#FF97FF",
           "#FECB52"
          ],
          "font": {
           "color": "#2a3f5f"
          },
          "geo": {
           "bgcolor": "white",
           "lakecolor": "white",
           "landcolor": "#E5ECF6",
           "showlakes": true,
           "showland": true,
           "subunitcolor": "white"
          },
          "hoverlabel": {
           "align": "left"
          },
          "hovermode": "closest",
          "mapbox": {
           "style": "light"
          },
          "paper_bgcolor": "white",
          "plot_bgcolor": "#E5ECF6",
          "polar": {
           "angularaxis": {
            "gridcolor": "white",
            "linecolor": "white",
            "ticks": ""
           },
           "bgcolor": "#E5ECF6",
           "radialaxis": {
            "gridcolor": "white",
            "linecolor": "white",
            "ticks": ""
           }
          },
          "scene": {
           "xaxis": {
            "backgroundcolor": "#E5ECF6",
            "gridcolor": "white",
            "gridwidth": 2,
            "linecolor": "white",
            "showbackground": true,
            "ticks": "",
            "zerolinecolor": "white"
           },
           "yaxis": {
            "backgroundcolor": "#E5ECF6",
            "gridcolor": "white",
            "gridwidth": 2,
            "linecolor": "white",
            "showbackground": true,
            "ticks": "",
            "zerolinecolor": "white"
           },
           "zaxis": {
            "backgroundcolor": "#E5ECF6",
            "gridcolor": "white",
            "gridwidth": 2,
            "linecolor": "white",
            "showbackground": true,
            "ticks": "",
            "zerolinecolor": "white"
           }
          },
          "shapedefaults": {
           "line": {
            "color": "#2a3f5f"
           }
          },
          "ternary": {
           "aaxis": {
            "gridcolor": "white",
            "linecolor": "white",
            "ticks": ""
           },
           "baxis": {
            "gridcolor": "white",
            "linecolor": "white",
            "ticks": ""
           },
           "bgcolor": "#E5ECF6",
           "caxis": {
            "gridcolor": "white",
            "linecolor": "white",
            "ticks": ""
           }
          },
          "title": {
           "x": 0.05
          },
          "xaxis": {
           "automargin": true,
           "gridcolor": "white",
           "linecolor": "white",
           "ticks": "",
           "title": {
            "standoff": 15
           },
           "zerolinecolor": "white",
           "zerolinewidth": 2
          },
          "yaxis": {
           "automargin": true,
           "gridcolor": "white",
           "linecolor": "white",
           "ticks": "",
           "title": {
            "standoff": 15
           },
           "zerolinecolor": "white",
           "zerolinewidth": 2
          }
         }
        },
        "title": {
         "text": "Actual vs Predicted Opening Weekend Revenue"
        },
        "xaxis": {
         "anchor": "y",
         "domain": [
          0,
          1
         ],
         "title": {
          "text": "Actual Opening Weekend Revenue (Millions)"
         }
        },
        "yaxis": {
         "anchor": "x",
         "domain": [
          0,
          1
         ],
         "title": {
          "text": "Predicted Opening Weekend Revenue (Millions)"
         }
        }
       }
      }
     },
     "metadata": {},
     "output_type": "display_data"
    }
   ],
   "source": [
    "# plot actual vs predicted\n",
    "y_pred_gam = gam.predict(X_test[relevant_features])\n",
    "\n",
    "results_df_gam = pd.DataFrame({'predicted': y_pred_gam, 'actual': y_test})\n",
    "\n",
    "# now add in X_test title, source, distributor, genre, creative_type, production_method, mpaa_rating, and release_day\n",
    "results_df_gam['title'] = X_test['title']\n",
    "results_df_gam['source'] = X_test['source']\n",
    "results_df_gam['distributor_slug'] = X_test['distributor_slug']\n",
    "results_df_gam['genre'] = X_test['genre']\n",
    "results_df_gam['creative_type'] = X_test['creative_type']\n",
    "results_df_gam['production_method'] = X_test['production_method']\n",
    "results_df_gam['mpaa_rating'] = X_test['mpaa_rating']\n",
    "results_df_gam['release_day'] = X_test['release_day']\n",
    "\n",
    "results_df_gam['predicted'] = results_df_gam['predicted'] / 1000000\n",
    "\n",
    "results_df_gam['actual'] = results_df_gam['actual'] / 1000000\n",
    "\n",
    "# results_df_gam.to_csv('gam_results.csv', index=False)\n",
    "import plotly.express as px\n",
    "import plotly.graph_objects as go\n",
    "\n",
    "# Create the scatter plot\n",
    "fig = px.scatter(\n",
    "    results_df_gam,\n",
    "    x='actual',\n",
    "    y='predicted',\n",
    "    color='mpaa_rating',\n",
    "    labels={\n",
    "        'actual': 'Actual Opening Weekend Revenue (Millions)',\n",
    "        'predicted': 'Predicted Opening Weekend Revenue (Millions)'\n",
    "    },\n",
    "    title='Actual vs Predicted Opening Weekend Revenue',\n",
    "    hover_name='title'\n",
    ")\n",
    "\n",
    "# Add the diagonal line\n",
    "fig.add_trace(\n",
    "    go.Scatter(\n",
    "        x=[0, 200],\n",
    "        y=[0, 200],\n",
    "        mode='lines',\n",
    "        line=dict(color='red'),\n",
    "        showlegend=False\n",
    "    )\n",
    ")\n",
    "\n",
    "# Show the plot\n",
    "fig.show()"
   ]
  },
  {
   "cell_type": "code",
   "execution_count": 30,
   "metadata": {},
   "outputs": [
    {
     "name": "stdout",
     "output_type": "stream",
     "text": [
      "                                       Results: Ordinary least squares\n",
      "=============================================================================================================\n",
      "Model:                           OLS                          Adj. R-squared (uncentered):         0.803     \n",
      "Dependent Variable:              opening_wide_revenue         AIC:                                 26972.1447\n",
      "Date:                            2024-11-02 17:42             BIC:                                 27004.3629\n",
      "No. Observations:                737                          Log-Likelihood:                      -13479.   \n",
      "Df Model:                        7                            F-statistic:                         430.2     \n",
      "Df Residuals:                    730                          Prob (F-statistic):                  3.94e-254 \n",
      "R-squared (uncentered):          0.805                        Scale:                               4.5435e+14\n",
      "-------------------------------------------------------------------------------------------------------------\n",
      "                                             Coef.       Std.Err.      t    P>|t|     [0.025        0.975]   \n",
      "-------------------------------------------------------------------------------------------------------------\n",
      "budget                                          0.1942       0.0183 10.6299 0.0000       0.1583        0.2300\n",
      "weighted_crew_median_box_office                 0.6540       0.1439  4.5444 0.0000       0.3714        0.9365\n",
      "weighted_cast_mean_box_office                   0.2685       0.0678  3.9605 0.0001       0.1354        0.4016\n",
      "wikipedia_pre_release_cumulative_views         18.9096       1.2214 15.4814 0.0000      16.5117       21.3076\n",
      "running_time                              -203849.9475   25969.2028 -7.8497 0.0000 -254833.1792  -152866.7158\n",
      "in_franchise                             10598508.9604 1786094.5994  5.9339 0.0000 7092014.1531 14105003.7678\n",
      "metacritic_before_wide_friday_calculated   124438.2280   46236.6018  2.6913 0.0073   33665.6541   215210.8019\n",
      "-------------------------------------------------------------------------------------------------------------\n",
      "Omnibus:                            351.128                    Durbin-Watson:                       1.894    \n",
      "Prob(Omnibus):                      0.000                      Jarque-Bera (JB):                    3346.357 \n",
      "Skew:                               1.910                      Prob(JB):                            0.000    \n",
      "Kurtosis:                           12.715                     Condition No.:                       217029229\n",
      "=============================================================================================================\n",
      "Notes:\n",
      "[1] R² is computed without centering (uncentered) since the                 model does not contain a\n",
      "constant.\n",
      "[2] Standard Errors assume that the covariance matrix of the errors is correctly specified.\n",
      "[3] The condition number is large, 2.17e+08. This might indicate                that there are strong\n",
      "multicollinearity or other numerical                problems.\n"
     ]
    }
   ],
   "source": [
    "relevant_features = [\n",
    "    \"budget\",\n",
    "    # \"director_median_box_office\",\n",
    "    # \"director_mean_box_office\",\n",
    "    \"weighted_crew_median_box_office\",\n",
    "    # \"weighted_crew_mean_box_office\",\n",
    "    \"weighted_cast_mean_box_office\",\n",
    "    \"wikipedia_pre_release_cumulative_views\",\n",
    "    # \"wikipedia_pre_release_monday_views\",\n",
    "    # \"wikipedia_pre_release_week_monday\",\n",
    "    # \"wikipedia_pre_release_three_monday\",\n",
    "    # \"genre_Horror\",\n",
    "    # \"mpaa_rating_PG-13\",\n",
    "    # \"mpaa_rating_R\",\n",
    "    # \"source_Original Screenplay\",\n",
    "    # \"production_method_Digital Animation\",\n",
    "    # \"distributor_slug_Sony-Pictures\",\n",
    "    # \"distributor_slug_Warner-Bros\",\n",
    "    \"running_time\",\n",
    "    # \"metacritic_score\",\n",
    "    \"in_franchise\",\n",
    "    # \"metacritic_review_count\",\n",
    "    # \"metacritic_score_calculated\",\n",
    "    # \"metacritic_monday_before_wide_friday_calculated\",\n",
    "    \"metacritic_before_wide_friday_calculated\",\n",
    "    # \"metacritic_before_first_day_calculated\"\n",
    "]\n",
    "\n",
    "# make an MLR with these features\n",
    "X_train_mlr = X_train_dummies[relevant_features]\n",
    "\n",
    "model_mlr = OLS(y_train, X_train_mlr)\n",
    "\n",
    "results_mlr = model_mlr.fit()\n",
    "\n",
    "print(results_mlr.summary2(float_format=millions))"
   ]
  },
  {
   "cell_type": "code",
   "execution_count": 31,
   "metadata": {},
   "outputs": [
    {
     "data": {
      "application/vnd.plotly.v1+json": {
       "config": {
        "plotlyServerURL": "https://plot.ly"
       },
       "data": [
        {
         "hovertemplate": "<b>%{hovertext}</b><br><br>mpaa_rating=PG-13<br>Actual Opening Weekend Revenue (Millions)=%{x}<br>Predicted Opening Weekend Revenue (Millions)=%{y}<extra></extra>",
         "hovertext": [
          "80 for Brady",
          "Ant-Man and the Wasp: Quantumania",
          "Jesus Revolution",
          "Creed III",
          "65",
          "Shazam! Fury of the Gods",
          "His Only Son",
          "Dungeons & Dragons: Honor Among Thieves",
          "Are You There God? It’s Me, Margaret",
          "Big George Foreman: The Miraculous Story of the Once and Future Heavyweight Champion of the World",
          "Guardians of the Galaxy Vol 3",
          "Fast X",
          "Transformers: Rise of the Beasts",
          "The Flash",
          "Indiana Jones and the Dial of Destiny",
          "Sound of Freedom",
          "Insidious: The Red Door",
          "Barbie",
          "Haunted Mansion",
          "Meg 2: The Trench",
          "Blue Beetle",
          "The Creator",
          "Five Nights at Freddy’s",
          "The Marvels",
          "Next Goal Wins",
          "The Hunger Games: The Ballad of Songbirds & Snakes",
          "Godzilla Minus One (ゴジラ最新作)",
          "Aquaman and the Lost Kingdom",
          "Mean Girls",
          "Argylle",
          "Madame Web",
          "Dune: Part Two",
          "Cabrini",
          "Imaginary",
          "Arthur the King",
          "Ghostbusters: Frozen Empire",
          "Godzilla x Kong: The New Empire",
          "Tarot",
          "The Fall Guy",
          "Kingdom of the Planet of the Apes",
          "The Watchers",
          "A Quiet Place: Day One",
          "Sound of Hope: The Story of Possum Trot",
          "Fly Me to the Moon",
          "Twisters",
          "It Ends With Us",
          "Reagan",
          "Beetlejuice Beetlejuice"
         ],
         "legendgroup": "PG-13",
         "marker": {
          "color": "#636efa",
          "symbol": "circle"
         },
         "mode": "markers",
         "name": "PG-13",
         "orientation": "v",
         "showlegend": true,
         "type": "scatter",
         "x": [
          12.70164,
          106.10965,
          15.882067,
          58.370007,
          12.328361,
          30.111158,
          5.50107,
          37.205784,
          6.739037,
          2.925364,
          118.414021,
          67.01741,
          61.045464,
          55.043679,
          60.368101,
          19.680879,
          33.013036,
          162.022044,
          24.082475,
          30.002735,
          25.030225,
          14.079512,
          80.00172,
          46.110859,
          2.500295,
          44.607143,
          11.419975,
          27.686211,
          28.635307,
          17.47354,
          15.33586,
          82.505391,
          7.16852,
          9.912713,
          7.633898,
          45.004673,
          80.006561,
          6.503012,
          27.747035,
          58.400788,
          7.003537,
          52.202495,
          3.078758,
          9.426615,
          81.251415,
          50.016652,
          7.65072,
          111.003345
         ],
         "xaxis": "x",
         "y": [
          6.45677416870803,
          112.07446435005035,
          -4.4897620308451645,
          38.96048571450279,
          27.88037502489584,
          47.200074885048984,
          -21.374456250236864,
          35.61446043675913,
          12.739513278188559,
          -4.148919965723683,
          104.30298305332039,
          114.75569535618376,
          86.08447031790764,
          98.48920351103597,
          135.29757337927077,
          -2.174698195299428,
          23.011746406651234,
          107.1751637226995,
          42.30575364213497,
          41.83692137644207,
          63.893246912357974,
          32.16851543896608,
          39.871451023848856,
          111.62592296564792,
          14.57784325817449,
          41.31639829971493,
          13.576195590413722,
          74.3695269978001,
          18.8526261771385,
          55.2405917129351,
          44.18997273620439,
          90.06331735078999,
          3.2987613033957315,
          27.58802519958539,
          0.13320123256434593,
          43.98887872790201,
          91.85438168631461,
          9.918267983558202,
          49.06769691631171,
          78.45383963122244,
          17.159798944586417,
          45.91413561089391,
          -7.9754474000631195,
          21.437823787842824,
          62.46503473923494,
          11.033162161470477,
          -0.8929929596978495,
          55.46091833977727
         ],
         "yaxis": "y"
        },
        {
         "hovertemplate": "<b>%{hovertext}</b><br><br>mpaa_rating=R<br>Actual Opening Weekend Revenue (Millions)=%{x}<br>Predicted Opening Weekend Revenue (Millions)=%{y}<extra></extra>",
         "hovertext": [
          "Knock at the Cabin",
          "Operation Fortune: Ruse de guerre",
          "Scream VI",
          "John Wick: Chapter 4",
          "Renfield",
          "The Pope’s Exorcist",
          "Beau is Afraid",
          "The Machine",
          "No Hard Feelings",
          "Oppenheimer",
          "Talk To Me",
          "The Last Voyage of the Demeter",
          "Strays",
          "Dumb Money",
          "Expend4bles",
          "Saw X",
          "The Exorcist: Believer",
          "Killers of the Flower Moon",
          "Priscilla",
          "Thanksgiving",
          "Napoleon",
          "American Fiction",
          "The Iron Claw",
          "Anyone But You",
          "Ferrari",
          "Civil War",
          "Abigail",
          "Challengers",
          "The Strangers: Chapter 1",
          "Furiosa: A Mad Max Saga",
          "Bad Boys: Ride or Die",
          "Horizon: An American Saga Chapter 1",
          "Deadpool & Wolverine",
          "Alien: Romulus",
          "The Crow",
          "Speak No Evil"
         ],
         "legendgroup": "R",
         "marker": {
          "color": "#EF553B",
          "symbol": "circle"
         },
         "mode": "markers",
         "name": "R",
         "orientation": "v",
         "showlegend": true,
         "type": "scatter",
         "x": [
          14.12717,
          3.140214,
          44.44727,
          73.81795,
          8.026475,
          9.006368,
          2.661957,
          5.000545,
          15.00277,
          82.45542,
          10.43172,
          6.50495,
          8.24781,
          3.325504,
          8.039021,
          18.309301,
          26.4976,
          23.253655,
          5.040003,
          10.306272,
          20.638887,
          1.755364,
          4.86837,
          6.000344,
          3.921773,
          25.537368,
          10.29711,
          15.011061,
          11.825058,
          26.326462,
          56.527324,
          11.052561,
          211.435291,
          42.003361,
          4.644666,
          11.397595
         ],
         "xaxis": "x",
         "y": [
          21.952653310962447,
          15.244508439980201,
          42.26663316793477,
          66.52803446903081,
          29.082305406503387,
          9.460735726812697,
          -2.405513256896982,
          -5.631068952015553,
          22.60731607006023,
          146.84369512831768,
          -9.797869473182969,
          14.033580034420382,
          23.221431353883226,
          6.260502714358871,
          35.574882446451554,
          20.09460452641598,
          22.75596039694535,
          69.39436033460206,
          2.629544846897252,
          21.148257390498944,
          57.96716308394629,
          31.306200790320872,
          14.288752495417077,
          10.072524609030117,
          22.09410311374996,
          17.50926334815239,
          21.14277296328146,
          35.54063333631185,
          22.11034236140003,
          60.36388928784766,
          37.31074672099479,
          -5.958182647065435,
          111.32071892612632,
          51.26106747515712,
          11.891800071891938,
          14.945647418192157
         ],
         "yaxis": "y"
        },
        {
         "hovertemplate": "<b>%{hovertext}</b><br><br>mpaa_rating=PG<br>Actual Opening Weekend Revenue (Millions)=%{x}<br>Predicted Opening Weekend Revenue (Millions)=%{y}<extra></extra>",
         "hovertext": [
          "The Super Mario Bros. Movie",
          "The Little Mermaid",
          "Spider-Man: Across the Spider-Verse",
          "Elemental",
          "Ruby Gillman, Teenage Kraken",
          "Teenage Mutant Ninja Turtles: Mutant Mayhem",
          "PAW Patrol: The Mighty Movie",
          "Journey to Bethlehem",
          "Trolls Band Together",
          "Wish",
          "Wonka",
          "Migration",
          "Kung Fu Panda 4",
          "Unsung Hero",
          "IF",
          "The Garfield Movie",
          "Inside Out 2",
          "Despicable Me 4",
          "Harold and the Purple Crayon"
         ],
         "legendgroup": "PG",
         "marker": {
          "color": "#00cc96",
          "symbol": "circle"
         },
         "mode": "markers",
         "name": "PG",
         "orientation": "v",
         "showlegend": true,
         "type": "scatter",
         "x": [
          146.361865,
          95.57804,
          120.663589,
          29.602429,
          5.50099,
          28.007544,
          22.764354,
          2.400446,
          30.002525,
          19.698228,
          39.0058,
          12.453275,
          57.989905,
          7.731539,
          33.715801,
          24.006629,
          154.201673,
          75.00921,
          6.003197
         ],
         "xaxis": "x",
         "y": [
          69.16657492806715,
          89.09902938212923,
          65.0358411363307,
          72.95998712416474,
          28.56526447361655,
          19.630171517848723,
          25.228769808636265,
          0.38855534033249367,
          67.36538505823644,
          83.82045404938634,
          71.53064694348659,
          28.374693977811404,
          58.182494855156506,
          -4.714259818483164,
          41.21916987807342,
          35.35431898416423,
          107.87776177464708,
          63.98669967440372,
          17.523153726986006
         ],
         "yaxis": "y"
        },
        {
         "line": {
          "color": "red"
         },
         "mode": "lines",
         "showlegend": false,
         "type": "scatter",
         "x": [
          0,
          200
         ],
         "y": [
          0,
          200
         ]
        }
       ],
       "layout": {
        "legend": {
         "title": {
          "text": "mpaa_rating"
         },
         "tracegroupgap": 0
        },
        "template": {
         "data": {
          "bar": [
           {
            "error_x": {
             "color": "#2a3f5f"
            },
            "error_y": {
             "color": "#2a3f5f"
            },
            "marker": {
             "line": {
              "color": "#E5ECF6",
              "width": 0.5
             },
             "pattern": {
              "fillmode": "overlay",
              "size": 10,
              "solidity": 0.2
             }
            },
            "type": "bar"
           }
          ],
          "barpolar": [
           {
            "marker": {
             "line": {
              "color": "#E5ECF6",
              "width": 0.5
             },
             "pattern": {
              "fillmode": "overlay",
              "size": 10,
              "solidity": 0.2
             }
            },
            "type": "barpolar"
           }
          ],
          "carpet": [
           {
            "aaxis": {
             "endlinecolor": "#2a3f5f",
             "gridcolor": "white",
             "linecolor": "white",
             "minorgridcolor": "white",
             "startlinecolor": "#2a3f5f"
            },
            "baxis": {
             "endlinecolor": "#2a3f5f",
             "gridcolor": "white",
             "linecolor": "white",
             "minorgridcolor": "white",
             "startlinecolor": "#2a3f5f"
            },
            "type": "carpet"
           }
          ],
          "choropleth": [
           {
            "colorbar": {
             "outlinewidth": 0,
             "ticks": ""
            },
            "type": "choropleth"
           }
          ],
          "contour": [
           {
            "colorbar": {
             "outlinewidth": 0,
             "ticks": ""
            },
            "colorscale": [
             [
              0,
              "#0d0887"
             ],
             [
              0.1111111111111111,
              "#46039f"
             ],
             [
              0.2222222222222222,
              "#7201a8"
             ],
             [
              0.3333333333333333,
              "#9c179e"
             ],
             [
              0.4444444444444444,
              "#bd3786"
             ],
             [
              0.5555555555555556,
              "#d8576b"
             ],
             [
              0.6666666666666666,
              "#ed7953"
             ],
             [
              0.7777777777777778,
              "#fb9f3a"
             ],
             [
              0.8888888888888888,
              "#fdca26"
             ],
             [
              1,
              "#f0f921"
             ]
            ],
            "type": "contour"
           }
          ],
          "contourcarpet": [
           {
            "colorbar": {
             "outlinewidth": 0,
             "ticks": ""
            },
            "type": "contourcarpet"
           }
          ],
          "heatmap": [
           {
            "colorbar": {
             "outlinewidth": 0,
             "ticks": ""
            },
            "colorscale": [
             [
              0,
              "#0d0887"
             ],
             [
              0.1111111111111111,
              "#46039f"
             ],
             [
              0.2222222222222222,
              "#7201a8"
             ],
             [
              0.3333333333333333,
              "#9c179e"
             ],
             [
              0.4444444444444444,
              "#bd3786"
             ],
             [
              0.5555555555555556,
              "#d8576b"
             ],
             [
              0.6666666666666666,
              "#ed7953"
             ],
             [
              0.7777777777777778,
              "#fb9f3a"
             ],
             [
              0.8888888888888888,
              "#fdca26"
             ],
             [
              1,
              "#f0f921"
             ]
            ],
            "type": "heatmap"
           }
          ],
          "heatmapgl": [
           {
            "colorbar": {
             "outlinewidth": 0,
             "ticks": ""
            },
            "colorscale": [
             [
              0,
              "#0d0887"
             ],
             [
              0.1111111111111111,
              "#46039f"
             ],
             [
              0.2222222222222222,
              "#7201a8"
             ],
             [
              0.3333333333333333,
              "#9c179e"
             ],
             [
              0.4444444444444444,
              "#bd3786"
             ],
             [
              0.5555555555555556,
              "#d8576b"
             ],
             [
              0.6666666666666666,
              "#ed7953"
             ],
             [
              0.7777777777777778,
              "#fb9f3a"
             ],
             [
              0.8888888888888888,
              "#fdca26"
             ],
             [
              1,
              "#f0f921"
             ]
            ],
            "type": "heatmapgl"
           }
          ],
          "histogram": [
           {
            "marker": {
             "pattern": {
              "fillmode": "overlay",
              "size": 10,
              "solidity": 0.2
             }
            },
            "type": "histogram"
           }
          ],
          "histogram2d": [
           {
            "colorbar": {
             "outlinewidth": 0,
             "ticks": ""
            },
            "colorscale": [
             [
              0,
              "#0d0887"
             ],
             [
              0.1111111111111111,
              "#46039f"
             ],
             [
              0.2222222222222222,
              "#7201a8"
             ],
             [
              0.3333333333333333,
              "#9c179e"
             ],
             [
              0.4444444444444444,
              "#bd3786"
             ],
             [
              0.5555555555555556,
              "#d8576b"
             ],
             [
              0.6666666666666666,
              "#ed7953"
             ],
             [
              0.7777777777777778,
              "#fb9f3a"
             ],
             [
              0.8888888888888888,
              "#fdca26"
             ],
             [
              1,
              "#f0f921"
             ]
            ],
            "type": "histogram2d"
           }
          ],
          "histogram2dcontour": [
           {
            "colorbar": {
             "outlinewidth": 0,
             "ticks": ""
            },
            "colorscale": [
             [
              0,
              "#0d0887"
             ],
             [
              0.1111111111111111,
              "#46039f"
             ],
             [
              0.2222222222222222,
              "#7201a8"
             ],
             [
              0.3333333333333333,
              "#9c179e"
             ],
             [
              0.4444444444444444,
              "#bd3786"
             ],
             [
              0.5555555555555556,
              "#d8576b"
             ],
             [
              0.6666666666666666,
              "#ed7953"
             ],
             [
              0.7777777777777778,
              "#fb9f3a"
             ],
             [
              0.8888888888888888,
              "#fdca26"
             ],
             [
              1,
              "#f0f921"
             ]
            ],
            "type": "histogram2dcontour"
           }
          ],
          "mesh3d": [
           {
            "colorbar": {
             "outlinewidth": 0,
             "ticks": ""
            },
            "type": "mesh3d"
           }
          ],
          "parcoords": [
           {
            "line": {
             "colorbar": {
              "outlinewidth": 0,
              "ticks": ""
             }
            },
            "type": "parcoords"
           }
          ],
          "pie": [
           {
            "automargin": true,
            "type": "pie"
           }
          ],
          "scatter": [
           {
            "fillpattern": {
             "fillmode": "overlay",
             "size": 10,
             "solidity": 0.2
            },
            "type": "scatter"
           }
          ],
          "scatter3d": [
           {
            "line": {
             "colorbar": {
              "outlinewidth": 0,
              "ticks": ""
             }
            },
            "marker": {
             "colorbar": {
              "outlinewidth": 0,
              "ticks": ""
             }
            },
            "type": "scatter3d"
           }
          ],
          "scattercarpet": [
           {
            "marker": {
             "colorbar": {
              "outlinewidth": 0,
              "ticks": ""
             }
            },
            "type": "scattercarpet"
           }
          ],
          "scattergeo": [
           {
            "marker": {
             "colorbar": {
              "outlinewidth": 0,
              "ticks": ""
             }
            },
            "type": "scattergeo"
           }
          ],
          "scattergl": [
           {
            "marker": {
             "colorbar": {
              "outlinewidth": 0,
              "ticks": ""
             }
            },
            "type": "scattergl"
           }
          ],
          "scattermapbox": [
           {
            "marker": {
             "colorbar": {
              "outlinewidth": 0,
              "ticks": ""
             }
            },
            "type": "scattermapbox"
           }
          ],
          "scatterpolar": [
           {
            "marker": {
             "colorbar": {
              "outlinewidth": 0,
              "ticks": ""
             }
            },
            "type": "scatterpolar"
           }
          ],
          "scatterpolargl": [
           {
            "marker": {
             "colorbar": {
              "outlinewidth": 0,
              "ticks": ""
             }
            },
            "type": "scatterpolargl"
           }
          ],
          "scatterternary": [
           {
            "marker": {
             "colorbar": {
              "outlinewidth": 0,
              "ticks": ""
             }
            },
            "type": "scatterternary"
           }
          ],
          "surface": [
           {
            "colorbar": {
             "outlinewidth": 0,
             "ticks": ""
            },
            "colorscale": [
             [
              0,
              "#0d0887"
             ],
             [
              0.1111111111111111,
              "#46039f"
             ],
             [
              0.2222222222222222,
              "#7201a8"
             ],
             [
              0.3333333333333333,
              "#9c179e"
             ],
             [
              0.4444444444444444,
              "#bd3786"
             ],
             [
              0.5555555555555556,
              "#d8576b"
             ],
             [
              0.6666666666666666,
              "#ed7953"
             ],
             [
              0.7777777777777778,
              "#fb9f3a"
             ],
             [
              0.8888888888888888,
              "#fdca26"
             ],
             [
              1,
              "#f0f921"
             ]
            ],
            "type": "surface"
           }
          ],
          "table": [
           {
            "cells": {
             "fill": {
              "color": "#EBF0F8"
             },
             "line": {
              "color": "white"
             }
            },
            "header": {
             "fill": {
              "color": "#C8D4E3"
             },
             "line": {
              "color": "white"
             }
            },
            "type": "table"
           }
          ]
         },
         "layout": {
          "annotationdefaults": {
           "arrowcolor": "#2a3f5f",
           "arrowhead": 0,
           "arrowwidth": 1
          },
          "autotypenumbers": "strict",
          "coloraxis": {
           "colorbar": {
            "outlinewidth": 0,
            "ticks": ""
           }
          },
          "colorscale": {
           "diverging": [
            [
             0,
             "#8e0152"
            ],
            [
             0.1,
             "#c51b7d"
            ],
            [
             0.2,
             "#de77ae"
            ],
            [
             0.3,
             "#f1b6da"
            ],
            [
             0.4,
             "#fde0ef"
            ],
            [
             0.5,
             "#f7f7f7"
            ],
            [
             0.6,
             "#e6f5d0"
            ],
            [
             0.7,
             "#b8e186"
            ],
            [
             0.8,
             "#7fbc41"
            ],
            [
             0.9,
             "#4d9221"
            ],
            [
             1,
             "#276419"
            ]
           ],
           "sequential": [
            [
             0,
             "#0d0887"
            ],
            [
             0.1111111111111111,
             "#46039f"
            ],
            [
             0.2222222222222222,
             "#7201a8"
            ],
            [
             0.3333333333333333,
             "#9c179e"
            ],
            [
             0.4444444444444444,
             "#bd3786"
            ],
            [
             0.5555555555555556,
             "#d8576b"
            ],
            [
             0.6666666666666666,
             "#ed7953"
            ],
            [
             0.7777777777777778,
             "#fb9f3a"
            ],
            [
             0.8888888888888888,
             "#fdca26"
            ],
            [
             1,
             "#f0f921"
            ]
           ],
           "sequentialminus": [
            [
             0,
             "#0d0887"
            ],
            [
             0.1111111111111111,
             "#46039f"
            ],
            [
             0.2222222222222222,
             "#7201a8"
            ],
            [
             0.3333333333333333,
             "#9c179e"
            ],
            [
             0.4444444444444444,
             "#bd3786"
            ],
            [
             0.5555555555555556,
             "#d8576b"
            ],
            [
             0.6666666666666666,
             "#ed7953"
            ],
            [
             0.7777777777777778,
             "#fb9f3a"
            ],
            [
             0.8888888888888888,
             "#fdca26"
            ],
            [
             1,
             "#f0f921"
            ]
           ]
          },
          "colorway": [
           "#636efa",
           "#EF553B",
           "#00cc96",
           "#ab63fa",
           "#FFA15A",
           "#19d3f3",
           "#FF6692",
           "#B6E880",
           "#FF97FF",
           "#FECB52"
          ],
          "font": {
           "color": "#2a3f5f"
          },
          "geo": {
           "bgcolor": "white",
           "lakecolor": "white",
           "landcolor": "#E5ECF6",
           "showlakes": true,
           "showland": true,
           "subunitcolor": "white"
          },
          "hoverlabel": {
           "align": "left"
          },
          "hovermode": "closest",
          "mapbox": {
           "style": "light"
          },
          "paper_bgcolor": "white",
          "plot_bgcolor": "#E5ECF6",
          "polar": {
           "angularaxis": {
            "gridcolor": "white",
            "linecolor": "white",
            "ticks": ""
           },
           "bgcolor": "#E5ECF6",
           "radialaxis": {
            "gridcolor": "white",
            "linecolor": "white",
            "ticks": ""
           }
          },
          "scene": {
           "xaxis": {
            "backgroundcolor": "#E5ECF6",
            "gridcolor": "white",
            "gridwidth": 2,
            "linecolor": "white",
            "showbackground": true,
            "ticks": "",
            "zerolinecolor": "white"
           },
           "yaxis": {
            "backgroundcolor": "#E5ECF6",
            "gridcolor": "white",
            "gridwidth": 2,
            "linecolor": "white",
            "showbackground": true,
            "ticks": "",
            "zerolinecolor": "white"
           },
           "zaxis": {
            "backgroundcolor": "#E5ECF6",
            "gridcolor": "white",
            "gridwidth": 2,
            "linecolor": "white",
            "showbackground": true,
            "ticks": "",
            "zerolinecolor": "white"
           }
          },
          "shapedefaults": {
           "line": {
            "color": "#2a3f5f"
           }
          },
          "ternary": {
           "aaxis": {
            "gridcolor": "white",
            "linecolor": "white",
            "ticks": ""
           },
           "baxis": {
            "gridcolor": "white",
            "linecolor": "white",
            "ticks": ""
           },
           "bgcolor": "#E5ECF6",
           "caxis": {
            "gridcolor": "white",
            "linecolor": "white",
            "ticks": ""
           }
          },
          "title": {
           "x": 0.05
          },
          "xaxis": {
           "automargin": true,
           "gridcolor": "white",
           "linecolor": "white",
           "ticks": "",
           "title": {
            "standoff": 15
           },
           "zerolinecolor": "white",
           "zerolinewidth": 2
          },
          "yaxis": {
           "automargin": true,
           "gridcolor": "white",
           "linecolor": "white",
           "ticks": "",
           "title": {
            "standoff": 15
           },
           "zerolinecolor": "white",
           "zerolinewidth": 2
          }
         }
        },
        "title": {
         "text": "Actual vs Predicted Opening Weekend Revenue"
        },
        "xaxis": {
         "anchor": "y",
         "domain": [
          0,
          1
         ],
         "title": {
          "text": "Actual Opening Weekend Revenue (Millions)"
         }
        },
        "yaxis": {
         "anchor": "x",
         "domain": [
          0,
          1
         ],
         "title": {
          "text": "Predicted Opening Weekend Revenue (Millions)"
         }
        }
       }
      }
     },
     "metadata": {},
     "output_type": "display_data"
    }
   ],
   "source": [
    "# graph actual vs predicted\n",
    "y_pred_mlr = results_mlr.predict(X_test[relevant_features])\n",
    "\n",
    "results_df_mlr = pd.DataFrame({'predicted': y_pred_mlr, 'actual': y_test})\n",
    "\n",
    "results_df_mlr['predicted'] = results_df_mlr['predicted'] / 1000000\n",
    "results_df_mlr['actual'] = results_df_mlr['actual'] / 1000000\n",
    "results_df_mlr['title'] = X_test['title']\n",
    "results_df_mlr['source'] = X_test['source']\n",
    "results_df_mlr['distributor_slug'] = X_test['distributor_slug']\n",
    "results_df_mlr['genre'] = X_test['genre']\n",
    "results_df_mlr['creative_type'] = X_test['creative_type']\n",
    "results_df_mlr['production_method'] = X_test['production_method']\n",
    "results_df_mlr['mpaa_rating'] = X_test['mpaa_rating']\n",
    "\n",
    "# results_df_mlr.to_csv('mlr_results.csv', index=False)\n",
    "\n",
    "# Create the scatter plot\n",
    "fig = px.scatter(\n",
    "    results_df_mlr,\n",
    "    x='actual',\n",
    "    y='predicted',\n",
    "    color='mpaa_rating',\n",
    "    labels={\n",
    "        'actual': 'Actual Opening Weekend Revenue (Millions)',\n",
    "        'predicted': 'Predicted Opening Weekend Revenue (Millions)'\n",
    "    },\n",
    "    title='Actual vs Predicted Opening Weekend Revenue',\n",
    "    hover_name='title'\n",
    ")\n",
    "\n",
    "# Add the diagonal line\n",
    "fig.add_trace(\n",
    "    go.Scatter(\n",
    "        x=[0, 200],\n",
    "        y=[0, 200],\n",
    "        mode='lines',\n",
    "        line=dict(color='red'),\n",
    "        showlegend=False\n",
    "    )\n",
    ")\n",
    "\n",
    "# Show the plot\n",
    "fig.show()"
   ]
  },
  {
   "cell_type": "code",
   "execution_count": 87,
   "metadata": {},
   "outputs": [
    {
     "name": "stdout",
     "output_type": "stream",
     "text": [
      "RMSE: 26340176.846463595\n",
      "                  Generalized Linear Model Regression Results                   \n",
      "================================================================================\n",
      "Dep. Variable:     opening_wide_revenue   No. Observations:                  737\n",
      "Model:                              GLM   Df Residuals:                      730\n",
      "Model Family:                  Gaussian   Df Model:                            6\n",
      "Link Function:                 Identity   Scale:                      4.3406e+14\n",
      "Method:                            IRLS   Log-Likelihood:                -13462.\n",
      "Date:                  Sat, 02 Nov 2024   Deviance:                   3.1686e+17\n",
      "Time:                          17:56:22   Pearson chi2:                 3.17e+17\n",
      "No. Iterations:                       3   Pseudo R-squ. (CS):             0.9221\n",
      "Covariance Type:              nonrobust                                         \n",
      "=======================================================================================================================\n",
      "                                                          coef    std err          z      P>|z|      [0.025      0.975]\n",
      "-----------------------------------------------------------------------------------------------------------------------\n",
      "budget                                                  0.1927      0.018     10.822      0.000       0.158       0.228\n",
      "weighted_crew_median_box_office                         0.6392      0.140      4.552      0.000       0.364       0.914\n",
      "weighted_cast_mean_box_office                           0.2942      0.066      4.453      0.000       0.165       0.424\n",
      "wikipedia_pre_release_cumulative_views                  2.7496      2.359      1.166      0.244      -1.874       7.373\n",
      "metacritic_before_wide_friday_calculated             1.696e+05   4.56e+04      3.717      0.000    8.02e+04    2.59e+05\n",
      "in_franchise:wikipedia_pre_release_cumulative_views    18.7481      2.225      8.425      0.000      14.387      23.110\n",
      "running_time                                        -1.687e+05   2.56e+04     -6.603      0.000   -2.19e+05   -1.19e+05\n",
      "=======================================================================================================================\n"
     ]
    }
   ],
   "source": [
    "# glm with metacritic interactions\n",
    "from statsmodels.api import GLM\n",
    "import statsmodels.formula.api as smf\n",
    "\n",
    "# combine x train and y train\n",
    "glm_df = X_train_dummies.copy()\n",
    "glm_df[\"opening_wide_revenue\"] = y_train\n",
    "\n",
    "formula = \"opening_wide_revenue ~ 0 + budget + weighted_crew_median_box_office + weighted_cast_mean_box_office + wikipedia_pre_release_cumulative_views + metacritic_before_wide_friday_calculated + in_franchise : wikipedia_pre_release_cumulative_views + running_time\"\n",
    "\n",
    "# \"metacritic_review_count\",\n",
    "    # \"metacritic_score_calculated\",\n",
    "    # \"metacritic_monday_before_wide_friday_calculated\",\n",
    "    # \"metacritic_before_wide_friday_calculated\",\n",
    "    # \"metacritic_before_first_day_calculated\"\n",
    "\n",
    "# add in the interactions\n",
    "model = smf.glm(formula=formula, data=glm_df).fit()\n",
    "\n",
    "pred_glm = model.predict(X_test)\n",
    "\n",
    "print('RMSE:', root_mean_squared_error(y_test, pred_glm))\n",
    "print(model.summary())"
   ]
  },
  {
   "cell_type": "code",
   "execution_count": 88,
   "metadata": {},
   "outputs": [
    {
     "data": {
      "application/vnd.plotly.v1+json": {
       "config": {
        "plotlyServerURL": "https://plot.ly"
       },
       "data": [
        {
         "hovertemplate": "<b>%{hovertext}</b><br><br>distributor_slug=Paramount-Pictures<br>Actual Opening Weekend Revenue (Millions)=%{x}<br>Predicted Opening Weekend Revenue (Millions)=%{y}<extra></extra>",
         "hovertext": [
          "80 for Brady",
          "Scream VI",
          "Dungeons & Dragons: Honor Among Thieves",
          "Transformers: Rise of the Beasts",
          "Teenage Mutant Ninja Turtles: Mutant Mayhem",
          "PAW Patrol: The Mighty Movie",
          "Killers of the Flower Moon",
          "Mean Girls",
          "IF",
          "A Quiet Place: Day One"
         ],
         "legendgroup": "Paramount-Pictures",
         "marker": {
          "color": "#636efa",
          "symbol": "circle"
         },
         "mode": "markers",
         "name": "Paramount-Pictures",
         "orientation": "v",
         "showlegend": true,
         "type": "scatter",
         "x": [
          12.70164,
          44.44727,
          37.205784,
          61.045464,
          28.007544,
          22.764354,
          23.253655,
          28.635307,
          33.715801,
          52.202495
         ],
         "xaxis": "x",
         "y": [
          5.49178624891591,
          42.81753318023122,
          30.09802872283455,
          87.7272924496864,
          15.740707672344874,
          21.2783407808154,
          38.67048122382693,
          11.832021221185771,
          34.66390258601701,
          44.42190330853775
         ],
         "yaxis": "y"
        },
        {
         "hovertemplate": "<b>%{hovertext}</b><br><br>distributor_slug=Universal<br>Actual Opening Weekend Revenue (Millions)=%{x}<br>Predicted Opening Weekend Revenue (Millions)=%{y}<extra></extra>",
         "hovertext": [
          "Knock at the Cabin",
          "The Super Mario Bros. Movie",
          "Renfield",
          "Fast X",
          "Ruby Gillman, Teenage Kraken",
          "Oppenheimer",
          "The Last Voyage of the Demeter",
          "Strays",
          "The Exorcist: Believer",
          "Five Nights at Freddy’s",
          "Trolls Band Together",
          "Migration",
          "Argylle",
          "Kung Fu Panda 4",
          "Abigail",
          "The Fall Guy",
          "Despicable Me 4",
          "Twisters",
          "Speak No Evil"
         ],
         "legendgroup": "Universal",
         "marker": {
          "color": "#EF553B",
          "symbol": "circle"
         },
         "mode": "markers",
         "name": "Universal",
         "orientation": "v",
         "showlegend": true,
         "type": "scatter",
         "x": [
          14.12717,
          146.361865,
          8.026475,
          67.01741,
          5.50099,
          82.45542,
          6.50495,
          8.24781,
          26.4976,
          80.00172,
          30.002525,
          12.453275,
          17.47354,
          57.989905,
          10.29711,
          27.747035,
          75.00921,
          81.251415,
          11.397595
         ],
         "xaxis": "x",
         "y": [
          10.930923381204815,
          68.057844873076,
          25.372202611787294,
          117.74529053940131,
          25.86820708507491,
          45.75997099879001,
          12.118089105826922,
          24.27703283351991,
          20.310405587926404,
          38.2477179696407,
          64.06594057926765,
          27.60293686788562,
          42.22826793057707,
          56.43313630563533,
          14.923646374733952,
          37.18339495183079,
          62.04065463004559,
          62.341226824624655,
          7.558829108714937
         ],
         "yaxis": "y"
        },
        {
         "hovertemplate": "<b>%{hovertext}</b><br><br>distributor_slug=Walt-Disney<br>Actual Opening Weekend Revenue (Millions)=%{x}<br>Predicted Opening Weekend Revenue (Millions)=%{y}<extra></extra>",
         "hovertext": [
          "Ant-Man and the Wasp: Quantumania",
          "Guardians of the Galaxy Vol 3",
          "The Little Mermaid",
          "Elemental",
          "Indiana Jones and the Dial of Destiny",
          "Haunted Mansion",
          "The Marvels",
          "Wish",
          "Inside Out 2",
          "Deadpool & Wolverine"
         ],
         "legendgroup": "Walt-Disney",
         "marker": {
          "color": "#00cc96",
          "symbol": "circle"
         },
         "mode": "markers",
         "name": "Walt-Disney",
         "orientation": "v",
         "showlegend": true,
         "type": "scatter",
         "x": [
          106.10965,
          118.414021,
          95.57804,
          29.602429,
          60.368101,
          24.082475,
          46.110859,
          19.698228,
          154.201673,
          211.435291
         ],
         "xaxis": "x",
         "y": [
          115.39539111438799,
          107.62471753678062,
          90.547906509487,
          67.29140416642622,
          138.53766328794788,
          40.07692337498215,
          111.86350743340512,
          72.1681578076344,
          107.98098672333529,
          116.1848367527285
         ],
         "yaxis": "y"
        },
        {
         "hovertemplate": "<b>%{hovertext}</b><br><br>distributor_slug=Lionsgate<br>Actual Opening Weekend Revenue (Millions)=%{x}<br>Predicted Opening Weekend Revenue (Millions)=%{y}<extra></extra>",
         "hovertext": [
          "Jesus Revolution",
          "Operation Fortune: Ruse de guerre",
          "John Wick: Chapter 4",
          "Are You There God? It’s Me, Margaret",
          "Expend4bles",
          "Saw X",
          "The Hunger Games: The Ballad of Songbirds & Snakes",
          "Imaginary",
          "Arthur the King",
          "Unsung Hero",
          "The Strangers: Chapter 1",
          "The Crow"
         ],
         "legendgroup": "Lionsgate",
         "marker": {
          "color": "#ab63fa",
          "symbol": "circle"
         },
         "mode": "markers",
         "name": "Lionsgate",
         "orientation": "v",
         "showlegend": true,
         "type": "scatter",
         "x": [
          15.882067,
          3.140214,
          73.81795,
          6.739037,
          8.039021,
          18.309301,
          44.607143,
          9.912713,
          7.633898,
          7.731539,
          11.825058,
          4.644666
         ],
         "xaxis": "x",
         "y": [
          -0.67990734201999,
          13.779366621753734,
          72.21556920479394,
          20.794305158835655,
          32.404632329587734,
          18.92316208262888,
          41.28246941787732,
          30.847033564580364,
          3.0419577102744078,
          -0.549395397324605,
          18.82715634324796,
          11.263935706738522
         ],
         "yaxis": "y"
        },
        {
         "hovertemplate": "<b>%{hovertext}</b><br><br>distributor_slug=MGM<br>Actual Opening Weekend Revenue (Millions)=%{x}<br>Predicted Opening Weekend Revenue (Millions)=%{y}<extra></extra>",
         "hovertext": [
          "Creed III"
         ],
         "legendgroup": "MGM",
         "marker": {
          "color": "#FFA15A",
          "symbol": "circle"
         },
         "mode": "markers",
         "name": "MGM",
         "orientation": "v",
         "showlegend": true,
         "type": "scatter",
         "x": [
          58.370007
         ],
         "xaxis": "x",
         "y": [
          38.30948201746609
         ],
         "yaxis": "y"
        },
        {
         "hovertemplate": "<b>%{hovertext}</b><br><br>distributor_slug=Sony-Pictures<br>Actual Opening Weekend Revenue (Millions)=%{x}<br>Predicted Opening Weekend Revenue (Millions)=%{y}<extra></extra>",
         "hovertext": [
          "65",
          "The Pope’s Exorcist",
          "Big George Foreman: The Miraculous Story of the Once and Future Heavyweight Champion of the World",
          "The Machine",
          "Spider-Man: Across the Spider-Verse",
          "No Hard Feelings",
          "Insidious: The Red Door",
          "Dumb Money",
          "Journey to Bethlehem",
          "Thanksgiving",
          "Napoleon",
          "Anyone But You",
          "Madame Web",
          "Ghostbusters: Frozen Empire",
          "Tarot",
          "The Garfield Movie",
          "Bad Boys: Ride or Die",
          "Fly Me to the Moon",
          "Harold and the Purple Crayon",
          "It Ends With Us"
         ],
         "legendgroup": "Sony-Pictures",
         "marker": {
          "color": "#19d3f3",
          "symbol": "circle"
         },
         "mode": "markers",
         "name": "Sony-Pictures",
         "orientation": "v",
         "showlegend": true,
         "type": "scatter",
         "x": [
          12.328361,
          9.006368,
          2.925364,
          5.000545,
          120.663589,
          15.00277,
          33.013036,
          3.325504,
          2.400446,
          10.306272,
          20.638887,
          6.000344,
          15.33586,
          45.004673,
          6.503012,
          24.006629,
          56.527324,
          9.426615,
          6.003197,
          50.016652
         ],
         "xaxis": "x",
         "y": [
          23.48066267098444,
          3.696978637795387,
          1.4471410014645867,
          -4.059587763433177,
          68.15143960445381,
          15.006846567914353,
          21.142877632229848,
          9.042808873463466,
          5.910173185870433,
          19.197059323972905,
          40.196565095667395,
          11.52948211277131,
          42.921528127494256,
          41.96733704771621,
          16.761309235655233,
          32.350908379064045,
          34.9184760311996,
          20.188803385027825,
          20.65776147271245,
          9.83334349531985
         ],
         "yaxis": "y"
        },
        {
         "hovertemplate": "<b>%{hovertext}</b><br><br>distributor_slug=Warner-Bros<br>Actual Opening Weekend Revenue (Millions)=%{x}<br>Predicted Opening Weekend Revenue (Millions)=%{y}<extra></extra>",
         "hovertext": [
          "Shazam! Fury of the Gods",
          "The Flash",
          "Barbie",
          "Meg 2: The Trench",
          "Blue Beetle",
          "Wonka",
          "Aquaman and the Lost Kingdom",
          "Dune: Part Two",
          "Godzilla x Kong: The New Empire",
          "Furiosa: A Mad Max Saga",
          "The Watchers",
          "Horizon: An American Saga Chapter 1",
          "Beetlejuice Beetlejuice"
         ],
         "legendgroup": "Warner-Bros",
         "marker": {
          "color": "#FF6692",
          "symbol": "circle"
         },
         "mode": "markers",
         "name": "Warner-Bros",
         "orientation": "v",
         "showlegend": true,
         "type": "scatter",
         "x": [
          30.111158,
          55.043679,
          162.022044,
          30.002735,
          25.030225,
          39.0058,
          27.686211,
          82.505391,
          80.006561,
          26.326462,
          7.003537,
          11.052561,
          111.003345
         ],
         "xaxis": "x",
         "y": [
          46.26930011840169,
          103.2657803494684,
          113.8984771984742,
          39.57475847257296,
          64.69158661704547,
          72.87923486734391,
          74.55077211126502,
          95.74682451342734,
          94.90931725325522,
          61.992729356736966,
          14.020254435788427,
          1.4506712153504304,
          56.96502328445929
         ],
         "yaxis": "y"
        },
        {
         "hovertemplate": "<b>%{hovertext}</b><br><br>distributor_slug=Angel-Studios<br>Actual Opening Weekend Revenue (Millions)=%{x}<br>Predicted Opening Weekend Revenue (Millions)=%{y}<extra></extra>",
         "hovertext": [
          "His Only Son",
          "Sound of Freedom",
          "Cabrini",
          "Sound of Hope: The Story of Possum Trot"
         ],
         "legendgroup": "Angel-Studios",
         "marker": {
          "color": "#B6E880",
          "symbol": "circle"
         },
         "mode": "markers",
         "name": "Angel-Studios",
         "orientation": "v",
         "showlegend": true,
         "type": "scatter",
         "x": [
          5.50107,
          19.680879,
          7.16852,
          3.078758
         ],
         "xaxis": "x",
         "y": [
          -17.68887153885292,
          0.4609102895281222,
          11.328522665057246,
          -4.230845082420855
         ],
         "yaxis": "y"
        },
        {
         "hovertemplate": "<b>%{hovertext}</b><br><br>distributor_slug=A24<br>Actual Opening Weekend Revenue (Millions)=%{x}<br>Predicted Opening Weekend Revenue (Millions)=%{y}<extra></extra>",
         "hovertext": [
          "Beau is Afraid",
          "Talk To Me",
          "Priscilla",
          "The Iron Claw",
          "Civil War"
         ],
         "legendgroup": "A24",
         "marker": {
          "color": "#FF97FF",
          "symbol": "circle"
         },
         "mode": "markers",
         "name": "A24",
         "orientation": "v",
         "showlegend": true,
         "type": "scatter",
         "x": [
          2.661957,
          10.43172,
          5.040003,
          4.86837,
          25.537368
         ],
         "xaxis": "x",
         "y": [
          0.9751263282085806,
          -13.801178370911387,
          4.697829457901816,
          6.173552296955552,
          14.451726421023682
         ],
         "yaxis": "y"
        },
        {
         "hovertemplate": "<b>%{hovertext}</b><br><br>distributor_slug=20th-Century-Studios<br>Actual Opening Weekend Revenue (Millions)=%{x}<br>Predicted Opening Weekend Revenue (Millions)=%{y}<extra></extra>",
         "hovertext": [
          "The Creator",
          "Kingdom of the Planet of the Apes",
          "Alien: Romulus"
         ],
         "legendgroup": "20th-Century-Studios",
         "marker": {
          "color": "#FECB52",
          "symbol": "circle"
         },
         "mode": "markers",
         "name": "20th-Century-Studios",
         "orientation": "v",
         "showlegend": true,
         "type": "scatter",
         "x": [
          14.079512,
          58.400788,
          42.003361
         ],
         "xaxis": "x",
         "y": [
          23.72131489510252,
          81.29220754586252,
          51.74964262877026
         ],
         "yaxis": "y"
        },
        {
         "hovertemplate": "<b>%{hovertext}</b><br><br>distributor_slug=Searchlight-Pictures<br>Actual Opening Weekend Revenue (Millions)=%{x}<br>Predicted Opening Weekend Revenue (Millions)=%{y}<extra></extra>",
         "hovertext": [
          "Next Goal Wins"
         ],
         "legendgroup": "Searchlight-Pictures",
         "marker": {
          "color": "#636efa",
          "symbol": "circle"
         },
         "mode": "markers",
         "name": "Searchlight-Pictures",
         "orientation": "v",
         "showlegend": true,
         "type": "scatter",
         "x": [
          2.500295
         ],
         "xaxis": "x",
         "y": [
          15.847456098352541
         ],
         "yaxis": "y"
        },
        {
         "hovertemplate": "<b>%{hovertext}</b><br><br>distributor_slug=Toho-International<br>Actual Opening Weekend Revenue (Millions)=%{x}<br>Predicted Opening Weekend Revenue (Millions)=%{y}<extra></extra>",
         "hovertext": [
          "Godzilla Minus One (ゴジラ最新作)"
         ],
         "legendgroup": "Toho-International",
         "marker": {
          "color": "#EF553B",
          "symbol": "circle"
         },
         "mode": "markers",
         "name": "Toho-International",
         "orientation": "v",
         "showlegend": true,
         "type": "scatter",
         "x": [
          11.419975
         ],
         "xaxis": "x",
         "y": [
          13.119798757392296
         ],
         "yaxis": "y"
        },
        {
         "hovertemplate": "<b>%{hovertext}</b><br><br>distributor_slug=Amazon-MGM-Studios<br>Actual Opening Weekend Revenue (Millions)=%{x}<br>Predicted Opening Weekend Revenue (Millions)=%{y}<extra></extra>",
         "hovertext": [
          "American Fiction",
          "Challengers"
         ],
         "legendgroup": "Amazon-MGM-Studios",
         "marker": {
          "color": "#00cc96",
          "symbol": "circle"
         },
         "mode": "markers",
         "name": "Amazon-MGM-Studios",
         "orientation": "v",
         "showlegend": true,
         "type": "scatter",
         "x": [
          1.755364,
          15.011061
         ],
         "xaxis": "x",
         "y": [
          35.44407861869103,
          24.29979493297653
         ],
         "yaxis": "y"
        },
        {
         "hovertemplate": "<b>%{hovertext}</b><br><br>distributor_slug=Neon<br>Actual Opening Weekend Revenue (Millions)=%{x}<br>Predicted Opening Weekend Revenue (Millions)=%{y}<extra></extra>",
         "hovertext": [
          "Ferrari"
         ],
         "legendgroup": "Neon",
         "marker": {
          "color": "#ab63fa",
          "symbol": "circle"
         },
         "mode": "markers",
         "name": "Neon",
         "orientation": "v",
         "showlegend": true,
         "type": "scatter",
         "x": [
          3.921773
         ],
         "xaxis": "x",
         "y": [
          22.628741861438268
         ],
         "yaxis": "y"
        },
        {
         "hovertemplate": "<b>%{hovertext}</b><br><br>distributor_slug=ShowBiz-Direct<br>Actual Opening Weekend Revenue (Millions)=%{x}<br>Predicted Opening Weekend Revenue (Millions)=%{y}<extra></extra>",
         "hovertext": [
          "Reagan"
         ],
         "legendgroup": "ShowBiz-Direct",
         "marker": {
          "color": "#FFA15A",
          "symbol": "circle"
         },
         "mode": "markers",
         "name": "ShowBiz-Direct",
         "orientation": "v",
         "showlegend": true,
         "type": "scatter",
         "x": [
          7.65072
         ],
         "xaxis": "x",
         "y": [
          -0.2764590247258656
         ],
         "yaxis": "y"
        },
        {
         "line": {
          "color": "red"
         },
         "mode": "lines",
         "showlegend": false,
         "type": "scatter",
         "x": [
          0,
          200
         ],
         "y": [
          0,
          200
         ]
        }
       ],
       "layout": {
        "legend": {
         "title": {
          "text": "distributor_slug"
         },
         "tracegroupgap": 0
        },
        "template": {
         "data": {
          "bar": [
           {
            "error_x": {
             "color": "#2a3f5f"
            },
            "error_y": {
             "color": "#2a3f5f"
            },
            "marker": {
             "line": {
              "color": "#E5ECF6",
              "width": 0.5
             },
             "pattern": {
              "fillmode": "overlay",
              "size": 10,
              "solidity": 0.2
             }
            },
            "type": "bar"
           }
          ],
          "barpolar": [
           {
            "marker": {
             "line": {
              "color": "#E5ECF6",
              "width": 0.5
             },
             "pattern": {
              "fillmode": "overlay",
              "size": 10,
              "solidity": 0.2
             }
            },
            "type": "barpolar"
           }
          ],
          "carpet": [
           {
            "aaxis": {
             "endlinecolor": "#2a3f5f",
             "gridcolor": "white",
             "linecolor": "white",
             "minorgridcolor": "white",
             "startlinecolor": "#2a3f5f"
            },
            "baxis": {
             "endlinecolor": "#2a3f5f",
             "gridcolor": "white",
             "linecolor": "white",
             "minorgridcolor": "white",
             "startlinecolor": "#2a3f5f"
            },
            "type": "carpet"
           }
          ],
          "choropleth": [
           {
            "colorbar": {
             "outlinewidth": 0,
             "ticks": ""
            },
            "type": "choropleth"
           }
          ],
          "contour": [
           {
            "colorbar": {
             "outlinewidth": 0,
             "ticks": ""
            },
            "colorscale": [
             [
              0,
              "#0d0887"
             ],
             [
              0.1111111111111111,
              "#46039f"
             ],
             [
              0.2222222222222222,
              "#7201a8"
             ],
             [
              0.3333333333333333,
              "#9c179e"
             ],
             [
              0.4444444444444444,
              "#bd3786"
             ],
             [
              0.5555555555555556,
              "#d8576b"
             ],
             [
              0.6666666666666666,
              "#ed7953"
             ],
             [
              0.7777777777777778,
              "#fb9f3a"
             ],
             [
              0.8888888888888888,
              "#fdca26"
             ],
             [
              1,
              "#f0f921"
             ]
            ],
            "type": "contour"
           }
          ],
          "contourcarpet": [
           {
            "colorbar": {
             "outlinewidth": 0,
             "ticks": ""
            },
            "type": "contourcarpet"
           }
          ],
          "heatmap": [
           {
            "colorbar": {
             "outlinewidth": 0,
             "ticks": ""
            },
            "colorscale": [
             [
              0,
              "#0d0887"
             ],
             [
              0.1111111111111111,
              "#46039f"
             ],
             [
              0.2222222222222222,
              "#7201a8"
             ],
             [
              0.3333333333333333,
              "#9c179e"
             ],
             [
              0.4444444444444444,
              "#bd3786"
             ],
             [
              0.5555555555555556,
              "#d8576b"
             ],
             [
              0.6666666666666666,
              "#ed7953"
             ],
             [
              0.7777777777777778,
              "#fb9f3a"
             ],
             [
              0.8888888888888888,
              "#fdca26"
             ],
             [
              1,
              "#f0f921"
             ]
            ],
            "type": "heatmap"
           }
          ],
          "heatmapgl": [
           {
            "colorbar": {
             "outlinewidth": 0,
             "ticks": ""
            },
            "colorscale": [
             [
              0,
              "#0d0887"
             ],
             [
              0.1111111111111111,
              "#46039f"
             ],
             [
              0.2222222222222222,
              "#7201a8"
             ],
             [
              0.3333333333333333,
              "#9c179e"
             ],
             [
              0.4444444444444444,
              "#bd3786"
             ],
             [
              0.5555555555555556,
              "#d8576b"
             ],
             [
              0.6666666666666666,
              "#ed7953"
             ],
             [
              0.7777777777777778,
              "#fb9f3a"
             ],
             [
              0.8888888888888888,
              "#fdca26"
             ],
             [
              1,
              "#f0f921"
             ]
            ],
            "type": "heatmapgl"
           }
          ],
          "histogram": [
           {
            "marker": {
             "pattern": {
              "fillmode": "overlay",
              "size": 10,
              "solidity": 0.2
             }
            },
            "type": "histogram"
           }
          ],
          "histogram2d": [
           {
            "colorbar": {
             "outlinewidth": 0,
             "ticks": ""
            },
            "colorscale": [
             [
              0,
              "#0d0887"
             ],
             [
              0.1111111111111111,
              "#46039f"
             ],
             [
              0.2222222222222222,
              "#7201a8"
             ],
             [
              0.3333333333333333,
              "#9c179e"
             ],
             [
              0.4444444444444444,
              "#bd3786"
             ],
             [
              0.5555555555555556,
              "#d8576b"
             ],
             [
              0.6666666666666666,
              "#ed7953"
             ],
             [
              0.7777777777777778,
              "#fb9f3a"
             ],
             [
              0.8888888888888888,
              "#fdca26"
             ],
             [
              1,
              "#f0f921"
             ]
            ],
            "type": "histogram2d"
           }
          ],
          "histogram2dcontour": [
           {
            "colorbar": {
             "outlinewidth": 0,
             "ticks": ""
            },
            "colorscale": [
             [
              0,
              "#0d0887"
             ],
             [
              0.1111111111111111,
              "#46039f"
             ],
             [
              0.2222222222222222,
              "#7201a8"
             ],
             [
              0.3333333333333333,
              "#9c179e"
             ],
             [
              0.4444444444444444,
              "#bd3786"
             ],
             [
              0.5555555555555556,
              "#d8576b"
             ],
             [
              0.6666666666666666,
              "#ed7953"
             ],
             [
              0.7777777777777778,
              "#fb9f3a"
             ],
             [
              0.8888888888888888,
              "#fdca26"
             ],
             [
              1,
              "#f0f921"
             ]
            ],
            "type": "histogram2dcontour"
           }
          ],
          "mesh3d": [
           {
            "colorbar": {
             "outlinewidth": 0,
             "ticks": ""
            },
            "type": "mesh3d"
           }
          ],
          "parcoords": [
           {
            "line": {
             "colorbar": {
              "outlinewidth": 0,
              "ticks": ""
             }
            },
            "type": "parcoords"
           }
          ],
          "pie": [
           {
            "automargin": true,
            "type": "pie"
           }
          ],
          "scatter": [
           {
            "fillpattern": {
             "fillmode": "overlay",
             "size": 10,
             "solidity": 0.2
            },
            "type": "scatter"
           }
          ],
          "scatter3d": [
           {
            "line": {
             "colorbar": {
              "outlinewidth": 0,
              "ticks": ""
             }
            },
            "marker": {
             "colorbar": {
              "outlinewidth": 0,
              "ticks": ""
             }
            },
            "type": "scatter3d"
           }
          ],
          "scattercarpet": [
           {
            "marker": {
             "colorbar": {
              "outlinewidth": 0,
              "ticks": ""
             }
            },
            "type": "scattercarpet"
           }
          ],
          "scattergeo": [
           {
            "marker": {
             "colorbar": {
              "outlinewidth": 0,
              "ticks": ""
             }
            },
            "type": "scattergeo"
           }
          ],
          "scattergl": [
           {
            "marker": {
             "colorbar": {
              "outlinewidth": 0,
              "ticks": ""
             }
            },
            "type": "scattergl"
           }
          ],
          "scattermapbox": [
           {
            "marker": {
             "colorbar": {
              "outlinewidth": 0,
              "ticks": ""
             }
            },
            "type": "scattermapbox"
           }
          ],
          "scatterpolar": [
           {
            "marker": {
             "colorbar": {
              "outlinewidth": 0,
              "ticks": ""
             }
            },
            "type": "scatterpolar"
           }
          ],
          "scatterpolargl": [
           {
            "marker": {
             "colorbar": {
              "outlinewidth": 0,
              "ticks": ""
             }
            },
            "type": "scatterpolargl"
           }
          ],
          "scatterternary": [
           {
            "marker": {
             "colorbar": {
              "outlinewidth": 0,
              "ticks": ""
             }
            },
            "type": "scatterternary"
           }
          ],
          "surface": [
           {
            "colorbar": {
             "outlinewidth": 0,
             "ticks": ""
            },
            "colorscale": [
             [
              0,
              "#0d0887"
             ],
             [
              0.1111111111111111,
              "#46039f"
             ],
             [
              0.2222222222222222,
              "#7201a8"
             ],
             [
              0.3333333333333333,
              "#9c179e"
             ],
             [
              0.4444444444444444,
              "#bd3786"
             ],
             [
              0.5555555555555556,
              "#d8576b"
             ],
             [
              0.6666666666666666,
              "#ed7953"
             ],
             [
              0.7777777777777778,
              "#fb9f3a"
             ],
             [
              0.8888888888888888,
              "#fdca26"
             ],
             [
              1,
              "#f0f921"
             ]
            ],
            "type": "surface"
           }
          ],
          "table": [
           {
            "cells": {
             "fill": {
              "color": "#EBF0F8"
             },
             "line": {
              "color": "white"
             }
            },
            "header": {
             "fill": {
              "color": "#C8D4E3"
             },
             "line": {
              "color": "white"
             }
            },
            "type": "table"
           }
          ]
         },
         "layout": {
          "annotationdefaults": {
           "arrowcolor": "#2a3f5f",
           "arrowhead": 0,
           "arrowwidth": 1
          },
          "autotypenumbers": "strict",
          "coloraxis": {
           "colorbar": {
            "outlinewidth": 0,
            "ticks": ""
           }
          },
          "colorscale": {
           "diverging": [
            [
             0,
             "#8e0152"
            ],
            [
             0.1,
             "#c51b7d"
            ],
            [
             0.2,
             "#de77ae"
            ],
            [
             0.3,
             "#f1b6da"
            ],
            [
             0.4,
             "#fde0ef"
            ],
            [
             0.5,
             "#f7f7f7"
            ],
            [
             0.6,
             "#e6f5d0"
            ],
            [
             0.7,
             "#b8e186"
            ],
            [
             0.8,
             "#7fbc41"
            ],
            [
             0.9,
             "#4d9221"
            ],
            [
             1,
             "#276419"
            ]
           ],
           "sequential": [
            [
             0,
             "#0d0887"
            ],
            [
             0.1111111111111111,
             "#46039f"
            ],
            [
             0.2222222222222222,
             "#7201a8"
            ],
            [
             0.3333333333333333,
             "#9c179e"
            ],
            [
             0.4444444444444444,
             "#bd3786"
            ],
            [
             0.5555555555555556,
             "#d8576b"
            ],
            [
             0.6666666666666666,
             "#ed7953"
            ],
            [
             0.7777777777777778,
             "#fb9f3a"
            ],
            [
             0.8888888888888888,
             "#fdca26"
            ],
            [
             1,
             "#f0f921"
            ]
           ],
           "sequentialminus": [
            [
             0,
             "#0d0887"
            ],
            [
             0.1111111111111111,
             "#46039f"
            ],
            [
             0.2222222222222222,
             "#7201a8"
            ],
            [
             0.3333333333333333,
             "#9c179e"
            ],
            [
             0.4444444444444444,
             "#bd3786"
            ],
            [
             0.5555555555555556,
             "#d8576b"
            ],
            [
             0.6666666666666666,
             "#ed7953"
            ],
            [
             0.7777777777777778,
             "#fb9f3a"
            ],
            [
             0.8888888888888888,
             "#fdca26"
            ],
            [
             1,
             "#f0f921"
            ]
           ]
          },
          "colorway": [
           "#636efa",
           "#EF553B",
           "#00cc96",
           "#ab63fa",
           "#FFA15A",
           "#19d3f3",
           "#FF6692",
           "#B6E880",
           "#FF97FF",
           "#FECB52"
          ],
          "font": {
           "color": "#2a3f5f"
          },
          "geo": {
           "bgcolor": "white",
           "lakecolor": "white",
           "landcolor": "#E5ECF6",
           "showlakes": true,
           "showland": true,
           "subunitcolor": "white"
          },
          "hoverlabel": {
           "align": "left"
          },
          "hovermode": "closest",
          "mapbox": {
           "style": "light"
          },
          "paper_bgcolor": "white",
          "plot_bgcolor": "#E5ECF6",
          "polar": {
           "angularaxis": {
            "gridcolor": "white",
            "linecolor": "white",
            "ticks": ""
           },
           "bgcolor": "#E5ECF6",
           "radialaxis": {
            "gridcolor": "white",
            "linecolor": "white",
            "ticks": ""
           }
          },
          "scene": {
           "xaxis": {
            "backgroundcolor": "#E5ECF6",
            "gridcolor": "white",
            "gridwidth": 2,
            "linecolor": "white",
            "showbackground": true,
            "ticks": "",
            "zerolinecolor": "white"
           },
           "yaxis": {
            "backgroundcolor": "#E5ECF6",
            "gridcolor": "white",
            "gridwidth": 2,
            "linecolor": "white",
            "showbackground": true,
            "ticks": "",
            "zerolinecolor": "white"
           },
           "zaxis": {
            "backgroundcolor": "#E5ECF6",
            "gridcolor": "white",
            "gridwidth": 2,
            "linecolor": "white",
            "showbackground": true,
            "ticks": "",
            "zerolinecolor": "white"
           }
          },
          "shapedefaults": {
           "line": {
            "color": "#2a3f5f"
           }
          },
          "ternary": {
           "aaxis": {
            "gridcolor": "white",
            "linecolor": "white",
            "ticks": ""
           },
           "baxis": {
            "gridcolor": "white",
            "linecolor": "white",
            "ticks": ""
           },
           "bgcolor": "#E5ECF6",
           "caxis": {
            "gridcolor": "white",
            "linecolor": "white",
            "ticks": ""
           }
          },
          "title": {
           "x": 0.05
          },
          "xaxis": {
           "automargin": true,
           "gridcolor": "white",
           "linecolor": "white",
           "ticks": "",
           "title": {
            "standoff": 15
           },
           "zerolinecolor": "white",
           "zerolinewidth": 2
          },
          "yaxis": {
           "automargin": true,
           "gridcolor": "white",
           "linecolor": "white",
           "ticks": "",
           "title": {
            "standoff": 15
           },
           "zerolinecolor": "white",
           "zerolinewidth": 2
          }
         }
        },
        "title": {
         "text": "Actual vs Predicted Opening Weekend Revenue"
        },
        "xaxis": {
         "anchor": "y",
         "domain": [
          0,
          1
         ],
         "title": {
          "text": "Actual Opening Weekend Revenue (Millions)"
         }
        },
        "yaxis": {
         "anchor": "x",
         "domain": [
          0,
          1
         ],
         "title": {
          "text": "Predicted Opening Weekend Revenue (Millions)"
         }
        }
       }
      }
     },
     "metadata": {},
     "output_type": "display_data"
    }
   ],
   "source": [
    "# print actual vs predicted\n",
    "\n",
    "results_df_glm = pd.DataFrame({'predicted': pred_glm, 'actual': y_test})\n",
    "\n",
    "results_df_glm['predicted'] = results_df_glm['predicted'] / 1000000\n",
    "results_df_glm['actual'] = results_df_glm['actual'] / 1000000\n",
    "results_df_glm['title'] = X_test['title']\n",
    "results_df_glm['source'] = X_test['source']\n",
    "results_df_glm['distributor_slug'] = X_test['distributor_slug']\n",
    "results_df_glm['genre'] = X_test['genre']\n",
    "results_df_glm['creative_type'] = X_test['creative_type']\n",
    "results_df_glm['production_method'] = X_test['production_method']\n",
    "results_df_glm['mpaa_rating'] = X_test['mpaa_rating']\n",
    "\n",
    "# results_df_glm.to_csv('glm_results.csv', index=False)\n",
    "\n",
    "# Create the scatter plot\n",
    "fig = px.scatter(\n",
    "    results_df_glm,\n",
    "    x='actual',\n",
    "    y='predicted',\n",
    "    color='distributor_slug',\n",
    "    labels={\n",
    "        'actual': 'Actual Opening Weekend Revenue (Millions)',\n",
    "        'predicted': 'Predicted Opening Weekend Revenue (Millions)'\n",
    "    },\n",
    "    title='Actual vs Predicted Opening Weekend Revenue',\n",
    "    hover_name='title'\n",
    ")\n",
    "\n",
    "# Add the diagonal line\n",
    "fig.add_trace(\n",
    "    go.Scatter(\n",
    "        x=[0, 200],\n",
    "        y=[0, 200],\n",
    "        mode='lines',\n",
    "        line=dict(color='red'),\n",
    "        showlegend=False\n",
    "    )\n",
    ")\n",
    "\n",
    "# Show the plot\n",
    "fig.show()"
   ]
  },
  {
   "cell_type": "code",
   "execution_count": 75,
   "metadata": {},
   "outputs": [],
   "source": [
    "# make some basic mlr\n",
    "relevant_features = [\"budget\"]\n",
    "X_train_basic1 = X_train_dummies[relevant_features]\n",
    "model_mlr = OLS(y_train, X_train_basic1)\n",
    "results_mlr = model_mlr.fit()\n",
    "basic1_pred = results_mlr.predict(X_test[relevant_features])\n",
    "\n",
    "relevant_features = [\"budget\", \"weighted_crew_median_box_office\"]\n",
    "X_train_basic2 = X_train_dummies[relevant_features]\n",
    "model_mlr = OLS(y_train, X_train_basic2)\n",
    "results_mlr = model_mlr.fit()\n",
    "basic2_pred = results_mlr.predict(X_test[relevant_features])\n",
    "\n",
    "relevant_features = [\"budget\", \"weighted_crew_median_box_office\", \"wikipedia_pre_release_cumulative_views\"]\n",
    "X_train_basic3 = X_train_dummies[relevant_features]\n",
    "model_mlr = OLS(y_train, X_train_basic3)\n",
    "results_mlr = model_mlr.fit()\n",
    "basic3_pred = results_mlr.predict(X_test[relevant_features])"
   ]
  },
  {
   "cell_type": "code",
   "execution_count": 76,
   "metadata": {},
   "outputs": [
    {
     "name": "stdout",
     "output_type": "stream",
     "text": [
      "Lasso RMSE: 35752419.63868792\n",
      "GAM RMSE: 37000853.14660594\n",
      "MLR RMSE: 28134417.02056215\n",
      "GLM RMSE: 25871637.595556125\n",
      "Basic1 RMSE: 36242121.78264017\n",
      "Basic2 RMSE: 34891367.42421532\n",
      "Basic3 RMSE: 30860836.13585527\n"
     ]
    }
   ],
   "source": [
    "# calculate the mse for each model\n",
    "\n",
    "mse_lasso = root_mean_squared_error(y_test, y_pred)\n",
    "mse_gam = root_mean_squared_error(y_test, y_pred_gam)\n",
    "mse_mlr = root_mean_squared_error(y_test, y_pred_mlr)\n",
    "mse_glm = root_mean_squared_error(y_test, pred_glm)\n",
    "mse_basic1 = root_mean_squared_error(y_test, basic1_pred)\n",
    "mse_basic2 = root_mean_squared_error(y_test, basic2_pred)\n",
    "mse_basic3 = root_mean_squared_error(y_test, basic3_pred)\n",
    "\n",
    "print('Lasso RMSE:', mse_lasso)\n",
    "print('GAM RMSE:', mse_gam)\n",
    "print('MLR RMSE:', mse_mlr)\n",
    "print('GLM RMSE:', mse_glm)\n",
    "print('Basic1 RMSE:', mse_basic1)\n",
    "print('Basic2 RMSE:', mse_basic2)\n",
    "print('Basic3 RMSE:', mse_basic3)"
   ]
  }
 ],
 "metadata": {
  "kernelspec": {
   "display_name": "boxoffice_kernel",
   "language": "python",
   "name": "boxoffice_kernel"
  },
  "language_info": {
   "codemirror_mode": {
    "name": "ipython",
    "version": 3
   },
   "file_extension": ".py",
   "mimetype": "text/x-python",
   "name": "python",
   "nbconvert_exporter": "python",
   "pygments_lexer": "ipython3",
   "version": "3.12.5"
  }
 },
 "nbformat": 4,
 "nbformat_minor": 2
}
