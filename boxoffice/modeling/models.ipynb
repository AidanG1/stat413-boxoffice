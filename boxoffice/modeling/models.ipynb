{
 "cells": [
  {
   "cell_type": "code",
   "execution_count": 2,
   "metadata": {},
   "outputs": [
    {
     "name": "stdout",
     "output_type": "stream",
     "text": [
      "movies.csv exists, 1730246991.471576, 1730164702.0645902\n",
      "Reading from movies.csv\n"
     ]
    }
   ],
   "source": [
    "from boxoffice.db.frames import get_movie_frame_full\n",
    "import pandas as pd\n",
    "import numpy as np\n",
    "import matplotlib.pyplot as plt\n",
    "import seaborn as sns\n",
    "import datetime\n",
    "\n",
    "df = get_movie_frame_full()\n",
    "\n",
    "if df is None:\n",
    "    print('No data')\n",
    "    exit()\n"
   ]
  },
  {
   "cell_type": "code",
   "execution_count": 3,
   "metadata": {},
   "outputs": [],
   "source": [
    "# main goal is to predict opening_weekend_revenue\n",
    "\n",
    "# do a train test split based on release date. Train on movies released before 2023, test on movies released in 2023 and 2024\n",
    "\n",
    "# drop movies with missing budgets\n",
    "df = df.dropna(subset=['budget'])\n",
    "\n",
    "# drop the opening_weekend_revenue column\n",
    "df = df.drop(columns=['opening_weekend_revenue'])\n",
    "\n",
    "# filter out movies from before 2015    \n",
    "df = df[df['release_day'] >= datetime.date(2015, 1, 1)]\n",
    "\n",
    "# keep original columns for later\n",
    "dummies = pd.get_dummies(df[['mpaa_rating', 'genre', 'creative_type', 'source', 'production_method', 'distributor_slug']], drop_first=True)\n",
    "df = pd.concat([df, dummies], axis=1)\n",
    "\n",
    "X_train = df[(df['release_day'] < datetime.date(2023, 1, 1))]\n",
    "X_test = df[df['release_day'] >= datetime.date(2023, 1, 1)]\n",
    "\n",
    "y_train = X_train['opening_wide_revenue']\n",
    "y_test = X_test['opening_wide_revenue']\n",
    "\n",
    "X_train = X_train.drop(columns=['opening_wide_revenue'])\n",
    "X_test = X_test.drop(columns=['opening_wide_revenue'])\n",
    "\n",
    "# reset index\n",
    "X_train = X_train.reset_index(drop=True)\n",
    "X_test = X_test.reset_index(drop=True)\n",
    "y_train = y_train.reset_index(drop=True)\n",
    "y_test = y_test.reset_index(drop=True)"
   ]
  },
  {
   "cell_type": "code",
   "execution_count": 4,
   "metadata": {},
   "outputs": [],
   "source": [
    "# write the titles and ids of the movies with missing budget to a csv file\n",
    "missing_budget = df[df['budget'].isnull()]\n",
    "missing_budget[['title', 'id']].to_csv('missing_budget.csv', index=False)"
   ]
  },
  {
   "cell_type": "code",
   "execution_count": 5,
   "metadata": {},
   "outputs": [
    {
     "name": "stdout",
     "output_type": "stream",
     "text": [
      "Index([], dtype='object')\n",
      "                                                Results: Ordinary least squares\n",
      "================================================================================================================================\n",
      "Model:                                  OLS                                Adj. R-squared (uncentered):               0.832     \n",
      "Dependent Variable:                     opening_wide_revenue               AIC:                                       27048.0393\n",
      "Date:                                   2024-10-29 19:09                   BIC:                                       27513.3110\n",
      "No. Observations:                       740                                Log-Likelihood:                            -13423.   \n",
      "Df Model:                               101                                F-statistic:                               37.27     \n",
      "Df Residuals:                           639                                Prob (F-statistic):                        5.70e-210 \n",
      "R-squared (uncentered):                 0.855                              Scale:                                     3.8617e+14\n",
      "--------------------------------------------------------------------------------------------------------------------------------\n",
      "                                                           Coef.         Std.Err.      t    P>|t|      [0.025         0.975]    \n",
      "--------------------------------------------------------------------------------------------------------------------------------\n",
      "release_year                                              -13734.5316    10482.6891 -1.3102 0.1906    -34319.2139      6850.1507\n",
      "running_time                                              114086.0126    62954.0417  1.8122 0.0704     -9535.7929    237707.8182\n",
      "budget                                                         0.1647        0.0254  6.4854 0.0000         0.1148         0.2145\n",
      "release_day_of_week                                     -4188353.1631  1789941.8181 -2.3399 0.0196  -7703232.1649   -673474.1613\n",
      "release_day_of_week_non_preview                          6156036.4875  2001663.5450  3.0755 0.0022   2225403.0491  10086669.9259\n",
      "release_month                                            -673620.8781   235716.8366 -2.8578 0.0044  -1136494.1129   -210747.6433\n",
      "release_day_of_month                                     -120522.6440    95807.0919 -1.2580 0.2089   -308657.4383     67612.1503\n",
      "director_median_box_office                                    -0.2195        0.0614 -3.5725 0.0004        -0.3401        -0.0988\n",
      "director_mean_box_office                                       0.1883        0.0470  4.0083 0.0001         0.0961         0.2806\n",
      "weighted_crew_median_box_office                                1.0369        0.2733  3.7934 0.0002         0.5001         1.5737\n",
      "weighted_crew_mean_box_office                                 -0.2119        0.1406 -1.5064 0.1325        -0.4880         0.0643\n",
      "weighted_cast_median_box_office                                0.0117        0.1809  0.0646 0.9485        -0.3435         0.3669\n",
      "weighted_cast_mean_box_office                                  0.2748        0.1063  2.5864 0.0099         0.0662         0.4835\n",
      "wikipedia_pre_release_cumulative_views                        31.7025        3.7174  8.5282 0.0000        24.4028        39.0023\n",
      "wikipedia_pre_release_monday_views                           -28.6407       13.1106 -2.1846 0.0293       -54.3858        -2.8957\n",
      "wikipedia_pre_release_week_monday                            -64.9270       40.5316 -1.6019 0.1097      -144.5183        14.6642\n",
      "wikipedia_pre_release_three_monday                            82.3738       54.7639  1.5042 0.1330       -25.1650       189.9127\n",
      "mpaa_rating_PG                                          -5080499.2266 10558764.8470 -0.4812 0.6306 -25814570.2842  15653571.8310\n",
      "mpaa_rating_PG-13                                       -5853317.6165 11189116.9387 -0.5231 0.6011 -27825200.6009  16118565.3679\n",
      "mpaa_rating_R                                           -5572285.4307 11280095.7029 -0.4940 0.6215 -27722821.9023  16578251.0410\n",
      "genre_Adventure                                         -3013517.0113  3689917.5949 -0.8167 0.4144 -10259346.8710   4232312.8483\n",
      "genre_Black Comedy                                      -3599650.9275  6735745.3774 -0.5344 0.5932 -16826522.1859   9627220.3309\n",
      "genre_Comedy                                             2147234.8495  3293047.2982  0.6521 0.5146  -4319267.4039   8613737.1029\n",
      "genre_Concert/Performance                               -3473475.2483 17682475.0106 -0.1964 0.8443 -38196257.5674  31249307.0709\n",
      "genre_Documentary                                         975947.7716 22418825.2232  0.0435 0.9653 -43047526.7484  44999422.2915\n",
      "genre_Drama                                               954127.0342  3408950.9655  0.2799 0.7797  -5739973.3244   7648227.3929\n",
      "genre_Horror                                             5715378.1641  3595144.8960  1.5897 0.1124  -1344348.1216  12775104.4499\n",
      "genre_Musical                                            4475367.8258  7062679.0593  0.6337 0.5265  -9393497.6706  18344233.3222\n",
      "genre_Reality                                           -3216120.2035 18281991.2426 -0.1759 0.8604 -39116162.5842  32683922.1773\n",
      "genre_Romantic Comedy                                   -1415860.7180  5682457.3280 -0.2492 0.8033 -12574407.7381   9742686.3020\n",
      "genre_Thriller/Suspense                                 -4766807.5680  3332068.6017 -1.4306 0.1530 -11309935.3067   1776320.1706\n",
      "genre_Western                                           -2357306.9382  8917158.0964 -0.2644 0.7916 -19867782.1007  15153168.2244\n",
      "creative_type_Dramatization                             -7899298.0081  6031700.4874 -1.3096 0.1908 -19743648.0164   3945052.0001\n",
      "creative_type_Factual                                   -5713647.6802 10866578.9202 -0.5258 0.5992 -27052168.1178  15624872.7574\n",
      "creative_type_Fantasy                                   -8943864.4541  4692291.8767 -1.9061 0.0571 -18158040.0328    270311.1246\n",
      "creative_type_Historical Fiction                        -6819393.1771  3343803.3711 -2.0394 0.0418 -13385564.2875   -253222.0668\n",
      "creative_type_Kids Fiction                              -7029262.9614  6138750.5639 -1.1451 0.2526 -19083825.4260   5025299.5031\n",
      "creative_type_Science Fiction                           -3571885.6273  2890134.0007 -1.2359 0.2170  -9247193.7343   2103422.4797\n",
      "creative_type_Super Hero                                11274836.7957  5686399.5995  1.9828 0.0478    108548.4025  22441125.1890\n",
      "source_Based on Factual Book/Article                     2806583.0264  7347393.9848  0.3820 0.7026 -11621372.4377  17234538.4905\n",
      "source_Based on Fiction Book/Short Story                -4097387.8261  4812932.8617 -0.8513 0.3949 -13548464.1021   5353688.4499\n",
      "source_Based on Folk Tale/Legend/Fairytale              -7138925.3841  7939421.9505 -0.8992 0.3689 -22729436.3256   8451585.5574\n",
      "source_Based on Game                                     1891300.4225  7191254.1974  0.2630 0.7926 -12230045.9358  16012646.7809\n",
      "source_Based on Movie                                   -8763198.2039  7677473.9970 -1.1414 0.2541 -23839326.3025   6312929.8947\n",
      "source_Based on Musical or Opera                       -40446960.1594 22353300.4221 -1.8094 0.0709 -84341764.7162   3447844.3975\n",
      "source_Based on Play                                     4839855.0511 12672595.2935  0.3819 0.7027 -20045109.7251  29724819.8273\n",
      "source_Based on Real Life Events                         -635840.8854  7571460.1723 -0.0840 0.9331 -15503791.3981  14232109.6273\n",
      "source_Based on Religious Text                           1890920.0987 12688875.4589  0.1490 0.8816 -23026013.7677  26807853.9651\n",
      "source_Based on Short Film                                652283.7453  9629352.3871  0.0677 0.9460 -18256715.5102  19561283.0009\n",
      "source_Based on Song                                    17557942.1731 23986076.2145  0.7320 0.4644 -29543117.0728  64659001.4189\n",
      "source_Based on TV                                      -3926473.4660  6315704.7971 -0.6217 0.5344 -16328518.0176   8475571.0855\n",
      "source_Based on Theme Park Ride                        -29650949.4453 15704589.9988 -1.8880 0.0595 -60489791.8366   1187892.9460\n",
      "source_Based on Toy                                      -390933.5411  8533302.7825 -0.0458 0.9635 -17147638.4030  16365771.3208\n",
      "source_Based on Web Series                             -27414461.3761 20507364.7128 -1.3368 0.1818 -67684432.6576  12855509.9055\n",
      "source_Compilation                                      10769821.0646 12465242.1285  0.8640 0.3879 -13707967.7474  35247609.8766\n",
      "source_Original Screenplay                              -2053909.4432  4642678.4855 -0.4424 0.6584 -11170660.0299   7062841.1436\n",
      "source_Remake                                            4708837.8210  6056988.5919  0.7774 0.4372  -7185170.0179  16602845.6598\n",
      "source_Spin-Off                                         -2061393.7643  6590353.4723 -0.3128 0.7545 -15002761.3550  10879973.8264\n",
      "production_method_Digital Animation                     -4981482.4644  5250507.7592 -0.9488 0.3431 -15291817.2947   5328852.3658\n",
      "production_method_Live Action                           -9202276.5820  3766257.8202 -2.4433 0.0148 -16598014.4734  -1806538.6906\n",
      "production_method_Stop-Motion Animation                 -6919051.2693 11082855.8968 -0.6243 0.5327 -28682271.2114  14844168.6729\n",
      "distributor_slug_20th-Century-Fox                       16895129.2436 14666203.2745  1.1520 0.2498 -11904650.3938  45694908.8811\n",
      "distributor_slug_20th-Century-Studios                   -2611060.0298 16165767.4825 -0.1615 0.8717 -34355508.9817  29133388.9221\n",
      "distributor_slug_A24                                    19573266.3092 15622680.0424  1.2529 0.2107 -11104730.8619  50251263.4804\n",
      "distributor_slug_Amazon-MGM-Studios                           -0.0000        0.0000 -0.8943 0.3715        -0.0000         0.0000\n",
      "distributor_slug_Amazon-Studios                         22663621.8330 24493514.8038  0.9253 0.3552 -25433886.1377  70761129.8037\n",
      "distributor_slug_Angel-Studios                                 0.0000        0.0000  1.1742 0.2408        -0.0000         0.0000\n",
      "distributor_slug_Annapurna-Pictures                     23468399.2655 17760731.6589  1.3214 0.1869 -11408054.3334  58344852.8643\n",
      "distributor_slug_Aviron-Pictures                        21825008.4775 17543750.4571  1.2440 0.2139 -12625362.7414  56275379.6964\n",
      "distributor_slug_BH-Tilt                                16900549.7098 18538235.4240  0.9117 0.3623 -19502675.1115  53303774.5311\n",
      "distributor_slug_Bleecker-Street                        11063348.8644 18504916.0953  0.5979 0.5501 -25274447.3449  47401145.0738\n",
      "distributor_slug_Briarcliff-Entertainment               17413153.3367 24683501.0924  0.7055 0.4808 -31057427.5515  65883734.2249\n",
      "distributor_slug_Broad-Green-Pictures                   19887946.0591 17782185.9733  1.1184 0.2638 -15030637.0204  54806529.1385\n",
      "distributor_slug_CBS-Films                              21619232.3183 17481394.7870  1.2367 0.2167 -12708692.1075  55947156.7440\n",
      "distributor_slug_Entertainment-Studios-Motion-Pictures  25895339.9786 16683926.8237  1.5521 0.1211  -6866609.8605  58657289.8178\n",
      "distributor_slug_EuropaCorp                             28856912.8207 18344822.7040  1.5730 0.1162  -7166510.6567  64880336.2980\n",
      "distributor_slug_Focus-Features                         22139591.2366 15181966.0161  1.4583 0.1453  -7672983.1252  51952165.5984\n",
      "distributor_slug_Focus-Gramercy                         20553454.6944 24675267.0991  0.8330 0.4052 -27900957.2382  69007866.6270\n",
      "distributor_slug_Fox-Searchlight                        20960302.4241 15951523.3721  1.3140 0.1893 -10363438.9286  52284043.7768\n",
      "distributor_slug_Freestyle-Releasing                    13092770.8385 24625345.5726  0.5317 0.5951 -35263611.0220  61449152.6991\n",
      "distributor_slug_Global-Road                            13020706.4402 17820082.0248  0.7307 0.4652 -21972292.4859  48013705.3663\n",
      "distributor_slug_High-Top-Releasing                      8502471.2799 20275474.3116  0.4193 0.6751 -31312140.6744  48317083.2343\n",
      "distributor_slug_LD-Entertainment                       27632959.0446 25301092.4602  1.0922 0.2752 -22050375.7491  77316293.8383\n",
      "distributor_slug_Lionsgate                              19483328.0452 14638449.0912  1.3310 0.1837  -9261951.1637  48228607.2540\n",
      "distributor_slug_MGM                                    24941525.9409 17522186.8793  1.4234 0.1551  -9466501.2387  59349553.1205\n",
      "distributor_slug_Neon                                   20555725.2967 21067921.2582  0.9757 0.3296 -20815001.5573  61926452.1506\n",
      "distributor_slug_OTL-Releasing                          20821861.0467 24597359.1097  0.8465 0.3976 -27479564.2617  69123286.3552\n",
      "distributor_slug_Open-Road                              20522938.2616 15446931.6694  1.3286 0.1845  -9809944.7503  50855821.2735\n",
      "distributor_slug_Orion-Pictures                         17377350.3428 20270224.0085  0.8573 0.3916 -22426951.6785  57181652.3642\n",
      "distributor_slug_Paramount-Pictures                     19287774.9707 14731885.8194  1.3093 0.1909  -9640984.3886  48216534.3301\n",
      "distributor_slug_Pure-Flix-Entertainment                19608238.8620 16655182.4919  1.1773 0.2395 -13097266.2105  52313743.9345\n",
      "distributor_slug_Quality-Flix                           33756319.4080 37462004.9872  0.9011 0.3679 -39807197.2168 107319836.0328\n",
      "distributor_slug_RADiUS-TWC                             26117545.3822 24936459.4973  1.0474 0.2953 -22849765.7220  75084856.4864\n",
      "distributor_slug_Relativity                             18841388.9520 20866725.4376  0.9029 0.3669 -22134253.0126  59817030.9167\n",
      "distributor_slug_Roadside-Attractions                   19700807.3076 18428980.2814  1.0690 0.2855 -16487875.0060  55889489.6212\n",
      "distributor_slug_STX-Entertainment                      20468165.7684 14926699.5947  1.3712 0.1708  -8843146.1639  49779477.7006\n",
      "distributor_slug_Searchlight-Pictures                   17177270.1741 20491793.3862  0.8383 0.4022 -23062123.9521  57416664.3003\n",
      "distributor_slug_ShowBiz-Direct                               -0.0000        0.0000 -0.1027 0.9183        -0.0000         0.0000\n",
      "distributor_slug_Solstice-Studios                       21351957.9913 24565252.3317  0.8692 0.3851 -26886419.7708  69590335.7533\n",
      "distributor_slug_Sony-Pictures                          20728171.3039 14610050.4188  1.4188 0.1565  -7961341.9040  49417684.5117\n",
      "distributor_slug_Toho-International                            0.0000        0.0000  0.3622 0.7173        -0.0000         0.0000\n",
      "distributor_slug_United-Artists                         17154101.8319 15737494.1409  1.0900 0.2761 -13749353.8763  48057557.5402\n",
      "distributor_slug_Universal                              28314847.8028 14604405.0360  1.9388 0.0530   -363579.6606  56993275.2662\n",
      "distributor_slug_Walt-Disney                            34732537.0413 14950283.5688  2.3232 0.0205   5374913.6510  64090160.4316\n",
      "distributor_slug_Warner-Bros                            19331454.6977 14597461.3174  1.3243 0.1859  -9333337.5010  47996246.8963\n",
      "distributor_slug_Weinstein-Co                           21911768.1385 16416825.4569  1.3347 0.1824 -10325679.1856  54149215.4625\n",
      "distributor_slug_truTV                                  10769821.0646 12465242.1285  0.8640 0.3879 -13707967.7474  35247609.8766\n",
      "--------------------------------------------------------------------------------------------------------------------------------\n",
      "Omnibus:                             371.866                       Durbin-Watson:                          1.997                \n",
      "Prob(Omnibus):                       0.000                         Jarque-Bera (JB):                       4678.661             \n",
      "Skew:                                1.945                         Prob(JB):                               0.000                \n",
      "Kurtosis:                            14.688                        Condition No.:                          536179547973427724288\n",
      "================================================================================================================================\n",
      "Notes:\n",
      "[1] R² is computed without centering (uncentered) since the                 model does not contain a constant.\n",
      "[2] Standard Errors assume that the covariance matrix of the errors is correctly specified.\n",
      "[3] The smallest eigenvalue is 2.94e-23. This might indicate that                there are strong multicollinearity problems or\n",
      "that the design                matrix is singular.\n"
     ]
    }
   ],
   "source": [
    "# create a basic MLR\n",
    "from statsmodels.api import OLS\n",
    "\n",
    "# print the columns\n",
    "# print(X_train.columns)\n",
    "\n",
    "# create dummy variables for mpaa_rating, genre, creative_type, source, production_method, and distributor\n",
    "# X_train_dummies = pd.get_dummies(X_train, columns=['mpaa_rating', 'genre', 'creative_type', 'source', 'production_method', 'distributor_slug'])\n",
    "\n",
    "# print(X_train_dummies.columns)\n",
    "\n",
    "# remove all non-numeric columns\n",
    "X_train_dummies = X_train.select_dtypes(include=[np.number, bool])\n",
    "\n",
    "# remove franchise id and distributor id and id\n",
    "X_train_dummies = X_train_dummies.drop(columns=['franchise_id', 'distributor_id', 'id'])\n",
    "\n",
    "# drop preview_sum and preview_to_weekend_ratio\n",
    "X_train_dummies = X_train_dummies.drop(columns=['preview_sum', 'preview_to_weekend_ratio', 'first_five_days_revenue', 'first_seven_days_revenue', 'total_revenue_within_365_days', 'opening_weekend_to_total_ratio', 'fri_sat_ratio_first_five', 'sat_sun_ratio_first_five', 'sun_mon_ratio_first_five', 'mon_tue_ratio_first_five', 'tue_wed_ratio_first_five', 'wed_thu_ratio_first_five', 'thu_fri_ratio_first_five', 'fri_sat_ratio', 'sat_sun_ratio', 'sun_mon_ratio', 'mon_tue_ratio', 'tue_wed_ratio', 'wed_thu_ratio', 'thu_fri_ratio', 'total_box_office', 'largest_theater_count', 'days_over_1000_theaters', 'days_over_1000000_revenue', 'days_over_100000_revenue', 'wikipedia_cumulative_views'])\n",
    "\n",
    "X_train_dummies = X_train_dummies.fillna(0)\n",
    "\n",
    "# print the columns that have NaN values\n",
    "print(X_train_dummies.columns[X_train_dummies.isna().any()])\n",
    "\n",
    "# Ensure all data is numeric\n",
    "X_train_dummies = X_train_dummies.astype(float)\n",
    "\n",
    "model = OLS(y_train, X_train_dummies)\n",
    "results = model.fit()\n",
    "\n",
    "# print the summary with millions of dollars\n",
    "def millions(x):\n",
    "    return '{:,.2f}M'.format(x / 1000000)\n",
    "\n",
    "print(results.summary2(float_format=millions))\n"
   ]
  },
  {
   "cell_type": "code",
   "execution_count": 6,
   "metadata": {},
   "outputs": [
    {
     "name": "stdout",
     "output_type": "stream",
     "text": [
      "Best alpha: 1952421390769.4893\n",
      "Number of non-zero coefficients: 7\n",
      "                                   feature  coefficient\n",
      "2                                   budget     0.207757\n",
      "7               director_median_box_office    -0.265601\n",
      "8                 director_mean_box_office     0.204709\n",
      "9          weighted_crew_median_box_office     0.821018\n",
      "11         weighted_cast_median_box_office    -0.130187\n",
      "12           weighted_cast_mean_box_office     0.406020\n",
      "13  wikipedia_pre_release_cumulative_views    13.918628\n",
      "R squared: 0.6943684433889066\n"
     ]
    }
   ],
   "source": [
    "# now do lasso\n",
    "from sklearn.linear_model import Lasso, LassoCV\n",
    "from sklearn.model_selection import RepeatedKFold\n",
    "\n",
    "cv = RepeatedKFold(n_splits=10, n_repeats=3, random_state=1)\n",
    "\n",
    "lasso = LassoCV(cv=cv, n_alphas=100, random_state=1)\n",
    "\n",
    "lasso.fit(X_train_dummies, y_train)\n",
    "\n",
    "print('Best alpha:', lasso.alpha_)\n",
    "print('Number of non-zero coefficients:', np.sum(lasso.coef_ != 0))\n",
    "# print the coefficients\n",
    "\n",
    "# match up the coefficients with the column names\n",
    "coefficients = pd.DataFrame({'feature': X_train_dummies.columns, 'coefficient': lasso.coef_})\n",
    "# remove the columns with 0 coefficients\n",
    "coefficients = coefficients[coefficients['coefficient'] != 0]\n",
    "\n",
    "print(coefficients)\n",
    "\n",
    "# print the r squared value\n",
    "print('R squared:', lasso.score(X_train_dummies, y_train))\n"
   ]
  },
  {
   "cell_type": "code",
   "execution_count": 7,
   "metadata": {},
   "outputs": [
    {
     "data": {
      "text/plain": [
       "[<matplotlib.lines.Line2D at 0x7ab1b10f50d0>]"
      ]
     },
     "execution_count": 7,
     "metadata": {},
     "output_type": "execute_result"
    },
    {
     "data": {
      "image/png": "[encoded data removed]",
      "text/plain": [
       "<Figure size 640x480 with 1 Axes>"
      ]
     },
     "metadata": {},
     "output_type": "display_data"
    }
   ],
   "source": [
    "# now run the new model on the test data\n",
    "# don't need to create dummy variables and stuff since only some variables are significant\n",
    "def calculate_prediction(coefficients_df, row):\n",
    "    pred_sum = 0\n",
    "    for index, coef_row in coefficients_df.iterrows():\n",
    "        feature = coef_row['feature']\n",
    "        coefficient = coef_row['coefficient']\n",
    "\n",
    "        pred_sum += coefficient * row[feature]\n",
    "\n",
    "    return pred_sum\n",
    "\n",
    "def make_predictions(coefficients_df, X):\n",
    "    return X.apply(lambda x: calculate_prediction(coefficients_df, x), axis=1)\n",
    "\n",
    "# within X_test 0 fill all NaN values\n",
    "X_test = X_test.fillna(0)\n",
    "\n",
    "y_pred = make_predictions(coefficients, X_test)\n",
    "\n",
    "# make a results df with the names and then the values in millions\n",
    "results_df = pd.DataFrame({'title': X_test['title'], 'predicted': y_pred, 'actual': y_test})\n",
    "results_df['predicted'] = results_df['predicted'] / 1000000\n",
    "results_df['actual'] = results_df['actual'] / 1000000\n",
    "\n",
    "results_df.to_csv('lasso_results.csv', index=False)\n",
    "\n",
    "# make a scatter plot of the predicted vs actual\n",
    "sns.scatterplot(x='actual', y='predicted', data=results_df)\n",
    "plt.xlabel('Actual Opening Weekend Revenue (Millions)')\n",
    "plt.ylabel('Predicted Opening Weekend Revenue (Millions)')\n",
    "plt.title('Actual vs Predicted Opening Weekend Revenue')\n",
    "\n",
    "# make a line of y=x\n",
    "plt.plot([0, 100], [0, 100], color='red')"
   ]
  },
  {
   "cell_type": "code",
   "execution_count": 8,
   "metadata": {},
   "outputs": [
    {
     "data": {
      "text/plain": [
       "[<matplotlib.lines.Line2D at 0x7ab1b1114800>]"
      ]
     },
     "execution_count": 8,
     "metadata": {},
     "output_type": "execute_result"
    },
    {
     "data": {
      "image/png": "[encoded data removed]",
      "text/plain": [
       "<Figure size 640x480 with 1 Axes>"
      ]
     },
     "metadata": {},
     "output_type": "display_data"
    }
   ],
   "source": [
    "# plot the residuals\n",
    "results_df['residual'] = results_df['actual'] - results_df['predicted']\n",
    "sns.scatterplot(x='actual', y='residual', data=results_df)\n",
    "plt.xlabel('Actual Opening Weekend Revenue (Millions)')\n",
    "plt.ylabel('Residual (Millions)')\n",
    "plt.title('Residual vs Actual Opening Weekend Revenue')\n",
    "\n",
    "# line at y=0\n",
    "plt.plot([0, 200], [0, 0], color='red')"
   ]
  },
  {
   "cell_type": "code",
   "execution_count": 9,
   "metadata": {},
   "outputs": [
    {
     "data": {
      "text/plain": [
       "<Axes: xlabel='wikipedia_pre_release_cumulative_views', ylabel='opening_wide_revenue'>"
      ]
     },
     "execution_count": 9,
     "metadata": {},
     "output_type": "execute_result"
    },
    {
     "data": {
      "image/png": "[encoded data removed]",
      "text/plain": [
       "<Figure size 1500x1500 with 9 Axes>"
      ]
     },
     "metadata": {},
     "output_type": "display_data"
    }
   ],
   "source": [
    "# the following are the features that lasso found as relevant, want to do exploratory analysis\n",
    "\n",
    "# budget     0.272272\n",
    "# 7               director_median_box_office    -0.114093\n",
    "# 8                 director_mean_box_office     0.139005\n",
    "# 9          weighted_crew_median_box_office     0.135436\n",
    "# 10           weighted_crew_mean_box_office     0.112845\n",
    "# 11         weighted_cast_median_box_office    -0.079282\n",
    "# 12           weighted_cast_mean_box_office     0.145899\n",
    "# 13  wikipedia_pre_release_cumulative_views     9.358108\n",
    "\n",
    "# make a grid of scatter plots\n",
    "fig, axs = plt.subplots(3, 3, figsize=(15, 15))\n",
    "\n",
    "# budget vs opening_wide_revenue\n",
    "sns.regplot(x='budget', y='opening_wide_revenue', data=df, ax=axs[0, 0])\n",
    "\n",
    "# director_median_box_office vs opening_wide_revenue\n",
    "sns.regplot(x='director_median_box_office', y='opening_wide_revenue', data=df, ax=axs[0, 1])\n",
    "\n",
    "# director_mean_box_office vs opening_wide_revenue\n",
    "sns.regplot(x='director_mean_box_office', y='opening_wide_revenue', data=df, ax=axs[0, 2])\n",
    "\n",
    "# weighted_crew_median_box_office vs opening_wide_revenue\n",
    "sns.regplot(x='weighted_crew_median_box_office', y='opening_wide_revenue', data=df, ax=axs[1, 0])\n",
    "\n",
    "# weighted_crew_mean_box_office vs opening_wide_revenue\n",
    "sns.regplot(x='weighted_crew_mean_box_office', y='opening_wide_revenue', data=df, ax=axs[1, 1])\n",
    "\n",
    "# weighted_cast_median_box_office vs opening_wide_revenue\n",
    "sns.regplot(x='weighted_cast_median_box_office', y='opening_wide_revenue', data=df, ax=axs[1, 2])\n",
    "\n",
    "# weighted_cast_mean_box_office vs opening_wide_revenue\n",
    "sns.regplot(x='weighted_cast_mean_box_office', y='opening_wide_revenue', data=df, ax=axs[2, 0])\n",
    "\n",
    "# wikipedia_pre_release_cumulative_views vs opening_wide_revenue\n",
    "sns.regplot(x='wikipedia_pre_release_cumulative_views', y='opening_wide_revenue', data=df, ax=axs[2, 1])"
   ]
  },
  {
   "cell_type": "code",
   "execution_count": 10,
   "metadata": {},
   "outputs": [
    {
     "name": "stdout",
     "output_type": "stream",
     "text": [
      "LinearGAM                                                                                                 \n",
      "=============================================== ==========================================================\n",
      "Distribution:                        NormalDist Effective DoF:                                     83.6075\n",
      "Link Function:                     IdentityLink Log Likelihood:                                -25421.2643\n",
      "Number of Samples:                          740 AIC:                                            51011.7436\n",
      "                                                AICc:                                           51033.8803\n",
      "                                                GCV:                                     414709595924413.2\n",
      "                                                Scale:                                  331325133123453.75\n",
      "                                                Pseudo R-Squared:                                   0.8083\n",
      "==========================================================================================================\n",
      "Feature Function                  Lambda               Rank         EDoF         P > x        Sig. Code   \n",
      "================================= ==================== ============ ============ ============ ============\n",
      "s(0)                              [0.6]                20           12.7         1.11e-16     ***         \n",
      "s(1)                              [0.6]                20           10.7         8.79e-06     ***         \n",
      "s(2)                              [0.6]                20           9.2          2.22e-06     ***         \n",
      "s(3)                              [0.6]                20           10.8         4.30e-08     ***         \n",
      "s(4)                              [0.6]                20           9.1          1.94e-02     *           \n",
      "s(5)                              [0.6]                20           9.5          4.73e-05     ***         \n",
      "s(6)                              [0.6]                20           6.1          1.11e-16     ***         \n",
      "s(7)                              [0.6]                20           1.4          2.78e-04     ***         \n",
      "s(8)                              [0.6]                20           1.3          6.83e-01                 \n",
      "s(9)                              [0.6]                20           1.3          6.66e-01                 \n",
      "s(10)                             [0.6]                20           1.2          9.59e-01                 \n",
      "s(11)                             [0.6]                20           1.0          6.15e-01                 \n",
      "s(12)                             [0.6]                20           1.0          8.78e-01                 \n",
      "s(13)                             [0.6]                20           1.0          6.66e-01                 \n",
      "s(14)                             [0.6]                20           7.4          2.22e-03     **          \n",
      "intercept                                              1            0.0          1.11e-16     ***         \n",
      "==========================================================================================================\n",
      "Significance codes:  0 '***' 0.001 '**' 0.01 '*' 0.05 '.' 0.1 ' ' 1\n",
      "\n",
      "WARNING: Fitting splines and a linear function to a feature introduces a model identifiability problem\n",
      "         which can cause p-values to appear significant when they are not.\n",
      "\n",
      "WARNING: p-values calculated in this manner behave correctly for un-penalized models or models with\n",
      "         known smoothing parameters, but when smoothing parameters have been estimated, the p-values\n",
      "         are typically lower than they should be, meaning that the tests reject the null too readily.\n",
      "None\n"
     ]
    },
    {
     "name": "stderr",
     "output_type": "stream",
     "text": [
      "/tmp/ipykernel_11424/3798187377.py:12: UserWarning: KNOWN BUG: p-values computed in this summary are likely much smaller than they should be. \n",
      " \n",
      "Please do not make inferences based on these values! \n",
      "\n",
      "Collaborate on a solution, and stay up to date at: \n",
      "github.com/dswah/pyGAM/issues/163 \n",
      "\n",
      "  print(gam.summary())\n"
     ]
    }
   ],
   "source": [
    "# gam\n",
    "from pygam import LinearGAM\n",
    "\n",
    "# print(X_train_dummies.columns)\n",
    "\n",
    "relevant_features = ['budget', 'director_median_box_office', 'director_mean_box_office', 'weighted_crew_median_box_office', 'weighted_crew_mean_box_office', 'weighted_cast_mean_box_office', 'wikipedia_pre_release_cumulative_views', 'genre_Horror', 'mpaa_rating_PG-13', 'mpaa_rating_R', 'source_Original Screenplay', 'production_method_Digital Animation', 'distributor_slug_Sony-Pictures', 'distributor_slug_Warner-Bros', 'running_time']\n",
    "\n",
    "X_train_gam = X_train_dummies[relevant_features]\n",
    "\n",
    "gam = LinearGAM().fit(X_train_gam, y_train)\n",
    "\n",
    "print(gam.summary())"
   ]
  },
  {
   "cell_type": "code",
   "execution_count": 11,
   "metadata": {},
   "outputs": [
    {
     "data": {
      "application/vnd.plotly.v1+json": {
       "config": {
        "plotlyServerURL": "https://plot.ly"
       },
       "data": [
        {
         "hovertemplate": "<b>%{hovertext}</b><br><br>mpaa_rating=PG-13<br>Actual Opening Weekend Revenue (Millions)=%{x}<br>Predicted Opening Weekend Revenue (Millions)=%{y}<extra></extra>",
         "hovertext": [
          "80 for Brady",
          "Ant-Man and the Wasp: Quantumania",
          "Jesus Revolution",
          "Creed III",
          "65",
          "Shazam! Fury of the Gods",
          "Dungeons & Dragons: Honor Among Thieves",
          "His Only Son",
          "Big George Foreman: The Miraculous Story of the Once and Future Heavyweight Champion of the World",
          "Are You There God? It’s Me, Margaret",
          "Guardians of the Galaxy Vol 3",
          "Fast X",
          "Transformers: Rise of the Beasts",
          "The Flash",
          "Indiana Jones and the Dial of Destiny",
          "Sound of Freedom",
          "Insidious: The Red Door",
          "Mission: Impossible Dead Reckoning Part One",
          "Barbie",
          "Haunted Mansion",
          "Meg 2: The Trench",
          "Blue Beetle",
          "The Creator",
          "Five Nights at Freddy’s",
          "The Marvels",
          "Next Goal Wins",
          "The Hunger Games: The Ballad of Songbirds & Snakes",
          "Godzilla Minus One (ゴジラ最新作)",
          "Aquaman and the Lost Kingdom",
          "Mean Girls",
          "Argylle",
          "Madame Web",
          "Dune: Part Two",
          "Imaginary",
          "Cabrini",
          "Arthur the King",
          "Ghostbusters: Frozen Empire",
          "Godzilla x Kong: The New Empire",
          "The Fall Guy",
          "Tarot",
          "Kingdom of the Planet of the Apes",
          "The Watchers",
          "A Quiet Place: Day One",
          "Sound of Hope: The Story of Possum Trot",
          "Fly Me to the Moon",
          "Twisters",
          "It Ends With Us",
          "Reagan",
          "Beetlejuice Beetlejuice"
         ],
         "legendgroup": "PG-13",
         "marker": {
          "color": "#636efa",
          "symbol": "circle"
         },
         "mode": "markers",
         "name": "PG-13",
         "orientation": "v",
         "showlegend": true,
         "type": "scatter",
         "x": [
          12.70164,
          106.10965,
          15.882067,
          58.370007,
          12.328361,
          30.111158,
          37.205784,
          5.50107,
          2.925364,
          6.739037,
          118.414021,
          67.01741,
          61.045464,
          55.043679,
          60.368101,
          19.680879,
          33.013036,
          54.688347,
          162.022044,
          24.082475,
          30.002735,
          25.030225,
          14.079512,
          80.00172,
          46.110859,
          2.500295,
          44.607143,
          11.419975,
          27.686211,
          28.635307,
          17.47354,
          15.33586,
          82.505391,
          9.912713,
          7.16852,
          7.633898,
          45.004673,
          80.006561,
          27.747035,
          6.503012,
          58.400788,
          7.003537,
          52.202495,
          3.078758,
          9.426615,
          81.251415,
          50.016652,
          7.65072,
          111.003345
         ],
         "xaxis": "x",
         "y": [
          6.320177006227925,
          145.32279401580345,
          7.139961699776575,
          25.813687778857915,
          23.64740220956511,
          41.54537408137875,
          25.72060409249854,
          -4.232820443163663,
          12.256031270881012,
          14.574023429388307,
          131.95040562328182,
          138.79594236767366,
          97.70224835357132,
          100.6030177790639,
          166.5069931792496,
          8.305040411479354,
          12.303812851395353,
          93.19479749550521,
          76.40099423621977,
          55.13137322689314,
          29.825411243587173,
          37.034026451266406,
          33.44613522534706,
          26.582865915807016,
          142.94872220037936,
          49.257310646627054,
          45.86914032166489,
          5.275013372876525,
          76.78846501073744,
          9.989152035931944,
          65.32541113370837,
          31.552758739657282,
          85.71453132286658,
          126.0410040791776,
          1.9878924542550445,
          3.120955063500181,
          25.345099702363783,
          99.33601951890462,
          31.41666817052642,
          51.13099720652853,
          62.98029686204077,
          23.873377572974785,
          29.973198584669372,
          9.028835770678997,
          19.48972498145163,
          39.94265012159117,
          13.779619223113537,
          8.61944128938642,
          34.23547422475763
         ],
         "yaxis": "y"
        },
        {
         "hovertemplate": "<b>%{hovertext}</b><br><br>mpaa_rating=R<br>Actual Opening Weekend Revenue (Millions)=%{x}<br>Predicted Opening Weekend Revenue (Millions)=%{y}<extra></extra>",
         "hovertext": [
          "Knock at the Cabin",
          "Operation Fortune: Ruse de guerre",
          "Scream VI",
          "John Wick: Chapter 4",
          "Renfield",
          "Beau is Afraid",
          "The Pope’s Exorcist",
          "The Machine",
          "No Hard Feelings",
          "Oppenheimer",
          "Talk To Me",
          "The Last Voyage of the Demeter",
          "Strays",
          "Dumb Money",
          "Expend4bles",
          "Saw X",
          "The Exorcist: Believer",
          "Killers of the Flower Moon",
          "Priscilla",
          "Thanksgiving",
          "Napoleon",
          "American Fiction",
          "The Iron Claw",
          "Anyone But You",
          "Ferrari",
          "Civil War",
          "Abigail",
          "Challengers",
          "The Strangers: Chapter 1",
          "Furiosa: A Mad Max Saga",
          "Bad Boys: Ride or Die",
          "Horizon: An American Saga Chapter 1",
          "Deadpool & Wolverine",
          "Alien: Romulus",
          "The Crow",
          "Speak No Evil"
         ],
         "legendgroup": "R",
         "marker": {
          "color": "#EF553B",
          "symbol": "circle"
         },
         "mode": "markers",
         "name": "R",
         "orientation": "v",
         "showlegend": true,
         "type": "scatter",
         "x": [
          14.12717,
          3.140214,
          44.44727,
          73.81795,
          8.026475,
          2.661957,
          9.006368,
          5.000545,
          15.00277,
          82.45542,
          10.43172,
          6.50495,
          8.24781,
          3.325504,
          8.039021,
          18.309301,
          26.4976,
          23.253655,
          5.040003,
          10.306272,
          20.638887,
          1.755364,
          4.86837,
          6.000344,
          3.921773,
          25.537368,
          10.29711,
          15.011061,
          11.825058,
          26.326462,
          56.527324,
          11.052561,
          211.435291,
          42.003361,
          4.644666,
          11.397595
         ],
         "xaxis": "x",
         "y": [
          23.507108872312397,
          5.778278349662334,
          34.64358641827953,
          68.71345876187574,
          22.84499088239654,
          26.39250691162172,
          17.402364726804397,
          3.02136923771137,
          19.97744813549904,
          223.7076280769152,
          2.338441337625995,
          21.76560727700804,
          28.53570836584229,
          8.781455570817485,
          18.331898823096484,
          17.54407867341034,
          23.260649752958244,
          -26.940161635213197,
          -2.9263243428360375,
          17.17004131148696,
          56.980621674179844,
          4.33134726679194,
          12.026438051004604,
          9.749006066094502,
          23.986989666339785,
          10.791332817818523,
          23.53417154133937,
          29.13740666803462,
          10.138105310687497,
          43.78108296225397,
          38.08504835298281,
          20.323998327025325,
          97.39651484116357,
          35.92817048810558,
          7.268413981380686,
          13.478202625109033
         ],
         "yaxis": "y"
        },
        {
         "hovertemplate": "<b>%{hovertext}</b><br><br>mpaa_rating=PG<br>Actual Opening Weekend Revenue (Millions)=%{x}<br>Predicted Opening Weekend Revenue (Millions)=%{y}<extra></extra>",
         "hovertext": [
          "The Super Mario Bros. Movie",
          "The Little Mermaid",
          "Spider-Man: Across the Spider-Verse",
          "Elemental",
          "Ruby Gillman, Teenage Kraken",
          "Teenage Mutant Ninja Turtles: Mutant Mayhem",
          "PAW Patrol: The Mighty Movie",
          "Journey to Bethlehem",
          "Trolls Band Together",
          "Wish",
          "Wonka",
          "Migration",
          "Kung Fu Panda 4",
          "Unsung Hero",
          "IF",
          "The Garfield Movie",
          "Inside Out 2",
          "Despicable Me 4",
          "Harold and the Purple Crayon"
         ],
         "legendgroup": "PG",
         "marker": {
          "color": "#00cc96",
          "symbol": "circle"
         },
         "mode": "markers",
         "name": "PG",
         "orientation": "v",
         "showlegend": true,
         "type": "scatter",
         "x": [
          146.361865,
          95.57804,
          120.663589,
          29.602429,
          5.50099,
          28.007544,
          22.764354,
          2.400446,
          30.002525,
          19.698228,
          39.0058,
          12.453275,
          57.989905,
          7.731539,
          33.715801,
          24.006629,
          154.201673,
          75.00921,
          6.003197
         ],
         "xaxis": "x",
         "y": [
          56.318866452426704,
          96.01136028620867,
          37.747830735385364,
          89.91132309492527,
          16.16125891030022,
          10.320695867624133,
          8.248404321042642,
          15.149946194176964,
          37.49914033318368,
          14.720332830817096,
          49.921785261752575,
          47.35398066022905,
          35.19100455664764,
          1.6918704483450204,
          38.96161729915722,
          20.884036117585598,
          105.51033452522755,
          82.44620081570105,
          16.330706478846974
         ],
         "yaxis": "y"
        },
        {
         "line": {
          "color": "red"
         },
         "mode": "lines",
         "showlegend": false,
         "type": "scatter",
         "x": [
          0,
          200
         ],
         "y": [
          0,
          200
         ]
        }
       ],
       "layout": {
        "legend": {
         "title": {
          "text": "mpaa_rating"
         },
         "tracegroupgap": 0
        },
        "template": {
         "data": {
          "bar": [
           {
            "error_x": {
             "color": "#2a3f5f"
            },
            "error_y": {
             "color": "#2a3f5f"
            },
            "marker": {
             "line": {
              "color": "#E5ECF6",
              "width": 0.5
             },
             "pattern": {
              "fillmode": "overlay",
              "size": 10,
              "solidity": 0.2
             }
            },
            "type": "bar"
           }
          ],
          "barpolar": [
           {
            "marker": {
             "line": {
              "color": "#E5ECF6",
              "width": 0.5
             },
             "pattern": {
              "fillmode": "overlay",
              "size": 10,
              "solidity": 0.2
             }
            },
            "type": "barpolar"
           }
          ],
          "carpet": [
           {
            "aaxis": {
             "endlinecolor": "#2a3f5f",
             "gridcolor": "white",
             "linecolor": "white",
             "minorgridcolor": "white",
             "startlinecolor": "#2a3f5f"
            },
            "baxis": {
             "endlinecolor": "#2a3f5f",
             "gridcolor": "white",
             "linecolor": "white",
             "minorgridcolor": "white",
             "startlinecolor": "#2a3f5f"
            },
            "type": "carpet"
           }
          ],
          "choropleth": [
           {
            "colorbar": {
             "outlinewidth": 0,
             "ticks": ""
            },
            "type": "choropleth"
           }
          ],
          "contour": [
           {
            "colorbar": {
             "outlinewidth": 0,
             "ticks": ""
            },
            "colorscale": [
             [
              0,
              "#0d0887"
             ],
             [
              0.1111111111111111,
              "#46039f"
             ],
             [
              0.2222222222222222,
              "#7201a8"
             ],
             [
              0.3333333333333333,
              "#9c179e"
             ],
             [
              0.4444444444444444,
              "#bd3786"
             ],
             [
              0.5555555555555556,
              "#d8576b"
             ],
             [
              0.6666666666666666,
              "#ed7953"
             ],
             [
              0.7777777777777778,
              "#fb9f3a"
             ],
             [
              0.8888888888888888,
              "#fdca26"
             ],
             [
              1,
              "#f0f921"
             ]
            ],
            "type": "contour"
           }
          ],
          "contourcarpet": [
           {
            "colorbar": {
             "outlinewidth": 0,
             "ticks": ""
            },
            "type": "contourcarpet"
           }
          ],
          "heatmap": [
           {
            "colorbar": {
             "outlinewidth": 0,
             "ticks": ""
            },
            "colorscale": [
             [
              0,
              "#0d0887"
             ],
             [
              0.1111111111111111,
              "#46039f"
             ],
             [
              0.2222222222222222,
              "#7201a8"
             ],
             [
              0.3333333333333333,
              "#9c179e"
             ],
             [
              0.4444444444444444,
              "#bd3786"
             ],
             [
              0.5555555555555556,
              "#d8576b"
             ],
             [
              0.6666666666666666,
              "#ed7953"
             ],
             [
              0.7777777777777778,
              "#fb9f3a"
             ],
             [
              0.8888888888888888,
              "#fdca26"
             ],
             [
              1,
              "#f0f921"
             ]
            ],
            "type": "heatmap"
           }
          ],
          "heatmapgl": [
           {
            "colorbar": {
             "outlinewidth": 0,
             "ticks": ""
            },
            "colorscale": [
             [
              0,
              "#0d0887"
             ],
             [
              0.1111111111111111,
              "#46039f"
             ],
             [
              0.2222222222222222,
              "#7201a8"
             ],
             [
              0.3333333333333333,
              "#9c179e"
             ],
             [
              0.4444444444444444,
              "#bd3786"
             ],
             [
              0.5555555555555556,
              "#d8576b"
             ],
             [
              0.6666666666666666,
              "#ed7953"
             ],
             [
              0.7777777777777778,
              "#fb9f3a"
             ],
             [
              0.8888888888888888,
              "#fdca26"
             ],
             [
              1,
              "#f0f921"
             ]
            ],
            "type": "heatmapgl"
           }
          ],
          "histogram": [
           {
            "marker": {
             "pattern": {
              "fillmode": "overlay",
              "size": 10,
              "solidity": 0.2
             }
            },
            "type": "histogram"
           }
          ],
          "histogram2d": [
           {
            "colorbar": {
             "outlinewidth": 0,
             "ticks": ""
            },
            "colorscale": [
             [
              0,
              "#0d0887"
             ],
             [
              0.1111111111111111,
              "#46039f"
             ],
             [
              0.2222222222222222,
              "#7201a8"
             ],
             [
              0.3333333333333333,
              "#9c179e"
             ],
             [
              0.4444444444444444,
              "#bd3786"
             ],
             [
              0.5555555555555556,
              "#d8576b"
             ],
             [
              0.6666666666666666,
              "#ed7953"
             ],
             [
              0.7777777777777778,
              "#fb9f3a"
             ],
             [
              0.8888888888888888,
              "#fdca26"
             ],
             [
              1,
              "#f0f921"
             ]
            ],
            "type": "histogram2d"
           }
          ],
          "histogram2dcontour": [
           {
            "colorbar": {
             "outlinewidth": 0,
             "ticks": ""
            },
            "colorscale": [
             [
              0,
              "#0d0887"
             ],
             [
              0.1111111111111111,
              "#46039f"
             ],
             [
              0.2222222222222222,
              "#7201a8"
             ],
             [
              0.3333333333333333,
              "#9c179e"
             ],
             [
              0.4444444444444444,
              "#bd3786"
             ],
             [
              0.5555555555555556,
              "#d8576b"
             ],
             [
              0.6666666666666666,
              "#ed7953"
             ],
             [
              0.7777777777777778,
              "#fb9f3a"
             ],
             [
              0.8888888888888888,
              "#fdca26"
             ],
             [
              1,
              "#f0f921"
             ]
            ],
            "type": "histogram2dcontour"
           }
          ],
          "mesh3d": [
           {
            "colorbar": {
             "outlinewidth": 0,
             "ticks": ""
            },
            "type": "mesh3d"
           }
          ],
          "parcoords": [
           {
            "line": {
             "colorbar": {
              "outlinewidth": 0,
              "ticks": ""
             }
            },
            "type": "parcoords"
           }
          ],
          "pie": [
           {
            "automargin": true,
            "type": "pie"
           }
          ],
          "scatter": [
           {
            "fillpattern": {
             "fillmode": "overlay",
             "size": 10,
             "solidity": 0.2
            },
            "type": "scatter"
           }
          ],
          "scatter3d": [
           {
            "line": {
             "colorbar": {
              "outlinewidth": 0,
              "ticks": ""
             }
            },
            "marker": {
             "colorbar": {
              "outlinewidth": 0,
              "ticks": ""
             }
            },
            "type": "scatter3d"
           }
          ],
          "scattercarpet": [
           {
            "marker": {
             "colorbar": {
              "outlinewidth": 0,
              "ticks": ""
             }
            },
            "type": "scattercarpet"
           }
          ],
          "scattergeo": [
           {
            "marker": {
             "colorbar": {
              "outlinewidth": 0,
              "ticks": ""
             }
            },
            "type": "scattergeo"
           }
          ],
          "scattergl": [
           {
            "marker": {
             "colorbar": {
              "outlinewidth": 0,
              "ticks": ""
             }
            },
            "type": "scattergl"
           }
          ],
          "scattermapbox": [
           {
            "marker": {
             "colorbar": {
              "outlinewidth": 0,
              "ticks": ""
             }
            },
            "type": "scattermapbox"
           }
          ],
          "scatterpolar": [
           {
            "marker": {
             "colorbar": {
              "outlinewidth": 0,
              "ticks": ""
             }
            },
            "type": "scatterpolar"
           }
          ],
          "scatterpolargl": [
           {
            "marker": {
             "colorbar": {
              "outlinewidth": 0,
              "ticks": ""
             }
            },
            "type": "scatterpolargl"
           }
          ],
          "scatterternary": [
           {
            "marker": {
             "colorbar": {
              "outlinewidth": 0,
              "ticks": ""
             }
            },
            "type": "scatterternary"
           }
          ],
          "surface": [
           {
            "colorbar": {
             "outlinewidth": 0,
             "ticks": ""
            },
            "colorscale": [
             [
              0,
              "#0d0887"
             ],
             [
              0.1111111111111111,
              "#46039f"
             ],
             [
              0.2222222222222222,
              "#7201a8"
             ],
             [
              0.3333333333333333,
              "#9c179e"
             ],
             [
              0.4444444444444444,
              "#bd3786"
             ],
             [
              0.5555555555555556,
              "#d8576b"
             ],
             [
              0.6666666666666666,
              "#ed7953"
             ],
             [
              0.7777777777777778,
              "#fb9f3a"
             ],
             [
              0.8888888888888888,
              "#fdca26"
             ],
             [
              1,
              "#f0f921"
             ]
            ],
            "type": "surface"
           }
          ],
          "table": [
           {
            "cells": {
             "fill": {
              "color": "#EBF0F8"
             },
             "line": {
              "color": "white"
             }
            },
            "header": {
             "fill": {
              "color": "#C8D4E3"
             },
             "line": {
              "color": "white"
             }
            },
            "type": "table"
           }
          ]
         },
         "layout": {
          "annotationdefaults": {
           "arrowcolor": "#2a3f5f",
           "arrowhead": 0,
           "arrowwidth": 1
          },
          "autotypenumbers": "strict",
          "coloraxis": {
           "colorbar": {
            "outlinewidth": 0,
            "ticks": ""
           }
          },
          "colorscale": {
           "diverging": [
            [
             0,
             "#8e0152"
            ],
            [
             0.1,
             "#c51b7d"
            ],
            [
             0.2,
             "#de77ae"
            ],
            [
             0.3,
             "#f1b6da"
            ],
            [
             0.4,
             "#fde0ef"
            ],
            [
             0.5,
             "#f7f7f7"
            ],
            [
             0.6,
             "#e6f5d0"
            ],
            [
             0.7,
             "#b8e186"
            ],
            [
             0.8,
             "#7fbc41"
            ],
            [
             0.9,
             "#4d9221"
            ],
            [
             1,
             "#276419"
            ]
           ],
           "sequential": [
            [
             0,
             "#0d0887"
            ],
            [
             0.1111111111111111,
             "#46039f"
            ],
            [
             0.2222222222222222,
             "#7201a8"
            ],
            [
             0.3333333333333333,
             "#9c179e"
            ],
            [
             0.4444444444444444,
             "#bd3786"
            ],
            [
             0.5555555555555556,
             "#d8576b"
            ],
            [
             0.6666666666666666,
             "#ed7953"
            ],
            [
             0.7777777777777778,
             "#fb9f3a"
            ],
            [
             0.8888888888888888,
             "#fdca26"
            ],
            [
             1,
             "#f0f921"
            ]
           ],
           "sequentialminus": [
            [
             0,
             "#0d0887"
            ],
            [
             0.1111111111111111,
             "#46039f"
            ],
            [
             0.2222222222222222,
             "#7201a8"
            ],
            [
             0.3333333333333333,
             "#9c179e"
            ],
            [
             0.4444444444444444,
             "#bd3786"
            ],
            [
             0.5555555555555556,
             "#d8576b"
            ],
            [
             0.6666666666666666,
             "#ed7953"
            ],
            [
             0.7777777777777778,
             "#fb9f3a"
            ],
            [
             0.8888888888888888,
             "#fdca26"
            ],
            [
             1,
             "#f0f921"
            ]
           ]
          },
          "colorway": [
           "#636efa",
           "#EF553B",
           "#00cc96",
           "#ab63fa",
           "#FFA15A",
           "#19d3f3",
           "#FF6692",
           "#B6E880",
           "#FF97FF",
           "#FECB52"
          ],
          "font": {
           "color": "#2a3f5f"
          },
          "geo": {
           "bgcolor": "white",
           "lakecolor": "white",
           "landcolor": "#E5ECF6",
           "showlakes": true,
           "showland": true,
           "subunitcolor": "white"
          },
          "hoverlabel": {
           "align": "left"
          },
          "hovermode": "closest",
          "mapbox": {
           "style": "light"
          },
          "paper_bgcolor": "white",
          "plot_bgcolor": "#E5ECF6",
          "polar": {
           "angularaxis": {
            "gridcolor": "white",
            "linecolor": "white",
            "ticks": ""
           },
           "bgcolor": "#E5ECF6",
           "radialaxis": {
            "gridcolor": "white",
            "linecolor": "white",
            "ticks": ""
           }
          },
          "scene": {
           "xaxis": {
            "backgroundcolor": "#E5ECF6",
            "gridcolor": "white",
            "gridwidth": 2,
            "linecolor": "white",
            "showbackground": true,
            "ticks": "",
            "zerolinecolor": "white"
           },
           "yaxis": {
            "backgroundcolor": "#E5ECF6",
            "gridcolor": "white",
            "gridwidth": 2,
            "linecolor": "white",
            "showbackground": true,
            "ticks": "",
            "zerolinecolor": "white"
           },
           "zaxis": {
            "backgroundcolor": "#E5ECF6",
            "gridcolor": "white",
            "gridwidth": 2,
            "linecolor": "white",
            "showbackground": true,
            "ticks": "",
            "zerolinecolor": "white"
           }
          },
          "shapedefaults": {
           "line": {
            "color": "#2a3f5f"
           }
          },
          "ternary": {
           "aaxis": {
            "gridcolor": "white",
            "linecolor": "white",
            "ticks": ""
           },
           "baxis": {
            "gridcolor": "white",
            "linecolor": "white",
            "ticks": ""
           },
           "bgcolor": "#E5ECF6",
           "caxis": {
            "gridcolor": "white",
            "linecolor": "white",
            "ticks": ""
           }
          },
          "title": {
           "x": 0.05
          },
          "xaxis": {
           "automargin": true,
           "gridcolor": "white",
           "linecolor": "white",
           "ticks": "",
           "title": {
            "standoff": 15
           },
           "zerolinecolor": "white",
           "zerolinewidth": 2
          },
          "yaxis": {
           "automargin": true,
           "gridcolor": "white",
           "linecolor": "white",
           "ticks": "",
           "title": {
            "standoff": 15
           },
           "zerolinecolor": "white",
           "zerolinewidth": 2
          }
         }
        },
        "title": {
         "text": "Actual vs Predicted Opening Weekend Revenue"
        },
        "xaxis": {
         "anchor": "y",
         "domain": [
          0,
          1
         ],
         "title": {
          "text": "Actual Opening Weekend Revenue (Millions)"
         }
        },
        "yaxis": {
         "anchor": "x",
         "domain": [
          0,
          1
         ],
         "title": {
          "text": "Predicted Opening Weekend Revenue (Millions)"
         }
        }
       }
      }
     },
     "metadata": {},
     "output_type": "display_data"
    }
   ],
   "source": [
    "# plot actual vs predicted\n",
    "y_pred_gam = gam.predict(X_test[relevant_features])\n",
    "\n",
    "results_df_gam = pd.DataFrame({'predicted': y_pred_gam, 'actual': y_test})\n",
    "\n",
    "# now add in X_test title, source, distributor, genre, creative_type, production_method, mpaa_rating, and release_day\n",
    "results_df_gam['title'] = X_test['title']\n",
    "results_df_gam['source'] = X_test['source']\n",
    "results_df_gam['distributor_slug'] = X_test['distributor_slug']\n",
    "results_df_gam['genre'] = X_test['genre']\n",
    "results_df_gam['creative_type'] = X_test['creative_type']\n",
    "results_df_gam['production_method'] = X_test['production_method']\n",
    "results_df_gam['mpaa_rating'] = X_test['mpaa_rating']\n",
    "results_df_gam['release_day'] = X_test['release_day']\n",
    "\n",
    "results_df_gam['predicted'] = results_df_gam['predicted'] / 1000000\n",
    "\n",
    "results_df_gam['actual'] = results_df_gam['actual'] / 1000000\n",
    "\n",
    "# results_df_gam.to_csv('gam_results.csv', index=False)\n",
    "import plotly.express as px\n",
    "import plotly.graph_objects as go\n",
    "\n",
    "# Create the scatter plot\n",
    "fig = px.scatter(\n",
    "    results_df_gam,\n",
    "    x='actual',\n",
    "    y='predicted',\n",
    "    color='mpaa_rating',\n",
    "    labels={\n",
    "        'actual': 'Actual Opening Weekend Revenue (Millions)',\n",
    "        'predicted': 'Predicted Opening Weekend Revenue (Millions)'\n",
    "    },\n",
    "    title='Actual vs Predicted Opening Weekend Revenue',\n",
    "    hover_name='title'\n",
    ")\n",
    "\n",
    "# Add the diagonal line\n",
    "fig.add_trace(\n",
    "    go.Scatter(\n",
    "        x=[0, 200],\n",
    "        y=[0, 200],\n",
    "        mode='lines',\n",
    "        line=dict(color='red'),\n",
    "        showlegend=False\n",
    "    )\n",
    ")\n",
    "\n",
    "# Show the plot\n",
    "fig.show()"
   ]
  },
  {
   "cell_type": "code",
   "execution_count": 16,
   "metadata": {},
   "outputs": [
    {
     "name": "stdout",
     "output_type": "stream",
     "text": [
      "                                    Results: Ordinary least squares\n",
      "=======================================================================================================\n",
      "Model:                         OLS                        Adj. R-squared (uncentered):       0.792     \n",
      "Dependent Variable:            opening_wide_revenue       AIC:                               27116.5118\n",
      "Date:                          2024-10-29 19:10           BIC:                               27139.5451\n",
      "No. Observations:              740                        Log-Likelihood:                    -13553.   \n",
      "Df Model:                      5                          F-statistic:                       565.5     \n",
      "Df Residuals:                  735                        Prob (F-statistic):                4.73e-249 \n",
      "R-squared (uncentered):        0.794                      Scale:                             4.7738e+14\n",
      "-------------------------------------------------------------------------------------------------------\n",
      "                                          Coef.      Std.Err.     t    P>|t|     [0.025       0.975]   \n",
      "-------------------------------------------------------------------------------------------------------\n",
      "budget                                       0.2000     0.0183 10.9530 0.0000       0.1641       0.2358\n",
      "weighted_crew_median_box_office              0.8125     0.1437  5.6548 0.0000       0.5304       1.0946\n",
      "weighted_cast_mean_box_office                0.3116     0.0693  4.4967 0.0000       0.1756       0.4477\n",
      "wikipedia_pre_release_cumulative_views      20.1075     1.2368 16.2579 0.0000      17.6794      22.5355\n",
      "running_time                           -145937.0748 16918.5857 -8.6258 0.0000 -179151.5881 -112722.5615\n",
      "-------------------------------------------------------------------------------------------------------\n",
      "Omnibus:                         343.397                   Durbin-Watson:                      1.891   \n",
      "Prob(Omnibus):                   0.000                     Jarque-Bera (JB):                   3130.282\n",
      "Skew:                            1.864                     Prob(JB):                           0.000   \n",
      "Kurtosis:                        12.361                    Condition No.:                      2005273 \n",
      "=======================================================================================================\n",
      "Notes:\n",
      "[1] R² is computed without centering (uncentered) since the                 model does not contain a\n",
      "constant.\n",
      "[2] Standard Errors assume that the covariance matrix of the errors is correctly specified.\n",
      "[3] The condition number is large, 2.01e+06. This might indicate                that there are strong\n",
      "multicollinearity or other numerical                problems.\n"
     ]
    }
   ],
   "source": [
    "relevant_features = [\n",
    "    \"budget\",\n",
    "    # \"director_median_box_office\",\n",
    "    # \"director_mean_box_office\",\n",
    "    \"weighted_crew_median_box_office\",\n",
    "    # \"weighted_crew_mean_box_office\",\n",
    "    \"weighted_cast_mean_box_office\",\n",
    "    \"wikipedia_pre_release_cumulative_views\",\n",
    "    # \"wikipedia_pre_release_monday_views\",\n",
    "    # \"wikipedia_pre_release_week_monday\",\n",
    "    # \"wikipedia_pre_release_three_monday\",\n",
    "    # \"genre_Horror\",\n",
    "    # \"mpaa_rating_PG-13\",\n",
    "    # \"mpaa_rating_R\",\n",
    "    # \"source_Original Screenplay\",\n",
    "    # \"production_method_Digital Animation\",\n",
    "    # \"distributor_slug_Sony-Pictures\",\n",
    "    # \"distributor_slug_Warner-Bros\",\n",
    "    \"running_time\",\n",
    "]\n",
    "\n",
    "# make an MLR with these features\n",
    "X_train_mlr = X_train_dummies[relevant_features]\n",
    "\n",
    "model_mlr = OLS(y_train, X_train_mlr)\n",
    "\n",
    "results_mlr = model_mlr.fit()\n",
    "\n",
    "print(results_mlr.summary2(float_format=millions))"
   ]
  },
  {
   "cell_type": "code",
   "execution_count": 13,
   "metadata": {},
   "outputs": [
    {
     "data": {
      "application/vnd.plotly.v1+json": {
       "config": {
        "plotlyServerURL": "https://plot.ly"
       },
       "data": [
        {
         "hovertemplate": "<b>%{hovertext}</b><br><br>mpaa_rating=PG-13<br>Actual Opening Weekend Revenue (Millions)=%{x}<br>Predicted Opening Weekend Revenue (Millions)=%{y}<extra></extra>",
         "hovertext": [
          "80 for Brady",
          "Ant-Man and the Wasp: Quantumania",
          "Jesus Revolution",
          "Creed III",
          "65",
          "Shazam! Fury of the Gods",
          "Dungeons & Dragons: Honor Among Thieves",
          "His Only Son",
          "Big George Foreman: The Miraculous Story of the Once and Future Heavyweight Champion of the World",
          "Are You There God? It’s Me, Margaret",
          "Guardians of the Galaxy Vol 3",
          "Fast X",
          "Transformers: Rise of the Beasts",
          "The Flash",
          "Indiana Jones and the Dial of Destiny",
          "Sound of Freedom",
          "Insidious: The Red Door",
          "Mission: Impossible Dead Reckoning Part One",
          "Barbie",
          "Haunted Mansion",
          "Meg 2: The Trench",
          "Blue Beetle",
          "The Creator",
          "Five Nights at Freddy’s",
          "The Marvels",
          "Next Goal Wins",
          "The Hunger Games: The Ballad of Songbirds & Snakes",
          "Godzilla Minus One (ゴジラ最新作)",
          "Aquaman and the Lost Kingdom",
          "Mean Girls",
          "Argylle",
          "Madame Web",
          "Dune: Part Two",
          "Imaginary",
          "Cabrini",
          "Arthur the King",
          "Ghostbusters: Frozen Empire",
          "Godzilla x Kong: The New Empire",
          "The Fall Guy",
          "Tarot",
          "Kingdom of the Planet of the Apes",
          "The Watchers",
          "A Quiet Place: Day One",
          "Sound of Hope: The Story of Possum Trot",
          "Fly Me to the Moon",
          "Twisters",
          "It Ends With Us",
          "Reagan",
          "Beetlejuice Beetlejuice"
         ],
         "legendgroup": "PG-13",
         "marker": {
          "color": "#636efa",
          "symbol": "circle"
         },
         "mode": "markers",
         "name": "PG-13",
         "orientation": "v",
         "showlegend": true,
         "type": "scatter",
         "x": [
          12.70164,
          106.10965,
          15.882067,
          58.370007,
          12.328361,
          30.111158,
          37.205784,
          5.50107,
          2.925364,
          6.739037,
          118.414021,
          67.01741,
          61.045464,
          55.043679,
          60.368101,
          19.680879,
          33.013036,
          54.688347,
          162.022044,
          24.082475,
          30.002735,
          25.030225,
          14.079512,
          80.00172,
          46.110859,
          2.500295,
          44.607143,
          11.419975,
          27.686211,
          28.635307,
          17.47354,
          15.33586,
          82.505391,
          9.912713,
          7.16852,
          7.633898,
          45.004673,
          80.006561,
          27.747035,
          6.503012,
          58.400788,
          7.003537,
          52.202495,
          3.078758,
          9.426615,
          81.251415,
          50.016652,
          7.65072,
          111.003345
         ],
         "xaxis": "x",
         "y": [
          6.248317780820999,
          99.17374500472886,
          -1.4416103862690814,
          31.772087783769077,
          29.586201518404902,
          43.55044787380512,
          45.66178716407978,
          -13.429593307746403,
          1.5865275907372292,
          14.108818591724788,
          120.91770637558615,
          122.41237100573582,
          79.4485889509822,
          81.86462492054196,
          140.80834935627885,
          4.263338822164972,
          10.472301207896795,
          121.06692045487641,
          87.67847040395992,
          55.733050672418365,
          38.9903686528186,
          56.13897472724597,
          36.786371285872896,
          22.117485091324465,
          111.44458973019677,
          18.465434536769873,
          39.96276722834333,
          -5.254851011621877,
          71.49493771747535,
          17.265467829969673,
          70.28290063231181,
          35.05571255819487,
          85.90008146021627,
          31.8696698844187,
          11.765515784282256,
          1.2391477598105614,
          38.99638082557081,
          78.46964201829708,
          55.74283822268665,
          13.954818594468962,
          71.37714998922401,
          16.872742655619188,
          33.63118379325757,
          4.097823242674923,
          31.51019763655909,
          69.44474240443606,
          13.217568428652484,
          5.932297777397085,
          54.05568907796061
         ],
         "yaxis": "y"
        },
        {
         "hovertemplate": "<b>%{hovertext}</b><br><br>mpaa_rating=R<br>Actual Opening Weekend Revenue (Millions)=%{x}<br>Predicted Opening Weekend Revenue (Millions)=%{y}<extra></extra>",
         "hovertext": [
          "Knock at the Cabin",
          "Operation Fortune: Ruse de guerre",
          "Scream VI",
          "John Wick: Chapter 4",
          "Renfield",
          "Beau is Afraid",
          "The Pope’s Exorcist",
          "The Machine",
          "No Hard Feelings",
          "Oppenheimer",
          "Talk To Me",
          "The Last Voyage of the Demeter",
          "Strays",
          "Dumb Money",
          "Expend4bles",
          "Saw X",
          "The Exorcist: Believer",
          "Killers of the Flower Moon",
          "Priscilla",
          "Thanksgiving",
          "Napoleon",
          "American Fiction",
          "The Iron Claw",
          "Anyone But You",
          "Ferrari",
          "Civil War",
          "Abigail",
          "Challengers",
          "The Strangers: Chapter 1",
          "Furiosa: A Mad Max Saga",
          "Bad Boys: Ride or Die",
          "Horizon: An American Saga Chapter 1",
          "Deadpool & Wolverine",
          "Alien: Romulus",
          "The Crow",
          "Speak No Evil"
         ],
         "legendgroup": "R",
         "marker": {
          "color": "#EF553B",
          "symbol": "circle"
         },
         "mode": "markers",
         "name": "R",
         "orientation": "v",
         "showlegend": true,
         "type": "scatter",
         "x": [
          14.12717,
          3.140214,
          44.44727,
          73.81795,
          8.026475,
          2.661957,
          9.006368,
          5.000545,
          15.00277,
          82.45542,
          10.43172,
          6.50495,
          8.24781,
          3.325504,
          8.039021,
          18.309301,
          26.4976,
          23.253655,
          5.040003,
          10.306272,
          20.638887,
          1.755364,
          4.86837,
          6.000344,
          3.921773,
          25.537368,
          10.29711,
          15.011061,
          11.825058,
          26.326462,
          56.527324,
          11.052561,
          211.435291,
          42.003361,
          4.644666,
          11.397595
         ],
         "xaxis": "x",
         "y": [
          18.693412834030468,
          15.156486157859428,
          27.234330226189503,
          62.99852406982371,
          31.143542723123826,
          3.2708989988479167,
          13.975394518445352,
          3.8676143990581724,
          23.09723889137706,
          143.68883822712033,
          -3.983654780789856,
          18.35306061107359,
          27.164060654398718,
          7.830248620830294,
          30.902990263985302,
          3.407500643683715,
          11.945441589996014,
          71.3646645944669,
          -1.211394754638994,
          7.245929149108903,
          76.51309173771438,
          35.28906676254287,
          9.784790044391144,
          12.827857583514842,
          33.345851764965865,
          25.883024480040643,
          20.280004915283094,
          34.64646636432974,
          12.20439854630799,
          57.80164746796161,
          33.24144486820507,
          6.768692736035597,
          93.41481908158497,
          36.263986281816265,
          18.505517118097092,
          9.3056533012631
         ],
         "yaxis": "y"
        },
        {
         "hovertemplate": "<b>%{hovertext}</b><br><br>mpaa_rating=PG<br>Actual Opening Weekend Revenue (Millions)=%{x}<br>Predicted Opening Weekend Revenue (Millions)=%{y}<extra></extra>",
         "hovertext": [
          "The Super Mario Bros. Movie",
          "The Little Mermaid",
          "Spider-Man: Across the Spider-Verse",
          "Elemental",
          "Ruby Gillman, Teenage Kraken",
          "Teenage Mutant Ninja Turtles: Mutant Mayhem",
          "PAW Patrol: The Mighty Movie",
          "Journey to Bethlehem",
          "Trolls Band Together",
          "Wish",
          "Wonka",
          "Migration",
          "Kung Fu Panda 4",
          "Unsung Hero",
          "IF",
          "The Garfield Movie",
          "Inside Out 2",
          "Despicable Me 4",
          "Harold and the Purple Crayon"
         ],
         "legendgroup": "PG",
         "marker": {
          "color": "#00cc96",
          "symbol": "circle"
         },
         "mode": "markers",
         "name": "PG",
         "orientation": "v",
         "showlegend": true,
         "type": "scatter",
         "x": [
          146.361865,
          95.57804,
          120.663589,
          29.602429,
          5.50099,
          28.007544,
          22.764354,
          2.400446,
          30.002525,
          19.698228,
          39.0058,
          12.453275,
          57.989905,
          7.731539,
          33.715801,
          24.006629,
          154.201673,
          75.00921,
          6.003197
         ],
         "xaxis": "x",
         "y": [
          65.30846534171096,
          94.73033027944906,
          46.65560323288308,
          86.76878744525413,
          33.521232649250095,
          13.578261671570212,
          18.11641238262343,
          5.840346500538238,
          62.090380975494234,
          101.5509524373486,
          81.94933034092647,
          35.346557663742985,
          51.99425701647635,
          -1.050799274305364,
          48.1166339112498,
          30.163881089001322,
          107.27268741116374,
          65.36201604746557,
          22.481670767548273
         ],
         "yaxis": "y"
        },
        {
         "line": {
          "color": "red"
         },
         "mode": "lines",
         "showlegend": false,
         "type": "scatter",
         "x": [
          0,
          200
         ],
         "y": [
          0,
          200
         ]
        }
       ],
       "layout": {
        "legend": {
         "title": {
          "text": "mpaa_rating"
         },
         "tracegroupgap": 0
        },
        "template": {
         "data": {
          "bar": [
           {
            "error_x": {
             "color": "#2a3f5f"
            },
            "error_y": {
             "color": "#2a3f5f"
            },
            "marker": {
             "line": {
              "color": "#E5ECF6",
              "width": 0.5
             },
             "pattern": {
              "fillmode": "overlay",
              "size": 10,
              "solidity": 0.2
             }
            },
            "type": "bar"
           }
          ],
          "barpolar": [
           {
            "marker": {
             "line": {
              "color": "#E5ECF6",
              "width": 0.5
             },
             "pattern": {
              "fillmode": "overlay",
              "size": 10,
              "solidity": 0.2
             }
            },
            "type": "barpolar"
           }
          ],
          "carpet": [
           {
            "aaxis": {
             "endlinecolor": "#2a3f5f",
             "gridcolor": "white",
             "linecolor": "white",
             "minorgridcolor": "white",
             "startlinecolor": "#2a3f5f"
            },
            "baxis": {
             "endlinecolor": "#2a3f5f",
             "gridcolor": "white",
             "linecolor": "white",
             "minorgridcolor": "white",
             "startlinecolor": "#2a3f5f"
            },
            "type": "carpet"
           }
          ],
          "choropleth": [
           {
            "colorbar": {
             "outlinewidth": 0,
             "ticks": ""
            },
            "type": "choropleth"
           }
          ],
          "contour": [
           {
            "colorbar": {
             "outlinewidth": 0,
             "ticks": ""
            },
            "colorscale": [
             [
              0,
              "#0d0887"
             ],
             [
              0.1111111111111111,
              "#46039f"
             ],
             [
              0.2222222222222222,
              "#7201a8"
             ],
             [
              0.3333333333333333,
              "#9c179e"
             ],
             [
              0.4444444444444444,
              "#bd3786"
             ],
             [
              0.5555555555555556,
              "#d8576b"
             ],
             [
              0.6666666666666666,
              "#ed7953"
             ],
             [
              0.7777777777777778,
              "#fb9f3a"
             ],
             [
              0.8888888888888888,
              "#fdca26"
             ],
             [
              1,
              "#f0f921"
             ]
            ],
            "type": "contour"
           }
          ],
          "contourcarpet": [
           {
            "colorbar": {
             "outlinewidth": 0,
             "ticks": ""
            },
            "type": "contourcarpet"
           }
          ],
          "heatmap": [
           {
            "colorbar": {
             "outlinewidth": 0,
             "ticks": ""
            },
            "colorscale": [
             [
              0,
              "#0d0887"
             ],
             [
              0.1111111111111111,
              "#46039f"
             ],
             [
              0.2222222222222222,
              "#7201a8"
             ],
             [
              0.3333333333333333,
              "#9c179e"
             ],
             [
              0.4444444444444444,
              "#bd3786"
             ],
             [
              0.5555555555555556,
              "#d8576b"
             ],
             [
              0.6666666666666666,
              "#ed7953"
             ],
             [
              0.7777777777777778,
              "#fb9f3a"
             ],
             [
              0.8888888888888888,
              "#fdca26"
             ],
             [
              1,
              "#f0f921"
             ]
            ],
            "type": "heatmap"
           }
          ],
          "heatmapgl": [
           {
            "colorbar": {
             "outlinewidth": 0,
             "ticks": ""
            },
            "colorscale": [
             [
              0,
              "#0d0887"
             ],
             [
              0.1111111111111111,
              "#46039f"
             ],
             [
              0.2222222222222222,
              "#7201a8"
             ],
             [
              0.3333333333333333,
              "#9c179e"
             ],
             [
              0.4444444444444444,
              "#bd3786"
             ],
             [
              0.5555555555555556,
              "#d8576b"
             ],
             [
              0.6666666666666666,
              "#ed7953"
             ],
             [
              0.7777777777777778,
              "#fb9f3a"
             ],
             [
              0.8888888888888888,
              "#fdca26"
             ],
             [
              1,
              "#f0f921"
             ]
            ],
            "type": "heatmapgl"
           }
          ],
          "histogram": [
           {
            "marker": {
             "pattern": {
              "fillmode": "overlay",
              "size": 10,
              "solidity": 0.2
             }
            },
            "type": "histogram"
           }
          ],
          "histogram2d": [
           {
            "colorbar": {
             "outlinewidth": 0,
             "ticks": ""
            },
            "colorscale": [
             [
              0,
              "#0d0887"
             ],
             [
              0.1111111111111111,
              "#46039f"
             ],
             [
              0.2222222222222222,
              "#7201a8"
             ],
             [
              0.3333333333333333,
              "#9c179e"
             ],
             [
              0.4444444444444444,
              "#bd3786"
             ],
             [
              0.5555555555555556,
              "#d8576b"
             ],
             [
              0.6666666666666666,
              "#ed7953"
             ],
             [
              0.7777777777777778,
              "#fb9f3a"
             ],
             [
              0.8888888888888888,
              "#fdca26"
             ],
             [
              1,
              "#f0f921"
             ]
            ],
            "type": "histogram2d"
           }
          ],
          "histogram2dcontour": [
           {
            "colorbar": {
             "outlinewidth": 0,
             "ticks": ""
            },
            "colorscale": [
             [
              0,
              "#0d0887"
             ],
             [
              0.1111111111111111,
              "#46039f"
             ],
             [
              0.2222222222222222,
              "#7201a8"
             ],
             [
              0.3333333333333333,
              "#9c179e"
             ],
             [
              0.4444444444444444,
              "#bd3786"
             ],
             [
              0.5555555555555556,
              "#d8576b"
             ],
             [
              0.6666666666666666,
              "#ed7953"
             ],
             [
              0.7777777777777778,
              "#fb9f3a"
             ],
             [
              0.8888888888888888,
              "#fdca26"
             ],
             [
              1,
              "#f0f921"
             ]
            ],
            "type": "histogram2dcontour"
           }
          ],
          "mesh3d": [
           {
            "colorbar": {
             "outlinewidth": 0,
             "ticks": ""
            },
            "type": "mesh3d"
           }
          ],
          "parcoords": [
           {
            "line": {
             "colorbar": {
              "outlinewidth": 0,
              "ticks": ""
             }
            },
            "type": "parcoords"
           }
          ],
          "pie": [
           {
            "automargin": true,
            "type": "pie"
           }
          ],
          "scatter": [
           {
            "fillpattern": {
             "fillmode": "overlay",
             "size": 10,
             "solidity": 0.2
            },
            "type": "scatter"
           }
          ],
          "scatter3d": [
           {
            "line": {
             "colorbar": {
              "outlinewidth": 0,
              "ticks": ""
             }
            },
            "marker": {
             "colorbar": {
              "outlinewidth": 0,
              "ticks": ""
             }
            },
            "type": "scatter3d"
           }
          ],
          "scattercarpet": [
           {
            "marker": {
             "colorbar": {
              "outlinewidth": 0,
              "ticks": ""
             }
            },
            "type": "scattercarpet"
           }
          ],
          "scattergeo": [
           {
            "marker": {
             "colorbar": {
              "outlinewidth": 0,
              "ticks": ""
             }
            },
            "type": "scattergeo"
           }
          ],
          "scattergl": [
           {
            "marker": {
             "colorbar": {
              "outlinewidth": 0,
              "ticks": ""
             }
            },
            "type": "scattergl"
           }
          ],
          "scattermapbox": [
           {
            "marker": {
             "colorbar": {
              "outlinewidth": 0,
              "ticks": ""
             }
            },
            "type": "scattermapbox"
           }
          ],
          "scatterpolar": [
           {
            "marker": {
             "colorbar": {
              "outlinewidth": 0,
              "ticks": ""
             }
            },
            "type": "scatterpolar"
           }
          ],
          "scatterpolargl": [
           {
            "marker": {
             "colorbar": {
              "outlinewidth": 0,
              "ticks": ""
             }
            },
            "type": "scatterpolargl"
           }
          ],
          "scatterternary": [
           {
            "marker": {
             "colorbar": {
              "outlinewidth": 0,
              "ticks": ""
             }
            },
            "type": "scatterternary"
           }
          ],
          "surface": [
           {
            "colorbar": {
             "outlinewidth": 0,
             "ticks": ""
            },
            "colorscale": [
             [
              0,
              "#0d0887"
             ],
             [
              0.1111111111111111,
              "#46039f"
             ],
             [
              0.2222222222222222,
              "#7201a8"
             ],
             [
              0.3333333333333333,
              "#9c179e"
             ],
             [
              0.4444444444444444,
              "#bd3786"
             ],
             [
              0.5555555555555556,
              "#d8576b"
             ],
             [
              0.6666666666666666,
              "#ed7953"
             ],
             [
              0.7777777777777778,
              "#fb9f3a"
             ],
             [
              0.8888888888888888,
              "#fdca26"
             ],
             [
              1,
              "#f0f921"
             ]
            ],
            "type": "surface"
           }
          ],
          "table": [
           {
            "cells": {
             "fill": {
              "color": "#EBF0F8"
             },
             "line": {
              "color": "white"
             }
            },
            "header": {
             "fill": {
              "color": "#C8D4E3"
             },
             "line": {
              "color": "white"
             }
            },
            "type": "table"
           }
          ]
         },
         "layout": {
          "annotationdefaults": {
           "arrowcolor": "#2a3f5f",
           "arrowhead": 0,
           "arrowwidth": 1
          },
          "autotypenumbers": "strict",
          "coloraxis": {
           "colorbar": {
            "outlinewidth": 0,
            "ticks": ""
           }
          },
          "colorscale": {
           "diverging": [
            [
             0,
             "#8e0152"
            ],
            [
             0.1,
             "#c51b7d"
            ],
            [
             0.2,
             "#de77ae"
            ],
            [
             0.3,
             "#f1b6da"
            ],
            [
             0.4,
             "#fde0ef"
            ],
            [
             0.5,
             "#f7f7f7"
            ],
            [
             0.6,
             "#e6f5d0"
            ],
            [
             0.7,
             "#b8e186"
            ],
            [
             0.8,
             "#7fbc41"
            ],
            [
             0.9,
             "#4d9221"
            ],
            [
             1,
             "#276419"
            ]
           ],
           "sequential": [
            [
             0,
             "#0d0887"
            ],
            [
             0.1111111111111111,
             "#46039f"
            ],
            [
             0.2222222222222222,
             "#7201a8"
            ],
            [
             0.3333333333333333,
             "#9c179e"
            ],
            [
             0.4444444444444444,
             "#bd3786"
            ],
            [
             0.5555555555555556,
             "#d8576b"
            ],
            [
             0.6666666666666666,
             "#ed7953"
            ],
            [
             0.7777777777777778,
             "#fb9f3a"
            ],
            [
             0.8888888888888888,
             "#fdca26"
            ],
            [
             1,
             "#f0f921"
            ]
           ],
           "sequentialminus": [
            [
             0,
             "#0d0887"
            ],
            [
             0.1111111111111111,
             "#46039f"
            ],
            [
             0.2222222222222222,
             "#7201a8"
            ],
            [
             0.3333333333333333,
             "#9c179e"
            ],
            [
             0.4444444444444444,
             "#bd3786"
            ],
            [
             0.5555555555555556,
             "#d8576b"
            ],
            [
             0.6666666666666666,
             "#ed7953"
            ],
            [
             0.7777777777777778,
             "#fb9f3a"
            ],
            [
             0.8888888888888888,
             "#fdca26"
            ],
            [
             1,
             "#f0f921"
            ]
           ]
          },
          "colorway": [
           "#636efa",
           "#EF553B",
           "#00cc96",
           "#ab63fa",
           "#FFA15A",
           "#19d3f3",
           "#FF6692",
           "#B6E880",
           "#FF97FF",
           "#FECB52"
          ],
          "font": {
           "color": "#2a3f5f"
          },
          "geo": {
           "bgcolor": "white",
           "lakecolor": "white",
           "landcolor": "#E5ECF6",
           "showlakes": true,
           "showland": true,
           "subunitcolor": "white"
          },
          "hoverlabel": {
           "align": "left"
          },
          "hovermode": "closest",
          "mapbox": {
           "style": "light"
          },
          "paper_bgcolor": "white",
          "plot_bgcolor": "#E5ECF6",
          "polar": {
           "angularaxis": {
            "gridcolor": "white",
            "linecolor": "white",
            "ticks": ""
           },
           "bgcolor": "#E5ECF6",
           "radialaxis": {
            "gridcolor": "white",
            "linecolor": "white",
            "ticks": ""
           }
          },
          "scene": {
           "xaxis": {
            "backgroundcolor": "#E5ECF6",
            "gridcolor": "white",
            "gridwidth": 2,
            "linecolor": "white",
            "showbackground": true,
            "ticks": "",
            "zerolinecolor": "white"
           },
           "yaxis": {
            "backgroundcolor": "#E5ECF6",
            "gridcolor": "white",
            "gridwidth": 2,
            "linecolor": "white",
            "showbackground": true,
            "ticks": "",
            "zerolinecolor": "white"
           },
           "zaxis": {
            "backgroundcolor": "#E5ECF6",
            "gridcolor": "white",
            "gridwidth": 2,
            "linecolor": "white",
            "showbackground": true,
            "ticks": "",
            "zerolinecolor": "white"
           }
          },
          "shapedefaults": {
           "line": {
            "color": "#2a3f5f"
           }
          },
          "ternary": {
           "aaxis": {
            "gridcolor": "white",
            "linecolor": "white",
            "ticks": ""
           },
           "baxis": {
            "gridcolor": "white",
            "linecolor": "white",
            "ticks": ""
           },
           "bgcolor": "#E5ECF6",
           "caxis": {
            "gridcolor": "white",
            "linecolor": "white",
            "ticks": ""
           }
          },
          "title": {
           "x": 0.05
          },
          "xaxis": {
           "automargin": true,
           "gridcolor": "white",
           "linecolor": "white",
           "ticks": "",
           "title": {
            "standoff": 15
           },
           "zerolinecolor": "white",
           "zerolinewidth": 2
          },
          "yaxis": {
           "automargin": true,
           "gridcolor": "white",
           "linecolor": "white",
           "ticks": "",
           "title": {
            "standoff": 15
           },
           "zerolinecolor": "white",
           "zerolinewidth": 2
          }
         }
        },
        "title": {
         "text": "Actual vs Predicted Opening Weekend Revenue"
        },
        "xaxis": {
         "anchor": "y",
         "domain": [
          0,
          1
         ],
         "title": {
          "text": "Actual Opening Weekend Revenue (Millions)"
         }
        },
        "yaxis": {
         "anchor": "x",
         "domain": [
          0,
          1
         ],
         "title": {
          "text": "Predicted Opening Weekend Revenue (Millions)"
         }
        }
       }
      }
     },
     "metadata": {},
     "output_type": "display_data"
    }
   ],
   "source": [
    "# graph actual vs predicted\n",
    "y_pred_mlr = results_mlr.predict(X_test[relevant_features])\n",
    "\n",
    "results_df_mlr = pd.DataFrame({'predicted': y_pred_mlr, 'actual': y_test})\n",
    "\n",
    "results_df_mlr['predicted'] = results_df_mlr['predicted'] / 1000000\n",
    "results_df_mlr['actual'] = results_df_mlr['actual'] / 1000000\n",
    "results_df_mlr['title'] = X_test['title']\n",
    "results_df_mlr['source'] = X_test['source']\n",
    "results_df_mlr['distributor_slug'] = X_test['distributor_slug']\n",
    "results_df_mlr['genre'] = X_test['genre']\n",
    "results_df_mlr['creative_type'] = X_test['creative_type']\n",
    "results_df_mlr['production_method'] = X_test['production_method']\n",
    "results_df_mlr['mpaa_rating'] = X_test['mpaa_rating']\n",
    "\n",
    "# results_df_mlr.to_csv('mlr_results.csv', index=False)\n",
    "\n",
    "# Create the scatter plot\n",
    "fig = px.scatter(\n",
    "    results_df_mlr,\n",
    "    x='actual',\n",
    "    y='predicted',\n",
    "    color='mpaa_rating',\n",
    "    labels={\n",
    "        'actual': 'Actual Opening Weekend Revenue (Millions)',\n",
    "        'predicted': 'Predicted Opening Weekend Revenue (Millions)'\n",
    "    },\n",
    "    title='Actual vs Predicted Opening Weekend Revenue',\n",
    "    hover_name='title'\n",
    ")\n",
    "\n",
    "# Add the diagonal line\n",
    "fig.add_trace(\n",
    "    go.Scatter(\n",
    "        x=[0, 200],\n",
    "        y=[0, 200],\n",
    "        mode='lines',\n",
    "        line=dict(color='red'),\n",
    "        showlegend=False\n",
    "    )\n",
    ")\n",
    "\n",
    "# Show the plot\n",
    "fig.show()"
   ]
  }
 ],
 "metadata": {
  "kernelspec": {
   "display_name": "boxoffice_kernel",
   "language": "python",
   "name": "boxoffice_kernel"
  },
  "language_info": {
   "codemirror_mode": {
    "name": "ipython",
    "version": 3
   },
   "file_extension": ".py",
   "mimetype": "text/x-python",
   "name": "python",
   "nbconvert_exporter": "python",
   "pygments_lexer": "ipython3",
   "version": "3.12.5"
  }
 },
 "nbformat": 4,
 "nbformat_minor": 2
}
