{
 "cells": [
  {
   "cell_type": "code",
   "execution_count": 1,
   "metadata": {},
   "outputs": [
    {
     "name": "stdout",
     "output_type": "stream",
     "text": [
      "MOVIES_DB_PATH: boxoffice/db/data/data.sqlite\n",
      "MOVIES_DB_PATH: ../boxoffice/db/data/data.sqlite\n",
      "movies.csv exists, 1730673166.9673162, 1730677689.778614\n",
      "movies.csv is out of date, recalculating\n",
      "SELECT \"t1\".\"id\", \"t1\".\"truncated_title\", \"t1\".\"slug\", \"t1\".\"title\", \"t1\".\"release_year\", \"t1\".\"mpaa_rating\", \"t1\".\"running_time\", \"t1\".\"synopsis\", \"t1\".\"mpaa_rating_reason\", \"t1\".\"budget\", \"t1\".\"creative_type\", \"t1\".\"genre\", \"t1\".\"production_method\", \"t1\".\"source\", \"t1\".\"poster\", SUM(\"t2\".\"revenue\") AS \"total_box_office\", MIN(\"t2\".\"date\") AS \"release_day\", \"t3\".\"distributor_id\" AS \"distributor_id\", \"t4\".\"franchise_id\" AS \"franchise_id\", \"t5\".\"name\" AS \"distributor_name\", \"t5\".\"slug\" AS \"distributor_slug\", \"t6\".\"name\" AS \"franchise_name\", \"t6\".\"slug\" AS \"franchise_slug\", \"t7\".\"release_day_non_preview\", \"t7\".\"largest_theater_count\", \"t8\".\"days_over_1000_theaters\", \"t9\".\"days_over_1000000_revenue\", \"t10\".\"days_over_100000_revenue\", \"t11\".\"preview_sum\", \"t12\".\"metacritic_score\", \"t12\".\"metacritic_review_count\", \"t12\".\"metacritic_score_calculated\", \"t12\".\"metacritic_monday_before_wide_friday_calculated\", \"t12\".\"metacritic_before_wide_friday_calculated\", \"t12\".\"metacritic_before_first_day_calculated\" FROM \"movie\" AS \"t1\" INNER JOIN \"boxofficeday\" AS \"t2\" ON (\"t1\".\"id\" = \"t2\".\"movie_id\") INNER JOIN \"moviedistributor\" AS \"t3\" ON (\"t3\".\"movie_id\" = \"t1\".\"id\") LEFT OUTER JOIN \"moviefranchise\" AS \"t4\" ON (\"t4\".\"movie_id\" = \"t1\".\"id\") INNER JOIN \"distributor\" AS \"t5\" ON (\"t3\".\"distributor_id\" = \"t5\".\"id\") LEFT OUTER JOIN \"franchise\" AS \"t6\" ON (\"t4\".\"franchise_id\" = \"t6\".\"id\") INNER JOIN \"moviemetacritic\" AS \"t12\" ON (\"t12\".\"movie_id\" = \"t1\".\"id\") INNER JOIN (SELECT \"t2\".\"movie_id\", MIN(\"t2\".\"date\") AS \"release_day_non_preview\", MAX(\"t2\".\"theaters\") AS \"largest_theater_count\" FROM \"boxofficeday\" AS \"t2\" WHERE (\"t2\".\"is_preview\" = 0) GROUP BY \"t2\".\"movie_id\") AS \"t7\" ON (\"t1\".\"id\" = \"t7\".\"movie_id\") INNER JOIN (SELECT \"t2\".\"movie_id\", COUNT(\"t2\".\"theaters\") AS \"days_over_1000_theaters\" FROM \"boxofficeday\" AS \"t2\" WHERE (\"t2\".\"theaters\" >= 1000) GROUP BY \"t2\".\"movie_id\") AS \"t8\" ON (\"t1\".\"id\" = \"t8\".\"movie_id\") INNER JOIN (SELECT \"t2\".\"movie_id\", COUNT(\"t2\".\"revenue\") AS \"days_over_1000000_revenue\" FROM \"boxofficeday\" AS \"t2\" WHERE (\"t2\".\"revenue\" >= 1000000) GROUP BY \"t2\".\"movie_id\") AS \"t9\" ON (\"t1\".\"id\" = \"t9\".\"movie_id\") INNER JOIN (SELECT \"t2\".\"movie_id\", COUNT(\"t2\".\"revenue\") AS \"days_over_100000_revenue\" FROM \"boxofficeday\" AS \"t2\" WHERE (\"t2\".\"revenue\" >= 100000) GROUP BY \"t2\".\"movie_id\") AS \"t10\" ON (\"t1\".\"id\" = \"t10\".\"movie_id\") LEFT OUTER JOIN (SELECT \"t2\".\"movie_id\", SUM(\"t2\".\"revenue\") AS \"preview_sum\" FROM \"boxofficeday\" AS \"t2\" WHERE (\"t2\".\"is_preview\" = 1) GROUP BY \"t2\".\"movie_id\") AS \"t11\" ON (\"t1\".\"id\" = \"t11\".\"movie_id\") GROUP BY \"t1\".\"id\"\n",
      "There are 2531 movies in the movie dataframe, now filtering out the box office days\n",
      "Filtered out 58 re-releases, there are now 2473 movies\n",
      "Filtered out 46 movies that weren't released on every day of the week, there are now 2427 movies\n",
      "Filtered out 90292 box office days, there are now 170838 box office days\n",
      "Could not find wide weekend revenue for movie 221\n",
      "Dates are not one apart for movie 272, skipping wide weekend revenue\n",
      "Dates are not one apart for movie 1017, skipping wide weekend revenue\n",
      "Dates are not one apart for movie 1419, skipping wide weekend revenue\n",
      "Could not find wide weekend revenue for movie 2684\n",
      "Dates are not one apart for movie 3148, skipping wide weekend revenue\n",
      "Dates are not one apart for movie 3550, skipping wide weekend revenue\n",
      "Dates are not one apart for movie 3551, skipping wide weekend revenue\n",
      "Dates are not one apart for movie 3997, skipping wide weekend revenue\n",
      "Dates are not one apart for movie 4000, skipping wide weekend revenue\n",
      "Dates are not one apart for movie 4447, skipping wide weekend revenue\n",
      "Dates are not one apart for movie 4455, skipping wide weekend revenue\n",
      "Dates are not one apart for movie 4459, skipping wide weekend revenue\n",
      "Dates are not one apart for movie 4460, skipping wide weekend revenue\n",
      "Dates are not one apart for movie 4461, skipping wide weekend revenue\n",
      "Dates are not one apart for movie 4808, skipping wide weekend revenue\n",
      "Dates are not one apart for movie 5786, skipping wide weekend revenue\n",
      "Dates are not one apart for movie 6042, skipping wide weekend revenue\n",
      "Found 37028 keywords\n"
     ]
    },
    {
     "name": "stderr",
     "output_type": "stream",
     "text": [
      "/home/ag/.pyenv/versions/3.12.5/lib/python3.12/site-packages/numpy/core/fromnumeric.py:3504: RuntimeWarning: Mean of empty slice.\n",
      "  return _methods._mean(a, axis=axis, dtype=dtype,\n",
      "/home/ag/.pyenv/versions/3.12.5/lib/python3.12/site-packages/numpy/core/_methods.py:129: RuntimeWarning: invalid value encountered in scalar divide\n",
      "  ret = ret.dtype.type(ret / rcount)\n"
     ]
    },
    {
     "name": "stdout",
     "output_type": "stream",
     "text": [
      "Columns in wikipedia_df: Index(['id_x', 'date', 'views', 'movie', 'release_day',\n",
      "       'release_day_non_preview', 'release_day_first_friday', 'id_y'],\n",
      "      dtype='object')\n",
      "cumulative_views: 904, wikipedia_pre_release_cumulative_views: 874, wikipedia_pre_release_monday_views: 872, wikipedia_pre_release_week_monday: 871, wikipedia_pre_release_three_monday: 871, cumulative index: 904\n",
      "Columns in merged_accumulated: Index(['movie_id', 'wikipedia_pre_release_three_monday', 'movie_2',\n",
      "       'wikipedia_pre_release_week_monday',\n",
      "       'wikipedia_pre_release_monday_views',\n",
      "       'wikipedia_pre_release_cumulative_views', 'wikipedia_cumulative_views'],\n",
      "      dtype='object')\n"
     ]
    }
   ],
   "source": [
    "from boxoffice.db.frames import get_movie_frame_full\n",
    "import pandas as pd\n",
    "import numpy as np\n",
    "import matplotlib.pyplot as plt\n",
    "import seaborn as sns\n",
    "import datetime\n",
    "from sklearn.metrics import root_mean_squared_error\n",
    "\n",
    "df = get_movie_frame_full()\n",
    "\n",
    "if df is None:\n",
    "    print('No data')\n",
    "    exit()\n",
    "    "
   ]
  },
  {
   "cell_type": "code",
   "execution_count": 2,
   "metadata": {},
   "outputs": [],
   "source": [
    "# main goal is to predict opening_weekend_revenue\n",
    "\n",
    "# do a train test split based on release date. Train on movies released before 2023, test on movies released in 2023 and 2024\n",
    "\n",
    "# drop movies with missing budgets\n",
    "df = df.dropna(subset=['budget'])\n",
    "\n",
    "# drop the opening_weekend_revenue column\n",
    "df = df.drop(columns=['opening_weekend_revenue'])\n",
    "\n",
    "# filter out movies from before 2015    \n",
    "df = df[df['release_day'] >= datetime.date(2015, 1, 1)]\n",
    "\n",
    "# keep original columns for later\n",
    "dummies = pd.get_dummies(df[['mpaa_rating', 'genre', 'creative_type', 'source', 'production_method', 'distributor_slug']], drop_first=True)\n",
    "df = pd.concat([df, dummies], axis=1)\n",
    "\n",
    "# within the dummy columns, rename any with spaces or hyphens to use underscores\n",
    "df.columns = df.columns.str.replace(' ', '_')\n",
    "df.columns = df.columns.str.replace('-', '_')\n",
    "\n",
    "df['in_franchise'] = df['franchise_slug'].notnull().astype(int)\n",
    "\n",
    "# filter for only positive opening_wide_revenue\n",
    "df = df[df['opening_wide_revenue'] > 0]\n",
    "\n",
    "X_train = df[(df['release_day'] < datetime.date(2023, 1, 1))]\n",
    "X_test = df[df['release_day'] >= datetime.date(2023, 1, 1)]\n",
    "\n",
    "y_train = X_train['opening_wide_revenue']\n",
    "y_test = X_test['opening_wide_revenue']\n",
    "\n",
    "X_train = X_train.drop(columns=['opening_wide_revenue'])\n",
    "X_test = X_test.drop(columns=['opening_wide_revenue'])\n",
    "\n",
    "# reset index\n",
    "X_train = X_train.reset_index(drop=True)\n",
    "X_test = X_test.reset_index(drop=True)\n",
    "y_train = y_train.reset_index(drop=True)\n",
    "y_test = y_test.reset_index(drop=True)"
   ]
  },
  {
   "cell_type": "code",
   "execution_count": 235,
   "metadata": {},
   "outputs": [],
   "source": [
    "# write the titles and ids of the movies with missing budget to a csv file\n",
    "# missing_budget = df[df['budget'].isnull()]\n",
    "# missing_budget[['title', 'id']].to_csv('missing_budget.csv', index=False)"
   ]
  },
  {
   "cell_type": "code",
   "execution_count": 3,
   "metadata": {},
   "outputs": [
    {
     "name": "stdout",
     "output_type": "stream",
     "text": [
      "Index([], dtype='object')\n",
      "                                                Results: Ordinary least squares\n",
      "================================================================================================================================\n",
      "Model:                                 OLS                                     Adj. R-squared:                        0.771     \n",
      "Dependent Variable:                    opening_wide_revenue                    AIC:                                   26771.0658\n",
      "Date:                                  2024-11-03 17:50                        BIC:                                   27276.9018\n",
      "No. Observations:                      734                                     Log-Likelihood:                        -13276.   \n",
      "Df Model:                              109                                     F-statistic:                           23.67     \n",
      "Df Residuals:                          624                                     Prob (F-statistic):                    1.49e-162 \n",
      "R-squared:                             0.805                                   Scale:                                 3.5304e+14\n",
      "--------------------------------------------------------------------------------------------------------------------------------\n",
      "                                                           Coef.         Std.Err.      t    P>|t|      [0.025         0.975]    \n",
      "--------------------------------------------------------------------------------------------------------------------------------\n",
      "release_year                                              -20050.7698    10231.6747 -1.9597 0.0505    -40143.4559        41.9163\n",
      "running_time                                               36108.0238    63154.3663  0.5717 0.5677    -87912.8132    160128.8607\n",
      "budget                                                         0.1615        0.0253  6.3752 0.0000         0.1117         0.2112\n",
      "metacritic_score                                          107442.4978   136659.4365  0.7862 0.4320   -160925.6083    375810.6039\n",
      "metacritic_review_count                                    -9002.0026   107553.9421 -0.0837 0.9333   -220213.5260    202209.5208\n",
      "metacritic_score_calculated                               499745.6475   186269.4011  2.6829 0.0075    133954.8343    865536.4606\n",
      "metacritic_monday_before_wide_friday_calculated           -50137.5366    33847.9850 -1.4813 0.1390   -116607.2944     16332.2212\n",
      "metacritic_before_wide_friday_calculated                 -242249.5152   131079.8225 -1.8481 0.0651   -499660.5263     15161.4958\n",
      "metacritic_before_first_day_calculated                     62339.1547    66859.9608  0.9324 0.3515    -68958.6285    193636.9379\n",
      "release_day_of_week                                     -4213197.5720  1770135.1131 -2.3802 0.0176  -7689341.0437   -737054.1004\n",
      "release_day_of_week_non_preview                          6383070.3882  1948818.2157  3.2754 0.0011   2556033.8712  10210106.9053\n",
      "release_month                                            -736547.7450   228747.3613 -3.2199 0.0013  -1185755.6280   -287339.8620\n",
      "release_day_of_month                                      -77212.0737    92938.3901 -0.8308 0.4064   -259721.9712    105297.8237\n",
      "director_median_box_office                                    -0.2182        0.0590 -3.6975 0.0002        -0.3341        -0.1023\n",
      "director_mean_box_office                                       0.1821        0.0453  4.0200 0.0001         0.0932         0.2711\n",
      "weighted_crew_median_box_office                                1.0679        0.2701  3.9534 0.0001         0.5375         1.5984\n",
      "weighted_crew_mean_box_office                                 -0.2769        0.1376 -2.0118 0.0447        -0.5471        -0.0066\n",
      "weighted_cast_median_box_office                                0.1470        0.1772  0.8297 0.4070        -0.2009         0.4949\n",
      "weighted_cast_mean_box_office                                  0.0967        0.1118  0.8646 0.3876        -0.1229         0.3162\n",
      "sum_cast_box_office                                            0.0015        0.0006  2.6900 0.0073         0.0004         0.0026\n",
      "sum_crew_box_office                                           -0.0000        0.0002 -0.0376 0.9700        -0.0004         0.0003\n",
      "wikipedia_pre_release_cumulative_views                        28.7632        3.7276  7.7163 0.0000        21.4431        36.0834\n",
      "wikipedia_pre_release_monday_views                           -24.8959       12.6984 -1.9606 0.0504       -49.8327         0.0409\n",
      "wikipedia_pre_release_week_monday                            -60.0413       38.9101 -1.5431 0.1233      -136.4518        16.3693\n",
      "wikipedia_pre_release_three_monday                            69.6377       52.6609  1.3224 0.1865       -33.7763       173.0517\n",
      "mpaa_rating_PG                                           -807447.2829 10149076.7545 -0.0796 0.9366 -20737929.7881  19123035.2223\n",
      "mpaa_rating_PG_13                                       -1113051.2598 10782709.1000 -0.1032 0.9178 -22287843.8319  20061741.3123\n",
      "mpaa_rating_R                                           -1602462.5385 10879765.8411 -0.1473 0.8830 -22967852.5144  19762927.4374\n",
      "genre_Adventure                                         -2386158.7083  3581501.8378 -0.6662 0.5055  -9419415.1755   4647097.7589\n",
      "genre_Black_Comedy                                      -2586082.3595  6527198.8810 -0.3962 0.6921 -15404019.0302  10231854.3111\n",
      "genre_Comedy                                             2045355.3457  3190834.9491  0.6410 0.5218  -4220720.0490   8311430.7404\n",
      "genre_Concert/Performance                                2902784.0731 17055153.8970  0.1702 0.8649 -30589665.9879  36395234.1342\n",
      "genre_Documentary                                       -3442113.9143 21527412.8044 -0.1599 0.8730 -45717065.0903  38832837.2617\n",
      "genre_Drama                                               934889.8630  3311406.8299  0.2823 0.7778  -5567961.3309   7437741.0569\n",
      "genre_Horror                                             2690109.7979  3530636.0423  0.7619 0.4464  -4243257.7956   9623477.3914\n",
      "genre_Musical                                            3976972.1170  6922969.2617  0.5745 0.5659  -9618167.7258  17572111.9599\n",
      "genre_Reality                                          -12423905.0570 17665993.2525 -0.7033 0.4822 -47115904.9277  22268094.8136\n",
      "genre_Romantic_Comedy                                   -2619844.1361  5479207.6043 -0.4781 0.6327 -13379763.8747   8140075.6024\n",
      "genre_Thriller/Suspense                                 -4969035.7676  3250702.3788 -1.5286 0.1269 -11352677.2018   1414605.6667\n",
      "genre_Western                                           -5511145.2302  8593805.8175 -0.6413 0.5216 -22387428.7229  11365138.2626\n",
      "creative_type_Dramatization                             -7898824.6509  5864592.0596 -1.3469 0.1785 -19415551.9622   3617902.6605\n",
      "creative_type_Factual                                  -12963234.8982 10497507.9120 -1.2349 0.2173 -33577957.0892   7651487.2927\n",
      "creative_type_Fantasy                                   -6664108.4228  4524315.4567 -1.4730 0.1413 -15548836.7818   2220619.9361\n",
      "creative_type_Historical_Fiction                        -6011950.3339  3248552.2385 -1.8507 0.0647 -12391369.3808    367468.7130\n",
      "creative_type_Kids_Fiction                              -7299772.9449  5906515.2482 -1.2359 0.2170 -18898827.8805   4299281.9906\n",
      "creative_type_Science_Fiction                           -4062223.4280  2794716.1833 -1.4535 0.1466  -9550411.5011   1425964.6451\n",
      "creative_type_Super_Hero                                 7460622.2591  5565631.0135  1.3405 0.1806  -3469013.4336  18390257.9519\n",
      "source_Based_on_Factual_Book/Article                     1330664.3160  7126520.7516  0.1867 0.8519 -12664204.4389  15325533.0710\n",
      "source_Based_on_Fiction_Book/Short_Story                -2599049.2133  4644449.9548 -0.5596 0.5760 -11719694.4511   6521596.0245\n",
      "source_Based_on_Folk_Tale/Legend/Fairytale              -4623427.4171  7629195.3432 -0.6060 0.5447 -19605434.9430  10358580.1087\n",
      "source_Based_on_Game                                     3137680.7413  6904168.5009  0.4545 0.6497 -10420538.6760  16695900.1586\n",
      "source_Based_on_Movie                                   -3896831.0117  7398041.0841 -0.5267 0.5986 -18424904.0538  10631242.0304\n",
      "source_Based_on_Musical_or_Opera                       -28081479.9073 21581253.8874 -1.3012 0.1937 -70462162.7464  14299202.9318\n",
      "source_Based_on_Play                                     3689470.4115 14535502.4148  0.2538 0.7997 -24854956.1989  32233897.0218\n",
      "source_Based_on_Real_Life_Events                        -1110695.8726  7313032.0587 -0.1519 0.8793 -15471830.4892  13250438.7440\n",
      "source_Based_on_Religious_Text                           4639351.2459 12305003.2748  0.3770 0.7063 -19524881.4646  28803583.9565\n",
      "source_Based_on_Short_Film                               2703876.4040  9279195.3400  0.2914 0.7708 -15518356.5005  20926109.3084\n",
      "source_Based_on_Song                                    21535107.0472 23478975.4222  0.9172 0.3594 -24572270.0285  67642484.1228\n",
      "source_Based_on_TV                                      -5249390.7442  6146925.6343 -0.8540 0.3934 -17320557.0954   6821775.6071\n",
      "source_Based_on_Theme_Park_Ride                        -27881502.6407 15105601.8369 -1.8458 0.0654 -57545475.0810   1782469.7996\n",
      "source_Based_on_Toy                                     -3285089.5116  8210749.6757 -0.4001 0.6892 -19409137.7106  12838958.6875\n",
      "source_Based_on_Web_Series                             -36704830.1779 19840971.4740 -1.8500 0.0648 -75667993.4698   2258333.1140\n",
      "source_Compilation                                       9338778.0980 11983591.2188  0.7793 0.4361 -14194274.3079  32871830.5040\n",
      "source_Original_Screenplay                              -2283298.9083  4463756.3834 -0.5115 0.6092 -11049102.9965   6482505.1800\n",
      "source_Remake                                            8594530.1871  5854230.5324  1.4681 0.1426  -2901849.4373  20090909.8115\n",
      "source_Spin_Off                                         -3580255.0704  6370648.9918 -0.5620 0.5743 -16090763.3016   8930253.1609\n",
      "production_method_Digital_Animation                    -10075596.3263  5281908.8970 -1.9076 0.0569 -20448066.1984    296873.5459\n",
      "production_method_Live_Action                           -8206344.7907  3622383.7229 -2.2655 0.0238 -15319883.9986  -1092805.5829\n",
      "production_method_Stop_Motion_Animation                -14602996.9005 10781075.3942 -1.3545 0.1761 -35774581.2453   6568587.4443\n",
      "distributor_slug_20th_Century_Fox                       11535613.8477 14071954.6226  0.8198 0.4127 -16098510.1425  39169737.8378\n",
      "distributor_slug_20th_Century_Studios                   -6902251.8624 15534455.9116 -0.4443 0.6570 -37408396.3386  23603892.6137\n",
      "distributor_slug_A24                                     7579677.4922 15119380.8647  0.5013 0.6163 -22111353.8303  37270708.8148\n",
      "distributor_slug_Amazon_MGM_Studios                            0.0000        0.0000  0.9946 0.3203        -0.0000         0.0000\n",
      "distributor_slug_Amazon_Studios                         14003806.8212 23520010.7455  0.5954 0.5518 -32184154.3128  60191767.9552\n",
      "distributor_slug_Angel_Studios                                 0.0000        0.0000  0.1217 0.9032        -0.0000         0.0000\n",
      "distributor_slug_Annapurna_Pictures                     13112046.0700 17094833.5634  0.7670 0.4434 -20458325.8470  46682417.9871\n",
      "distributor_slug_Aviron_Pictures                        16875108.3104 17099204.2740  0.9869 0.3241 -16703846.6898  50454063.3107\n",
      "distributor_slug_BH_Tilt                                15968144.8519 17780583.4303  0.8981 0.3695 -18948884.1114  50885173.8152\n",
      "distributor_slug_Bleecker_Street                          709861.0088 17809344.8677  0.0399 0.9682 -34263648.8877  35683370.9053\n",
      "distributor_slug_Briarcliff_Entertainment               21064398.6260 23636975.9746  0.8912 0.3732 -25353255.6623  67482052.9143\n",
      "distributor_slug_Broad_Green_Pictures                   15186988.8753 17799512.9579  0.8532 0.3939 -19767213.3825  50141191.1331\n",
      "distributor_slug_CBS_Films                              22591457.9948 16748212.2572  1.3489 0.1779 -10298228.3736  55481144.3631\n",
      "distributor_slug_Entertainment_Studios_Motion_Pictures  19903153.5589 16049765.5850  1.2401 0.2154 -11614942.1203  51421249.2380\n",
      "distributor_slug_EuropaCorp                             30901599.5612 17593876.9556  1.7564 0.0795  -3648780.2756  65451979.3980\n",
      "distributor_slug_Focus_Features                         15533964.1358 14570303.7971  1.0661 0.2868 -13078804.4880  44146732.7595\n",
      "distributor_slug_Focus_Gramercy                         22811065.0735 23687803.8038  0.9630 0.3359 -23706403.5315  69328533.6784\n",
      "distributor_slug_Fox_Searchlight                        11010244.0409 15354504.1761  0.7171 0.4736 -19142516.0828  41163004.1647\n",
      "distributor_slug_Freestyle_Releasing                    14348427.0653 23936011.7550  0.5994 0.5491 -32656465.6027  61353319.7333\n",
      "distributor_slug_Global_Road                            12389976.7636 17068251.2245  0.7259 0.4682 -21128193.4751  45908147.0023\n",
      "distributor_slug_High_Top_Releasing                     11947896.7803 19618338.3547  0.6090 0.5427 -26578065.6117  50473859.1724\n",
      "distributor_slug_LD_Entertainment                       26060750.8182 24239776.5859  1.0751 0.2827 -21540667.0111  73662168.6475\n",
      "distributor_slug_Lionsgate                              13931925.1156 14055188.1767  0.9912 0.3220 -13669273.3813  41533123.6125\n",
      "distributor_slug_MGM                                    17570482.4732 16814337.5606  1.0450 0.2964 -15449058.9780  50590023.9244\n",
      "distributor_slug_Neon                                    6776697.1808 20273487.9985  0.3343 0.7383 -33035830.3669  46589224.7286\n",
      "distributor_slug_OTL_Releasing                          10285194.6079 23608211.0789  0.4357 0.6632 -36075971.9560  56646361.1718\n",
      "distributor_slug_Open_Road                              16676294.6970 14813569.6959  1.1257 0.2607 -12414192.9211  45766782.3151\n",
      "distributor_slug_Orion_Pictures                         13874560.1802 19459568.0810  0.7130 0.4761 -24339613.4415  52088733.8019\n",
      "distributor_slug_Paramount_Pictures                     12533807.0503 14150463.3437  0.8858 0.3761 -15254490.2434  40322104.3440\n",
      "distributor_slug_Pure_Flix_Entertainment                16166347.7006 16386692.2412  0.9866 0.3242 -16013395.4357  48346090.8369\n",
      "distributor_slug_Quality_Flix                           57890565.6213 36116530.3372  1.6029 0.1095 -13034100.0841 128815231.3267\n",
      "distributor_slug_RADiUS_TWC                             11025799.1517 23974319.7829  0.4599 0.6457 -36054321.7857  58105920.0892\n",
      "distributor_slug_Relativity                             15008529.3371 20026921.7616  0.7494 0.4539 -24319798.1015  54336856.7757\n",
      "distributor_slug_Roadside_Attractions                   10748167.1054 17685041.7593  0.6078 0.5436 -23981239.7078  45477573.9185\n",
      "distributor_slug_STX_Entertainment                      16490835.4199 14317752.1016  1.1518 0.2499 -11625979.0133  44607649.8530\n",
      "distributor_slug_Searchlight_Pictures                    9636409.0460 19641578.2269  0.4906 0.6239 -28935191.1787  48208009.2707\n",
      "distributor_slug_ShowBiz_Direct                               -0.0000        0.0000 -0.0722 0.9425        -0.0000         0.0000\n",
      "distributor_slug_Solstice_Studios                       22419589.8959 23546869.9431  0.9521 0.3414 -23821116.6041  68660296.3960\n",
      "distributor_slug_Sony_Pictures                          14488623.6279 14047817.3105  1.0314 0.3028 -13098100.1614  42075347.4171\n",
      "distributor_slug_Toho_International                            0.0000        0.0000  0.2323 0.8164        -0.0000         0.0000\n",
      "distributor_slug_United_Artists                          9600396.6882 15162627.8616  0.6332 0.5269 -20175561.9174  39376355.2939\n",
      "distributor_slug_Universal                              19853889.4766 14073590.3867  1.4107 0.1588  -7783446.7828  47491225.7360\n",
      "distributor_slug_Walt_Disney                            26663865.4977 14392278.0460  1.8527 0.0644  -1599300.9699  54927031.9653\n",
      "distributor_slug_Warner_Bros                            12706259.6478 14047873.9453  0.9045 0.3661 -14880575.3593  40293094.6550\n",
      "distributor_slug_Weinstein_Co                           18053441.7479 15758929.5757  1.1456 0.2524 -12893518.0403  49000401.5360\n",
      "distributor_slug_truTV                                   9338778.0980 11983591.2188  0.7793 0.4361 -14194274.3079  32871830.5040\n",
      "in_franchise                                             9347145.7707  1919282.4236  4.8701 0.0000   5578110.8436  13116180.6978\n",
      "--------------------------------------------------------------------------------------------------------------------------------\n",
      "Omnibus:                             347.323                       Durbin-Watson:                          1.992                \n",
      "Prob(Omnibus):                       0.000                         Jarque-Bera (JB):                       3744.155             \n",
      "Skew:                                1.848                         Prob(JB):                               0.000                \n",
      "Kurtosis:                            13.429                        Condition No.:                          441429146105978355712\n",
      "================================================================================================================================\n",
      "Notes:\n",
      "[1] Standard Errors assume that the covariance matrix of the errors is correctly specified.\n",
      "[2] The smallest eigenvalue is 4.61e-19. This might indicate that                there are strong multicollinearity problems or\n",
      "that the design                matrix is singular.\n"
     ]
    }
   ],
   "source": [
    "# create a basic MLR\n",
    "from statsmodels.api import OLS\n",
    "\n",
    "# print the columns\n",
    "# print(X_train.columns)\n",
    "\n",
    "# create dummy variables for mpaa_rating, genre, creative_type, source, production_method, and distributor\n",
    "# X_train_dummies = pd.get_dummies(X_train, columns=['mpaa_rating', 'genre', 'creative_type', 'source', 'production_method', 'distributor_slug'])\n",
    "\n",
    "# print(X_train_dummies.columns)\n",
    "\n",
    "# remove all non-numeric columns\n",
    "X_train_dummies = X_train.select_dtypes(include=[np.number, bool])\n",
    "\n",
    "# remove franchise id and distributor id and id\n",
    "X_train_dummies = X_train_dummies.drop(columns=['franchise_id', 'distributor_id', 'id'])\n",
    "\n",
    "# drop preview_sum and preview_to_weekend_ratio\n",
    "X_train_dummies = X_train_dummies.drop(columns=['preview_sum', 'preview_to_weekend_ratio', 'first_five_days_revenue', 'first_seven_days_revenue', 'total_revenue_within_365_days', 'opening_weekend_to_total_ratio', 'fri_sat_ratio_first_five', 'sat_sun_ratio_first_five', 'sun_mon_ratio_first_five', 'mon_tue_ratio_first_five', 'tue_wed_ratio_first_five', 'wed_thu_ratio_first_five', 'thu_fri_ratio_first_five', 'fri_sat_ratio', 'sat_sun_ratio', 'sun_mon_ratio', 'mon_tue_ratio', 'tue_wed_ratio', 'wed_thu_ratio', 'thu_fri_ratio', 'total_box_office', 'largest_theater_count', 'days_over_1000_theaters', 'days_over_1000000_revenue', 'days_over_100000_revenue', 'wikipedia_cumulative_views'])\n",
    "\n",
    "X_train_dummies = X_train_dummies.fillna(0)\n",
    "\n",
    "# print the columns that have NaN values\n",
    "print(X_train_dummies.columns[X_train_dummies.isna().any()])\n",
    "\n",
    "# Ensure all data is numeric\n",
    "X_train_dummies = X_train_dummies.astype(float)\n",
    "\n",
    "# within test, convert bools to ints\n",
    "X_test_numbers = X_test.select_dtypes(include=[np.number, bool])\n",
    "X_test_numbers = X_test_numbers.fillna(0)\n",
    "\n",
    "# Ensure all data is numeric\n",
    "X_test_numbers = X_test_numbers.astype(float)\n",
    "\n",
    "X_test = X_test_numbers.combine_first(X_test)\n",
    "\n",
    "model = OLS(y_train, X_train_dummies)\n",
    "results = model.fit()\n",
    "\n",
    "# print the summary with millions of dollars\n",
    "def millions(x):\n",
    "    return '{:,.2f}M'.format(x / 1000000)\n",
    "\n",
    "print(results.summary2(float_format=millions))\n"
   ]
  },
  {
   "cell_type": "code",
   "execution_count": 4,
   "metadata": {},
   "outputs": [
    {
     "name": "stdout",
     "output_type": "stream",
     "text": [
      "Best alpha: 208485165825367.66\n",
      "Number of non-zero coefficients: 3\n",
      "                feature  coefficient\n",
      "2                budget     0.223915\n",
      "19  sum_cast_box_office     0.002854\n",
      "20  sum_crew_box_office     0.001628\n",
      "R squared: 0.6161269366631636\n"
     ]
    }
   ],
   "source": [
    "# now do lasso\n",
    "from sklearn.linear_model import Lasso, LassoCV\n",
    "from sklearn.model_selection import RepeatedKFold\n",
    "\n",
    "cv = RepeatedKFold(n_splits=10, n_repeats=3, random_state=1)\n",
    "\n",
    "lasso = LassoCV(cv=cv, n_alphas=100, random_state=1)\n",
    "\n",
    "lasso.fit(X_train_dummies, y_train)\n",
    "\n",
    "print('Best alpha:', lasso.alpha_)\n",
    "print('Number of non-zero coefficients:', np.sum(lasso.coef_ != 0))\n",
    "# print the coefficients\n",
    "\n",
    "# match up the coefficients with the column names\n",
    "coefficients = pd.DataFrame({'feature': X_train_dummies.columns, 'coefficient': lasso.coef_})\n",
    "# remove the columns with 0 coefficients\n",
    "coefficients = coefficients[coefficients['coefficient'] != 0]\n",
    "\n",
    "print(coefficients)\n",
    "\n",
    "# print the r squared value\n",
    "print('R squared:', lasso.score(X_train_dummies, y_train))\n"
   ]
  },
  {
   "cell_type": "code",
   "execution_count": 5,
   "metadata": {},
   "outputs": [
    {
     "name": "stderr",
     "output_type": "stream",
     "text": [
      "/tmp/ipykernel_69772/850911486.py:17: FutureWarning: Downcasting object dtype arrays on .fillna, .ffill, .bfill is deprecated and will change in a future version. Call result.infer_objects(copy=False) instead. To opt-in to the future behavior, set `pd.set_option('future.no_silent_downcasting', True)`\n",
      "  X_test = X_test.fillna(0)\n"
     ]
    },
    {
     "data": {
      "text/plain": [
       "[<matplotlib.lines.Line2D at 0x7371fb3bc680>]"
      ]
     },
     "execution_count": 5,
     "metadata": {},
     "output_type": "execute_result"
    },
    {
     "data": {
      "image/png": "[encoded data removed]",
      "text/plain": [
       "<Figure size 640x480 with 1 Axes>"
      ]
     },
     "metadata": {},
     "output_type": "display_data"
    }
   ],
   "source": [
    "# now run the new model on the test data\n",
    "# don't need to create dummy variables and stuff since only some variables are significant\n",
    "def calculate_prediction(coefficients_df, row):\n",
    "    pred_sum = 0\n",
    "    for index, coef_row in coefficients_df.iterrows():\n",
    "        feature = coef_row['feature']\n",
    "        coefficient = coef_row['coefficient']\n",
    "\n",
    "        pred_sum += coefficient * row[feature]\n",
    "\n",
    "    return pred_sum\n",
    "\n",
    "def make_predictions(coefficients_df, X):\n",
    "    return X.apply(lambda x: calculate_prediction(coefficients_df, x), axis=1)\n",
    "\n",
    "# within X_test 0 fill all NaN values\n",
    "X_test = X_test.fillna(0)\n",
    "\n",
    "y_pred = make_predictions(coefficients, X_test)\n",
    "\n",
    "# make a results df with the names and then the values in millions\n",
    "results_df = pd.DataFrame({'title': X_test['title'], 'predicted': y_pred, 'actual': y_test})\n",
    "results_df['predicted'] = results_df['predicted'] / 1000000\n",
    "results_df['actual'] = results_df['actual'] / 1000000\n",
    "\n",
    "# make a scatter plot of the predicted vs actual\n",
    "sns.scatterplot(x='actual', y='predicted', data=results_df)\n",
    "plt.xlabel('Actual Opening Weekend Revenue (Millions)')\n",
    "plt.ylabel('Predicted Opening Weekend Revenue (Millions)')\n",
    "plt.title('Actual vs Predicted Opening Weekend Revenue')\n",
    "\n",
    "# make a line of y=x\n",
    "plt.plot([0, 100], [0, 100], color='red')"
   ]
  },
  {
   "cell_type": "code",
   "execution_count": 6,
   "metadata": {},
   "outputs": [
    {
     "data": {
      "text/plain": [
       "[<matplotlib.lines.Line2D at 0x7371fec40b90>]"
      ]
     },
     "execution_count": 6,
     "metadata": {},
     "output_type": "execute_result"
    },
    {
     "data": {
      "image/png": "[encoded data removed]",
      "text/plain": [
       "<Figure size 640x480 with 1 Axes>"
      ]
     },
     "metadata": {},
     "output_type": "display_data"
    }
   ],
   "source": [
    "# plot the residuals\n",
    "results_df['residual'] = results_df['actual'] - results_df['predicted']\n",
    "sns.scatterplot(x='actual', y='residual', data=results_df)\n",
    "plt.xlabel('Actual Opening Weekend Revenue (Millions)')\n",
    "plt.ylabel('Residual (Millions)')\n",
    "plt.title('Residual vs Actual Opening Weekend Revenue')\n",
    "\n",
    "# line at y=0\n",
    "plt.plot([0, 200], [0, 0], color='red')"
   ]
  },
  {
   "cell_type": "code",
   "execution_count": 11,
   "metadata": {},
   "outputs": [
    {
     "data": {
      "text/plain": [
       "<Axes: xlabel='sum_cast_box_office', ylabel='opening_wide_revenue'>"
      ]
     },
     "execution_count": 11,
     "metadata": {},
     "output_type": "execute_result"
    },
    {
     "data": {
      "image/png": "[encoded data removed]",
      "text/plain": [
       "<Figure size 1500x1500 with 12 Axes>"
      ]
     },
     "metadata": {},
     "output_type": "display_data"
    }
   ],
   "source": [
    "# the following are the features that lasso found as relevant, want to do exploratory analysis\n",
    "\n",
    "# budget     0.272272\n",
    "# 7               director_median_box_office    -0.114093\n",
    "# 8                 director_mean_box_office     0.139005\n",
    "# 9          weighted_crew_median_box_office     0.135436\n",
    "# 10           weighted_crew_mean_box_office     0.112845\n",
    "# 11         weighted_cast_median_box_office    -0.079282\n",
    "# 12           weighted_cast_mean_box_office     0.145899\n",
    "# 13  wikipedia_pre_release_cumulative_views     9.358108\n",
    "\n",
    "# make a grid of scatter plots\n",
    "fig, axs = plt.subplots(4, 3, figsize=(15, 15))\n",
    "\n",
    "# budget vs opening_wide_revenue\n",
    "sns.regplot(x='budget', y='opening_wide_revenue', data=df, ax=axs[0, 0])\n",
    "\n",
    "# director_median_box_office vs opening_wide_revenue\n",
    "sns.regplot(x='director_median_box_office', y='opening_wide_revenue', data=df, ax=axs[0, 1])\n",
    "\n",
    "# director_mean_box_office vs opening_wide_revenue\n",
    "sns.regplot(x='director_mean_box_office', y='opening_wide_revenue', data=df, ax=axs[0, 2])\n",
    "\n",
    "# weighted_crew_median_box_office vs opening_wide_revenue\n",
    "sns.regplot(x='weighted_crew_median_box_office', y='opening_wide_revenue', data=df, ax=axs[1, 0])\n",
    "\n",
    "# weighted_crew_mean_box_office vs opening_wide_revenue\n",
    "sns.regplot(x='weighted_crew_mean_box_office', y='opening_wide_revenue', data=df, ax=axs[1, 1])\n",
    "\n",
    "# weighted_cast_median_box_office vs opening_wide_revenue\n",
    "sns.regplot(x='weighted_cast_median_box_office', y='opening_wide_revenue', data=df, ax=axs[1, 2])\n",
    "\n",
    "# weighted_cast_mean_box_office vs opening_wide_revenue\n",
    "sns.regplot(x='weighted_cast_mean_box_office', y='opening_wide_revenue', data=df, ax=axs[2, 0])\n",
    "\n",
    "# wikipedia_pre_release_cumulative_views vs opening_wide_revenue\n",
    "sns.regplot(x='wikipedia_pre_release_cumulative_views', y='opening_wide_revenue', data=df, ax=axs[2, 1])\n",
    "\n",
    "# sum_crew_box_office vs opening_wide_revenue\n",
    "sns.regplot(x='sum_crew_box_office', y='opening_wide_revenue', data=df, ax=axs[2, 2])\n",
    "\n",
    "#sum_cast_box_office vs opening_wide_revenue\n",
    "sns.regplot(x='sum_cast_box_office', y='opening_wide_revenue', data=df, ax=axs[3, 0])"
   ]
  },
  {
   "cell_type": "code",
   "execution_count": 12,
   "metadata": {},
   "outputs": [
    {
     "name": "stdout",
     "output_type": "stream",
     "text": [
      "LinearGAM                                                                                                 \n",
      "=============================================== ==========================================================\n",
      "Distribution:                        NormalDist Effective DoF:                                     83.2687\n",
      "Link Function:                     IdentityLink Log Likelihood:                                -25224.2195\n",
      "Number of Samples:                          734 AIC:                                            50616.9765\n",
      "                                                AICc:                                           50639.1289\n",
      "                                                GCV:                                    420294902923921.94\n",
      "                                                Scale:                                  335446344939961.44\n",
      "                                                Pseudo R-Squared:                                    0.807\n",
      "==========================================================================================================\n",
      "Feature Function                  Lambda               Rank         EDoF         P > x        Sig. Code   \n",
      "================================= ==================== ============ ============ ============ ============\n",
      "s(0)                              [0.6]                20           12.7         1.11e-16     ***         \n",
      "s(1)                              [0.6]                20           10.8         2.09e-05     ***         \n",
      "s(2)                              [0.6]                20           9.2          2.60e-06     ***         \n",
      "s(3)                              [0.6]                20           10.8         8.66e-08     ***         \n",
      "s(4)                              [0.6]                20           9.1          1.71e-02     *           \n",
      "s(5)                              [0.6]                20           9.2          3.73e-04     ***         \n",
      "s(6)                              [0.6]                20           6.1          1.11e-16     ***         \n",
      "s(7)                              [0.6]                20           1.4          3.55e-04     ***         \n",
      "s(8)                              [0.6]                20           1.3          6.74e-01                 \n",
      "s(9)                              [0.6]                20           1.3          6.81e-01                 \n",
      "s(10)                             [0.6]                20           1.1          9.74e-01                 \n",
      "s(11)                             [0.6]                20           1.0          6.45e-01                 \n",
      "s(12)                             [0.6]                20           1.0          8.69e-01                 \n",
      "s(13)                             [0.6]                20           1.0          6.70e-01                 \n",
      "s(14)                             [0.6]                20           7.3          2.52e-03     **          \n",
      "intercept                                              1            0.0          1.11e-16     ***         \n",
      "==========================================================================================================\n",
      "Significance codes:  0 '***' 0.001 '**' 0.01 '*' 0.05 '.' 0.1 ' ' 1\n",
      "\n",
      "WARNING: Fitting splines and a linear function to a feature introduces a model identifiability problem\n",
      "         which can cause p-values to appear significant when they are not.\n",
      "\n",
      "WARNING: p-values calculated in this manner behave correctly for un-penalized models or models with\n",
      "         known smoothing parameters, but when smoothing parameters have been estimated, the p-values\n",
      "         are typically lower than they should be, meaning that the tests reject the null too readily.\n",
      "None\n"
     ]
    },
    {
     "name": "stderr",
     "output_type": "stream",
     "text": [
      "/tmp/ipykernel_69772/1720716118.py:12: UserWarning: KNOWN BUG: p-values computed in this summary are likely much smaller than they should be. \n",
      " \n",
      "Please do not make inferences based on these values! \n",
      "\n",
      "Collaborate on a solution, and stay up to date at: \n",
      "github.com/dswah/pyGAM/issues/163 \n",
      "\n",
      "  print(gam.summary())\n"
     ]
    }
   ],
   "source": [
    "# gam\n",
    "from pygam import LinearGAM\n",
    "\n",
    "# print(X_train_dummies.columns)\n",
    "\n",
    "relevant_features = ['budget', 'director_median_box_office', 'director_mean_box_office', 'weighted_crew_median_box_office', 'weighted_crew_mean_box_office', 'weighted_cast_mean_box_office', 'wikipedia_pre_release_cumulative_views', 'genre_Horror', 'mpaa_rating_PG_13', 'mpaa_rating_R', 'source_Original_Screenplay', 'production_method_Digital_Animation', 'distributor_slug_Sony_Pictures', 'distributor_slug_Warner_Bros', 'running_time']\n",
    "\n",
    "X_train_gam = X_train_dummies[relevant_features]\n",
    "\n",
    "gam = LinearGAM().fit(X_train_gam, y_train)\n",
    "\n",
    "print(gam.summary())"
   ]
  },
  {
   "cell_type": "code",
   "execution_count": 13,
   "metadata": {},
   "outputs": [
    {
     "data": {
      "application/vnd.plotly.v1+json": {
       "config": {
        "plotlyServerURL": "https://plot.ly"
       },
       "data": [
        {
         "hovertemplate": "<b>%{hovertext}</b><br><br>mpaa_rating=PG-13<br>Actual Opening Weekend Revenue (Millions)=%{x}<br>Predicted Opening Weekend Revenue (Millions)=%{y}<extra></extra>",
         "hovertext": [
          "80 for Brady",
          "Ant-Man and the Wasp: Quantumania",
          "Jesus Revolution",
          "Creed III",
          "65",
          "Shazam! Fury of the Gods",
          "His Only Son",
          "Dungeons & Dragons: Honor Among Thieves",
          "Are You There God? It’s Me, Margaret",
          "Big George Foreman: The Miraculous Story of the Once and Future Heavyweight Champion of the World",
          "Guardians of the Galaxy Vol 3",
          "Fast X",
          "Transformers: Rise of the Beasts",
          "The Flash",
          "Indiana Jones and the Dial of Destiny",
          "Sound of Freedom",
          "Insidious: The Red Door",
          "Barbie",
          "Haunted Mansion",
          "Meg 2: The Trench",
          "Blue Beetle",
          "The Creator",
          "Five Nights at Freddy’s",
          "The Marvels",
          "Next Goal Wins",
          "The Hunger Games: The Ballad of Songbirds & Snakes",
          "Godzilla Minus One (ゴジラ最新作)",
          "Aquaman and the Lost Kingdom",
          "Mean Girls",
          "Argylle",
          "Madame Web",
          "Dune: Part Two",
          "Cabrini",
          "Imaginary",
          "Arthur the King",
          "Ghostbusters: Frozen Empire",
          "Godzilla x Kong: The New Empire",
          "Tarot",
          "The Fall Guy",
          "Kingdom of the Planet of the Apes",
          "The Watchers",
          "A Quiet Place: Day One",
          "Sound of Hope: The Story of Possum Trot",
          "Fly Me to the Moon",
          "Twisters",
          "It Ends With Us",
          "Reagan",
          "Beetlejuice Beetlejuice"
         ],
         "legendgroup": "PG-13",
         "marker": {
          "color": "#636efa",
          "symbol": "circle"
         },
         "mode": "markers",
         "name": "PG-13",
         "orientation": "v",
         "showlegend": true,
         "type": "scatter",
         "x": [
          12.70164,
          106.10965,
          15.882067,
          58.370007,
          12.328361,
          30.111158,
          5.50107,
          37.205784,
          6.739037,
          2.925364,
          118.414021,
          67.01741,
          61.045464,
          55.043679,
          60.368101,
          19.680879,
          33.013036,
          162.022044,
          24.082475,
          30.002735,
          25.030225,
          14.079512,
          80.00172,
          46.110859,
          2.500295,
          44.607143,
          11.419975,
          27.686211,
          28.635307,
          17.47354,
          15.33586,
          82.505391,
          7.16852,
          9.912713,
          7.633898,
          45.004673,
          80.006561,
          6.503012,
          27.747035,
          58.400788,
          7.003537,
          52.202495,
          3.078758,
          9.426615,
          81.251415,
          50.016652,
          7.65072,
          111.003345
         ],
         "xaxis": "x",
         "y": [
          6.656043161233917,
          143.3612948759776,
          7.338569879344717,
          25.669998370277405,
          22.80204896329222,
          41.489575921389495,
          -4.501421173917786,
          26.042331571353266,
          14.585455154392406,
          12.720817566522985,
          130.24018741085374,
          139.36557119964448,
          96.07261963049567,
          100.49287651472814,
          166.22830507119073,
          7.9991725965307054,
          12.360320394933105,
          76.57182818098593,
          53.27967695221895,
          29.393283399875425,
          38.11593574505874,
          31.547796282599002,
          26.30846034657077,
          141.91341107697184,
          48.87391930893166,
          44.64164965710131,
          4.9361286018036905,
          77.06934477086567,
          9.998855619450659,
          64.87096766777265,
          31.609926922030137,
          85.24998585724651,
          0.7090194394262135,
          118.38138882387763,
          2.8943288912995606,
          25.383417873701223,
          98.4586350426599,
          52.11217375645048,
          31.840051485638984,
          62.87935875666602,
          23.5271410272455,
          30.172225286577785,
          9.088301428273232,
          19.948041145253786,
          39.20824060606762,
          12.880336756332948,
          8.376115039387315,
          33.94084450249563
         ],
         "yaxis": "y"
        },
        {
         "hovertemplate": "<b>%{hovertext}</b><br><br>mpaa_rating=R<br>Actual Opening Weekend Revenue (Millions)=%{x}<br>Predicted Opening Weekend Revenue (Millions)=%{y}<extra></extra>",
         "hovertext": [
          "Knock at the Cabin",
          "Operation Fortune: Ruse de guerre",
          "Scream VI",
          "John Wick: Chapter 4",
          "Renfield",
          "The Pope’s Exorcist",
          "Beau is Afraid",
          "The Machine",
          "No Hard Feelings",
          "Oppenheimer",
          "Talk To Me",
          "The Last Voyage of the Demeter",
          "Strays",
          "Dumb Money",
          "Expend4bles",
          "Saw X",
          "The Exorcist: Believer",
          "Killers of the Flower Moon",
          "Priscilla",
          "Thanksgiving",
          "Napoleon",
          "American Fiction",
          "The Iron Claw",
          "Anyone But You",
          "Ferrari",
          "Civil War",
          "Abigail",
          "Challengers",
          "The Strangers: Chapter 1",
          "Furiosa: A Mad Max Saga",
          "Bad Boys: Ride or Die",
          "Horizon: An American Saga Chapter 1",
          "Deadpool & Wolverine",
          "Alien: Romulus",
          "The Crow",
          "Speak No Evil"
         ],
         "legendgroup": "R",
         "marker": {
          "color": "#EF553B",
          "symbol": "circle"
         },
         "mode": "markers",
         "name": "R",
         "orientation": "v",
         "showlegend": true,
         "type": "scatter",
         "x": [
          14.12717,
          3.140214,
          44.44727,
          73.81795,
          8.026475,
          9.006368,
          2.661957,
          5.000545,
          15.00277,
          82.45542,
          10.43172,
          6.50495,
          8.24781,
          3.325504,
          8.039021,
          18.309301,
          26.4976,
          23.253655,
          5.040003,
          10.306272,
          20.638887,
          1.755364,
          4.86837,
          6.000344,
          3.921773,
          25.537368,
          10.29711,
          15.011061,
          11.825058,
          26.326462,
          56.527324,
          11.052561,
          211.435291,
          42.003361,
          4.644666,
          11.397595
         ],
         "xaxis": "x",
         "y": [
          24.113744944214762,
          5.833001733806342,
          34.917941918074476,
          68.48506320400082,
          22.516280514853648,
          17.57291177423492,
          26.30946540585439,
          2.463663697230354,
          19.614763961944387,
          222.8487373335127,
          2.0425696686011405,
          21.57893003962823,
          29.791700189798757,
          9.234808452326522,
          18.227826766971944,
          17.573478832690625,
          23.092186494293475,
          -28.209145250893535,
          -2.1860567263910173,
          16.92131759263629,
          56.77051885146369,
          0.2116224328688532,
          12.015078483917534,
          10.044646144962474,
          23.89616124851554,
          10.803906026371227,
          23.317783091298544,
          29.602368914040774,
          10.536975298400865,
          43.606394354040944,
          37.589304481515356,
          20.397692637928248,
          97.70251405294374,
          35.8763544690584,
          7.7748531261118945,
          13.449547995179802
         ],
         "yaxis": "y"
        },
        {
         "hovertemplate": "<b>%{hovertext}</b><br><br>mpaa_rating=PG<br>Actual Opening Weekend Revenue (Millions)=%{x}<br>Predicted Opening Weekend Revenue (Millions)=%{y}<extra></extra>",
         "hovertext": [
          "The Super Mario Bros. Movie",
          "The Little Mermaid",
          "Spider-Man: Across the Spider-Verse",
          "Elemental",
          "Ruby Gillman, Teenage Kraken",
          "Teenage Mutant Ninja Turtles: Mutant Mayhem",
          "PAW Patrol: The Mighty Movie",
          "Journey to Bethlehem",
          "Trolls Band Together",
          "Wish",
          "Wonka",
          "Migration",
          "Kung Fu Panda 4",
          "Unsung Hero",
          "IF",
          "The Garfield Movie",
          "Inside Out 2",
          "Despicable Me 4",
          "Harold and the Purple Crayon"
         ],
         "legendgroup": "PG",
         "marker": {
          "color": "#00cc96",
          "symbol": "circle"
         },
         "mode": "markers",
         "name": "PG",
         "orientation": "v",
         "showlegend": true,
         "type": "scatter",
         "x": [
          146.361865,
          95.57804,
          120.663589,
          29.602429,
          5.50099,
          28.007544,
          22.764354,
          2.400446,
          30.002525,
          19.698228,
          39.0058,
          12.453275,
          57.989905,
          7.731539,
          33.715801,
          24.006629,
          154.201673,
          75.00921,
          6.003197
         ],
         "xaxis": "x",
         "y": [
          54.84472789793596,
          96.14273923873085,
          38.45723278290452,
          89.27937380308853,
          16.622437045804432,
          10.752296483664528,
          9.667928194655225,
          14.340900343607426,
          38.80700291299698,
          -1.3953976486188173,
          50.41886186441805,
          45.22529694099257,
          34.54731496308177,
          1.4630453941304684,
          37.78170302995274,
          21.27824780638378,
          107.86395590805522,
          79.5567750272549,
          16.585939414097144
         ],
         "yaxis": "y"
        },
        {
         "line": {
          "color": "red"
         },
         "mode": "lines",
         "showlegend": false,
         "type": "scatter",
         "x": [
          0,
          200
         ],
         "y": [
          0,
          200
         ]
        }
       ],
       "layout": {
        "legend": {
         "title": {
          "text": "mpaa_rating"
         },
         "tracegroupgap": 0
        },
        "template": {
         "data": {
          "bar": [
           {
            "error_x": {
             "color": "#2a3f5f"
            },
            "error_y": {
             "color": "#2a3f5f"
            },
            "marker": {
             "line": {
              "color": "#E5ECF6",
              "width": 0.5
             },
             "pattern": {
              "fillmode": "overlay",
              "size": 10,
              "solidity": 0.2
             }
            },
            "type": "bar"
           }
          ],
          "barpolar": [
           {
            "marker": {
             "line": {
              "color": "#E5ECF6",
              "width": 0.5
             },
             "pattern": {
              "fillmode": "overlay",
              "size": 10,
              "solidity": 0.2
             }
            },
            "type": "barpolar"
           }
          ],
          "carpet": [
           {
            "aaxis": {
             "endlinecolor": "#2a3f5f",
             "gridcolor": "white",
             "linecolor": "white",
             "minorgridcolor": "white",
             "startlinecolor": "#2a3f5f"
            },
            "baxis": {
             "endlinecolor": "#2a3f5f",
             "gridcolor": "white",
             "linecolor": "white",
             "minorgridcolor": "white",
             "startlinecolor": "#2a3f5f"
            },
            "type": "carpet"
           }
          ],
          "choropleth": [
           {
            "colorbar": {
             "outlinewidth": 0,
             "ticks": ""
            },
            "type": "choropleth"
           }
          ],
          "contour": [
           {
            "colorbar": {
             "outlinewidth": 0,
             "ticks": ""
            },
            "colorscale": [
             [
              0,
              "#0d0887"
             ],
             [
              0.1111111111111111,
              "#46039f"
             ],
             [
              0.2222222222222222,
              "#7201a8"
             ],
             [
              0.3333333333333333,
              "#9c179e"
             ],
             [
              0.4444444444444444,
              "#bd3786"
             ],
             [
              0.5555555555555556,
              "#d8576b"
             ],
             [
              0.6666666666666666,
              "#ed7953"
             ],
             [
              0.7777777777777778,
              "#fb9f3a"
             ],
             [
              0.8888888888888888,
              "#fdca26"
             ],
             [
              1,
              "#f0f921"
             ]
            ],
            "type": "contour"
           }
          ],
          "contourcarpet": [
           {
            "colorbar": {
             "outlinewidth": 0,
             "ticks": ""
            },
            "type": "contourcarpet"
           }
          ],
          "heatmap": [
           {
            "colorbar": {
             "outlinewidth": 0,
             "ticks": ""
            },
            "colorscale": [
             [
              0,
              "#0d0887"
             ],
             [
              0.1111111111111111,
              "#46039f"
             ],
             [
              0.2222222222222222,
              "#7201a8"
             ],
             [
              0.3333333333333333,
              "#9c179e"
             ],
             [
              0.4444444444444444,
              "#bd3786"
             ],
             [
              0.5555555555555556,
              "#d8576b"
             ],
             [
              0.6666666666666666,
              "#ed7953"
             ],
             [
              0.7777777777777778,
              "#fb9f3a"
             ],
             [
              0.8888888888888888,
              "#fdca26"
             ],
             [
              1,
              "#f0f921"
             ]
            ],
            "type": "heatmap"
           }
          ],
          "heatmapgl": [
           {
            "colorbar": {
             "outlinewidth": 0,
             "ticks": ""
            },
            "colorscale": [
             [
              0,
              "#0d0887"
             ],
             [
              0.1111111111111111,
              "#46039f"
             ],
             [
              0.2222222222222222,
              "#7201a8"
             ],
             [
              0.3333333333333333,
              "#9c179e"
             ],
             [
              0.4444444444444444,
              "#bd3786"
             ],
             [
              0.5555555555555556,
              "#d8576b"
             ],
             [
              0.6666666666666666,
              "#ed7953"
             ],
             [
              0.7777777777777778,
              "#fb9f3a"
             ],
             [
              0.8888888888888888,
              "#fdca26"
             ],
             [
              1,
              "#f0f921"
             ]
            ],
            "type": "heatmapgl"
           }
          ],
          "histogram": [
           {
            "marker": {
             "pattern": {
              "fillmode": "overlay",
              "size": 10,
              "solidity": 0.2
             }
            },
            "type": "histogram"
           }
          ],
          "histogram2d": [
           {
            "colorbar": {
             "outlinewidth": 0,
             "ticks": ""
            },
            "colorscale": [
             [
              0,
              "#0d0887"
             ],
             [
              0.1111111111111111,
              "#46039f"
             ],
             [
              0.2222222222222222,
              "#7201a8"
             ],
             [
              0.3333333333333333,
              "#9c179e"
             ],
             [
              0.4444444444444444,
              "#bd3786"
             ],
             [
              0.5555555555555556,
              "#d8576b"
             ],
             [
              0.6666666666666666,
              "#ed7953"
             ],
             [
              0.7777777777777778,
              "#fb9f3a"
             ],
             [
              0.8888888888888888,
              "#fdca26"
             ],
             [
              1,
              "#f0f921"
             ]
            ],
            "type": "histogram2d"
           }
          ],
          "histogram2dcontour": [
           {
            "colorbar": {
             "outlinewidth": 0,
             "ticks": ""
            },
            "colorscale": [
             [
              0,
              "#0d0887"
             ],
             [
              0.1111111111111111,
              "#46039f"
             ],
             [
              0.2222222222222222,
              "#7201a8"
             ],
             [
              0.3333333333333333,
              "#9c179e"
             ],
             [
              0.4444444444444444,
              "#bd3786"
             ],
             [
              0.5555555555555556,
              "#d8576b"
             ],
             [
              0.6666666666666666,
              "#ed7953"
             ],
             [
              0.7777777777777778,
              "#fb9f3a"
             ],
             [
              0.8888888888888888,
              "#fdca26"
             ],
             [
              1,
              "#f0f921"
             ]
            ],
            "type": "histogram2dcontour"
           }
          ],
          "mesh3d": [
           {
            "colorbar": {
             "outlinewidth": 0,
             "ticks": ""
            },
            "type": "mesh3d"
           }
          ],
          "parcoords": [
           {
            "line": {
             "colorbar": {
              "outlinewidth": 0,
              "ticks": ""
             }
            },
            "type": "parcoords"
           }
          ],
          "pie": [
           {
            "automargin": true,
            "type": "pie"
           }
          ],
          "scatter": [
           {
            "fillpattern": {
             "fillmode": "overlay",
             "size": 10,
             "solidity": 0.2
            },
            "type": "scatter"
           }
          ],
          "scatter3d": [
           {
            "line": {
             "colorbar": {
              "outlinewidth": 0,
              "ticks": ""
             }
            },
            "marker": {
             "colorbar": {
              "outlinewidth": 0,
              "ticks": ""
             }
            },
            "type": "scatter3d"
           }
          ],
          "scattercarpet": [
           {
            "marker": {
             "colorbar": {
              "outlinewidth": 0,
              "ticks": ""
             }
            },
            "type": "scattercarpet"
           }
          ],
          "scattergeo": [
           {
            "marker": {
             "colorbar": {
              "outlinewidth": 0,
              "ticks": ""
             }
            },
            "type": "scattergeo"
           }
          ],
          "scattergl": [
           {
            "marker": {
             "colorbar": {
              "outlinewidth": 0,
              "ticks": ""
             }
            },
            "type": "scattergl"
           }
          ],
          "scattermapbox": [
           {
            "marker": {
             "colorbar": {
              "outlinewidth": 0,
              "ticks": ""
             }
            },
            "type": "scattermapbox"
           }
          ],
          "scatterpolar": [
           {
            "marker": {
             "colorbar": {
              "outlinewidth": 0,
              "ticks": ""
             }
            },
            "type": "scatterpolar"
           }
          ],
          "scatterpolargl": [
           {
            "marker": {
             "colorbar": {
              "outlinewidth": 0,
              "ticks": ""
             }
            },
            "type": "scatterpolargl"
           }
          ],
          "scatterternary": [
           {
            "marker": {
             "colorbar": {
              "outlinewidth": 0,
              "ticks": ""
             }
            },
            "type": "scatterternary"
           }
          ],
          "surface": [
           {
            "colorbar": {
             "outlinewidth": 0,
             "ticks": ""
            },
            "colorscale": [
             [
              0,
              "#0d0887"
             ],
             [
              0.1111111111111111,
              "#46039f"
             ],
             [
              0.2222222222222222,
              "#7201a8"
             ],
             [
              0.3333333333333333,
              "#9c179e"
             ],
             [
              0.4444444444444444,
              "#bd3786"
             ],
             [
              0.5555555555555556,
              "#d8576b"
             ],
             [
              0.6666666666666666,
              "#ed7953"
             ],
             [
              0.7777777777777778,
              "#fb9f3a"
             ],
             [
              0.8888888888888888,
              "#fdca26"
             ],
             [
              1,
              "#f0f921"
             ]
            ],
            "type": "surface"
           }
          ],
          "table": [
           {
            "cells": {
             "fill": {
              "color": "#EBF0F8"
             },
             "line": {
              "color": "white"
             }
            },
            "header": {
             "fill": {
              "color": "#C8D4E3"
             },
             "line": {
              "color": "white"
             }
            },
            "type": "table"
           }
          ]
         },
         "layout": {
          "annotationdefaults": {
           "arrowcolor": "#2a3f5f",
           "arrowhead": 0,
           "arrowwidth": 1
          },
          "autotypenumbers": "strict",
          "coloraxis": {
           "colorbar": {
            "outlinewidth": 0,
            "ticks": ""
           }
          },
          "colorscale": {
           "diverging": [
            [
             0,
             "#8e0152"
            ],
            [
             0.1,
             "#c51b7d"
            ],
            [
             0.2,
             "#de77ae"
            ],
            [
             0.3,
             "#f1b6da"
            ],
            [
             0.4,
             "#fde0ef"
            ],
            [
             0.5,
             "#f7f7f7"
            ],
            [
             0.6,
             "#e6f5d0"
            ],
            [
             0.7,
             "#b8e186"
            ],
            [
             0.8,
             "#7fbc41"
            ],
            [
             0.9,
             "#4d9221"
            ],
            [
             1,
             "#276419"
            ]
           ],
           "sequential": [
            [
             0,
             "#0d0887"
            ],
            [
             0.1111111111111111,
             "#46039f"
            ],
            [
             0.2222222222222222,
             "#7201a8"
            ],
            [
             0.3333333333333333,
             "#9c179e"
            ],
            [
             0.4444444444444444,
             "#bd3786"
            ],
            [
             0.5555555555555556,
             "#d8576b"
            ],
            [
             0.6666666666666666,
             "#ed7953"
            ],
            [
             0.7777777777777778,
             "#fb9f3a"
            ],
            [
             0.8888888888888888,
             "#fdca26"
            ],
            [
             1,
             "#f0f921"
            ]
           ],
           "sequentialminus": [
            [
             0,
             "#0d0887"
            ],
            [
             0.1111111111111111,
             "#46039f"
            ],
            [
             0.2222222222222222,
             "#7201a8"
            ],
            [
             0.3333333333333333,
             "#9c179e"
            ],
            [
             0.4444444444444444,
             "#bd3786"
            ],
            [
             0.5555555555555556,
             "#d8576b"
            ],
            [
             0.6666666666666666,
             "#ed7953"
            ],
            [
             0.7777777777777778,
             "#fb9f3a"
            ],
            [
             0.8888888888888888,
             "#fdca26"
            ],
            [
             1,
             "#f0f921"
            ]
           ]
          },
          "colorway": [
           "#636efa",
           "#EF553B",
           "#00cc96",
           "#ab63fa",
           "#FFA15A",
           "#19d3f3",
           "#FF6692",
           "#B6E880",
           "#FF97FF",
           "#FECB52"
          ],
          "font": {
           "color": "#2a3f5f"
          },
          "geo": {
           "bgcolor": "white",
           "lakecolor": "white",
           "landcolor": "#E5ECF6",
           "showlakes": true,
           "showland": true,
           "subunitcolor": "white"
          },
          "hoverlabel": {
           "align": "left"
          },
          "hovermode": "closest",
          "mapbox": {
           "style": "light"
          },
          "paper_bgcolor": "white",
          "plot_bgcolor": "#E5ECF6",
          "polar": {
           "angularaxis": {
            "gridcolor": "white",
            "linecolor": "white",
            "ticks": ""
           },
           "bgcolor": "#E5ECF6",
           "radialaxis": {
            "gridcolor": "white",
            "linecolor": "white",
            "ticks": ""
           }
          },
          "scene": {
           "xaxis": {
            "backgroundcolor": "#E5ECF6",
            "gridcolor": "white",
            "gridwidth": 2,
            "linecolor": "white",
            "showbackground": true,
            "ticks": "",
            "zerolinecolor": "white"
           },
           "yaxis": {
            "backgroundcolor": "#E5ECF6",
            "gridcolor": "white",
            "gridwidth": 2,
            "linecolor": "white",
            "showbackground": true,
            "ticks": "",
            "zerolinecolor": "white"
           },
           "zaxis": {
            "backgroundcolor": "#E5ECF6",
            "gridcolor": "white",
            "gridwidth": 2,
            "linecolor": "white",
            "showbackground": true,
            "ticks": "",
            "zerolinecolor": "white"
           }
          },
          "shapedefaults": {
           "line": {
            "color": "#2a3f5f"
           }
          },
          "ternary": {
           "aaxis": {
            "gridcolor": "white",
            "linecolor": "white",
            "ticks": ""
           },
           "baxis": {
            "gridcolor": "white",
            "linecolor": "white",
            "ticks": ""
           },
           "bgcolor": "#E5ECF6",
           "caxis": {
            "gridcolor": "white",
            "linecolor": "white",
            "ticks": ""
           }
          },
          "title": {
           "x": 0.05
          },
          "xaxis": {
           "automargin": true,
           "gridcolor": "white",
           "linecolor": "white",
           "ticks": "",
           "title": {
            "standoff": 15
           },
           "zerolinecolor": "white",
           "zerolinewidth": 2
          },
          "yaxis": {
           "automargin": true,
           "gridcolor": "white",
           "linecolor": "white",
           "ticks": "",
           "title": {
            "standoff": 15
           },
           "zerolinecolor": "white",
           "zerolinewidth": 2
          }
         }
        },
        "title": {
         "text": "Actual vs Predicted Opening Weekend Revenue"
        },
        "xaxis": {
         "anchor": "y",
         "domain": [
          0,
          1
         ],
         "title": {
          "text": "Actual Opening Weekend Revenue (Millions)"
         }
        },
        "yaxis": {
         "anchor": "x",
         "domain": [
          0,
          1
         ],
         "title": {
          "text": "Predicted Opening Weekend Revenue (Millions)"
         }
        }
       }
      }
     },
     "metadata": {},
     "output_type": "display_data"
    }
   ],
   "source": [
    "# plot actual vs predicted\n",
    "y_pred_gam = gam.predict(X_test[relevant_features])\n",
    "\n",
    "results_df_gam = pd.DataFrame({'predicted': y_pred_gam, 'actual': y_test})\n",
    "\n",
    "# now add in X_test title, source, distributor, genre, creative_type, production_method, mpaa_rating, and release_day\n",
    "results_df_gam['title'] = X_test['title']\n",
    "results_df_gam['source'] = X_test['source']\n",
    "results_df_gam['distributor_slug'] = X_test['distributor_slug']\n",
    "results_df_gam['genre'] = X_test['genre']\n",
    "results_df_gam['creative_type'] = X_test['creative_type']\n",
    "results_df_gam['production_method'] = X_test['production_method']\n",
    "results_df_gam['mpaa_rating'] = X_test['mpaa_rating']\n",
    "results_df_gam['release_day'] = X_test['release_day']\n",
    "\n",
    "results_df_gam['predicted'] = results_df_gam['predicted'] / 1000000\n",
    "\n",
    "results_df_gam['actual'] = results_df_gam['actual'] / 1000000\n",
    "\n",
    "# results_df_gam.to_csv('gam_results.csv', index=False)\n",
    "import plotly.express as px\n",
    "import plotly.graph_objects as go\n",
    "\n",
    "# Create the scatter plot\n",
    "fig = px.scatter(\n",
    "    results_df_gam,\n",
    "    x='actual',\n",
    "    y='predicted',\n",
    "    color='mpaa_rating',\n",
    "    labels={\n",
    "        'actual': 'Actual Opening Weekend Revenue (Millions)',\n",
    "        'predicted': 'Predicted Opening Weekend Revenue (Millions)'\n",
    "    },\n",
    "    title='Actual vs Predicted Opening Weekend Revenue',\n",
    "    hover_name='title'\n",
    ")\n",
    "\n",
    "# Add the diagonal line\n",
    "fig.add_trace(\n",
    "    go.Scatter(\n",
    "        x=[0, 200],\n",
    "        y=[0, 200],\n",
    "        mode='lines',\n",
    "        line=dict(color='red'),\n",
    "        showlegend=False\n",
    "    )\n",
    ")\n",
    "\n",
    "# Show the plot\n",
    "fig.show()"
   ]
  },
  {
   "cell_type": "code",
   "execution_count": 15,
   "metadata": {},
   "outputs": [
    {
     "name": "stdout",
     "output_type": "stream",
     "text": [
      "                                       Results: Ordinary least squares\n",
      "=============================================================================================================\n",
      "Model:                           OLS                          Adj. R-squared (uncentered):         0.806     \n",
      "Dependent Variable:              opening_wide_revenue         AIC:                                 26853.1654\n",
      "Date:                            2024-11-03 17:52             BIC:                                 26885.3549\n",
      "No. Observations:                734                          Log-Likelihood:                      -13420.   \n",
      "Df Model:                        7                            F-statistic:                         437.4     \n",
      "Df Residuals:                    727                          Prob (F-statistic):                  1.06e-255 \n",
      "R-squared (uncentered):          0.808                        Scale:                               4.4868e+14\n",
      "-------------------------------------------------------------------------------------------------------------\n",
      "                                             Coef.       Std.Err.      t    P>|t|     [0.025        0.975]   \n",
      "-------------------------------------------------------------------------------------------------------------\n",
      "budget                                          0.2047       0.0175 11.6638 0.0000       0.1702        0.2391\n",
      "wikipedia_pre_release_cumulative_views         15.2997       1.2587 12.1555 0.0000      12.8287       17.7708\n",
      "sum_crew_box_office                             0.0006       0.0002  3.9478 0.0001       0.0003        0.0009\n",
      "sum_cast_box_office                             0.0023       0.0005  4.7476 0.0000       0.0013        0.0032\n",
      "running_time                              -144809.9591   24716.6660 -5.8588 0.0000 -193334.5193   -96285.3990\n",
      "in_franchise                             11123874.4443 1768568.3019  6.2898 0.0000 7651763.8027 14595985.0859\n",
      "metacritic_before_wide_friday_calculated   156761.0027   44974.5943  3.4855 0.0005   68465.4207   245056.5848\n",
      "-------------------------------------------------------------------------------------------------------------\n",
      "Omnibus:                          332.582                    Durbin-Watson:                       1.893      \n",
      "Prob(Omnibus):                    0.000                      Jarque-Bera (JB):                    2772.687   \n",
      "Skew:                             1.839                      Prob(JB):                            0.000      \n",
      "Kurtosis:                         11.782                     Condition No.:                       25012083171\n",
      "=============================================================================================================\n",
      "Notes:\n",
      "[1] R² is computed without centering (uncentered) since the                 model does not contain a\n",
      "constant.\n",
      "[2] Standard Errors assume that the covariance matrix of the errors is correctly specified.\n",
      "[3] The condition number is large, 2.5e+10. This might indicate                that there are strong\n",
      "multicollinearity or other numerical                problems.\n"
     ]
    }
   ],
   "source": [
    "relevant_features = [\n",
    "    \"budget\",\n",
    "    # \"director_median_box_office\",\n",
    "    # \"director_mean_box_office\",\n",
    "    # \"weighted_crew_median_box_office\",\n",
    "    # \"weighted_crew_mean_box_office\",\n",
    "    # \"weighted_cast_mean_box_office\",\n",
    "    \"wikipedia_pre_release_cumulative_views\",\n",
    "    \"sum_crew_box_office\",\n",
    "    \"sum_cast_box_office\",\n",
    "    # \"wikipedia_pre_release_monday_views\",\n",
    "    # \"wikipedia_pre_release_week_monday\",\n",
    "    # \"wikipedia_pre_release_three_monday\",\n",
    "    # \"genre_Horror\",\n",
    "    # \"mpaa_rating_PG-13\",\n",
    "    # \"mpaa_rating_R\",\n",
    "    # \"source_Original Screenplay\",\n",
    "    # \"production_method_Digital Animation\",\n",
    "    # \"distributor_slug_Sony-Pictures\",\n",
    "    # \"distributor_slug_Warner-Bros\",\n",
    "    \"running_time\",\n",
    "    # \"metacritic_score\",\n",
    "    \"in_franchise\",\n",
    "    # \"metacritic_review_count\",\n",
    "    # \"metacritic_score_calculated\",\n",
    "    # \"metacritic_monday_before_wide_friday_calculated\",\n",
    "    \"metacritic_before_wide_friday_calculated\",\n",
    "    # \"metacritic_before_first_day_calculated\"\n",
    "]\n",
    "\n",
    "# make an MLR with these features\n",
    "X_train_mlr = X_train_dummies[relevant_features]\n",
    "\n",
    "model_mlr = OLS(y_train, X_train_mlr)\n",
    "\n",
    "results_mlr = model_mlr.fit()\n",
    "\n",
    "print(results_mlr.summary2(float_format=millions))"
   ]
  },
  {
   "cell_type": "code",
   "execution_count": 16,
   "metadata": {},
   "outputs": [
    {
     "data": {
      "application/vnd.plotly.v1+json": {
       "config": {
        "plotlyServerURL": "https://plot.ly"
       },
       "data": [
        {
         "hovertemplate": "<b>%{hovertext}</b><br><br>mpaa_rating=PG-13<br>Actual Opening Weekend Revenue (Millions)=%{x}<br>Predicted Opening Weekend Revenue (Millions)=%{y}<extra></extra>",
         "hovertext": [
          "80 for Brady",
          "Ant-Man and the Wasp: Quantumania",
          "Jesus Revolution",
          "Creed III",
          "65",
          "Shazam! Fury of the Gods",
          "His Only Son",
          "Dungeons & Dragons: Honor Among Thieves",
          "Are You There God? It’s Me, Margaret",
          "Big George Foreman: The Miraculous Story of the Once and Future Heavyweight Champion of the World",
          "Guardians of the Galaxy Vol 3",
          "Fast X",
          "Transformers: Rise of the Beasts",
          "The Flash",
          "Indiana Jones and the Dial of Destiny",
          "Sound of Freedom",
          "Insidious: The Red Door",
          "Barbie",
          "Haunted Mansion",
          "Meg 2: The Trench",
          "Blue Beetle",
          "The Creator",
          "Five Nights at Freddy’s",
          "The Marvels",
          "Next Goal Wins",
          "The Hunger Games: The Ballad of Songbirds & Snakes",
          "Godzilla Minus One (ゴジラ最新作)",
          "Aquaman and the Lost Kingdom",
          "Mean Girls",
          "Argylle",
          "Madame Web",
          "Dune: Part Two",
          "Cabrini",
          "Imaginary",
          "Arthur the King",
          "Ghostbusters: Frozen Empire",
          "Godzilla x Kong: The New Empire",
          "Tarot",
          "The Fall Guy",
          "Kingdom of the Planet of the Apes",
          "The Watchers",
          "A Quiet Place: Day One",
          "Sound of Hope: The Story of Possum Trot",
          "Fly Me to the Moon",
          "Twisters",
          "It Ends With Us",
          "Reagan",
          "Beetlejuice Beetlejuice"
         ],
         "legendgroup": "PG-13",
         "marker": {
          "color": "#636efa",
          "symbol": "circle"
         },
         "mode": "markers",
         "name": "PG-13",
         "orientation": "v",
         "showlegend": true,
         "type": "scatter",
         "x": [
          12.70164,
          106.10965,
          15.882067,
          58.370007,
          12.328361,
          30.111158,
          5.50107,
          37.205784,
          6.739037,
          2.925364,
          118.414021,
          67.01741,
          61.045464,
          55.043679,
          60.368101,
          19.680879,
          33.013036,
          162.022044,
          24.082475,
          30.002735,
          25.030225,
          14.079512,
          80.00172,
          46.110859,
          2.500295,
          44.607143,
          11.419975,
          27.686211,
          28.635307,
          17.47354,
          15.33586,
          82.505391,
          7.16852,
          9.912713,
          7.633898,
          45.004673,
          80.006561,
          6.503012,
          27.747035,
          58.400788,
          7.003537,
          52.202495,
          3.078758,
          9.426615,
          81.251415,
          50.016652,
          7.65072,
          111.003345
         ],
         "xaxis": "x",
         "y": [
          7.932472451070809,
          104.78123045811769,
          -1.770868630079668,
          43.08188019499078,
          17.004191881433048,
          58.12592840203429,
          -15.252206968963991,
          38.04512129408225,
          10.831232712427022,
          -1.1175419416069574,
          116.97934919986535,
          115.15734240046295,
          71.98291911878688,
          100.35955114685882,
          140.91327113596148,
          2.790851800135609,
          24.66221321138066,
          97.40851134841226,
          50.107201594475114,
          41.39464821653596,
          57.02546210808468,
          33.32296118736813,
          32.821152859834164,
          103.69230390998102,
          3.9903518328357395,
          38.395288002716235,
          21.304748862893014,
          77.29759820753654,
          15.721886105481662,
          49.8733818717393,
          40.11824764021577,
          88.17247447841699,
          2.926005782286439,
          -1.589200589758196,
          2.8172727093269954,
          41.32438924540904,
          69.5727522967493,
          -4.563900747244974,
          45.01356695468389,
          67.17821520370788,
          10.755335977178182,
          39.654415832574976,
          -15.017319279597503,
          25.219920695026566,
          60.134296127891616,
          4.938607170164153,
          -1.1890094685613244,
          56.20289866427708
         ],
         "yaxis": "y"
        },
        {
         "hovertemplate": "<b>%{hovertext}</b><br><br>mpaa_rating=R<br>Actual Opening Weekend Revenue (Millions)=%{x}<br>Predicted Opening Weekend Revenue (Millions)=%{y}<extra></extra>",
         "hovertext": [
          "Knock at the Cabin",
          "Operation Fortune: Ruse de guerre",
          "Scream VI",
          "John Wick: Chapter 4",
          "Renfield",
          "The Pope’s Exorcist",
          "Beau is Afraid",
          "The Machine",
          "No Hard Feelings",
          "Oppenheimer",
          "Talk To Me",
          "The Last Voyage of the Demeter",
          "Strays",
          "Dumb Money",
          "Expend4bles",
          "Saw X",
          "The Exorcist: Believer",
          "Killers of the Flower Moon",
          "Priscilla",
          "Thanksgiving",
          "Napoleon",
          "American Fiction",
          "The Iron Claw",
          "Anyone But You",
          "Ferrari",
          "Civil War",
          "Abigail",
          "Challengers",
          "The Strangers: Chapter 1",
          "Furiosa: A Mad Max Saga",
          "Bad Boys: Ride or Die",
          "Horizon: An American Saga Chapter 1",
          "Deadpool & Wolverine",
          "Alien: Romulus",
          "The Crow",
          "Speak No Evil"
         ],
         "legendgroup": "R",
         "marker": {
          "color": "#EF553B",
          "symbol": "circle"
         },
         "mode": "markers",
         "name": "R",
         "orientation": "v",
         "showlegend": true,
         "type": "scatter",
         "x": [
          14.12717,
          3.140214,
          44.44727,
          73.81795,
          8.026475,
          9.006368,
          2.661957,
          5.000545,
          15.00277,
          82.45542,
          10.43172,
          6.50495,
          8.24781,
          3.325504,
          8.039021,
          18.309301,
          26.4976,
          23.253655,
          5.040003,
          10.306272,
          20.638887,
          1.755364,
          4.86837,
          6.000344,
          3.921773,
          25.537368,
          10.29711,
          15.011061,
          11.825058,
          26.326462,
          56.527324,
          11.052561,
          211.435291,
          42.003361,
          4.644666,
          11.397595
         ],
         "xaxis": "x",
         "y": [
          16.24531295025057,
          13.182490809265264,
          30.422793370196374,
          61.97997747995457,
          26.543467340897045,
          6.639285249192103,
          -0.0036629958273470403,
          -8.746912736603702,
          18.99871271812846,
          134.22778733838743,
          -5.833501667561809,
          11.010026867627976,
          19.759895628909522,
          6.214955597797874,
          34.8208325523492,
          19.801957842917414,
          23.63982594587816,
          67.19213578420339,
          5.96401543403783,
          21.38511911118961,
          57.09679756652716,
          6.557657768367523,
          13.37838060836264,
          7.801732127544104,
          27.28101407566253,
          18.461557111949606,
          15.737804735134201,
          26.94918974614708,
          11.378648379593375,
          62.15875612945856,
          39.99096548463721,
          2.627097160301988,
          114.42606721304317,
          49.75911186222378,
          7.615726688997643,
          13.416684170150873
         ],
         "yaxis": "y"
        },
        {
         "hovertemplate": "<b>%{hovertext}</b><br><br>mpaa_rating=PG<br>Actual Opening Weekend Revenue (Millions)=%{x}<br>Predicted Opening Weekend Revenue (Millions)=%{y}<extra></extra>",
         "hovertext": [
          "The Super Mario Bros. Movie",
          "The Little Mermaid",
          "Spider-Man: Across the Spider-Verse",
          "Elemental",
          "Ruby Gillman, Teenage Kraken",
          "Teenage Mutant Ninja Turtles: Mutant Mayhem",
          "PAW Patrol: The Mighty Movie",
          "Journey to Bethlehem",
          "Trolls Band Together",
          "Wish",
          "Wonka",
          "Migration",
          "Kung Fu Panda 4",
          "Unsung Hero",
          "IF",
          "The Garfield Movie",
          "Inside Out 2",
          "Despicable Me 4",
          "Harold and the Purple Crayon"
         ],
         "legendgroup": "PG",
         "marker": {
          "color": "#00cc96",
          "symbol": "circle"
         },
         "mode": "markers",
         "name": "PG",
         "orientation": "v",
         "showlegend": true,
         "type": "scatter",
         "x": [
          146.361865,
          95.57804,
          120.663589,
          29.602429,
          5.50099,
          28.007544,
          22.764354,
          2.400446,
          30.002525,
          19.698228,
          39.0058,
          12.453275,
          57.989905,
          7.731539,
          33.715801,
          24.006629,
          154.201673,
          75.00921,
          6.003197
         ],
         "xaxis": "x",
         "y": [
          62.9703421363003,
          85.74246368110887,
          63.9425618395078,
          54.6414538280094,
          19.50092559622436,
          25.177432267930065,
          13.989861057679917,
          -6.565967769248189,
          38.67349337739966,
          58.61046018354848,
          67.08501218855027,
          20.36259127569446,
          49.336945630311064,
          -5.970790860222484,
          33.38693834921137,
          33.11015179105543,
          83.75734453987793,
          62.21327344634642,
          9.549932288451771
         ],
         "yaxis": "y"
        },
        {
         "line": {
          "color": "red"
         },
         "mode": "lines",
         "showlegend": false,
         "type": "scatter",
         "x": [
          0,
          200
         ],
         "y": [
          0,
          200
         ]
        }
       ],
       "layout": {
        "legend": {
         "title": {
          "text": "mpaa_rating"
         },
         "tracegroupgap": 0
        },
        "template": {
         "data": {
          "bar": [
           {
            "error_x": {
             "color": "#2a3f5f"
            },
            "error_y": {
             "color": "#2a3f5f"
            },
            "marker": {
             "line": {
              "color": "#E5ECF6",
              "width": 0.5
             },
             "pattern": {
              "fillmode": "overlay",
              "size": 10,
              "solidity": 0.2
             }
            },
            "type": "bar"
           }
          ],
          "barpolar": [
           {
            "marker": {
             "line": {
              "color": "#E5ECF6",
              "width": 0.5
             },
             "pattern": {
              "fillmode": "overlay",
              "size": 10,
              "solidity": 0.2
             }
            },
            "type": "barpolar"
           }
          ],
          "carpet": [
           {
            "aaxis": {
             "endlinecolor": "#2a3f5f",
             "gridcolor": "white",
             "linecolor": "white",
             "minorgridcolor": "white",
             "startlinecolor": "#2a3f5f"
            },
            "baxis": {
             "endlinecolor": "#2a3f5f",
             "gridcolor": "white",
             "linecolor": "white",
             "minorgridcolor": "white",
             "startlinecolor": "#2a3f5f"
            },
            "type": "carpet"
           }
          ],
          "choropleth": [
           {
            "colorbar": {
             "outlinewidth": 0,
             "ticks": ""
            },
            "type": "choropleth"
           }
          ],
          "contour": [
           {
            "colorbar": {
             "outlinewidth": 0,
             "ticks": ""
            },
            "colorscale": [
             [
              0,
              "#0d0887"
             ],
             [
              0.1111111111111111,
              "#46039f"
             ],
             [
              0.2222222222222222,
              "#7201a8"
             ],
             [
              0.3333333333333333,
              "#9c179e"
             ],
             [
              0.4444444444444444,
              "#bd3786"
             ],
             [
              0.5555555555555556,
              "#d8576b"
             ],
             [
              0.6666666666666666,
              "#ed7953"
             ],
             [
              0.7777777777777778,
              "#fb9f3a"
             ],
             [
              0.8888888888888888,
              "#fdca26"
             ],
             [
              1,
              "#f0f921"
             ]
            ],
            "type": "contour"
           }
          ],
          "contourcarpet": [
           {
            "colorbar": {
             "outlinewidth": 0,
             "ticks": ""
            },
            "type": "contourcarpet"
           }
          ],
          "heatmap": [
           {
            "colorbar": {
             "outlinewidth": 0,
             "ticks": ""
            },
            "colorscale": [
             [
              0,
              "#0d0887"
             ],
             [
              0.1111111111111111,
              "#46039f"
             ],
             [
              0.2222222222222222,
              "#7201a8"
             ],
             [
              0.3333333333333333,
              "#9c179e"
             ],
             [
              0.4444444444444444,
              "#bd3786"
             ],
             [
              0.5555555555555556,
              "#d8576b"
             ],
             [
              0.6666666666666666,
              "#ed7953"
             ],
             [
              0.7777777777777778,
              "#fb9f3a"
             ],
             [
              0.8888888888888888,
              "#fdca26"
             ],
             [
              1,
              "#f0f921"
             ]
            ],
            "type": "heatmap"
           }
          ],
          "heatmapgl": [
           {
            "colorbar": {
             "outlinewidth": 0,
             "ticks": ""
            },
            "colorscale": [
             [
              0,
              "#0d0887"
             ],
             [
              0.1111111111111111,
              "#46039f"
             ],
             [
              0.2222222222222222,
              "#7201a8"
             ],
             [
              0.3333333333333333,
              "#9c179e"
             ],
             [
              0.4444444444444444,
              "#bd3786"
             ],
             [
              0.5555555555555556,
              "#d8576b"
             ],
             [
              0.6666666666666666,
              "#ed7953"
             ],
             [
              0.7777777777777778,
              "#fb9f3a"
             ],
             [
              0.8888888888888888,
              "#fdca26"
             ],
             [
              1,
              "#f0f921"
             ]
            ],
            "type": "heatmapgl"
           }
          ],
          "histogram": [
           {
            "marker": {
             "pattern": {
              "fillmode": "overlay",
              "size": 10,
              "solidity": 0.2
             }
            },
            "type": "histogram"
           }
          ],
          "histogram2d": [
           {
            "colorbar": {
             "outlinewidth": 0,
             "ticks": ""
            },
            "colorscale": [
             [
              0,
              "#0d0887"
             ],
             [
              0.1111111111111111,
              "#46039f"
             ],
             [
              0.2222222222222222,
              "#7201a8"
             ],
             [
              0.3333333333333333,
              "#9c179e"
             ],
             [
              0.4444444444444444,
              "#bd3786"
             ],
             [
              0.5555555555555556,
              "#d8576b"
             ],
             [
              0.6666666666666666,
              "#ed7953"
             ],
             [
              0.7777777777777778,
              "#fb9f3a"
             ],
             [
              0.8888888888888888,
              "#fdca26"
             ],
             [
              1,
              "#f0f921"
             ]
            ],
            "type": "histogram2d"
           }
          ],
          "histogram2dcontour": [
           {
            "colorbar": {
             "outlinewidth": 0,
             "ticks": ""
            },
            "colorscale": [
             [
              0,
              "#0d0887"
             ],
             [
              0.1111111111111111,
              "#46039f"
             ],
             [
              0.2222222222222222,
              "#7201a8"
             ],
             [
              0.3333333333333333,
              "#9c179e"
             ],
             [
              0.4444444444444444,
              "#bd3786"
             ],
             [
              0.5555555555555556,
              "#d8576b"
             ],
             [
              0.6666666666666666,
              "#ed7953"
             ],
             [
              0.7777777777777778,
              "#fb9f3a"
             ],
             [
              0.8888888888888888,
              "#fdca26"
             ],
             [
              1,
              "#f0f921"
             ]
            ],
            "type": "histogram2dcontour"
           }
          ],
          "mesh3d": [
           {
            "colorbar": {
             "outlinewidth": 0,
             "ticks": ""
            },
            "type": "mesh3d"
           }
          ],
          "parcoords": [
           {
            "line": {
             "colorbar": {
              "outlinewidth": 0,
              "ticks": ""
             }
            },
            "type": "parcoords"
           }
          ],
          "pie": [
           {
            "automargin": true,
            "type": "pie"
           }
          ],
          "scatter": [
           {
            "fillpattern": {
             "fillmode": "overlay",
             "size": 10,
             "solidity": 0.2
            },
            "type": "scatter"
           }
          ],
          "scatter3d": [
           {
            "line": {
             "colorbar": {
              "outlinewidth": 0,
              "ticks": ""
             }
            },
            "marker": {
             "colorbar": {
              "outlinewidth": 0,
              "ticks": ""
             }
            },
            "type": "scatter3d"
           }
          ],
          "scattercarpet": [
           {
            "marker": {
             "colorbar": {
              "outlinewidth": 0,
              "ticks": ""
             }
            },
            "type": "scattercarpet"
           }
          ],
          "scattergeo": [
           {
            "marker": {
             "colorbar": {
              "outlinewidth": 0,
              "ticks": ""
             }
            },
            "type": "scattergeo"
           }
          ],
          "scattergl": [
           {
            "marker": {
             "colorbar": {
              "outlinewidth": 0,
              "ticks": ""
             }
            },
            "type": "scattergl"
           }
          ],
          "scattermapbox": [
           {
            "marker": {
             "colorbar": {
              "outlinewidth": 0,
              "ticks": ""
             }
            },
            "type": "scattermapbox"
           }
          ],
          "scatterpolar": [
           {
            "marker": {
             "colorbar": {
              "outlinewidth": 0,
              "ticks": ""
             }
            },
            "type": "scatterpolar"
           }
          ],
          "scatterpolargl": [
           {
            "marker": {
             "colorbar": {
              "outlinewidth": 0,
              "ticks": ""
             }
            },
            "type": "scatterpolargl"
           }
          ],
          "scatterternary": [
           {
            "marker": {
             "colorbar": {
              "outlinewidth": 0,
              "ticks": ""
             }
            },
            "type": "scatterternary"
           }
          ],
          "surface": [
           {
            "colorbar": {
             "outlinewidth": 0,
             "ticks": ""
            },
            "colorscale": [
             [
              0,
              "#0d0887"
             ],
             [
              0.1111111111111111,
              "#46039f"
             ],
             [
              0.2222222222222222,
              "#7201a8"
             ],
             [
              0.3333333333333333,
              "#9c179e"
             ],
             [
              0.4444444444444444,
              "#bd3786"
             ],
             [
              0.5555555555555556,
              "#d8576b"
             ],
             [
              0.6666666666666666,
              "#ed7953"
             ],
             [
              0.7777777777777778,
              "#fb9f3a"
             ],
             [
              0.8888888888888888,
              "#fdca26"
             ],
             [
              1,
              "#f0f921"
             ]
            ],
            "type": "surface"
           }
          ],
          "table": [
           {
            "cells": {
             "fill": {
              "color": "#EBF0F8"
             },
             "line": {
              "color": "white"
             }
            },
            "header": {
             "fill": {
              "color": "#C8D4E3"
             },
             "line": {
              "color": "white"
             }
            },
            "type": "table"
           }
          ]
         },
         "layout": {
          "annotationdefaults": {
           "arrowcolor": "#2a3f5f",
           "arrowhead": 0,
           "arrowwidth": 1
          },
          "autotypenumbers": "strict",
          "coloraxis": {
           "colorbar": {
            "outlinewidth": 0,
            "ticks": ""
           }
          },
          "colorscale": {
           "diverging": [
            [
             0,
             "#8e0152"
            ],
            [
             0.1,
             "#c51b7d"
            ],
            [
             0.2,
             "#de77ae"
            ],
            [
             0.3,
             "#f1b6da"
            ],
            [
             0.4,
             "#fde0ef"
            ],
            [
             0.5,
             "#f7f7f7"
            ],
            [
             0.6,
             "#e6f5d0"
            ],
            [
             0.7,
             "#b8e186"
            ],
            [
             0.8,
             "#7fbc41"
            ],
            [
             0.9,
             "#4d9221"
            ],
            [
             1,
             "#276419"
            ]
           ],
           "sequential": [
            [
             0,
             "#0d0887"
            ],
            [
             0.1111111111111111,
             "#46039f"
            ],
            [
             0.2222222222222222,
             "#7201a8"
            ],
            [
             0.3333333333333333,
             "#9c179e"
            ],
            [
             0.4444444444444444,
             "#bd3786"
            ],
            [
             0.5555555555555556,
             "#d8576b"
            ],
            [
             0.6666666666666666,
             "#ed7953"
            ],
            [
             0.7777777777777778,
             "#fb9f3a"
            ],
            [
             0.8888888888888888,
             "#fdca26"
            ],
            [
             1,
             "#f0f921"
            ]
           ],
           "sequentialminus": [
            [
             0,
             "#0d0887"
            ],
            [
             0.1111111111111111,
             "#46039f"
            ],
            [
             0.2222222222222222,
             "#7201a8"
            ],
            [
             0.3333333333333333,
             "#9c179e"
            ],
            [
             0.4444444444444444,
             "#bd3786"
            ],
            [
             0.5555555555555556,
             "#d8576b"
            ],
            [
             0.6666666666666666,
             "#ed7953"
            ],
            [
             0.7777777777777778,
             "#fb9f3a"
            ],
            [
             0.8888888888888888,
             "#fdca26"
            ],
            [
             1,
             "#f0f921"
            ]
           ]
          },
          "colorway": [
           "#636efa",
           "#EF553B",
           "#00cc96",
           "#ab63fa",
           "#FFA15A",
           "#19d3f3",
           "#FF6692",
           "#B6E880",
           "#FF97FF",
           "#FECB52"
          ],
          "font": {
           "color": "#2a3f5f"
          },
          "geo": {
           "bgcolor": "white",
           "lakecolor": "white",
           "landcolor": "#E5ECF6",
           "showlakes": true,
           "showland": true,
           "subunitcolor": "white"
          },
          "hoverlabel": {
           "align": "left"
          },
          "hovermode": "closest",
          "mapbox": {
           "style": "light"
          },
          "paper_bgcolor": "white",
          "plot_bgcolor": "#E5ECF6",
          "polar": {
           "angularaxis": {
            "gridcolor": "white",
            "linecolor": "white",
            "ticks": ""
           },
           "bgcolor": "#E5ECF6",
           "radialaxis": {
            "gridcolor": "white",
            "linecolor": "white",
            "ticks": ""
           }
          },
          "scene": {
           "xaxis": {
            "backgroundcolor": "#E5ECF6",
            "gridcolor": "white",
            "gridwidth": 2,
            "linecolor": "white",
            "showbackground": true,
            "ticks": "",
            "zerolinecolor": "white"
           },
           "yaxis": {
            "backgroundcolor": "#E5ECF6",
            "gridcolor": "white",
            "gridwidth": 2,
            "linecolor": "white",
            "showbackground": true,
            "ticks": "",
            "zerolinecolor": "white"
           },
           "zaxis": {
            "backgroundcolor": "#E5ECF6",
            "gridcolor": "white",
            "gridwidth": 2,
            "linecolor": "white",
            "showbackground": true,
            "ticks": "",
            "zerolinecolor": "white"
           }
          },
          "shapedefaults": {
           "line": {
            "color": "#2a3f5f"
           }
          },
          "ternary": {
           "aaxis": {
            "gridcolor": "white",
            "linecolor": "white",
            "ticks": ""
           },
           "baxis": {
            "gridcolor": "white",
            "linecolor": "white",
            "ticks": ""
           },
           "bgcolor": "#E5ECF6",
           "caxis": {
            "gridcolor": "white",
            "linecolor": "white",
            "ticks": ""
           }
          },
          "title": {
           "x": 0.05
          },
          "xaxis": {
           "automargin": true,
           "gridcolor": "white",
           "linecolor": "white",
           "ticks": "",
           "title": {
            "standoff": 15
           },
           "zerolinecolor": "white",
           "zerolinewidth": 2
          },
          "yaxis": {
           "automargin": true,
           "gridcolor": "white",
           "linecolor": "white",
           "ticks": "",
           "title": {
            "standoff": 15
           },
           "zerolinecolor": "white",
           "zerolinewidth": 2
          }
         }
        },
        "title": {
         "text": "Actual vs Predicted Opening Weekend Revenue"
        },
        "xaxis": {
         "anchor": "y",
         "domain": [
          0,
          1
         ],
         "title": {
          "text": "Actual Opening Weekend Revenue (Millions)"
         }
        },
        "yaxis": {
         "anchor": "x",
         "domain": [
          0,
          1
         ],
         "title": {
          "text": "Predicted Opening Weekend Revenue (Millions)"
         }
        }
       }
      }
     },
     "metadata": {},
     "output_type": "display_data"
    }
   ],
   "source": [
    "# graph actual vs predicted\n",
    "y_pred_mlr = results_mlr.predict(X_test[relevant_features])\n",
    "\n",
    "results_df_mlr = pd.DataFrame({'predicted': y_pred_mlr, 'actual': y_test})\n",
    "\n",
    "results_df_mlr['predicted'] = results_df_mlr['predicted'] / 1000000\n",
    "results_df_mlr['actual'] = results_df_mlr['actual'] / 1000000\n",
    "results_df_mlr['title'] = X_test['title']\n",
    "results_df_mlr['source'] = X_test['source']\n",
    "results_df_mlr['distributor_slug'] = X_test['distributor_slug']\n",
    "results_df_mlr['genre'] = X_test['genre']\n",
    "results_df_mlr['creative_type'] = X_test['creative_type']\n",
    "results_df_mlr['production_method'] = X_test['production_method']\n",
    "results_df_mlr['mpaa_rating'] = X_test['mpaa_rating']\n",
    "\n",
    "# results_df_mlr.to_csv('mlr_results.csv', index=False)\n",
    "\n",
    "# Create the scatter plot\n",
    "fig = px.scatter(\n",
    "    results_df_mlr,\n",
    "    x='actual',\n",
    "    y='predicted',\n",
    "    color='mpaa_rating',\n",
    "    labels={\n",
    "        'actual': 'Actual Opening Weekend Revenue (Millions)',\n",
    "        'predicted': 'Predicted Opening Weekend Revenue (Millions)'\n",
    "    },\n",
    "    title='Actual vs Predicted Opening Weekend Revenue',\n",
    "    hover_name='title'\n",
    ")\n",
    "\n",
    "# Add the diagonal line\n",
    "fig.add_trace(\n",
    "    go.Scatter(\n",
    "        x=[0, 200],\n",
    "        y=[0, 200],\n",
    "        mode='lines',\n",
    "        line=dict(color='red'),\n",
    "        showlegend=False\n",
    "    )\n",
    ")\n",
    "\n",
    "# Show the plot\n",
    "fig.show()"
   ]
  },
  {
   "cell_type": "code",
   "execution_count": 39,
   "metadata": {},
   "outputs": [
    {
     "name": "stdout",
     "output_type": "stream",
     "text": [
      "RMSE: 35157375.43728631\n",
      "                    Generalized Linear Model Regression Results                     \n",
      "====================================================================================\n",
      "Dep. Variable:     log_opening_wide_revenue   No. Observations:                  734\n",
      "Model:                                  GLM   Df Residuals:                      688\n",
      "Model Family:                      Gaussian   Df Model:                           45\n",
      "Link Function:                     Identity   Scale:                          1.5737\n",
      "Method:                                IRLS   Log-Likelihood:                -831.01\n",
      "Date:                      Sun, 03 Nov 2024   Deviance:                       413.62\n",
      "Time:                              18:00:22   Pearson chi2:                     414.\n",
      "No. Iterations:                           3   Pseudo R-squ. (CS):             0.5172\n",
      "Covariance Type:                  nonrobust                                         \n",
      "==================================================================================================================================================================================================================================\n",
      "                                                                                                                                                                     coef    std err          z      P>|z|      [0.025      0.975]\n",
      "----------------------------------------------------------------------------------------------------------------------------------------------------------------------------------------------------------------------------------\n",
      "sqrt_sum_cast_box_office                                                                                                                                           0.0006      0.000      1.599      0.110      -0.000       0.001\n",
      "sqrt_sum_crew_box_office                                                                                                                                           0.0023      0.000      7.762      0.000       0.002       0.003\n",
      "sqrt_sum_cast_box_office:sqrt_sum_crew_box_office                                                                                                               -6.94e-08   8.68e-09     -7.999      0.000   -8.64e-08   -5.24e-08\n",
      "in_franchise                                                                                                                                                    8.084e-07   1.32e-06      0.610      0.542   -1.79e-06     3.4e-06\n",
      "sqrt_sum_cast_box_office:in_franchise                                                                                                                              0.0005      0.001      0.611      0.541      -0.001       0.002\n",
      "sqrt_sum_crew_box_office:in_franchise                                                                                                                             -0.0012      0.001     -2.378      0.017      -0.002      -0.000\n",
      "sqrt_sum_cast_box_office:sqrt_sum_crew_box_office:in_franchise                                                                                                  4.244e-08   1.23e-08      3.458      0.001    1.84e-08    6.65e-08\n",
      "log_budget                                                                                                                                                         0.0002   1.27e-05     17.987      0.000       0.000       0.000\n",
      "sqrt_sum_cast_box_office:log_budget                                                                                                                            -8.552e-06   2.08e-05     -0.410      0.682   -4.94e-05    3.23e-05\n",
      "sqrt_sum_crew_box_office:log_budget                                                                                                                               -0.0001   1.78e-05     -6.600      0.000      -0.000   -8.25e-05\n",
      "sqrt_sum_cast_box_office:sqrt_sum_crew_box_office:log_budget                                                                                                    3.562e-09   5.05e-10      7.050      0.000    2.57e-09    4.55e-09\n",
      "in_franchise:log_budget                                                                                                                                         1.396e-05   2.25e-05      0.620      0.535   -3.02e-05    5.81e-05\n",
      "sqrt_sum_cast_box_office:in_franchise:log_budget                                                                                                               -4.017e-05   5.11e-05     -0.786      0.432      -0.000       6e-05\n",
      "sqrt_sum_crew_box_office:in_franchise:log_budget                                                                                                                6.704e-05   2.95e-05      2.273      0.023    9.22e-06       0.000\n",
      "sqrt_sum_cast_box_office:sqrt_sum_crew_box_office:in_franchise:log_budget                                                                                      -2.198e-09   6.93e-10     -3.171      0.002   -3.56e-09   -8.39e-10\n",
      "sqrt_wikipedia_pre_release_cumulative_views                                                                                                                        0.0001   1.51e-05      9.407      0.000       0.000       0.000\n",
      "sqrt_sum_cast_box_office:sqrt_wikipedia_pre_release_cumulative_views                                                                                            1.225e-07   8.25e-07      0.148      0.882    -1.5e-06    1.74e-06\n",
      "sqrt_sum_crew_box_office:sqrt_wikipedia_pre_release_cumulative_views                                                                                           -3.712e-06   5.36e-07     -6.924      0.000   -4.76e-06   -2.66e-06\n",
      "sqrt_sum_cast_box_office:sqrt_sum_crew_box_office:sqrt_wikipedia_pre_release_cumulative_views                                                                   9.986e-11   1.51e-11      6.627      0.000    7.03e-11    1.29e-10\n",
      "in_franchise:sqrt_wikipedia_pre_release_cumulative_views                                                                                                       -4.522e-05   1.84e-05     -2.456      0.014   -8.13e-05   -9.14e-06\n",
      "sqrt_sum_cast_box_office:in_franchise:sqrt_wikipedia_pre_release_cumulative_views                                                                              -5.057e-07   1.38e-06     -0.366      0.715   -3.22e-06     2.2e-06\n",
      "sqrt_sum_crew_box_office:in_franchise:sqrt_wikipedia_pre_release_cumulative_views                                                                                2.78e-06   7.38e-07      3.768      0.000    1.33e-06    4.23e-06\n",
      "sqrt_sum_cast_box_office:sqrt_sum_crew_box_office:in_franchise:sqrt_wikipedia_pre_release_cumulative_views                                                     -8.253e-11   1.68e-11     -4.906      0.000   -1.16e-10   -4.96e-11\n",
      "log_budget:sqrt_wikipedia_pre_release_cumulative_views                                                                                                             0.0017      0.000     10.415      0.000       0.001       0.002\n",
      "sqrt_sum_cast_box_office:log_budget:sqrt_wikipedia_pre_release_cumulative_views                                                                                -4.812e-08   4.72e-08     -1.020      0.308   -1.41e-07    4.44e-08\n",
      "sqrt_sum_crew_box_office:log_budget:sqrt_wikipedia_pre_release_cumulative_views                                                                                 1.833e-07   3.05e-08      6.002      0.000    1.23e-07    2.43e-07\n",
      "sqrt_sum_cast_box_office:sqrt_sum_crew_box_office:log_budget:sqrt_wikipedia_pre_release_cumulative_views                                                       -5.004e-12    8.5e-13     -5.889      0.000   -6.67e-12   -3.34e-12\n",
      "in_franchise:log_budget:sqrt_wikipedia_pre_release_cumulative_views                                                                                               -0.0009      0.000     -4.090      0.000      -0.001      -0.000\n",
      "sqrt_sum_cast_box_office:in_franchise:log_budget:sqrt_wikipedia_pre_release_cumulative_views                                                                    5.904e-08   7.58e-08      0.779      0.436   -8.95e-08    2.08e-07\n",
      "sqrt_sum_crew_box_office:in_franchise:log_budget:sqrt_wikipedia_pre_release_cumulative_views                                                                   -1.413e-07   4.08e-08     -3.461      0.001   -2.21e-07   -6.13e-08\n",
      "sqrt_sum_cast_box_office:sqrt_sum_crew_box_office:in_franchise:log_budget:sqrt_wikipedia_pre_release_cumulative_views                                           4.162e-12   9.35e-13      4.453      0.000    2.33e-12    5.99e-12\n",
      "metacritic_before_wide_friday_calculated                                                                                                                           0.0009   5.61e-05     15.750      0.000       0.001       0.001\n",
      "sqrt_sum_cast_box_office:metacritic_before_wide_friday_calculated                                                                                              -2.577e-06   5.53e-06     -0.466      0.642   -1.34e-05    8.27e-06\n",
      "sqrt_sum_crew_box_office:metacritic_before_wide_friday_calculated                                                                                              -3.264e-05   5.23e-06     -6.241      0.000   -4.29e-05   -2.24e-05\n",
      "sqrt_sum_cast_box_office:sqrt_sum_crew_box_office:metacritic_before_wide_friday_calculated                                                                      9.749e-10   1.44e-10      6.766      0.000    6.93e-10    1.26e-09\n",
      "in_franchise:metacritic_before_wide_friday_calculated                                                                                                           5.464e-05    8.4e-05      0.650      0.515      -0.000       0.000\n",
      "sqrt_sum_cast_box_office:in_franchise:metacritic_before_wide_friday_calculated                                                                                 -1.066e-05   1.52e-05     -0.703      0.482   -4.04e-05    1.91e-05\n",
      "sqrt_sum_crew_box_office:in_franchise:metacritic_before_wide_friday_calculated                                                                                  1.896e-05   8.69e-06      2.181      0.029    1.92e-06     3.6e-05\n",
      "sqrt_sum_cast_box_office:sqrt_sum_crew_box_office:in_franchise:metacritic_before_wide_friday_calculated                                                        -6.345e-10   1.95e-10     -3.259      0.001   -1.02e-09   -2.53e-10\n",
      "log_budget:metacritic_before_wide_friday_calculated                                                                                                                0.0141      0.001     16.867      0.000       0.012       0.016\n",
      "sqrt_sum_cast_box_office:log_budget:metacritic_before_wide_friday_calculated                                                                                   -2.317e-07   3.34e-07     -0.694      0.488   -8.86e-07    4.23e-07\n",
      "sqrt_sum_crew_box_office:log_budget:metacritic_before_wide_friday_calculated                                                                                    1.619e-06   3.09e-07      5.244      0.000    1.01e-06    2.22e-06\n",
      "sqrt_sum_cast_box_office:sqrt_sum_crew_box_office:log_budget:metacritic_before_wide_friday_calculated                                                          -4.909e-11   8.36e-12     -5.870      0.000   -6.55e-11   -3.27e-11\n",
      "in_franchise:log_budget:metacritic_before_wide_friday_calculated                                                                                                   0.0009      0.001      0.649      0.516      -0.002       0.004\n",
      "sqrt_sum_cast_box_office:in_franchise:log_budget:metacritic_before_wide_friday_calculated                                                                        7.72e-07   8.65e-07      0.893      0.372   -9.23e-07    2.47e-06\n",
      "sqrt_sum_crew_box_office:in_franchise:log_budget:metacritic_before_wide_friday_calculated                                                                      -1.022e-06   4.93e-07     -2.075      0.038   -1.99e-06   -5.66e-08\n",
      "sqrt_sum_cast_box_office:sqrt_sum_crew_box_office:in_franchise:log_budget:metacritic_before_wide_friday_calculated                                              3.231e-11    1.1e-11      2.939      0.003    1.08e-11    5.39e-11\n",
      "sqrt_wikipedia_pre_release_cumulative_views:metacritic_before_wide_friday_calculated                                                                               0.0005      0.000      2.706      0.007       0.000       0.001\n",
      "sqrt_sum_cast_box_office:sqrt_wikipedia_pre_release_cumulative_views:metacritic_before_wide_friday_calculated                                                   -1.55e-08   1.33e-08     -1.169      0.242   -4.15e-08    1.05e-08\n",
      "sqrt_sum_crew_box_office:sqrt_wikipedia_pre_release_cumulative_views:metacritic_before_wide_friday_calculated                                                   4.913e-08   8.54e-09      5.750      0.000    3.24e-08    6.59e-08\n",
      "sqrt_sum_cast_box_office:sqrt_sum_crew_box_office:sqrt_wikipedia_pre_release_cumulative_views:metacritic_before_wide_friday_calculated                         -1.321e-12   2.37e-13     -5.569      0.000   -1.79e-12   -8.56e-13\n",
      "in_franchise:sqrt_wikipedia_pre_release_cumulative_views:metacritic_before_wide_friday_calculated                                                                 -0.0005      0.000     -2.141      0.032      -0.001   -3.85e-05\n",
      "sqrt_sum_cast_box_office:in_franchise:sqrt_wikipedia_pre_release_cumulative_views:metacritic_before_wide_friday_calculated                                      2.352e-08   2.27e-08      1.035      0.301    -2.1e-08    6.81e-08\n",
      "sqrt_sum_crew_box_office:in_franchise:sqrt_wikipedia_pre_release_cumulative_views:metacritic_before_wide_friday_calculated                                     -3.515e-08   1.17e-08     -2.992      0.003   -5.82e-08   -1.21e-08\n",
      "sqrt_sum_cast_box_office:sqrt_sum_crew_box_office:in_franchise:sqrt_wikipedia_pre_release_cumulative_views:metacritic_before_wide_friday_calculated             1.052e-12   2.58e-13      4.077      0.000    5.46e-13    1.56e-12\n",
      "log_budget:sqrt_wikipedia_pre_release_cumulative_views:metacritic_before_wide_friday_calculated                                                                -5.161e-05   1.09e-05     -4.736      0.000    -7.3e-05   -3.02e-05\n",
      "sqrt_sum_cast_box_office:log_budget:sqrt_wikipedia_pre_release_cumulative_views:metacritic_before_wide_friday_calculated                                        1.523e-09   7.66e-10      1.988      0.047    2.13e-11    3.02e-09\n",
      "sqrt_sum_crew_box_office:log_budget:sqrt_wikipedia_pre_release_cumulative_views:metacritic_before_wide_friday_calculated                                        -2.37e-09   4.92e-10     -4.816      0.000   -3.33e-09   -1.41e-09\n",
      "sqrt_sum_cast_box_office:sqrt_sum_crew_box_office:log_budget:sqrt_wikipedia_pre_release_cumulative_views:metacritic_before_wide_friday_calculated               6.459e-14   1.35e-14      4.771      0.000    3.81e-14    9.11e-14\n",
      "in_franchise:log_budget:sqrt_wikipedia_pre_release_cumulative_views:metacritic_before_wide_friday_calculated                                                    3.794e-05   1.29e-05      2.951      0.003    1.27e-05    6.31e-05\n",
      "sqrt_sum_cast_box_office:in_franchise:log_budget:sqrt_wikipedia_pre_release_cumulative_views:metacritic_before_wide_friday_calculated                          -1.789e-09   1.24e-09     -1.437      0.151   -4.23e-09    6.51e-10\n",
      "sqrt_sum_crew_box_office:in_franchise:log_budget:sqrt_wikipedia_pre_release_cumulative_views:metacritic_before_wide_friday_calculated                           1.755e-09   6.54e-10      2.682      0.007    4.72e-10    3.04e-09\n",
      "sqrt_sum_cast_box_office:sqrt_sum_crew_box_office:in_franchise:log_budget:sqrt_wikipedia_pre_release_cumulative_views:metacritic_before_wide_friday_calculated -5.171e-14   1.45e-14     -3.564      0.000   -8.01e-14   -2.33e-14\n",
      "==================================================================================================================================================================================================================================\n"
     ]
    }
   ],
   "source": [
    "# glm with metacritic interactions\n",
    "from re import X\n",
    "from statsmodels.api import GLM\n",
    "import statsmodels.formula.api as smf\n",
    "\n",
    "# combine x train and y train\n",
    "glm_df = X_train_dummies.copy()\n",
    "glm_df[\"opening_wide_revenue\"] = y_train\n",
    "\n",
    "# add log budget, log opening_wide_revenue, and log wikipedia_pre_release_cumulative_views\n",
    "glm_df[\"log_budget\"] = np.log(glm_df[\"budget\"])\n",
    "glm_df[\"log_budget_z\"] = glm_df[\"log_budget\"] - 8\n",
    "glm_df[\"log_opening_wide_revenue\"] = np.log(glm_df[\"opening_wide_revenue\"])\n",
    "glm_df[\"sqrt_wikipedia_pre_release_cumulative_views\"] = np.sqrt(glm_df[\"wikipedia_pre_release_cumulative_views\"])\n",
    "glm_df[\"sqrt_sum_crew_box_office\"] = np.sqrt(glm_df[\"sum_crew_box_office\"])\n",
    "glm_df[\"sqrt_sum_cast_box_office\"] = np.sqrt(glm_df[\"sum_cast_box_office\"])\n",
    "X_test[\"log_budget\"] = np.log(X_test[\"budget\"])\n",
    "X_test[\"log_budget_z\"] = X_test[\"log_budget\"] - 8\n",
    "X_test[\"sqrt_wikipedia_pre_release_cumulative_views\"] = np.sqrt(X_test[\"wikipedia_pre_release_cumulative_views\"])\n",
    "X_test[\"log_opening_wide_revenue\"] = np.log(y_test)\n",
    "X_test[\"sqrt_sum_crew_box_office\"] = np.sqrt(X_test[\"sum_crew_box_office\"])\n",
    "X_test[\"sqrt_sum_cast_box_office\"] = np.sqrt(X_test[\"sum_cast_box_office\"])\n",
    "\n",
    "formula = \"log_opening_wide_revenue ~ 0 + sqrt_sum_cast_box_office * sqrt_sum_crew_box_office * in_franchise * log_budget * sqrt_wikipedia_pre_release_cumulative_views * metacritic_before_wide_friday_calculated\"\n",
    "# formula = \"log_opening_wide_revenue ~ 0 + metacritic_before_wide_friday_calculated * log_budget * sqrt_wikipedia_pre_release_cumulative_views * weighted_crew_median_box_office + weighted_cast_median_box_office + in_franchise\"\n",
    "\n",
    "# \"metacritic_review_count\",\n",
    "    # \"metacritic_score_calculated\",\n",
    "    # \"metacritic_monday_before_wide_friday_calculated\",\n",
    "    # \"metacritic_before_wide_friday_calculated\",\n",
    "    # \"metacritic_before_first_day_calculated\"\n",
    "\n",
    "# add in the interactions\n",
    "model = smf.glm(formula=formula, data=glm_df).fit()\n",
    "\n",
    "pred_glm = model.predict(X_test)\n",
    "\n",
    "pred_glm = np.exp(pred_glm)\n",
    "\n",
    "print('RMSE:', root_mean_squared_error(y_test, pred_glm))\n",
    "print(model.summary())"
   ]
  },
  {
   "cell_type": "code",
   "execution_count": 40,
   "metadata": {},
   "outputs": [
    {
     "data": {
      "application/vnd.plotly.v1+json": {
       "config": {
        "plotlyServerURL": "https://plot.ly"
       },
       "data": [
        {
         "hovertemplate": "<b>%{hovertext}</b><br><br>Actual Opening Weekend Revenue (Millions)=%{x}<br>Predicted Opening Weekend Revenue (Millions)=%{y}<br>sum_cast_box_office=%{marker.color}<extra></extra>",
         "hovertext": [
          "80 for Brady",
          "Knock at the Cabin",
          "Ant-Man and the Wasp: Quantumania",
          "Jesus Revolution",
          "Creed III",
          "Operation Fortune: Ruse de guerre",
          "Scream VI",
          "65",
          "Shazam! Fury of the Gods",
          "John Wick: Chapter 4",
          "His Only Son",
          "Dungeons & Dragons: Honor Among Thieves",
          "The Super Mario Bros. Movie",
          "Renfield",
          "The Pope’s Exorcist",
          "Beau is Afraid",
          "Are You There God? It’s Me, Margaret",
          "Big George Foreman: The Miraculous Story of the Once and Future Heavyweight Champion of the World",
          "Guardians of the Galaxy Vol 3",
          "Fast X",
          "The Little Mermaid",
          "The Machine",
          "Spider-Man: Across the Spider-Verse",
          "Transformers: Rise of the Beasts",
          "The Flash",
          "Elemental",
          "No Hard Feelings",
          "Indiana Jones and the Dial of Destiny",
          "Ruby Gillman, Teenage Kraken",
          "Sound of Freedom",
          "Insidious: The Red Door",
          "Oppenheimer",
          "Barbie",
          "Haunted Mansion",
          "Talk To Me",
          "Teenage Mutant Ninja Turtles: Mutant Mayhem",
          "Meg 2: The Trench",
          "The Last Voyage of the Demeter",
          "Blue Beetle",
          "Strays",
          "Dumb Money",
          "Expend4bles",
          "Saw X",
          "The Creator",
          "PAW Patrol: The Mighty Movie",
          "The Exorcist: Believer",
          "Killers of the Flower Moon",
          "Five Nights at Freddy’s",
          "Priscilla",
          "The Marvels",
          "Journey to Bethlehem",
          "Next Goal Wins",
          "Thanksgiving",
          "Trolls Band Together",
          "The Hunger Games: The Ballad of Songbirds & Snakes",
          "Napoleon",
          "Wish",
          "Godzilla Minus One (ゴジラ最新作)",
          "American Fiction",
          "Wonka",
          "The Iron Claw",
          "Migration",
          "Anyone But You",
          "Aquaman and the Lost Kingdom",
          "Ferrari",
          "Mean Girls",
          "Argylle",
          "Madame Web",
          "Dune: Part Two",
          "Cabrini",
          "Imaginary",
          "Kung Fu Panda 4",
          "Arthur the King",
          "Ghostbusters: Frozen Empire",
          "Godzilla x Kong: The New Empire",
          "Civil War",
          "Abigail",
          "Challengers",
          "Unsung Hero",
          "Tarot",
          "The Fall Guy",
          "Kingdom of the Planet of the Apes",
          "The Strangers: Chapter 1",
          "IF",
          "Furiosa: A Mad Max Saga",
          "The Garfield Movie",
          "The Watchers",
          "Bad Boys: Ride or Die",
          "Inside Out 2",
          "A Quiet Place: Day One",
          "Horizon: An American Saga Chapter 1",
          "Despicable Me 4",
          "Sound of Hope: The Story of Possum Trot",
          "Fly Me to the Moon",
          "Twisters",
          "Deadpool & Wolverine",
          "Harold and the Purple Crayon",
          "It Ends With Us",
          "Alien: Romulus",
          "The Crow",
          "Reagan",
          "Beetlejuice Beetlejuice",
          "Speak No Evil"
         ],
         "legendgroup": "",
         "marker": {
          "color": [
           569314021.9845151,
           454066284.7104435,
           3510074617.341491,
           78507131.80014774,
           914850287.4725113,
           399297575.98913497,
           91111007.66666666,
           407583779.2869712,
           2941277839.4550805,
           335251198.77868444,
           480390.7826086957,
           480390.7826086957,
           3003742248.475444,
           1027796465.5183164,
           250452586.65237808,
           992292341.3643966,
           1254667192.0637834,
           269968437.1758385,
           4467422974.325345,
           1936483006.2961736,
           971017639.0490164,
           271985013.4945687,
           1940752046.215486,
           574940334.2465991,
           2543417510.7123017,
           2156940164.5504937,
           453918928.1955855,
           1665944819.3408434,
           653545487.4900489,
           668765231.4426614,
           1340026823.9170187,
           5669649054.962274,
           369739444.8906558,
           838381422.4497914,
           0,
           0,
           371111148.95538837,
           829242337.3397589,
           605695399.9915032,
           2998562306.9131465,
           73178701.96724775,
           22409676,
           255373363.569394,
           1210452194.4503157,
           50356894,
           408284168.24159664,
           803282234.3060797,
           379249966.5613848,
           22097903.04194529,
           1819617209.2809565,
           717174062.4696288,
           717174062.4696288,
           172799609.60414416,
           410696593.0315244,
           0,
           228374898.3892844,
           2175462271.407197,
           0,
           1977955758.71674,
           2701464699.91357,
           688210179.3867822,
           2086041649.8514163,
           746913381.0389161,
           2442114204.5498266,
           693962044.80384,
           477038650.98455787,
           183850108.0389657,
           579475918.2174515,
           560664929.8788657,
           583944059.3362558,
           115695101.53846154,
           2687514110.9920197,
           717606816.8259777,
           617041789.401706,
           602063151.0985247,
           131600374.1664044,
           466532336.8338027,
           451317783.5621873,
           141943912.32940766,
           632494535.8317032,
           1923313951.18077,
           794278124.844713,
           56001857.333333336,
           825167146.4522858,
           1360569122.5212884,
           3077556148.821707,
           644236078.5234333,
           1905047703.7118285,
           6715987240.274894,
           926031983.0769119,
           2393504967.4060655,
           7544945318.913861,
           221390507.85574266,
           1921906447.0647979,
           484227302.08214986,
           6132354365.010665,
           1915605117.9769733,
           519169029.03243876,
           105495624.50969493,
           640419616.6182964,
           1468628950.1969686,
           956600302.9539727,
           680774349.8438237
          ],
          "coloraxis": "coloraxis",
          "symbol": "circle"
         },
         "mode": "markers",
         "name": "",
         "orientation": "v",
         "showlegend": false,
         "type": "scatter",
         "x": [
          12.70164,
          14.12717,
          106.10965,
          15.882067,
          58.370007,
          3.140214,
          44.44727,
          12.328361,
          30.111158,
          73.81795,
          5.50107,
          37.205784,
          146.361865,
          8.026475,
          9.006368,
          2.661957,
          6.739037,
          2.925364,
          118.414021,
          67.01741,
          95.57804,
          5.000545,
          120.663589,
          61.045464,
          55.043679,
          29.602429,
          15.00277,
          60.368101,
          5.50099,
          19.680879,
          33.013036,
          82.45542,
          162.022044,
          24.082475,
          10.43172,
          28.007544,
          30.002735,
          6.50495,
          25.030225,
          8.24781,
          3.325504,
          8.039021,
          18.309301,
          14.079512,
          22.764354,
          26.4976,
          23.253655,
          80.00172,
          5.040003,
          46.110859,
          2.400446,
          2.500295,
          10.306272,
          30.002525,
          44.607143,
          20.638887,
          19.698228,
          11.419975,
          1.755364,
          39.0058,
          4.86837,
          12.453275,
          6.000344,
          27.686211,
          3.921773,
          28.635307,
          17.47354,
          15.33586,
          82.505391,
          7.16852,
          9.912713,
          57.989905,
          7.633898,
          45.004673,
          80.006561,
          25.537368,
          10.29711,
          15.011061,
          7.731539,
          6.503012,
          27.747035,
          58.400788,
          11.825058,
          33.715801,
          26.326462,
          24.006629,
          7.003537,
          56.527324,
          154.201673,
          52.202495,
          11.052561,
          75.00921,
          3.078758,
          9.426615,
          81.251415,
          211.435291,
          6.003197,
          50.016652,
          42.003361,
          4.644666,
          7.65072,
          111.003345,
          11.397595
         ],
         "xaxis": "x",
         "y": [
          12.049450837858917,
          8.905089371259956,
          86.37450826911859,
          7.831912997827612,
          47.06457269973517,
          11.438817588834528,
          25.67853347590191,
          9.925786547881826,
          48.17654237905028,
          45.470674320659164,
          0.000004280437237490964,
          10.681666433714906,
          41.790782204552315,
          13.487983492840382,
          33.27037300928971,
          8.279860962984026,
          8.601066962884762,
          5.944863680059879,
          195.60014017634697,
          72.080028254086,
          55.59426624249409,
          2.318949829321817,
          80.68725100105567,
          44.167202779739476,
          83.60738607277995,
          17.567914954164102,
          15.164350770488417,
          122.04111760371953,
          13.903395401483575,
          5.8794105735904845,
          25.009122135355703,
          0.9201313169864176,
          10.169202106315042,
          23.582603925909194,
          41.60988406651619,
          85.89293873869899,
          18.781173765231703,
          12.840025880579821,
          47.082423411313584,
          11.497275532837703,
          10.318586875550386,
          10.432656672071381,
          11.035723156801701,
          20.014253842898384,
          5.397586170669284,
          18.794677081126526,
          3.2885850964754164,
          22.673265241288657,
          10.328173125666451,
          73.5490871941246,
          0.8734189600184555,
          7.034282965354869,
          21.08199520496458,
          21.21347368970931,
          30.09648173748993,
          27.966513639054916,
          11.209745503870412,
          11.671508892847816,
          5.099946050627312,
          57.994983689820444,
          6.852739275120737,
          11.087805626269073,
          8.689678764232301,
          53.55029555816576,
          17.339068202234476,
          14.570761694370715,
          172.35082342212522,
          27.44860783326782,
          108.87863816554136,
          7.754194828722726,
          8.925336401440045,
          39.849814902201274,
          7.36588924851716,
          28.41485483935679,
          41.14289058764045,
          9.251746037584363,
          10.696951577313587,
          10.172653416690649,
          5.449494060282753,
          0.7421621000887266,
          24.822863836260918,
          44.721544752805286,
          1.85942809292628,
          17.181921120686848,
          57.19501836750536,
          22.875602286198006,
          10.796055708969826,
          33.51899198663415,
          59.09829583500024,
          40.67384849826041,
          10.275000691362262,
          46.87659556629373,
          0.329967948434721,
          13.461315587337527,
          47.240216534112356,
          106.23183465034313,
          8.377503770206888,
          11.078865373945382,
          47.37235164036272,
          15.314731353523229,
          11.915826859752501,
          53.003185372551535,
          10.058837049475981
         ],
         "yaxis": "y"
        },
        {
         "line": {
          "color": "red"
         },
         "mode": "lines",
         "showlegend": false,
         "type": "scatter",
         "x": [
          0,
          200
         ],
         "y": [
          0,
          200
         ]
        }
       ],
       "layout": {
        "coloraxis": {
         "colorbar": {
          "title": {
           "text": "sum_cast_box_office"
          }
         },
         "colorscale": [
          [
           0,
           "#0d0887"
          ],
          [
           0.1111111111111111,
           "#46039f"
          ],
          [
           0.2222222222222222,
           "#7201a8"
          ],
          [
           0.3333333333333333,
           "#9c179e"
          ],
          [
           0.4444444444444444,
           "#bd3786"
          ],
          [
           0.5555555555555556,
           "#d8576b"
          ],
          [
           0.6666666666666666,
           "#ed7953"
          ],
          [
           0.7777777777777778,
           "#fb9f3a"
          ],
          [
           0.8888888888888888,
           "#fdca26"
          ],
          [
           1,
           "#f0f921"
          ]
         ]
        },
        "legend": {
         "tracegroupgap": 0
        },
        "template": {
         "data": {
          "bar": [
           {
            "error_x": {
             "color": "#2a3f5f"
            },
            "error_y": {
             "color": "#2a3f5f"
            },
            "marker": {
             "line": {
              "color": "#E5ECF6",
              "width": 0.5
             },
             "pattern": {
              "fillmode": "overlay",
              "size": 10,
              "solidity": 0.2
             }
            },
            "type": "bar"
           }
          ],
          "barpolar": [
           {
            "marker": {
             "line": {
              "color": "#E5ECF6",
              "width": 0.5
             },
             "pattern": {
              "fillmode": "overlay",
              "size": 10,
              "solidity": 0.2
             }
            },
            "type": "barpolar"
           }
          ],
          "carpet": [
           {
            "aaxis": {
             "endlinecolor": "#2a3f5f",
             "gridcolor": "white",
             "linecolor": "white",
             "minorgridcolor": "white",
             "startlinecolor": "#2a3f5f"
            },
            "baxis": {
             "endlinecolor": "#2a3f5f",
             "gridcolor": "white",
             "linecolor": "white",
             "minorgridcolor": "white",
             "startlinecolor": "#2a3f5f"
            },
            "type": "carpet"
           }
          ],
          "choropleth": [
           {
            "colorbar": {
             "outlinewidth": 0,
             "ticks": ""
            },
            "type": "choropleth"
           }
          ],
          "contour": [
           {
            "colorbar": {
             "outlinewidth": 0,
             "ticks": ""
            },
            "colorscale": [
             [
              0,
              "#0d0887"
             ],
             [
              0.1111111111111111,
              "#46039f"
             ],
             [
              0.2222222222222222,
              "#7201a8"
             ],
             [
              0.3333333333333333,
              "#9c179e"
             ],
             [
              0.4444444444444444,
              "#bd3786"
             ],
             [
              0.5555555555555556,
              "#d8576b"
             ],
             [
              0.6666666666666666,
              "#ed7953"
             ],
             [
              0.7777777777777778,
              "#fb9f3a"
             ],
             [
              0.8888888888888888,
              "#fdca26"
             ],
             [
              1,
              "#f0f921"
             ]
            ],
            "type": "contour"
           }
          ],
          "contourcarpet": [
           {
            "colorbar": {
             "outlinewidth": 0,
             "ticks": ""
            },
            "type": "contourcarpet"
           }
          ],
          "heatmap": [
           {
            "colorbar": {
             "outlinewidth": 0,
             "ticks": ""
            },
            "colorscale": [
             [
              0,
              "#0d0887"
             ],
             [
              0.1111111111111111,
              "#46039f"
             ],
             [
              0.2222222222222222,
              "#7201a8"
             ],
             [
              0.3333333333333333,
              "#9c179e"
             ],
             [
              0.4444444444444444,
              "#bd3786"
             ],
             [
              0.5555555555555556,
              "#d8576b"
             ],
             [
              0.6666666666666666,
              "#ed7953"
             ],
             [
              0.7777777777777778,
              "#fb9f3a"
             ],
             [
              0.8888888888888888,
              "#fdca26"
             ],
             [
              1,
              "#f0f921"
             ]
            ],
            "type": "heatmap"
           }
          ],
          "heatmapgl": [
           {
            "colorbar": {
             "outlinewidth": 0,
             "ticks": ""
            },
            "colorscale": [
             [
              0,
              "#0d0887"
             ],
             [
              0.1111111111111111,
              "#46039f"
             ],
             [
              0.2222222222222222,
              "#7201a8"
             ],
             [
              0.3333333333333333,
              "#9c179e"
             ],
             [
              0.4444444444444444,
              "#bd3786"
             ],
             [
              0.5555555555555556,
              "#d8576b"
             ],
             [
              0.6666666666666666,
              "#ed7953"
             ],
             [
              0.7777777777777778,
              "#fb9f3a"
             ],
             [
              0.8888888888888888,
              "#fdca26"
             ],
             [
              1,
              "#f0f921"
             ]
            ],
            "type": "heatmapgl"
           }
          ],
          "histogram": [
           {
            "marker": {
             "pattern": {
              "fillmode": "overlay",
              "size": 10,
              "solidity": 0.2
             }
            },
            "type": "histogram"
           }
          ],
          "histogram2d": [
           {
            "colorbar": {
             "outlinewidth": 0,
             "ticks": ""
            },
            "colorscale": [
             [
              0,
              "#0d0887"
             ],
             [
              0.1111111111111111,
              "#46039f"
             ],
             [
              0.2222222222222222,
              "#7201a8"
             ],
             [
              0.3333333333333333,
              "#9c179e"
             ],
             [
              0.4444444444444444,
              "#bd3786"
             ],
             [
              0.5555555555555556,
              "#d8576b"
             ],
             [
              0.6666666666666666,
              "#ed7953"
             ],
             [
              0.7777777777777778,
              "#fb9f3a"
             ],
             [
              0.8888888888888888,
              "#fdca26"
             ],
             [
              1,
              "#f0f921"
             ]
            ],
            "type": "histogram2d"
           }
          ],
          "histogram2dcontour": [
           {
            "colorbar": {
             "outlinewidth": 0,
             "ticks": ""
            },
            "colorscale": [
             [
              0,
              "#0d0887"
             ],
             [
              0.1111111111111111,
              "#46039f"
             ],
             [
              0.2222222222222222,
              "#7201a8"
             ],
             [
              0.3333333333333333,
              "#9c179e"
             ],
             [
              0.4444444444444444,
              "#bd3786"
             ],
             [
              0.5555555555555556,
              "#d8576b"
             ],
             [
              0.6666666666666666,
              "#ed7953"
             ],
             [
              0.7777777777777778,
              "#fb9f3a"
             ],
             [
              0.8888888888888888,
              "#fdca26"
             ],
             [
              1,
              "#f0f921"
             ]
            ],
            "type": "histogram2dcontour"
           }
          ],
          "mesh3d": [
           {
            "colorbar": {
             "outlinewidth": 0,
             "ticks": ""
            },
            "type": "mesh3d"
           }
          ],
          "parcoords": [
           {
            "line": {
             "colorbar": {
              "outlinewidth": 0,
              "ticks": ""
             }
            },
            "type": "parcoords"
           }
          ],
          "pie": [
           {
            "automargin": true,
            "type": "pie"
           }
          ],
          "scatter": [
           {
            "fillpattern": {
             "fillmode": "overlay",
             "size": 10,
             "solidity": 0.2
            },
            "type": "scatter"
           }
          ],
          "scatter3d": [
           {
            "line": {
             "colorbar": {
              "outlinewidth": 0,
              "ticks": ""
             }
            },
            "marker": {
             "colorbar": {
              "outlinewidth": 0,
              "ticks": ""
             }
            },
            "type": "scatter3d"
           }
          ],
          "scattercarpet": [
           {
            "marker": {
             "colorbar": {
              "outlinewidth": 0,
              "ticks": ""
             }
            },
            "type": "scattercarpet"
           }
          ],
          "scattergeo": [
           {
            "marker": {
             "colorbar": {
              "outlinewidth": 0,
              "ticks": ""
             }
            },
            "type": "scattergeo"
           }
          ],
          "scattergl": [
           {
            "marker": {
             "colorbar": {
              "outlinewidth": 0,
              "ticks": ""
             }
            },
            "type": "scattergl"
           }
          ],
          "scattermapbox": [
           {
            "marker": {
             "colorbar": {
              "outlinewidth": 0,
              "ticks": ""
             }
            },
            "type": "scattermapbox"
           }
          ],
          "scatterpolar": [
           {
            "marker": {
             "colorbar": {
              "outlinewidth": 0,
              "ticks": ""
             }
            },
            "type": "scatterpolar"
           }
          ],
          "scatterpolargl": [
           {
            "marker": {
             "colorbar": {
              "outlinewidth": 0,
              "ticks": ""
             }
            },
            "type": "scatterpolargl"
           }
          ],
          "scatterternary": [
           {
            "marker": {
             "colorbar": {
              "outlinewidth": 0,
              "ticks": ""
             }
            },
            "type": "scatterternary"
           }
          ],
          "surface": [
           {
            "colorbar": {
             "outlinewidth": 0,
             "ticks": ""
            },
            "colorscale": [
             [
              0,
              "#0d0887"
             ],
             [
              0.1111111111111111,
              "#46039f"
             ],
             [
              0.2222222222222222,
              "#7201a8"
             ],
             [
              0.3333333333333333,
              "#9c179e"
             ],
             [
              0.4444444444444444,
              "#bd3786"
             ],
             [
              0.5555555555555556,
              "#d8576b"
             ],
             [
              0.6666666666666666,
              "#ed7953"
             ],
             [
              0.7777777777777778,
              "#fb9f3a"
             ],
             [
              0.8888888888888888,
              "#fdca26"
             ],
             [
              1,
              "#f0f921"
             ]
            ],
            "type": "surface"
           }
          ],
          "table": [
           {
            "cells": {
             "fill": {
              "color": "#EBF0F8"
             },
             "line": {
              "color": "white"
             }
            },
            "header": {
             "fill": {
              "color": "#C8D4E3"
             },
             "line": {
              "color": "white"
             }
            },
            "type": "table"
           }
          ]
         },
         "layout": {
          "annotationdefaults": {
           "arrowcolor": "#2a3f5f",
           "arrowhead": 0,
           "arrowwidth": 1
          },
          "autotypenumbers": "strict",
          "coloraxis": {
           "colorbar": {
            "outlinewidth": 0,
            "ticks": ""
           }
          },
          "colorscale": {
           "diverging": [
            [
             0,
             "#8e0152"
            ],
            [
             0.1,
             "#c51b7d"
            ],
            [
             0.2,
             "#de77ae"
            ],
            [
             0.3,
             "#f1b6da"
            ],
            [
             0.4,
             "#fde0ef"
            ],
            [
             0.5,
             "#f7f7f7"
            ],
            [
             0.6,
             "#e6f5d0"
            ],
            [
             0.7,
             "#b8e186"
            ],
            [
             0.8,
             "#7fbc41"
            ],
            [
             0.9,
             "#4d9221"
            ],
            [
             1,
             "#276419"
            ]
           ],
           "sequential": [
            [
             0,
             "#0d0887"
            ],
            [
             0.1111111111111111,
             "#46039f"
            ],
            [
             0.2222222222222222,
             "#7201a8"
            ],
            [
             0.3333333333333333,
             "#9c179e"
            ],
            [
             0.4444444444444444,
             "#bd3786"
            ],
            [
             0.5555555555555556,
             "#d8576b"
            ],
            [
             0.6666666666666666,
             "#ed7953"
            ],
            [
             0.7777777777777778,
             "#fb9f3a"
            ],
            [
             0.8888888888888888,
             "#fdca26"
            ],
            [
             1,
             "#f0f921"
            ]
           ],
           "sequentialminus": [
            [
             0,
             "#0d0887"
            ],
            [
             0.1111111111111111,
             "#46039f"
            ],
            [
             0.2222222222222222,
             "#7201a8"
            ],
            [
             0.3333333333333333,
             "#9c179e"
            ],
            [
             0.4444444444444444,
             "#bd3786"
            ],
            [
             0.5555555555555556,
             "#d8576b"
            ],
            [
             0.6666666666666666,
             "#ed7953"
            ],
            [
             0.7777777777777778,
             "#fb9f3a"
            ],
            [
             0.8888888888888888,
             "#fdca26"
            ],
            [
             1,
             "#f0f921"
            ]
           ]
          },
          "colorway": [
           "#636efa",
           "#EF553B",
           "#00cc96",
           "#ab63fa",
           "#FFA15A",
           "#19d3f3",
           "#FF6692",
           "#B6E880",
           "#FF97FF",
           "#FECB52"
          ],
          "font": {
           "color": "#2a3f5f"
          },
          "geo": {
           "bgcolor": "white",
           "lakecolor": "white",
           "landcolor": "#E5ECF6",
           "showlakes": true,
           "showland": true,
           "subunitcolor": "white"
          },
          "hoverlabel": {
           "align": "left"
          },
          "hovermode": "closest",
          "mapbox": {
           "style": "light"
          },
          "paper_bgcolor": "white",
          "plot_bgcolor": "#E5ECF6",
          "polar": {
           "angularaxis": {
            "gridcolor": "white",
            "linecolor": "white",
            "ticks": ""
           },
           "bgcolor": "#E5ECF6",
           "radialaxis": {
            "gridcolor": "white",
            "linecolor": "white",
            "ticks": ""
           }
          },
          "scene": {
           "xaxis": {
            "backgroundcolor": "#E5ECF6",
            "gridcolor": "white",
            "gridwidth": 2,
            "linecolor": "white",
            "showbackground": true,
            "ticks": "",
            "zerolinecolor": "white"
           },
           "yaxis": {
            "backgroundcolor": "#E5ECF6",
            "gridcolor": "white",
            "gridwidth": 2,
            "linecolor": "white",
            "showbackground": true,
            "ticks": "",
            "zerolinecolor": "white"
           },
           "zaxis": {
            "backgroundcolor": "#E5ECF6",
            "gridcolor": "white",
            "gridwidth": 2,
            "linecolor": "white",
            "showbackground": true,
            "ticks": "",
            "zerolinecolor": "white"
           }
          },
          "shapedefaults": {
           "line": {
            "color": "#2a3f5f"
           }
          },
          "ternary": {
           "aaxis": {
            "gridcolor": "white",
            "linecolor": "white",
            "ticks": ""
           },
           "baxis": {
            "gridcolor": "white",
            "linecolor": "white",
            "ticks": ""
           },
           "bgcolor": "#E5ECF6",
           "caxis": {
            "gridcolor": "white",
            "linecolor": "white",
            "ticks": ""
           }
          },
          "title": {
           "x": 0.05
          },
          "xaxis": {
           "automargin": true,
           "gridcolor": "white",
           "linecolor": "white",
           "ticks": "",
           "title": {
            "standoff": 15
           },
           "zerolinecolor": "white",
           "zerolinewidth": 2
          },
          "yaxis": {
           "automargin": true,
           "gridcolor": "white",
           "linecolor": "white",
           "ticks": "",
           "title": {
            "standoff": 15
           },
           "zerolinecolor": "white",
           "zerolinewidth": 2
          }
         }
        },
        "title": {
         "text": "Actual vs Predicted Opening Weekend Revenue"
        },
        "xaxis": {
         "anchor": "y",
         "domain": [
          0,
          1
         ],
         "title": {
          "text": "Actual Opening Weekend Revenue (Millions)"
         }
        },
        "yaxis": {
         "anchor": "x",
         "domain": [
          0,
          1
         ],
         "title": {
          "text": "Predicted Opening Weekend Revenue (Millions)"
         }
        }
       }
      }
     },
     "metadata": {},
     "output_type": "display_data"
    }
   ],
   "source": [
    "# print actual vs predicted\n",
    "\n",
    "results_df_glm = pd.DataFrame({'predicted': pred_glm, 'actual': y_test})\n",
    "\n",
    "results_df_glm['predicted'] = results_df_glm['predicted'] / 1000000\n",
    "results_df_glm['actual'] = results_df_glm['actual'] / 1000000\n",
    "results_df_glm['title'] = X_test['title']\n",
    "results_df_glm['source'] = X_test['source']\n",
    "results_df_glm['distributor_slug'] = X_test['distributor_slug']\n",
    "results_df_glm['genre'] = X_test['genre']\n",
    "results_df_glm['creative_type'] = X_test['creative_type']\n",
    "results_df_glm['production_method'] = X_test['production_method']\n",
    "results_df_glm['mpaa_rating'] = X_test['mpaa_rating']\n",
    "results_df_glm['metacritic_before_wide_friday_calculated'] = X_test['metacritic_before_wide_friday_calculated']\n",
    "results_df_glm['wikipedia_pre_release_cumulative_views'] = X_test['wikipedia_pre_release_cumulative_views']\n",
    "results_df_glm['budget'] = X_test['budget']\n",
    "results_df_glm['log_budget'] = X_test['log_budget']\n",
    "results_df_glm['log_opening_wide_revenue'] = X_test['log_opening_wide_revenue']\n",
    "results_df_glm['sqrt_wikipedia_pre_release_cumulative_views'] = X_test['sqrt_wikipedia_pre_release_cumulative_views']\n",
    "results_df_glm['weighted_cast_median_box_office'] = X_test['weighted_cast_median_box_office']\n",
    "results_df_glm['weighted_crew_median_box_office'] = X_test['weighted_crew_median_box_office']\n",
    "results_df_glm['weighted_crew_mean_box_office'] = X_test['weighted_crew_mean_box_office']\n",
    "results_df_glm['weighted_cast_mean_box_office'] = X_test['weighted_cast_mean_box_office']\n",
    "results_df_glm['sum_crew_box_office'] = X_test['sum_crew_box_office']\n",
    "results_df_glm['sum_cast_box_office'] = X_test['sum_cast_box_office']\n",
    "\n",
    "\n",
    "# results_df_glm.to_csv('glm_results.csv', index=False)\n",
    "\n",
    "# Create the scatter plot\n",
    "fig = px.scatter(\n",
    "    results_df_glm,\n",
    "    x='actual',\n",
    "    y='predicted',\n",
    "    color='sum_cast_box_office',\n",
    "    labels={\n",
    "        'actual': 'Actual Opening Weekend Revenue (Millions)',\n",
    "        'predicted': 'Predicted Opening Weekend Revenue (Millions)'\n",
    "    },\n",
    "    title='Actual vs Predicted Opening Weekend Revenue',\n",
    "    hover_name='title'\n",
    ")\n",
    "\n",
    "# Add the diagonal line\n",
    "fig.add_trace(\n",
    "    go.Scatter(\n",
    "        x=[0, 200],\n",
    "        y=[0, 200],\n",
    "        mode='lines',\n",
    "        line=dict(color='red'),\n",
    "        showlegend=False\n",
    "    )\n",
    ")\n",
    "\n",
    "# Show the plot\n",
    "fig.show()"
   ]
  },
  {
   "cell_type": "code",
   "execution_count": null,
   "metadata": {},
   "outputs": [],
   "source": [
    "# make some basic mlr\n",
    "relevant_features = [\"budget\"]\n",
    "X_train_basic1 = X_train_dummies[relevant_features]\n",
    "model_mlr = OLS(y_train, X_train_basic1)\n",
    "results_mlr = model_mlr.fit()\n",
    "basic1_pred = results_mlr.predict(X_test[relevant_features])\n",
    "\n",
    "relevant_features = [\"budget\", \"weighted_crew_median_box_office\"]\n",
    "X_train_basic2 = X_train_dummies[relevant_features]\n",
    "model_mlr = OLS(y_train, X_train_basic2)\n",
    "results_mlr = model_mlr.fit()\n",
    "basic2_pred = results_mlr.predict(X_test[relevant_features])\n",
    "\n",
    "relevant_features = [\"budget\", \"weighted_crew_median_box_office\", \"wikipedia_pre_release_cumulative_views\"]\n",
    "X_train_basic3 = X_train_dummies[relevant_features]\n",
    "model_mlr = OLS(y_train, X_train_basic3)\n",
    "results_mlr = model_mlr.fit()\n",
    "basic3_pred = results_mlr.predict(X_test[relevant_features])"
   ]
  },
  {
   "cell_type": "code",
   "execution_count": null,
   "metadata": {},
   "outputs": [
    {
     "name": "stdout",
     "output_type": "stream",
     "text": [
      "Lasso RMSE: 35749355.45105389\n",
      "GAM RMSE: 37011801.5951995\n",
      "MLR RMSE: 28133179.804854807\n",
      "GLM RMSE: 25578546.87269983\n",
      "Basic1 RMSE: 36245477.195948176\n",
      "Basic2 RMSE: 34888735.25321222\n",
      "Basic3 RMSE: 30860003.70763353\n"
     ]
    }
   ],
   "source": [
    "# calculate the mse for each model\n",
    "\n",
    "mse_lasso = root_mean_squared_error(y_test, y_pred)\n",
    "mse_gam = root_mean_squared_error(y_test, y_pred_gam)\n",
    "mse_mlr = root_mean_squared_error(y_test, y_pred_mlr)\n",
    "mse_glm = root_mean_squared_error(y_test, pred_glm)\n",
    "mse_basic1 = root_mean_squared_error(y_test, basic1_pred)\n",
    "mse_basic2 = root_mean_squared_error(y_test, basic2_pred)\n",
    "mse_basic3 = root_mean_squared_error(y_test, basic3_pred)\n",
    "\n",
    "print('Lasso RMSE:', mse_lasso)\n",
    "print('GAM RMSE:', mse_gam)\n",
    "print('MLR RMSE:', mse_mlr)\n",
    "print('GLM RMSE:', mse_glm)\n",
    "print('Basic1 RMSE:', mse_basic1)\n",
    "print('Basic2 RMSE:', mse_basic2)\n",
    "print('Basic3 RMSE:', mse_basic3)"
   ]
  }
 ],
 "metadata": {
  "kernelspec": {
   "display_name": "stat413class_kernel",
   "language": "python",
   "name": "stat413class_kernel"
  },
  "language_info": {
   "codemirror_mode": {
    "name": "ipython",
    "version": 3
   },
   "file_extension": ".py",
   "mimetype": "text/x-python",
   "name": "python",
   "nbconvert_exporter": "python",
   "pygments_lexer": "ipython3",
   "version": "3.12.5"
  }
 },
 "nbformat": 4,
 "nbformat_minor": 2
}
