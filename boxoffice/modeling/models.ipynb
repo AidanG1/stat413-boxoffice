{
 "cells": [
  {
   "cell_type": "code",
   "execution_count": 2,
   "metadata": {},
   "outputs": [
    {
     "name": "stdout",
     "output_type": "stream",
     "text": [
      "movies.csv exists, 1730780262.6592498, 1730780254.8603332\n",
      "Reading from movies.csv\n"
     ]
    }
   ],
   "source": [
    "from boxoffice.db.frames import get_movie_frame_full\n",
    "import pandas as pd\n",
    "import numpy as np\n",
    "import matplotlib.pyplot as plt\n",
    "import seaborn as sns\n",
    "import datetime\n",
    "from sklearn.metrics import root_mean_squared_error\n",
    "\n",
    "df = get_movie_frame_full()\n",
    "\n",
    "if df is None:\n",
    "    print('No data')\n",
    "    exit()\n",
    "    "
   ]
  },
  {
   "cell_type": "code",
   "execution_count": 3,
   "metadata": {},
   "outputs": [],
   "source": [
    "# main goal is to predict opening_weekend_revenue\n",
    "\n",
    "# do a train test split based on release date. Train on movies released before 2023, test on movies released in 2023 and 2024\n",
    "\n",
    "# drop movies with missing budgets\n",
    "df = df.dropna(subset=['budget'])\n",
    "\n",
    "# drop the opening_weekend_revenue column\n",
    "df = df.drop(columns=['opening_weekend_revenue'])\n",
    "\n",
    "# filter out movies from before 2015    \n",
    "df = df[df['release_day'] >= datetime.date(2015, 1, 1)]\n",
    "\n",
    "# keep original columns for later\n",
    "dummies = pd.get_dummies(df[['mpaa_rating', 'genre', 'creative_type', 'source', 'production_method', 'distributor_slug']], drop_first=True)\n",
    "df = pd.concat([df, dummies], axis=1)\n",
    "\n",
    "# within the dummy columns, rename any with spaces or hyphens to use underscores\n",
    "df.columns = df.columns.str.replace(' ', '_')\n",
    "df.columns = df.columns.str.replace('-', '_')\n",
    "\n",
    "df['in_franchise'] = df['franchise_slug'].notnull().astype(int)\n",
    "\n",
    "# filter for only positive opening_wide_revenue\n",
    "df = df[df['opening_wide_revenue'] > 0]\n",
    "\n",
    "X_train = df[(df['release_day'] < datetime.date(2023, 1, 1))]\n",
    "X_test = df[df['release_day'] >= datetime.date(2023, 1, 1)]\n",
    "\n",
    "y_train = X_train['opening_wide_revenue']\n",
    "y_test = X_test['opening_wide_revenue']\n",
    "\n",
    "X_train = X_train.drop(columns=['opening_wide_revenue'])\n",
    "X_test = X_test.drop(columns=['opening_wide_revenue'])\n",
    "\n",
    "# reset index\n",
    "X_train = X_train.reset_index(drop=True)\n",
    "X_test = X_test.reset_index(drop=True)\n",
    "y_train = y_train.reset_index(drop=True)\n",
    "y_test = y_test.reset_index(drop=True)"
   ]
  },
  {
   "cell_type": "code",
   "execution_count": 4,
   "metadata": {},
   "outputs": [],
   "source": [
    "# write the titles and ids of the movies with missing budget to a csv file\n",
    "# missing_budget = df[df['budget'].isnull()]\n",
    "# missing_budget[['title', 'id']].to_csv('missing_budget.csv', index=False)"
   ]
  },
  {
   "cell_type": "code",
   "execution_count": 5,
   "metadata": {},
   "outputs": [
    {
     "name": "stdout",
     "output_type": "stream",
     "text": [
      "Index([], dtype='object')\n",
      "                                                Results: Ordinary least squares\n",
      "===============================================================================================================================\n",
      "Model:                                  OLS                                    Adj. R-squared:                       0.826     \n",
      "Dependent Variable:                     opening_wide_revenue                   AIC:                                  26573.2786\n",
      "Date:                                   2024-11-07 16:41                       BIC:                                  27097.5086\n",
      "No. Observations:                       734                                    Log-Likelihood:                       -13173.   \n",
      "Df Model:                               113                                    F-statistic:                          31.80     \n",
      "Df Residuals:                           620                                    Prob (F-statistic):                   3.51e-196 \n",
      "R-squared:                              0.853                                  Scale:                                2.6844e+14\n",
      "-------------------------------------------------------------------------------------------------------------------------------\n",
      "                                                           Coef.         Std.Err.      t    P>|t|      [0.025         0.975]   \n",
      "-------------------------------------------------------------------------------------------------------------------------------\n",
      "release_year                                              -14756.1979     9179.2526 -1.6076 0.1084    -32782.3919     3269.9961\n",
      "running_time                                                3313.0709    55459.1916  0.0597 0.9524   -105597.5554   112223.6972\n",
      "budget                                                         0.1538        0.0222  6.9313 0.0000         0.1103        0.1974\n",
      "metacritic_score                                           22966.4179   119568.8799  0.1921 0.8477   -211842.6594   257775.4951\n",
      "metacritic_review_count                                   -10378.7292    93862.6240 -0.1106 0.9120   -194705.9232   173948.4647\n",
      "metacritic_score_calculated                               416292.4748   162602.6062  2.5602 0.0107     96973.8700   735611.0796\n",
      "metacritic_monday_before_wide_friday_calculated           -30632.0409    29574.5858 -1.0358 0.3007    -88710.5411    27446.4592\n",
      "metacritic_before_wide_friday_calculated                 -222082.5701   114409.1250 -1.9411 0.0527   -446758.9330     2593.7929\n",
      "metacritic_before_first_day_calculated                     70518.9896    58365.5946  1.2082 0.2274    -44099.2238   185137.2031\n",
      "max_trailer_views                                             -0.2739        0.0633 -4.3274 0.0000        -0.3981       -0.1496\n",
      "top_3_trailer_views                                            0.3141        0.0737  4.2612 0.0000         0.1693        0.4588\n",
      "top_5_trailer_views                                           -0.1533        0.0762 -2.0126 0.0446        -0.3029       -0.0037\n",
      "total_trailer_views                                            0.2729        0.0402  6.7925 0.0000         0.1940        0.3518\n",
      "release_day_of_week                                     -3012613.6025  1548483.2345 -1.9455 0.0522  -6053521.2338    28294.0288\n",
      "release_day_of_week_non_preview                          5726314.0359  1707323.3955  3.3540 0.0008   2373476.4804  9079151.5914\n",
      "release_month                                            -620349.3114   199822.2900 -3.1045 0.0020  -1012759.8412  -227938.7815\n",
      "release_day_of_month                                      -73161.7189    81094.6000 -0.9022 0.3673   -232415.0983    86091.6605\n",
      "director_median_box_office                                    -0.1666        0.0517 -3.2200 0.0013        -0.2682       -0.0650\n",
      "director_mean_box_office                                       0.1447        0.0397  3.6485 0.0003         0.0668        0.2226\n",
      "weighted_crew_median_box_office                                0.8129        0.2426  3.3508 0.0009         0.3365        1.2893\n",
      "weighted_crew_mean_box_office                                 -0.2254        0.1205 -1.8699 0.0620        -0.4621        0.0113\n",
      "weighted_cast_median_box_office                                0.1302        0.1548  0.8409 0.4007        -0.1738        0.4341\n",
      "weighted_cast_mean_box_office                                  0.0417        0.0978  0.4261 0.6701        -0.1503        0.2337\n",
      "sum_cast_box_office                                            0.0002        0.0005  0.4018 0.6880        -0.0008        0.0012\n",
      "sum_crew_box_office                                           -0.0003        0.0002 -1.6532 0.0988        -0.0006        0.0000\n",
      "wikipedia_pre_release_cumulative_views                        16.5328        3.4513  4.7903 0.0000         9.7551       23.3104\n",
      "wikipedia_pre_release_monday_views                           -14.1463       11.2276 -1.2600 0.2082       -36.1951        7.9024\n",
      "wikipedia_pre_release_week_monday                            -29.6874       34.0817 -0.8711 0.3841       -96.6170       37.2423\n",
      "wikipedia_pre_release_three_monday                            29.5140       46.2204  0.6385 0.5234       -61.2535      120.2814\n",
      "mpaa_rating_PG                                           8483806.5844  9673999.3655  0.8770 0.3808 -10513969.9760 27481583.1447\n",
      "mpaa_rating_PG_13                                        9019813.3543 10139987.6856  0.8895 0.3741 -10893069.9421 28932696.6507\n",
      "mpaa_rating_R                                            8820125.2398 10221507.6121  0.8629 0.3885 -11252846.6912 28893097.1707\n",
      "genre_Adventure                                          1759587.4362  3143846.2788  0.5597 0.5759  -4414290.2836  7933465.1561\n",
      "genre_Black_Comedy                                       1225163.5084  5701023.5766  0.2149 0.8299  -9970492.8050 12420819.8219\n",
      "genre_Comedy                                             5017989.6094  2793893.0412  1.7961 0.0730   -468650.7888 10504630.0076\n",
      "genre_Concert/Performance                                5282595.5692 14887610.8631  0.3548 0.7228 -23953658.6427 34518849.7810\n",
      "genre_Documentary                                       -1037848.8669 18780290.6679 -0.0553 0.9559 -37918538.2661 35842840.5322\n",
      "genre_Drama                                              2672519.1767  2893109.4156  0.9238 0.3560  -3008962.0976  8354000.4511\n",
      "genre_Horror                                             2361325.3387  3091306.5868  0.7639 0.4452  -3709375.0610  8432025.7384\n",
      "genre_Musical                                            7559200.9683  6050698.2829  1.2493 0.2120  -4323145.6878 19441547.6244\n",
      "genre_Reality                                          -11203564.7296 15432673.4184 -0.7260 0.4681 -41510211.4694 19103082.0101\n",
      "genre_Romantic_Comedy                                    2618260.0890  4798902.0967  0.5456 0.5855  -6805812.2439 12042332.4219\n",
      "genre_Thriller/Suspense                                 -2331329.9272  2841601.0259 -0.8204 0.4123  -7911659.1503  3248999.2959\n",
      "genre_Western                                             822111.7906  7509972.9792  0.1095 0.9129 -13925954.9853 15570178.5665\n",
      "creative_type_Dramatization                             -7347002.2295  5116360.5067 -1.4360 0.1515 -17394498.6201  2700494.1611\n",
      "creative_type_Factual                                   -6958818.0274  9182273.4556 -0.7579 0.4488 -24990944.4349 11073308.3801\n",
      "creative_type_Fantasy                                   -5520729.3402  3953007.4050 -1.3966 0.1630 -13283635.7230  2242177.0427\n",
      "creative_type_Historical_Fiction                        -5551584.4201  2836440.1300 -1.9572 0.0508 -11121778.6883    18609.8481\n",
      "creative_type_Kids_Fiction                             -13497834.5874  5179595.7802 -2.6060 0.0094 -23669512.2552 -3326156.9195\n",
      "creative_type_Science_Fiction                           -4314219.2201  2441576.2820 -1.7670 0.0777  -9108980.8185   480542.3782\n",
      "creative_type_Super_Hero                                 4899882.4398  4870541.8640  1.0060 0.3148  -4664875.8947 14464640.7744\n",
      "source_Based_on_Factual_Book/Article                     6790698.4059  6235524.2056  1.0890 0.2766  -5454608.9504 19036005.7622\n",
      "source_Based_on_Fiction_Book/Short_Story                 -777359.0997  4061346.1138 -0.1914 0.8483  -8753020.7769  7198302.5775\n",
      "source_Based_on_Folk_Tale/Legend/Fairytale              -7286766.3491  6681899.7780 -1.0905 0.2759 -20408664.9749  5835132.2768\n",
      "source_Based_on_Game                                    -2594106.8341  6040060.9788 -0.4295 0.6677 -14455563.9782  9267350.3099\n",
      "source_Based_on_Movie                                   -1283142.1124  6462396.8691 -0.1986 0.8427 -13973981.4566 11407697.2318\n",
      "source_Based_on_Musical_or_Opera                       -38037823.6913 18832586.1846 -2.0198 0.0438 -75021210.8997 -1054436.4828\n",
      "source_Based_on_Play                                     4964885.0254 12696723.1741  0.3910 0.6959 -19968909.2407 29898679.2915\n",
      "source_Based_on_Real_Life_Events                         2593278.3110  6388181.4413  0.4059 0.6849  -9951816.9556 15138373.5776\n",
      "source_Based_on_Religious_Text                           8020255.3655 10733835.1257  0.7472 0.4552 -13058824.0979 29099334.8288\n",
      "source_Based_on_Short_Film                               2273568.8958  8103445.2043  0.2806 0.7791 -13639957.2007 18187094.9923\n",
      "source_Based_on_Song                                    26558471.5877 20477858.0697  1.2969 0.1951 -13655896.5701 66772839.7455\n",
      "source_Based_on_TV                                       1697171.8024  5446926.3007  0.3116 0.7555  -8999488.8952 12393832.5001\n",
      "source_Based_on_Theme_Park_Ride                        -28926838.6118 13198699.6089 -2.1916 0.0288 -54846412.9867 -3007264.2369\n",
      "source_Based_on_Toy                                       981123.3420  7168875.8510  0.1369 0.8912 -13097097.7185 15059344.4025\n",
      "source_Based_on_Web_Series                             -23037673.7383 17330707.1718 -1.3293 0.1842 -57071674.5732 10996327.0966\n",
      "source_Compilation                                       2881649.3423 10461383.3582  0.2755 0.7831 -17662389.9988 23425688.6834\n",
      "source_Original_Screenplay                                -86090.9563  3901038.3612 -0.0221 0.9824  -7746940.6567  7574758.7440\n",
      "source_Remake                                            8494884.2301  5105206.7078  1.6640 0.0966  -1530708.3573 18520476.8175\n",
      "source_Spin_Off                                        -14197362.5876  5608202.5024 -2.5315 0.0116 -25210737.1001 -3183988.0752\n",
      "production_method_Digital_Animation                     -8868976.3178  4657599.7271 -1.9042 0.0573 -18015559.3989   277606.7634\n",
      "production_method_Live_Action                          -12362648.5135  3180209.2748 -3.8874 0.0001 -18607935.7969 -6117361.2300\n",
      "production_method_Stop_Motion_Animation                 -8786668.7474  9422163.3264 -0.9326 0.3514 -27289890.3033  9716552.8084\n",
      "distributor_slug_20th_Century_Fox                         878667.5986 12299130.8433  0.0714 0.9431 -23274335.8096 25031671.0069\n",
      "distributor_slug_20th_Century_Studios                  -11974410.3651 13563465.2645 -0.8828 0.3777 -38610310.6524 14661489.9221\n",
      "distributor_slug_A24                                    -3212272.6796 13218729.2308 -0.2430 0.8081 -29171181.1776 22746635.8184\n",
      "distributor_slug_Amazon_MGM_Studios                            0.0000        0.0000  1.0862 0.2778        -0.0000        0.0000\n",
      "distributor_slug_Amazon_Studios                          -557258.7258 20541275.7390 -0.0271 0.9784 -40896166.3492 39781648.8977\n",
      "distributor_slug_Angel_Studios                                 0.0000        0.0000  0.0580 0.9538        -0.0000        0.0000\n",
      "distributor_slug_Annapurna_Pictures                      6337075.1614 14920085.2712  0.4247 0.6712 -22962952.2145 35637102.5372\n",
      "distributor_slug_Aviron_Pictures                         4318862.7888 14941695.6778  0.2890 0.7726 -25023603.0514 33661328.6290\n",
      "distributor_slug_BH_Tilt                                 5009016.2373 15536030.6624  0.3224 0.7472 -25500603.2084 35518635.6830\n",
      "distributor_slug_Bleecker_Street                        -5794136.7246 15554790.0261 -0.3725 0.7096 -36340595.7634 24752322.3141\n",
      "distributor_slug_Briarcliff_Entertainment                5919472.3937 20641220.2470  0.2868 0.7744 -34615706.0127 46454650.8002\n",
      "distributor_slug_Broad_Green_Pictures                    5354514.6183 15542850.1843  0.3445 0.7306 -25168496.9880 35877526.2246\n",
      "distributor_slug_CBS_Films                               8742668.9413 14647661.5672  0.5969 0.5508 -20022373.4233 37507711.3060\n",
      "distributor_slug_Entertainment_Studios_Motion_Pictures   7224845.1165 14036248.5668  0.5147 0.6069 -20339505.8766 34789196.1097\n",
      "distributor_slug_EuropaCorp                             17138325.6447 15382163.6164  1.1142 0.2656 -13069130.0681 47345781.3575\n",
      "distributor_slug_Focus_Features                          5469972.7931 12732194.4766  0.4296 0.6676 -19533479.9312 30473425.5173\n",
      "distributor_slug_Focus_Gramercy                         12918834.4203 20670662.7564  0.6250 0.5322 -27674163.1149 53511831.9556\n",
      "distributor_slug_Fox_Searchlight                          217163.5217 13426490.4400  0.0162 0.9871 -26149745.9365 26584072.9800\n",
      "distributor_slug_Freestyle_Releasing                     1332510.2524 20900487.6036  0.0638 0.9492 -39711816.7620 42376837.2669\n",
      "distributor_slug_Global_Road                            -1402423.5109 14932228.1984 -0.0939 0.9252 -30726297.1379 27921450.1161\n",
      "distributor_slug_High_Top_Releasing                      3330248.8619 17124207.6472  0.1945 0.8459 -30298228.7060 36958726.4298\n",
      "distributor_slug_LD_Entertainment                       11404298.7853 21164091.5386  0.5389 0.5902 -30157692.9993 52966290.5699\n",
      "distributor_slug_Lionsgate                               3944899.1158 12282111.9164  0.3212 0.7482 -20174682.5650 28064480.7967\n",
      "distributor_slug_MGM                                     5649488.9253 14698305.0428  0.3844 0.7008 -23215006.9743 34513984.8249\n",
      "distributor_slug_Neon                                   -5627543.6222 17702586.8729 -0.3179 0.7507 -40391840.9148 29136753.6704\n",
      "distributor_slug_OTL_Releasing                          -4685092.9593 20617963.8985 -0.2272 0.8203 -45174600.6048 35804414.6862\n",
      "distributor_slug_Open_Road                               4655498.1700 12950824.9126  0.3595 0.7194 -20777300.4758 30088296.8158\n",
      "distributor_slug_Orion_Pictures                         -1183573.0326 17010081.5071 -0.0696 0.9445 -34587929.9625 32220783.8973\n",
      "distributor_slug_Paramount_Pictures                       812582.8982 12375554.5781  0.0657 0.9477 -23490501.2558 25115667.0523\n",
      "distributor_slug_Pure_Flix_Entertainment                 4472857.6397 14318945.2682  0.3124 0.7549 -23646652.4521 32592367.7314\n",
      "distributor_slug_Quality_Flix                           30187444.4924 31567890.2417  0.9563 0.3393 -31805502.0269 92180391.0116\n",
      "distributor_slug_RADiUS_TWC                            -12554491.4094 20994572.5270 -0.5980 0.5501 -53783582.1689 28674599.3501\n",
      "distributor_slug_Relativity                              -647067.3924 17501054.0107 -0.0370 0.9705 -35015594.9377 33721460.1529\n",
      "distributor_slug_Roadside_Attractions                    -916119.3419 15458580.7461 -0.0593 0.9528 -31273642.8291 29441404.1453\n",
      "distributor_slug_STX_Entertainment                       4744629.9496 12516589.7663  0.3791 0.7048 -19835418.7658 29324678.6650\n",
      "distributor_slug_Searchlight_Pictures                   -2352342.2269 17159514.1425 -0.1371 0.8910 -36050154.6048 31345470.1510\n",
      "distributor_slug_ShowBiz_Direct                               -0.0000        0.0000 -1.0204 0.3079        -0.0000        0.0000\n",
      "distributor_slug_Solstice_Studios                       10185251.6621 20553066.4607  0.4956 0.6204 -30176810.5520 50547313.8762\n",
      "distributor_slug_Sony_Pictures                           5206310.0092 12278904.9887  0.4240 0.6717 -18906973.9149 29319593.9332\n",
      "distributor_slug_Toho_International                            0.0000        0.0000  0.5088 0.6111        -0.0000        0.0000\n",
      "distributor_slug_United_Artists                         -1716335.7759 13252926.0871 -0.1295 0.8970 -27742399.9775 24309728.4258\n",
      "distributor_slug_Universal                               8457872.5097 12307257.5978  0.6872 0.4922 -15711090.1994 32626835.2188\n",
      "distributor_slug_Walt_Disney                            22140595.0572 12580194.9423  1.7600 0.0789  -2564361.3491 46845551.4635\n",
      "distributor_slug_Warner_Bros                               62467.6361 12287118.5362  0.0051 0.9959 -24066946.0327 24191881.3049\n",
      "distributor_slug_Weinstein_Co                            8676334.3466 13768317.9625  0.6302 0.5288 -18361855.1736 35714523.8668\n",
      "distributor_slug_truTV                                   2881649.3423 10461383.3582  0.2755 0.7831 -17662389.9988 23425688.6834\n",
      "in_franchise                                             5511539.1810  1703162.4093  3.2361 0.0013   2166872.9601  8856205.4018\n",
      "-------------------------------------------------------------------------------------------------------------------------------\n",
      "Omnibus:                              259.052                      Durbin-Watson:                         1.963                \n",
      "Prob(Omnibus):                        0.000                        Jarque-Bera (JB):                      1902.926             \n",
      "Skew:                                 1.391                        Prob(JB):                              0.000                \n",
      "Kurtosis:                             10.382                       Condition No.:                         414645251452283387904\n",
      "===============================================================================================================================\n",
      "Notes:\n",
      "[1] Standard Errors assume that the covariance matrix of the errors is correctly specified.\n",
      "[2] The smallest eigenvalue is 5.22e-19. This might indicate that                there are strong multicollinearity problems or\n",
      "that the design                matrix is singular.\n"
     ]
    }
   ],
   "source": [
    "# create a basic MLR\n",
    "from statsmodels.api import OLS\n",
    "\n",
    "# print the columns\n",
    "# print(X_train.columns)\n",
    "\n",
    "# create dummy variables for mpaa_rating, genre, creative_type, source, production_method, and distributor\n",
    "# X_train_dummies = pd.get_dummies(X_train, columns=['mpaa_rating', 'genre', 'creative_type', 'source', 'production_method', 'distributor_slug'])\n",
    "\n",
    "# print(X_train_dummies.columns)\n",
    "\n",
    "# remove all non-numeric columns\n",
    "X_train_dummies = X_train.select_dtypes(include=[np.number, bool])\n",
    "\n",
    "# remove franchise id and distributor id and id\n",
    "X_train_dummies = X_train_dummies.drop(columns=['franchise_id', 'distributor_id', 'id'])\n",
    "\n",
    "# drop preview_sum and preview_to_weekend_ratio\n",
    "X_train_dummies = X_train_dummies.drop(columns=['preview_sum', 'preview_to_weekend_ratio', 'first_five_days_revenue', 'first_seven_days_revenue', 'total_revenue_within_365_days', 'opening_weekend_to_total_ratio', 'fri_sat_ratio_first_five', 'sat_sun_ratio_first_five', 'sun_mon_ratio_first_five', 'mon_tue_ratio_first_five', 'tue_wed_ratio_first_five', 'wed_thu_ratio_first_five', 'thu_fri_ratio_first_five', 'fri_sat_ratio', 'sat_sun_ratio', 'sun_mon_ratio', 'mon_tue_ratio', 'tue_wed_ratio', 'wed_thu_ratio', 'thu_fri_ratio', 'total_box_office', 'largest_theater_count', 'days_over_1000_theaters', 'days_over_1000000_revenue', 'days_over_100000_revenue', 'wikipedia_cumulative_views'])\n",
    "\n",
    "X_train_dummies = X_train_dummies.fillna(0)\n",
    "\n",
    "# print the columns that have NaN values\n",
    "print(X_train_dummies.columns[X_train_dummies.isna().any()])\n",
    "\n",
    "# Ensure all data is numeric\n",
    "X_train_dummies = X_train_dummies.astype(float)\n",
    "\n",
    "# within test, convert bools to ints\n",
    "X_test_numbers = X_test.select_dtypes(include=[np.number, bool])\n",
    "X_test_numbers = X_test_numbers.fillna(0)\n",
    "\n",
    "# Ensure all data is numeric\n",
    "X_test_numbers = X_test_numbers.astype(float)\n",
    "\n",
    "X_test = X_test_numbers.combine_first(X_test)\n",
    "\n",
    "model = OLS(y_train, X_train_dummies)\n",
    "results = model.fit()\n",
    "\n",
    "# print the summary with millions of dollars\n",
    "def millions(x):\n",
    "    return '{:,.2f}M'.format(x / 1000000)\n",
    "\n",
    "print(results.summary2(float_format=millions))\n"
   ]
  },
  {
   "cell_type": "code",
   "execution_count": 6,
   "metadata": {},
   "outputs": [
    {
     "name": "stdout",
     "output_type": "stream",
     "text": [
      "Best alpha: 208485165825367.66\n",
      "Number of non-zero coefficients: 4\n",
      "                feature  coefficient\n",
      "2                budget     0.174752\n",
      "12  total_trailer_views     0.201722\n",
      "23  sum_cast_box_office     0.001498\n",
      "24  sum_crew_box_office     0.001190\n",
      "R squared: 0.7183043641215822\n"
     ]
    }
   ],
   "source": [
    "# now do lasso\n",
    "from sklearn.linear_model import Lasso, LassoCV\n",
    "from sklearn.model_selection import RepeatedKFold\n",
    "\n",
    "cv = RepeatedKFold(n_splits=10, n_repeats=3, random_state=1)\n",
    "\n",
    "lasso = LassoCV(cv=cv, n_alphas=100, random_state=1)\n",
    "\n",
    "lasso.fit(X_train_dummies, y_train)\n",
    "\n",
    "print('Best alpha:', lasso.alpha_)\n",
    "print('Number of non-zero coefficients:', np.sum(lasso.coef_ != 0))\n",
    "# print the coefficients\n",
    "\n",
    "# match up the coefficients with the column names\n",
    "coefficients = pd.DataFrame({'feature': X_train_dummies.columns, 'coefficient': lasso.coef_})\n",
    "# remove the columns with 0 coefficients\n",
    "coefficients = coefficients[coefficients['coefficient'] != 0]\n",
    "\n",
    "print(coefficients)\n",
    "\n",
    "# print the r squared value\n",
    "print('R squared:', lasso.score(X_train_dummies, y_train))\n"
   ]
  },
  {
   "cell_type": "code",
   "execution_count": 7,
   "metadata": {},
   "outputs": [
    {
     "name": "stderr",
     "output_type": "stream",
     "text": [
      "/tmp/ipykernel_120921/850911486.py:17: FutureWarning: Downcasting object dtype arrays on .fillna, .ffill, .bfill is deprecated and will change in a future version. Call result.infer_objects(copy=False) instead. To opt-in to the future behavior, set `pd.set_option('future.no_silent_downcasting', True)`\n",
      "  X_test = X_test.fillna(0)\n"
     ]
    },
    {
     "data": {
      "text/plain": [
       "[<matplotlib.lines.Line2D at 0x7bf8c0acf800>]"
      ]
     },
     "execution_count": 7,
     "metadata": {},
     "output_type": "execute_result"
    },
    {
     "data": {
      "image/png": "[encoded data removed]",
      "text/plain": [
       "<Figure size 640x480 with 1 Axes>"
      ]
     },
     "metadata": {},
     "output_type": "display_data"
    }
   ],
   "source": [
    "# now run the new model on the test data\n",
    "# don't need to create dummy variables and stuff since only some variables are significant\n",
    "def calculate_prediction(coefficients_df, row):\n",
    "    pred_sum = 0\n",
    "    for index, coef_row in coefficients_df.iterrows():\n",
    "        feature = coef_row['feature']\n",
    "        coefficient = coef_row['coefficient']\n",
    "\n",
    "        pred_sum += coefficient * row[feature]\n",
    "\n",
    "    return pred_sum\n",
    "\n",
    "def make_predictions(coefficients_df, X):\n",
    "    return X.apply(lambda x: calculate_prediction(coefficients_df, x), axis=1)\n",
    "\n",
    "# within X_test 0 fill all NaN values\n",
    "X_test = X_test.fillna(0)\n",
    "\n",
    "y_pred = make_predictions(coefficients, X_test)\n",
    "\n",
    "# make a results df with the names and then the values in millions\n",
    "results_df = pd.DataFrame({'title': X_test['title'], 'predicted': y_pred, 'actual': y_test})\n",
    "results_df['predicted'] = results_df['predicted'] / 1000000\n",
    "results_df['actual'] = results_df['actual'] / 1000000\n",
    "\n",
    "# make a scatter plot of the predicted vs actual\n",
    "sns.scatterplot(x='actual', y='predicted', data=results_df)\n",
    "plt.xlabel('Actual Opening Weekend Revenue (Millions)')\n",
    "plt.ylabel('Predicted Opening Weekend Revenue (Millions)')\n",
    "plt.title('Actual vs Predicted Opening Weekend Revenue')\n",
    "\n",
    "# make a line of y=x\n",
    "plt.plot([0, 100], [0, 100], color='red')"
   ]
  },
  {
   "cell_type": "code",
   "execution_count": 8,
   "metadata": {},
   "outputs": [
    {
     "data": {
      "text/plain": [
       "[<matplotlib.lines.Line2D at 0x7bf8c0b49190>]"
      ]
     },
     "execution_count": 8,
     "metadata": {},
     "output_type": "execute_result"
    },
    {
     "data": {
      "image/png": "[encoded data removed]",
      "text/plain": [
       "<Figure size 640x480 with 1 Axes>"
      ]
     },
     "metadata": {},
     "output_type": "display_data"
    }
   ],
   "source": [
    "# plot the residuals\n",
    "results_df['residual'] = results_df['actual'] - results_df['predicted']\n",
    "sns.scatterplot(x='actual', y='residual', data=results_df)\n",
    "plt.xlabel('Actual Opening Weekend Revenue (Millions)')\n",
    "plt.ylabel('Residual (Millions)')\n",
    "plt.title('Residual vs Actual Opening Weekend Revenue')\n",
    "\n",
    "# line at y=0\n",
    "plt.plot([0, 200], [0, 0], color='red')"
   ]
  },
  {
   "cell_type": "code",
   "execution_count": 9,
   "metadata": {},
   "outputs": [
    {
     "data": {
      "text/plain": [
       "<Axes: xlabel='total_trailer_views', ylabel='opening_wide_revenue'>"
      ]
     },
     "execution_count": 9,
     "metadata": {},
     "output_type": "execute_result"
    },
    {
     "data": {
      "image/png": "[encoded data removed]",
      "text/plain": [
       "<Figure size 1500x1500 with 15 Axes>"
      ]
     },
     "metadata": {},
     "output_type": "display_data"
    }
   ],
   "source": [
    "# the following are the features that lasso found as relevant, want to do exploratory analysis\n",
    "\n",
    "# budget     0.272272\n",
    "# 7               director_median_box_office    -0.114093\n",
    "# 8                 director_mean_box_office     0.139005\n",
    "# 9          weighted_crew_median_box_office     0.135436\n",
    "# 10           weighted_crew_mean_box_office     0.112845\n",
    "# 11         weighted_cast_median_box_office    -0.079282\n",
    "# 12           weighted_cast_mean_box_office     0.145899\n",
    "# 13  wikipedia_pre_release_cumulative_views     9.358108\n",
    "\n",
    "# make a grid of scatter plots\n",
    "fig, axs = plt.subplots(5, 3, figsize=(15, 15))\n",
    "\n",
    "# budget vs opening_wide_revenue\n",
    "sns.regplot(x='budget', y='opening_wide_revenue', data=df, ax=axs[0, 0])\n",
    "\n",
    "# director_median_box_office vs opening_wide_revenue\n",
    "sns.regplot(x='director_median_box_office', y='opening_wide_revenue', data=df, ax=axs[0, 1])\n",
    "\n",
    "# director_mean_box_office vs opening_wide_revenue\n",
    "sns.regplot(x='director_mean_box_office', y='opening_wide_revenue', data=df, ax=axs[0, 2])\n",
    "\n",
    "# weighted_crew_median_box_office vs opening_wide_revenue\n",
    "sns.regplot(x='weighted_crew_median_box_office', y='opening_wide_revenue', data=df, ax=axs[1, 0])\n",
    "\n",
    "# weighted_crew_mean_box_office vs opening_wide_revenue\n",
    "sns.regplot(x='weighted_crew_mean_box_office', y='opening_wide_revenue', data=df, ax=axs[1, 1])\n",
    "\n",
    "# weighted_cast_median_box_office vs opening_wide_revenue\n",
    "sns.regplot(x='weighted_cast_median_box_office', y='opening_wide_revenue', data=df, ax=axs[1, 2])\n",
    "\n",
    "# weighted_cast_mean_box_office vs opening_wide_revenue\n",
    "sns.regplot(x='weighted_cast_mean_box_office', y='opening_wide_revenue', data=df, ax=axs[2, 0])\n",
    "\n",
    "# wikipedia_pre_release_cumulative_views vs opening_wide_revenue\n",
    "sns.regplot(x='wikipedia_pre_release_cumulative_views', y='opening_wide_revenue', data=df, ax=axs[2, 1])\n",
    "\n",
    "# sum_crew_box_office vs opening_wide_revenue\n",
    "sns.regplot(x='sum_crew_box_office', y='opening_wide_revenue', data=df, ax=axs[2, 2])\n",
    "\n",
    "#sum_cast_box_office vs opening_wide_revenue\n",
    "sns.regplot(x='sum_cast_box_office', y='opening_wide_revenue', data=df, ax=axs[3, 0])\n",
    "\n",
    "# top 3 trailer views vs opening_wide_revenue\n",
    "sns.regplot(x='top_3_trailer_views', y='opening_wide_revenue', data=df, ax=axs[3, 1]) \n",
    "\n",
    "# top 5 trailer views vs opening_wide_revenue\n",
    "sns.regplot(x='top_5_trailer_views', y='opening_wide_revenue', data=df, ax=axs[3, 2])\n",
    "\n",
    "# max trailer views vs opening_wide_revenue\n",
    "sns.regplot(x='max_trailer_views', y='opening_wide_revenue', data=df, ax=axs[4, 0])\n",
    "\n",
    "# total trailer views vs opening_wide_revenue\n",
    "sns.regplot(x='total_trailer_views', y='opening_wide_revenue', data=df, ax=axs[4, 1])"
   ]
  },
  {
   "cell_type": "code",
   "execution_count": 10,
   "metadata": {},
   "outputs": [
    {
     "name": "stdout",
     "output_type": "stream",
     "text": [
      "LinearGAM                                                                                                 \n",
      "=============================================== ==========================================================\n",
      "Distribution:                        NormalDist Effective DoF:                                     83.2687\n",
      "Link Function:                     IdentityLink Log Likelihood:                                -25224.2195\n",
      "Number of Samples:                          734 AIC:                                            50616.9765\n",
      "                                                AICc:                                           50639.1289\n",
      "                                                GCV:                                    420294902923921.75\n",
      "                                                Scale:                                   335446344939961.3\n",
      "                                                Pseudo R-Squared:                                    0.807\n",
      "==========================================================================================================\n",
      "Feature Function                  Lambda               Rank         EDoF         P > x        Sig. Code   \n",
      "================================= ==================== ============ ============ ============ ============\n",
      "s(0)                              [0.6]                20           12.7         1.11e-16     ***         \n",
      "s(1)                              [0.6]                20           10.7         2.09e-05     ***         \n",
      "s(2)                              [0.6]                20           9.2          2.60e-06     ***         \n",
      "s(3)                              [0.6]                20           10.8         8.66e-08     ***         \n",
      "s(4)                              [0.6]                20           9.1          1.71e-02     *           \n",
      "s(5)                              [0.6]                20           9.2          3.73e-04     ***         \n",
      "s(6)                              [0.6]                20           6.1          1.11e-16     ***         \n",
      "s(7)                              [0.6]                20           1.4          3.55e-04     ***         \n",
      "s(8)                              [0.6]                20           1.3          6.74e-01                 \n",
      "s(9)                              [0.6]                20           1.3          6.81e-01                 \n",
      "s(10)                             [0.6]                20           1.2          9.74e-01                 \n",
      "s(11)                             [0.6]                20           1.0          6.45e-01                 \n",
      "s(12)                             [0.6]                20           1.0          8.69e-01                 \n",
      "s(13)                             [0.6]                20           1.0          6.70e-01                 \n",
      "s(14)                             [0.6]                20           7.3          2.52e-03     **          \n",
      "intercept                                              1            0.0          1.11e-16     ***         \n",
      "==========================================================================================================\n",
      "Significance codes:  0 '***' 0.001 '**' 0.01 '*' 0.05 '.' 0.1 ' ' 1\n",
      "\n",
      "WARNING: Fitting splines and a linear function to a feature introduces a model identifiability problem\n",
      "         which can cause p-values to appear significant when they are not.\n",
      "\n",
      "WARNING: p-values calculated in this manner behave correctly for un-penalized models or models with\n",
      "         known smoothing parameters, but when smoothing parameters have been estimated, the p-values\n",
      "         are typically lower than they should be, meaning that the tests reject the null too readily.\n",
      "None\n"
     ]
    },
    {
     "name": "stderr",
     "output_type": "stream",
     "text": [
      "/tmp/ipykernel_120921/1720716118.py:12: UserWarning: KNOWN BUG: p-values computed in this summary are likely much smaller than they should be. \n",
      " \n",
      "Please do not make inferences based on these values! \n",
      "\n",
      "Collaborate on a solution, and stay up to date at: \n",
      "github.com/dswah/pyGAM/issues/163 \n",
      "\n",
      "  print(gam.summary())\n"
     ]
    }
   ],
   "source": [
    "# gam\n",
    "from pygam import LinearGAM\n",
    "\n",
    "# print(X_train_dummies.columns)\n",
    "\n",
    "relevant_features = ['budget', 'director_median_box_office', 'director_mean_box_office', 'weighted_crew_median_box_office', 'weighted_crew_mean_box_office', 'weighted_cast_mean_box_office', 'wikipedia_pre_release_cumulative_views', 'genre_Horror', 'mpaa_rating_PG_13', 'mpaa_rating_R', 'source_Original_Screenplay', 'production_method_Digital_Animation', 'distributor_slug_Sony_Pictures', 'distributor_slug_Warner_Bros', 'running_time']\n",
    "\n",
    "X_train_gam = X_train_dummies[relevant_features]\n",
    "\n",
    "gam = LinearGAM().fit(X_train_gam, y_train)\n",
    "\n",
    "print(gam.summary())"
   ]
  },
  {
   "cell_type": "code",
   "execution_count": 11,
   "metadata": {},
   "outputs": [
    {
     "data": {
      "application/vnd.plotly.v1+json": {
       "config": {
        "plotlyServerURL": "https://plot.ly"
       },
       "data": [
        {
         "hovertemplate": "<b>%{hovertext}</b><br><br>mpaa_rating=PG-13<br>Actual Opening Weekend Revenue (Millions)=%{x}<br>Predicted Opening Weekend Revenue (Millions)=%{y}<extra></extra>",
         "hovertext": [
          "80 for Brady",
          "Ant-Man and the Wasp: Quantumania",
          "Jesus Revolution",
          "Creed III",
          "65",
          "Shazam! Fury of the Gods",
          "His Only Son",
          "Dungeons & Dragons: Honor Among Thieves",
          "Are You There God? It’s Me, Margaret",
          "Big George Foreman: The Miraculous Story of the Once and Future Heavyweight Champion of the World",
          "Guardians of the Galaxy Vol 3",
          "Fast X",
          "Transformers: Rise of the Beasts",
          "The Flash",
          "Indiana Jones and the Dial of Destiny",
          "Sound of Freedom",
          "Insidious: The Red Door",
          "Barbie",
          "Haunted Mansion",
          "Meg 2: The Trench",
          "Blue Beetle",
          "The Creator",
          "Five Nights at Freddy’s",
          "The Marvels",
          "Next Goal Wins",
          "The Hunger Games: The Ballad of Songbirds & Snakes",
          "Godzilla Minus One (ゴジラ最新作)",
          "Aquaman and the Lost Kingdom",
          "Mean Girls",
          "Argylle",
          "Madame Web",
          "Dune: Part Two",
          "Cabrini",
          "Imaginary",
          "Arthur the King",
          "Ghostbusters: Frozen Empire",
          "Godzilla x Kong: The New Empire",
          "Tarot",
          "The Fall Guy",
          "Kingdom of the Planet of the Apes",
          "The Watchers",
          "A Quiet Place: Day One",
          "Sound of Hope: The Story of Possum Trot",
          "Fly Me to the Moon",
          "Twisters",
          "It Ends With Us",
          "Reagan",
          "Beetlejuice Beetlejuice"
         ],
         "legendgroup": "PG-13",
         "marker": {
          "color": "#636efa",
          "symbol": "circle"
         },
         "mode": "markers",
         "name": "PG-13",
         "orientation": "v",
         "showlegend": true,
         "type": "scatter",
         "x": [
          12.70164,
          106.10965,
          15.882067,
          58.370007,
          12.328361,
          30.111158,
          5.50107,
          37.205784,
          6.739037,
          2.925364,
          118.414021,
          67.01741,
          61.045464,
          55.043679,
          60.368101,
          19.680879,
          33.013036,
          162.022044,
          24.082475,
          30.002735,
          25.030225,
          14.079512,
          80.00172,
          46.110859,
          2.500295,
          44.607143,
          11.419975,
          27.686211,
          28.635307,
          17.47354,
          15.33586,
          82.505391,
          7.16852,
          9.912713,
          7.633898,
          45.004673,
          80.006561,
          6.503012,
          27.747035,
          58.400788,
          7.003537,
          52.202495,
          3.078758,
          9.426615,
          81.251415,
          50.016652,
          7.65072,
          111.003345
         ],
         "xaxis": "x",
         "y": [
          6.656043161233797,
          143.36129487597765,
          7.338569879344583,
          25.669998370277487,
          22.802048963292172,
          41.48957592138967,
          -4.501421173917726,
          26.04233157135339,
          14.585455154392317,
          12.720817566522792,
          130.24018741085368,
          139.3655711996446,
          96.07261963049582,
          100.49287651472815,
          166.2283050711903,
          7.999172596530646,
          12.360320394933044,
          76.57182818098599,
          53.279676952218935,
          29.393283399875507,
          38.115935745058664,
          31.547796282598974,
          26.308460346570573,
          141.9134110769717,
          48.873919308931605,
          44.641649657101134,
          4.936128601803839,
          77.06934477086575,
          9.998855619450554,
          64.87096766777262,
          31.609926922030077,
          85.24998585724636,
          0.7090194394257218,
          118.38138882387733,
          2.8943288912993075,
          25.38341787370108,
          98.45863504266029,
          52.11217375645023,
          31.8400514856392,
          62.87935875666586,
          23.527141027245566,
          30.17222528657763,
          9.088301428273097,
          19.948041145253665,
          39.20824060606766,
          12.880336756332635,
          8.37611503938721,
          33.940844502495565
         ],
         "yaxis": "y"
        },
        {
         "hovertemplate": "<b>%{hovertext}</b><br><br>mpaa_rating=R<br>Actual Opening Weekend Revenue (Millions)=%{x}<br>Predicted Opening Weekend Revenue (Millions)=%{y}<extra></extra>",
         "hovertext": [
          "Knock at the Cabin",
          "Operation Fortune: Ruse de guerre",
          "Scream VI",
          "John Wick: Chapter 4",
          "Renfield",
          "The Pope’s Exorcist",
          "Beau is Afraid",
          "The Machine",
          "No Hard Feelings",
          "Oppenheimer",
          "Talk To Me",
          "The Last Voyage of the Demeter",
          "Strays",
          "Dumb Money",
          "Expend4bles",
          "Saw X",
          "The Exorcist: Believer",
          "Killers of the Flower Moon",
          "Priscilla",
          "Thanksgiving",
          "Napoleon",
          "American Fiction",
          "The Iron Claw",
          "Anyone But You",
          "Ferrari",
          "Civil War",
          "Abigail",
          "Challengers",
          "The Strangers: Chapter 1",
          "Furiosa: A Mad Max Saga",
          "Bad Boys: Ride or Die",
          "Horizon: An American Saga Chapter 1",
          "Deadpool & Wolverine",
          "Alien: Romulus",
          "The Crow",
          "Speak No Evil"
         ],
         "legendgroup": "R",
         "marker": {
          "color": "#EF553B",
          "symbol": "circle"
         },
         "mode": "markers",
         "name": "R",
         "orientation": "v",
         "showlegend": true,
         "type": "scatter",
         "x": [
          14.12717,
          3.140214,
          44.44727,
          73.81795,
          8.026475,
          9.006368,
          2.661957,
          5.000545,
          15.00277,
          82.45542,
          10.43172,
          6.50495,
          8.24781,
          3.325504,
          8.039021,
          18.309301,
          26.4976,
          23.253655,
          5.040003,
          10.306272,
          20.638887,
          1.755364,
          4.86837,
          6.000344,
          3.921773,
          25.537368,
          10.29711,
          15.011061,
          11.825058,
          26.326462,
          56.527324,
          11.052561,
          211.435291,
          42.003361,
          4.644666,
          11.397595
         ],
         "xaxis": "x",
         "y": [
          24.113744944214567,
          5.833001733806521,
          34.91794191807451,
          68.48506320400095,
          22.51628051485381,
          17.572911774234957,
          26.309465405854255,
          2.463663697230354,
          19.614763961944362,
          222.84873733351267,
          2.042569668601349,
          21.57893003962802,
          29.791700189798547,
          9.234808452326448,
          18.22782676697201,
          17.573478832690537,
          23.092186494293376,
          -28.209145250892192,
          -2.1860567263911515,
          16.921317592636303,
          56.77051885146366,
          0.2116224328686148,
          12.01507848391728,
          10.044646144962535,
          23.89616124851563,
          10.803906026371227,
          23.317783091298363,
          29.602368914040706,
          10.536975298400655,
          43.60639435404096,
          37.58930448151564,
          20.397692637928174,
          97.70251405294364,
          35.87635446905845,
          7.774853126111969,
          13.449547995179623
         ],
         "yaxis": "y"
        },
        {
         "hovertemplate": "<b>%{hovertext}</b><br><br>mpaa_rating=PG<br>Actual Opening Weekend Revenue (Millions)=%{x}<br>Predicted Opening Weekend Revenue (Millions)=%{y}<extra></extra>",
         "hovertext": [
          "The Super Mario Bros. Movie",
          "The Little Mermaid",
          "Spider-Man: Across the Spider-Verse",
          "Elemental",
          "Ruby Gillman, Teenage Kraken",
          "Teenage Mutant Ninja Turtles: Mutant Mayhem",
          "PAW Patrol: The Mighty Movie",
          "Journey to Bethlehem",
          "Trolls Band Together",
          "Wish",
          "Wonka",
          "Migration",
          "Kung Fu Panda 4",
          "Unsung Hero",
          "IF",
          "The Garfield Movie",
          "Inside Out 2",
          "Despicable Me 4",
          "Harold and the Purple Crayon"
         ],
         "legendgroup": "PG",
         "marker": {
          "color": "#00cc96",
          "symbol": "circle"
         },
         "mode": "markers",
         "name": "PG",
         "orientation": "v",
         "showlegend": true,
         "type": "scatter",
         "x": [
          146.361865,
          95.57804,
          120.663589,
          29.602429,
          5.50099,
          28.007544,
          22.764354,
          2.400446,
          30.002525,
          19.698228,
          39.0058,
          12.453275,
          57.989905,
          7.731539,
          33.715801,
          24.006629,
          154.201673,
          75.00921,
          6.003197
         ],
         "xaxis": "x",
         "y": [
          54.84472789793587,
          96.14273923873075,
          38.45723278290433,
          89.27937380308856,
          16.62243704580427,
          10.752296483664631,
          9.66792819465518,
          14.340900343607343,
          38.80700291299701,
          -1.3953976486183852,
          50.418861864418105,
          45.2252969409925,
          34.547314963081845,
          1.4630453941303343,
          37.7817030299528,
          21.278247806383753,
          107.86395590805527,
          79.55677502725499,
          16.585939414097048
         ],
         "yaxis": "y"
        },
        {
         "line": {
          "color": "red"
         },
         "mode": "lines",
         "showlegend": false,
         "type": "scatter",
         "x": [
          0,
          200
         ],
         "y": [
          0,
          200
         ]
        }
       ],
       "layout": {
        "legend": {
         "title": {
          "text": "mpaa_rating"
         },
         "tracegroupgap": 0
        },
        "template": {
         "data": {
          "bar": [
           {
            "error_x": {
             "color": "#2a3f5f"
            },
            "error_y": {
             "color": "#2a3f5f"
            },
            "marker": {
             "line": {
              "color": "#E5ECF6",
              "width": 0.5
             },
             "pattern": {
              "fillmode": "overlay",
              "size": 10,
              "solidity": 0.2
             }
            },
            "type": "bar"
           }
          ],
          "barpolar": [
           {
            "marker": {
             "line": {
              "color": "#E5ECF6",
              "width": 0.5
             },
             "pattern": {
              "fillmode": "overlay",
              "size": 10,
              "solidity": 0.2
             }
            },
            "type": "barpolar"
           }
          ],
          "carpet": [
           {
            "aaxis": {
             "endlinecolor": "#2a3f5f",
             "gridcolor": "white",
             "linecolor": "white",
             "minorgridcolor": "white",
             "startlinecolor": "#2a3f5f"
            },
            "baxis": {
             "endlinecolor": "#2a3f5f",
             "gridcolor": "white",
             "linecolor": "white",
             "minorgridcolor": "white",
             "startlinecolor": "#2a3f5f"
            },
            "type": "carpet"
           }
          ],
          "choropleth": [
           {
            "colorbar": {
             "outlinewidth": 0,
             "ticks": ""
            },
            "type": "choropleth"
           }
          ],
          "contour": [
           {
            "colorbar": {
             "outlinewidth": 0,
             "ticks": ""
            },
            "colorscale": [
             [
              0,
              "#0d0887"
             ],
             [
              0.1111111111111111,
              "#46039f"
             ],
             [
              0.2222222222222222,
              "#7201a8"
             ],
             [
              0.3333333333333333,
              "#9c179e"
             ],
             [
              0.4444444444444444,
              "#bd3786"
             ],
             [
              0.5555555555555556,
              "#d8576b"
             ],
             [
              0.6666666666666666,
              "#ed7953"
             ],
             [
              0.7777777777777778,
              "#fb9f3a"
             ],
             [
              0.8888888888888888,
              "#fdca26"
             ],
             [
              1,
              "#f0f921"
             ]
            ],
            "type": "contour"
           }
          ],
          "contourcarpet": [
           {
            "colorbar": {
             "outlinewidth": 0,
             "ticks": ""
            },
            "type": "contourcarpet"
           }
          ],
          "heatmap": [
           {
            "colorbar": {
             "outlinewidth": 0,
             "ticks": ""
            },
            "colorscale": [
             [
              0,
              "#0d0887"
             ],
             [
              0.1111111111111111,
              "#46039f"
             ],
             [
              0.2222222222222222,
              "#7201a8"
             ],
             [
              0.3333333333333333,
              "#9c179e"
             ],
             [
              0.4444444444444444,
              "#bd3786"
             ],
             [
              0.5555555555555556,
              "#d8576b"
             ],
             [
              0.6666666666666666,
              "#ed7953"
             ],
             [
              0.7777777777777778,
              "#fb9f3a"
             ],
             [
              0.8888888888888888,
              "#fdca26"
             ],
             [
              1,
              "#f0f921"
             ]
            ],
            "type": "heatmap"
           }
          ],
          "heatmapgl": [
           {
            "colorbar": {
             "outlinewidth": 0,
             "ticks": ""
            },
            "colorscale": [
             [
              0,
              "#0d0887"
             ],
             [
              0.1111111111111111,
              "#46039f"
             ],
             [
              0.2222222222222222,
              "#7201a8"
             ],
             [
              0.3333333333333333,
              "#9c179e"
             ],
             [
              0.4444444444444444,
              "#bd3786"
             ],
             [
              0.5555555555555556,
              "#d8576b"
             ],
             [
              0.6666666666666666,
              "#ed7953"
             ],
             [
              0.7777777777777778,
              "#fb9f3a"
             ],
             [
              0.8888888888888888,
              "#fdca26"
             ],
             [
              1,
              "#f0f921"
             ]
            ],
            "type": "heatmapgl"
           }
          ],
          "histogram": [
           {
            "marker": {
             "pattern": {
              "fillmode": "overlay",
              "size": 10,
              "solidity": 0.2
             }
            },
            "type": "histogram"
           }
          ],
          "histogram2d": [
           {
            "colorbar": {
             "outlinewidth": 0,
             "ticks": ""
            },
            "colorscale": [
             [
              0,
              "#0d0887"
             ],
             [
              0.1111111111111111,
              "#46039f"
             ],
             [
              0.2222222222222222,
              "#7201a8"
             ],
             [
              0.3333333333333333,
              "#9c179e"
             ],
             [
              0.4444444444444444,
              "#bd3786"
             ],
             [
              0.5555555555555556,
              "#d8576b"
             ],
             [
              0.6666666666666666,
              "#ed7953"
             ],
             [
              0.7777777777777778,
              "#fb9f3a"
             ],
             [
              0.8888888888888888,
              "#fdca26"
             ],
             [
              1,
              "#f0f921"
             ]
            ],
            "type": "histogram2d"
           }
          ],
          "histogram2dcontour": [
           {
            "colorbar": {
             "outlinewidth": 0,
             "ticks": ""
            },
            "colorscale": [
             [
              0,
              "#0d0887"
             ],
             [
              0.1111111111111111,
              "#46039f"
             ],
             [
              0.2222222222222222,
              "#7201a8"
             ],
             [
              0.3333333333333333,
              "#9c179e"
             ],
             [
              0.4444444444444444,
              "#bd3786"
             ],
             [
              0.5555555555555556,
              "#d8576b"
             ],
             [
              0.6666666666666666,
              "#ed7953"
             ],
             [
              0.7777777777777778,
              "#fb9f3a"
             ],
             [
              0.8888888888888888,
              "#fdca26"
             ],
             [
              1,
              "#f0f921"
             ]
            ],
            "type": "histogram2dcontour"
           }
          ],
          "mesh3d": [
           {
            "colorbar": {
             "outlinewidth": 0,
             "ticks": ""
            },
            "type": "mesh3d"
           }
          ],
          "parcoords": [
           {
            "line": {
             "colorbar": {
              "outlinewidth": 0,
              "ticks": ""
             }
            },
            "type": "parcoords"
           }
          ],
          "pie": [
           {
            "automargin": true,
            "type": "pie"
           }
          ],
          "scatter": [
           {
            "fillpattern": {
             "fillmode": "overlay",
             "size": 10,
             "solidity": 0.2
            },
            "type": "scatter"
           }
          ],
          "scatter3d": [
           {
            "line": {
             "colorbar": {
              "outlinewidth": 0,
              "ticks": ""
             }
            },
            "marker": {
             "colorbar": {
              "outlinewidth": 0,
              "ticks": ""
             }
            },
            "type": "scatter3d"
           }
          ],
          "scattercarpet": [
           {
            "marker": {
             "colorbar": {
              "outlinewidth": 0,
              "ticks": ""
             }
            },
            "type": "scattercarpet"
           }
          ],
          "scattergeo": [
           {
            "marker": {
             "colorbar": {
              "outlinewidth": 0,
              "ticks": ""
             }
            },
            "type": "scattergeo"
           }
          ],
          "scattergl": [
           {
            "marker": {
             "colorbar": {
              "outlinewidth": 0,
              "ticks": ""
             }
            },
            "type": "scattergl"
           }
          ],
          "scattermapbox": [
           {
            "marker": {
             "colorbar": {
              "outlinewidth": 0,
              "ticks": ""
             }
            },
            "type": "scattermapbox"
           }
          ],
          "scatterpolar": [
           {
            "marker": {
             "colorbar": {
              "outlinewidth": 0,
              "ticks": ""
             }
            },
            "type": "scatterpolar"
           }
          ],
          "scatterpolargl": [
           {
            "marker": {
             "colorbar": {
              "outlinewidth": 0,
              "ticks": ""
             }
            },
            "type": "scatterpolargl"
           }
          ],
          "scatterternary": [
           {
            "marker": {
             "colorbar": {
              "outlinewidth": 0,
              "ticks": ""
             }
            },
            "type": "scatterternary"
           }
          ],
          "surface": [
           {
            "colorbar": {
             "outlinewidth": 0,
             "ticks": ""
            },
            "colorscale": [
             [
              0,
              "#0d0887"
             ],
             [
              0.1111111111111111,
              "#46039f"
             ],
             [
              0.2222222222222222,
              "#7201a8"
             ],
             [
              0.3333333333333333,
              "#9c179e"
             ],
             [
              0.4444444444444444,
              "#bd3786"
             ],
             [
              0.5555555555555556,
              "#d8576b"
             ],
             [
              0.6666666666666666,
              "#ed7953"
             ],
             [
              0.7777777777777778,
              "#fb9f3a"
             ],
             [
              0.8888888888888888,
              "#fdca26"
             ],
             [
              1,
              "#f0f921"
             ]
            ],
            "type": "surface"
           }
          ],
          "table": [
           {
            "cells": {
             "fill": {
              "color": "#EBF0F8"
             },
             "line": {
              "color": "white"
             }
            },
            "header": {
             "fill": {
              "color": "#C8D4E3"
             },
             "line": {
              "color": "white"
             }
            },
            "type": "table"
           }
          ]
         },
         "layout": {
          "annotationdefaults": {
           "arrowcolor": "#2a3f5f",
           "arrowhead": 0,
           "arrowwidth": 1
          },
          "autotypenumbers": "strict",
          "coloraxis": {
           "colorbar": {
            "outlinewidth": 0,
            "ticks": ""
           }
          },
          "colorscale": {
           "diverging": [
            [
             0,
             "#8e0152"
            ],
            [
             0.1,
             "#c51b7d"
            ],
            [
             0.2,
             "#de77ae"
            ],
            [
             0.3,
             "#f1b6da"
            ],
            [
             0.4,
             "#fde0ef"
            ],
            [
             0.5,
             "#f7f7f7"
            ],
            [
             0.6,
             "#e6f5d0"
            ],
            [
             0.7,
             "#b8e186"
            ],
            [
             0.8,
             "#7fbc41"
            ],
            [
             0.9,
             "#4d9221"
            ],
            [
             1,
             "#276419"
            ]
           ],
           "sequential": [
            [
             0,
             "#0d0887"
            ],
            [
             0.1111111111111111,
             "#46039f"
            ],
            [
             0.2222222222222222,
             "#7201a8"
            ],
            [
             0.3333333333333333,
             "#9c179e"
            ],
            [
             0.4444444444444444,
             "#bd3786"
            ],
            [
             0.5555555555555556,
             "#d8576b"
            ],
            [
             0.6666666666666666,
             "#ed7953"
            ],
            [
             0.7777777777777778,
             "#fb9f3a"
            ],
            [
             0.8888888888888888,
             "#fdca26"
            ],
            [
             1,
             "#f0f921"
            ]
           ],
           "sequentialminus": [
            [
             0,
             "#0d0887"
            ],
            [
             0.1111111111111111,
             "#46039f"
            ],
            [
             0.2222222222222222,
             "#7201a8"
            ],
            [
             0.3333333333333333,
             "#9c179e"
            ],
            [
             0.4444444444444444,
             "#bd3786"
            ],
            [
             0.5555555555555556,
             "#d8576b"
            ],
            [
             0.6666666666666666,
             "#ed7953"
            ],
            [
             0.7777777777777778,
             "#fb9f3a"
            ],
            [
             0.8888888888888888,
             "#fdca26"
            ],
            [
             1,
             "#f0f921"
            ]
           ]
          },
          "colorway": [
           "#636efa",
           "#EF553B",
           "#00cc96",
           "#ab63fa",
           "#FFA15A",
           "#19d3f3",
           "#FF6692",
           "#B6E880",
           "#FF97FF",
           "#FECB52"
          ],
          "font": {
           "color": "#2a3f5f"
          },
          "geo": {
           "bgcolor": "white",
           "lakecolor": "white",
           "landcolor": "#E5ECF6",
           "showlakes": true,
           "showland": true,
           "subunitcolor": "white"
          },
          "hoverlabel": {
           "align": "left"
          },
          "hovermode": "closest",
          "mapbox": {
           "style": "light"
          },
          "paper_bgcolor": "white",
          "plot_bgcolor": "#E5ECF6",
          "polar": {
           "angularaxis": {
            "gridcolor": "white",
            "linecolor": "white",
            "ticks": ""
           },
           "bgcolor": "#E5ECF6",
           "radialaxis": {
            "gridcolor": "white",
            "linecolor": "white",
            "ticks": ""
           }
          },
          "scene": {
           "xaxis": {
            "backgroundcolor": "#E5ECF6",
            "gridcolor": "white",
            "gridwidth": 2,
            "linecolor": "white",
            "showbackground": true,
            "ticks": "",
            "zerolinecolor": "white"
           },
           "yaxis": {
            "backgroundcolor": "#E5ECF6",
            "gridcolor": "white",
            "gridwidth": 2,
            "linecolor": "white",
            "showbackground": true,
            "ticks": "",
            "zerolinecolor": "white"
           },
           "zaxis": {
            "backgroundcolor": "#E5ECF6",
            "gridcolor": "white",
            "gridwidth": 2,
            "linecolor": "white",
            "showbackground": true,
            "ticks": "",
            "zerolinecolor": "white"
           }
          },
          "shapedefaults": {
           "line": {
            "color": "#2a3f5f"
           }
          },
          "ternary": {
           "aaxis": {
            "gridcolor": "white",
            "linecolor": "white",
            "ticks": ""
           },
           "baxis": {
            "gridcolor": "white",
            "linecolor": "white",
            "ticks": ""
           },
           "bgcolor": "#E5ECF6",
           "caxis": {
            "gridcolor": "white",
            "linecolor": "white",
            "ticks": ""
           }
          },
          "title": {
           "x": 0.05
          },
          "xaxis": {
           "automargin": true,
           "gridcolor": "white",
           "linecolor": "white",
           "ticks": "",
           "title": {
            "standoff": 15
           },
           "zerolinecolor": "white",
           "zerolinewidth": 2
          },
          "yaxis": {
           "automargin": true,
           "gridcolor": "white",
           "linecolor": "white",
           "ticks": "",
           "title": {
            "standoff": 15
           },
           "zerolinecolor": "white",
           "zerolinewidth": 2
          }
         }
        },
        "title": {
         "text": "Actual vs Predicted Opening Weekend Revenue"
        },
        "xaxis": {
         "anchor": "y",
         "domain": [
          0,
          1
         ],
         "title": {
          "text": "Actual Opening Weekend Revenue (Millions)"
         }
        },
        "yaxis": {
         "anchor": "x",
         "domain": [
          0,
          1
         ],
         "title": {
          "text": "Predicted Opening Weekend Revenue (Millions)"
         }
        }
       }
      }
     },
     "metadata": {},
     "output_type": "display_data"
    }
   ],
   "source": [
    "# plot actual vs predicted\n",
    "y_pred_gam = gam.predict(X_test[relevant_features])\n",
    "\n",
    "results_df_gam = pd.DataFrame({'predicted': y_pred_gam, 'actual': y_test})\n",
    "\n",
    "# now add in X_test title, source, distributor, genre, creative_type, production_method, mpaa_rating, and release_day\n",
    "results_df_gam['title'] = X_test['title']\n",
    "results_df_gam['source'] = X_test['source']\n",
    "results_df_gam['distributor_slug'] = X_test['distributor_slug']\n",
    "results_df_gam['genre'] = X_test['genre']\n",
    "results_df_gam['creative_type'] = X_test['creative_type']\n",
    "results_df_gam['production_method'] = X_test['production_method']\n",
    "results_df_gam['mpaa_rating'] = X_test['mpaa_rating']\n",
    "results_df_gam['release_day'] = X_test['release_day']\n",
    "\n",
    "results_df_gam['predicted'] = results_df_gam['predicted'] / 1000000\n",
    "\n",
    "results_df_gam['actual'] = results_df_gam['actual'] / 1000000\n",
    "\n",
    "# results_df_gam.to_csv('gam_results.csv', index=False)\n",
    "import plotly.express as px\n",
    "import plotly.graph_objects as go\n",
    "\n",
    "# Create the scatter plot\n",
    "fig = px.scatter(\n",
    "    results_df_gam,\n",
    "    x='actual',\n",
    "    y='predicted',\n",
    "    color='mpaa_rating',\n",
    "    labels={\n",
    "        'actual': 'Actual Opening Weekend Revenue (Millions)',\n",
    "        'predicted': 'Predicted Opening Weekend Revenue (Millions)'\n",
    "    },\n",
    "    title='Actual vs Predicted Opening Weekend Revenue',\n",
    "    hover_name='title'\n",
    ")\n",
    "\n",
    "# Add the diagonal line\n",
    "fig.add_trace(\n",
    "    go.Scatter(\n",
    "        x=[0, 200],\n",
    "        y=[0, 200],\n",
    "        mode='lines',\n",
    "        line=dict(color='red'),\n",
    "        showlegend=False\n",
    "    )\n",
    ")\n",
    "\n",
    "# Show the plot\n",
    "fig.show()"
   ]
  },
  {
   "cell_type": "code",
   "execution_count": 12,
   "metadata": {},
   "outputs": [
    {
     "name": "stdout",
     "output_type": "stream",
     "text": [
      "                                       Results: Ordinary least squares\n",
      "=============================================================================================================\n",
      "Model:                           OLS                          Adj. R-squared (uncentered):         0.806     \n",
      "Dependent Variable:              opening_wide_revenue         AIC:                                 26853.1654\n",
      "Date:                            2024-11-07 16:41             BIC:                                 26885.3549\n",
      "No. Observations:                734                          Log-Likelihood:                      -13420.   \n",
      "Df Model:                        7                            F-statistic:                         437.4     \n",
      "Df Residuals:                    727                          Prob (F-statistic):                  1.06e-255 \n",
      "R-squared (uncentered):          0.808                        Scale:                               4.4868e+14\n",
      "-------------------------------------------------------------------------------------------------------------\n",
      "                                             Coef.       Std.Err.      t    P>|t|     [0.025        0.975]   \n",
      "-------------------------------------------------------------------------------------------------------------\n",
      "budget                                          0.2047       0.0175 11.6638 0.0000       0.1702        0.2391\n",
      "wikipedia_pre_release_cumulative_views         15.2997       1.2587 12.1555 0.0000      12.8287       17.7708\n",
      "sum_crew_box_office                             0.0006       0.0002  3.9478 0.0001       0.0003        0.0009\n",
      "sum_cast_box_office                             0.0023       0.0005  4.7476 0.0000       0.0013        0.0032\n",
      "running_time                              -144809.9591   24716.6660 -5.8588 0.0000 -193334.5193   -96285.3990\n",
      "in_franchise                             11123874.4443 1768568.3019  6.2898 0.0000 7651763.8027 14595985.0859\n",
      "metacritic_before_wide_friday_calculated   156761.0027   44974.5943  3.4855 0.0005   68465.4207   245056.5848\n",
      "-------------------------------------------------------------------------------------------------------------\n",
      "Omnibus:                          332.582                    Durbin-Watson:                       1.893      \n",
      "Prob(Omnibus):                    0.000                      Jarque-Bera (JB):                    2772.687   \n",
      "Skew:                             1.839                      Prob(JB):                            0.000      \n",
      "Kurtosis:                         11.782                     Condition No.:                       25012083171\n",
      "=============================================================================================================\n",
      "Notes:\n",
      "[1] R² is computed without centering (uncentered) since the                 model does not contain a\n",
      "constant.\n",
      "[2] Standard Errors assume that the covariance matrix of the errors is correctly specified.\n",
      "[3] The condition number is large, 2.5e+10. This might indicate                that there are strong\n",
      "multicollinearity or other numerical                problems.\n"
     ]
    }
   ],
   "source": [
    "relevant_features = [\n",
    "    \"budget\",\n",
    "    # \"director_median_box_office\",\n",
    "    # \"director_mean_box_office\",\n",
    "    # \"weighted_crew_median_box_office\",\n",
    "    # \"weighted_crew_mean_box_office\",\n",
    "    # \"weighted_cast_mean_box_office\",\n",
    "    \"wikipedia_pre_release_cumulative_views\",\n",
    "    \"sum_crew_box_office\",\n",
    "    \"sum_cast_box_office\",\n",
    "    # \"wikipedia_pre_release_monday_views\",\n",
    "    # \"wikipedia_pre_release_week_monday\",\n",
    "    # \"wikipedia_pre_release_three_monday\",\n",
    "    # \"genre_Horror\",\n",
    "    # \"mpaa_rating_PG-13\",\n",
    "    # \"mpaa_rating_R\",\n",
    "    # \"source_Original Screenplay\",\n",
    "    # \"production_method_Digital Animation\",\n",
    "    # \"distributor_slug_Sony-Pictures\",\n",
    "    # \"distributor_slug_Warner-Bros\",\n",
    "    \"running_time\",\n",
    "    # \"metacritic_score\",\n",
    "    \"in_franchise\",\n",
    "    # \"metacritic_review_count\",\n",
    "    # \"metacritic_score_calculated\",\n",
    "    # \"metacritic_monday_before_wide_friday_calculated\",\n",
    "    \"metacritic_before_wide_friday_calculated\",\n",
    "    # \"metacritic_before_first_day_calculated\"\n",
    "]\n",
    "\n",
    "# make an MLR with these features\n",
    "X_train_mlr = X_train_dummies[relevant_features]\n",
    "\n",
    "model_mlr = OLS(y_train, X_train_mlr)\n",
    "\n",
    "results_mlr = model_mlr.fit()\n",
    "\n",
    "print(results_mlr.summary2(float_format=millions))"
   ]
  },
  {
   "cell_type": "code",
   "execution_count": 13,
   "metadata": {},
   "outputs": [
    {
     "data": {
      "application/vnd.plotly.v1+json": {
       "config": {
        "plotlyServerURL": "https://plot.ly"
       },
       "data": [
        {
         "hovertemplate": "<b>%{hovertext}</b><br><br>mpaa_rating=PG-13<br>Actual Opening Weekend Revenue (Millions)=%{x}<br>Predicted Opening Weekend Revenue (Millions)=%{y}<extra></extra>",
         "hovertext": [
          "80 for Brady",
          "Ant-Man and the Wasp: Quantumania",
          "Jesus Revolution",
          "Creed III",
          "65",
          "Shazam! Fury of the Gods",
          "His Only Son",
          "Dungeons & Dragons: Honor Among Thieves",
          "Are You There God? It’s Me, Margaret",
          "Big George Foreman: The Miraculous Story of the Once and Future Heavyweight Champion of the World",
          "Guardians of the Galaxy Vol 3",
          "Fast X",
          "Transformers: Rise of the Beasts",
          "The Flash",
          "Indiana Jones and the Dial of Destiny",
          "Sound of Freedom",
          "Insidious: The Red Door",
          "Barbie",
          "Haunted Mansion",
          "Meg 2: The Trench",
          "Blue Beetle",
          "The Creator",
          "Five Nights at Freddy’s",
          "The Marvels",
          "Next Goal Wins",
          "The Hunger Games: The Ballad of Songbirds & Snakes",
          "Godzilla Minus One (ゴジラ最新作)",
          "Aquaman and the Lost Kingdom",
          "Mean Girls",
          "Argylle",
          "Madame Web",
          "Dune: Part Two",
          "Cabrini",
          "Imaginary",
          "Arthur the King",
          "Ghostbusters: Frozen Empire",
          "Godzilla x Kong: The New Empire",
          "Tarot",
          "The Fall Guy",
          "Kingdom of the Planet of the Apes",
          "The Watchers",
          "A Quiet Place: Day One",
          "Sound of Hope: The Story of Possum Trot",
          "Fly Me to the Moon",
          "Twisters",
          "It Ends With Us",
          "Reagan",
          "Beetlejuice Beetlejuice"
         ],
         "legendgroup": "PG-13",
         "marker": {
          "color": "#636efa",
          "symbol": "circle"
         },
         "mode": "markers",
         "name": "PG-13",
         "orientation": "v",
         "showlegend": true,
         "type": "scatter",
         "x": [
          12.70164,
          106.10965,
          15.882067,
          58.370007,
          12.328361,
          30.111158,
          5.50107,
          37.205784,
          6.739037,
          2.925364,
          118.414021,
          67.01741,
          61.045464,
          55.043679,
          60.368101,
          19.680879,
          33.013036,
          162.022044,
          24.082475,
          30.002735,
          25.030225,
          14.079512,
          80.00172,
          46.110859,
          2.500295,
          44.607143,
          11.419975,
          27.686211,
          28.635307,
          17.47354,
          15.33586,
          82.505391,
          7.16852,
          9.912713,
          7.633898,
          45.004673,
          80.006561,
          6.503012,
          27.747035,
          58.400788,
          7.003537,
          52.202495,
          3.078758,
          9.426615,
          81.251415,
          50.016652,
          7.65072,
          111.003345
         ],
         "xaxis": "x",
         "y": [
          7.9324724510880955,
          104.78123045818027,
          -1.7708686300733425,
          43.08188019501671,
          17.00419188145125,
          58.12592840206926,
          -15.252206968963879,
          38.045121294150846,
          10.831232712428983,
          -1.1175419415928907,
          116.97934919993155,
          115.15734240062795,
          71.98291911887705,
          100.35955114694691,
          140.91327113611248,
          2.7908518001464437,
          24.66221321138207,
          97.40851134851968,
          50.1072015944978,
          41.39464821660251,
          57.02546210811974,
          33.322961187391634,
          32.82115285985944,
          103.69230391008965,
          3.990351832832843,
          38.395288002765206,
          21.30474886290906,
          77.29759820762916,
          15.721886105506966,
          49.87338187183687,
          40.118247640262176,
          88.17247447850126,
          2.9260057823021914,
          -1.5892005897505908,
          2.8172727093362435,
          41.32438924545002,
          69.57275229680694,
          -4.563900747241521,
          45.01356695474672,
          67.17821520379779,
          10.75533597719343,
          39.65441583260141,
          -15.017319279592884,
          25.21992069507031,
          60.134296127963495,
          4.9386071701788605,
          -1.189009468546439,
          56.20289866429476
         ],
         "yaxis": "y"
        },
        {
         "hovertemplate": "<b>%{hovertext}</b><br><br>mpaa_rating=R<br>Actual Opening Weekend Revenue (Millions)=%{x}<br>Predicted Opening Weekend Revenue (Millions)=%{y}<extra></extra>",
         "hovertext": [
          "Knock at the Cabin",
          "Operation Fortune: Ruse de guerre",
          "Scream VI",
          "John Wick: Chapter 4",
          "Renfield",
          "The Pope’s Exorcist",
          "Beau is Afraid",
          "The Machine",
          "No Hard Feelings",
          "Oppenheimer",
          "Talk To Me",
          "The Last Voyage of the Demeter",
          "Strays",
          "Dumb Money",
          "Expend4bles",
          "Saw X",
          "The Exorcist: Believer",
          "Killers of the Flower Moon",
          "Priscilla",
          "Thanksgiving",
          "Napoleon",
          "American Fiction",
          "The Iron Claw",
          "Anyone But You",
          "Ferrari",
          "Civil War",
          "Abigail",
          "Challengers",
          "The Strangers: Chapter 1",
          "Furiosa: A Mad Max Saga",
          "Bad Boys: Ride or Die",
          "Horizon: An American Saga Chapter 1",
          "Deadpool & Wolverine",
          "Alien: Romulus",
          "The Crow",
          "Speak No Evil"
         ],
         "legendgroup": "R",
         "marker": {
          "color": "#EF553B",
          "symbol": "circle"
         },
         "mode": "markers",
         "name": "R",
         "orientation": "v",
         "showlegend": true,
         "type": "scatter",
         "x": [
          14.12717,
          3.140214,
          44.44727,
          73.81795,
          8.026475,
          9.006368,
          2.661957,
          5.000545,
          15.00277,
          82.45542,
          10.43172,
          6.50495,
          8.24781,
          3.325504,
          8.039021,
          18.309301,
          26.4976,
          23.253655,
          5.040003,
          10.306272,
          20.638887,
          1.755364,
          4.86837,
          6.000344,
          3.921773,
          25.537368,
          10.29711,
          15.011061,
          11.825058,
          26.326462,
          56.527324,
          11.052561,
          211.435291,
          42.003361,
          4.644666,
          11.397595
         ],
         "xaxis": "x",
         "y": [
          16.24531295026332,
          13.182490809285941,
          30.422793370218415,
          61.97997748001726,
          26.543467340938307,
          6.639285249207183,
          -0.003662995808303356,
          -8.746912736593142,
          18.99871271815636,
          134.22778733848543,
          -5.833501667554885,
          11.010026867652494,
          19.759895628923044,
          6.214955597812919,
          34.820832552396936,
          19.80195784293197,
          23.63982594589027,
          67.19213578432064,
          5.964015434048794,
          21.385119111196772,
          57.09679756662624,
          6.55765776837129,
          13.378380608380935,
          7.801732127551832,
          27.28101407569111,
          18.461557111974727,
          15.737804735150045,
          26.949189746179975,
          11.378648379599534,
          62.158756129540755,
          39.99096548467658,
          2.6270971603135242,
          114.42606721312804,
          49.75911186225678,
          7.615726689023829,
          13.416684170166087
         ],
         "yaxis": "y"
        },
        {
         "hovertemplate": "<b>%{hovertext}</b><br><br>mpaa_rating=PG<br>Actual Opening Weekend Revenue (Millions)=%{x}<br>Predicted Opening Weekend Revenue (Millions)=%{y}<extra></extra>",
         "hovertext": [
          "The Super Mario Bros. Movie",
          "The Little Mermaid",
          "Spider-Man: Across the Spider-Verse",
          "Elemental",
          "Ruby Gillman, Teenage Kraken",
          "Teenage Mutant Ninja Turtles: Mutant Mayhem",
          "PAW Patrol: The Mighty Movie",
          "Journey to Bethlehem",
          "Trolls Band Together",
          "Wish",
          "Wonka",
          "Migration",
          "Kung Fu Panda 4",
          "Unsung Hero",
          "IF",
          "The Garfield Movie",
          "Inside Out 2",
          "Despicable Me 4",
          "Harold and the Purple Crayon"
         ],
         "legendgroup": "PG",
         "marker": {
          "color": "#00cc96",
          "symbol": "circle"
         },
         "mode": "markers",
         "name": "PG",
         "orientation": "v",
         "showlegend": true,
         "type": "scatter",
         "x": [
          146.361865,
          95.57804,
          120.663589,
          29.602429,
          5.50099,
          28.007544,
          22.764354,
          2.400446,
          30.002525,
          19.698228,
          39.0058,
          12.453275,
          57.989905,
          7.731539,
          33.715801,
          24.006629,
          154.201673,
          75.00921,
          6.003197
         ],
         "xaxis": "x",
         "y": [
          62.97034213634039,
          85.7424636812314,
          63.942561839556504,
          54.641453828101355,
          19.500925596261126,
          25.17743226795514,
          13.989861057691854,
          -6.565967769245766,
          38.67349337745204,
          58.610460183645635,
          67.08501218860997,
          20.362591275727944,
          49.33694563035053,
          -5.9707908602201405,
          33.38693834925789,
          33.11015179108601,
          83.75734453997464,
          62.21327344638591,
          9.549932288468678
         ],
         "yaxis": "y"
        },
        {
         "line": {
          "color": "red"
         },
         "mode": "lines",
         "showlegend": false,
         "type": "scatter",
         "x": [
          0,
          200
         ],
         "y": [
          0,
          200
         ]
        }
       ],
       "layout": {
        "legend": {
         "title": {
          "text": "mpaa_rating"
         },
         "tracegroupgap": 0
        },
        "template": {
         "data": {
          "bar": [
           {
            "error_x": {
             "color": "#2a3f5f"
            },
            "error_y": {
             "color": "#2a3f5f"
            },
            "marker": {
             "line": {
              "color": "#E5ECF6",
              "width": 0.5
             },
             "pattern": {
              "fillmode": "overlay",
              "size": 10,
              "solidity": 0.2
             }
            },
            "type": "bar"
           }
          ],
          "barpolar": [
           {
            "marker": {
             "line": {
              "color": "#E5ECF6",
              "width": 0.5
             },
             "pattern": {
              "fillmode": "overlay",
              "size": 10,
              "solidity": 0.2
             }
            },
            "type": "barpolar"
           }
          ],
          "carpet": [
           {
            "aaxis": {
             "endlinecolor": "#2a3f5f",
             "gridcolor": "white",
             "linecolor": "white",
             "minorgridcolor": "white",
             "startlinecolor": "#2a3f5f"
            },
            "baxis": {
             "endlinecolor": "#2a3f5f",
             "gridcolor": "white",
             "linecolor": "white",
             "minorgridcolor": "white",
             "startlinecolor": "#2a3f5f"
            },
            "type": "carpet"
           }
          ],
          "choropleth": [
           {
            "colorbar": {
             "outlinewidth": 0,
             "ticks": ""
            },
            "type": "choropleth"
           }
          ],
          "contour": [
           {
            "colorbar": {
             "outlinewidth": 0,
             "ticks": ""
            },
            "colorscale": [
             [
              0,
              "#0d0887"
             ],
             [
              0.1111111111111111,
              "#46039f"
             ],
             [
              0.2222222222222222,
              "#7201a8"
             ],
             [
              0.3333333333333333,
              "#9c179e"
             ],
             [
              0.4444444444444444,
              "#bd3786"
             ],
             [
              0.5555555555555556,
              "#d8576b"
             ],
             [
              0.6666666666666666,
              "#ed7953"
             ],
             [
              0.7777777777777778,
              "#fb9f3a"
             ],
             [
              0.8888888888888888,
              "#fdca26"
             ],
             [
              1,
              "#f0f921"
             ]
            ],
            "type": "contour"
           }
          ],
          "contourcarpet": [
           {
            "colorbar": {
             "outlinewidth": 0,
             "ticks": ""
            },
            "type": "contourcarpet"
           }
          ],
          "heatmap": [
           {
            "colorbar": {
             "outlinewidth": 0,
             "ticks": ""
            },
            "colorscale": [
             [
              0,
              "#0d0887"
             ],
             [
              0.1111111111111111,
              "#46039f"
             ],
             [
              0.2222222222222222,
              "#7201a8"
             ],
             [
              0.3333333333333333,
              "#9c179e"
             ],
             [
              0.4444444444444444,
              "#bd3786"
             ],
             [
              0.5555555555555556,
              "#d8576b"
             ],
             [
              0.6666666666666666,
              "#ed7953"
             ],
             [
              0.7777777777777778,
              "#fb9f3a"
             ],
             [
              0.8888888888888888,
              "#fdca26"
             ],
             [
              1,
              "#f0f921"
             ]
            ],
            "type": "heatmap"
           }
          ],
          "heatmapgl": [
           {
            "colorbar": {
             "outlinewidth": 0,
             "ticks": ""
            },
            "colorscale": [
             [
              0,
              "#0d0887"
             ],
             [
              0.1111111111111111,
              "#46039f"
             ],
             [
              0.2222222222222222,
              "#7201a8"
             ],
             [
              0.3333333333333333,
              "#9c179e"
             ],
             [
              0.4444444444444444,
              "#bd3786"
             ],
             [
              0.5555555555555556,
              "#d8576b"
             ],
             [
              0.6666666666666666,
              "#ed7953"
             ],
             [
              0.7777777777777778,
              "#fb9f3a"
             ],
             [
              0.8888888888888888,
              "#fdca26"
             ],
             [
              1,
              "#f0f921"
             ]
            ],
            "type": "heatmapgl"
           }
          ],
          "histogram": [
           {
            "marker": {
             "pattern": {
              "fillmode": "overlay",
              "size": 10,
              "solidity": 0.2
             }
            },
            "type": "histogram"
           }
          ],
          "histogram2d": [
           {
            "colorbar": {
             "outlinewidth": 0,
             "ticks": ""
            },
            "colorscale": [
             [
              0,
              "#0d0887"
             ],
             [
              0.1111111111111111,
              "#46039f"
             ],
             [
              0.2222222222222222,
              "#7201a8"
             ],
             [
              0.3333333333333333,
              "#9c179e"
             ],
             [
              0.4444444444444444,
              "#bd3786"
             ],
             [
              0.5555555555555556,
              "#d8576b"
             ],
             [
              0.6666666666666666,
              "#ed7953"
             ],
             [
              0.7777777777777778,
              "#fb9f3a"
             ],
             [
              0.8888888888888888,
              "#fdca26"
             ],
             [
              1,
              "#f0f921"
             ]
            ],
            "type": "histogram2d"
           }
          ],
          "histogram2dcontour": [
           {
            "colorbar": {
             "outlinewidth": 0,
             "ticks": ""
            },
            "colorscale": [
             [
              0,
              "#0d0887"
             ],
             [
              0.1111111111111111,
              "#46039f"
             ],
             [
              0.2222222222222222,
              "#7201a8"
             ],
             [
              0.3333333333333333,
              "#9c179e"
             ],
             [
              0.4444444444444444,
              "#bd3786"
             ],
             [
              0.5555555555555556,
              "#d8576b"
             ],
             [
              0.6666666666666666,
              "#ed7953"
             ],
             [
              0.7777777777777778,
              "#fb9f3a"
             ],
             [
              0.8888888888888888,
              "#fdca26"
             ],
             [
              1,
              "#f0f921"
             ]
            ],
            "type": "histogram2dcontour"
           }
          ],
          "mesh3d": [
           {
            "colorbar": {
             "outlinewidth": 0,
             "ticks": ""
            },
            "type": "mesh3d"
           }
          ],
          "parcoords": [
           {
            "line": {
             "colorbar": {
              "outlinewidth": 0,
              "ticks": ""
             }
            },
            "type": "parcoords"
           }
          ],
          "pie": [
           {
            "automargin": true,
            "type": "pie"
           }
          ],
          "scatter": [
           {
            "fillpattern": {
             "fillmode": "overlay",
             "size": 10,
             "solidity": 0.2
            },
            "type": "scatter"
           }
          ],
          "scatter3d": [
           {
            "line": {
             "colorbar": {
              "outlinewidth": 0,
              "ticks": ""
             }
            },
            "marker": {
             "colorbar": {
              "outlinewidth": 0,
              "ticks": ""
             }
            },
            "type": "scatter3d"
           }
          ],
          "scattercarpet": [
           {
            "marker": {
             "colorbar": {
              "outlinewidth": 0,
              "ticks": ""
             }
            },
            "type": "scattercarpet"
           }
          ],
          "scattergeo": [
           {
            "marker": {
             "colorbar": {
              "outlinewidth": 0,
              "ticks": ""
             }
            },
            "type": "scattergeo"
           }
          ],
          "scattergl": [
           {
            "marker": {
             "colorbar": {
              "outlinewidth": 0,
              "ticks": ""
             }
            },
            "type": "scattergl"
           }
          ],
          "scattermapbox": [
           {
            "marker": {
             "colorbar": {
              "outlinewidth": 0,
              "ticks": ""
             }
            },
            "type": "scattermapbox"
           }
          ],
          "scatterpolar": [
           {
            "marker": {
             "colorbar": {
              "outlinewidth": 0,
              "ticks": ""
             }
            },
            "type": "scatterpolar"
           }
          ],
          "scatterpolargl": [
           {
            "marker": {
             "colorbar": {
              "outlinewidth": 0,
              "ticks": ""
             }
            },
            "type": "scatterpolargl"
           }
          ],
          "scatterternary": [
           {
            "marker": {
             "colorbar": {
              "outlinewidth": 0,
              "ticks": ""
             }
            },
            "type": "scatterternary"
           }
          ],
          "surface": [
           {
            "colorbar": {
             "outlinewidth": 0,
             "ticks": ""
            },
            "colorscale": [
             [
              0,
              "#0d0887"
             ],
             [
              0.1111111111111111,
              "#46039f"
             ],
             [
              0.2222222222222222,
              "#7201a8"
             ],
             [
              0.3333333333333333,
              "#9c179e"
             ],
             [
              0.4444444444444444,
              "#bd3786"
             ],
             [
              0.5555555555555556,
              "#d8576b"
             ],
             [
              0.6666666666666666,
              "#ed7953"
             ],
             [
              0.7777777777777778,
              "#fb9f3a"
             ],
             [
              0.8888888888888888,
              "#fdca26"
             ],
             [
              1,
              "#f0f921"
             ]
            ],
            "type": "surface"
           }
          ],
          "table": [
           {
            "cells": {
             "fill": {
              "color": "#EBF0F8"
             },
             "line": {
              "color": "white"
             }
            },
            "header": {
             "fill": {
              "color": "#C8D4E3"
             },
             "line": {
              "color": "white"
             }
            },
            "type": "table"
           }
          ]
         },
         "layout": {
          "annotationdefaults": {
           "arrowcolor": "#2a3f5f",
           "arrowhead": 0,
           "arrowwidth": 1
          },
          "autotypenumbers": "strict",
          "coloraxis": {
           "colorbar": {
            "outlinewidth": 0,
            "ticks": ""
           }
          },
          "colorscale": {
           "diverging": [
            [
             0,
             "#8e0152"
            ],
            [
             0.1,
             "#c51b7d"
            ],
            [
             0.2,
             "#de77ae"
            ],
            [
             0.3,
             "#f1b6da"
            ],
            [
             0.4,
             "#fde0ef"
            ],
            [
             0.5,
             "#f7f7f7"
            ],
            [
             0.6,
             "#e6f5d0"
            ],
            [
             0.7,
             "#b8e186"
            ],
            [
             0.8,
             "#7fbc41"
            ],
            [
             0.9,
             "#4d9221"
            ],
            [
             1,
             "#276419"
            ]
           ],
           "sequential": [
            [
             0,
             "#0d0887"
            ],
            [
             0.1111111111111111,
             "#46039f"
            ],
            [
             0.2222222222222222,
             "#7201a8"
            ],
            [
             0.3333333333333333,
             "#9c179e"
            ],
            [
             0.4444444444444444,
             "#bd3786"
            ],
            [
             0.5555555555555556,
             "#d8576b"
            ],
            [
             0.6666666666666666,
             "#ed7953"
            ],
            [
             0.7777777777777778,
             "#fb9f3a"
            ],
            [
             0.8888888888888888,
             "#fdca26"
            ],
            [
             1,
             "#f0f921"
            ]
           ],
           "sequentialminus": [
            [
             0,
             "#0d0887"
            ],
            [
             0.1111111111111111,
             "#46039f"
            ],
            [
             0.2222222222222222,
             "#7201a8"
            ],
            [
             0.3333333333333333,
             "#9c179e"
            ],
            [
             0.4444444444444444,
             "#bd3786"
            ],
            [
             0.5555555555555556,
             "#d8576b"
            ],
            [
             0.6666666666666666,
             "#ed7953"
            ],
            [
             0.7777777777777778,
             "#fb9f3a"
            ],
            [
             0.8888888888888888,
             "#fdca26"
            ],
            [
             1,
             "#f0f921"
            ]
           ]
          },
          "colorway": [
           "#636efa",
           "#EF553B",
           "#00cc96",
           "#ab63fa",
           "#FFA15A",
           "#19d3f3",
           "#FF6692",
           "#B6E880",
           "#FF97FF",
           "#FECB52"
          ],
          "font": {
           "color": "#2a3f5f"
          },
          "geo": {
           "bgcolor": "white",
           "lakecolor": "white",
           "landcolor": "#E5ECF6",
           "showlakes": true,
           "showland": true,
           "subunitcolor": "white"
          },
          "hoverlabel": {
           "align": "left"
          },
          "hovermode": "closest",
          "mapbox": {
           "style": "light"
          },
          "paper_bgcolor": "white",
          "plot_bgcolor": "#E5ECF6",
          "polar": {
           "angularaxis": {
            "gridcolor": "white",
            "linecolor": "white",
            "ticks": ""
           },
           "bgcolor": "#E5ECF6",
           "radialaxis": {
            "gridcolor": "white",
            "linecolor": "white",
            "ticks": ""
           }
          },
          "scene": {
           "xaxis": {
            "backgroundcolor": "#E5ECF6",
            "gridcolor": "white",
            "gridwidth": 2,
            "linecolor": "white",
            "showbackground": true,
            "ticks": "",
            "zerolinecolor": "white"
           },
           "yaxis": {
            "backgroundcolor": "#E5ECF6",
            "gridcolor": "white",
            "gridwidth": 2,
            "linecolor": "white",
            "showbackground": true,
            "ticks": "",
            "zerolinecolor": "white"
           },
           "zaxis": {
            "backgroundcolor": "#E5ECF6",
            "gridcolor": "white",
            "gridwidth": 2,
            "linecolor": "white",
            "showbackground": true,
            "ticks": "",
            "zerolinecolor": "white"
           }
          },
          "shapedefaults": {
           "line": {
            "color": "#2a3f5f"
           }
          },
          "ternary": {
           "aaxis": {
            "gridcolor": "white",
            "linecolor": "white",
            "ticks": ""
           },
           "baxis": {
            "gridcolor": "white",
            "linecolor": "white",
            "ticks": ""
           },
           "bgcolor": "#E5ECF6",
           "caxis": {
            "gridcolor": "white",
            "linecolor": "white",
            "ticks": ""
           }
          },
          "title": {
           "x": 0.05
          },
          "xaxis": {
           "automargin": true,
           "gridcolor": "white",
           "linecolor": "white",
           "ticks": "",
           "title": {
            "standoff": 15
           },
           "zerolinecolor": "white",
           "zerolinewidth": 2
          },
          "yaxis": {
           "automargin": true,
           "gridcolor": "white",
           "linecolor": "white",
           "ticks": "",
           "title": {
            "standoff": 15
           },
           "zerolinecolor": "white",
           "zerolinewidth": 2
          }
         }
        },
        "title": {
         "text": "Actual vs Predicted Opening Weekend Revenue"
        },
        "xaxis": {
         "anchor": "y",
         "domain": [
          0,
          1
         ],
         "title": {
          "text": "Actual Opening Weekend Revenue (Millions)"
         }
        },
        "yaxis": {
         "anchor": "x",
         "domain": [
          0,
          1
         ],
         "title": {
          "text": "Predicted Opening Weekend Revenue (Millions)"
         }
        }
       }
      }
     },
     "metadata": {},
     "output_type": "display_data"
    }
   ],
   "source": [
    "# graph actual vs predicted\n",
    "y_pred_mlr = results_mlr.predict(X_test[relevant_features])\n",
    "\n",
    "results_df_mlr = pd.DataFrame({'predicted': y_pred_mlr, 'actual': y_test})\n",
    "\n",
    "results_df_mlr['predicted'] = results_df_mlr['predicted'] / 1000000\n",
    "results_df_mlr['actual'] = results_df_mlr['actual'] / 1000000\n",
    "results_df_mlr['title'] = X_test['title']\n",
    "results_df_mlr['source'] = X_test['source']\n",
    "results_df_mlr['distributor_slug'] = X_test['distributor_slug']\n",
    "results_df_mlr['genre'] = X_test['genre']\n",
    "results_df_mlr['creative_type'] = X_test['creative_type']\n",
    "results_df_mlr['production_method'] = X_test['production_method']\n",
    "results_df_mlr['mpaa_rating'] = X_test['mpaa_rating']\n",
    "\n",
    "# results_df_mlr.to_csv('mlr_results.csv', index=False)\n",
    "\n",
    "# Create the scatter plot\n",
    "fig = px.scatter(\n",
    "    results_df_mlr,\n",
    "    x='actual',\n",
    "    y='predicted',\n",
    "    color='mpaa_rating',\n",
    "    labels={\n",
    "        'actual': 'Actual Opening Weekend Revenue (Millions)',\n",
    "        'predicted': 'Predicted Opening Weekend Revenue (Millions)'\n",
    "    },\n",
    "    title='Actual vs Predicted Opening Weekend Revenue',\n",
    "    hover_name='title'\n",
    ")\n",
    "\n",
    "# Add the diagonal line\n",
    "fig.add_trace(\n",
    "    go.Scatter(\n",
    "        x=[0, 200],\n",
    "        y=[0, 200],\n",
    "        mode='lines',\n",
    "        line=dict(color='red'),\n",
    "        showlegend=False\n",
    "    )\n",
    ")\n",
    "\n",
    "# Show the plot\n",
    "fig.show()"
   ]
  },
  {
   "cell_type": "code",
   "execution_count": null,
   "metadata": {},
   "outputs": [
    {
     "name": "stdout",
     "output_type": "stream",
     "text": [
      "RMSE: 23369575.771865156\n",
      "                    Generalized Linear Model Regression Results                     \n",
      "====================================================================================\n",
      "Dep. Variable:     log_opening_wide_revenue   No. Observations:                  734\n",
      "Model:                                  GLM   Df Residuals:                      719\n",
      "Model Family:                      Gaussian   Df Model:                           14\n",
      "Link Function:                     Identity   Scale:                         0.37669\n",
      "Method:                                IRLS   Log-Likelihood:                -675.61\n",
      "Date:                      Thu, 07 Nov 2024   Deviance:                       270.84\n",
      "Time:                              16:41:32   Pearson chi2:                     271.\n",
      "No. Iterations:                           3   Pseudo R-squ. (CS):             0.8578\n",
      "Covariance Type:                  nonrobust                                         \n",
      "===================================================================================================================================================================================================\n",
      "                                                                                                                                      coef    std err          z      P>|z|      [0.025      0.975]\n",
      "---------------------------------------------------------------------------------------------------------------------------------------------------------------------------------------------------\n",
      "metacritic_before_wide_friday_calculated                                                                                            0.1969      0.023      8.745      0.000       0.153       0.241\n",
      "log_budget                                                                                                                          0.8793      0.021     41.052      0.000       0.837       0.921\n",
      "metacritic_before_wide_friday_calculated:log_budget                                                                                -0.0112      0.001     -8.456      0.000      -0.014      -0.009\n",
      "sqrt_wikipedia_pre_release_cumulative_views                                                                                         0.0272      0.005      5.353      0.000       0.017       0.037\n",
      "metacritic_before_wide_friday_calculated:sqrt_wikipedia_pre_release_cumulative_views                                               -0.0004   7.83e-05     -5.673      0.000      -0.001      -0.000\n",
      "log_budget:sqrt_wikipedia_pre_release_cumulative_views                                                                             -0.0015      0.000     -5.600      0.000      -0.002      -0.001\n",
      "metacritic_before_wide_friday_calculated:log_budget:sqrt_wikipedia_pre_release_cumulative_views                                  2.554e-05   4.22e-06      6.051      0.000    1.73e-05    3.38e-05\n",
      "weighted_crew_median_box_office                                                                                                  9.223e-07   1.24e-07      7.416      0.000    6.79e-07    1.17e-06\n",
      "metacritic_before_wide_friday_calculated:weighted_crew_median_box_office                                                        -1.559e-08   2.38e-09     -6.549      0.000   -2.03e-08   -1.09e-08\n",
      "log_budget:weighted_crew_median_box_office                                                                                      -5.028e-08   6.82e-09     -7.374      0.000   -6.36e-08   -3.69e-08\n",
      "metacritic_before_wide_friday_calculated:log_budget:weighted_crew_median_box_office                                              8.773e-10   1.27e-10      6.929      0.000    6.29e-10    1.13e-09\n",
      "sqrt_wikipedia_pre_release_cumulative_views:weighted_crew_median_box_office                                                     -1.841e-09   4.08e-10     -4.510      0.000   -2.64e-09   -1.04e-09\n",
      "metacritic_before_wide_friday_calculated:sqrt_wikipedia_pre_release_cumulative_views:weighted_crew_median_box_office             2.868e-11   6.01e-12      4.771      0.000    1.69e-11    4.05e-11\n",
      "log_budget:sqrt_wikipedia_pre_release_cumulative_views:weighted_crew_median_box_office                                           1.022e-10   2.13e-11      4.800      0.000    6.05e-11    1.44e-10\n",
      "metacritic_before_wide_friday_calculated:log_budget:sqrt_wikipedia_pre_release_cumulative_views:weighted_crew_median_box_office -1.607e-12   3.11e-13     -5.176      0.000   -2.22e-12   -9.99e-13\n",
      "weighted_cast_median_box_office                                                                                                   6.78e-09   3.63e-09      1.869      0.062   -3.29e-10    1.39e-08\n",
      "in_franchise                                                                                                                        0.5510      0.054     10.130      0.000       0.444       0.658\n",
      "top_5_trailer_views                                                                                                              6.592e-09   7.14e-10      9.230      0.000    5.19e-09    7.99e-09\n",
      "===================================================================================================================================================================================================\n"
     ]
    },
    {
     "name": "stderr",
     "output_type": "stream",
     "text": [
      "/tmp/ipykernel_120921/1117095422.py:17: PerformanceWarning:\n",
      "\n",
      "DataFrame is highly fragmented.  This is usually the result of calling `frame.insert` many times, which has poor performance.  Consider joining all columns at once using pd.concat(axis=1) instead. To get a de-fragmented frame, use `newframe = frame.copy()`\n",
      "\n",
      "/tmp/ipykernel_120921/1117095422.py:18: PerformanceWarning:\n",
      "\n",
      "DataFrame is highly fragmented.  This is usually the result of calling `frame.insert` many times, which has poor performance.  Consider joining all columns at once using pd.concat(axis=1) instead. To get a de-fragmented frame, use `newframe = frame.copy()`\n",
      "\n",
      "/tmp/ipykernel_120921/1117095422.py:19: PerformanceWarning:\n",
      "\n",
      "DataFrame is highly fragmented.  This is usually the result of calling `frame.insert` many times, which has poor performance.  Consider joining all columns at once using pd.concat(axis=1) instead. To get a de-fragmented frame, use `newframe = frame.copy()`\n",
      "\n",
      "/tmp/ipykernel_120921/1117095422.py:20: PerformanceWarning:\n",
      "\n",
      "DataFrame is highly fragmented.  This is usually the result of calling `frame.insert` many times, which has poor performance.  Consider joining all columns at once using pd.concat(axis=1) instead. To get a de-fragmented frame, use `newframe = frame.copy()`\n",
      "\n",
      "/tmp/ipykernel_120921/1117095422.py:21: PerformanceWarning:\n",
      "\n",
      "DataFrame is highly fragmented.  This is usually the result of calling `frame.insert` many times, which has poor performance.  Consider joining all columns at once using pd.concat(axis=1) instead. To get a de-fragmented frame, use `newframe = frame.copy()`\n",
      "\n",
      "/tmp/ipykernel_120921/1117095422.py:22: PerformanceWarning:\n",
      "\n",
      "DataFrame is highly fragmented.  This is usually the result of calling `frame.insert` many times, which has poor performance.  Consider joining all columns at once using pd.concat(axis=1) instead. To get a de-fragmented frame, use `newframe = frame.copy()`\n",
      "\n"
     ]
    }
   ],
   "source": [
    "# glm with metacritic interactions\n",
    "from statsmodels.api import GLM\n",
    "import statsmodels.formula.api as smf\n",
    "\n",
    "# combine x train and y train\n",
    "glm_df = X_train_dummies.copy()\n",
    "glm_df[\"opening_wide_revenue\"] = y_train\n",
    "\n",
    "# add log budget, log opening_wide_revenue, and log wikipedia_pre_release_cumulative_views\n",
    "glm_df[\"log_budget\"] = np.log(glm_df[\"budget\"])\n",
    "glm_df[\"log_budget_z\"] = glm_df[\"log_budget\"] - 8\n",
    "glm_df[\"log_opening_wide_revenue\"] = np.log(glm_df[\"opening_wide_revenue\"])\n",
    "glm_df[\"sqrt_wikipedia_pre_release_cumulative_views\"] = np.sqrt(glm_df[\"wikipedia_pre_release_cumulative_views\"])\n",
    "glm_df[\"sqrt_sum_crew_box_office\"] = np.sqrt(glm_df[\"sum_crew_box_office\"])\n",
    "glm_df[\"sqrt_sum_cast_box_office\"] = np.sqrt(glm_df[\"sum_cast_box_office\"])\n",
    "X_test[\"log_budget\"] = np.log(X_test[\"budget\"])\n",
    "X_test[\"log_budget_z\"] = X_test[\"log_budget\"] - 8\n",
    "X_test[\"sqrt_wikipedia_pre_release_cumulative_views\"] = np.sqrt(X_test[\"wikipedia_pre_release_cumulative_views\"])\n",
    "X_test[\"log_opening_wide_revenue\"] = np.log(y_test)\n",
    "X_test[\"sqrt_sum_crew_box_office\"] = np.sqrt(X_test[\"sum_crew_box_office\"])\n",
    "X_test[\"sqrt_sum_cast_box_office\"] = np.sqrt(X_test[\"sum_cast_box_office\"])\n",
    "\n",
    "# formula = \"log_opening_wide_revenue ~ 0 + sqrt_sum_cast_box_office * sqrt_sum_crew_box_office * in_franchise * log_budget * sqrt_wikipedia_pre_release_cumulative_views * metacritic_before_wide_friday_calculated + top_5_trailer_views\"\n",
    "formula = \"log_opening_wide_revenue ~ 0 + metacritic_before_wide_friday_calculated * log_budget * sqrt_wikipedia_pre_release_cumulative_views * weighted_crew_median_box_office + weighted_cast_median_box_office + in_franchise + top_5_trailer_views\"\n",
    "\n",
    "# \"metacritic_review_count\",\n",
    "    # \"metacritic_score_calculated\",\n",
    "    # \"metacritic_monday_before_wide_friday_calculated\",\n",
    "    # \"metacritic_before_wide_friday_calculated\",\n",
    "    # \"metacritic_before_first_day_calculated\"\n",
    "\n",
    "# add in the interactions\n",
    "model = smf.glm(formula=formula, data=glm_df).fit()\n",
    "\n",
    "pred_glm = model.predict(X_test)\n",
    "\n",
    "pred_glm = np.exp(pred_glm)\n",
    "\n",
    "print('RMSE:', root_mean_squared_error(y_test, pred_glm))\n",
    "print(model.summary())"
   ]
  },
  {
   "cell_type": "code",
   "execution_count": 15,
   "metadata": {},
   "outputs": [
    {
     "data": {
      "application/vnd.plotly.v1+json": {
       "config": {
        "plotlyServerURL": "https://plot.ly"
       },
       "data": [
        {
         "hovertemplate": "<b>%{hovertext}</b><br><br>genre=Comedy<br>Actual Opening Weekend Revenue (Millions)=%{x}<br>Predicted Opening Weekend Revenue (Millions)=%{y}<extra></extra>",
         "hovertext": [
          "80 for Brady",
          "Are You There God? It’s Me, Margaret",
          "No Hard Feelings",
          "Ruby Gillman, Teenage Kraken",
          "Barbie",
          "Haunted Mansion",
          "Strays",
          "Dumb Money",
          "Next Goal Wins",
          "American Fiction",
          "Kung Fu Panda 4",
          "Ghostbusters: Frozen Empire",
          "IF",
          "Beetlejuice Beetlejuice"
         ],
         "legendgroup": "Comedy",
         "marker": {
          "color": "#636efa",
          "symbol": "circle"
         },
         "mode": "markers",
         "name": "Comedy",
         "orientation": "v",
         "showlegend": true,
         "type": "scatter",
         "x": [
          12.70164,
          6.739037,
          15.00277,
          5.50099,
          162.022044,
          24.082475,
          8.24781,
          3.325504,
          2.500295,
          1.755364,
          57.989905,
          45.004673,
          33.715801,
          111.003345
         ],
         "xaxis": "x",
         "y": [
          7.618395237989595,
          8.873627399720716,
          10.993001225969794,
          14.675004602429638,
          177.57946387686482,
          19.99197979983602,
          13.565170236104299,
          9.0516032098148,
          8.059491746137043,
          10.021445222610268,
          37.48271141549692,
          23.856915442342817,
          20.17517679742316,
          43.27415168418372
         ],
         "yaxis": "y"
        },
        {
         "hovertemplate": "<b>%{hovertext}</b><br><br>genre=Thriller/Suspense<br>Actual Opening Weekend Revenue (Millions)=%{x}<br>Predicted Opening Weekend Revenue (Millions)=%{y}<extra></extra>",
         "hovertext": [
          "Knock at the Cabin",
          "65",
          "Sound of Freedom",
          "The Creator",
          "Twisters"
         ],
         "legendgroup": "Thriller/Suspense",
         "marker": {
          "color": "#EF553B",
          "symbol": "circle"
         },
         "mode": "markers",
         "name": "Thriller/Suspense",
         "orientation": "v",
         "showlegend": true,
         "type": "scatter",
         "x": [
          14.12717,
          12.328361,
          19.680879,
          14.079512,
          81.251415
         ],
         "xaxis": "x",
         "y": [
          14.45996835220132,
          12.173206927840464,
          6.860488259438248,
          18.373500581157508,
          49.88164007917384
         ],
         "yaxis": "y"
        },
        {
         "hovertemplate": "<b>%{hovertext}</b><br><br>genre=Action<br>Actual Opening Weekend Revenue (Millions)=%{x}<br>Predicted Opening Weekend Revenue (Millions)=%{y}<extra></extra>",
         "hovertext": [
          "Ant-Man and the Wasp: Quantumania",
          "Operation Fortune: Ruse de guerre",
          "Shazam! Fury of the Gods",
          "John Wick: Chapter 4",
          "Guardians of the Galaxy Vol 3",
          "Fast X",
          "The Machine",
          "Transformers: Rise of the Beasts",
          "The Flash",
          "Meg 2: The Trench",
          "Blue Beetle",
          "Expend4bles",
          "The Hunger Games: The Ballad of Songbirds & Snakes",
          "Godzilla Minus One (ゴジラ最新作)",
          "Aquaman and the Lost Kingdom",
          "Argylle",
          "Madame Web",
          "Dune: Part Two",
          "Godzilla x Kong: The New Empire",
          "Civil War",
          "The Fall Guy",
          "Kingdom of the Planet of the Apes",
          "Furiosa: A Mad Max Saga",
          "Bad Boys: Ride or Die",
          "Deadpool & Wolverine",
          "The Crow"
         ],
         "legendgroup": "Action",
         "marker": {
          "color": "#00cc96",
          "symbol": "circle"
         },
         "mode": "markers",
         "name": "Action",
         "orientation": "v",
         "showlegend": true,
         "type": "scatter",
         "x": [
          106.10965,
          3.140214,
          30.111158,
          73.81795,
          118.414021,
          67.01741,
          5.000545,
          61.045464,
          55.043679,
          30.002735,
          25.030225,
          8.039021,
          44.607143,
          11.419975,
          27.686211,
          17.47354,
          15.33586,
          82.505391,
          80.006561,
          25.537368,
          27.747035,
          58.400788,
          26.326462,
          56.527324,
          211.435291,
          4.644666
         ],
         "xaxis": "x",
         "y": [
          86.47320652157191,
          11.247608896001418,
          32.81934747694192,
          90.88697204094424,
          76.6545464121299,
          89.57012672010357,
          6.192950230399925,
          57.41605987699853,
          73.88488588086882,
          26.32697867469272,
          44.47396106357451,
          19.275091836210002,
          38.737746401200155,
          12.748473882699583,
          28.56986643548553,
          19.13232909767598,
          18.618590880133368,
          121.56240540431101,
          77.25741490032549,
          25.48501792846768,
          30.272022763915015,
          52.65573266129232,
          60.83570812163137,
          24.05953149701224,
          87.81903853063207,
          9.449224129145122
         ],
         "yaxis": "y"
        },
        {
         "hovertemplate": "<b>%{hovertext}</b><br><br>genre=Drama<br>Actual Opening Weekend Revenue (Millions)=%{x}<br>Predicted Opening Weekend Revenue (Millions)=%{y}<extra></extra>",
         "hovertext": [
          "Jesus Revolution",
          "Creed III",
          "His Only Son",
          "Big George Foreman: The Miraculous Story of the Once and Future Heavyweight Champion of the World",
          "Oppenheimer",
          "Priscilla",
          "Napoleon",
          "The Iron Claw",
          "Ferrari",
          "Cabrini",
          "Challengers",
          "Unsung Hero",
          "Sound of Hope: The Story of Possum Trot",
          "It Ends With Us",
          "Reagan"
         ],
         "legendgroup": "Drama",
         "marker": {
          "color": "#ab63fa",
          "symbol": "circle"
         },
         "mode": "markers",
         "name": "Drama",
         "orientation": "v",
         "showlegend": true,
         "type": "scatter",
         "x": [
          15.882067,
          58.370007,
          5.50107,
          2.925364,
          82.45542,
          5.040003,
          20.638887,
          4.86837,
          3.921773,
          7.16852,
          15.011061,
          7.731539,
          3.078758,
          50.016652,
          7.65072
         ],
         "xaxis": "x",
         "y": [
          7.49276175605604,
          31.96043010878371,
          0.08733347265456265,
          7.718405610247377,
          88.21025716761372,
          7.5743228615977465,
          34.34668554673457,
          8.635437029958913,
          14.481139517482028,
          9.025586103987168,
          18.262350819335982,
          5.077480220029151,
          6.274518972581342,
          11.291474088066316,
          7.275689117119579
         ],
         "yaxis": "y"
        },
        {
         "hovertemplate": "<b>%{hovertext}</b><br><br>genre=Horror<br>Actual Opening Weekend Revenue (Millions)=%{x}<br>Predicted Opening Weekend Revenue (Millions)=%{y}<extra></extra>",
         "hovertext": [
          "Scream VI",
          "The Pope’s Exorcist",
          "Beau is Afraid",
          "Insidious: The Red Door",
          "Talk To Me",
          "The Last Voyage of the Demeter",
          "Saw X",
          "The Exorcist: Believer",
          "Five Nights at Freddy’s",
          "Thanksgiving",
          "Imaginary",
          "Abigail",
          "Tarot",
          "The Strangers: Chapter 1",
          "The Watchers",
          "A Quiet Place: Day One",
          "Alien: Romulus",
          "Speak No Evil"
         ],
         "legendgroup": "Horror",
         "marker": {
          "color": "#FFA15A",
          "symbol": "circle"
         },
         "mode": "markers",
         "name": "Horror",
         "orientation": "v",
         "showlegend": true,
         "type": "scatter",
         "x": [
          44.44727,
          9.006368,
          2.661957,
          33.013036,
          10.43172,
          6.50495,
          18.309301,
          26.4976,
          80.00172,
          10.306272,
          9.912713,
          10.29711,
          6.503012,
          11.825058,
          7.003537,
          52.202495,
          42.003361,
          11.397595
         ],
         "xaxis": "x",
         "y": [
          29.989157248109716,
          9.03947599035229,
          9.906158787384404,
          16.50023422241451,
          10.953173675935405,
          11.494112997513012,
          16.65319793556051,
          20.12656530403609,
          27.981232045973453,
          16.01567958653448,
          16.115666065061127,
          10.618054536907502,
          3.9934111644905173,
          16.98846730920355,
          10.222225211031821,
          36.36428639301261,
          34.97682242095155,
          10.182009289682872
         ],
         "yaxis": "y"
        },
        {
         "hovertemplate": "<b>%{hovertext}</b><br><br>genre=Adventure<br>Actual Opening Weekend Revenue (Millions)=%{x}<br>Predicted Opening Weekend Revenue (Millions)=%{y}<extra></extra>",
         "hovertext": [
          "Dungeons & Dragons: Honor Among Thieves",
          "The Super Mario Bros. Movie",
          "Spider-Man: Across the Spider-Verse",
          "Elemental",
          "Indiana Jones and the Dial of Destiny",
          "Teenage Mutant Ninja Turtles: Mutant Mayhem",
          "PAW Patrol: The Mighty Movie",
          "The Marvels",
          "Trolls Band Together",
          "Wish",
          "Migration",
          "Arthur the King",
          "The Garfield Movie",
          "Inside Out 2",
          "Despicable Me 4",
          "Harold and the Purple Crayon"
         ],
         "legendgroup": "Adventure",
         "marker": {
          "color": "#19d3f3",
          "symbol": "circle"
         },
         "mode": "markers",
         "name": "Adventure",
         "orientation": "v",
         "showlegend": true,
         "type": "scatter",
         "x": [
          37.205784,
          146.361865,
          120.663589,
          29.602429,
          60.368101,
          28.007544,
          22.764354,
          46.110859,
          30.002525,
          19.698228,
          12.453275,
          7.633898,
          24.006629,
          154.201673,
          75.00921,
          6.003197
         ],
         "xaxis": "x",
         "y": [
          20.711547249827866,
          44.456824124233805,
          115.71183520241979,
          48.41948828439923,
          77.0603218595605,
          16.69254021460429,
          20.08493038706972,
          85.4093164358397,
          51.936889290322064,
          44.901505129523784,
          20.364934539685716,
          7.202205170259578,
          19.425737485960525,
          122.88661071494799,
          46.90093042033965,
          11.097430432190368
         ],
         "yaxis": "y"
        },
        {
         "hovertemplate": "<b>%{hovertext}</b><br><br>genre=Black Comedy<br>Actual Opening Weekend Revenue (Millions)=%{x}<br>Predicted Opening Weekend Revenue (Millions)=%{y}<extra></extra>",
         "hovertext": [
          "Renfield"
         ],
         "legendgroup": "Black Comedy",
         "marker": {
          "color": "#FF6692",
          "symbol": "circle"
         },
         "mode": "markers",
         "name": "Black Comedy",
         "orientation": "v",
         "showlegend": true,
         "type": "scatter",
         "x": [
          8.026475
         ],
         "xaxis": "x",
         "y": [
          19.033920100463714
         ],
         "yaxis": "y"
        },
        {
         "hovertemplate": "<b>%{hovertext}</b><br><br>genre=Musical<br>Actual Opening Weekend Revenue (Millions)=%{x}<br>Predicted Opening Weekend Revenue (Millions)=%{y}<extra></extra>",
         "hovertext": [
          "The Little Mermaid",
          "Journey to Bethlehem",
          "Wonka",
          "Mean Girls"
         ],
         "legendgroup": "Musical",
         "marker": {
          "color": "#B6E880",
          "symbol": "circle"
         },
         "mode": "markers",
         "name": "Musical",
         "orientation": "v",
         "showlegend": true,
         "type": "scatter",
         "x": [
          95.57804,
          2.400446,
          39.0058,
          28.635307
         ],
         "xaxis": "x",
         "y": [
          59.86769138193266,
          4.4624246343815726,
          56.36426168896228,
          10.599231954815375
         ],
         "yaxis": "y"
        },
        {
         "hovertemplate": "<b>%{hovertext}</b><br><br>genre=Western<br>Actual Opening Weekend Revenue (Millions)=%{x}<br>Predicted Opening Weekend Revenue (Millions)=%{y}<extra></extra>",
         "hovertext": [
          "Killers of the Flower Moon",
          "Horizon: An American Saga Chapter 1"
         ],
         "legendgroup": "Western",
         "marker": {
          "color": "#FF97FF",
          "symbol": "circle"
         },
         "mode": "markers",
         "name": "Western",
         "orientation": "v",
         "showlegend": true,
         "type": "scatter",
         "x": [
          23.253655,
          11.052561
         ],
         "xaxis": "x",
         "y": [
          60.265352427909626,
          9.455050281215872
         ],
         "yaxis": "y"
        },
        {
         "hovertemplate": "<b>%{hovertext}</b><br><br>genre=Romantic Comedy<br>Actual Opening Weekend Revenue (Millions)=%{x}<br>Predicted Opening Weekend Revenue (Millions)=%{y}<extra></extra>",
         "hovertext": [
          "Anyone But You",
          "Fly Me to the Moon"
         ],
         "legendgroup": "Romantic Comedy",
         "marker": {
          "color": "#FECB52",
          "symbol": "circle"
         },
         "mode": "markers",
         "name": "Romantic Comedy",
         "orientation": "v",
         "showlegend": true,
         "type": "scatter",
         "x": [
          6.000344,
          9.426615
         ],
         "xaxis": "x",
         "y": [
          8.736099533678212,
          12.324612109067745
         ],
         "yaxis": "y"
        },
        {
         "line": {
          "color": "red"
         },
         "mode": "lines",
         "showlegend": false,
         "type": "scatter",
         "x": [
          0,
          200
         ],
         "y": [
          0,
          200
         ]
        }
       ],
       "layout": {
        "legend": {
         "title": {
          "text": "genre"
         },
         "tracegroupgap": 0
        },
        "template": {
         "data": {
          "bar": [
           {
            "error_x": {
             "color": "#2a3f5f"
            },
            "error_y": {
             "color": "#2a3f5f"
            },
            "marker": {
             "line": {
              "color": "#E5ECF6",
              "width": 0.5
             },
             "pattern": {
              "fillmode": "overlay",
              "size": 10,
              "solidity": 0.2
             }
            },
            "type": "bar"
           }
          ],
          "barpolar": [
           {
            "marker": {
             "line": {
              "color": "#E5ECF6",
              "width": 0.5
             },
             "pattern": {
              "fillmode": "overlay",
              "size": 10,
              "solidity": 0.2
             }
            },
            "type": "barpolar"
           }
          ],
          "carpet": [
           {
            "aaxis": {
             "endlinecolor": "#2a3f5f",
             "gridcolor": "white",
             "linecolor": "white",
             "minorgridcolor": "white",
             "startlinecolor": "#2a3f5f"
            },
            "baxis": {
             "endlinecolor": "#2a3f5f",
             "gridcolor": "white",
             "linecolor": "white",
             "minorgridcolor": "white",
             "startlinecolor": "#2a3f5f"
            },
            "type": "carpet"
           }
          ],
          "choropleth": [
           {
            "colorbar": {
             "outlinewidth": 0,
             "ticks": ""
            },
            "type": "choropleth"
           }
          ],
          "contour": [
           {
            "colorbar": {
             "outlinewidth": 0,
             "ticks": ""
            },
            "colorscale": [
             [
              0,
              "#0d0887"
             ],
             [
              0.1111111111111111,
              "#46039f"
             ],
             [
              0.2222222222222222,
              "#7201a8"
             ],
             [
              0.3333333333333333,
              "#9c179e"
             ],
             [
              0.4444444444444444,
              "#bd3786"
             ],
             [
              0.5555555555555556,
              "#d8576b"
             ],
             [
              0.6666666666666666,
              "#ed7953"
             ],
             [
              0.7777777777777778,
              "#fb9f3a"
             ],
             [
              0.8888888888888888,
              "#fdca26"
             ],
             [
              1,
              "#f0f921"
             ]
            ],
            "type": "contour"
           }
          ],
          "contourcarpet": [
           {
            "colorbar": {
             "outlinewidth": 0,
             "ticks": ""
            },
            "type": "contourcarpet"
           }
          ],
          "heatmap": [
           {
            "colorbar": {
             "outlinewidth": 0,
             "ticks": ""
            },
            "colorscale": [
             [
              0,
              "#0d0887"
             ],
             [
              0.1111111111111111,
              "#46039f"
             ],
             [
              0.2222222222222222,
              "#7201a8"
             ],
             [
              0.3333333333333333,
              "#9c179e"
             ],
             [
              0.4444444444444444,
              "#bd3786"
             ],
             [
              0.5555555555555556,
              "#d8576b"
             ],
             [
              0.6666666666666666,
              "#ed7953"
             ],
             [
              0.7777777777777778,
              "#fb9f3a"
             ],
             [
              0.8888888888888888,
              "#fdca26"
             ],
             [
              1,
              "#f0f921"
             ]
            ],
            "type": "heatmap"
           }
          ],
          "heatmapgl": [
           {
            "colorbar": {
             "outlinewidth": 0,
             "ticks": ""
            },
            "colorscale": [
             [
              0,
              "#0d0887"
             ],
             [
              0.1111111111111111,
              "#46039f"
             ],
             [
              0.2222222222222222,
              "#7201a8"
             ],
             [
              0.3333333333333333,
              "#9c179e"
             ],
             [
              0.4444444444444444,
              "#bd3786"
             ],
             [
              0.5555555555555556,
              "#d8576b"
             ],
             [
              0.6666666666666666,
              "#ed7953"
             ],
             [
              0.7777777777777778,
              "#fb9f3a"
             ],
             [
              0.8888888888888888,
              "#fdca26"
             ],
             [
              1,
              "#f0f921"
             ]
            ],
            "type": "heatmapgl"
           }
          ],
          "histogram": [
           {
            "marker": {
             "pattern": {
              "fillmode": "overlay",
              "size": 10,
              "solidity": 0.2
             }
            },
            "type": "histogram"
           }
          ],
          "histogram2d": [
           {
            "colorbar": {
             "outlinewidth": 0,
             "ticks": ""
            },
            "colorscale": [
             [
              0,
              "#0d0887"
             ],
             [
              0.1111111111111111,
              "#46039f"
             ],
             [
              0.2222222222222222,
              "#7201a8"
             ],
             [
              0.3333333333333333,
              "#9c179e"
             ],
             [
              0.4444444444444444,
              "#bd3786"
             ],
             [
              0.5555555555555556,
              "#d8576b"
             ],
             [
              0.6666666666666666,
              "#ed7953"
             ],
             [
              0.7777777777777778,
              "#fb9f3a"
             ],
             [
              0.8888888888888888,
              "#fdca26"
             ],
             [
              1,
              "#f0f921"
             ]
            ],
            "type": "histogram2d"
           }
          ],
          "histogram2dcontour": [
           {
            "colorbar": {
             "outlinewidth": 0,
             "ticks": ""
            },
            "colorscale": [
             [
              0,
              "#0d0887"
             ],
             [
              0.1111111111111111,
              "#46039f"
             ],
             [
              0.2222222222222222,
              "#7201a8"
             ],
             [
              0.3333333333333333,
              "#9c179e"
             ],
             [
              0.4444444444444444,
              "#bd3786"
             ],
             [
              0.5555555555555556,
              "#d8576b"
             ],
             [
              0.6666666666666666,
              "#ed7953"
             ],
             [
              0.7777777777777778,
              "#fb9f3a"
             ],
             [
              0.8888888888888888,
              "#fdca26"
             ],
             [
              1,
              "#f0f921"
             ]
            ],
            "type": "histogram2dcontour"
           }
          ],
          "mesh3d": [
           {
            "colorbar": {
             "outlinewidth": 0,
             "ticks": ""
            },
            "type": "mesh3d"
           }
          ],
          "parcoords": [
           {
            "line": {
             "colorbar": {
              "outlinewidth": 0,
              "ticks": ""
             }
            },
            "type": "parcoords"
           }
          ],
          "pie": [
           {
            "automargin": true,
            "type": "pie"
           }
          ],
          "scatter": [
           {
            "fillpattern": {
             "fillmode": "overlay",
             "size": 10,
             "solidity": 0.2
            },
            "type": "scatter"
           }
          ],
          "scatter3d": [
           {
            "line": {
             "colorbar": {
              "outlinewidth": 0,
              "ticks": ""
             }
            },
            "marker": {
             "colorbar": {
              "outlinewidth": 0,
              "ticks": ""
             }
            },
            "type": "scatter3d"
           }
          ],
          "scattercarpet": [
           {
            "marker": {
             "colorbar": {
              "outlinewidth": 0,
              "ticks": ""
             }
            },
            "type": "scattercarpet"
           }
          ],
          "scattergeo": [
           {
            "marker": {
             "colorbar": {
              "outlinewidth": 0,
              "ticks": ""
             }
            },
            "type": "scattergeo"
           }
          ],
          "scattergl": [
           {
            "marker": {
             "colorbar": {
              "outlinewidth": 0,
              "ticks": ""
             }
            },
            "type": "scattergl"
           }
          ],
          "scattermapbox": [
           {
            "marker": {
             "colorbar": {
              "outlinewidth": 0,
              "ticks": ""
             }
            },
            "type": "scattermapbox"
           }
          ],
          "scatterpolar": [
           {
            "marker": {
             "colorbar": {
              "outlinewidth": 0,
              "ticks": ""
             }
            },
            "type": "scatterpolar"
           }
          ],
          "scatterpolargl": [
           {
            "marker": {
             "colorbar": {
              "outlinewidth": 0,
              "ticks": ""
             }
            },
            "type": "scatterpolargl"
           }
          ],
          "scatterternary": [
           {
            "marker": {
             "colorbar": {
              "outlinewidth": 0,
              "ticks": ""
             }
            },
            "type": "scatterternary"
           }
          ],
          "surface": [
           {
            "colorbar": {
             "outlinewidth": 0,
             "ticks": ""
            },
            "colorscale": [
             [
              0,
              "#0d0887"
             ],
             [
              0.1111111111111111,
              "#46039f"
             ],
             [
              0.2222222222222222,
              "#7201a8"
             ],
             [
              0.3333333333333333,
              "#9c179e"
             ],
             [
              0.4444444444444444,
              "#bd3786"
             ],
             [
              0.5555555555555556,
              "#d8576b"
             ],
             [
              0.6666666666666666,
              "#ed7953"
             ],
             [
              0.7777777777777778,
              "#fb9f3a"
             ],
             [
              0.8888888888888888,
              "#fdca26"
             ],
             [
              1,
              "#f0f921"
             ]
            ],
            "type": "surface"
           }
          ],
          "table": [
           {
            "cells": {
             "fill": {
              "color": "#EBF0F8"
             },
             "line": {
              "color": "white"
             }
            },
            "header": {
             "fill": {
              "color": "#C8D4E3"
             },
             "line": {
              "color": "white"
             }
            },
            "type": "table"
           }
          ]
         },
         "layout": {
          "annotationdefaults": {
           "arrowcolor": "#2a3f5f",
           "arrowhead": 0,
           "arrowwidth": 1
          },
          "autotypenumbers": "strict",
          "coloraxis": {
           "colorbar": {
            "outlinewidth": 0,
            "ticks": ""
           }
          },
          "colorscale": {
           "diverging": [
            [
             0,
             "#8e0152"
            ],
            [
             0.1,
             "#c51b7d"
            ],
            [
             0.2,
             "#de77ae"
            ],
            [
             0.3,
             "#f1b6da"
            ],
            [
             0.4,
             "#fde0ef"
            ],
            [
             0.5,
             "#f7f7f7"
            ],
            [
             0.6,
             "#e6f5d0"
            ],
            [
             0.7,
             "#b8e186"
            ],
            [
             0.8,
             "#7fbc41"
            ],
            [
             0.9,
             "#4d9221"
            ],
            [
             1,
             "#276419"
            ]
           ],
           "sequential": [
            [
             0,
             "#0d0887"
            ],
            [
             0.1111111111111111,
             "#46039f"
            ],
            [
             0.2222222222222222,
             "#7201a8"
            ],
            [
             0.3333333333333333,
             "#9c179e"
            ],
            [
             0.4444444444444444,
             "#bd3786"
            ],
            [
             0.5555555555555556,
             "#d8576b"
            ],
            [
             0.6666666666666666,
             "#ed7953"
            ],
            [
             0.7777777777777778,
             "#fb9f3a"
            ],
            [
             0.8888888888888888,
             "#fdca26"
            ],
            [
             1,
             "#f0f921"
            ]
           ],
           "sequentialminus": [
            [
             0,
             "#0d0887"
            ],
            [
             0.1111111111111111,
             "#46039f"
            ],
            [
             0.2222222222222222,
             "#7201a8"
            ],
            [
             0.3333333333333333,
             "#9c179e"
            ],
            [
             0.4444444444444444,
             "#bd3786"
            ],
            [
             0.5555555555555556,
             "#d8576b"
            ],
            [
             0.6666666666666666,
             "#ed7953"
            ],
            [
             0.7777777777777778,
             "#fb9f3a"
            ],
            [
             0.8888888888888888,
             "#fdca26"
            ],
            [
             1,
             "#f0f921"
            ]
           ]
          },
          "colorway": [
           "#636efa",
           "#EF553B",
           "#00cc96",
           "#ab63fa",
           "#FFA15A",
           "#19d3f3",
           "#FF6692",
           "#B6E880",
           "#FF97FF",
           "#FECB52"
          ],
          "font": {
           "color": "#2a3f5f"
          },
          "geo": {
           "bgcolor": "white",
           "lakecolor": "white",
           "landcolor": "#E5ECF6",
           "showlakes": true,
           "showland": true,
           "subunitcolor": "white"
          },
          "hoverlabel": {
           "align": "left"
          },
          "hovermode": "closest",
          "mapbox": {
           "style": "light"
          },
          "paper_bgcolor": "white",
          "plot_bgcolor": "#E5ECF6",
          "polar": {
           "angularaxis": {
            "gridcolor": "white",
            "linecolor": "white",
            "ticks": ""
           },
           "bgcolor": "#E5ECF6",
           "radialaxis": {
            "gridcolor": "white",
            "linecolor": "white",
            "ticks": ""
           }
          },
          "scene": {
           "xaxis": {
            "backgroundcolor": "#E5ECF6",
            "gridcolor": "white",
            "gridwidth": 2,
            "linecolor": "white",
            "showbackground": true,
            "ticks": "",
            "zerolinecolor": "white"
           },
           "yaxis": {
            "backgroundcolor": "#E5ECF6",
            "gridcolor": "white",
            "gridwidth": 2,
            "linecolor": "white",
            "showbackground": true,
            "ticks": "",
            "zerolinecolor": "white"
           },
           "zaxis": {
            "backgroundcolor": "#E5ECF6",
            "gridcolor": "white",
            "gridwidth": 2,
            "linecolor": "white",
            "showbackground": true,
            "ticks": "",
            "zerolinecolor": "white"
           }
          },
          "shapedefaults": {
           "line": {
            "color": "#2a3f5f"
           }
          },
          "ternary": {
           "aaxis": {
            "gridcolor": "white",
            "linecolor": "white",
            "ticks": ""
           },
           "baxis": {
            "gridcolor": "white",
            "linecolor": "white",
            "ticks": ""
           },
           "bgcolor": "#E5ECF6",
           "caxis": {
            "gridcolor": "white",
            "linecolor": "white",
            "ticks": ""
           }
          },
          "title": {
           "x": 0.05
          },
          "xaxis": {
           "automargin": true,
           "gridcolor": "white",
           "linecolor": "white",
           "ticks": "",
           "title": {
            "standoff": 15
           },
           "zerolinecolor": "white",
           "zerolinewidth": 2
          },
          "yaxis": {
           "automargin": true,
           "gridcolor": "white",
           "linecolor": "white",
           "ticks": "",
           "title": {
            "standoff": 15
           },
           "zerolinecolor": "white",
           "zerolinewidth": 2
          }
         }
        },
        "title": {
         "text": "Actual vs Predicted Opening Weekend Revenue"
        },
        "xaxis": {
         "anchor": "y",
         "domain": [
          0,
          1
         ],
         "title": {
          "text": "Actual Opening Weekend Revenue (Millions)"
         }
        },
        "yaxis": {
         "anchor": "x",
         "domain": [
          0,
          1
         ],
         "title": {
          "text": "Predicted Opening Weekend Revenue (Millions)"
         }
        }
       }
      }
     },
     "metadata": {},
     "output_type": "display_data"
    }
   ],
   "source": [
    "# print actual vs predicted\n",
    "\n",
    "results_df_glm = pd.DataFrame({'predicted': pred_glm, 'actual': y_test})\n",
    "\n",
    "results_df_glm['predicted'] = results_df_glm['predicted'] / 1000000\n",
    "results_df_glm['actual'] = results_df_glm['actual'] / 1000000\n",
    "results_df_glm['title'] = X_test['title']\n",
    "results_df_glm['source'] = X_test['source']\n",
    "results_df_glm['distributor_slug'] = X_test['distributor_slug']\n",
    "results_df_glm['genre'] = X_test['genre']\n",
    "results_df_glm['creative_type'] = X_test['creative_type']\n",
    "results_df_glm['production_method'] = X_test['production_method']\n",
    "results_df_glm['mpaa_rating'] = X_test['mpaa_rating']\n",
    "results_df_glm['metacritic_before_wide_friday_calculated'] = X_test['metacritic_before_wide_friday_calculated']\n",
    "results_df_glm['wikipedia_pre_release_cumulative_views'] = X_test['wikipedia_pre_release_cumulative_views']\n",
    "results_df_glm['budget'] = X_test['budget']\n",
    "results_df_glm['log_budget'] = X_test['log_budget']\n",
    "results_df_glm['log_opening_wide_revenue'] = X_test['log_opening_wide_revenue']\n",
    "results_df_glm['sqrt_wikipedia_pre_release_cumulative_views'] = X_test['sqrt_wikipedia_pre_release_cumulative_views']\n",
    "results_df_glm['weighted_cast_median_box_office'] = X_test['weighted_cast_median_box_office']\n",
    "results_df_glm['weighted_crew_median_box_office'] = X_test['weighted_crew_median_box_office']\n",
    "results_df_glm['weighted_crew_mean_box_office'] = X_test['weighted_crew_mean_box_office']\n",
    "results_df_glm['weighted_cast_mean_box_office'] = X_test['weighted_cast_mean_box_office']\n",
    "results_df_glm['sum_crew_box_office'] = X_test['sum_crew_box_office']\n",
    "results_df_glm['sum_cast_box_office'] = X_test['sum_cast_box_office']\n",
    "\n",
    "\n",
    "# results_df_glm.to_csv('glm_results.csv', index=False)\n",
    "\n",
    "# Create the scatter plot\n",
    "fig = px.scatter(\n",
    "    results_df_glm,\n",
    "    x='actual',\n",
    "    y='predicted',\n",
    "    color='genre',\n",
    "    labels={\n",
    "        'actual': 'Actual Opening Weekend Revenue (Millions)',\n",
    "        'predicted': 'Predicted Opening Weekend Revenue (Millions)'\n",
    "    },\n",
    "    title='Actual vs Predicted Opening Weekend Revenue',\n",
    "    hover_name='title'\n",
    ")\n",
    "\n",
    "# Add the diagonal line\n",
    "fig.add_trace(\n",
    "    go.Scatter(\n",
    "        x=[0, 200],\n",
    "        y=[0, 200],\n",
    "        mode='lines',\n",
    "        line=dict(color='red'),\n",
    "        showlegend=False\n",
    "    )\n",
    ")\n",
    "\n",
    "# Show the plot\n",
    "fig.show()"
   ]
  },
  {
   "cell_type": "code",
   "execution_count": 16,
   "metadata": {},
   "outputs": [],
   "source": [
    "# make some basic mlr\n",
    "relevant_features = [\"budget\"]\n",
    "X_train_basic1 = X_train_dummies[relevant_features]\n",
    "model_mlr = OLS(y_train, X_train_basic1)\n",
    "results_mlr = model_mlr.fit()\n",
    "basic1_pred = results_mlr.predict(X_test[relevant_features])\n",
    "\n",
    "relevant_features = [\"budget\", \"weighted_crew_median_box_office\"]\n",
    "X_train_basic2 = X_train_dummies[relevant_features]\n",
    "model_mlr = OLS(y_train, X_train_basic2)\n",
    "results_mlr = model_mlr.fit()\n",
    "basic2_pred = results_mlr.predict(X_test[relevant_features])\n",
    "\n",
    "relevant_features = [\"budget\", \"weighted_crew_median_box_office\", \"wikipedia_pre_release_cumulative_views\"]\n",
    "X_train_basic3 = X_train_dummies[relevant_features]\n",
    "model_mlr = OLS(y_train, X_train_basic3)\n",
    "results_mlr = model_mlr.fit()\n",
    "basic3_pred = results_mlr.predict(X_test[relevant_features])"
   ]
  },
  {
   "cell_type": "code",
   "execution_count": 17,
   "metadata": {},
   "outputs": [
    {
     "name": "stdout",
     "output_type": "stream",
     "text": [
      "Lasso RMSE: 28119563.34131167\n",
      "GAM RMSE: 37011801.5951995\n",
      "MLR RMSE: 27170381.11224103\n",
      "GLM RMSE: 23369575.771865156\n",
      "Basic1 RMSE: 36245477.195948176\n",
      "Basic2 RMSE: 34888735.25321222\n",
      "Basic3 RMSE: 30860003.70763353\n"
     ]
    }
   ],
   "source": [
    "# calculate the mse for each model\n",
    "\n",
    "mse_lasso = root_mean_squared_error(y_test, y_pred)\n",
    "mse_gam = root_mean_squared_error(y_test, y_pred_gam)\n",
    "mse_mlr = root_mean_squared_error(y_test, y_pred_mlr)\n",
    "mse_glm = root_mean_squared_error(y_test, pred_glm)\n",
    "mse_basic1 = root_mean_squared_error(y_test, basic1_pred)\n",
    "mse_basic2 = root_mean_squared_error(y_test, basic2_pred)\n",
    "mse_basic3 = root_mean_squared_error(y_test, basic3_pred)\n",
    "\n",
    "print('Lasso RMSE:', mse_lasso)\n",
    "print('GAM RMSE:', mse_gam)\n",
    "print('MLR RMSE:', mse_mlr)\n",
    "print('GLM RMSE:', mse_glm)\n",
    "print('Basic1 RMSE:', mse_basic1)\n",
    "print('Basic2 RMSE:', mse_basic2)\n",
    "print('Basic3 RMSE:', mse_basic3)"
   ]
  },
  {
   "cell_type": "markdown",
   "metadata": {},
   "source": [
    "kmodes, kmeans, standardize the variables for lasso, ridge regression, gam with less variables, train test split but 80/20 instead of time, get the rmse for in sample movies"
   ]
  }
 ],
 "metadata": {
  "kernelspec": {
   "display_name": "stat413class_kernel",
   "language": "python",
   "name": "stat413class_kernel"
  },
  "language_info": {
   "codemirror_mode": {
    "name": "ipython",
    "version": 3
   },
   "file_extension": ".py",
   "mimetype": "text/x-python",
   "name": "python",
   "nbconvert_exporter": "python",
   "pygments_lexer": "ipython3",
   "version": "3.12.5"
  }
 },
 "nbformat": 4,
 "nbformat_minor": 2
}
