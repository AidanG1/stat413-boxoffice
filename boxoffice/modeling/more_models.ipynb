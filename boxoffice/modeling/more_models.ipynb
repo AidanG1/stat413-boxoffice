{
 "cells": [
  {
   "cell_type": "code",
   "execution_count": 1,
   "metadata": {},
   "outputs": [
    {
     "name": "stdout",
     "output_type": "stream",
     "text": [
      "MOVIES_DB_PATH: boxoffice/db/data/data.sqlite\n",
      "MOVIES_DB_PATH: ../boxoffice/db/data/data.sqlite\n",
      "movies.csv exists, 1731906929.6094918, 1731906849.873322\n",
      "Reading from movies.csv\n",
      "Index([], dtype='object')\n"
     ]
    }
   ],
   "source": [
    "# imports\n",
    "import numpy as np\n",
    "import statsmodels.formula.api as smf\n",
    "from boxoffice.modeling.cleaned_data import X_train, y_train, X_test, y_test\n",
    "from sklearn.metrics import root_mean_squared_error\n",
    "import plotly.express as px\n",
    "import plotly.graph_objects as go\n",
    "import pandas as pd\n",
    "import seaborn as sns"
   ]
  },
  {
   "cell_type": "code",
   "execution_count": 62,
   "metadata": {},
   "outputs": [
    {
     "name": "stderr",
     "output_type": "stream",
     "text": [
      "/tmp/ipykernel_35894/853083721.py:7: PerformanceWarning:\n",
      "\n",
      "DataFrame is highly fragmented.  This is usually the result of calling `frame.insert` many times, which has poor performance.  Consider joining all columns at once using pd.concat(axis=1) instead. To get a de-fragmented frame, use `newframe = frame.copy()`\n",
      "\n",
      "/tmp/ipykernel_35894/853083721.py:11: PerformanceWarning:\n",
      "\n",
      "DataFrame is highly fragmented.  This is usually the result of calling `frame.insert` many times, which has poor performance.  Consider joining all columns at once using pd.concat(axis=1) instead. To get a de-fragmented frame, use `newframe = frame.copy()`\n",
      "\n"
     ]
    }
   ],
   "source": [
    "# add the new variables to the data\n",
    "X_train['opening_wide_revenue'] = y_train\n",
    "X_test['opening_wide_revenue'] = y_test\n",
    "X_train['log_opening_wide_revenue'] = np.log(y_train)\n",
    "X_test['log_opening_wide_revenue'] = np.log(y_test)\n",
    "X_train['sqrt_opening_wide_revenue'] = np.sqrt(y_train)\n",
    "X_test['sqrt_opening_wide_revenue'] = np.sqrt(y_test)\n",
    "X_train['log_budget'] = np.log(X_train['budget'])\n",
    "X_test['log_budget'] = np.log(X_test['budget'])\n",
    "X_train['sqrt_budget'] = np.sqrt(X_train['budget'])\n",
    "X_test['sqrt_budget'] = np.sqrt(X_test['budget'])\n",
    "X_train['sqrt_wikipedia_pre_release_cumulative_views'] = np.sqrt(X_train['wikipedia_pre_release_cumulative_views'])\n",
    "X_test['sqrt_wikipedia_pre_release_cumulative_views'] = np.sqrt(X_test['wikipedia_pre_release_cumulative_views'])\n",
    "X_train['log_wikipedia_pre_release_cumulative_views'] = np.log(X_train['wikipedia_pre_release_cumulative_views'] + 1)\n",
    "X_test['log_wikipedia_pre_release_cumulative_views'] = np.log(X_test['wikipedia_pre_release_cumulative_views'] + 1)\n",
    "X_train['sqrt_top_5_trailer_views'] = np.sqrt(X_train['top_5_trailer_views'])\n",
    "X_test['sqrt_top_5_trailer_views'] = np.sqrt(X_test['top_5_trailer_views'])\n",
    "X_train['log_top_5_trailer_views'] = np.log(X_train['top_5_trailer_views'])\n",
    "X_test['log_top_5_trailer_views'] = np.log(X_test['top_5_trailer_views'])\n",
    "X_train['not_friday_opener'] = X_train['release_day_of_week_non_preview'] != 4\n",
    "X_test['not_friday_opener'] = X_test['release_day_of_week_non_preview'] != 4"
   ]
  },
  {
   "cell_type": "code",
   "execution_count": 3,
   "metadata": {},
   "outputs": [],
   "source": [
    "# # write all movies with a log wikipedia pre release cumulative views of less than -5 to a txt\n",
    "# with open('low_wikipedia_pre_release_cumulative_views.txt', 'w') as f:\n",
    "#     for index, row in X_train.iterrows():\n",
    "#         if row['log_wikipedia_pre_release_cumulative_views'] < 2:\n",
    "#             f.write(f'{row['wikipedia_key']}\\n')\n",
    "#     for index, row in X_test.iterrows():\n",
    "#         if row['log_wikipedia_pre_release_cumulative_views'] < 2:\n",
    "#             f.write(f'{row['wikipedia_key']}\\n')"
   ]
  },
  {
   "cell_type": "code",
   "execution_count": null,
   "metadata": {},
   "outputs": [
    {
     "name": "stdout",
     "output_type": "stream",
     "text": [
      "['production_method', 'production_method_Digital_Animation', 'production_method_Live_Action', 'production_method_Stop_Motion_Animation']\n",
      "RMSE: 24202683.19539288\n",
      "                  Generalized Linear Model Regression Results                   \n",
      "================================================================================\n",
      "Dep. Variable:     opening_wide_revenue   No. Observations:                  677\n",
      "Model:                              GLM   Df Residuals:                      673\n",
      "Model Family:                  Gaussian   Df Model:                            3\n",
      "Link Function:                 Identity   Scale:                      3.0392e+14\n",
      "Method:                            IRLS   Log-Likelihood:                -12247.\n",
      "Date:                  Tue, 19 Nov 2024   Deviance:                   2.0454e+17\n",
      "Time:                          15:33:25   Pearson chi2:                 2.05e+17\n",
      "No. Iterations:                       3   Pseudo R-squ. (CS):             0.9813\n",
      "Covariance Type:              nonrobust                                         \n",
      "================================================================================================================================================================\n",
      "                                                                                                   coef    std err          z      P>|z|      [0.025      0.975]\n",
      "----------------------------------------------------------------------------------------------------------------------------------------------------------------\n",
      "top_5_trailer_views                                                                              0.2211      0.021     10.386      0.000       0.179       0.263\n",
      "budget                                                                                           0.1578      0.013     12.040      0.000       0.132       0.184\n",
      "wikipedia_pre_release_cumulative_views                                                           3.7631      1.596      2.358      0.018       0.635       6.892\n",
      "wikipedia_pre_release_cumulative_views:metacritic_before_wide_friday_calculated:in_franchise     0.2357      0.021     11.454      0.000       0.195       0.276\n",
      "================================================================================================================================================================\n"
     ]
    },
    {
     "data": {
      "application/vnd.plotly.v1+json": {
       "config": {
        "plotlyServerURL": "https://plot.ly"
       },
       "data": [
        {
         "hovertemplate": "<b>%{hovertext}</b><br><br>actual=%{x}<br>predicted=%{y}<br>extra=%{marker.color}<extra></extra>",
         "hovertext": [
          "The Transporter Refueled",
          "The Perfect Guy",
          "The Visit",
          "Maze Runner: The Scorch Trials",
          "Black Mass",
          "Everest",
          "Sicario",
          "The Intern",
          "The Green Inferno",
          "Hotel Transylvania 2",
          "The Walk",
          "The Martian",
          "Pan",
          "Steve Jobs",
          "Crimson Peak",
          "Woodlawn",
          "Bridge of Spies",
          "Goosebumps",
          "Paranormal Activity: The Ghost Dimension",
          "The Last Witch Hunter",
          "Burnt",
          "Our Brand is Crisis",
          "Spectre",
          "The Peanuts Movie",
          "Spotlight",
          "Love the Coopers",
          "The 33",
          "The Hunger Games: Mockingjay - Part 2",
          "The Night Before",
          "Secret in Their Eyes",
          "Creed",
          "The Good Dinosaur",
          "Krampus",
          "In the Heart of the Sea",
          "The Big Short",
          "Sisters",
          "Alvin and the Chipmunks: The Road Chip",
          "Star Wars Ep. VII: The Force Awakens",
          "Daddy’s Home",
          "Joy",
          "Concussion",
          "Point Break",
          "The Hateful Eight",
          "The Revenant",
          "The Forest",
          "Ride Along 2",
          "13 Hours: The Secret Soldiers of Benghazi",
          "Norm of the North",
          "The Boy",
          "Dirty Grandpa",
          "The 5th Wave",
          "Fifty Shades of Black",
          "Kung Fu Panda 3",
          "The Finest Hours",
          "Pride and Prejudice and Zombies",
          "Hail, Caesar!",
          "Zoolander 2",
          "How to be Single",
          "Deadpool",
          "Risen",
          "The Witch",
          "Race",
          "Triple 9",
          "Gods of Egypt",
          "Eddie the Eagle",
          "Zootopia",
          "London Has Fallen",
          "Whiskey Tango Foxtrot",
          "10 Cloverfield Lane",
          "The Brothers Grimsby",
          "Eye in the Sky",
          "The Young Messiah",
          "Miracles from Heaven",
          "The Divergent Series: Allegiant",
          "Batman v Superman: Dawn of Justice",
          "My Big Fat Greek Wedding 2",
          "God’s Not Dead 2",
          "Meet the Blacks",
          "The Boss",
          "Hardcore Henry",
          "The Jungle Book",
          "Barbershop: The Next Cut",
          "Criminal",
          "The Huntsman: Winter’s War",
          "Mother’s Day",
          "Ratchet and Clank",
          "Keanu",
          "Captain America: Civil War",
          "Money Monster",
          "The Nice Guys",
          "The Angry Birds Movie",
          "Neighbors 2: Sorority Rising",
          "X-Men: Apocalypse",
          "Alice Through the Looking Glass",
          "Teenage Mutant Ninja Turtles: Out of the Shadows",
          "Me Before You",
          "Popstar: Never Stop Never Stopping",
          "The Conjuring 2: The Enfield Poltergeist",
          "Warcraft",
          "Now You See Me 2",
          "Central Intelligence",
          "Finding Dory",
          "Independence Day: Resurgence",
          "The Shallows",
          "Free State of Jones",
          "The Purge: Election Year",
          "The Legend of Tarzan",
          "The BFG",
          "The Secret Life of Pets",
          "Mike and Dave Need Wedding Dates",
          "The Infiltrator",
          "Hillary’s America: The Secret History of the Democratic Party",
          "Ghostbusters",
          "Ice Age: Collision Course",
          "Star Trek Beyond",
          "Lights Out",
          "Nerve",
          "Jason Bourne",
          "Bad Moms",
          "Suicide Squad",
          "Nine Lives",
          "Sausage Party",
          "Florence Foster Jenkins",
          "Pete’s Dragon",
          "Hell or High Water",
          "Kubo and the Two Strings",
          "Ben-Hur",
          "War Dogs",
          "Mechanic: Resurrection",
          "Don’t Breathe",
          "The Light Between Oceans",
          "When the Bough Breaks",
          "Sully",
          "Blair Witch",
          "Snowden",
          "Bridget Jones’s Baby",
          "The Magnificent Seven",
          "Storks",
          "Queen of Katwe",
          "Miss Peregrine’s Home for Peculiar Children",
          "Deepwater Horizon",
          "Masterminds",
          "The Birth of a Nation",
          "The Girl on the Train",
          "Middle School: The Worst Years of My Life",
          "Kevin Hart: What Now?",
          "The Accountant",
          "Jack Reacher: Never Go Back",
          "Tyler Perry’s Boo! A Madea Halloween",
          "Ouija: Origin of Evil",
          "Keeping Up with the Joneses",
          "Moonlight",
          "Inferno",
          "Doctor Strange",
          "Trolls",
          "Hacksaw Ridge",
          "Almost Christmas",
          "Shut In",
          "Arrival",
          "Nocturnal Animals",
          "Manchester by the Sea",
          "Fantastic Beasts and Where to Find Them",
          "The Edge of Seventeen",
          "Allied",
          "Bad Santa 2",
          "Moana",
          "Lion",
          "Incarnate",
          "Office Christmas Party",
          "La La Land",
          "Rogue One: A Star Wars Story",
          "Collateral Beauty",
          "Sing",
          "Assassin’s Creed",
          "Passengers",
          "Patriots Day",
          "Why Him?",
          "Live by Night",
          "Hidden Figures",
          "Underworld: Blood Wars",
          "The Bye Bye Man",
          "Sleepless",
          "Monster Trucks",
          "Split",
          "xXx: Return of Xander Cage",
          "The Founder",
          "Resident Evil: The Final Chapter",
          "A Dog’s Purpose",
          "The Space Between Us",
          "Rings",
          "Fifty Shades Darker",
          "John Wick: Chapter Two",
          "The Lego Batman Movie",
          "The Great Wall",
          "Fist Fight",
          "Get Out",
          "Rock Dog",
          "The Shack",
          "Before I Fall",
          "Logan",
          "Kong: Skull Island",
          "Beauty and the Beast",
          "The Belko Experiment",
          "Power Rangers",
          "Life",
          "CHiPS",
          "The Zookeeper’s Wife",
          "Ghost in the Shell",
          "The Boss Baby",
          "The Case for Christ",
          "Gifted",
          "Going in Style",
          "Smurfs: The Lost Village",
          "The Fate of the Furious",
          "The Promise",
          "Unforgettable",
          "How to Be a Latin Lover",
          "The Circle",
          "Guardians of the Galaxy Vol 2",
          "King Arthur: Legend of the Sword",
          "Snatched",
          "Alien: Covenant",
          "Everything, Everything",
          "Diary of a Wimpy Kid: The Long Haul",
          "Baywatch",
          "Pirates of the Caribbean: Dead Men Tell No Tales",
          "Wonder Woman",
          "Captain Underpants: The First Epic Movie",
          "The Mummy",
          "It Comes at Night",
          "47 Meters Down",
          "Rough Night",
          "All Eyez on Me",
          "Cars 3",
          "Transformers: The Last Knight",
          "The Big Sick",
          "Baby Driver",
          "Despicable Me 3",
          "The House",
          "Spider-Man: Homecoming",
          "War for the Planet of the Apes",
          "Valerian and the City of a Thousand Planets",
          "Dunkirk",
          "Girls Trip",
          "Detroit",
          "Atomic Blonde",
          "The Emoji Movie",
          "The Dark Tower",
          "Kidnap",
          "Wind River",
          "Annabelle: Creation",
          "The Nut Job 2: Nutty by Nature",
          "The Hitman’s Bodyguard",
          "Logan Lucky",
          "Birth of the Dragon",
          "Ballerina",
          "Home Again",
          "It",
          "American Assassin",
          "mother!",
          "Kingsman: The Golden Circle",
          "The Lego Ninjago Movie",
          "Battle of the Sexes",
          "Victoria and Abdul",
          "American Made",
          "Flatliners",
          "Blade Runner 2049",
          "My Little Pony: The Movie",
          "Happy Death Day",
          "The Foreigner",
          "Geostorm",
          "Same Kind of Different as Me",
          "Only the Brave",
          "Tyler Perry’s Boo 2! A Madea Halloween",
          "The Snowman",
          "Jigsaw",
          "Thank You for Your Service",
          "Suburbicon",
          "A Bad Moms Christmas",
          "Thor: Ragnarok",
          "Lady Bird",
          "Three Billboards Outside Ebbing, Missouri",
          "Murder on the Orient Express",
          "Daddy’s Home 2",
          "Justice League",
          "Wonder",
          "The Star",
          "Roman J. Israel, Esq.",
          "Coco",
          "Darkest Hour",
          "The Shape of Water",
          "The Disaster Artist",
          "Just Getting Started",
          "I, Tonya",
          "Star Wars Ep. VIII: The Last Jedi",
          "Ferdinand",
          "Jumanji: Welcome to the Jungle",
          "The Greatest Showman",
          "The Post",
          "Pitch Perfect 3",
          "Downsizing",
          "Father Figures",
          "Hostiles",
          "All the Money in the World",
          "Molly’s Game",
          "Phantom Thread",
          "Insidious: The Last Key",
          "Proud Mary",
          "Paddington 2",
          "The Commuter",
          "Den of Thieves",
          "12 Strong",
          "Forever My Girl",
          "Maze Runner: The Death Cure",
          "Winchester",
          "Fifty Shades Freed",
          "Peter Rabbit",
          "The 15:17 to Paris",
          "Black Panther",
          "Early Man",
          "Game Night",
          "Annihilation",
          "Every Day",
          "Red Sparrow",
          "Death Wish",
          "A Wrinkle in Time",
          "The Strangers: Prey at Night",
          "The Hurricane Heist",
          "Tomb Raider",
          "I Can Only Imagine",
          "Love, Simon",
          "Pacific Rim: Uprising",
          "Sherlock Gnomes",
          "Paul, Apostle of Christ",
          "Midnight Sun",
          "Unsane",
          "Isle of Dogs",
          "Ready Player One",
          "Acrimony",
          "A Quiet Place",
          "Blockers",
          "Chappaquiddick",
          "Rampage",
          "I Feel Pretty",
          "Super Troopers 2",
          "Traffik",
          "Avengers: Infinity War",
          "Overboard",
          "Life of the Party",
          "Breaking In",
          "Show Dogs",
          "Book Club",
          "Deadpool 2",
          "Solo: A Star Wars Story",
          "Adrift",
          "Upgrade",
          "Ocean’s 8",
          "Hereditary",
          "Hotel Artemis",
          "Superfly",
          "Incredibles 2",
          "Tag",
          "Jurassic World: Fallen Kingdom",
          "Sicario: Day of the Soldado",
          "Uncle Drew",
          "The First Purge",
          "Sorry to Bother You",
          "Ant-Man and the Wasp",
          "Hotel Transylvania 3: Summer Vacation",
          "Skyscraper",
          "Eighth Grade",
          "Mamma Mia: Here We Go Again!",
          "The Equalizer 2",
          "Unfriended: Dark Web",
          "Mission: Impossible—Fallout",
          "Teen Titans Go! To The Movies",
          "Christopher Robin",
          "The Spy Who Dumped Me",
          "The Darkest Minds",
          "Dog Days",
          "Slender Man",
          "The Meg",
          "BlacKkKlansman",
          "Crazy Rich Asians",
          "Mile 22",
          "Alpha",
          "The Happytime Murders",
          "A.X.L.",
          "Searching",
          "Operation Finale",
          "Kin",
          "The Nun",
          "Peppermint",
          "The Predator",
          "A Simple Favor",
          "White Boy Rick",
          "The House with a Clock in its Walls",
          "Fahrenheit 11/9",
          "Hell Fest",
          "Night School",
          "Smallfoot",
          "Venom",
          "A Star is Born",
          "The Hate U Give",
          "First Man",
          "Goosebumps 2: Haunted Halloween",
          "Bad Times at the El Royale",
          "Halloween",
          "Mid90s",
          "Hunter Killer",
          "Nobody’s Fool",
          "Bohemian Rhapsody",
          "The Nutcracker and the Four Realms",
          "The Girl in the Spider’s Web",
          "Overlord",
          "Dr. Seuss’ The Grinch",
          "Fantastic Beasts: The Crimes of Grindelwald",
          "Instant Family",
          "Widows",
          "Green Book",
          "Creed II",
          "Ralph Breaks The Internet",
          "Robin Hood",
          "The Favourite",
          "The Possession of Hannah Grace",
          "Spider-Man: Into The Spider-Verse 3D",
          "Mortal Engines",
          "The Mule",
          "If Beale Street Could Talk",
          "Mary Poppins Returns",
          "Aquaman",
          "Bumblebee",
          "Second Act",
          "Welcome to Marwen",
          "Holmes & Watson",
          "Vice",
          "On the Basis of Sex",
          "Escape Room",
          "The Upside",
          "A Dog’s Way Home",
          "Glass",
          "The Kid Who Would Be King",
          "Serenity",
          "Miss Bala",
          "The LEGO Movie 2: The Second Part",
          "What Men Want",
          "Cold Pursuit",
          "The Prodigy",
          "Isn’t it Romantic",
          "Happy Death Day 2U",
          "Alita: Battle Angel",
          "Fighting With My Family",
          "How to Train Your Dragon: The Hidden World",
          "Tyler Perry’s A Madea Family Funeral",
          "Captain Marvel",
          "Five Feet Apart",
          "Wonder Park",
          "Captive State",
          "Us",
          "Dumbo",
          "Unplanned",
          "Shazam!",
          "Pet Sematary",
          "The Best of Enemies",
          "After",
          "Hellboy",
          "Breakthrough",
          "The Curse of La Llorona",
          "Avengers: Endgame",
          "The Intruder",
          "Long Shot",
          "UglyDolls",
          "Poms",
          "The Hustle",
          "Pokémon: Detective Pikachu",
          "John Wick: Chapter 3 — Parabellum",
          "A Dog’s Journey",
          "The Sun is Also a Star",
          "Aladdin",
          "BrightBurn",
          "Booksmart",
          "Godzilla: King of the Monsters",
          "Rocketman",
          "MA",
          "Dark Phoenix",
          "The Secret Life of Pets 2",
          "Late Night",
          "Men in Black: International",
          "Shaft",
          "Anna",
          "Toy Story 4",
          "Annabelle Comes Home",
          "Spider-Man: Far From Home",
          "Midsommar",
          "Crawl",
          "Stuber",
          "The Lion King",
          "Once Upon a Time…in Hollywood",
          "Fast & Furious Presents: Hobbs & Shaw",
          "Scary Stories to Tell in the Dark",
          "Dora and the Lost City of Gold",
          "The Art of Racing in the Rain",
          "The Kitchen",
          "The Peanut Butter Falcon",
          "The Angry Birds Movie 2",
          "47 Meters Down: Uncaged",
          "Where’d You Go Bernadette",
          "Good Boys",
          "Blinded by the Light",
          "Ready or Not",
          "Angel Has Fallen",
          "Overcomer",
          "It: Chapter Two",
          "Hustlers",
          "The Goldfinch",
          "Ad Astra",
          "Rambo: Last Blood",
          "Abominable",
          "Joker",
          "Parasite (기생충)",
          "The Addams Family",
          "Jexi",
          "Gemini Man",
          "Zombieland: Double Tap",
          "Maleficent: Mistress of Evil",
          "Jojo Rabbit",
          "Black and Blue",
          "Countdown",
          "The Current War: Director’s Cut",
          "Terminator: Dark Fate",
          "Harriet",
          "Motherless Brooklyn",
          "Arctic Dogs",
          "Midway",
          "Doctor Sleep",
          "Last Christmas",
          "Charlie’s Angels",
          "The Good Liar",
          "Ford v. Ferrari",
          "Frozen II",
          "A Beautiful Day in the Neighborhood",
          "21 Bridges",
          "Knives Out",
          "Queen & Slim",
          "Jumanji: The Next Level",
          "Black Christmas",
          "Richard Jewell",
          "Bombshell",
          "Cats",
          "Star Wars: The Rise of Skywalker",
          "Little Women",
          "Spies in Disguise",
          "1917",
          "Just Mercy",
          "The Grudge",
          "Underwater",
          "Like a Boss",
          "Bad Boys For Life",
          "Dolittle",
          "The Gentlemen",
          "The Turning",
          "Gretel & Hansel",
          "The Rhythm Section",
          "Birds of Prey (And the Fantabulous Emancipation of One Harley Quinn)",
          "The Photograph",
          "Sonic The Hedgehog",
          "The Call of the Wild",
          "Brahms: The Boy II",
          "Impractical Jokers: The Movie",
          "Emma.",
          "The Invisible Man",
          "Onward",
          "The Way Back",
          "Bloodshot",
          "I Still Believe",
          "The Hunt",
          "Unhinged",
          "The New Mutants",
          "The War with Grandpa",
          "Honest Thief",
          "Come Play",
          "Freaky",
          "The Croods: A New Age",
          "News of the World",
          "The Marksman",
          "Chaos Walking",
          "Nobody",
          "The Unholy",
          "Demon Slayer: Kimetsu no Yaiba—The Movie: Mugen Train (劇場版「鬼滅の刃」 無限列車編)",
          "Wrath of Man",
          "Spiral",
          "A Quiet Place: Part II",
          "Spirit Untamed",
          "Peter Rabbit 2: The Runaway",
          "The Hitman’s Wife’s Bodyguard",
          "F9: The Fast Saga",
          "The Forever Purge",
          "The Boss Baby: Family Business",
          "Black Widow",
          "Escape Room: Tournament of Champions",
          "Old",
          "Snake Eyes: G.I. Joe Origins",
          "Jungle Cruise",
          "The Green Knight",
          "Don’t Breathe 2",
          "PAW Patrol: The Movie",
          "Shang-Chi and the Legend of the Ten Rings",
          "Venom: Let There be Carnage",
          "No Time to Die",
          "Halloween Kills",
          "The Last Duel",
          "Dune",
          "Last Night in Soho",
          "Eternals",
          "Clifford the Big Red Dog",
          "King Richard",
          "Ghostbusters: Afterlife",
          "Resident Evil: Welcome to Raccoon City",
          "House of Gucci",
          "Encanto",
          "Licorice Pizza",
          "West Side Story",
          "Nightmare Alley",
          "Spider-Man: No Way Home",
          "The Matrix Resurrections",
          "The King’s Man",
          "Sing 2",
          "The 355",
          "Scream",
          "jackass forever",
          "Moonfall",
          "Blacklight",
          "Marry Me",
          "Death on the Nile",
          "Uncharted",
          "Dog",
          "The Batman",
          "X",
          "Everything Everywhere All At Once",
          "The Lost City",
          "Morbius",
          "Sonic the Hedgehog 2",
          "Ambulance",
          "Father Stu",
          "Fantastic Beasts: The Secrets of Dumbledore",
          "The Bad Guys",
          "The Unbearable Weight of Massive Talent",
          "Doctor Strange in the Multiverse of Madness",
          "Top Gun: Maverick",
          "Jurassic World: Dominion",
          "Lightyear",
          "Elvis",
          "Minions: The Rise of Gru",
          "Thor: Love and Thunder",
          "Paws of Fury: The Legend of Hank",
          "Where the Crawdads Sing",
          "Nope",
          "DC League of Super Pets",
          "Bullet Train",
          "Beast",
          "Three Thousand Years of Longing",
          "Barbarian",
          "The Woman King",
          "Smile",
          "Lyle, Lyle, Crocodile",
          "Amsterdam",
          "Halloween Ends",
          "Black Adam",
          "Ticket to Paradise",
          "Black Panther: Wakanda Forever",
          "The Menu",
          "Strange World",
          "Violent Night",
          "Avatar: The Way of Water",
          "Puss in Boots: The Last Wish",
          "Babylon",
          "A Man Called Otto"
         ],
         "legendgroup": "",
         "marker": {
          "color": [
           4690.41575982343,
           4242.640687119285,
           2236.06797749979,
           7810.249675906654,
           7280.1098892805185,
           8062.25774829855,
           5477.2255750516615,
           6324.555320336759,
           1000,
           8944.27190999916,
           5916.079783099616,
           10392.304845413264,
           12247.44871391589,
           5477.2255750516615,
           7416.198487095663,
           3605.5512754639894,
           6324.555320336759,
           7615.773105863908,
           3162.2776601683795,
           8944.27190999916,
           4472.13595499958,
           5291.502622129181,
           15652.475842498528,
           9949.8743710662,
           4472.13595499958,
           4242.640687119285,
           5000,
           12649.110640673518,
           5000,
           4472.13595499958,
           6082.76253029822,
           13693.063937629153,
           3872.983346207417,
           10000,
           5291.502622129181,
           5477.2255750516615,
           9486.832980505138,
           23091.123835794566,
           7071.067811865475,
           7745.966692414834,
           5916.079783099616,
           10000,
           7874.007874011811,
           11618.95003862225,
           3162.2776601683795,
           6324.555320336759,
           7071.067811865475,
           4242.640687119285,
           3162.2776601683795,
           3391.164991562634,
           6164.414002968976,
           2236.06797749979,
           11832.159566199232,
           8366.600265340756,
           5291.502622129181,
           4690.41575982343,
           7071.067811865475,
           6082.76253029822,
           7615.773105863908,
           4472.13595499958,
           1870.8286933869706,
           2236.06797749979,
           4472.13595499958,
           11832.159566199232,
           4795.83152331272,
           12247.44871391589,
           7745.966692414834,
           5916.079783099616,
           3872.983346207417,
           5916.079783099616,
           3605.5512754639894,
           4098.780306383839,
           3605.5512754639894,
           10488.088481701516,
           16217.274740226854,
           4242.640687119285,
           2236.06797749979,
           948.6832980505138,
           5385.164807134504,
           1414.213562373095,
           13228.756555322952,
           4472.13595499958,
           5612.486080160912,
           10723.805294763608,
           5000,
           4472.13595499958,
           3872.983346207417,
           15811.388300841896,
           5196.152422706632,
           7071.067811865475,
           8544.003745317532,
           5916.079783099616,
           13341.664064126333,
           13038.404810405298,
           11618.95003862225,
           4472.13595499958,
           4472.13595499958,
           6324.555320336759,
           12649.110640673518,
           9486.832980505138,
           7071.067811865475,
           14142.13562373095,
           12845.232578665129,
           3605.5512754639894,
           7071.067811865475,
           3162.2776601683795,
           13416.407864998739,
           11832.159566199232,
           8660.254037844386,
           5744.562646538028,
           6892.024376045111,
           2236.06797749979,
           12000,
           10246.950765959598,
           13601.470508735443,
           2236.06797749979,
           4472.13595499958,
           10954.451150103323,
           4472.13595499958,
           13228.756555322952,
           5477.2255750516615,
           4358.898943540674,
           5385.164807134504,
           8062.25774829855,
           3464.1016151377544,
           7416.198487095663,
           9746.794344808965,
           7071.067811865475,
           6324.555320336759,
           3162.2776601683795,
           4472.13595499958,
           3162.2776601683795,
           7745.966692414834,
           3162.2776601683795,
           7071.067811865475,
           5916.079783099616,
           9486.832980505138,
           8366.600265340756,
           3872.983346207417,
           10488.088481701516,
           12489.995996796797,
           5000,
           3162.2776601683795,
           6708.203932499369,
           2915.4759474226503,
           3162.2776601683795,
           6324.555320336759,
           7745.966692414834,
           4472.13595499958,
           3000,
           6324.555320336759,
           1224.744871391589,
           8660.254037844386,
           12845.232578665129,
           11180.339887498949,
           6324.555320336759,
           4123.105625617661,
           3162.2776601683795,
           6855.654600401044,
           4743.416490252569,
           2915.4759474226503,
           13416.407864998739,
           3000,
           10295.630140987001,
           5099.019513592785,
           12247.44871391589,
           3464.1016151377544,
           2236.06797749979,
           6708.203932499369,
           5477.2255750516615,
           16739.175606940742,
           6000,
           8660.254037844386,
           11180.339887498949,
           10488.088481701516,
           6324.555320336759,
           6164.414002968976,
           8062.25774829855,
           5000,
           5916.079783099616,
           2720.2941017470885,
           5477.2255750516615,
           11180.339887498949,
           3000,
           9219.544457292888,
           3872.983346207417,
           6324.555320336759,
           5000,
           5477.2255750516615,
           5000,
           7416.198487095663,
           6324.555320336759,
           8944.27190999916,
           12247.44871391589,
           5000,
           2236.06797749979,
           7745.966692414834,
           4472.13595499958,
           2236.06797749979,
           11269.427669584646,
           13601.470508735443,
           12649.110640673518,
           2236.06797749979,
           10954.451150103323,
           7615.773105863908,
           5000,
           4472.13595499958,
           10488.088481701516,
           11180.339887498949,
           1732.0508075688772,
           2645.7513110645905,
           4898.979485566356,
           7745.966692414834,
           15811.388300841896,
           9486.832980505138,
           3464.1016151377544,
           3162.2776601683795,
           4242.640687119285,
           14142.13562373095,
           13228.756555322952,
           6480.74069840786,
           9848.857801796104,
           3162.2776601683795,
           4690.41575982343,
           7745.966692414834,
           15165.7508881031,
           12247.44871391589,
           6164.414002968976,
           13964.240043768941,
           2236.06797749979,
           2302.1728866442677,
           4472.13595499958,
           6708.203932499369,
           13228.756555322952,
           14730.919862656236,
           2236.06797749979,
           5830.951894845301,
           8660.254037844386,
           6324.555320336759,
           13228.756555322952,
           12328.828005937952,
           13416.407864998739,
           12247.44871391589,
           5291.502622129181,
           6324.555320336759,
           5477.2255750516615,
           7071.067811865475,
           8124.03840463596,
           4582.57569495584,
           3316.6247903554,
           3872.983346207417,
           6324.555320336759,
           5477.2255750516615,
           5385.164807134504,
           5567.764362830022,
           5477.2255750516615,
           3872.983346207417,
           5916.079783099616,
           7937.253933193771,
           5477.2255750516615,
           10198.03902718557,
           8366.600265340756,
           5000,
           4582.57569495584,
           7071.067811865475,
           4472.13595499958,
           13601.470508735443,
           2549.5097567963926,
           2236.06797749979,
           5916.079783099616,
           10000,
           2549.5097567963926,
           6164.414002968976,
           4472.13595499958,
           5916.079783099616,
           3162.2776601683795,
           4472.13595499958,
           5000,
           5291.502622129181,
           13416.407864998739,
           3162.2776601683795,
           3464.1016151377544,
           7416.198487095663,
           8366.600265340756,
           17320.508075688773,
           4472.13595499958,
           4472.13595499958,
           4690.41575982343,
           13228.756555322952,
           5477.2255750516615,
           4415.880433163923,
           3162.2776601683795,
           4690.41575982343,
           3316.6247903554,
           16186.414056238646,
           10535.653752852739,
           9486.832980505138,
           9165.15138991168,
           7071.067811865475,
           6708.203932499369,
           8246.211251235321,
           5000,
           7071.067811865475,
           7071.067811865475,
           5477.2255750516615,
           5916.079783099616,
           3162.2776601683795,
           5477.2255750516615,
           6324.555320336759,
           6324.555320336759,
           5477.2255750516615,
           5916.079783099616,
           1870.8286933869706,
           7810.249675906654,
           1870.8286933869706,
           7416.198487095663,
           7071.067811865475,
           5477.2255750516615,
           14142.13562373095,
           7071.067811865475,
           6082.76253029822,
           7416.198487095663,
           2213.5943621178653,
           8306.623862918075,
           5477.2255750516615,
           10148.891565092219,
           2236.06797749979,
           6324.555320336759,
           9486.832980505138,
           2645.7513110645905,
           3162.2776601683795,
           12449.899597988733,
           7681.145747868608,
           2236.06797749979,
           1673.320053068151,
           1224.744871391589,
           7922.764542759049,
           12247.44871391589,
           4472.13595499958,
           4123.105625617661,
           4582.57569495584,
           5830.951894845301,
           10954.451150103323,
           5656.85424949238,
           3674.234614174767,
           2000,
           17320.508075688773,
           3464.1016151377544,
           5477.2255750516615,
           2449.489742783178,
           2345.207879911715,
           3162.2776601683795,
           10488.088481701516,
           18176.908428002822,
           5916.079783099616,
           1732.0508075688772,
           8366.600265340756,
           3162.2776601683795,
           3872.983346207417,
           4000,
           14142.13562373095,
           5291.502622129181,
           13038.404810405298,
           5916.079783099616,
           4242.640687119285,
           3605.5512754639894,
           1788.8543819998317,
           11401.75425099138,
           8062.25774829855,
           11180.339887498949,
           1414.213562373095,
           8660.254037844386,
           8774.964387392121,
           1000,
           13341.664064126333,
           3162.2776601683795,
           8660.254037844386,
           6324.555320336759,
           5830.951894845301,
           3162.2776601683795,
           3162.2776601683795,
           13341.664064126333,
           3872.983346207417,
           5477.2255750516615,
           5916.079783099616,
           7141.42842854285,
           6324.555320336759,
           3162.2776601683795,
           938.083151964686,
           4472.13595499958,
           5477.2255750516615,
           4690.41575982343,
           5000,
           9380.83151964686,
           4472.13595499958,
           5477.2255750516615,
           6324.555320336759,
           2236.06797749979,
           2345.207879911715,
           5385.164807134504,
           8944.27190999916,
           10770.329614269009,
           6000,
           4795.83152331272,
           7745.966692414834,
           5916.079783099616,
           5656.85424949238,
           3162.2776601683795,
           1673.320053068151,
           6324.555320336759,
           4358.898943540674,
           7416.198487095663,
           11528.22622956368,
           6557.438524302001,
           6164.414002968976,
           8660.254037844386,
           14142.13562373095,
           6928.203230275509,
           6324.555320336759,
           4795.83152331272,
           7071.067811865475,
           13228.756555322952,
           9949.8743710662,
           3872.983346207417,
           2449.489742783178,
           9486.832980505138,
           10000,
           7071.067811865475,
           3464.1016151377544,
           11401.75425099138,
           12649.110640673518,
           10099.504938362077,
           3962.32255123179,
           6708.203932499369,
           6480.74069840786,
           7745.966692414834,
           4472.13595499958,
           3000,
           6123.724356957945,
           7810.249675906654,
           4472.13595499958,
           7681.145747868608,
           5000,
           3872.983346207417,
           9949.8743710662,
           4472.13595499958,
           7745.966692414834,
           2449.489742783178,
           5567.764362830022,
           3000,
           13038.404810405298,
           3316.6247903554,
           11357.816691600547,
           4472.13595499958,
           13228.756555322952,
           2645.7513110645905,
           10000,
           5000,
           4472.13595499958,
           13038.404810405298,
           2449.489742783178,
           9219.544457292888,
           4582.57569495584,
           3162.2776601683795,
           3741.657386773941,
           7071.067811865475,
           3741.657386773941,
           3000,
           20000,
           2828.42712474619,
           6324.555320336759,
           6708.203932499369,
           3162.2776601683795,
           4582.57569495584,
           12247.44871391589,
           8660.254037844386,
           4000,
           3000,
           13490.737563232042,
           2645.7513110645905,
           2449.489742783178,
           13038.404810405298,
           6403.1242374328485,
           2236.06797749979,
           14142.13562373095,
           8944.27190999916,
           2000,
           10488.088481701516,
           5477.2255750516615,
           5477.2255750516615,
           14142.13562373095,
           5196.152422706632,
           12649.110640673518,
           3000,
           4123.105625617661,
           4000,
           16124.5154965971,
           9486.832980505138,
           14142.13562373095,
           5291.502622129181,
           7000,
           4242.640687119285,
           6164.414002968976,
           2489.9799195977466,
           8062.25774829855,
           3464.1016151377544,
           4472.13595499958,
           4472.13595499958,
           3872.983346207417,
           2449.489742783178,
           6324.555320336759,
           2236.06797749979,
           8366.600265340756,
           4549.72526643093,
           6324.555320336759,
           8944.27190999916,
           7071.067811865475,
           8660.254037844386,
           7416.198487095663,
           3435.1128074635335,
           4898.979485566356,
           2236.06797749979,
           11832.159566199232,
           6928.203230275509,
           13601.470508735443,
           3741.657386773941,
           3464.1016151377544,
           2549.5097567963926,
           5477.2255750516615,
           13601.470508735443,
           4123.105625617661,
           5099.019513592785,
           7071.067811865475,
           10000,
           6708.203932499369,
           5477.2255750516615,
           6928.203230275509,
           3162.2776601683795,
           9879.271228182775,
           12247.44871391589,
           6708.203932499369,
           5744.562646538028,
           6324.555320336759,
           4472.13595499958,
           11180.339887498949,
           2236.06797749979,
           6708.203932499369,
           5656.85424949238,
           10000,
           16583.123951777,
           6480.74069840786,
           10000,
           10000,
           5000,
           3162.2776601683795,
           8062.25774829855,
           5385.164807134504,
           9486.832980505138,
           13228.756555322952,
           4690.41575982343,
           3464.1016151377544,
           2236.06797749979,
           7071.067811865475,
           9055.385138137417,
           3872.983346207417,
           9486.832980505138,
           11180.339887498949,
           3162.2776601683795,
           1732.0508075688772,
           3162.2776601683795,
           2645.7513110645905,
           14142.13562373095,
           4795.83152331272,
           6708.203932499369,
           3464.1016151377544,
           4266.145801540309,
           5744.562646538028,
           8185.35277187245,
           6164.414002968976,
           5477.2255750516615,
           3000,
           2449.489742783178,
           8062.25774829855,
           6164.414002968976,
           4795.83152331272,
           10000,
           4000,
           3162.2776601683795,
           3968.6269665968857,
           6324.555320336759,
           4472.13595499958,
           7810.249675906654,
           5477.2255750516615,
           6708.203932499369,
           8366.600265340756,
           14142.13562373095,
           4242.640687119285,
           9055.385138137417,
           14142.13562373095,
           3872.983346207417,
           4242.640687119285,
           9380.83151964686,
           14142.13562373095,
           3872.983346207417,
           3872.983346207417,
           5099.019513592785,
           12247.44871391589,
           10488.088481701516,
           15811.388300841896,
           4472.13595499958,
           10000,
           12845.232578665129,
           6557.438524302001,
           14142.13562373095,
           8000,
           7071.067811865475,
           8660.254037844386,
           5000,
           8660.254037844386,
           12247.44871391589,
           6324.555320336759,
           10000,
           7745.966692414834,
           14142.13562373095,
           13784.048752090222,
           10000,
           9219.544457292888,
           8660.254037844386,
           4898.979485566356,
           3162.2776601683795,
           12247.44871391589,
           5385.164807134504,
           4795.83152331272,
           9486.832980505138,
           10954.451150103323,
           3872.983346207417,
           14142.13562373095,
           1000,
           5000,
           8602.325267042626,
           8660.254037844386,
           9486.832980505138,
           6324.555320336759,
           2000,
           14142.13562373095,
           8366.600265340756,
           5477.2255750516615,
           14142.13562373095,
           13038.404810405298,
           12845.232578665129,
           14142.13562373095,
           9219.544457292888,
           8944.27190999916,
           15811.388300841896,
           6708.203932499369,
           4898.979485566356,
           8246.211251235321,
           9486.832980505138,
           9268.225288586807,
           6000,
           7745.966692414834,
           2121.3203435596424,
           7071.067811865475,
           4123.105625617661,
           7071.067811865475,
           8944.27190999916,
           4472.13595499958,
           14142.13562373095,
           7745.966692414834,
           15811.388300841896,
           5477.2255750516615,
           11618.95003862225,
           4472.13595499958,
           21447.610589527216,
           9486.832980505138,
           10488.088481701516,
           7071.067811865475
          ],
          "coloraxis": "coloraxis",
          "symbol": "circle"
         },
         "mode": "markers",
         "name": "",
         "orientation": "v",
         "showlegend": false,
         "type": "scatter",
         "x": [
          7355622,
          25888154,
          25427560,
          30316510,
          22635037,
          13242895,
          12148041,
          17728313,
          3520626,
          48464322,
          3719177,
          54308575,
          15315435,
          7105735,
          13143310,
          4002226,
          15371203,
          23618556,
          8070493,
          10812861,
          5002521,
          3238433,
          70403148,
          44213073,
          4408252,
          8317545,
          5787266,
          102665981,
          9880536,
          6652996,
          29632823,
          39155217,
          16293325,
          11053366,
          10531026,
          13922855,
          14287159,
          247966675,
          38740203,
          17015168,
          10513749,
          9800252,
          15706645,
          39826840,
          12741176,
          35243095,
          16194738,
          6844137,
          10778392,
          11111875,
          10326356,
          5900528,
          41282042,
          10288932,
          5324240,
          11355225,
          13841146,
          17878911,
          132434639,
          11801271,
          8800230,
          7353922,
          6109085,
          14123903,
          6084682,
          75063401,
          21635601,
          7450275,
          24727437,
          3258327,
          3961556,
          3294876,
          14812393,
          29027348,
          166007347,
          17861950,
          7623662,
          4055940,
          23586645,
          5107604,
          103261464,
          20242415,
          5767278,
          19445035,
          8369184,
          4869278,
          9453224,
          179139142,
          14788157,
          11203270,
          38155177,
          21760405,
          65769562,
          26858726,
          35316382,
          18723269,
          4698715,
          40406314,
          24166110,
          22383146,
          35535250,
          135060273,
          41039944,
          16800868,
          7572206,
          31515110,
          38527856,
          18775350,
          104352905,
          16628170,
          5303775,
          3964646,
          46018755,
          21373064,
          59253211,
          21688103,
          9445456,
          59215365,
          23817340,
          133682248,
          6249915,
          34263534,
          6601313,
          21514095,
          3551931,
          12608372,
          11203815,
          14685305,
          7456525,
          26411706,
          4765838,
          14202323,
          35028301,
          9576057,
          8000058,
          8571785,
          34703397,
          21311407,
          2495427,
          28871140,
          20223544,
          6541205,
          7004254,
          24536265,
          6878437,
          11767210,
          24710273,
          22872490,
          28501448,
          14065500,
          5461475,
          1489470,
          14860425,
          85058311,
          46581142,
          15190758,
          15134235,
          3613567,
          24074047,
          3161381,
          4223828,
          74403387,
          4754215,
          12701743,
          6176680,
          56631401,
          3760097,
          2534884,
          16890204,
          9553414,
          155081681,
          7102085,
          35258145,
          10278225,
          14869736,
          11613765,
          11002986,
          5106046,
          22800057,
          13688751,
          13501349,
          8344128,
          10950705,
          40010975,
          20130142,
          3404102,
          13601682,
          18222810,
          3775596,
          13002632,
          46607250,
          30436123,
          53003468,
          18469620,
          12201873,
          33377060,
          3704749,
          16172119,
          4690214,
          88411916,
          61025472,
          174750616,
          4137230,
          40300288,
          12501936,
          7722802,
          2684185,
          18676033,
          50198902,
          3967885,
          3090633,
          11932330,
          13210449,
          98786705,
          4095718,
          4785431,
          12252439,
          9034148,
          146510104,
          15371270,
          19542248,
          36160621,
          11727390,
          7126084,
          18503871,
          62983253,
          103251471,
          23851539,
          31668375,
          5988370,
          11205562,
          8004283,
          26435354,
          53688680,
          44680073,
          7563040,
          20553320,
          72434025,
          8724795,
          117027503,
          56262929,
          17007624,
          50513488,
          31201920,
          7125601,
          18286420,
          24531923,
          19153698,
          10016323,
          4600976,
          35006404,
          8342311,
          21384504,
          7600036,
          2702430,
          4730038,
          8567881,
          123403419,
          14846778,
          7534673,
          39023010,
          20433071,
          3408594,
          3006155,
          16776390,
          6574326,
          32753122,
          8885899,
          26039025,
          13113024,
          13707376,
          2591985,
          6002665,
          21226953,
          3372565,
          16640452,
          3817700,
          2840246,
          16759161,
          122744989,
          4057559,
          4396537,
          28681472,
          29651193,
          93842239,
          27547866,
          9812674,
          4447070,
          50802605,
          3891945,
          3530022,
          6366243,
          3201459,
          2861168,
          220009584,
          13401586,
          36169328,
          8805843,
          19361968,
          19928525,
          4954287,
          3287451,
          10110739,
          5584684,
          6856578,
          3246720,
          29581355,
          9959053,
          11001961,
          13701452,
          15206108,
          15815025,
          4245630,
          24167011,
          9307626,
          38560195,
          25010928,
          12554286,
          202003951,
          3190525,
          17005332,
          11071584,
          3016149,
          16853422,
          13010267,
          33123609,
          10402271,
          3024399,
          23633317,
          17108914,
          11756244,
          28116535,
          10604774,
          5172585,
          4003993,
          3762145,
          5475139,
          41764050,
          17170707,
          50203562,
          20556350,
          5765854,
          35753093,
          16030218,
          15181624,
          3941338,
          257698183,
          14711101,
          17886075,
          17630285,
          6023972,
          13582231,
          125507153,
          84420489,
          11603039,
          4670905,
          41607378,
          13575173,
          3232790,
          6870740,
          182687905,
          14947396,
          148024610,
          19007566,
          15242781,
          17374280,
          4208881,
          75812205,
          44076225,
          24905015,
          2850892,
          34952180,
          36011640,
          3653035,
          61236534,
          10411189,
          24585139,
          12103043,
          5842609,
          2554766,
          11371866,
          45402195,
          10845330,
          26510140,
          13710825,
          10352512,
          9532425,
          2798229,
          6066463,
          6022758,
          3035618,
          53807379,
          13423255,
          24632284,
          16011689,
          8860431,
          26608020,
          3008563,
          5130963,
          27257615,
          23045635,
          80255756,
          42908051,
          7602108,
          16006065,
          15802225,
          7132647,
          76221545,
          2980506,
          6653777,
          13743111,
          51061119,
          20352491,
          7810112,
          10202108,
          67572855,
          62163104,
          14504315,
          12361307,
          5501520,
          35574710,
          56237634,
          9195670,
          2085123,
          6401744,
          35363376,
          7559850,
          17509431,
          2406742,
          23523121,
          67873522,
          21654047,
          6489983,
          2354205,
          7411522,
          7768371,
          6070615,
          18238172,
          20355000,
          11251263,
          40328920,
          7173887,
          4415403,
          6864744,
          34115335,
          18232087,
          11030233,
          5853061,
          14247758,
          9497665,
          28525613,
          7813113,
          55022245,
          27062332,
          153433423,
          13190286,
          15853646,
          3131525,
          71117625,
          45990748,
          6382298,
          53505326,
          24502775,
          4446190,
          6002349,
          12045147,
          11282333,
          26347631,
          357115007,
          10855054,
          9740064,
          8603407,
          5361937,
          13007709,
          54365242,
          56818067,
          8030085,
          2511530,
          91500929,
          7845658,
          6933620,
          47776293,
          25725722,
          18099805,
          32828348,
          46652680,
          5255643,
          30035838,
          8901419,
          3600647,
          120908065,
          20269723,
          92579212,
          6560030,
          12005210,
          8225384,
          191770759,
          41082018,
          60038950,
          20915346,
          17431588,
          8137584,
          5527410,
          2974391,
          10354073,
          8427265,
          3462308,
          21402605,
          4333305,
          8015590,
          21380987,
          8146533,
          91062152,
          33181361,
          2679027,
          19001398,
          18872919,
          20612100,
          96202337,
          1711988,
          30300007,
          3106730,
          20552372,
          26803104,
          36948713,
          3952157,
          8376846,
          8865082,
          2633717,
          29033832,
          11676720,
          3500454,
          2901335,
          17897419,
          14114124,
          11441055,
          8351109,
          5605051,
          31474958,
          130263358,
          13251238,
          9261268,
          26769548,
          11890490,
          59251543,
          4240245,
          4705265,
          5109146,
          6619870,
          177383864,
          16755310,
          13354798,
          37000200,
          9713228,
          11404113,
          7008297,
          10011272,
          62504105,
          21844045,
          10651884,
          6950045,
          6154007,
          2715384,
          33010017,
          12181865,
          58018348,
          24791624,
          5823006,
          3600000,
          4805785,
          28205665,
          39119861,
          8170315,
          9176695,
          9103614,
          5304455,
          4020761,
          7037017,
          3623880,
          3607966,
          3119875,
          3600355,
          9724200,
          2250430,
          3104204,
          3775350,
          6820100,
          3153456,
          21144800,
          8309007,
          8750034,
          47547231,
          6101050,
          10101066,
          11397820,
          70043165,
          12551220,
          16000665,
          80366312,
          8801391,
          16854735,
          13367853,
          35018731,
          6745121,
          10622473,
          13148340,
          75388688,
          90033210,
          55225007,
          49404980,
          4759151,
          41000000,
          4178460,
          71297219,
          16627491,
          5406033,
          44008406,
          5319280,
          14423794,
          27206494,
          1911827,
          10574618,
          2811703,
          260138569,
          10749011,
          5915542,
          22326230,
          4621765,
          30018805,
          23154388,
          9868997,
          3502475,
          7949980,
          12891123,
          44010155,
          14883928,
          134008624,
          4275126,
          6059263,
          30453269,
          39005895,
          72105176,
          8699630,
          5402642,
          42151256,
          23950245,
          7131703,
          187420998,
          126707459,
          145075625,
          50577961,
          31211579,
          107010140,
          144165107,
          6321423,
          17253227,
          44366910,
          23003441,
          30030156,
          11575855,
          2919717,
          10543948,
          19051442,
          22609925,
          11401182,
          6444896,
          40050355,
          67004323,
          16509095,
          181339761,
          9004957,
          12151384,
          13450240,
          134100226,
          12429515,
          3603368,
          12828785
         ],
         "xaxis": "x",
         "y": [
          9005918.707731389,
          6423875.4947377145,
          11324711.783752,
          33858003.84617352,
          17619963.757961072,
          17536142.69893186,
          17687677.692063525,
          11450165.134243172,
          6199601.47111873,
          32207481.330311038,
          11343101.208756287,
          31769782.043480888,
          29316763.06596735,
          12481354.213556327,
          17542319.66857104,
          3072866.597941816,
          10611326.238430096,
          21046673.843252596,
          6303247.305874306,
          19728374.47430934,
          5829116.1733728135,
          6620129.842145257,
          101895097.29787356,
          22515034.266058613,
          5344063.9791421015,
          4735914.673674314,
          7398828.803511279,
          40910052.19777176,
          9626213.61426612,
          6880777.46991796,
          35987025.42123142,
          40214452.37602772,
          10989117.233661853,
          23983333.0092197,
          11200820.455466285,
          9854190.895645633,
          18674531.906710017,
          291819414.4243999,
          14964091.99870742,
          28986857.99068492,
          13646938.29731288,
          24773469.949537568,
          17187515.03348187,
          41493483.71624035,
          5149295.811339667,
          11581592.322263127,
          14657009.401869358,
          4506881.91711135,
          21089112.59125199,
          4003651.628567457,
          15483676.979346223,
          6513798.119021316,
          45416503.03607741,
          14622560.507435007,
          7255360.800903238,
          9380054.001920097,
          21520476.512476377,
          12185092.257957496,
          97596627.05163774,
          6153303.448016035,
          9028222.105485076,
          4167645.456220761,
          6494787.66459649,
          32886957.414683044,
          6634056.80292548,
          57341848.81337893,
          22938195.422658823,
          7908193.204911027,
          67219275.94862883,
          10562918.10398078,
          2847094.4717953177,
          3726130.366249641,
          7530367.696086536,
          27015319.29199464,
          137465786.3512241,
          11911244.104698084,
          3613924.4405346424,
          2365162.166479784,
          8352813.495181683,
          10524494.837505486,
          40214998.912428334,
          8669920.857652776,
          10729512.591716744,
          35912857.60301791,
          9025773.993769841,
          7318156.987599814,
          5442874.651187402,
          201662188.91737327,
          5974713.75654256,
          12400988.823839933,
          27857776.25046161,
          18711716.792426504,
          113266179.83441097,
          39697201.29347457,
          38816980.66324094,
          17580845.340000536,
          6316502.596180226,
          39042162.720344044,
          39127590.27957617,
          28082444.83135767,
          23485330.13529518,
          60132790.49548255,
          54238621.54212494,
          12710864.830852896,
          12198618.238326244,
          16700027.950025816,
          44608265.435519055,
          24879736.869728144,
          36276615.92477439,
          11488524.12790495,
          10467868.1442951,
          2002883.745513689,
          66516700.69966146,
          30346955.31261761,
          63400124.15243548,
          12645223.907775367,
          7408815.690362176,
          39729203.45109203,
          16182824.372451387,
          136763773.97031188,
          8585924.490490487,
          13792333.049210925,
          5756621.568979513,
          11824728.48325458,
          4435903.187640497,
          10427053.962536756,
          20393415.23944764,
          17519757.324109036,
          17827744.045626942,
          18270653.437582113,
          5869643.987998835,
          4193222.1674397434,
          18060526.64353448,
          15656974.840298891,
          13446398.51587767,
          19024240.1932043,
          22390571.45663871,
          16471609.132668257,
          3257497.023268888,
          26891583.152019225,
          31960145.866776846,
          9028888.816265404,
          5033003.9762321375,
          14316557.43205373,
          3413565.8915530555,
          2510262.6691486007,
          12780615.859981028,
          19867941.539406165,
          7011379.069750322,
          12813293.489970595,
          8298093.47776393,
          5436503.923470036,
          34483041.71844146,
          77269300.49752787,
          39505050.25076227,
          19121692.842952237,
          4341969.215588461,
          3801228.9774609194,
          17846752.428364452,
          10261545.662488027,
          4345458.334902393,
          71808426.62115544,
          3874245.6713194754,
          22529893.99084754,
          6636158.629626965,
          78186256.35440627,
          7118423.994222985,
          1582248.9907922118,
          8891448.883288842,
          19825451.83299364,
          128473188.43535256,
          12508950.46126157,
          47547734.51329614,
          30529108.09702441,
          31035176.140665624,
          10382893.042514682,
          12807548.364218105,
          14202290.65608026,
          10126907.015624167,
          13590384.620700404,
          5912503.880097431,
          8425514.776864257,
          22901151.787488677,
          40475330.47094682,
          54666675.15720454,
          5566666.27517431,
          25934025.34212444,
          21295726.544466294,
          7569353.277010404,
          7986914.882007657,
          28107543.268642344,
          29167271.697507393,
          30308795.466662593,
          34332619.2630471,
          7429899.497036433,
          16324008.497069905,
          10761763.345598027,
          6743870.071314599,
          5437337.115227987,
          96571217.33069819,
          60448686.63329747,
          35319879.740496285,
          3454286.6147781545,
          60034322.99516401,
          18479356.584765855,
          6553468.277815197,
          4690846.428318775,
          23395044.660216015,
          45931790.245837994,
          1353495.0469267042,
          8094995.626059346,
          6806857.676699619,
          14951105.883684527,
          80566144.22919181,
          18434528.237892352,
          2867932.344471931,
          4208781.283900231,
          9739419.541377682,
          90034555.87825108,
          36739412.58656247,
          9876110.77321871,
          76219909.69674006,
          6311051.460696669,
          8912320.242346348,
          19197055.670369178,
          71703459.29033703,
          80872797.72441822,
          17098810.009847432,
          72241080.59821068,
          7253708.637311585,
          9971806.102902528,
          6230660.351953203,
          11029815.266101241,
          57469289.67948213,
          62348552.53290279,
          4382579.210982074,
          15282313.057847533,
          35670197.77877548,
          8263554.6735951295,
          91826571.5836136,
          61193342.48819187,
          34795835.96682571,
          44514877.54444641,
          7108332.468241947,
          10079459.155702073,
          9289161.952602526,
          14183571.393723562,
          26418864.831560776,
          6988856.388950487,
          3564051.3809409677,
          23073470.57628281,
          11434054.299823798,
          13051965.066843912,
          10281657.46222239,
          13208692.081148185,
          12882528.186526129,
          7018981.941975236,
          97627426.80106431,
          14385696.507737178,
          16989393.021183655,
          43224722.15811773,
          21690860.93759892,
          5802043.196062948,
          6704479.514769525,
          15659950.229922522,
          7777800.413387113,
          72407269.22503097,
          3545262.2068090914,
          15256326.297141803,
          10846719.607122475,
          22392131.461330213,
          1699970.6406800584,
          8134316.371812357,
          5589489.238258585,
          16543552.883472601,
          21422197.588145,
          5098128.71391241,
          7283748.711230341,
          12608185.675989613,
          112747409.05480474,
          7411249.157318067,
          5221578.049740032,
          30640488.056264173,
          18855278.542418234,
          115209595.24776234,
          37969571.90225445,
          5536748.839687283,
          7002882.35661559,
          42018199.843272045,
          7866786.727375146,
          12157174.27276212,
          11653249.338003408,
          4610399.173887839,
          5290188.848426763,
          126259986.84257856,
          19381443.997346647,
          46575115.34630707,
          16624202.448551185,
          14690497.161410473,
          20492596.97785347,
          15679865.314308494,
          5214864.399484456,
          11790247.37579038,
          12793910.604749886,
          7054256.10385514,
          9529526.736245332,
          13280906.547666341,
          6496767.6814013375,
          16425973.124679623,
          10653477.900606794,
          8793474.339602713,
          14177016.859944284,
          6628376.442474201,
          25730379.018523753,
          6796470.358108016,
          17404580.211957473,
          18857196.429588474,
          10357971.653498456,
          150739751.88796884,
          11980885.510004196,
          11481549.788744628,
          18029942.025048763,
          3143159.202790877,
          15097398.296512116,
          11096350.951459432,
          19739149.31088507,
          8156310.602229482,
          10124741.801188868,
          35098704.62386913,
          5715898.891622997,
          13936808.696663138,
          42153608.07676627,
          12688778.82813448,
          2242508.8954661246,
          5620445.440961861,
          6393728.389532481,
          16466595.617152112,
          41022313.23590074,
          6685223.450868566,
          73231765.30610076,
          6921812.105623383,
          6801647.903261431,
          35339359.71131987,
          9547886.900820438,
          6131733.088851295,
          2041041.6966332458,
          296223436.4029155,
          4585581.132485625,
          6972483.700438653,
          4047862.7557265717,
          4279172.678905856,
          6113851.447036698,
          91355750.53410476,
          89592649.8592254,
          10798092.115381662,
          3264493.48296497,
          37683156.22876768,
          14372391.313899735,
          7962320.751284821,
          6713259.647628343,
          126604579.02394149,
          10112981.475648193,
          103971185.07345381,
          21173206.77769396,
          10410352.24073295,
          16531792.906812191,
          2418724.2659306815,
          65367812.17839752,
          23891589.263654064,
          30839312.32741397,
          2703971.347057284,
          41145476.100294575,
          22823943.723954797,
          6916788.495125787,
          70550024.19693783,
          6765475.666679341,
          14141608.805861292,
          11735381.796558151,
          12858956.345045447,
          4335123.722121164,
          10606642.638118956,
          70143892.98303851,
          6305944.392999043,
          28170141.09610699,
          10291278.411160778,
          17685420.06034685,
          9637871.735873297,
          8305213.065815864,
          6443155.619128235,
          6968444.241241722,
          8503097.37343121,
          56755030.74130662,
          7584763.2629530905,
          39558371.505751416,
          12907747.602085683,
          10029238.581150435,
          10604783.225684078,
          2471452.097530219,
          1469484.9509648192,
          10313072.430438478,
          16980000.12366939,
          98659795.69994476,
          24573717.068491243,
          9935370.180342026,
          16757754.664014297,
          11336401.002932426,
          14161941.680887673,
          45049529.202478826,
          3209532.843302914,
          11857006.893807212,
          4586514.070167844,
          31376756.499598213,
          22591656.622655287,
          15908515.582763147,
          13170258.06375229,
          34580121.984260745,
          67859894.1153529,
          13480677.718671937,
          10850554.390198816,
          10531161.01383076,
          33497448.366772562,
          52974702.93350483,
          25114995.41543825,
          7201323.194583247,
          5693611.086173123,
          61905332.71596187,
          28385087.324580178,
          14890757.46784116,
          4049190.4922081176,
          34901204.17163997,
          87926659.7020002,
          47562842.36129221,
          5862776.363225417,
          15862714.105763074,
          10557904.433363546,
          17585034.465507645,
          8959489.64472299,
          14130030.374879334,
          11183446.774741247,
          13507451.751444172,
          44349625.76633767,
          11277175.720729839,
          5612440.4286074415,
          6565001.173067052,
          29979794.388683442,
          5961595.596908532,
          13088015.962102212,
          11414202.106381044,
          11606604.86567632,
          11519916.828922473,
          41964001.192507744,
          12071394.364932494,
          50180219.188979186,
          6098055.736497811,
          107205748.26781519,
          8330974.418690405,
          20894954.784511596,
          7381611.280347094,
          22169538.376464058,
          36779484.190680444,
          3097709.98441433,
          81525742.13543884,
          24685937.64738667,
          3382163.3500712253,
          9699566.07766037,
          28368874.326425835,
          7875750.503595846,
          16072495.712489808,
          362938020.48962677,
          6292419.7001723545,
          9245977.31126479,
          10341279.194698665,
          3088943.818470411,
          8722710.437652852,
          52259815.53241506,
          52251534.64552474,
          16983199.53510557,
          4776322.664601686,
          42022445.388782725,
          15421291.6160672,
          2876956.0376253664,
          69791365.58748856,
          16367717.829712003,
          6713556.411467118,
          73682800.3750988,
          33831871.28979099,
          5418113.662368455,
          39421804.50428778,
          13125720.945458498,
          9591315.051052447,
          101911470.18892562,
          23343150.751522135,
          139859080.4281879,
          12870084.465483058,
          12420169.823926253,
          6731503.417551745,
          90333984.70282395,
          36464727.79247704,
          87675077.60112303,
          10120435.840102457,
          18670532.476486556,
          5973089.499850996,
          10322025.29205814,
          5876500.800674612,
          20506961.102196526,
          13918460.08138891,
          6429290.374374664,
          12200000.730655406,
          3852568.7737842067,
          7786508.620979892,
          22196168.69849708,
          1702520.419526849,
          64250301.01136276,
          12990859.036266793,
          11438806.056216285,
          21695958.54097782,
          27654111.76017189,
          17604001.967891984,
          149512529.69990855,
          11882439.647828223,
          16393155.870928217,
          2257760.875171697,
          32874035.881073296,
          24429784.78081058,
          43579403.52819876,
          12651793.788727818,
          5806629.590414992,
          4696838.0358681725,
          12286634.302419845,
          73470966.0793496,
          6251682.90411647,
          7621915.265840188,
          8515910.618543467,
          22268236.942573436,
          41374003.65862872,
          12409182.69357058,
          29081136.16201495,
          4650639.658448204,
          25742595.551859386,
          103748857.80161077,
          12821153.129861785,
          9210963.019829355,
          37834166.40651578,
          5836711.425451003,
          55568912.408176556,
          3111991.072013708,
          16321503.355364125,
          12761348.482166372,
          26585425.147591807,
          131960212.38765877,
          14702115.001524895,
          22491132.242580224,
          32919829.72997558,
          10681965.979157748,
          6080609.79166089,
          23597440.313001946,
          7326206.987226873,
          32667665.515739407,
          38471759.85718891,
          10243497.033568744,
          6411110.318190748,
          11792323.805517808,
          10637988.78244476,
          25706427.12907672,
          4411047.192564723,
          51967855.6385338,
          24638468.46820245,
          5670060.730919534,
          2296082.8274108423,
          4527794.25926077,
          11481682.223969646,
          41453373.143540174,
          8933012.879660651,
          14233887.746615559,
          13255394.022975562,
          11038529.310558401,
          8509478.928208001,
          28387920.993356064,
          7526267.206065028,
          6975197.069111384,
          5790764.682719797,
          11201406.924986819,
          29729258.562742863,
          10050689.677609658,
          5431434.7325616805,
          21722394.385903597,
          12212038.81672781,
          6139205.357403353,
          17803844.406569894,
          16601091.963303255,
          11000221.608071052,
          34937255.53604233,
          9553819.30014303,
          15788628.467053693,
          19554818.658924587,
          100192438.6074715,
          13925949.390585143,
          24692629.23640833,
          94133540.2253178,
          9999670.812030774,
          15769403.368821627,
          27917736.286383,
          39949862.59865326,
          10353045.660232987,
          24534976.955842532,
          19293898.025106665,
          76526493.78139627,
          71607446.37447688,
          127622136.07858521,
          24001642.98826414,
          24355821.920639362,
          72357964.96625808,
          12698209.763556466,
          93893655.25446454,
          14978464.519750401,
          15204309.325896591,
          34962083.4484749,
          17775320.196225442,
          24410120.84341874,
          42318900.224656485,
          8708681.822985934,
          20363689.88658625,
          16622561.963938586,
          203927753.71447283,
          80060392.67511788,
          39459244.01462774,
          36717403.59553081,
          17069180.45039478,
          29592341.676534645,
          14669894.612897556,
          34222423.21208611,
          6978544.091235453,
          8189089.886153296,
          35998339.058059454,
          34604696.86326811,
          10982822.721811898,
          122043306.24856591,
          14509221.56853779,
          12733061.825004224,
          24515767.904023618,
          42064324.915736526,
          51672805.816105545,
          16353900.949290486,
          5412333.590505212,
          65580935.17228286,
          34974318.329532,
          11441148.30726615,
          115962617.01588494,
          105279768.41271195,
          72634516.15484492,
          60545763.221074164,
          25651179.786690403,
          41533158.03161757,
          116844446.07400453,
          11902188.707365718,
          9897505.307054203,
          26398933.841482446,
          30983454.521619912,
          27323722.2397781,
          32630564.986724496,
          13899246.592941742,
          5491331.112776764,
          13821517.720943473,
          36198644.47529995,
          12953127.876603786,
          18282700.814850766,
          22513011.63208598,
          85979829.95059223,
          20562300.95487567,
          111662252.6823509,
          13859990.395832246,
          27506135.734071776,
          14750049.845222406,
          174649884.03223076,
          32722093.091504157,
          24151385.920699175,
          13821650.78525287
         ],
         "yaxis": "y"
        },
        {
         "mode": "lines",
         "name": "y=x",
         "type": "scatter",
         "x": [
          7355622,
          25888154,
          25427560,
          30316510,
          22635037,
          13242895,
          12148041,
          17728313,
          3520626,
          48464322,
          3719177,
          54308575,
          15315435,
          7105735,
          13143310,
          4002226,
          15371203,
          23618556,
          8070493,
          10812861,
          5002521,
          3238433,
          70403148,
          44213073,
          4408252,
          8317545,
          5787266,
          102665981,
          9880536,
          6652996,
          29632823,
          39155217,
          16293325,
          11053366,
          10531026,
          13922855,
          14287159,
          247966675,
          38740203,
          17015168,
          10513749,
          9800252,
          15706645,
          39826840,
          12741176,
          35243095,
          16194738,
          6844137,
          10778392,
          11111875,
          10326356,
          5900528,
          41282042,
          10288932,
          5324240,
          11355225,
          13841146,
          17878911,
          132434639,
          11801271,
          8800230,
          7353922,
          6109085,
          14123903,
          6084682,
          75063401,
          21635601,
          7450275,
          24727437,
          3258327,
          3961556,
          3294876,
          14812393,
          29027348,
          166007347,
          17861950,
          7623662,
          4055940,
          23586645,
          5107604,
          103261464,
          20242415,
          5767278,
          19445035,
          8369184,
          4869278,
          9453224,
          179139142,
          14788157,
          11203270,
          38155177,
          21760405,
          65769562,
          26858726,
          35316382,
          18723269,
          4698715,
          40406314,
          24166110,
          22383146,
          35535250,
          135060273,
          41039944,
          16800868,
          7572206,
          31515110,
          38527856,
          18775350,
          104352905,
          16628170,
          5303775,
          3964646,
          46018755,
          21373064,
          59253211,
          21688103,
          9445456,
          59215365,
          23817340,
          133682248,
          6249915,
          34263534,
          6601313,
          21514095,
          3551931,
          12608372,
          11203815,
          14685305,
          7456525,
          26411706,
          4765838,
          14202323,
          35028301,
          9576057,
          8000058,
          8571785,
          34703397,
          21311407,
          2495427,
          28871140,
          20223544,
          6541205,
          7004254,
          24536265,
          6878437,
          11767210,
          24710273,
          22872490,
          28501448,
          14065500,
          5461475,
          1489470,
          14860425,
          85058311,
          46581142,
          15190758,
          15134235,
          3613567,
          24074047,
          3161381,
          4223828,
          74403387,
          4754215,
          12701743,
          6176680,
          56631401,
          3760097,
          2534884,
          16890204,
          9553414,
          155081681,
          7102085,
          35258145,
          10278225,
          14869736,
          11613765,
          11002986,
          5106046,
          22800057,
          13688751,
          13501349,
          8344128,
          10950705,
          40010975,
          20130142,
          3404102,
          13601682,
          18222810,
          3775596,
          13002632,
          46607250,
          30436123,
          53003468,
          18469620,
          12201873,
          33377060,
          3704749,
          16172119,
          4690214,
          88411916,
          61025472,
          174750616,
          4137230,
          40300288,
          12501936,
          7722802,
          2684185,
          18676033,
          50198902,
          3967885,
          3090633,
          11932330,
          13210449,
          98786705,
          4095718,
          4785431,
          12252439,
          9034148,
          146510104,
          15371270,
          19542248,
          36160621,
          11727390,
          7126084,
          18503871,
          62983253,
          103251471,
          23851539,
          31668375,
          5988370,
          11205562,
          8004283,
          26435354,
          53688680,
          44680073,
          7563040,
          20553320,
          72434025,
          8724795,
          117027503,
          56262929,
          17007624,
          50513488,
          31201920,
          7125601,
          18286420,
          24531923,
          19153698,
          10016323,
          4600976,
          35006404,
          8342311,
          21384504,
          7600036,
          2702430,
          4730038,
          8567881,
          123403419,
          14846778,
          7534673,
          39023010,
          20433071,
          3408594,
          3006155,
          16776390,
          6574326,
          32753122,
          8885899,
          26039025,
          13113024,
          13707376,
          2591985,
          6002665,
          21226953,
          3372565,
          16640452,
          3817700,
          2840246,
          16759161,
          122744989,
          4057559,
          4396537,
          28681472,
          29651193,
          93842239,
          27547866,
          9812674,
          4447070,
          50802605,
          3891945,
          3530022,
          6366243,
          3201459,
          2861168,
          220009584,
          13401586,
          36169328,
          8805843,
          19361968,
          19928525,
          4954287,
          3287451,
          10110739,
          5584684,
          6856578,
          3246720,
          29581355,
          9959053,
          11001961,
          13701452,
          15206108,
          15815025,
          4245630,
          24167011,
          9307626,
          38560195,
          25010928,
          12554286,
          202003951,
          3190525,
          17005332,
          11071584,
          3016149,
          16853422,
          13010267,
          33123609,
          10402271,
          3024399,
          23633317,
          17108914,
          11756244,
          28116535,
          10604774,
          5172585,
          4003993,
          3762145,
          5475139,
          41764050,
          17170707,
          50203562,
          20556350,
          5765854,
          35753093,
          16030218,
          15181624,
          3941338,
          257698183,
          14711101,
          17886075,
          17630285,
          6023972,
          13582231,
          125507153,
          84420489,
          11603039,
          4670905,
          41607378,
          13575173,
          3232790,
          6870740,
          182687905,
          14947396,
          148024610,
          19007566,
          15242781,
          17374280,
          4208881,
          75812205,
          44076225,
          24905015,
          2850892,
          34952180,
          36011640,
          3653035,
          61236534,
          10411189,
          24585139,
          12103043,
          5842609,
          2554766,
          11371866,
          45402195,
          10845330,
          26510140,
          13710825,
          10352512,
          9532425,
          2798229,
          6066463,
          6022758,
          3035618,
          53807379,
          13423255,
          24632284,
          16011689,
          8860431,
          26608020,
          3008563,
          5130963,
          27257615,
          23045635,
          80255756,
          42908051,
          7602108,
          16006065,
          15802225,
          7132647,
          76221545,
          2980506,
          6653777,
          13743111,
          51061119,
          20352491,
          7810112,
          10202108,
          67572855,
          62163104,
          14504315,
          12361307,
          5501520,
          35574710,
          56237634,
          9195670,
          2085123,
          6401744,
          35363376,
          7559850,
          17509431,
          2406742,
          23523121,
          67873522,
          21654047,
          6489983,
          2354205,
          7411522,
          7768371,
          6070615,
          18238172,
          20355000,
          11251263,
          40328920,
          7173887,
          4415403,
          6864744,
          34115335,
          18232087,
          11030233,
          5853061,
          14247758,
          9497665,
          28525613,
          7813113,
          55022245,
          27062332,
          153433423,
          13190286,
          15853646,
          3131525,
          71117625,
          45990748,
          6382298,
          53505326,
          24502775,
          4446190,
          6002349,
          12045147,
          11282333,
          26347631,
          357115007,
          10855054,
          9740064,
          8603407,
          5361937,
          13007709,
          54365242,
          56818067,
          8030085,
          2511530,
          91500929,
          7845658,
          6933620,
          47776293,
          25725722,
          18099805,
          32828348,
          46652680,
          5255643,
          30035838,
          8901419,
          3600647,
          120908065,
          20269723,
          92579212,
          6560030,
          12005210,
          8225384,
          191770759,
          41082018,
          60038950,
          20915346,
          17431588,
          8137584,
          5527410,
          2974391,
          10354073,
          8427265,
          3462308,
          21402605,
          4333305,
          8015590,
          21380987,
          8146533,
          91062152,
          33181361,
          2679027,
          19001398,
          18872919,
          20612100,
          96202337,
          1711988,
          30300007,
          3106730,
          20552372,
          26803104,
          36948713,
          3952157,
          8376846,
          8865082,
          2633717,
          29033832,
          11676720,
          3500454,
          2901335,
          17897419,
          14114124,
          11441055,
          8351109,
          5605051,
          31474958,
          130263358,
          13251238,
          9261268,
          26769548,
          11890490,
          59251543,
          4240245,
          4705265,
          5109146,
          6619870,
          177383864,
          16755310,
          13354798,
          37000200,
          9713228,
          11404113,
          7008297,
          10011272,
          62504105,
          21844045,
          10651884,
          6950045,
          6154007,
          2715384,
          33010017,
          12181865,
          58018348,
          24791624,
          5823006,
          3600000,
          4805785,
          28205665,
          39119861,
          8170315,
          9176695,
          9103614,
          5304455,
          4020761,
          7037017,
          3623880,
          3607966,
          3119875,
          3600355,
          9724200,
          2250430,
          3104204,
          3775350,
          6820100,
          3153456,
          21144800,
          8309007,
          8750034,
          47547231,
          6101050,
          10101066,
          11397820,
          70043165,
          12551220,
          16000665,
          80366312,
          8801391,
          16854735,
          13367853,
          35018731,
          6745121,
          10622473,
          13148340,
          75388688,
          90033210,
          55225007,
          49404980,
          4759151,
          41000000,
          4178460,
          71297219,
          16627491,
          5406033,
          44008406,
          5319280,
          14423794,
          27206494,
          1911827,
          10574618,
          2811703,
          260138569,
          10749011,
          5915542,
          22326230,
          4621765,
          30018805,
          23154388,
          9868997,
          3502475,
          7949980,
          12891123,
          44010155,
          14883928,
          134008624,
          4275126,
          6059263,
          30453269,
          39005895,
          72105176,
          8699630,
          5402642,
          42151256,
          23950245,
          7131703,
          187420998,
          126707459,
          145075625,
          50577961,
          31211579,
          107010140,
          144165107,
          6321423,
          17253227,
          44366910,
          23003441,
          30030156,
          11575855,
          2919717,
          10543948,
          19051442,
          22609925,
          11401182,
          6444896,
          40050355,
          67004323,
          16509095,
          181339761,
          9004957,
          12151384,
          13450240,
          134100226,
          12429515,
          3603368,
          12828785
         ],
         "y": [
          7355622,
          25888154,
          25427560,
          30316510,
          22635037,
          13242895,
          12148041,
          17728313,
          3520626,
          48464322,
          3719177,
          54308575,
          15315435,
          7105735,
          13143310,
          4002226,
          15371203,
          23618556,
          8070493,
          10812861,
          5002521,
          3238433,
          70403148,
          44213073,
          4408252,
          8317545,
          5787266,
          102665981,
          9880536,
          6652996,
          29632823,
          39155217,
          16293325,
          11053366,
          10531026,
          13922855,
          14287159,
          247966675,
          38740203,
          17015168,
          10513749,
          9800252,
          15706645,
          39826840,
          12741176,
          35243095,
          16194738,
          6844137,
          10778392,
          11111875,
          10326356,
          5900528,
          41282042,
          10288932,
          5324240,
          11355225,
          13841146,
          17878911,
          132434639,
          11801271,
          8800230,
          7353922,
          6109085,
          14123903,
          6084682,
          75063401,
          21635601,
          7450275,
          24727437,
          3258327,
          3961556,
          3294876,
          14812393,
          29027348,
          166007347,
          17861950,
          7623662,
          4055940,
          23586645,
          5107604,
          103261464,
          20242415,
          5767278,
          19445035,
          8369184,
          4869278,
          9453224,
          179139142,
          14788157,
          11203270,
          38155177,
          21760405,
          65769562,
          26858726,
          35316382,
          18723269,
          4698715,
          40406314,
          24166110,
          22383146,
          35535250,
          135060273,
          41039944,
          16800868,
          7572206,
          31515110,
          38527856,
          18775350,
          104352905,
          16628170,
          5303775,
          3964646,
          46018755,
          21373064,
          59253211,
          21688103,
          9445456,
          59215365,
          23817340,
          133682248,
          6249915,
          34263534,
          6601313,
          21514095,
          3551931,
          12608372,
          11203815,
          14685305,
          7456525,
          26411706,
          4765838,
          14202323,
          35028301,
          9576057,
          8000058,
          8571785,
          34703397,
          21311407,
          2495427,
          28871140,
          20223544,
          6541205,
          7004254,
          24536265,
          6878437,
          11767210,
          24710273,
          22872490,
          28501448,
          14065500,
          5461475,
          1489470,
          14860425,
          85058311,
          46581142,
          15190758,
          15134235,
          3613567,
          24074047,
          3161381,
          4223828,
          74403387,
          4754215,
          12701743,
          6176680,
          56631401,
          3760097,
          2534884,
          16890204,
          9553414,
          155081681,
          7102085,
          35258145,
          10278225,
          14869736,
          11613765,
          11002986,
          5106046,
          22800057,
          13688751,
          13501349,
          8344128,
          10950705,
          40010975,
          20130142,
          3404102,
          13601682,
          18222810,
          3775596,
          13002632,
          46607250,
          30436123,
          53003468,
          18469620,
          12201873,
          33377060,
          3704749,
          16172119,
          4690214,
          88411916,
          61025472,
          174750616,
          4137230,
          40300288,
          12501936,
          7722802,
          2684185,
          18676033,
          50198902,
          3967885,
          3090633,
          11932330,
          13210449,
          98786705,
          4095718,
          4785431,
          12252439,
          9034148,
          146510104,
          15371270,
          19542248,
          36160621,
          11727390,
          7126084,
          18503871,
          62983253,
          103251471,
          23851539,
          31668375,
          5988370,
          11205562,
          8004283,
          26435354,
          53688680,
          44680073,
          7563040,
          20553320,
          72434025,
          8724795,
          117027503,
          56262929,
          17007624,
          50513488,
          31201920,
          7125601,
          18286420,
          24531923,
          19153698,
          10016323,
          4600976,
          35006404,
          8342311,
          21384504,
          7600036,
          2702430,
          4730038,
          8567881,
          123403419,
          14846778,
          7534673,
          39023010,
          20433071,
          3408594,
          3006155,
          16776390,
          6574326,
          32753122,
          8885899,
          26039025,
          13113024,
          13707376,
          2591985,
          6002665,
          21226953,
          3372565,
          16640452,
          3817700,
          2840246,
          16759161,
          122744989,
          4057559,
          4396537,
          28681472,
          29651193,
          93842239,
          27547866,
          9812674,
          4447070,
          50802605,
          3891945,
          3530022,
          6366243,
          3201459,
          2861168,
          220009584,
          13401586,
          36169328,
          8805843,
          19361968,
          19928525,
          4954287,
          3287451,
          10110739,
          5584684,
          6856578,
          3246720,
          29581355,
          9959053,
          11001961,
          13701452,
          15206108,
          15815025,
          4245630,
          24167011,
          9307626,
          38560195,
          25010928,
          12554286,
          202003951,
          3190525,
          17005332,
          11071584,
          3016149,
          16853422,
          13010267,
          33123609,
          10402271,
          3024399,
          23633317,
          17108914,
          11756244,
          28116535,
          10604774,
          5172585,
          4003993,
          3762145,
          5475139,
          41764050,
          17170707,
          50203562,
          20556350,
          5765854,
          35753093,
          16030218,
          15181624,
          3941338,
          257698183,
          14711101,
          17886075,
          17630285,
          6023972,
          13582231,
          125507153,
          84420489,
          11603039,
          4670905,
          41607378,
          13575173,
          3232790,
          6870740,
          182687905,
          14947396,
          148024610,
          19007566,
          15242781,
          17374280,
          4208881,
          75812205,
          44076225,
          24905015,
          2850892,
          34952180,
          36011640,
          3653035,
          61236534,
          10411189,
          24585139,
          12103043,
          5842609,
          2554766,
          11371866,
          45402195,
          10845330,
          26510140,
          13710825,
          10352512,
          9532425,
          2798229,
          6066463,
          6022758,
          3035618,
          53807379,
          13423255,
          24632284,
          16011689,
          8860431,
          26608020,
          3008563,
          5130963,
          27257615,
          23045635,
          80255756,
          42908051,
          7602108,
          16006065,
          15802225,
          7132647,
          76221545,
          2980506,
          6653777,
          13743111,
          51061119,
          20352491,
          7810112,
          10202108,
          67572855,
          62163104,
          14504315,
          12361307,
          5501520,
          35574710,
          56237634,
          9195670,
          2085123,
          6401744,
          35363376,
          7559850,
          17509431,
          2406742,
          23523121,
          67873522,
          21654047,
          6489983,
          2354205,
          7411522,
          7768371,
          6070615,
          18238172,
          20355000,
          11251263,
          40328920,
          7173887,
          4415403,
          6864744,
          34115335,
          18232087,
          11030233,
          5853061,
          14247758,
          9497665,
          28525613,
          7813113,
          55022245,
          27062332,
          153433423,
          13190286,
          15853646,
          3131525,
          71117625,
          45990748,
          6382298,
          53505326,
          24502775,
          4446190,
          6002349,
          12045147,
          11282333,
          26347631,
          357115007,
          10855054,
          9740064,
          8603407,
          5361937,
          13007709,
          54365242,
          56818067,
          8030085,
          2511530,
          91500929,
          7845658,
          6933620,
          47776293,
          25725722,
          18099805,
          32828348,
          46652680,
          5255643,
          30035838,
          8901419,
          3600647,
          120908065,
          20269723,
          92579212,
          6560030,
          12005210,
          8225384,
          191770759,
          41082018,
          60038950,
          20915346,
          17431588,
          8137584,
          5527410,
          2974391,
          10354073,
          8427265,
          3462308,
          21402605,
          4333305,
          8015590,
          21380987,
          8146533,
          91062152,
          33181361,
          2679027,
          19001398,
          18872919,
          20612100,
          96202337,
          1711988,
          30300007,
          3106730,
          20552372,
          26803104,
          36948713,
          3952157,
          8376846,
          8865082,
          2633717,
          29033832,
          11676720,
          3500454,
          2901335,
          17897419,
          14114124,
          11441055,
          8351109,
          5605051,
          31474958,
          130263358,
          13251238,
          9261268,
          26769548,
          11890490,
          59251543,
          4240245,
          4705265,
          5109146,
          6619870,
          177383864,
          16755310,
          13354798,
          37000200,
          9713228,
          11404113,
          7008297,
          10011272,
          62504105,
          21844045,
          10651884,
          6950045,
          6154007,
          2715384,
          33010017,
          12181865,
          58018348,
          24791624,
          5823006,
          3600000,
          4805785,
          28205665,
          39119861,
          8170315,
          9176695,
          9103614,
          5304455,
          4020761,
          7037017,
          3623880,
          3607966,
          3119875,
          3600355,
          9724200,
          2250430,
          3104204,
          3775350,
          6820100,
          3153456,
          21144800,
          8309007,
          8750034,
          47547231,
          6101050,
          10101066,
          11397820,
          70043165,
          12551220,
          16000665,
          80366312,
          8801391,
          16854735,
          13367853,
          35018731,
          6745121,
          10622473,
          13148340,
          75388688,
          90033210,
          55225007,
          49404980,
          4759151,
          41000000,
          4178460,
          71297219,
          16627491,
          5406033,
          44008406,
          5319280,
          14423794,
          27206494,
          1911827,
          10574618,
          2811703,
          260138569,
          10749011,
          5915542,
          22326230,
          4621765,
          30018805,
          23154388,
          9868997,
          3502475,
          7949980,
          12891123,
          44010155,
          14883928,
          134008624,
          4275126,
          6059263,
          30453269,
          39005895,
          72105176,
          8699630,
          5402642,
          42151256,
          23950245,
          7131703,
          187420998,
          126707459,
          145075625,
          50577961,
          31211579,
          107010140,
          144165107,
          6321423,
          17253227,
          44366910,
          23003441,
          30030156,
          11575855,
          2919717,
          10543948,
          19051442,
          22609925,
          11401182,
          6444896,
          40050355,
          67004323,
          16509095,
          181339761,
          9004957,
          12151384,
          13450240,
          134100226,
          12429515,
          3603368,
          12828785
         ]
        }
       ],
       "layout": {
        "coloraxis": {
         "colorbar": {
          "title": {
           "text": "extra"
          }
         },
         "colorscale": [
          [
           0,
           "#0d0887"
          ],
          [
           0.1111111111111111,
           "#46039f"
          ],
          [
           0.2222222222222222,
           "#7201a8"
          ],
          [
           0.3333333333333333,
           "#9c179e"
          ],
          [
           0.4444444444444444,
           "#bd3786"
          ],
          [
           0.5555555555555556,
           "#d8576b"
          ],
          [
           0.6666666666666666,
           "#ed7953"
          ],
          [
           0.7777777777777778,
           "#fb9f3a"
          ],
          [
           0.8888888888888888,
           "#fdca26"
          ],
          [
           1,
           "#f0f921"
          ]
         ]
        },
        "legend": {
         "tracegroupgap": 0
        },
        "margin": {
         "t": 60
        },
        "template": {
         "data": {
          "bar": [
           {
            "error_x": {
             "color": "#2a3f5f"
            },
            "error_y": {
             "color": "#2a3f5f"
            },
            "marker": {
             "line": {
              "color": "#E5ECF6",
              "width": 0.5
             },
             "pattern": {
              "fillmode": "overlay",
              "size": 10,
              "solidity": 0.2
             }
            },
            "type": "bar"
           }
          ],
          "barpolar": [
           {
            "marker": {
             "line": {
              "color": "#E5ECF6",
              "width": 0.5
             },
             "pattern": {
              "fillmode": "overlay",
              "size": 10,
              "solidity": 0.2
             }
            },
            "type": "barpolar"
           }
          ],
          "carpet": [
           {
            "aaxis": {
             "endlinecolor": "#2a3f5f",
             "gridcolor": "white",
             "linecolor": "white",
             "minorgridcolor": "white",
             "startlinecolor": "#2a3f5f"
            },
            "baxis": {
             "endlinecolor": "#2a3f5f",
             "gridcolor": "white",
             "linecolor": "white",
             "minorgridcolor": "white",
             "startlinecolor": "#2a3f5f"
            },
            "type": "carpet"
           }
          ],
          "choropleth": [
           {
            "colorbar": {
             "outlinewidth": 0,
             "ticks": ""
            },
            "type": "choropleth"
           }
          ],
          "contour": [
           {
            "colorbar": {
             "outlinewidth": 0,
             "ticks": ""
            },
            "colorscale": [
             [
              0,
              "#0d0887"
             ],
             [
              0.1111111111111111,
              "#46039f"
             ],
             [
              0.2222222222222222,
              "#7201a8"
             ],
             [
              0.3333333333333333,
              "#9c179e"
             ],
             [
              0.4444444444444444,
              "#bd3786"
             ],
             [
              0.5555555555555556,
              "#d8576b"
             ],
             [
              0.6666666666666666,
              "#ed7953"
             ],
             [
              0.7777777777777778,
              "#fb9f3a"
             ],
             [
              0.8888888888888888,
              "#fdca26"
             ],
             [
              1,
              "#f0f921"
             ]
            ],
            "type": "contour"
           }
          ],
          "contourcarpet": [
           {
            "colorbar": {
             "outlinewidth": 0,
             "ticks": ""
            },
            "type": "contourcarpet"
           }
          ],
          "heatmap": [
           {
            "colorbar": {
             "outlinewidth": 0,
             "ticks": ""
            },
            "colorscale": [
             [
              0,
              "#0d0887"
             ],
             [
              0.1111111111111111,
              "#46039f"
             ],
             [
              0.2222222222222222,
              "#7201a8"
             ],
             [
              0.3333333333333333,
              "#9c179e"
             ],
             [
              0.4444444444444444,
              "#bd3786"
             ],
             [
              0.5555555555555556,
              "#d8576b"
             ],
             [
              0.6666666666666666,
              "#ed7953"
             ],
             [
              0.7777777777777778,
              "#fb9f3a"
             ],
             [
              0.8888888888888888,
              "#fdca26"
             ],
             [
              1,
              "#f0f921"
             ]
            ],
            "type": "heatmap"
           }
          ],
          "heatmapgl": [
           {
            "colorbar": {
             "outlinewidth": 0,
             "ticks": ""
            },
            "colorscale": [
             [
              0,
              "#0d0887"
             ],
             [
              0.1111111111111111,
              "#46039f"
             ],
             [
              0.2222222222222222,
              "#7201a8"
             ],
             [
              0.3333333333333333,
              "#9c179e"
             ],
             [
              0.4444444444444444,
              "#bd3786"
             ],
             [
              0.5555555555555556,
              "#d8576b"
             ],
             [
              0.6666666666666666,
              "#ed7953"
             ],
             [
              0.7777777777777778,
              "#fb9f3a"
             ],
             [
              0.8888888888888888,
              "#fdca26"
             ],
             [
              1,
              "#f0f921"
             ]
            ],
            "type": "heatmapgl"
           }
          ],
          "histogram": [
           {
            "marker": {
             "pattern": {
              "fillmode": "overlay",
              "size": 10,
              "solidity": 0.2
             }
            },
            "type": "histogram"
           }
          ],
          "histogram2d": [
           {
            "colorbar": {
             "outlinewidth": 0,
             "ticks": ""
            },
            "colorscale": [
             [
              0,
              "#0d0887"
             ],
             [
              0.1111111111111111,
              "#46039f"
             ],
             [
              0.2222222222222222,
              "#7201a8"
             ],
             [
              0.3333333333333333,
              "#9c179e"
             ],
             [
              0.4444444444444444,
              "#bd3786"
             ],
             [
              0.5555555555555556,
              "#d8576b"
             ],
             [
              0.6666666666666666,
              "#ed7953"
             ],
             [
              0.7777777777777778,
              "#fb9f3a"
             ],
             [
              0.8888888888888888,
              "#fdca26"
             ],
             [
              1,
              "#f0f921"
             ]
            ],
            "type": "histogram2d"
           }
          ],
          "histogram2dcontour": [
           {
            "colorbar": {
             "outlinewidth": 0,
             "ticks": ""
            },
            "colorscale": [
             [
              0,
              "#0d0887"
             ],
             [
              0.1111111111111111,
              "#46039f"
             ],
             [
              0.2222222222222222,
              "#7201a8"
             ],
             [
              0.3333333333333333,
              "#9c179e"
             ],
             [
              0.4444444444444444,
              "#bd3786"
             ],
             [
              0.5555555555555556,
              "#d8576b"
             ],
             [
              0.6666666666666666,
              "#ed7953"
             ],
             [
              0.7777777777777778,
              "#fb9f3a"
             ],
             [
              0.8888888888888888,
              "#fdca26"
             ],
             [
              1,
              "#f0f921"
             ]
            ],
            "type": "histogram2dcontour"
           }
          ],
          "mesh3d": [
           {
            "colorbar": {
             "outlinewidth": 0,
             "ticks": ""
            },
            "type": "mesh3d"
           }
          ],
          "parcoords": [
           {
            "line": {
             "colorbar": {
              "outlinewidth": 0,
              "ticks": ""
             }
            },
            "type": "parcoords"
           }
          ],
          "pie": [
           {
            "automargin": true,
            "type": "pie"
           }
          ],
          "scatter": [
           {
            "fillpattern": {
             "fillmode": "overlay",
             "size": 10,
             "solidity": 0.2
            },
            "type": "scatter"
           }
          ],
          "scatter3d": [
           {
            "line": {
             "colorbar": {
              "outlinewidth": 0,
              "ticks": ""
             }
            },
            "marker": {
             "colorbar": {
              "outlinewidth": 0,
              "ticks": ""
             }
            },
            "type": "scatter3d"
           }
          ],
          "scattercarpet": [
           {
            "marker": {
             "colorbar": {
              "outlinewidth": 0,
              "ticks": ""
             }
            },
            "type": "scattercarpet"
           }
          ],
          "scattergeo": [
           {
            "marker": {
             "colorbar": {
              "outlinewidth": 0,
              "ticks": ""
             }
            },
            "type": "scattergeo"
           }
          ],
          "scattergl": [
           {
            "marker": {
             "colorbar": {
              "outlinewidth": 0,
              "ticks": ""
             }
            },
            "type": "scattergl"
           }
          ],
          "scattermapbox": [
           {
            "marker": {
             "colorbar": {
              "outlinewidth": 0,
              "ticks": ""
             }
            },
            "type": "scattermapbox"
           }
          ],
          "scatterpolar": [
           {
            "marker": {
             "colorbar": {
              "outlinewidth": 0,
              "ticks": ""
             }
            },
            "type": "scatterpolar"
           }
          ],
          "scatterpolargl": [
           {
            "marker": {
             "colorbar": {
              "outlinewidth": 0,
              "ticks": ""
             }
            },
            "type": "scatterpolargl"
           }
          ],
          "scatterternary": [
           {
            "marker": {
             "colorbar": {
              "outlinewidth": 0,
              "ticks": ""
             }
            },
            "type": "scatterternary"
           }
          ],
          "surface": [
           {
            "colorbar": {
             "outlinewidth": 0,
             "ticks": ""
            },
            "colorscale": [
             [
              0,
              "#0d0887"
             ],
             [
              0.1111111111111111,
              "#46039f"
             ],
             [
              0.2222222222222222,
              "#7201a8"
             ],
             [
              0.3333333333333333,
              "#9c179e"
             ],
             [
              0.4444444444444444,
              "#bd3786"
             ],
             [
              0.5555555555555556,
              "#d8576b"
             ],
             [
              0.6666666666666666,
              "#ed7953"
             ],
             [
              0.7777777777777778,
              "#fb9f3a"
             ],
             [
              0.8888888888888888,
              "#fdca26"
             ],
             [
              1,
              "#f0f921"
             ]
            ],
            "type": "surface"
           }
          ],
          "table": [
           {
            "cells": {
             "fill": {
              "color": "#EBF0F8"
             },
             "line": {
              "color": "white"
             }
            },
            "header": {
             "fill": {
              "color": "#C8D4E3"
             },
             "line": {
              "color": "white"
             }
            },
            "type": "table"
           }
          ]
         },
         "layout": {
          "annotationdefaults": {
           "arrowcolor": "#2a3f5f",
           "arrowhead": 0,
           "arrowwidth": 1
          },
          "autotypenumbers": "strict",
          "coloraxis": {
           "colorbar": {
            "outlinewidth": 0,
            "ticks": ""
           }
          },
          "colorscale": {
           "diverging": [
            [
             0,
             "#8e0152"
            ],
            [
             0.1,
             "#c51b7d"
            ],
            [
             0.2,
             "#de77ae"
            ],
            [
             0.3,
             "#f1b6da"
            ],
            [
             0.4,
             "#fde0ef"
            ],
            [
             0.5,
             "#f7f7f7"
            ],
            [
             0.6,
             "#e6f5d0"
            ],
            [
             0.7,
             "#b8e186"
            ],
            [
             0.8,
             "#7fbc41"
            ],
            [
             0.9,
             "#4d9221"
            ],
            [
             1,
             "#276419"
            ]
           ],
           "sequential": [
            [
             0,
             "#0d0887"
            ],
            [
             0.1111111111111111,
             "#46039f"
            ],
            [
             0.2222222222222222,
             "#7201a8"
            ],
            [
             0.3333333333333333,
             "#9c179e"
            ],
            [
             0.4444444444444444,
             "#bd3786"
            ],
            [
             0.5555555555555556,
             "#d8576b"
            ],
            [
             0.6666666666666666,
             "#ed7953"
            ],
            [
             0.7777777777777778,
             "#fb9f3a"
            ],
            [
             0.8888888888888888,
             "#fdca26"
            ],
            [
             1,
             "#f0f921"
            ]
           ],
           "sequentialminus": [
            [
             0,
             "#0d0887"
            ],
            [
             0.1111111111111111,
             "#46039f"
            ],
            [
             0.2222222222222222,
             "#7201a8"
            ],
            [
             0.3333333333333333,
             "#9c179e"
            ],
            [
             0.4444444444444444,
             "#bd3786"
            ],
            [
             0.5555555555555556,
             "#d8576b"
            ],
            [
             0.6666666666666666,
             "#ed7953"
            ],
            [
             0.7777777777777778,
             "#fb9f3a"
            ],
            [
             0.8888888888888888,
             "#fdca26"
            ],
            [
             1,
             "#f0f921"
            ]
           ]
          },
          "colorway": [
           "#636efa",
           "#EF553B",
           "#00cc96",
           "#ab63fa",
           "#FFA15A",
           "#19d3f3",
           "#FF6692",
           "#B6E880",
           "#FF97FF",
           "#FECB52"
          ],
          "font": {
           "color": "#2a3f5f"
          },
          "geo": {
           "bgcolor": "white",
           "lakecolor": "white",
           "landcolor": "#E5ECF6",
           "showlakes": true,
           "showland": true,
           "subunitcolor": "white"
          },
          "hoverlabel": {
           "align": "left"
          },
          "hovermode": "closest",
          "mapbox": {
           "style": "light"
          },
          "paper_bgcolor": "white",
          "plot_bgcolor": "#E5ECF6",
          "polar": {
           "angularaxis": {
            "gridcolor": "white",
            "linecolor": "white",
            "ticks": ""
           },
           "bgcolor": "#E5ECF6",
           "radialaxis": {
            "gridcolor": "white",
            "linecolor": "white",
            "ticks": ""
           }
          },
          "scene": {
           "xaxis": {
            "backgroundcolor": "#E5ECF6",
            "gridcolor": "white",
            "gridwidth": 2,
            "linecolor": "white",
            "showbackground": true,
            "ticks": "",
            "zerolinecolor": "white"
           },
           "yaxis": {
            "backgroundcolor": "#E5ECF6",
            "gridcolor": "white",
            "gridwidth": 2,
            "linecolor": "white",
            "showbackground": true,
            "ticks": "",
            "zerolinecolor": "white"
           },
           "zaxis": {
            "backgroundcolor": "#E5ECF6",
            "gridcolor": "white",
            "gridwidth": 2,
            "linecolor": "white",
            "showbackground": true,
            "ticks": "",
            "zerolinecolor": "white"
           }
          },
          "shapedefaults": {
           "line": {
            "color": "#2a3f5f"
           }
          },
          "ternary": {
           "aaxis": {
            "gridcolor": "white",
            "linecolor": "white",
            "ticks": ""
           },
           "baxis": {
            "gridcolor": "white",
            "linecolor": "white",
            "ticks": ""
           },
           "bgcolor": "#E5ECF6",
           "caxis": {
            "gridcolor": "white",
            "linecolor": "white",
            "ticks": ""
           }
          },
          "title": {
           "x": 0.05
          },
          "xaxis": {
           "automargin": true,
           "gridcolor": "white",
           "linecolor": "white",
           "ticks": "",
           "title": {
            "standoff": 15
           },
           "zerolinecolor": "white",
           "zerolinewidth": 2
          },
          "yaxis": {
           "automargin": true,
           "gridcolor": "white",
           "linecolor": "white",
           "ticks": "",
           "title": {
            "standoff": 15
           },
           "zerolinecolor": "white",
           "zerolinewidth": 2
          }
         }
        },
        "title": {
         "text": "Actual vs Predicted Opening Weekend Revenue"
        },
        "xaxis": {
         "anchor": "y",
         "domain": [
          0,
          1
         ],
         "title": {
          "text": "Actual"
         }
        },
        "yaxis": {
         "anchor": "x",
         "domain": [
          0,
          1
         ],
         "title": {
          "text": "Predicted"
         }
        }
       }
      }
     },
     "metadata": {},
     "output_type": "display_data"
    }
   ],
   "source": [
    "# print all columns that start with production_method\n",
    "print([col for col in X_train.columns if col.startswith(\"production_method\")])\n",
    "\n",
    "# formula = \"sqrt_opening_wide_revenue ~ 0 + sqrt_top_5_trailer_views + sqrt_budget + sqrt_wikipedia_pre_release_cumulative_views + sqrt_wikipedia_pre_release_cumulative_views :  metacritic_before_wide_friday_calculated : in_franchise\"\n",
    "formula = \"opening_wide_revenue ~ 0 + top_5_trailer_views + budget + wikipedia_pre_release_cumulative_views + wikipedia_pre_release_cumulative_views :  metacritic_before_wide_friday_calculated : in_franchise\"\n",
    "\n",
    "# \"metacritic_review_count\",\n",
    "# \"metacritic_score_calculated\",\n",
    "# \"metacritic_monday_before_wide_friday_calculated\",\n",
    "# \"metacritic_before_wide_friday_calculated\",\n",
    "# \"metacritic_before_first_day_calculated\"\n",
    "\n",
    "# add in the interactions\n",
    "model_simple_glm = smf.glm(formula=formula, data=X_train).fit()\n",
    "\n",
    "pred_simple_glm = model_simple_glm.predict(X_test)\n",
    "\n",
    "# pred_simple_glm = np.exp(pred_simple_glm)\n",
    "# pred_simple_glm = pred_simple_glm ** 2\n",
    "\n",
    "print(\"RMSE:\", root_mean_squared_error(y_test, pred_simple_glm))\n",
    "print(model_simple_glm.summary())\n",
    "\n",
    "train_pred = model_simple_glm.predict(X_train)\n",
    "# train_pred = np.exp(train_pred)\n",
    "# train_pred = train_pred ** 2\n",
    "\n",
    "# print predictions vs actual within training data\n",
    "training_data = pd.DataFrame(\n",
    "    {\n",
    "        \"actual\": y_train,\n",
    "        \"predicted\": train_pred,\n",
    "        \"title\": X_train[\"title\"],\n",
    "        \"extra\": X_train[\"sqrt_budget\"],\n",
    "    }\n",
    ")\n",
    "\n",
    "# write to a file\n",
    "training_data.to_csv(\"training_data.csv\")\n",
    "\n",
    "fig = px.scatter(training_data, x=\"actual\", y=\"predicted\", hover_name=\"title\", color=\"extra\")\n",
    "fig.add_trace(go.Scatter(x=training_data[\"actual\"], y=training_data[\"actual\"], mode=\"lines\", name=\"y=x\"))\n",
    "fig.update_layout(title=\"Actual vs Predicted Opening Weekend Revenue\", xaxis_title=\"Actual\", yaxis_title=\"Predicted\")"
   ]
  },
  {
   "cell_type": "code",
   "execution_count": 167,
   "metadata": {},
   "outputs": [
    {
     "data": {
      "application/vnd.plotly.v1+json": {
       "config": {
        "plotlyServerURL": "https://plot.ly"
       },
       "data": [
        {
         "hovertemplate": "<b>%{hovertext}</b><br><br>actual=%{x}<br>predicted=%{y}<br>log_wikipedia_pre_release_cumulative_views=%{marker.color}<extra></extra>",
         "hovertext": [
          "M3GAN",
          "80 for Brady",
          "Knock at the Cabin",
          "Ant-Man and the Wasp: Quantumania",
          "Jesus Revolution",
          "Creed III",
          "Operation Fortune: Ruse de guerre",
          "Scream VI",
          "65",
          "Shazam! Fury of the Gods",
          "John Wick: Chapter 4",
          "Dungeons & Dragons: Honor Among Thieves",
          "His Only Son",
          "The Super Mario Bros. Movie",
          "Renfield",
          "The Pope’s Exorcist",
          "Beau is Afraid",
          "Big George Foreman: The Miraculous Story of the Once and Future Heavyweight Champion of the World",
          "Are You There God? It’s Me, Margaret",
          "Guardians of the Galaxy Vol 3",
          "Fast X",
          "The Little Mermaid",
          "The Machine",
          "Spider-Man: Across the Spider-Verse",
          "Transformers: Rise of the Beasts",
          "The Flash",
          "Elemental",
          "No Hard Feelings",
          "Ruby Gillman, Teenage Kraken",
          "Indiana Jones and the Dial of Destiny",
          "Sound of Freedom",
          "Insidious: The Red Door",
          "Oppenheimer",
          "Barbie",
          "Talk To Me",
          "Haunted Mansion",
          "Teenage Mutant Ninja Turtles: Mutant Mayhem",
          "Meg 2: The Trench",
          "The Last Voyage of the Demeter",
          "Blue Beetle",
          "Strays",
          "Dumb Money",
          "Expend4bles",
          "The Creator",
          "Saw X",
          "PAW Patrol: The Mighty Movie",
          "The Exorcist: Believer",
          "Killers of the Flower Moon",
          "Priscilla",
          "Five Nights at Freddy’s",
          "Journey to Bethlehem",
          "The Marvels",
          "Next Goal Wins",
          "The Hunger Games: The Ballad of Songbirds & Snakes",
          "Thanksgiving",
          "Trolls Band Together",
          "Wish",
          "Napoleon",
          "Godzilla Minus One (ゴジラ最新作)",
          "American Fiction",
          "Wonka",
          "Migration",
          "The Iron Claw",
          "Aquaman and the Lost Kingdom",
          "Anyone But You",
          "Ferrari",
          "Mean Girls",
          "Argylle",
          "Madame Web",
          "Dune: Part Two",
          "Kung Fu Panda 4",
          "Imaginary",
          "Cabrini",
          "Arthur the King",
          "Ghostbusters: Frozen Empire",
          "Godzilla x Kong: The New Empire",
          "Civil War",
          "Abigail",
          "Challengers",
          "Unsung Hero",
          "The Fall Guy",
          "Tarot",
          "Kingdom of the Planet of the Apes",
          "IF",
          "The Strangers: Chapter 1",
          "Furiosa: A Mad Max Saga",
          "The Garfield Movie",
          "The Watchers",
          "Bad Boys: Ride or Die",
          "Inside Out 2",
          "A Quiet Place: Day One",
          "Horizon: An American Saga Chapter 1",
          "Despicable Me 4",
          "Sound of Hope: The Story of Possum Trot",
          "Fly Me to the Moon",
          "Twisters",
          "Deadpool & Wolverine",
          "Harold and the Purple Crayon",
          "It Ends With Us",
          "Alien: Romulus",
          "The Crow",
          "Reagan",
          "Beetlejuice Beetlejuice",
          "Speak No Evil"
         ],
         "legendgroup": "",
         "marker": {
          "color": [
           13.61041687326812,
           12.985924906175642,
           13.993381391634413,
           14.704744945834777,
           12.155231880314798,
           13.738471833810898,
           13.14318901066319,
           13.949114447960799,
           13.390578186319217,
           13.824574357350661,
           14.733833224061149,
           13.6042869312329,
           7.995643604287271,
           14.228697112166168,
           13.312606806479458,
           13.461465011271644,
           12.868755463952951,
           11.43773844931995,
           10.680975881529823,
           14.604202436281605,
           14.661718681947242,
           14.399753172354082,
           12.050932309488045,
           14.465938111304059,
           14.315229530596408,
           14.853173255352425,
           13.531243979400273,
           13.689319019726396,
           13.154156574728814,
           14.682565666466777,
           12.843688617045835,
           13.22076694955144,
           15.748000341124078,
           15.135057293003403,
           13.020470176988812,
           13.19858710975809,
           13.442803497980742,
           13.581681368024384,
           13.224676253723594,
           13.994897813905174,
           12.634472724920833,
           12.428475922909234,
           13.472193146499114,
           13.830053297843106,
           13.623733639799545,
           12.416706273026223,
           13.513395495873551,
           14.765623225011467,
           12.711144749498645,
           14.237365941966532,
           0,
           14.396251347772807,
           12.462542649849187,
           13.962460517577687,
           13.322067969975695,
           13.572959901124836,
           13.884131360242062,
           14.298875772321713,
           13.614556489022318,
           12.299348940209876,
           14.327504498981801,
           13.121288800253051,
           13.847485855603288,
           14.227667227553258,
           12.653776344312304,
           13.008006964165848,
           13.687880574860474,
           14.01583819458847,
           14.141546381327691,
           14.747206419160698,
           13.848896976981907,
           12.60315605849928,
           6.371611847231857,
           12.321728976908853,
           13.636896918341089,
           14.488227964612706,
           13.381746278945812,
           13.615744120204534,
           14.0343793856524,
           11.721669843995286,
           14.04072955405222,
           12.22067057538573,
           14.498110814744877,
           13.563486449348412,
           12.534710703525011,
           14.071380704296187,
           13.435395894807808,
           13.287828662131503,
           13.159131084396543,
           13.92904190130618,
           13.580124876630256,
           11.563323859053922,
           13.743387076943284,
           11.39570602046651,
           13.186391143128558,
           14.045423942161257,
           14.89992959731761,
           12.061156694039013,
           13.174416782834273,
           14.204839509051853,
           12.903886420580784,
           12.779881519126072,
           14.09365352749709,
           13.717909856917888
          ],
          "coloraxis": "coloraxis",
          "symbol": "circle"
         },
         "mode": "markers",
         "name": "",
         "orientation": "v",
         "showlegend": false,
         "type": "scatter",
         "x": [
          30429860,
          12701640,
          14127170,
          106109650,
          15882067,
          58370007,
          3140214,
          44447270,
          12328361,
          30111158,
          73817950,
          37205784,
          5501070,
          146361865,
          8026475,
          9006368,
          2661957,
          2925364,
          6739037,
          118414021,
          67017410,
          95578040,
          5000545,
          120663589,
          61045464,
          55043679,
          29602429,
          15002770,
          5500990,
          60368101,
          19680879,
          33013036,
          82455420,
          162022044,
          10431720,
          24082475,
          28007544,
          30002735,
          6504950,
          25030225,
          8247810,
          3325504,
          8039021,
          14079512,
          18309301,
          22764354,
          26497600,
          23253655,
          5040003,
          80001720,
          2400446,
          46110859,
          2500295,
          44607143,
          10306272,
          30002525,
          19698228,
          20638887,
          11419975,
          1755364,
          39005800,
          12453275,
          4868370,
          27686211,
          6000344,
          3921773,
          28635307,
          17473540,
          15335860,
          82505391,
          57989905,
          9912713,
          7168520,
          7633898,
          45004673,
          80006561,
          25537368,
          10297110,
          15011061,
          7731539,
          27747035,
          6503012,
          58400788,
          33715801,
          11825058,
          26326462,
          24006629,
          7003537,
          56527324,
          154201673,
          52202495,
          11052561,
          75009210,
          3078758,
          9426615,
          81251415,
          211435291,
          6003197,
          50016652,
          42003361,
          4644666,
          7650720,
          111003345,
          11397595
         ],
         "xaxis": "x",
         "y": [
          36886678.33376073,
          6809918.470057747,
          22129331.092248473,
          85838751.13870402,
          10570412.3295048,
          40788117.290025376,
          15827413.580687549,
          34928853.23617248,
          16644148.937303327,
          47936838.1197478,
          95018206.23186985,
          32222789.09831846,
          113275.08221189433,
          53361992.29993577,
          31099603.838598497,
          11185141.972894631,
          11675942.613770083,
          8791712.592227839,
          10751465.33035909,
          94964742.38647947,
          115480737.30047463,
          85265398.41231051,
          4954417.506019222,
          94972508.89643723,
          74281150.04052876,
          101204391.82588424,
          48911236.75616011,
          11831177.948915694,
          18582054.15659691,
          113276995.73227122,
          8405731.741900805,
          20846825.46832585,
          69384322.2476245,
          134011413.55372724,
          10534359.276383579,
          30167811.313068584,
          33056572.88242437,
          44173007.002582535,
          15696001.323551599,
          54111455.002571285,
          13774039.550470218,
          10194819.475542702,
          30850076.86273597,
          23588359.240093805,
          26051991.638542227,
          17388024.86817562,
          27163080.120568085,
          51156896.31587283,
          7357506.590135971,
          37677081.4943354,
          2629831.2092270562,
          86696987.63648891,
          4498184.205971405,
          48561066.72386661,
          22993243.726273276,
          34197411.04030291,
          41413220.516099334,
          51597374.66310249,
          28606613.994192727,
          7110943.74912386,
          68203856.14728025,
          23948342.182418495,
          11452503.193020042,
          58658225.41607991,
          8321628.94353047,
          19814302.410574213,
          13388794.576500192,
          44007502.378863744,
          35442434.64214836,
          106233240.85222577,
          40965205.7359974,
          9960671.55977007,
          9658616.508836845,
          7025595.203816563,
          31345652.78832789,
          71829144.0202537,
          38505313.27772283,
          10240592.665389474,
          17637286.900337122,
          1871502.2171190577,
          38020342.838380635,
          5863493.113259295,
          72922781.91772223,
          27973513.549213983,
          13498609.566114053,
          67636651.94764854,
          24751602.874773238,
          12774589.967885293,
          27836091.928064726,
          80521944.35357007,
          38311935.79672672,
          11746781.645962667,
          44913781.0666793,
          2870390.7789388755,
          19081939.584990468,
          61846803.704219416,
          106372883.82130215,
          12359145.566895047,
          13852874.756819425,
          50561521.90442988,
          11967197.839169424,
          5450204.482031778,
          51345048.219335064,
          16080583.200519314
         ],
         "yaxis": "y"
        },
        {
         "mode": "lines",
         "name": "y=x",
         "type": "scatter",
         "x": [
          30429860,
          12701640,
          14127170,
          106109650,
          15882067,
          58370007,
          3140214,
          44447270,
          12328361,
          30111158,
          73817950,
          37205784,
          5501070,
          146361865,
          8026475,
          9006368,
          2661957,
          2925364,
          6739037,
          118414021,
          67017410,
          95578040,
          5000545,
          120663589,
          61045464,
          55043679,
          29602429,
          15002770,
          5500990,
          60368101,
          19680879,
          33013036,
          82455420,
          162022044,
          10431720,
          24082475,
          28007544,
          30002735,
          6504950,
          25030225,
          8247810,
          3325504,
          8039021,
          14079512,
          18309301,
          22764354,
          26497600,
          23253655,
          5040003,
          80001720,
          2400446,
          46110859,
          2500295,
          44607143,
          10306272,
          30002525,
          19698228,
          20638887,
          11419975,
          1755364,
          39005800,
          12453275,
          4868370,
          27686211,
          6000344,
          3921773,
          28635307,
          17473540,
          15335860,
          82505391,
          57989905,
          9912713,
          7168520,
          7633898,
          45004673,
          80006561,
          25537368,
          10297110,
          15011061,
          7731539,
          27747035,
          6503012,
          58400788,
          33715801,
          11825058,
          26326462,
          24006629,
          7003537,
          56527324,
          154201673,
          52202495,
          11052561,
          75009210,
          3078758,
          9426615,
          81251415,
          211435291,
          6003197,
          50016652,
          42003361,
          4644666,
          7650720,
          111003345,
          11397595
         ],
         "y": [
          30429860,
          12701640,
          14127170,
          106109650,
          15882067,
          58370007,
          3140214,
          44447270,
          12328361,
          30111158,
          73817950,
          37205784,
          5501070,
          146361865,
          8026475,
          9006368,
          2661957,
          2925364,
          6739037,
          118414021,
          67017410,
          95578040,
          5000545,
          120663589,
          61045464,
          55043679,
          29602429,
          15002770,
          5500990,
          60368101,
          19680879,
          33013036,
          82455420,
          162022044,
          10431720,
          24082475,
          28007544,
          30002735,
          6504950,
          25030225,
          8247810,
          3325504,
          8039021,
          14079512,
          18309301,
          22764354,
          26497600,
          23253655,
          5040003,
          80001720,
          2400446,
          46110859,
          2500295,
          44607143,
          10306272,
          30002525,
          19698228,
          20638887,
          11419975,
          1755364,
          39005800,
          12453275,
          4868370,
          27686211,
          6000344,
          3921773,
          28635307,
          17473540,
          15335860,
          82505391,
          57989905,
          9912713,
          7168520,
          7633898,
          45004673,
          80006561,
          25537368,
          10297110,
          15011061,
          7731539,
          27747035,
          6503012,
          58400788,
          33715801,
          11825058,
          26326462,
          24006629,
          7003537,
          56527324,
          154201673,
          52202495,
          11052561,
          75009210,
          3078758,
          9426615,
          81251415,
          211435291,
          6003197,
          50016652,
          42003361,
          4644666,
          7650720,
          111003345,
          11397595
         ]
        }
       ],
       "layout": {
        "coloraxis": {
         "colorbar": {
          "title": {
           "text": "log_wikipedia_pre_release_cumulative_views"
          }
         },
         "colorscale": [
          [
           0,
           "#0d0887"
          ],
          [
           0.1111111111111111,
           "#46039f"
          ],
          [
           0.2222222222222222,
           "#7201a8"
          ],
          [
           0.3333333333333333,
           "#9c179e"
          ],
          [
           0.4444444444444444,
           "#bd3786"
          ],
          [
           0.5555555555555556,
           "#d8576b"
          ],
          [
           0.6666666666666666,
           "#ed7953"
          ],
          [
           0.7777777777777778,
           "#fb9f3a"
          ],
          [
           0.8888888888888888,
           "#fdca26"
          ],
          [
           1,
           "#f0f921"
          ]
         ]
        },
        "legend": {
         "tracegroupgap": 0
        },
        "margin": {
         "t": 60
        },
        "template": {
         "data": {
          "bar": [
           {
            "error_x": {
             "color": "#2a3f5f"
            },
            "error_y": {
             "color": "#2a3f5f"
            },
            "marker": {
             "line": {
              "color": "#E5ECF6",
              "width": 0.5
             },
             "pattern": {
              "fillmode": "overlay",
              "size": 10,
              "solidity": 0.2
             }
            },
            "type": "bar"
           }
          ],
          "barpolar": [
           {
            "marker": {
             "line": {
              "color": "#E5ECF6",
              "width": 0.5
             },
             "pattern": {
              "fillmode": "overlay",
              "size": 10,
              "solidity": 0.2
             }
            },
            "type": "barpolar"
           }
          ],
          "carpet": [
           {
            "aaxis": {
             "endlinecolor": "#2a3f5f",
             "gridcolor": "white",
             "linecolor": "white",
             "minorgridcolor": "white",
             "startlinecolor": "#2a3f5f"
            },
            "baxis": {
             "endlinecolor": "#2a3f5f",
             "gridcolor": "white",
             "linecolor": "white",
             "minorgridcolor": "white",
             "startlinecolor": "#2a3f5f"
            },
            "type": "carpet"
           }
          ],
          "choropleth": [
           {
            "colorbar": {
             "outlinewidth": 0,
             "ticks": ""
            },
            "type": "choropleth"
           }
          ],
          "contour": [
           {
            "colorbar": {
             "outlinewidth": 0,
             "ticks": ""
            },
            "colorscale": [
             [
              0,
              "#0d0887"
             ],
             [
              0.1111111111111111,
              "#46039f"
             ],
             [
              0.2222222222222222,
              "#7201a8"
             ],
             [
              0.3333333333333333,
              "#9c179e"
             ],
             [
              0.4444444444444444,
              "#bd3786"
             ],
             [
              0.5555555555555556,
              "#d8576b"
             ],
             [
              0.6666666666666666,
              "#ed7953"
             ],
             [
              0.7777777777777778,
              "#fb9f3a"
             ],
             [
              0.8888888888888888,
              "#fdca26"
             ],
             [
              1,
              "#f0f921"
             ]
            ],
            "type": "contour"
           }
          ],
          "contourcarpet": [
           {
            "colorbar": {
             "outlinewidth": 0,
             "ticks": ""
            },
            "type": "contourcarpet"
           }
          ],
          "heatmap": [
           {
            "colorbar": {
             "outlinewidth": 0,
             "ticks": ""
            },
            "colorscale": [
             [
              0,
              "#0d0887"
             ],
             [
              0.1111111111111111,
              "#46039f"
             ],
             [
              0.2222222222222222,
              "#7201a8"
             ],
             [
              0.3333333333333333,
              "#9c179e"
             ],
             [
              0.4444444444444444,
              "#bd3786"
             ],
             [
              0.5555555555555556,
              "#d8576b"
             ],
             [
              0.6666666666666666,
              "#ed7953"
             ],
             [
              0.7777777777777778,
              "#fb9f3a"
             ],
             [
              0.8888888888888888,
              "#fdca26"
             ],
             [
              1,
              "#f0f921"
             ]
            ],
            "type": "heatmap"
           }
          ],
          "heatmapgl": [
           {
            "colorbar": {
             "outlinewidth": 0,
             "ticks": ""
            },
            "colorscale": [
             [
              0,
              "#0d0887"
             ],
             [
              0.1111111111111111,
              "#46039f"
             ],
             [
              0.2222222222222222,
              "#7201a8"
             ],
             [
              0.3333333333333333,
              "#9c179e"
             ],
             [
              0.4444444444444444,
              "#bd3786"
             ],
             [
              0.5555555555555556,
              "#d8576b"
             ],
             [
              0.6666666666666666,
              "#ed7953"
             ],
             [
              0.7777777777777778,
              "#fb9f3a"
             ],
             [
              0.8888888888888888,
              "#fdca26"
             ],
             [
              1,
              "#f0f921"
             ]
            ],
            "type": "heatmapgl"
           }
          ],
          "histogram": [
           {
            "marker": {
             "pattern": {
              "fillmode": "overlay",
              "size": 10,
              "solidity": 0.2
             }
            },
            "type": "histogram"
           }
          ],
          "histogram2d": [
           {
            "colorbar": {
             "outlinewidth": 0,
             "ticks": ""
            },
            "colorscale": [
             [
              0,
              "#0d0887"
             ],
             [
              0.1111111111111111,
              "#46039f"
             ],
             [
              0.2222222222222222,
              "#7201a8"
             ],
             [
              0.3333333333333333,
              "#9c179e"
             ],
             [
              0.4444444444444444,
              "#bd3786"
             ],
             [
              0.5555555555555556,
              "#d8576b"
             ],
             [
              0.6666666666666666,
              "#ed7953"
             ],
             [
              0.7777777777777778,
              "#fb9f3a"
             ],
             [
              0.8888888888888888,
              "#fdca26"
             ],
             [
              1,
              "#f0f921"
             ]
            ],
            "type": "histogram2d"
           }
          ],
          "histogram2dcontour": [
           {
            "colorbar": {
             "outlinewidth": 0,
             "ticks": ""
            },
            "colorscale": [
             [
              0,
              "#0d0887"
             ],
             [
              0.1111111111111111,
              "#46039f"
             ],
             [
              0.2222222222222222,
              "#7201a8"
             ],
             [
              0.3333333333333333,
              "#9c179e"
             ],
             [
              0.4444444444444444,
              "#bd3786"
             ],
             [
              0.5555555555555556,
              "#d8576b"
             ],
             [
              0.6666666666666666,
              "#ed7953"
             ],
             [
              0.7777777777777778,
              "#fb9f3a"
             ],
             [
              0.8888888888888888,
              "#fdca26"
             ],
             [
              1,
              "#f0f921"
             ]
            ],
            "type": "histogram2dcontour"
           }
          ],
          "mesh3d": [
           {
            "colorbar": {
             "outlinewidth": 0,
             "ticks": ""
            },
            "type": "mesh3d"
           }
          ],
          "parcoords": [
           {
            "line": {
             "colorbar": {
              "outlinewidth": 0,
              "ticks": ""
             }
            },
            "type": "parcoords"
           }
          ],
          "pie": [
           {
            "automargin": true,
            "type": "pie"
           }
          ],
          "scatter": [
           {
            "fillpattern": {
             "fillmode": "overlay",
             "size": 10,
             "solidity": 0.2
            },
            "type": "scatter"
           }
          ],
          "scatter3d": [
           {
            "line": {
             "colorbar": {
              "outlinewidth": 0,
              "ticks": ""
             }
            },
            "marker": {
             "colorbar": {
              "outlinewidth": 0,
              "ticks": ""
             }
            },
            "type": "scatter3d"
           }
          ],
          "scattercarpet": [
           {
            "marker": {
             "colorbar": {
              "outlinewidth": 0,
              "ticks": ""
             }
            },
            "type": "scattercarpet"
           }
          ],
          "scattergeo": [
           {
            "marker": {
             "colorbar": {
              "outlinewidth": 0,
              "ticks": ""
             }
            },
            "type": "scattergeo"
           }
          ],
          "scattergl": [
           {
            "marker": {
             "colorbar": {
              "outlinewidth": 0,
              "ticks": ""
             }
            },
            "type": "scattergl"
           }
          ],
          "scattermapbox": [
           {
            "marker": {
             "colorbar": {
              "outlinewidth": 0,
              "ticks": ""
             }
            },
            "type": "scattermapbox"
           }
          ],
          "scatterpolar": [
           {
            "marker": {
             "colorbar": {
              "outlinewidth": 0,
              "ticks": ""
             }
            },
            "type": "scatterpolar"
           }
          ],
          "scatterpolargl": [
           {
            "marker": {
             "colorbar": {
              "outlinewidth": 0,
              "ticks": ""
             }
            },
            "type": "scatterpolargl"
           }
          ],
          "scatterternary": [
           {
            "marker": {
             "colorbar": {
              "outlinewidth": 0,
              "ticks": ""
             }
            },
            "type": "scatterternary"
           }
          ],
          "surface": [
           {
            "colorbar": {
             "outlinewidth": 0,
             "ticks": ""
            },
            "colorscale": [
             [
              0,
              "#0d0887"
             ],
             [
              0.1111111111111111,
              "#46039f"
             ],
             [
              0.2222222222222222,
              "#7201a8"
             ],
             [
              0.3333333333333333,
              "#9c179e"
             ],
             [
              0.4444444444444444,
              "#bd3786"
             ],
             [
              0.5555555555555556,
              "#d8576b"
             ],
             [
              0.6666666666666666,
              "#ed7953"
             ],
             [
              0.7777777777777778,
              "#fb9f3a"
             ],
             [
              0.8888888888888888,
              "#fdca26"
             ],
             [
              1,
              "#f0f921"
             ]
            ],
            "type": "surface"
           }
          ],
          "table": [
           {
            "cells": {
             "fill": {
              "color": "#EBF0F8"
             },
             "line": {
              "color": "white"
             }
            },
            "header": {
             "fill": {
              "color": "#C8D4E3"
             },
             "line": {
              "color": "white"
             }
            },
            "type": "table"
           }
          ]
         },
         "layout": {
          "annotationdefaults": {
           "arrowcolor": "#2a3f5f",
           "arrowhead": 0,
           "arrowwidth": 1
          },
          "autotypenumbers": "strict",
          "coloraxis": {
           "colorbar": {
            "outlinewidth": 0,
            "ticks": ""
           }
          },
          "colorscale": {
           "diverging": [
            [
             0,
             "#8e0152"
            ],
            [
             0.1,
             "#c51b7d"
            ],
            [
             0.2,
             "#de77ae"
            ],
            [
             0.3,
             "#f1b6da"
            ],
            [
             0.4,
             "#fde0ef"
            ],
            [
             0.5,
             "#f7f7f7"
            ],
            [
             0.6,
             "#e6f5d0"
            ],
            [
             0.7,
             "#b8e186"
            ],
            [
             0.8,
             "#7fbc41"
            ],
            [
             0.9,
             "#4d9221"
            ],
            [
             1,
             "#276419"
            ]
           ],
           "sequential": [
            [
             0,
             "#0d0887"
            ],
            [
             0.1111111111111111,
             "#46039f"
            ],
            [
             0.2222222222222222,
             "#7201a8"
            ],
            [
             0.3333333333333333,
             "#9c179e"
            ],
            [
             0.4444444444444444,
             "#bd3786"
            ],
            [
             0.5555555555555556,
             "#d8576b"
            ],
            [
             0.6666666666666666,
             "#ed7953"
            ],
            [
             0.7777777777777778,
             "#fb9f3a"
            ],
            [
             0.8888888888888888,
             "#fdca26"
            ],
            [
             1,
             "#f0f921"
            ]
           ],
           "sequentialminus": [
            [
             0,
             "#0d0887"
            ],
            [
             0.1111111111111111,
             "#46039f"
            ],
            [
             0.2222222222222222,
             "#7201a8"
            ],
            [
             0.3333333333333333,
             "#9c179e"
            ],
            [
             0.4444444444444444,
             "#bd3786"
            ],
            [
             0.5555555555555556,
             "#d8576b"
            ],
            [
             0.6666666666666666,
             "#ed7953"
            ],
            [
             0.7777777777777778,
             "#fb9f3a"
            ],
            [
             0.8888888888888888,
             "#fdca26"
            ],
            [
             1,
             "#f0f921"
            ]
           ]
          },
          "colorway": [
           "#636efa",
           "#EF553B",
           "#00cc96",
           "#ab63fa",
           "#FFA15A",
           "#19d3f3",
           "#FF6692",
           "#B6E880",
           "#FF97FF",
           "#FECB52"
          ],
          "font": {
           "color": "#2a3f5f"
          },
          "geo": {
           "bgcolor": "white",
           "lakecolor": "white",
           "landcolor": "#E5ECF6",
           "showlakes": true,
           "showland": true,
           "subunitcolor": "white"
          },
          "hoverlabel": {
           "align": "left"
          },
          "hovermode": "closest",
          "mapbox": {
           "style": "light"
          },
          "paper_bgcolor": "white",
          "plot_bgcolor": "#E5ECF6",
          "polar": {
           "angularaxis": {
            "gridcolor": "white",
            "linecolor": "white",
            "ticks": ""
           },
           "bgcolor": "#E5ECF6",
           "radialaxis": {
            "gridcolor": "white",
            "linecolor": "white",
            "ticks": ""
           }
          },
          "scene": {
           "xaxis": {
            "backgroundcolor": "#E5ECF6",
            "gridcolor": "white",
            "gridwidth": 2,
            "linecolor": "white",
            "showbackground": true,
            "ticks": "",
            "zerolinecolor": "white"
           },
           "yaxis": {
            "backgroundcolor": "#E5ECF6",
            "gridcolor": "white",
            "gridwidth": 2,
            "linecolor": "white",
            "showbackground": true,
            "ticks": "",
            "zerolinecolor": "white"
           },
           "zaxis": {
            "backgroundcolor": "#E5ECF6",
            "gridcolor": "white",
            "gridwidth": 2,
            "linecolor": "white",
            "showbackground": true,
            "ticks": "",
            "zerolinecolor": "white"
           }
          },
          "shapedefaults": {
           "line": {
            "color": "#2a3f5f"
           }
          },
          "ternary": {
           "aaxis": {
            "gridcolor": "white",
            "linecolor": "white",
            "ticks": ""
           },
           "baxis": {
            "gridcolor": "white",
            "linecolor": "white",
            "ticks": ""
           },
           "bgcolor": "#E5ECF6",
           "caxis": {
            "gridcolor": "white",
            "linecolor": "white",
            "ticks": ""
           }
          },
          "title": {
           "x": 0.05
          },
          "xaxis": {
           "automargin": true,
           "gridcolor": "white",
           "linecolor": "white",
           "ticks": "",
           "title": {
            "standoff": 15
           },
           "zerolinecolor": "white",
           "zerolinewidth": 2
          },
          "yaxis": {
           "automargin": true,
           "gridcolor": "white",
           "linecolor": "white",
           "ticks": "",
           "title": {
            "standoff": 15
           },
           "zerolinecolor": "white",
           "zerolinewidth": 2
          }
         }
        },
        "title": {
         "text": "Actual vs Predicted Opening Weekend Revenue"
        },
        "xaxis": {
         "anchor": "y",
         "domain": [
          0,
          1
         ],
         "title": {
          "text": "Actual"
         }
        },
        "yaxis": {
         "anchor": "x",
         "domain": [
          0,
          1
         ],
         "title": {
          "text": "Predicted"
         }
        }
       }
      }
     },
     "metadata": {},
     "output_type": "display_data"
    }
   ],
   "source": [
    "results_df = pd.DataFrame({'title': X_test['title'], 'actual': y_test, 'predicted': pred_simple_glm, 'mpaa_rating': X_test['mpaa_rating'], 'creative_type': X_test['creative_type'], 'budget': X_test['budget'], 'wikipedia_pre_release_cumulative_views': X_test['wikipedia_pre_release_cumulative_views'], 'metacritic_before_wide_friday_calculated': X_test['metacritic_before_wide_friday_calculated'], 'genre': X_test['genre'], 'log_top_5_trailer_views': X_test['log_top_5_trailer_views'], 'sqrt_wikipedia_pre_release_cumulative_views': X_test['sqrt_wikipedia_pre_release_cumulative_views'], 'top_5_trailer_views': X_test['top_5_trailer_views'], 'log_budget': X_test['log_budget'], 'log_wikipedia_pre_release_cumulative_views': X_test['log_wikipedia_pre_release_cumulative_views'], 'log_top_5_trailer_views': X_test['log_top_5_trailer_views'], 'not_friday_opener': X_test['not_friday_opener'], 'production_method': X_test['production_method'], 'normalized_budget': X_test['normalized_budget'], 'normalized_wikipedia_pre_release_cumulative_views': X_test['normalized_wikipedia_pre_release_cumulative_views'], 'normalized_top_5_trailer_views': X_test['normalized_top_5_trailer_views'], 'normalized_metacritic_before_wide_friday_calculated': X_test['normalized_metacritic_before_wide_friday_calculated']})\n",
    "\n",
    "# plot actual vs predicted\n",
    "fig = px.scatter(results_df, x='actual', y='predicted', hover_name='title', color='log_wikipedia_pre_release_cumulative_views')\n",
    "fig.add_trace(go.Scatter(x=results_df['actual'], y=results_df['actual'], mode='lines', name='y=x'))\n",
    "fig.update_layout(title='Actual vs Predicted Opening Weekend Revenue', xaxis_title='Actual', yaxis_title='Predicted')\n"
   ]
  },
  {
   "cell_type": "code",
   "execution_count": 168,
   "metadata": {},
   "outputs": [
    {
     "data": {
      "application/vnd.plotly.v1+json": {
       "config": {
        "plotlyServerURL": "https://plot.ly"
       },
       "data": [
        {
         "hovertemplate": "<b>%{hovertext}</b><br><br>creative_type=Science Fiction<br>predicted=%{x}<br>residual=%{y}<extra></extra>",
         "hovertext": [
          "M3GAN",
          "65",
          "Transformers: Rise of the Beasts",
          "Meg 2: The Trench",
          "The Creator",
          "The Hunger Games: The Ballad of Songbirds & Snakes",
          "Godzilla Minus One (ゴジラ最新作)",
          "Dune: Part Two",
          "Ghostbusters: Frozen Empire",
          "Godzilla x Kong: The New Empire",
          "Civil War",
          "Kingdom of the Planet of the Apes",
          "Furiosa: A Mad Max Saga",
          "The Watchers",
          "A Quiet Place: Day One",
          "Alien: Romulus",
          "Beetlejuice Beetlejuice"
         ],
         "legendgroup": "Science Fiction",
         "marker": {
          "color": "#636efa",
          "symbol": "circle"
         },
         "mode": "markers",
         "name": "Science Fiction",
         "orientation": "v",
         "showlegend": true,
         "type": "scatter",
         "x": [
          36886678.33376073,
          16644148.937303327,
          74281150.04052876,
          44173007.002582535,
          23588359.240093805,
          48561066.72386661,
          28606613.994192727,
          106233240.85222577,
          31345652.78832789,
          71829144.0202537,
          38505313.27772283,
          72922781.91772223,
          67636651.94764854,
          12774589.967885293,
          38311935.79672672,
          50561521.90442988,
          51345048.219335064
         ],
         "xaxis": "x",
         "y": [
          -6456818.333760731,
          -4315787.937303327,
          -13235686.04052876,
          -14170272.002582535,
          -9508847.240093805,
          -3953923.7238666117,
          -17186638.994192727,
          -23727849.852225766,
          13659020.211672109,
          8177416.979746297,
          -12967945.277722828,
          -14521993.917722225,
          -41310189.94764854,
          -5771052.967885293,
          13890559.203273281,
          -8558160.904429883,
          59658296.780664936
         ],
         "yaxis": "y"
        },
        {
         "hovertemplate": "<b>%{hovertext}</b><br><br>creative_type=Contemporary Fiction<br>predicted=%{x}<br>residual=%{y}<extra></extra>",
         "hovertext": [
          "80 for Brady",
          "Knock at the Cabin",
          "Creed III",
          "Operation Fortune: Ruse de guerre",
          "Scream VI",
          "John Wick: Chapter 4",
          "Renfield",
          "Beau is Afraid",
          "Fast X",
          "The Machine",
          "No Hard Feelings",
          "Insidious: The Red Door",
          "Barbie",
          "Talk To Me",
          "Haunted Mansion",
          "Strays",
          "Expend4bles",
          "Saw X",
          "The Exorcist: Believer",
          "Five Nights at Freddy’s",
          "Thanksgiving",
          "American Fiction",
          "Anyone But You",
          "Mean Girls",
          "Argylle",
          "Imaginary",
          "Abigail",
          "Challengers",
          "The Fall Guy",
          "Tarot",
          "The Strangers: Chapter 1",
          "Bad Boys: Ride or Die",
          "Twisters",
          "It Ends With Us",
          "Speak No Evil"
         ],
         "legendgroup": "Contemporary Fiction",
         "marker": {
          "color": "#EF553B",
          "symbol": "circle"
         },
         "mode": "markers",
         "name": "Contemporary Fiction",
         "orientation": "v",
         "showlegend": true,
         "type": "scatter",
         "x": [
          6809918.470057747,
          22129331.092248473,
          40788117.290025376,
          15827413.580687549,
          34928853.23617248,
          95018206.23186985,
          31099603.838598497,
          11675942.613770083,
          115480737.30047463,
          4954417.506019222,
          11831177.948915694,
          20846825.46832585,
          134011413.55372724,
          10534359.276383579,
          30167811.313068584,
          13774039.550470218,
          30850076.86273597,
          26051991.638542227,
          27163080.120568085,
          37677081.4943354,
          22993243.726273276,
          7110943.74912386,
          8321628.94353047,
          13388794.576500192,
          44007502.378863744,
          9960671.55977007,
          10240592.665389474,
          17637286.900337122,
          38020342.838380635,
          5863493.113259295,
          13498609.566114053,
          27836091.928064726,
          61846803.704219416,
          13852874.756819425,
          16080583.200519314
         ],
         "xaxis": "x",
         "y": [
          5891721.529942253,
          -8002161.092248473,
          17581889.709974624,
          -12687199.580687549,
          9518416.763827518,
          -21200256.231869847,
          -23073128.838598497,
          -9013985.613770083,
          -48463327.30047463,
          46127.49398077838,
          3171592.051084306,
          12166210.53167415,
          28010630.44627276,
          -102639.27638357878,
          -6085336.313068584,
          -5526229.550470218,
          -22811055.86273597,
          -7742690.638542227,
          -665480.1205680855,
          42324638.5056646,
          -12686971.726273276,
          -5355579.74912386,
          -2321284.94353047,
          15246512.423499808,
          -26533962.378863744,
          -47958.55977007002,
          56517.33461052552,
          -2626225.9003371224,
          -10273307.838380635,
          639518.886740705,
          -1673551.5661140531,
          28691232.071935274,
          19404611.295780584,
          36163777.24318057,
          -4682988.200519314
         ],
         "yaxis": "y"
        },
        {
         "hovertemplate": "<b>%{hovertext}</b><br><br>creative_type=Super Hero<br>predicted=%{x}<br>residual=%{y}<extra></extra>",
         "hovertext": [
          "Ant-Man and the Wasp: Quantumania",
          "Shazam! Fury of the Gods",
          "Guardians of the Galaxy Vol 3",
          "Spider-Man: Across the Spider-Verse",
          "The Flash",
          "Teenage Mutant Ninja Turtles: Mutant Mayhem",
          "Blue Beetle",
          "The Marvels",
          "Aquaman and the Lost Kingdom",
          "Madame Web",
          "Deadpool & Wolverine",
          "The Crow"
         ],
         "legendgroup": "Super Hero",
         "marker": {
          "color": "#00cc96",
          "symbol": "circle"
         },
         "mode": "markers",
         "name": "Super Hero",
         "orientation": "v",
         "showlegend": true,
         "type": "scatter",
         "x": [
          85838751.13870402,
          47936838.1197478,
          94964742.38647947,
          94972508.89643723,
          101204391.82588424,
          33056572.88242437,
          54111455.002571285,
          86696987.63648891,
          58658225.41607991,
          35442434.64214836,
          106372883.82130215,
          11967197.839169424
         ],
         "xaxis": "x",
         "y": [
          20270898.861295983,
          -17825680.119747803,
          23449278.613520533,
          25691080.103562772,
          -46160712.82588424,
          -5049028.882424369,
          -29081230.002571285,
          -40586128.636488914,
          -30972014.41607991,
          -20106574.64214836,
          105062407.17869785,
          -7322531.839169424
         ],
         "yaxis": "y"
        },
        {
         "hovertemplate": "<b>%{hovertext}</b><br><br>creative_type=Dramatization<br>predicted=%{x}<br>residual=%{y}<extra></extra>",
         "hovertext": [
          "Jesus Revolution",
          "His Only Son",
          "The Pope’s Exorcist",
          "Big George Foreman: The Miraculous Story of the Once and Future Heavyweight Champion of the World",
          "Sound of Freedom",
          "Oppenheimer",
          "Dumb Money",
          "Priscilla",
          "Journey to Bethlehem",
          "Next Goal Wins",
          "Napoleon",
          "The Iron Claw",
          "Ferrari",
          "Cabrini",
          "Arthur the King",
          "Unsung Hero",
          "Sound of Hope: The Story of Possum Trot",
          "Reagan"
         ],
         "legendgroup": "Dramatization",
         "marker": {
          "color": "#ab63fa",
          "symbol": "circle"
         },
         "mode": "markers",
         "name": "Dramatization",
         "orientation": "v",
         "showlegend": true,
         "type": "scatter",
         "x": [
          10570412.3295048,
          113275.08221189433,
          11185141.972894631,
          8791712.592227839,
          8405731.741900805,
          69384322.2476245,
          10194819.475542702,
          7357506.590135971,
          2629831.2092270562,
          4498184.205971405,
          51597374.66310249,
          11452503.193020042,
          19814302.410574213,
          9658616.508836845,
          7025595.203816563,
          1871502.2171190577,
          2870390.7789388755,
          5450204.482031778
         ],
         "xaxis": "x",
         "y": [
          5311654.670495201,
          5387794.917788106,
          -2178773.9728946313,
          -5866348.592227839,
          11275147.258099195,
          13071097.752375498,
          -6869315.475542702,
          -2317503.590135971,
          -229385.20922705624,
          -1997889.205971405,
          -30958487.663102493,
          -6584133.193020042,
          -15892529.410574213,
          -2490096.508836845,
          608302.7961834371,
          5860036.782880942,
          208367.22106112447,
          2200515.5179682216
         ],
         "yaxis": "y"
        },
        {
         "hovertemplate": "<b>%{hovertext}</b><br><br>creative_type=Fantasy<br>predicted=%{x}<br>residual=%{y}<extra></extra>",
         "hovertext": [
          "Dungeons & Dragons: Honor Among Thieves"
         ],
         "legendgroup": "Fantasy",
         "marker": {
          "color": "#FFA15A",
          "symbol": "circle"
         },
         "mode": "markers",
         "name": "Fantasy",
         "orientation": "v",
         "showlegend": true,
         "type": "scatter",
         "x": [
          32222789.09831846
         ],
         "xaxis": "x",
         "y": [
          4982994.901681539
         ],
         "yaxis": "y"
        },
        {
         "hovertemplate": "<b>%{hovertext}</b><br><br>creative_type=Kids Fiction<br>predicted=%{x}<br>residual=%{y}<extra></extra>",
         "hovertext": [
          "The Super Mario Bros. Movie",
          "The Little Mermaid",
          "Elemental",
          "Ruby Gillman, Teenage Kraken",
          "PAW Patrol: The Mighty Movie",
          "Trolls Band Together",
          "Wish",
          "Wonka",
          "Migration",
          "Kung Fu Panda 4",
          "IF",
          "The Garfield Movie",
          "Inside Out 2",
          "Despicable Me 4",
          "Harold and the Purple Crayon"
         ],
         "legendgroup": "Kids Fiction",
         "marker": {
          "color": "#19d3f3",
          "symbol": "circle"
         },
         "mode": "markers",
         "name": "Kids Fiction",
         "orientation": "v",
         "showlegend": true,
         "type": "scatter",
         "x": [
          53361992.29993577,
          85265398.41231051,
          48911236.75616011,
          18582054.15659691,
          17388024.86817562,
          34197411.04030291,
          41413220.516099334,
          68203856.14728025,
          23948342.182418495,
          40965205.7359974,
          27973513.549213983,
          24751602.874773238,
          80521944.35357007,
          44913781.0666793,
          12359145.566895047
         ],
         "xaxis": "x",
         "y": [
          92999872.70006423,
          10312641.58768949,
          -19308807.75616011,
          -13081064.15659691,
          5376329.131824382,
          -4194886.04030291,
          -21714992.516099334,
          -29198056.147280246,
          -11495067.182418495,
          17024699.2640026,
          5742287.450786017,
          -744973.8747732379,
          73679728.64642993,
          30095428.9333207,
          -6355948.566895047
         ],
         "yaxis": "y"
        },
        {
         "hovertemplate": "<b>%{hovertext}</b><br><br>creative_type=Historical Fiction<br>predicted=%{x}<br>residual=%{y}<extra></extra>",
         "hovertext": [
          "Are You There God? It’s Me, Margaret",
          "Indiana Jones and the Dial of Destiny",
          "The Last Voyage of the Demeter",
          "Killers of the Flower Moon",
          "Horizon: An American Saga Chapter 1",
          "Fly Me to the Moon"
         ],
         "legendgroup": "Historical Fiction",
         "marker": {
          "color": "#FF6692",
          "symbol": "circle"
         },
         "mode": "markers",
         "name": "Historical Fiction",
         "orientation": "v",
         "showlegend": true,
         "type": "scatter",
         "x": [
          10751465.33035909,
          113276995.73227122,
          15696001.323551599,
          51156896.31587283,
          11746781.645962667,
          19081939.584990468
         ],
         "xaxis": "x",
         "y": [
          -4012428.33035909,
          -52908894.732271224,
          -9191051.323551599,
          -27903241.315872833,
          -694220.6459626667,
          -9655324.584990468
         ],
         "yaxis": "y"
        },
        {
         "mode": "lines",
         "name": "y=0",
         "type": "scatter",
         "x": [
          36886678.33376073,
          6809918.470057747,
          22129331.092248473,
          85838751.13870402,
          10570412.3295048,
          40788117.290025376,
          15827413.580687549,
          34928853.23617248,
          16644148.937303327,
          47936838.1197478,
          95018206.23186985,
          32222789.09831846,
          113275.08221189433,
          53361992.29993577,
          31099603.838598497,
          11185141.972894631,
          11675942.613770083,
          8791712.592227839,
          10751465.33035909,
          94964742.38647947,
          115480737.30047463,
          85265398.41231051,
          4954417.506019222,
          94972508.89643723,
          74281150.04052876,
          101204391.82588424,
          48911236.75616011,
          11831177.948915694,
          18582054.15659691,
          113276995.73227122,
          8405731.741900805,
          20846825.46832585,
          69384322.2476245,
          134011413.55372724,
          10534359.276383579,
          30167811.313068584,
          33056572.88242437,
          44173007.002582535,
          15696001.323551599,
          54111455.002571285,
          13774039.550470218,
          10194819.475542702,
          30850076.86273597,
          23588359.240093805,
          26051991.638542227,
          17388024.86817562,
          27163080.120568085,
          51156896.31587283,
          7357506.590135971,
          37677081.4943354,
          2629831.2092270562,
          86696987.63648891,
          4498184.205971405,
          48561066.72386661,
          22993243.726273276,
          34197411.04030291,
          41413220.516099334,
          51597374.66310249,
          28606613.994192727,
          7110943.74912386,
          68203856.14728025,
          23948342.182418495,
          11452503.193020042,
          58658225.41607991,
          8321628.94353047,
          19814302.410574213,
          13388794.576500192,
          44007502.378863744,
          35442434.64214836,
          106233240.85222577,
          40965205.7359974,
          9960671.55977007,
          9658616.508836845,
          7025595.203816563,
          31345652.78832789,
          71829144.0202537,
          38505313.27772283,
          10240592.665389474,
          17637286.900337122,
          1871502.2171190577,
          38020342.838380635,
          5863493.113259295,
          72922781.91772223,
          27973513.549213983,
          13498609.566114053,
          67636651.94764854,
          24751602.874773238,
          12774589.967885293,
          27836091.928064726,
          80521944.35357007,
          38311935.79672672,
          11746781.645962667,
          44913781.0666793,
          2870390.7789388755,
          19081939.584990468,
          61846803.704219416,
          106372883.82130215,
          12359145.566895047,
          13852874.756819425,
          50561521.90442988,
          11967197.839169424,
          5450204.482031778,
          51345048.219335064,
          16080583.200519314
         ],
         "y": [
          0,
          0,
          0,
          0,
          0,
          0,
          0,
          0,
          0,
          0,
          0,
          0,
          0,
          0,
          0,
          0,
          0,
          0,
          0,
          0,
          0,
          0,
          0,
          0,
          0,
          0,
          0,
          0,
          0,
          0,
          0,
          0,
          0,
          0,
          0,
          0,
          0,
          0,
          0,
          0,
          0,
          0,
          0,
          0,
          0,
          0,
          0,
          0,
          0,
          0,
          0,
          0,
          0,
          0,
          0,
          0,
          0,
          0,
          0,
          0,
          0,
          0,
          0,
          0,
          0,
          0,
          0,
          0,
          0,
          0,
          0,
          0,
          0,
          0,
          0,
          0,
          0,
          0,
          0,
          0,
          0,
          0,
          0,
          0,
          0,
          0,
          0,
          0,
          0,
          0,
          0,
          0,
          0,
          0,
          0,
          0,
          0,
          0,
          0,
          0,
          0,
          0,
          0,
          0
         ]
        }
       ],
       "layout": {
        "legend": {
         "title": {
          "text": "creative_type"
         },
         "tracegroupgap": 0
        },
        "margin": {
         "t": 60
        },
        "template": {
         "data": {
          "bar": [
           {
            "error_x": {
             "color": "#2a3f5f"
            },
            "error_y": {
             "color": "#2a3f5f"
            },
            "marker": {
             "line": {
              "color": "#E5ECF6",
              "width": 0.5
             },
             "pattern": {
              "fillmode": "overlay",
              "size": 10,
              "solidity": 0.2
             }
            },
            "type": "bar"
           }
          ],
          "barpolar": [
           {
            "marker": {
             "line": {
              "color": "#E5ECF6",
              "width": 0.5
             },
             "pattern": {
              "fillmode": "overlay",
              "size": 10,
              "solidity": 0.2
             }
            },
            "type": "barpolar"
           }
          ],
          "carpet": [
           {
            "aaxis": {
             "endlinecolor": "#2a3f5f",
             "gridcolor": "white",
             "linecolor": "white",
             "minorgridcolor": "white",
             "startlinecolor": "#2a3f5f"
            },
            "baxis": {
             "endlinecolor": "#2a3f5f",
             "gridcolor": "white",
             "linecolor": "white",
             "minorgridcolor": "white",
             "startlinecolor": "#2a3f5f"
            },
            "type": "carpet"
           }
          ],
          "choropleth": [
           {
            "colorbar": {
             "outlinewidth": 0,
             "ticks": ""
            },
            "type": "choropleth"
           }
          ],
          "contour": [
           {
            "colorbar": {
             "outlinewidth": 0,
             "ticks": ""
            },
            "colorscale": [
             [
              0,
              "#0d0887"
             ],
             [
              0.1111111111111111,
              "#46039f"
             ],
             [
              0.2222222222222222,
              "#7201a8"
             ],
             [
              0.3333333333333333,
              "#9c179e"
             ],
             [
              0.4444444444444444,
              "#bd3786"
             ],
             [
              0.5555555555555556,
              "#d8576b"
             ],
             [
              0.6666666666666666,
              "#ed7953"
             ],
             [
              0.7777777777777778,
              "#fb9f3a"
             ],
             [
              0.8888888888888888,
              "#fdca26"
             ],
             [
              1,
              "#f0f921"
             ]
            ],
            "type": "contour"
           }
          ],
          "contourcarpet": [
           {
            "colorbar": {
             "outlinewidth": 0,
             "ticks": ""
            },
            "type": "contourcarpet"
           }
          ],
          "heatmap": [
           {
            "colorbar": {
             "outlinewidth": 0,
             "ticks": ""
            },
            "colorscale": [
             [
              0,
              "#0d0887"
             ],
             [
              0.1111111111111111,
              "#46039f"
             ],
             [
              0.2222222222222222,
              "#7201a8"
             ],
             [
              0.3333333333333333,
              "#9c179e"
             ],
             [
              0.4444444444444444,
              "#bd3786"
             ],
             [
              0.5555555555555556,
              "#d8576b"
             ],
             [
              0.6666666666666666,
              "#ed7953"
             ],
             [
              0.7777777777777778,
              "#fb9f3a"
             ],
             [
              0.8888888888888888,
              "#fdca26"
             ],
             [
              1,
              "#f0f921"
             ]
            ],
            "type": "heatmap"
           }
          ],
          "heatmapgl": [
           {
            "colorbar": {
             "outlinewidth": 0,
             "ticks": ""
            },
            "colorscale": [
             [
              0,
              "#0d0887"
             ],
             [
              0.1111111111111111,
              "#46039f"
             ],
             [
              0.2222222222222222,
              "#7201a8"
             ],
             [
              0.3333333333333333,
              "#9c179e"
             ],
             [
              0.4444444444444444,
              "#bd3786"
             ],
             [
              0.5555555555555556,
              "#d8576b"
             ],
             [
              0.6666666666666666,
              "#ed7953"
             ],
             [
              0.7777777777777778,
              "#fb9f3a"
             ],
             [
              0.8888888888888888,
              "#fdca26"
             ],
             [
              1,
              "#f0f921"
             ]
            ],
            "type": "heatmapgl"
           }
          ],
          "histogram": [
           {
            "marker": {
             "pattern": {
              "fillmode": "overlay",
              "size": 10,
              "solidity": 0.2
             }
            },
            "type": "histogram"
           }
          ],
          "histogram2d": [
           {
            "colorbar": {
             "outlinewidth": 0,
             "ticks": ""
            },
            "colorscale": [
             [
              0,
              "#0d0887"
             ],
             [
              0.1111111111111111,
              "#46039f"
             ],
             [
              0.2222222222222222,
              "#7201a8"
             ],
             [
              0.3333333333333333,
              "#9c179e"
             ],
             [
              0.4444444444444444,
              "#bd3786"
             ],
             [
              0.5555555555555556,
              "#d8576b"
             ],
             [
              0.6666666666666666,
              "#ed7953"
             ],
             [
              0.7777777777777778,
              "#fb9f3a"
             ],
             [
              0.8888888888888888,
              "#fdca26"
             ],
             [
              1,
              "#f0f921"
             ]
            ],
            "type": "histogram2d"
           }
          ],
          "histogram2dcontour": [
           {
            "colorbar": {
             "outlinewidth": 0,
             "ticks": ""
            },
            "colorscale": [
             [
              0,
              "#0d0887"
             ],
             [
              0.1111111111111111,
              "#46039f"
             ],
             [
              0.2222222222222222,
              "#7201a8"
             ],
             [
              0.3333333333333333,
              "#9c179e"
             ],
             [
              0.4444444444444444,
              "#bd3786"
             ],
             [
              0.5555555555555556,
              "#d8576b"
             ],
             [
              0.6666666666666666,
              "#ed7953"
             ],
             [
              0.7777777777777778,
              "#fb9f3a"
             ],
             [
              0.8888888888888888,
              "#fdca26"
             ],
             [
              1,
              "#f0f921"
             ]
            ],
            "type": "histogram2dcontour"
           }
          ],
          "mesh3d": [
           {
            "colorbar": {
             "outlinewidth": 0,
             "ticks": ""
            },
            "type": "mesh3d"
           }
          ],
          "parcoords": [
           {
            "line": {
             "colorbar": {
              "outlinewidth": 0,
              "ticks": ""
             }
            },
            "type": "parcoords"
           }
          ],
          "pie": [
           {
            "automargin": true,
            "type": "pie"
           }
          ],
          "scatter": [
           {
            "fillpattern": {
             "fillmode": "overlay",
             "size": 10,
             "solidity": 0.2
            },
            "type": "scatter"
           }
          ],
          "scatter3d": [
           {
            "line": {
             "colorbar": {
              "outlinewidth": 0,
              "ticks": ""
             }
            },
            "marker": {
             "colorbar": {
              "outlinewidth": 0,
              "ticks": ""
             }
            },
            "type": "scatter3d"
           }
          ],
          "scattercarpet": [
           {
            "marker": {
             "colorbar": {
              "outlinewidth": 0,
              "ticks": ""
             }
            },
            "type": "scattercarpet"
           }
          ],
          "scattergeo": [
           {
            "marker": {
             "colorbar": {
              "outlinewidth": 0,
              "ticks": ""
             }
            },
            "type": "scattergeo"
           }
          ],
          "scattergl": [
           {
            "marker": {
             "colorbar": {
              "outlinewidth": 0,
              "ticks": ""
             }
            },
            "type": "scattergl"
           }
          ],
          "scattermapbox": [
           {
            "marker": {
             "colorbar": {
              "outlinewidth": 0,
              "ticks": ""
             }
            },
            "type": "scattermapbox"
           }
          ],
          "scatterpolar": [
           {
            "marker": {
             "colorbar": {
              "outlinewidth": 0,
              "ticks": ""
             }
            },
            "type": "scatterpolar"
           }
          ],
          "scatterpolargl": [
           {
            "marker": {
             "colorbar": {
              "outlinewidth": 0,
              "ticks": ""
             }
            },
            "type": "scatterpolargl"
           }
          ],
          "scatterternary": [
           {
            "marker": {
             "colorbar": {
              "outlinewidth": 0,
              "ticks": ""
             }
            },
            "type": "scatterternary"
           }
          ],
          "surface": [
           {
            "colorbar": {
             "outlinewidth": 0,
             "ticks": ""
            },
            "colorscale": [
             [
              0,
              "#0d0887"
             ],
             [
              0.1111111111111111,
              "#46039f"
             ],
             [
              0.2222222222222222,
              "#7201a8"
             ],
             [
              0.3333333333333333,
              "#9c179e"
             ],
             [
              0.4444444444444444,
              "#bd3786"
             ],
             [
              0.5555555555555556,
              "#d8576b"
             ],
             [
              0.6666666666666666,
              "#ed7953"
             ],
             [
              0.7777777777777778,
              "#fb9f3a"
             ],
             [
              0.8888888888888888,
              "#fdca26"
             ],
             [
              1,
              "#f0f921"
             ]
            ],
            "type": "surface"
           }
          ],
          "table": [
           {
            "cells": {
             "fill": {
              "color": "#EBF0F8"
             },
             "line": {
              "color": "white"
             }
            },
            "header": {
             "fill": {
              "color": "#C8D4E3"
             },
             "line": {
              "color": "white"
             }
            },
            "type": "table"
           }
          ]
         },
         "layout": {
          "annotationdefaults": {
           "arrowcolor": "#2a3f5f",
           "arrowhead": 0,
           "arrowwidth": 1
          },
          "autotypenumbers": "strict",
          "coloraxis": {
           "colorbar": {
            "outlinewidth": 0,
            "ticks": ""
           }
          },
          "colorscale": {
           "diverging": [
            [
             0,
             "#8e0152"
            ],
            [
             0.1,
             "#c51b7d"
            ],
            [
             0.2,
             "#de77ae"
            ],
            [
             0.3,
             "#f1b6da"
            ],
            [
             0.4,
             "#fde0ef"
            ],
            [
             0.5,
             "#f7f7f7"
            ],
            [
             0.6,
             "#e6f5d0"
            ],
            [
             0.7,
             "#b8e186"
            ],
            [
             0.8,
             "#7fbc41"
            ],
            [
             0.9,
             "#4d9221"
            ],
            [
             1,
             "#276419"
            ]
           ],
           "sequential": [
            [
             0,
             "#0d0887"
            ],
            [
             0.1111111111111111,
             "#46039f"
            ],
            [
             0.2222222222222222,
             "#7201a8"
            ],
            [
             0.3333333333333333,
             "#9c179e"
            ],
            [
             0.4444444444444444,
             "#bd3786"
            ],
            [
             0.5555555555555556,
             "#d8576b"
            ],
            [
             0.6666666666666666,
             "#ed7953"
            ],
            [
             0.7777777777777778,
             "#fb9f3a"
            ],
            [
             0.8888888888888888,
             "#fdca26"
            ],
            [
             1,
             "#f0f921"
            ]
           ],
           "sequentialminus": [
            [
             0,
             "#0d0887"
            ],
            [
             0.1111111111111111,
             "#46039f"
            ],
            [
             0.2222222222222222,
             "#7201a8"
            ],
            [
             0.3333333333333333,
             "#9c179e"
            ],
            [
             0.4444444444444444,
             "#bd3786"
            ],
            [
             0.5555555555555556,
             "#d8576b"
            ],
            [
             0.6666666666666666,
             "#ed7953"
            ],
            [
             0.7777777777777778,
             "#fb9f3a"
            ],
            [
             0.8888888888888888,
             "#fdca26"
            ],
            [
             1,
             "#f0f921"
            ]
           ]
          },
          "colorway": [
           "#636efa",
           "#EF553B",
           "#00cc96",
           "#ab63fa",
           "#FFA15A",
           "#19d3f3",
           "#FF6692",
           "#B6E880",
           "#FF97FF",
           "#FECB52"
          ],
          "font": {
           "color": "#2a3f5f"
          },
          "geo": {
           "bgcolor": "white",
           "lakecolor": "white",
           "landcolor": "#E5ECF6",
           "showlakes": true,
           "showland": true,
           "subunitcolor": "white"
          },
          "hoverlabel": {
           "align": "left"
          },
          "hovermode": "closest",
          "mapbox": {
           "style": "light"
          },
          "paper_bgcolor": "white",
          "plot_bgcolor": "#E5ECF6",
          "polar": {
           "angularaxis": {
            "gridcolor": "white",
            "linecolor": "white",
            "ticks": ""
           },
           "bgcolor": "#E5ECF6",
           "radialaxis": {
            "gridcolor": "white",
            "linecolor": "white",
            "ticks": ""
           }
          },
          "scene": {
           "xaxis": {
            "backgroundcolor": "#E5ECF6",
            "gridcolor": "white",
            "gridwidth": 2,
            "linecolor": "white",
            "showbackground": true,
            "ticks": "",
            "zerolinecolor": "white"
           },
           "yaxis": {
            "backgroundcolor": "#E5ECF6",
            "gridcolor": "white",
            "gridwidth": 2,
            "linecolor": "white",
            "showbackground": true,
            "ticks": "",
            "zerolinecolor": "white"
           },
           "zaxis": {
            "backgroundcolor": "#E5ECF6",
            "gridcolor": "white",
            "gridwidth": 2,
            "linecolor": "white",
            "showbackground": true,
            "ticks": "",
            "zerolinecolor": "white"
           }
          },
          "shapedefaults": {
           "line": {
            "color": "#2a3f5f"
           }
          },
          "ternary": {
           "aaxis": {
            "gridcolor": "white",
            "linecolor": "white",
            "ticks": ""
           },
           "baxis": {
            "gridcolor": "white",
            "linecolor": "white",
            "ticks": ""
           },
           "bgcolor": "#E5ECF6",
           "caxis": {
            "gridcolor": "white",
            "linecolor": "white",
            "ticks": ""
           }
          },
          "title": {
           "x": 0.05
          },
          "xaxis": {
           "automargin": true,
           "gridcolor": "white",
           "linecolor": "white",
           "ticks": "",
           "title": {
            "standoff": 15
           },
           "zerolinecolor": "white",
           "zerolinewidth": 2
          },
          "yaxis": {
           "automargin": true,
           "gridcolor": "white",
           "linecolor": "white",
           "ticks": "",
           "title": {
            "standoff": 15
           },
           "zerolinecolor": "white",
           "zerolinewidth": 2
          }
         }
        },
        "title": {
         "text": "Residuals vs Predicted Opening Weekend Revenue"
        },
        "xaxis": {
         "anchor": "y",
         "domain": [
          0,
          1
         ],
         "title": {
          "text": "Predicted"
         }
        },
        "yaxis": {
         "anchor": "x",
         "domain": [
          0,
          1
         ],
         "title": {
          "text": "Residual"
         }
        }
       }
      }
     },
     "metadata": {},
     "output_type": "display_data"
    }
   ],
   "source": [
    "# plot residuals\n",
    "results_df[\"residual\"] = results_df[\"actual\"] - results_df[\"predicted\"]\n",
    "\n",
    "fig2 = px.scatter(results_df, x=\"predicted\", y=\"residual\", hover_name=\"title\", color=\"creative_type\")\n",
    "fig2.add_trace(go.Scatter(x=results_df[\"predicted\"], y=[0] * len(results_df), mode=\"lines\", name=\"y=0\"))\n",
    "fig2.update_layout(title=\"Residuals vs Predicted Opening Weekend Revenue\", xaxis_title=\"Predicted\", yaxis_title=\"Residual\")"
   ]
  },
  {
   "cell_type": "code",
   "execution_count": 174,
   "metadata": {},
   "outputs": [
    {
     "data": {
      "application/vnd.plotly.v1+json": {
       "config": {
        "plotlyServerURL": "https://plot.ly"
       },
       "data": [
        {
         "hovertemplate": "<b>%{hovertext}</b><br><br>Predicted Opening Weekend Revenue=%{x}<br>Residual Percent Difference=%{y}<br>log_actual=%{marker.color}<extra></extra>",
         "hovertext": [
          "M3GAN",
          "80 for Brady",
          "Knock at the Cabin",
          "Ant-Man and the Wasp: Quantumania",
          "Jesus Revolution",
          "Creed III",
          "Operation Fortune: Ruse de guerre",
          "Scream VI",
          "65",
          "Shazam! Fury of the Gods",
          "John Wick: Chapter 4",
          "Dungeons & Dragons: Honor Among Thieves",
          "His Only Son",
          "The Super Mario Bros. Movie",
          "Renfield",
          "The Pope’s Exorcist",
          "Beau is Afraid",
          "Big George Foreman: The Miraculous Story of the Once and Future Heavyweight Champion of the World",
          "Are You There God? It’s Me, Margaret",
          "Guardians of the Galaxy Vol 3",
          "Fast X",
          "The Little Mermaid",
          "The Machine",
          "Spider-Man: Across the Spider-Verse",
          "Transformers: Rise of the Beasts",
          "The Flash",
          "Elemental",
          "No Hard Feelings",
          "Ruby Gillman, Teenage Kraken",
          "Indiana Jones and the Dial of Destiny",
          "Sound of Freedom",
          "Insidious: The Red Door",
          "Oppenheimer",
          "Barbie",
          "Talk To Me",
          "Haunted Mansion",
          "Teenage Mutant Ninja Turtles: Mutant Mayhem",
          "Meg 2: The Trench",
          "The Last Voyage of the Demeter",
          "Blue Beetle",
          "Strays",
          "Dumb Money",
          "Expend4bles",
          "The Creator",
          "Saw X",
          "PAW Patrol: The Mighty Movie",
          "The Exorcist: Believer",
          "Killers of the Flower Moon",
          "Priscilla",
          "Five Nights at Freddy’s",
          "Journey to Bethlehem",
          "The Marvels",
          "Next Goal Wins",
          "The Hunger Games: The Ballad of Songbirds & Snakes",
          "Thanksgiving",
          "Trolls Band Together",
          "Wish",
          "Napoleon",
          "Godzilla Minus One (ゴジラ最新作)",
          "American Fiction",
          "Wonka",
          "Migration",
          "The Iron Claw",
          "Aquaman and the Lost Kingdom",
          "Anyone But You",
          "Ferrari",
          "Mean Girls",
          "Argylle",
          "Madame Web",
          "Dune: Part Two",
          "Kung Fu Panda 4",
          "Imaginary",
          "Cabrini",
          "Arthur the King",
          "Ghostbusters: Frozen Empire",
          "Godzilla x Kong: The New Empire",
          "Civil War",
          "Abigail",
          "Challengers",
          "Unsung Hero",
          "The Fall Guy",
          "Tarot",
          "Kingdom of the Planet of the Apes",
          "IF",
          "The Strangers: Chapter 1",
          "Furiosa: A Mad Max Saga",
          "The Garfield Movie",
          "The Watchers",
          "Bad Boys: Ride or Die",
          "Inside Out 2",
          "A Quiet Place: Day One",
          "Horizon: An American Saga Chapter 1",
          "Despicable Me 4",
          "Sound of Hope: The Story of Possum Trot",
          "Fly Me to the Moon",
          "Twisters",
          "Deadpool & Wolverine",
          "Harold and the Purple Crayon",
          "It Ends With Us",
          "Alien: Romulus",
          "The Crow",
          "Reagan",
          "Beetlejuice Beetlejuice",
          "Speak No Evil"
         ],
         "legendgroup": "",
         "marker": {
          "color": [
           17.2309349211396,
           16.35724167695003,
           16.46361045151574,
           18.479983551380474,
           16.580701169040662,
           17.882312737104584,
           14.959801508428377,
           17.609814100715234,
           16.32741293848651,
           17.220406358702114,
           18.117112484928562,
           17.43197479102798,
           15.520453176735732,
           18.801592640586705,
           15.898256010714142,
           16.01344244065663,
           14.79457212453851,
           14.88892947534997,
           15.723427594342128,
           18.58969769401112,
           18.02046299434615,
           18.37545364452194,
           15.425057464458305,
           18.6085169752718,
           17.927129456006323,
           17.823637591652027,
           17.203366976738295,
           16.52374540868436,
           15.520438634004643,
           17.915971394256655,
           16.795158113225092,
           17.312413071729857,
           18.2277683416195,
           18.903242958013497,
           16.160361722297562,
           16.996994955515174,
           17.147984460421547,
           17.216799102137667,
           15.688073983504122,
           17.0355946525805,
           15.925458268526114,
           15.017131799532532,
           15.899817867571892,
           16.46023124900262,
           16.72291974006179,
           16.940706449454034,
           17.092564720817364,
           16.961972881943414,
           15.432917235285469,
           18.197558692407036,
           14.691165111386633,
           17.646559033373926,
           14.731919282876976,
           17.61340456111721,
           16.148263199914815,
           17.21679210275128,
           16.796039240423962,
           16.842687572705056,
           16.250874573047884,
           14.378186800783569,
           17.47922091098522,
           16.33749419849166,
           15.398269736774743,
           17.136445049381155,
           15.60732735888217,
           15.182054405430046,
           17.170151024898075,
           16.676198294668218,
           16.54570443481879,
           18.228374194624532,
           17.875779501637798,
           16.109328632714554,
           15.785209775648525,
           15.848109150919559,
           17.622276886787578,
           18.197619201775314,
           17.055653349225345,
           16.14737383130495,
           16.524297887320685,
           15.860818495184194,
           17.13863954560134,
           15.687776012151755,
           17.88283994085811,
           17.333477157839834,
           16.285731397192823,
           17.08608515100442,
           16.993840558507053,
           15.761925865120032,
           17.85023468983421,
           18.85377186858069,
           17.770640848645495,
           16.21817272378063,
           18.13312146396128,
           14.940036826870674,
           16.059047629404283,
           18.21305879440709,
           19.16942955691885,
           15.607802718620388,
           17.72786654794691,
           17.553260196855433,
           15.35123002237028,
           15.85031031902099,
           18.52507089395769,
           16.248912926196216
          ],
          "coloraxis": "coloraxis",
          "symbol": "circle"
         },
         "mode": "markers",
         "name": "",
         "orientation": "v",
         "showlegend": false,
         "type": "scatter",
         "x": [
          36886678.33376073,
          6809918.470057747,
          22129331.092248473,
          85838751.13870402,
          10570412.3295048,
          40788117.290025376,
          15827413.580687549,
          34928853.23617248,
          16644148.937303327,
          47936838.1197478,
          95018206.23186985,
          32222789.09831846,
          113275.08221189433,
          53361992.29993577,
          31099603.838598497,
          11185141.972894631,
          11675942.613770083,
          8791712.592227839,
          10751465.33035909,
          94964742.38647947,
          115480737.30047463,
          85265398.41231051,
          4954417.506019222,
          94972508.89643723,
          74281150.04052876,
          101204391.82588424,
          48911236.75616011,
          11831177.948915694,
          18582054.15659691,
          113276995.73227122,
          8405731.741900805,
          20846825.46832585,
          69384322.2476245,
          134011413.55372724,
          10534359.276383579,
          30167811.313068584,
          33056572.88242437,
          44173007.002582535,
          15696001.323551599,
          54111455.002571285,
          13774039.550470218,
          10194819.475542702,
          30850076.86273597,
          23588359.240093805,
          26051991.638542227,
          17388024.86817562,
          27163080.120568085,
          51156896.31587283,
          7357506.590135971,
          37677081.4943354,
          2629831.2092270562,
          86696987.63648891,
          4498184.205971405,
          48561066.72386661,
          22993243.726273276,
          34197411.04030291,
          41413220.516099334,
          51597374.66310249,
          28606613.994192727,
          7110943.74912386,
          68203856.14728025,
          23948342.182418495,
          11452503.193020042,
          58658225.41607991,
          8321628.94353047,
          19814302.410574213,
          13388794.576500192,
          44007502.378863744,
          35442434.64214836,
          106233240.85222577,
          40965205.7359974,
          9960671.55977007,
          9658616.508836845,
          7025595.203816563,
          31345652.78832789,
          71829144.0202537,
          38505313.27772283,
          10240592.665389474,
          17637286.900337122,
          1871502.2171190577,
          38020342.838380635,
          5863493.113259295,
          72922781.91772223,
          27973513.549213983,
          13498609.566114053,
          67636651.94764854,
          24751602.874773238,
          12774589.967885293,
          27836091.928064726,
          80521944.35357007,
          38311935.79672672,
          11746781.645962667,
          44913781.0666793,
          2870390.7789388755,
          19081939.584990468,
          61846803.704219416,
          106372883.82130215,
          12359145.566895047,
          13852874.756819425,
          50561521.90442988,
          11967197.839169424,
          5450204.482031778,
          51345048.219335064,
          16080583.200519314
         ],
         "xaxis": "x",
         "y": [
          -0.1918345326002152,
          0.6039211618060785,
          -0.44141937865920056,
          0.2112119584330167,
          0.40159975965433536,
          0.35462328146808725,
          -1.3377740074995352,
          0.2398307293367505,
          -0.2979229584625368,
          -0.45678764365450575,
          -0.2511340782095825,
          0.14354305955921268,
          1.9192959602210509,
          0.931284564171034,
          -1.1794245436032036,
          -0.21581090030606412,
          -1.2573648660663064,
          -1.0013331475735339,
          -0.4588122461633968,
          0.21979018194091168,
          -0.5311103484319984,
          0.11405049227362489,
          0.009267236105186254,
          0.23828181231420106,
          -0.1956109836098437,
          -0.5908644194055189,
          -0.4918585209389528,
          0.2363865397012864,
          -1.0863297904981584,
          -0.6093911746191947,
          0.8028841473049967,
          0.4517728118862285,
          0.17216965148766897,
          0.18923962634317507,
          -0.009790984287576627,
          -0.2243430118673,
          -0.1653681127378293,
          -0.3820729424476583,
          -0.8279871605142783,
          -0.7349156601585017,
          -0.5018860507429287,
          -1.0161466163097062,
          -1.173133711831038,
          -0.504878397798735,
          -0.3490741670505417,
          0.267796294185977,
          -0.0248032682058015,
          -0.7499807708028814,
          -0.37386598869500104,
          0.7193247716361548,
          -0.09120181639544402,
          -0.6112007635750324,
          -0.5709495297969077,
          -0.08487709993752832,
          -0.7619913653136565,
          -0.13068193830191602,
          -0.710668558621342,
          -0.857145343636069,
          -0.8587611098555641,
          -1.2080744094751463,
          -0.5446907899260334,
          -0.6315690385299949,
          -0.806835898441498,
          -0.7174061399122641,
          -0.3241571468795495,
          -1.33910338045979,
          0.7256080130943541,
          -0.8631591577564313,
          -0.7919357979170479,
          -0.2514360692283035,
          0.3440893378296112,
          -0.004826410883947076,
          -0.29596200251054716,
          0.08299097216062926,
          0.3577986097803984,
          0.10771401863159251,
          -0.40497821199855705,
          0.005503764031579793,
          -0.16087955864437503,
          1.2204543644849568,
          -0.3124134844976386,
          0.10342758619086594,
          -0.22116355695814008,
          0.1861679771528336,
          -0.13217292177326284,
          -0.8792852474145221,
          -0.030557870789349767,
          -0.5835793224763935,
          0.6801818479327534,
          0.627799873546123,
          0.3069247429609999,
          -0.06089830366978586,
          0.5019125801588307,
          0.07004942347341667,
          -0.6773633195752352,
          0.2712068881289075,
          0.6611686891803369,
          -0.6922807962807545,
          1.1324266541342214,
          -0.18491161304154397,
          -0.8816026798755103,
          0.3359328604613025,
          0.7349416350559835,
          -0.34085143246001726
         ],
         "yaxis": "y"
        },
        {
         "mode": "lines",
         "name": "y=0",
         "type": "scatter",
         "x": [
          36886678.33376073,
          6809918.470057747,
          22129331.092248473,
          85838751.13870402,
          10570412.3295048,
          40788117.290025376,
          15827413.580687549,
          34928853.23617248,
          16644148.937303327,
          47936838.1197478,
          95018206.23186985,
          32222789.09831846,
          113275.08221189433,
          53361992.29993577,
          31099603.838598497,
          11185141.972894631,
          11675942.613770083,
          8791712.592227839,
          10751465.33035909,
          94964742.38647947,
          115480737.30047463,
          85265398.41231051,
          4954417.506019222,
          94972508.89643723,
          74281150.04052876,
          101204391.82588424,
          48911236.75616011,
          11831177.948915694,
          18582054.15659691,
          113276995.73227122,
          8405731.741900805,
          20846825.46832585,
          69384322.2476245,
          134011413.55372724,
          10534359.276383579,
          30167811.313068584,
          33056572.88242437,
          44173007.002582535,
          15696001.323551599,
          54111455.002571285,
          13774039.550470218,
          10194819.475542702,
          30850076.86273597,
          23588359.240093805,
          26051991.638542227,
          17388024.86817562,
          27163080.120568085,
          51156896.31587283,
          7357506.590135971,
          37677081.4943354,
          2629831.2092270562,
          86696987.63648891,
          4498184.205971405,
          48561066.72386661,
          22993243.726273276,
          34197411.04030291,
          41413220.516099334,
          51597374.66310249,
          28606613.994192727,
          7110943.74912386,
          68203856.14728025,
          23948342.182418495,
          11452503.193020042,
          58658225.41607991,
          8321628.94353047,
          19814302.410574213,
          13388794.576500192,
          44007502.378863744,
          35442434.64214836,
          106233240.85222577,
          40965205.7359974,
          9960671.55977007,
          9658616.508836845,
          7025595.203816563,
          31345652.78832789,
          71829144.0202537,
          38505313.27772283,
          10240592.665389474,
          17637286.900337122,
          1871502.2171190577,
          38020342.838380635,
          5863493.113259295,
          72922781.91772223,
          27973513.549213983,
          13498609.566114053,
          67636651.94764854,
          24751602.874773238,
          12774589.967885293,
          27836091.928064726,
          80521944.35357007,
          38311935.79672672,
          11746781.645962667,
          44913781.0666793,
          2870390.7789388755,
          19081939.584990468,
          61846803.704219416,
          106372883.82130215,
          12359145.566895047,
          13852874.756819425,
          50561521.90442988,
          11967197.839169424,
          5450204.482031778,
          51345048.219335064,
          16080583.200519314
         ],
         "y": [
          0,
          0,
          0,
          0,
          0,
          0,
          0,
          0,
          0,
          0,
          0,
          0,
          0,
          0,
          0,
          0,
          0,
          0,
          0,
          0,
          0,
          0,
          0,
          0,
          0,
          0,
          0,
          0,
          0,
          0,
          0,
          0,
          0,
          0,
          0,
          0,
          0,
          0,
          0,
          0,
          0,
          0,
          0,
          0,
          0,
          0,
          0,
          0,
          0,
          0,
          0,
          0,
          0,
          0,
          0,
          0,
          0,
          0,
          0,
          0,
          0,
          0,
          0,
          0,
          0,
          0,
          0,
          0,
          0,
          0,
          0,
          0,
          0,
          0,
          0,
          0,
          0,
          0,
          0,
          0,
          0,
          0,
          0,
          0,
          0,
          0,
          0,
          0,
          0,
          0,
          0,
          0,
          0,
          0,
          0,
          0,
          0,
          0,
          0,
          0,
          0,
          0,
          0,
          0
         ]
        }
       ],
       "layout": {
        "coloraxis": {
         "colorbar": {
          "title": {
           "text": "log_actual"
          }
         },
         "colorscale": [
          [
           0,
           "#0d0887"
          ],
          [
           0.1111111111111111,
           "#46039f"
          ],
          [
           0.2222222222222222,
           "#7201a8"
          ],
          [
           0.3333333333333333,
           "#9c179e"
          ],
          [
           0.4444444444444444,
           "#bd3786"
          ],
          [
           0.5555555555555556,
           "#d8576b"
          ],
          [
           0.6666666666666666,
           "#ed7953"
          ],
          [
           0.7777777777777778,
           "#fb9f3a"
          ],
          [
           0.8888888888888888,
           "#fdca26"
          ],
          [
           1,
           "#f0f921"
          ]
         ]
        },
        "legend": {
         "tracegroupgap": 0
        },
        "margin": {
         "t": 60
        },
        "template": {
         "data": {
          "bar": [
           {
            "error_x": {
             "color": "#2a3f5f"
            },
            "error_y": {
             "color": "#2a3f5f"
            },
            "marker": {
             "line": {
              "color": "#E5ECF6",
              "width": 0.5
             },
             "pattern": {
              "fillmode": "overlay",
              "size": 10,
              "solidity": 0.2
             }
            },
            "type": "bar"
           }
          ],
          "barpolar": [
           {
            "marker": {
             "line": {
              "color": "#E5ECF6",
              "width": 0.5
             },
             "pattern": {
              "fillmode": "overlay",
              "size": 10,
              "solidity": 0.2
             }
            },
            "type": "barpolar"
           }
          ],
          "carpet": [
           {
            "aaxis": {
             "endlinecolor": "#2a3f5f",
             "gridcolor": "white",
             "linecolor": "white",
             "minorgridcolor": "white",
             "startlinecolor": "#2a3f5f"
            },
            "baxis": {
             "endlinecolor": "#2a3f5f",
             "gridcolor": "white",
             "linecolor": "white",
             "minorgridcolor": "white",
             "startlinecolor": "#2a3f5f"
            },
            "type": "carpet"
           }
          ],
          "choropleth": [
           {
            "colorbar": {
             "outlinewidth": 0,
             "ticks": ""
            },
            "type": "choropleth"
           }
          ],
          "contour": [
           {
            "colorbar": {
             "outlinewidth": 0,
             "ticks": ""
            },
            "colorscale": [
             [
              0,
              "#0d0887"
             ],
             [
              0.1111111111111111,
              "#46039f"
             ],
             [
              0.2222222222222222,
              "#7201a8"
             ],
             [
              0.3333333333333333,
              "#9c179e"
             ],
             [
              0.4444444444444444,
              "#bd3786"
             ],
             [
              0.5555555555555556,
              "#d8576b"
             ],
             [
              0.6666666666666666,
              "#ed7953"
             ],
             [
              0.7777777777777778,
              "#fb9f3a"
             ],
             [
              0.8888888888888888,
              "#fdca26"
             ],
             [
              1,
              "#f0f921"
             ]
            ],
            "type": "contour"
           }
          ],
          "contourcarpet": [
           {
            "colorbar": {
             "outlinewidth": 0,
             "ticks": ""
            },
            "type": "contourcarpet"
           }
          ],
          "heatmap": [
           {
            "colorbar": {
             "outlinewidth": 0,
             "ticks": ""
            },
            "colorscale": [
             [
              0,
              "#0d0887"
             ],
             [
              0.1111111111111111,
              "#46039f"
             ],
             [
              0.2222222222222222,
              "#7201a8"
             ],
             [
              0.3333333333333333,
              "#9c179e"
             ],
             [
              0.4444444444444444,
              "#bd3786"
             ],
             [
              0.5555555555555556,
              "#d8576b"
             ],
             [
              0.6666666666666666,
              "#ed7953"
             ],
             [
              0.7777777777777778,
              "#fb9f3a"
             ],
             [
              0.8888888888888888,
              "#fdca26"
             ],
             [
              1,
              "#f0f921"
             ]
            ],
            "type": "heatmap"
           }
          ],
          "heatmapgl": [
           {
            "colorbar": {
             "outlinewidth": 0,
             "ticks": ""
            },
            "colorscale": [
             [
              0,
              "#0d0887"
             ],
             [
              0.1111111111111111,
              "#46039f"
             ],
             [
              0.2222222222222222,
              "#7201a8"
             ],
             [
              0.3333333333333333,
              "#9c179e"
             ],
             [
              0.4444444444444444,
              "#bd3786"
             ],
             [
              0.5555555555555556,
              "#d8576b"
             ],
             [
              0.6666666666666666,
              "#ed7953"
             ],
             [
              0.7777777777777778,
              "#fb9f3a"
             ],
             [
              0.8888888888888888,
              "#fdca26"
             ],
             [
              1,
              "#f0f921"
             ]
            ],
            "type": "heatmapgl"
           }
          ],
          "histogram": [
           {
            "marker": {
             "pattern": {
              "fillmode": "overlay",
              "size": 10,
              "solidity": 0.2
             }
            },
            "type": "histogram"
           }
          ],
          "histogram2d": [
           {
            "colorbar": {
             "outlinewidth": 0,
             "ticks": ""
            },
            "colorscale": [
             [
              0,
              "#0d0887"
             ],
             [
              0.1111111111111111,
              "#46039f"
             ],
             [
              0.2222222222222222,
              "#7201a8"
             ],
             [
              0.3333333333333333,
              "#9c179e"
             ],
             [
              0.4444444444444444,
              "#bd3786"
             ],
             [
              0.5555555555555556,
              "#d8576b"
             ],
             [
              0.6666666666666666,
              "#ed7953"
             ],
             [
              0.7777777777777778,
              "#fb9f3a"
             ],
             [
              0.8888888888888888,
              "#fdca26"
             ],
             [
              1,
              "#f0f921"
             ]
            ],
            "type": "histogram2d"
           }
          ],
          "histogram2dcontour": [
           {
            "colorbar": {
             "outlinewidth": 0,
             "ticks": ""
            },
            "colorscale": [
             [
              0,
              "#0d0887"
             ],
             [
              0.1111111111111111,
              "#46039f"
             ],
             [
              0.2222222222222222,
              "#7201a8"
             ],
             [
              0.3333333333333333,
              "#9c179e"
             ],
             [
              0.4444444444444444,
              "#bd3786"
             ],
             [
              0.5555555555555556,
              "#d8576b"
             ],
             [
              0.6666666666666666,
              "#ed7953"
             ],
             [
              0.7777777777777778,
              "#fb9f3a"
             ],
             [
              0.8888888888888888,
              "#fdca26"
             ],
             [
              1,
              "#f0f921"
             ]
            ],
            "type": "histogram2dcontour"
           }
          ],
          "mesh3d": [
           {
            "colorbar": {
             "outlinewidth": 0,
             "ticks": ""
            },
            "type": "mesh3d"
           }
          ],
          "parcoords": [
           {
            "line": {
             "colorbar": {
              "outlinewidth": 0,
              "ticks": ""
             }
            },
            "type": "parcoords"
           }
          ],
          "pie": [
           {
            "automargin": true,
            "type": "pie"
           }
          ],
          "scatter": [
           {
            "fillpattern": {
             "fillmode": "overlay",
             "size": 10,
             "solidity": 0.2
            },
            "type": "scatter"
           }
          ],
          "scatter3d": [
           {
            "line": {
             "colorbar": {
              "outlinewidth": 0,
              "ticks": ""
             }
            },
            "marker": {
             "colorbar": {
              "outlinewidth": 0,
              "ticks": ""
             }
            },
            "type": "scatter3d"
           }
          ],
          "scattercarpet": [
           {
            "marker": {
             "colorbar": {
              "outlinewidth": 0,
              "ticks": ""
             }
            },
            "type": "scattercarpet"
           }
          ],
          "scattergeo": [
           {
            "marker": {
             "colorbar": {
              "outlinewidth": 0,
              "ticks": ""
             }
            },
            "type": "scattergeo"
           }
          ],
          "scattergl": [
           {
            "marker": {
             "colorbar": {
              "outlinewidth": 0,
              "ticks": ""
             }
            },
            "type": "scattergl"
           }
          ],
          "scattermapbox": [
           {
            "marker": {
             "colorbar": {
              "outlinewidth": 0,
              "ticks": ""
             }
            },
            "type": "scattermapbox"
           }
          ],
          "scatterpolar": [
           {
            "marker": {
             "colorbar": {
              "outlinewidth": 0,
              "ticks": ""
             }
            },
            "type": "scatterpolar"
           }
          ],
          "scatterpolargl": [
           {
            "marker": {
             "colorbar": {
              "outlinewidth": 0,
              "ticks": ""
             }
            },
            "type": "scatterpolargl"
           }
          ],
          "scatterternary": [
           {
            "marker": {
             "colorbar": {
              "outlinewidth": 0,
              "ticks": ""
             }
            },
            "type": "scatterternary"
           }
          ],
          "surface": [
           {
            "colorbar": {
             "outlinewidth": 0,
             "ticks": ""
            },
            "colorscale": [
             [
              0,
              "#0d0887"
             ],
             [
              0.1111111111111111,
              "#46039f"
             ],
             [
              0.2222222222222222,
              "#7201a8"
             ],
             [
              0.3333333333333333,
              "#9c179e"
             ],
             [
              0.4444444444444444,
              "#bd3786"
             ],
             [
              0.5555555555555556,
              "#d8576b"
             ],
             [
              0.6666666666666666,
              "#ed7953"
             ],
             [
              0.7777777777777778,
              "#fb9f3a"
             ],
             [
              0.8888888888888888,
              "#fdca26"
             ],
             [
              1,
              "#f0f921"
             ]
            ],
            "type": "surface"
           }
          ],
          "table": [
           {
            "cells": {
             "fill": {
              "color": "#EBF0F8"
             },
             "line": {
              "color": "white"
             }
            },
            "header": {
             "fill": {
              "color": "#C8D4E3"
             },
             "line": {
              "color": "white"
             }
            },
            "type": "table"
           }
          ]
         },
         "layout": {
          "annotationdefaults": {
           "arrowcolor": "#2a3f5f",
           "arrowhead": 0,
           "arrowwidth": 1
          },
          "autotypenumbers": "strict",
          "coloraxis": {
           "colorbar": {
            "outlinewidth": 0,
            "ticks": ""
           }
          },
          "colorscale": {
           "diverging": [
            [
             0,
             "#8e0152"
            ],
            [
             0.1,
             "#c51b7d"
            ],
            [
             0.2,
             "#de77ae"
            ],
            [
             0.3,
             "#f1b6da"
            ],
            [
             0.4,
             "#fde0ef"
            ],
            [
             0.5,
             "#f7f7f7"
            ],
            [
             0.6,
             "#e6f5d0"
            ],
            [
             0.7,
             "#b8e186"
            ],
            [
             0.8,
             "#7fbc41"
            ],
            [
             0.9,
             "#4d9221"
            ],
            [
             1,
             "#276419"
            ]
           ],
           "sequential": [
            [
             0,
             "#0d0887"
            ],
            [
             0.1111111111111111,
             "#46039f"
            ],
            [
             0.2222222222222222,
             "#7201a8"
            ],
            [
             0.3333333333333333,
             "#9c179e"
            ],
            [
             0.4444444444444444,
             "#bd3786"
            ],
            [
             0.5555555555555556,
             "#d8576b"
            ],
            [
             0.6666666666666666,
             "#ed7953"
            ],
            [
             0.7777777777777778,
             "#fb9f3a"
            ],
            [
             0.8888888888888888,
             "#fdca26"
            ],
            [
             1,
             "#f0f921"
            ]
           ],
           "sequentialminus": [
            [
             0,
             "#0d0887"
            ],
            [
             0.1111111111111111,
             "#46039f"
            ],
            [
             0.2222222222222222,
             "#7201a8"
            ],
            [
             0.3333333333333333,
             "#9c179e"
            ],
            [
             0.4444444444444444,
             "#bd3786"
            ],
            [
             0.5555555555555556,
             "#d8576b"
            ],
            [
             0.6666666666666666,
             "#ed7953"
            ],
            [
             0.7777777777777778,
             "#fb9f3a"
            ],
            [
             0.8888888888888888,
             "#fdca26"
            ],
            [
             1,
             "#f0f921"
            ]
           ]
          },
          "colorway": [
           "#636efa",
           "#EF553B",
           "#00cc96",
           "#ab63fa",
           "#FFA15A",
           "#19d3f3",
           "#FF6692",
           "#B6E880",
           "#FF97FF",
           "#FECB52"
          ],
          "font": {
           "color": "#2a3f5f"
          },
          "geo": {
           "bgcolor": "white",
           "lakecolor": "white",
           "landcolor": "#E5ECF6",
           "showlakes": true,
           "showland": true,
           "subunitcolor": "white"
          },
          "hoverlabel": {
           "align": "left"
          },
          "hovermode": "closest",
          "mapbox": {
           "style": "light"
          },
          "paper_bgcolor": "white",
          "plot_bgcolor": "#E5ECF6",
          "polar": {
           "angularaxis": {
            "gridcolor": "white",
            "linecolor": "white",
            "ticks": ""
           },
           "bgcolor": "#E5ECF6",
           "radialaxis": {
            "gridcolor": "white",
            "linecolor": "white",
            "ticks": ""
           }
          },
          "scene": {
           "xaxis": {
            "backgroundcolor": "#E5ECF6",
            "gridcolor": "white",
            "gridwidth": 2,
            "linecolor": "white",
            "showbackground": true,
            "ticks": "",
            "zerolinecolor": "white"
           },
           "yaxis": {
            "backgroundcolor": "#E5ECF6",
            "gridcolor": "white",
            "gridwidth": 2,
            "linecolor": "white",
            "showbackground": true,
            "ticks": "",
            "zerolinecolor": "white"
           },
           "zaxis": {
            "backgroundcolor": "#E5ECF6",
            "gridcolor": "white",
            "gridwidth": 2,
            "linecolor": "white",
            "showbackground": true,
            "ticks": "",
            "zerolinecolor": "white"
           }
          },
          "shapedefaults": {
           "line": {
            "color": "#2a3f5f"
           }
          },
          "ternary": {
           "aaxis": {
            "gridcolor": "white",
            "linecolor": "white",
            "ticks": ""
           },
           "baxis": {
            "gridcolor": "white",
            "linecolor": "white",
            "ticks": ""
           },
           "bgcolor": "#E5ECF6",
           "caxis": {
            "gridcolor": "white",
            "linecolor": "white",
            "ticks": ""
           }
          },
          "title": {
           "x": 0.05
          },
          "xaxis": {
           "automargin": true,
           "gridcolor": "white",
           "linecolor": "white",
           "ticks": "",
           "title": {
            "standoff": 15
           },
           "zerolinecolor": "white",
           "zerolinewidth": 2
          },
          "yaxis": {
           "automargin": true,
           "gridcolor": "white",
           "linecolor": "white",
           "ticks": "",
           "title": {
            "standoff": 15
           },
           "zerolinecolor": "white",
           "zerolinewidth": 2
          }
         }
        },
        "title": {
         "text": "Residuals Percent Difference vs Predicted Opening Weekend Revenue"
        },
        "xaxis": {
         "anchor": "y",
         "domain": [
          0,
          1
         ],
         "range": [
          0,
          140711984
         ],
         "title": {
          "text": "Predicted"
         }
        },
        "yaxis": {
         "anchor": "x",
         "domain": [
          0,
          1
         ],
         "range": [
          -2.111225556243156,
          2.111225556243156
         ],
         "title": {
          "text": "Residual Percent Difference"
         }
        }
       }
      }
     },
     "metadata": {},
     "output_type": "display_data"
    }
   ],
   "source": [
    "# plot residuals as a percentage of actual\n",
    "results_df[\"residual_percent_difference\"] = (\n",
    "    (results_df[\"actual\"] - results_df[\"predicted\"]) / ((results_df[\"actual\"] + results_df[\"predicted\"]) / 2)\n",
    ")\n",
    "\n",
    "results_df[\"log_actual\"] = np.log(results_df[\"actual\"])\n",
    "\n",
    "fig2 = px.scatter(results_df, x=\"predicted\", y=\"residual_percent_difference\", hover_name=\"title\", color=\"log_actual\", labels={\"residual_percent_difference\": \"Residual Percent Difference\", \"predicted\": \"Predicted Opening Weekend Revenue\", \"actual\": \"Actual Opening Weekend Revenue\"})\n",
    "\n",
    "x_axis_length = int(max(results_df[\"predicted\"]) * 1.05)\n",
    "fig2.add_trace(go.Scatter(x=results_df[\"predicted\"], y=[0] * len(results_df), mode=\"lines\", name=\"y=0\"))\n",
    "max_abs_residual_percent_difference = max(abs(results_df[\"residual_percent_difference\"]))\n",
    "fig2.update_layout(\n",
    "    title=\"Residuals Percent Difference vs Predicted Opening Weekend Revenue\",\n",
    "    xaxis_title=\"Predicted\",\n",
    "    yaxis_title=\"Residual Percent Difference\",\n",
    "    yaxis=dict(range=[-1.1 * max_abs_residual_percent_difference, 1.1 * max_abs_residual_percent_difference]),\n",
    "    xaxis=dict(range=[0, x_axis_length])\n",
    ")\n",
    "\n",
    "# positive is under prediction, negative is over prediction"
   ]
  },
  {
   "cell_type": "code",
   "execution_count": 13,
   "metadata": {},
   "outputs": [
    {
     "name": "stderr",
     "output_type": "stream",
     "text": [
      "/tmp/ipykernel_35894/4292569314.py:5: PerformanceWarning:\n",
      "\n",
      "DataFrame is highly fragmented.  This is usually the result of calling `frame.insert` many times, which has poor performance.  Consider joining all columns at once using pd.concat(axis=1) instead. To get a de-fragmented frame, use `newframe = frame.copy()`\n",
      "\n",
      "/tmp/ipykernel_35894/4292569314.py:6: PerformanceWarning:\n",
      "\n",
      "DataFrame is highly fragmented.  This is usually the result of calling `frame.insert` many times, which has poor performance.  Consider joining all columns at once using pd.concat(axis=1) instead. To get a de-fragmented frame, use `newframe = frame.copy()`\n",
      "\n"
     ]
    },
    {
     "data": {
      "text/html": [
       "<div>\n",
       "<style scoped>\n",
       "    .dataframe tbody tr th:only-of-type {\n",
       "        vertical-align: middle;\n",
       "    }\n",
       "\n",
       "    .dataframe tbody tr th {\n",
       "        vertical-align: top;\n",
       "    }\n",
       "\n",
       "    .dataframe thead th {\n",
       "        text-align: right;\n",
       "    }\n",
       "</style>\n",
       "<table border=\"1\" class=\"dataframe\">\n",
       "  <thead>\n",
       "    <tr style=\"text-align: right;\">\n",
       "      <th></th>\n",
       "      <th>title</th>\n",
       "      <th>actual</th>\n",
       "      <th>predicted</th>\n",
       "      <th>budget</th>\n",
       "      <th>wikipedia_pre_release_cumulative_views</th>\n",
       "      <th>metacritic_before_wide_friday_calculated</th>\n",
       "      <th>top_5_trailer_views</th>\n",
       "    </tr>\n",
       "  </thead>\n",
       "  <tbody>\n",
       "    <tr>\n",
       "      <th>468</th>\n",
       "      <td>Avengers: Endgame</td>\n",
       "      <td>357115007.0</td>\n",
       "      <td>20.092462</td>\n",
       "      <td>400000000.0</td>\n",
       "      <td>8078868.0</td>\n",
       "      <td>79.0</td>\n",
       "      <td>538068656.0</td>\n",
       "    </tr>\n",
       "    <tr>\n",
       "      <th>623</th>\n",
       "      <td>Spider-Man: No Way Home</td>\n",
       "      <td>260138569.0</td>\n",
       "      <td>19.223198</td>\n",
       "      <td>200000000.0</td>\n",
       "      <td>6211755.0</td>\n",
       "      <td>72.0</td>\n",
       "      <td>197038432.0</td>\n",
       "    </tr>\n",
       "    <tr>\n",
       "      <th>346</th>\n",
       "      <td>Avengers: Infinity War</td>\n",
       "      <td>257698183.0</td>\n",
       "      <td>19.612586</td>\n",
       "      <td>300000000.0</td>\n",
       "      <td>6361008.0</td>\n",
       "      <td>70.0</td>\n",
       "      <td>542667265.0</td>\n",
       "    </tr>\n",
       "    <tr>\n",
       "      <th>37</th>\n",
       "      <td>Star Wars Ep. VII: The Force Awakens</td>\n",
       "      <td>247966675.0</td>\n",
       "      <td>19.858331</td>\n",
       "      <td>533200000.0</td>\n",
       "      <td>7308580.0</td>\n",
       "      <td>80.0</td>\n",
       "      <td>191498815.0</td>\n",
       "    </tr>\n",
       "    <tr>\n",
       "      <th>294</th>\n",
       "      <td>Star Wars Ep. VIII: The Last Jedi</td>\n",
       "      <td>220009584.0</td>\n",
       "      <td>18.780880</td>\n",
       "      <td>262000000.0</td>\n",
       "      <td>3016480.0</td>\n",
       "      <td>83.0</td>\n",
       "      <td>65764078.0</td>\n",
       "    </tr>\n",
       "    <tr>\n",
       "      <th>96</th>\n",
       "      <td>Deadpool &amp; Wolverine</td>\n",
       "      <td>211435291.0</td>\n",
       "      <td>18.369901</td>\n",
       "      <td>200000000.0</td>\n",
       "      <td>2957720.0</td>\n",
       "      <td>62.0</td>\n",
       "      <td>92496312.0</td>\n",
       "    </tr>\n",
       "    <tr>\n",
       "      <th>318</th>\n",
       "      <td>Black Panther</td>\n",
       "      <td>202003951.0</td>\n",
       "      <td>19.050303</td>\n",
       "      <td>200000000.0</td>\n",
       "      <td>3504158.0</td>\n",
       "      <td>86.0</td>\n",
       "      <td>158087866.0</td>\n",
       "    </tr>\n",
       "    <tr>\n",
       "      <th>496</th>\n",
       "      <td>The Lion King</td>\n",
       "      <td>191770759.0</td>\n",
       "      <td>18.070935</td>\n",
       "      <td>260000000.0</td>\n",
       "      <td>2164436.0</td>\n",
       "      <td>59.0</td>\n",
       "      <td>49977186.0</td>\n",
       "    </tr>\n",
       "    <tr>\n",
       "      <th>647</th>\n",
       "      <td>Doctor Strange in the Multiverse of Madness</td>\n",
       "      <td>187420998.0</td>\n",
       "      <td>18.464865</td>\n",
       "      <td>200000000.0</td>\n",
       "      <td>3534041.0</td>\n",
       "      <td>64.0</td>\n",
       "      <td>80431609.0</td>\n",
       "    </tr>\n",
       "    <tr>\n",
       "      <th>360</th>\n",
       "      <td>Incredibles 2</td>\n",
       "      <td>182687905.0</td>\n",
       "      <td>18.592015</td>\n",
       "      <td>200000000.0</td>\n",
       "      <td>898943.0</td>\n",
       "      <td>80.0</td>\n",
       "      <td>337879237.0</td>\n",
       "    </tr>\n",
       "    <tr>\n",
       "      <th>669</th>\n",
       "      <td>Black Panther: Wakanda Forever</td>\n",
       "      <td>181339761.0</td>\n",
       "      <td>18.415569</td>\n",
       "      <td>250000000.0</td>\n",
       "      <td>3069841.0</td>\n",
       "      <td>69.0</td>\n",
       "      <td>48494846.0</td>\n",
       "    </tr>\n",
       "    <tr>\n",
       "      <th>87</th>\n",
       "      <td>Captain America: Civil War</td>\n",
       "      <td>179139142.0</td>\n",
       "      <td>19.287119</td>\n",
       "      <td>250000000.0</td>\n",
       "      <td>5805060.0</td>\n",
       "      <td>77.0</td>\n",
       "      <td>158290980.0</td>\n",
       "    </tr>\n",
       "    <tr>\n",
       "      <th>549</th>\n",
       "      <td>Star Wars: The Rise of Skywalker</td>\n",
       "      <td>177383864.0</td>\n",
       "      <td>18.475343</td>\n",
       "      <td>275000000.0</td>\n",
       "      <td>4343122.0</td>\n",
       "      <td>57.0</td>\n",
       "      <td>62680974.0</td>\n",
       "    </tr>\n",
       "    <tr>\n",
       "      <th>201</th>\n",
       "      <td>Beauty and the Beast</td>\n",
       "      <td>174750616.0</td>\n",
       "      <td>17.042517</td>\n",
       "      <td>160000000.0</td>\n",
       "      <td>1743780.0</td>\n",
       "      <td>68.0</td>\n",
       "      <td>15845005.0</td>\n",
       "    </tr>\n",
       "    <tr>\n",
       "      <th>74</th>\n",
       "      <td>Batman v Superman: Dawn of Justice</td>\n",
       "      <td>166007347.0</td>\n",
       "      <td>18.477154</td>\n",
       "      <td>263000000.0</td>\n",
       "      <td>3678000.0</td>\n",
       "      <td>48.0</td>\n",
       "      <td>183180035.0</td>\n",
       "    </tr>\n",
       "    <tr>\n",
       "      <th>33</th>\n",
       "      <td>Barbie</td>\n",
       "      <td>162022044.0</td>\n",
       "      <td>18.793595</td>\n",
       "      <td>151000000.0</td>\n",
       "      <td>3741724.0</td>\n",
       "      <td>81.0</td>\n",
       "      <td>111528091.0</td>\n",
       "    </tr>\n",
       "    <tr>\n",
       "      <th>170</th>\n",
       "      <td>Rogue One: A Star Wars Story</td>\n",
       "      <td>155081681.0</td>\n",
       "      <td>18.651321</td>\n",
       "      <td>280200000.0</td>\n",
       "      <td>2937918.0</td>\n",
       "      <td>68.0</td>\n",
       "      <td>118052687.0</td>\n",
       "    </tr>\n",
       "    <tr>\n",
       "      <th>89</th>\n",
       "      <td>Inside Out 2</td>\n",
       "      <td>154201673.0</td>\n",
       "      <td>18.267633</td>\n",
       "      <td>200000000.0</td>\n",
       "      <td>1120226.0</td>\n",
       "      <td>75.0</td>\n",
       "      <td>112778679.0</td>\n",
       "    </tr>\n",
       "    <tr>\n",
       "      <th>454</th>\n",
       "      <td>Captain Marvel</td>\n",
       "      <td>153433423.0</td>\n",
       "      <td>18.436190</td>\n",
       "      <td>175000000.0</td>\n",
       "      <td>2697997.0</td>\n",
       "      <td>66.0</td>\n",
       "      <td>124194021.0</td>\n",
       "    </tr>\n",
       "    <tr>\n",
       "      <th>362</th>\n",
       "      <td>Jurassic World: Fallen Kingdom</td>\n",
       "      <td>148024610.0</td>\n",
       "      <td>18.268171</td>\n",
       "      <td>170000000.0</td>\n",
       "      <td>2575528.0</td>\n",
       "      <td>55.0</td>\n",
       "      <td>154039630.0</td>\n",
       "    </tr>\n",
       "    <tr>\n",
       "      <th>218</th>\n",
       "      <td>Guardians of the Galaxy Vol 2</td>\n",
       "      <td>146510104.0</td>\n",
       "      <td>18.204963</td>\n",
       "      <td>200000000.0</td>\n",
       "      <td>2414252.0</td>\n",
       "      <td>68.0</td>\n",
       "      <td>48327507.0</td>\n",
       "    </tr>\n",
       "    <tr>\n",
       "      <th>13</th>\n",
       "      <td>The Super Mario Bros. Movie</td>\n",
       "      <td>146361865.0</td>\n",
       "      <td>17.598181</td>\n",
       "      <td>100000000.0</td>\n",
       "      <td>1511626.0</td>\n",
       "      <td>51.0</td>\n",
       "      <td>62046017.0</td>\n",
       "    </tr>\n",
       "    <tr>\n",
       "      <th>649</th>\n",
       "      <td>Jurassic World: Dominion</td>\n",
       "      <td>145075625.0</td>\n",
       "      <td>17.760010</td>\n",
       "      <td>165000000.0</td>\n",
       "      <td>1670496.0</td>\n",
       "      <td>43.0</td>\n",
       "      <td>105716506.0</td>\n",
       "    </tr>\n",
       "    <tr>\n",
       "      <th>653</th>\n",
       "      <td>Thor: Love and Thunder</td>\n",
       "      <td>144165107.0</td>\n",
       "      <td>18.431764</td>\n",
       "      <td>250000000.0</td>\n",
       "      <td>3379308.0</td>\n",
       "      <td>63.0</td>\n",
       "      <td>65518121.0</td>\n",
       "    </tr>\n",
       "    <tr>\n",
       "      <th>101</th>\n",
       "      <td>Finding Dory</td>\n",
       "      <td>135060273.0</td>\n",
       "      <td>17.989190</td>\n",
       "      <td>200000000.0</td>\n",
       "      <td>838428.0</td>\n",
       "      <td>78.0</td>\n",
       "      <td>45205238.0</td>\n",
       "    </tr>\n",
       "    <tr>\n",
       "      <th>673</th>\n",
       "      <td>Avatar: The Way of Water</td>\n",
       "      <td>134100226.0</td>\n",
       "      <td>19.023298</td>\n",
       "      <td>460000000.0</td>\n",
       "      <td>3578680.0</td>\n",
       "      <td>72.0</td>\n",
       "      <td>125927335.0</td>\n",
       "    </tr>\n",
       "    <tr>\n",
       "      <th>636</th>\n",
       "      <td>The Batman</td>\n",
       "      <td>134008624.0</td>\n",
       "      <td>18.677832</td>\n",
       "      <td>200000000.0</td>\n",
       "      <td>2749341.0</td>\n",
       "      <td>74.0</td>\n",
       "      <td>145520768.0</td>\n",
       "    </tr>\n",
       "    <tr>\n",
       "      <th>119</th>\n",
       "      <td>Suicide Squad</td>\n",
       "      <td>133682248.0</td>\n",
       "      <td>18.507456</td>\n",
       "      <td>175000000.0</td>\n",
       "      <td>4637433.0</td>\n",
       "      <td>47.0</td>\n",
       "      <td>182346190.0</td>\n",
       "    </tr>\n",
       "    <tr>\n",
       "      <th>58</th>\n",
       "      <td>Deadpool</td>\n",
       "      <td>132434639.0</td>\n",
       "      <td>18.182094</td>\n",
       "      <td>58000000.0</td>\n",
       "      <td>3007117.0</td>\n",
       "      <td>67.0</td>\n",
       "      <td>134042442.0</td>\n",
       "    </tr>\n",
       "    <tr>\n",
       "      <th>539</th>\n",
       "      <td>Frozen II</td>\n",
       "      <td>130263358.0</td>\n",
       "      <td>18.284007</td>\n",
       "      <td>150000000.0</td>\n",
       "      <td>1449696.0</td>\n",
       "      <td>65.0</td>\n",
       "      <td>237034175.0</td>\n",
       "    </tr>\n",
       "    <tr>\n",
       "      <th>648</th>\n",
       "      <td>Top Gun: Maverick</td>\n",
       "      <td>126707459.0</td>\n",
       "      <td>18.577920</td>\n",
       "      <td>170000000.0</td>\n",
       "      <td>2068875.0</td>\n",
       "      <td>79.0</td>\n",
       "      <td>145354138.0</td>\n",
       "    </tr>\n",
       "    <tr>\n",
       "      <th>352</th>\n",
       "      <td>Deadpool 2</td>\n",
       "      <td>125507153.0</td>\n",
       "      <td>18.241232</td>\n",
       "      <td>110000000.0</td>\n",
       "      <td>2747558.0</td>\n",
       "      <td>68.0</td>\n",
       "      <td>88719820.0</td>\n",
       "    </tr>\n",
       "    <tr>\n",
       "      <th>257</th>\n",
       "      <td>It</td>\n",
       "      <td>123403419.0</td>\n",
       "      <td>18.051728</td>\n",
       "      <td>35000000.0</td>\n",
       "      <td>2266720.0</td>\n",
       "      <td>72.0</td>\n",
       "      <td>204007513.0</td>\n",
       "    </tr>\n",
       "    <tr>\n",
       "      <th>279</th>\n",
       "      <td>Thor: Ragnarok</td>\n",
       "      <td>122744989.0</td>\n",
       "      <td>18.587861</td>\n",
       "      <td>180000000.0</td>\n",
       "      <td>2518258.0</td>\n",
       "      <td>74.0</td>\n",
       "      <td>139917675.0</td>\n",
       "    </tr>\n",
       "    <tr>\n",
       "      <th>490</th>\n",
       "      <td>Toy Story 4</td>\n",
       "      <td>120908065.0</td>\n",
       "      <td>18.615299</td>\n",
       "      <td>200000000.0</td>\n",
       "      <td>1594028.0</td>\n",
       "      <td>83.0</td>\n",
       "      <td>149979330.0</td>\n",
       "    </tr>\n",
       "    <tr>\n",
       "      <th>23</th>\n",
       "      <td>Spider-Man: Across the Spider-Verse</td>\n",
       "      <td>120663589.0</td>\n",
       "      <td>18.451950</td>\n",
       "      <td>100000000.0</td>\n",
       "      <td>1916359.0</td>\n",
       "      <td>85.0</td>\n",
       "      <td>151891677.0</td>\n",
       "    </tr>\n",
       "    <tr>\n",
       "      <th>19</th>\n",
       "      <td>Guardians of the Galaxy Vol 3</td>\n",
       "      <td>118414021.0</td>\n",
       "      <td>18.256533</td>\n",
       "      <td>250000000.0</td>\n",
       "      <td>2200515.0</td>\n",
       "      <td>67.0</td>\n",
       "      <td>56409773.0</td>\n",
       "    </tr>\n",
       "    <tr>\n",
       "      <th>239</th>\n",
       "      <td>Spider-Man: Homecoming</td>\n",
       "      <td>117027503.0</td>\n",
       "      <td>18.390439</td>\n",
       "      <td>175000000.0</td>\n",
       "      <td>2014019.0</td>\n",
       "      <td>75.0</td>\n",
       "      <td>95078092.0</td>\n",
       "    </tr>\n",
       "    <tr>\n",
       "      <th>102</th>\n",
       "      <td>Beetlejuice Beetlejuice</td>\n",
       "      <td>111003345.0</td>\n",
       "      <td>17.679734</td>\n",
       "      <td>100000000.0</td>\n",
       "      <td>1320674.0</td>\n",
       "      <td>64.0</td>\n",
       "      <td>48251920.0</td>\n",
       "    </tr>\n",
       "    <tr>\n",
       "      <th>652</th>\n",
       "      <td>Minions: The Rise of Gru</td>\n",
       "      <td>107010140.0</td>\n",
       "      <td>17.478271</td>\n",
       "      <td>80000000.0</td>\n",
       "      <td>528072.0</td>\n",
       "      <td>61.0</td>\n",
       "      <td>87411069.0</td>\n",
       "    </tr>\n",
       "    <tr>\n",
       "      <th>3</th>\n",
       "      <td>Ant-Man and the Wasp: Quantumania</td>\n",
       "      <td>106109650.0</td>\n",
       "      <td>18.025998</td>\n",
       "      <td>200000000.0</td>\n",
       "      <td>2433265.0</td>\n",
       "      <td>54.0</td>\n",
       "      <td>63966028.0</td>\n",
       "    </tr>\n",
       "    <tr>\n",
       "      <th>108</th>\n",
       "      <td>The Secret Life of Pets</td>\n",
       "      <td>104352905.0</td>\n",
       "      <td>17.423751</td>\n",
       "      <td>75000000.0</td>\n",
       "      <td>540388.0</td>\n",
       "      <td>64.0</td>\n",
       "      <td>64466316.0</td>\n",
       "    </tr>\n",
       "    <tr>\n",
       "      <th>80</th>\n",
       "      <td>The Jungle Book</td>\n",
       "      <td>103261464.0</td>\n",
       "      <td>17.306748</td>\n",
       "      <td>175000000.0</td>\n",
       "      <td>1843028.0</td>\n",
       "      <td>78.0</td>\n",
       "      <td>25587638.0</td>\n",
       "    </tr>\n",
       "    <tr>\n",
       "      <th>226</th>\n",
       "      <td>Wonder Woman</td>\n",
       "      <td>103251471.0</td>\n",
       "      <td>18.273054</td>\n",
       "      <td>150000000.0</td>\n",
       "      <td>1733637.0</td>\n",
       "      <td>76.0</td>\n",
       "      <td>88725095.0</td>\n",
       "    </tr>\n",
       "    <tr>\n",
       "      <th>27</th>\n",
       "      <td>The Hunger Games: Mockingjay - Part 2</td>\n",
       "      <td>102665981.0</td>\n",
       "      <td>17.484452</td>\n",
       "      <td>160000000.0</td>\n",
       "      <td>372675.0</td>\n",
       "      <td>67.0</td>\n",
       "      <td>37846008.0</td>\n",
       "    </tr>\n",
       "  </tbody>\n",
       "</table>\n",
       "</div>"
      ],
      "text/plain": [
       "                                           title       actual  predicted  \\\n",
       "468                            Avengers: Endgame  357115007.0  20.092462   \n",
       "623                      Spider-Man: No Way Home  260138569.0  19.223198   \n",
       "346                       Avengers: Infinity War  257698183.0  19.612586   \n",
       "37          Star Wars Ep. VII: The Force Awakens  247966675.0  19.858331   \n",
       "294            Star Wars Ep. VIII: The Last Jedi  220009584.0  18.780880   \n",
       "96                          Deadpool & Wolverine  211435291.0  18.369901   \n",
       "318                                Black Panther  202003951.0  19.050303   \n",
       "496                                The Lion King  191770759.0  18.070935   \n",
       "647  Doctor Strange in the Multiverse of Madness  187420998.0  18.464865   \n",
       "360                                Incredibles 2  182687905.0  18.592015   \n",
       "669               Black Panther: Wakanda Forever  181339761.0  18.415569   \n",
       "87                    Captain America: Civil War  179139142.0  19.287119   \n",
       "549             Star Wars: The Rise of Skywalker  177383864.0  18.475343   \n",
       "201                         Beauty and the Beast  174750616.0  17.042517   \n",
       "74            Batman v Superman: Dawn of Justice  166007347.0  18.477154   \n",
       "33                                        Barbie  162022044.0  18.793595   \n",
       "170                 Rogue One: A Star Wars Story  155081681.0  18.651321   \n",
       "89                                  Inside Out 2  154201673.0  18.267633   \n",
       "454                               Captain Marvel  153433423.0  18.436190   \n",
       "362               Jurassic World: Fallen Kingdom  148024610.0  18.268171   \n",
       "218                Guardians of the Galaxy Vol 2  146510104.0  18.204963   \n",
       "13                   The Super Mario Bros. Movie  146361865.0  17.598181   \n",
       "649                     Jurassic World: Dominion  145075625.0  17.760010   \n",
       "653                       Thor: Love and Thunder  144165107.0  18.431764   \n",
       "101                                 Finding Dory  135060273.0  17.989190   \n",
       "673                     Avatar: The Way of Water  134100226.0  19.023298   \n",
       "636                                   The Batman  134008624.0  18.677832   \n",
       "119                                Suicide Squad  133682248.0  18.507456   \n",
       "58                                      Deadpool  132434639.0  18.182094   \n",
       "539                                    Frozen II  130263358.0  18.284007   \n",
       "648                            Top Gun: Maverick  126707459.0  18.577920   \n",
       "352                                   Deadpool 2  125507153.0  18.241232   \n",
       "257                                           It  123403419.0  18.051728   \n",
       "279                               Thor: Ragnarok  122744989.0  18.587861   \n",
       "490                                  Toy Story 4  120908065.0  18.615299   \n",
       "23           Spider-Man: Across the Spider-Verse  120663589.0  18.451950   \n",
       "19                 Guardians of the Galaxy Vol 3  118414021.0  18.256533   \n",
       "239                       Spider-Man: Homecoming  117027503.0  18.390439   \n",
       "102                      Beetlejuice Beetlejuice  111003345.0  17.679734   \n",
       "652                     Minions: The Rise of Gru  107010140.0  17.478271   \n",
       "3              Ant-Man and the Wasp: Quantumania  106109650.0  18.025998   \n",
       "108                      The Secret Life of Pets  104352905.0  17.423751   \n",
       "80                               The Jungle Book  103261464.0  17.306748   \n",
       "226                                 Wonder Woman  103251471.0  18.273054   \n",
       "27         The Hunger Games: Mockingjay - Part 2  102665981.0  17.484452   \n",
       "\n",
       "          budget  wikipedia_pre_release_cumulative_views  \\\n",
       "468  400000000.0                               8078868.0   \n",
       "623  200000000.0                               6211755.0   \n",
       "346  300000000.0                               6361008.0   \n",
       "37   533200000.0                               7308580.0   \n",
       "294  262000000.0                               3016480.0   \n",
       "96   200000000.0                               2957720.0   \n",
       "318  200000000.0                               3504158.0   \n",
       "496  260000000.0                               2164436.0   \n",
       "647  200000000.0                               3534041.0   \n",
       "360  200000000.0                                898943.0   \n",
       "669  250000000.0                               3069841.0   \n",
       "87   250000000.0                               5805060.0   \n",
       "549  275000000.0                               4343122.0   \n",
       "201  160000000.0                               1743780.0   \n",
       "74   263000000.0                               3678000.0   \n",
       "33   151000000.0                               3741724.0   \n",
       "170  280200000.0                               2937918.0   \n",
       "89   200000000.0                               1120226.0   \n",
       "454  175000000.0                               2697997.0   \n",
       "362  170000000.0                               2575528.0   \n",
       "218  200000000.0                               2414252.0   \n",
       "13   100000000.0                               1511626.0   \n",
       "649  165000000.0                               1670496.0   \n",
       "653  250000000.0                               3379308.0   \n",
       "101  200000000.0                                838428.0   \n",
       "673  460000000.0                               3578680.0   \n",
       "636  200000000.0                               2749341.0   \n",
       "119  175000000.0                               4637433.0   \n",
       "58    58000000.0                               3007117.0   \n",
       "539  150000000.0                               1449696.0   \n",
       "648  170000000.0                               2068875.0   \n",
       "352  110000000.0                               2747558.0   \n",
       "257   35000000.0                               2266720.0   \n",
       "279  180000000.0                               2518258.0   \n",
       "490  200000000.0                               1594028.0   \n",
       "23   100000000.0                               1916359.0   \n",
       "19   250000000.0                               2200515.0   \n",
       "239  175000000.0                               2014019.0   \n",
       "102  100000000.0                               1320674.0   \n",
       "652   80000000.0                                528072.0   \n",
       "3    200000000.0                               2433265.0   \n",
       "108   75000000.0                                540388.0   \n",
       "80   175000000.0                               1843028.0   \n",
       "226  150000000.0                               1733637.0   \n",
       "27   160000000.0                                372675.0   \n",
       "\n",
       "     metacritic_before_wide_friday_calculated  top_5_trailer_views  \n",
       "468                                      79.0          538068656.0  \n",
       "623                                      72.0          197038432.0  \n",
       "346                                      70.0          542667265.0  \n",
       "37                                       80.0          191498815.0  \n",
       "294                                      83.0           65764078.0  \n",
       "96                                       62.0           92496312.0  \n",
       "318                                      86.0          158087866.0  \n",
       "496                                      59.0           49977186.0  \n",
       "647                                      64.0           80431609.0  \n",
       "360                                      80.0          337879237.0  \n",
       "669                                      69.0           48494846.0  \n",
       "87                                       77.0          158290980.0  \n",
       "549                                      57.0           62680974.0  \n",
       "201                                      68.0           15845005.0  \n",
       "74                                       48.0          183180035.0  \n",
       "33                                       81.0          111528091.0  \n",
       "170                                      68.0          118052687.0  \n",
       "89                                       75.0          112778679.0  \n",
       "454                                      66.0          124194021.0  \n",
       "362                                      55.0          154039630.0  \n",
       "218                                      68.0           48327507.0  \n",
       "13                                       51.0           62046017.0  \n",
       "649                                      43.0          105716506.0  \n",
       "653                                      63.0           65518121.0  \n",
       "101                                      78.0           45205238.0  \n",
       "673                                      72.0          125927335.0  \n",
       "636                                      74.0          145520768.0  \n",
       "119                                      47.0          182346190.0  \n",
       "58                                       67.0          134042442.0  \n",
       "539                                      65.0          237034175.0  \n",
       "648                                      79.0          145354138.0  \n",
       "352                                      68.0           88719820.0  \n",
       "257                                      72.0          204007513.0  \n",
       "279                                      74.0          139917675.0  \n",
       "490                                      83.0          149979330.0  \n",
       "23                                       85.0          151891677.0  \n",
       "19                                       67.0           56409773.0  \n",
       "239                                      75.0           95078092.0  \n",
       "102                                      64.0           48251920.0  \n",
       "652                                      61.0           87411069.0  \n",
       "3                                        54.0           63966028.0  \n",
       "108                                      64.0           64466316.0  \n",
       "80                                       78.0           25587638.0  \n",
       "226                                      76.0           88725095.0  \n",
       "27                                       67.0           37846008.0  "
      ]
     },
     "execution_count": 13,
     "metadata": {},
     "output_type": "execute_result"
    },
    {
     "data": {
      "image/png": "[encoded data removed]",
      "text/plain": [
       "<Figure size 640x480 with 2 Axes>"
      ]
     },
     "metadata": {},
     "output_type": "display_data"
    }
   ],
   "source": [
    "# create a heatmap with the big movies and their various features\n",
    "all_big_movies = pd.concat([X_train, X_test]).query('opening_wide_revenue > 100000000')\n",
    "\n",
    "# add actual and predicted values\n",
    "all_big_movies['actual'] = all_big_movies['opening_wide_revenue']\n",
    "all_big_movies['predicted'] = model_simple_glm.predict(all_big_movies)\n",
    "\n",
    "relevant_features = ['actual', 'predicted', 'budget', 'wikipedia_pre_release_cumulative_views', 'metacritic_before_wide_friday_calculated', 'top_5_trailer_views']\n",
    "\n",
    "sns.heatmap(all_big_movies[relevant_features].corr())\n",
    "\n",
    "display_features = ['title', 'actual', 'predicted', 'budget', 'wikipedia_pre_release_cumulative_views', 'metacritic_before_wide_friday_calculated', 'top_5_trailer_views']\n",
    "\n",
    "# create a table of the big movies and their values\n",
    "all_big_movies[display_features].sort_values('actual', ascending=False)"
   ]
  }
 ],
 "metadata": {
  "kernelspec": {
   "display_name": "stat413class_kernel",
   "language": "python",
   "name": "stat413class_kernel"
  },
  "language_info": {
   "codemirror_mode": {
    "name": "ipython",
    "version": 3
   },
   "file_extension": ".py",
   "mimetype": "text/x-python",
   "name": "python",
   "nbconvert_exporter": "python",
   "pygments_lexer": "ipython3",
   "version": "3.12.5"
  }
 },
 "nbformat": 4,
 "nbformat_minor": 2
}
