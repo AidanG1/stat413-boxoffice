{
 "cells": [
  {
   "cell_type": "code",
   "execution_count": 1,
   "metadata": {},
   "outputs": [
    {
     "name": "stdout",
     "output_type": "stream",
     "text": [
      "MOVIES_DB_PATH: boxoffice/db/data/data.sqlite\n",
      "MOVIES_DB_PATH: ../boxoffice/db/data/data.sqlite\n",
      "movies.csv exists, 1731906929.6094918, 1731906849.873322\n",
      "Reading from movies.csv\n",
      "Index([], dtype='object')\n"
     ]
    }
   ],
   "source": [
    "# imports\n",
    "import numpy as np\n",
    "import statsmodels.formula.api as smf\n",
    "from boxoffice.modeling.cleaned_data import X_train, y_train, X_test, y_test\n",
    "from sklearn.metrics import root_mean_squared_error\n",
    "import plotly.express as px\n",
    "import plotly.graph_objects as go\n",
    "import pandas as pd\n",
    "import seaborn as sns"
   ]
  },
  {
   "cell_type": "code",
   "execution_count": 2,
   "metadata": {},
   "outputs": [
    {
     "name": "stderr",
     "output_type": "stream",
     "text": [
      "/tmp/ipykernel_35894/4176082081.py:3: PerformanceWarning: DataFrame is highly fragmented.  This is usually the result of calling `frame.insert` many times, which has poor performance.  Consider joining all columns at once using pd.concat(axis=1) instead. To get a de-fragmented frame, use `newframe = frame.copy()`\n",
      "  X_test['opening_wide_revenue'] = y_test\n",
      "/tmp/ipykernel_35894/4176082081.py:5: PerformanceWarning: DataFrame is highly fragmented.  This is usually the result of calling `frame.insert` many times, which has poor performance.  Consider joining all columns at once using pd.concat(axis=1) instead. To get a de-fragmented frame, use `newframe = frame.copy()`\n",
      "  X_test['log_opening_wide_revenue'] = np.log(y_test)\n",
      "/tmp/ipykernel_35894/4176082081.py:7: PerformanceWarning: DataFrame is highly fragmented.  This is usually the result of calling `frame.insert` many times, which has poor performance.  Consider joining all columns at once using pd.concat(axis=1) instead. To get a de-fragmented frame, use `newframe = frame.copy()`\n",
      "  X_test['log_budget'] = np.log(X_test['budget'])\n",
      "/tmp/ipykernel_35894/4176082081.py:9: PerformanceWarning: DataFrame is highly fragmented.  This is usually the result of calling `frame.insert` many times, which has poor performance.  Consider joining all columns at once using pd.concat(axis=1) instead. To get a de-fragmented frame, use `newframe = frame.copy()`\n",
      "  X_test['sqrt_wikipedia_pre_release_cumulative_views'] = np.sqrt(X_test['wikipedia_pre_release_cumulative_views'])\n",
      "/tmp/ipykernel_35894/4176082081.py:11: PerformanceWarning: DataFrame is highly fragmented.  This is usually the result of calling `frame.insert` many times, which has poor performance.  Consider joining all columns at once using pd.concat(axis=1) instead. To get a de-fragmented frame, use `newframe = frame.copy()`\n",
      "  X_test['log_wikipedia_pre_release_cumulative_views'] = np.log(X_test['wikipedia_pre_release_cumulative_views'] + 1)\n",
      "/tmp/ipykernel_35894/4176082081.py:13: PerformanceWarning: DataFrame is highly fragmented.  This is usually the result of calling `frame.insert` many times, which has poor performance.  Consider joining all columns at once using pd.concat(axis=1) instead. To get a de-fragmented frame, use `newframe = frame.copy()`\n",
      "  X_test['log_top_5_trailer_views'] = np.log(X_test['top_5_trailer_views'])\n",
      "/tmp/ipykernel_35894/4176082081.py:15: PerformanceWarning: DataFrame is highly fragmented.  This is usually the result of calling `frame.insert` many times, which has poor performance.  Consider joining all columns at once using pd.concat(axis=1) instead. To get a de-fragmented frame, use `newframe = frame.copy()`\n",
      "  X_test['not_friday_opener'] = X_test['release_day_of_week_non_preview'] != 4\n"
     ]
    }
   ],
   "source": [
    "# add the new variables to the data\n",
    "X_train['opening_wide_revenue'] = y_train\n",
    "X_test['opening_wide_revenue'] = y_test\n",
    "X_train['log_opening_wide_revenue'] = np.log(y_train)\n",
    "X_test['log_opening_wide_revenue'] = np.log(y_test)\n",
    "X_train['log_budget'] = np.log(X_train['budget'])\n",
    "X_test['log_budget'] = np.log(X_test['budget'])\n",
    "X_train['sqrt_wikipedia_pre_release_cumulative_views'] = np.sqrt(X_train['wikipedia_pre_release_cumulative_views'])\n",
    "X_test['sqrt_wikipedia_pre_release_cumulative_views'] = np.sqrt(X_test['wikipedia_pre_release_cumulative_views'])\n",
    "X_train['log_wikipedia_pre_release_cumulative_views'] = np.log(X_train['wikipedia_pre_release_cumulative_views'] + 1)\n",
    "X_test['log_wikipedia_pre_release_cumulative_views'] = np.log(X_test['wikipedia_pre_release_cumulative_views'] + 1)\n",
    "X_train['log_top_5_trailer_views'] = np.log(X_train['top_5_trailer_views'])\n",
    "X_test['log_top_5_trailer_views'] = np.log(X_test['top_5_trailer_views'])\n",
    "X_train['not_friday_opener'] = X_train['release_day_of_week_non_preview'] != 4\n",
    "X_test['not_friday_opener'] = X_test['release_day_of_week_non_preview'] != 4"
   ]
  },
  {
   "cell_type": "code",
   "execution_count": 3,
   "metadata": {},
   "outputs": [],
   "source": [
    "# # write all movies with a log wikipedia pre release cumulative views of less than -5 to a txt\n",
    "# with open('low_wikipedia_pre_release_cumulative_views.txt', 'w') as f:\n",
    "#     for index, row in X_train.iterrows():\n",
    "#         if row['log_wikipedia_pre_release_cumulative_views'] < 2:\n",
    "#             f.write(f'{row['wikipedia_key']}\\n')\n",
    "#     for index, row in X_test.iterrows():\n",
    "#         if row['log_wikipedia_pre_release_cumulative_views'] < 2:\n",
    "#             f.write(f'{row['wikipedia_key']}\\n')"
   ]
  },
  {
   "cell_type": "code",
   "execution_count": 11,
   "metadata": {},
   "outputs": [
    {
     "name": "stdout",
     "output_type": "stream",
     "text": [
      "['production_method', 'production_method_Digital_Animation', 'production_method_Live_Action', 'production_method_Stop_Motion_Animation']\n",
      "RMSE: 23565420.242235154\n",
      "                    Generalized Linear Model Regression Results                     \n",
      "====================================================================================\n",
      "Dep. Variable:     log_opening_wide_revenue   No. Observations:                  677\n",
      "Model:                                  GLM   Df Residuals:                      671\n",
      "Model Family:                      Gaussian   Df Model:                            5\n",
      "Link Function:                     Identity   Scale:                         0.33962\n",
      "Method:                                IRLS   Log-Likelihood:                -592.06\n",
      "Date:                      Tue, 19 Nov 2024   Deviance:                       227.89\n",
      "Time:                              14:18:05   Pearson chi2:                     228.\n",
      "No. Iterations:                           3   Pseudo R-squ. (CS):             0.8934\n",
      "Covariance Type:                  nonrobust                                         \n",
      "=========================================================================================================================\n",
      "                                                            coef    std err          z      P>|z|      [0.025      0.975]\n",
      "-------------------------------------------------------------------------------------------------------------------------\n",
      "Intercept                                                 6.6554      0.584     11.397      0.000       5.511       7.800\n",
      "normalized_metacritic_before_wide_friday_calculated      -1.4902      0.126    -11.808      0.000      -1.738      -1.243\n",
      "log_top_5_trailer_views                                   0.2716      0.031      8.699      0.000       0.210       0.333\n",
      "sqrt_wikipedia_pre_release_cumulative_views               0.0006    8.1e-05      7.400      0.000       0.000       0.001\n",
      "log_budget:metacritic_before_wide_friday_calculated       0.0047      0.000     11.706      0.000       0.004       0.005\n",
      "in_franchise:metacritic_before_wide_friday_calculated     0.0095      0.001     10.337      0.000       0.008       0.011\n",
      "=========================================================================================================================\n"
     ]
    },
    {
     "data": {
      "application/vnd.plotly.v1+json": {
       "config": {
        "plotlyServerURL": "https://plot.ly"
       },
       "data": [
        {
         "hovertemplate": "<b>%{hovertext}</b><br><br>actual=%{x}<br>predicted=%{y}<br>extra=%{marker.color}<extra></extra>",
         "hovertext": [
          "The Transporter Refueled",
          "The Perfect Guy",
          "The Visit",
          "Maze Runner: The Scorch Trials",
          "Black Mass",
          "Everest",
          "Sicario",
          "The Intern",
          "The Green Inferno",
          "Hotel Transylvania 2",
          "The Walk",
          "The Martian",
          "Pan",
          "Steve Jobs",
          "Crimson Peak",
          "Woodlawn",
          "Bridge of Spies",
          "Goosebumps",
          "Paranormal Activity: The Ghost Dimension",
          "The Last Witch Hunter",
          "Burnt",
          "Our Brand is Crisis",
          "Spectre",
          "The Peanuts Movie",
          "Spotlight",
          "Love the Coopers",
          "The 33",
          "The Hunger Games: Mockingjay - Part 2",
          "The Night Before",
          "Secret in Their Eyes",
          "Creed",
          "The Good Dinosaur",
          "Krampus",
          "In the Heart of the Sea",
          "The Big Short",
          "Sisters",
          "Alvin and the Chipmunks: The Road Chip",
          "Star Wars Ep. VII: The Force Awakens",
          "Daddy’s Home",
          "Joy",
          "Concussion",
          "Point Break",
          "The Hateful Eight",
          "The Revenant",
          "The Forest",
          "Ride Along 2",
          "13 Hours: The Secret Soldiers of Benghazi",
          "Norm of the North",
          "The Boy",
          "Dirty Grandpa",
          "The 5th Wave",
          "Fifty Shades of Black",
          "Kung Fu Panda 3",
          "The Finest Hours",
          "Pride and Prejudice and Zombies",
          "Hail, Caesar!",
          "Zoolander 2",
          "How to be Single",
          "Deadpool",
          "Risen",
          "The Witch",
          "Race",
          "Triple 9",
          "Gods of Egypt",
          "Eddie the Eagle",
          "Zootopia",
          "London Has Fallen",
          "Whiskey Tango Foxtrot",
          "10 Cloverfield Lane",
          "The Brothers Grimsby",
          "Eye in the Sky",
          "The Young Messiah",
          "Miracles from Heaven",
          "The Divergent Series: Allegiant",
          "Batman v Superman: Dawn of Justice",
          "My Big Fat Greek Wedding 2",
          "God’s Not Dead 2",
          "Meet the Blacks",
          "The Boss",
          "Hardcore Henry",
          "The Jungle Book",
          "Barbershop: The Next Cut",
          "Criminal",
          "The Huntsman: Winter’s War",
          "Mother’s Day",
          "Ratchet and Clank",
          "Keanu",
          "Captain America: Civil War",
          "Money Monster",
          "The Nice Guys",
          "The Angry Birds Movie",
          "Neighbors 2: Sorority Rising",
          "X-Men: Apocalypse",
          "Alice Through the Looking Glass",
          "Teenage Mutant Ninja Turtles: Out of the Shadows",
          "Me Before You",
          "Popstar: Never Stop Never Stopping",
          "The Conjuring 2: The Enfield Poltergeist",
          "Warcraft",
          "Now You See Me 2",
          "Central Intelligence",
          "Finding Dory",
          "Independence Day: Resurgence",
          "The Shallows",
          "Free State of Jones",
          "The Purge: Election Year",
          "The Legend of Tarzan",
          "The BFG",
          "The Secret Life of Pets",
          "Mike and Dave Need Wedding Dates",
          "The Infiltrator",
          "Hillary’s America: The Secret History of the Democratic Party",
          "Ghostbusters",
          "Ice Age: Collision Course",
          "Star Trek Beyond",
          "Lights Out",
          "Nerve",
          "Jason Bourne",
          "Bad Moms",
          "Suicide Squad",
          "Nine Lives",
          "Sausage Party",
          "Florence Foster Jenkins",
          "Pete’s Dragon",
          "Hell or High Water",
          "Kubo and the Two Strings",
          "Ben-Hur",
          "War Dogs",
          "Mechanic: Resurrection",
          "Don’t Breathe",
          "The Light Between Oceans",
          "When the Bough Breaks",
          "Sully",
          "Blair Witch",
          "Snowden",
          "Bridget Jones’s Baby",
          "The Magnificent Seven",
          "Storks",
          "Queen of Katwe",
          "Miss Peregrine’s Home for Peculiar Children",
          "Deepwater Horizon",
          "Masterminds",
          "The Birth of a Nation",
          "The Girl on the Train",
          "Middle School: The Worst Years of My Life",
          "Kevin Hart: What Now?",
          "The Accountant",
          "Jack Reacher: Never Go Back",
          "Tyler Perry’s Boo! A Madea Halloween",
          "Ouija: Origin of Evil",
          "Keeping Up with the Joneses",
          "Moonlight",
          "Inferno",
          "Doctor Strange",
          "Trolls",
          "Hacksaw Ridge",
          "Almost Christmas",
          "Shut In",
          "Arrival",
          "Nocturnal Animals",
          "Manchester by the Sea",
          "Fantastic Beasts and Where to Find Them",
          "The Edge of Seventeen",
          "Allied",
          "Bad Santa 2",
          "Moana",
          "Lion",
          "Incarnate",
          "Office Christmas Party",
          "La La Land",
          "Rogue One: A Star Wars Story",
          "Collateral Beauty",
          "Sing",
          "Assassin’s Creed",
          "Passengers",
          "Patriots Day",
          "Why Him?",
          "Live by Night",
          "Hidden Figures",
          "Underworld: Blood Wars",
          "The Bye Bye Man",
          "Sleepless",
          "Monster Trucks",
          "Split",
          "xXx: Return of Xander Cage",
          "The Founder",
          "Resident Evil: The Final Chapter",
          "A Dog’s Purpose",
          "The Space Between Us",
          "Rings",
          "Fifty Shades Darker",
          "John Wick: Chapter Two",
          "The Lego Batman Movie",
          "The Great Wall",
          "Fist Fight",
          "Get Out",
          "Rock Dog",
          "The Shack",
          "Before I Fall",
          "Logan",
          "Kong: Skull Island",
          "Beauty and the Beast",
          "The Belko Experiment",
          "Power Rangers",
          "Life",
          "CHiPS",
          "The Zookeeper’s Wife",
          "Ghost in the Shell",
          "The Boss Baby",
          "The Case for Christ",
          "Gifted",
          "Going in Style",
          "Smurfs: The Lost Village",
          "The Fate of the Furious",
          "The Promise",
          "Unforgettable",
          "How to Be a Latin Lover",
          "The Circle",
          "Guardians of the Galaxy Vol 2",
          "King Arthur: Legend of the Sword",
          "Snatched",
          "Alien: Covenant",
          "Everything, Everything",
          "Diary of a Wimpy Kid: The Long Haul",
          "Baywatch",
          "Pirates of the Caribbean: Dead Men Tell No Tales",
          "Wonder Woman",
          "Captain Underpants: The First Epic Movie",
          "The Mummy",
          "It Comes at Night",
          "47 Meters Down",
          "Rough Night",
          "All Eyez on Me",
          "Cars 3",
          "Transformers: The Last Knight",
          "The Big Sick",
          "Baby Driver",
          "Despicable Me 3",
          "The House",
          "Spider-Man: Homecoming",
          "War for the Planet of the Apes",
          "Valerian and the City of a Thousand Planets",
          "Dunkirk",
          "Girls Trip",
          "Detroit",
          "Atomic Blonde",
          "The Emoji Movie",
          "The Dark Tower",
          "Kidnap",
          "Wind River",
          "Annabelle: Creation",
          "The Nut Job 2: Nutty by Nature",
          "The Hitman’s Bodyguard",
          "Logan Lucky",
          "Birth of the Dragon",
          "Ballerina",
          "Home Again",
          "It",
          "American Assassin",
          "mother!",
          "Kingsman: The Golden Circle",
          "The Lego Ninjago Movie",
          "Battle of the Sexes",
          "Victoria and Abdul",
          "American Made",
          "Flatliners",
          "Blade Runner 2049",
          "My Little Pony: The Movie",
          "Happy Death Day",
          "The Foreigner",
          "Geostorm",
          "Same Kind of Different as Me",
          "Only the Brave",
          "Tyler Perry’s Boo 2! A Madea Halloween",
          "The Snowman",
          "Jigsaw",
          "Thank You for Your Service",
          "Suburbicon",
          "A Bad Moms Christmas",
          "Thor: Ragnarok",
          "Lady Bird",
          "Three Billboards Outside Ebbing, Missouri",
          "Murder on the Orient Express",
          "Daddy’s Home 2",
          "Justice League",
          "Wonder",
          "The Star",
          "Roman J. Israel, Esq.",
          "Coco",
          "Darkest Hour",
          "The Shape of Water",
          "The Disaster Artist",
          "Just Getting Started",
          "I, Tonya",
          "Star Wars Ep. VIII: The Last Jedi",
          "Ferdinand",
          "Jumanji: Welcome to the Jungle",
          "The Greatest Showman",
          "The Post",
          "Pitch Perfect 3",
          "Downsizing",
          "Father Figures",
          "Hostiles",
          "All the Money in the World",
          "Molly’s Game",
          "Phantom Thread",
          "Insidious: The Last Key",
          "Proud Mary",
          "Paddington 2",
          "The Commuter",
          "Den of Thieves",
          "12 Strong",
          "Forever My Girl",
          "Maze Runner: The Death Cure",
          "Winchester",
          "Fifty Shades Freed",
          "Peter Rabbit",
          "The 15:17 to Paris",
          "Black Panther",
          "Early Man",
          "Game Night",
          "Annihilation",
          "Every Day",
          "Red Sparrow",
          "Death Wish",
          "A Wrinkle in Time",
          "The Strangers: Prey at Night",
          "The Hurricane Heist",
          "Tomb Raider",
          "I Can Only Imagine",
          "Love, Simon",
          "Pacific Rim: Uprising",
          "Sherlock Gnomes",
          "Paul, Apostle of Christ",
          "Midnight Sun",
          "Unsane",
          "Isle of Dogs",
          "Ready Player One",
          "Acrimony",
          "A Quiet Place",
          "Blockers",
          "Chappaquiddick",
          "Rampage",
          "I Feel Pretty",
          "Super Troopers 2",
          "Traffik",
          "Avengers: Infinity War",
          "Overboard",
          "Life of the Party",
          "Breaking In",
          "Show Dogs",
          "Book Club",
          "Deadpool 2",
          "Solo: A Star Wars Story",
          "Adrift",
          "Upgrade",
          "Ocean’s 8",
          "Hereditary",
          "Hotel Artemis",
          "Superfly",
          "Incredibles 2",
          "Tag",
          "Jurassic World: Fallen Kingdom",
          "Sicario: Day of the Soldado",
          "Uncle Drew",
          "The First Purge",
          "Sorry to Bother You",
          "Ant-Man and the Wasp",
          "Hotel Transylvania 3: Summer Vacation",
          "Skyscraper",
          "Eighth Grade",
          "Mamma Mia: Here We Go Again!",
          "The Equalizer 2",
          "Unfriended: Dark Web",
          "Mission: Impossible—Fallout",
          "Teen Titans Go! To The Movies",
          "Christopher Robin",
          "The Spy Who Dumped Me",
          "The Darkest Minds",
          "Dog Days",
          "Slender Man",
          "The Meg",
          "BlacKkKlansman",
          "Crazy Rich Asians",
          "Mile 22",
          "Alpha",
          "The Happytime Murders",
          "A.X.L.",
          "Searching",
          "Operation Finale",
          "Kin",
          "The Nun",
          "Peppermint",
          "The Predator",
          "A Simple Favor",
          "White Boy Rick",
          "The House with a Clock in its Walls",
          "Fahrenheit 11/9",
          "Hell Fest",
          "Night School",
          "Smallfoot",
          "Venom",
          "A Star is Born",
          "The Hate U Give",
          "First Man",
          "Goosebumps 2: Haunted Halloween",
          "Bad Times at the El Royale",
          "Halloween",
          "Mid90s",
          "Hunter Killer",
          "Nobody’s Fool",
          "Bohemian Rhapsody",
          "The Nutcracker and the Four Realms",
          "The Girl in the Spider’s Web",
          "Overlord",
          "Dr. Seuss’ The Grinch",
          "Fantastic Beasts: The Crimes of Grindelwald",
          "Instant Family",
          "Widows",
          "Green Book",
          "Creed II",
          "Ralph Breaks The Internet",
          "Robin Hood",
          "The Favourite",
          "The Possession of Hannah Grace",
          "Spider-Man: Into The Spider-Verse 3D",
          "Mortal Engines",
          "The Mule",
          "If Beale Street Could Talk",
          "Mary Poppins Returns",
          "Aquaman",
          "Bumblebee",
          "Second Act",
          "Welcome to Marwen",
          "Holmes & Watson",
          "Vice",
          "On the Basis of Sex",
          "Escape Room",
          "The Upside",
          "A Dog’s Way Home",
          "Glass",
          "The Kid Who Would Be King",
          "Serenity",
          "Miss Bala",
          "The LEGO Movie 2: The Second Part",
          "What Men Want",
          "Cold Pursuit",
          "The Prodigy",
          "Isn’t it Romantic",
          "Happy Death Day 2U",
          "Alita: Battle Angel",
          "Fighting With My Family",
          "How to Train Your Dragon: The Hidden World",
          "Tyler Perry’s A Madea Family Funeral",
          "Captain Marvel",
          "Five Feet Apart",
          "Wonder Park",
          "Captive State",
          "Us",
          "Dumbo",
          "Unplanned",
          "Shazam!",
          "Pet Sematary",
          "The Best of Enemies",
          "After",
          "Hellboy",
          "Breakthrough",
          "The Curse of La Llorona",
          "Avengers: Endgame",
          "The Intruder",
          "Long Shot",
          "UglyDolls",
          "Poms",
          "The Hustle",
          "Pokémon: Detective Pikachu",
          "John Wick: Chapter 3 — Parabellum",
          "A Dog’s Journey",
          "The Sun is Also a Star",
          "Aladdin",
          "BrightBurn",
          "Booksmart",
          "Godzilla: King of the Monsters",
          "Rocketman",
          "MA",
          "Dark Phoenix",
          "The Secret Life of Pets 2",
          "Late Night",
          "Men in Black: International",
          "Shaft",
          "Anna",
          "Toy Story 4",
          "Annabelle Comes Home",
          "Spider-Man: Far From Home",
          "Midsommar",
          "Crawl",
          "Stuber",
          "The Lion King",
          "Once Upon a Time…in Hollywood",
          "Fast & Furious Presents: Hobbs & Shaw",
          "Scary Stories to Tell in the Dark",
          "Dora and the Lost City of Gold",
          "The Art of Racing in the Rain",
          "The Kitchen",
          "The Peanut Butter Falcon",
          "The Angry Birds Movie 2",
          "47 Meters Down: Uncaged",
          "Where’d You Go Bernadette",
          "Good Boys",
          "Blinded by the Light",
          "Ready or Not",
          "Angel Has Fallen",
          "Overcomer",
          "It: Chapter Two",
          "Hustlers",
          "The Goldfinch",
          "Ad Astra",
          "Rambo: Last Blood",
          "Abominable",
          "Joker",
          "Parasite (기생충)",
          "The Addams Family",
          "Jexi",
          "Gemini Man",
          "Zombieland: Double Tap",
          "Maleficent: Mistress of Evil",
          "Jojo Rabbit",
          "Black and Blue",
          "Countdown",
          "The Current War: Director’s Cut",
          "Terminator: Dark Fate",
          "Harriet",
          "Motherless Brooklyn",
          "Arctic Dogs",
          "Midway",
          "Doctor Sleep",
          "Last Christmas",
          "Charlie’s Angels",
          "The Good Liar",
          "Ford v. Ferrari",
          "Frozen II",
          "A Beautiful Day in the Neighborhood",
          "21 Bridges",
          "Knives Out",
          "Queen & Slim",
          "Jumanji: The Next Level",
          "Black Christmas",
          "Richard Jewell",
          "Bombshell",
          "Cats",
          "Star Wars: The Rise of Skywalker",
          "Little Women",
          "Spies in Disguise",
          "1917",
          "Just Mercy",
          "The Grudge",
          "Underwater",
          "Like a Boss",
          "Bad Boys For Life",
          "Dolittle",
          "The Gentlemen",
          "The Turning",
          "Gretel & Hansel",
          "The Rhythm Section",
          "Birds of Prey (And the Fantabulous Emancipation of One Harley Quinn)",
          "The Photograph",
          "Sonic The Hedgehog",
          "The Call of the Wild",
          "Brahms: The Boy II",
          "Impractical Jokers: The Movie",
          "Emma.",
          "The Invisible Man",
          "Onward",
          "The Way Back",
          "Bloodshot",
          "I Still Believe",
          "The Hunt",
          "Unhinged",
          "The New Mutants",
          "The War with Grandpa",
          "Honest Thief",
          "Come Play",
          "Freaky",
          "The Croods: A New Age",
          "News of the World",
          "The Marksman",
          "Chaos Walking",
          "Nobody",
          "The Unholy",
          "Demon Slayer: Kimetsu no Yaiba—The Movie: Mugen Train (劇場版「鬼滅の刃」 無限列車編)",
          "Wrath of Man",
          "Spiral",
          "A Quiet Place: Part II",
          "Spirit Untamed",
          "Peter Rabbit 2: The Runaway",
          "The Hitman’s Wife’s Bodyguard",
          "F9: The Fast Saga",
          "The Forever Purge",
          "The Boss Baby: Family Business",
          "Black Widow",
          "Escape Room: Tournament of Champions",
          "Old",
          "Snake Eyes: G.I. Joe Origins",
          "Jungle Cruise",
          "The Green Knight",
          "Don’t Breathe 2",
          "PAW Patrol: The Movie",
          "Shang-Chi and the Legend of the Ten Rings",
          "Venom: Let There be Carnage",
          "No Time to Die",
          "Halloween Kills",
          "The Last Duel",
          "Dune",
          "Last Night in Soho",
          "Eternals",
          "Clifford the Big Red Dog",
          "King Richard",
          "Ghostbusters: Afterlife",
          "Resident Evil: Welcome to Raccoon City",
          "House of Gucci",
          "Encanto",
          "Licorice Pizza",
          "West Side Story",
          "Nightmare Alley",
          "Spider-Man: No Way Home",
          "The Matrix Resurrections",
          "The King’s Man",
          "Sing 2",
          "The 355",
          "Scream",
          "jackass forever",
          "Moonfall",
          "Blacklight",
          "Marry Me",
          "Death on the Nile",
          "Uncharted",
          "Dog",
          "The Batman",
          "X",
          "Everything Everywhere All At Once",
          "The Lost City",
          "Morbius",
          "Sonic the Hedgehog 2",
          "Ambulance",
          "Father Stu",
          "Fantastic Beasts: The Secrets of Dumbledore",
          "The Bad Guys",
          "The Unbearable Weight of Massive Talent",
          "Doctor Strange in the Multiverse of Madness",
          "Top Gun: Maverick",
          "Jurassic World: Dominion",
          "Lightyear",
          "Elvis",
          "Minions: The Rise of Gru",
          "Thor: Love and Thunder",
          "Paws of Fury: The Legend of Hank",
          "Where the Crawdads Sing",
          "Nope",
          "DC League of Super Pets",
          "Bullet Train",
          "Beast",
          "Three Thousand Years of Longing",
          "Barbarian",
          "The Woman King",
          "Smile",
          "Lyle, Lyle, Crocodile",
          "Amsterdam",
          "Halloween Ends",
          "Black Adam",
          "Ticket to Paradise",
          "Black Panther: Wakanda Forever",
          "The Menu",
          "Strange World",
          "Violent Night",
          "Avatar: The Way of Water",
          "Puss in Boots: The Last Wish",
          "Babylon",
          "A Man Called Otto"
         ],
         "legendgroup": "",
         "marker": {
          "color": [
           -0.5754633482902953,
           -0.5920905038415297,
           0.6130985583131934,
           0.045632979375182875,
           0.37882217791931233,
           0.12238137576344128,
           -0.5609795798578834,
           -0.4939718577864849,
           -0.23996403036426195,
           -0.47469673063605,
           -0.23798627858573737,
           0.3259208828428257,
           -0.2385950707305411,
           -0.44025445215912623,
           0.3101635870588514,
           -0.6476671935868026,
           -0.2652086113021238,
           -0.5280993194245642,
           -0.5306375987454216,
           -0.44455000177903875,
           -0.5305915279885175,
           -0.5840292183061014,
           2.3335660010614534,
           -0.5557527427948387,
           -0.6289800170482862,
           -0.7274869737686654,
           -0.46424195958717707,
           -0.43137924991839277,
           -0.5964694195929829,
           -0.5290898406980016,
           0.1312763226142765,
           -0.3400735912712326,
           -0.06848538239897442,
           0.03235801985011101,
           -0.3287763835246853,
           -0.5954591537094438,
           -0.5995408033865874,
           7.1767729682888115,
           -0.5927333005926199,
           3.439783011235623,
           0.02117050438190675,
           -0.3696685679681785,
           0.6461444540868105,
           1.4572146447689922,
           -0.03291217653233414,
           -0.7168972812174306,
           -0.060023720047594126,
           -0.7346114872470444,
           -0.18127427375961436,
           -0.5107087056160623,
           -0.27231996170710154,
           -0.504814939500692,
           -0.2605214602485267,
           0.001984227976929718,
           -0.4522361397225339,
           -0.2539421173935126,
           -0.16859055561481134,
           -0.5086793984667165,
           2.45840020150694,
           -0.5000619730800892,
           -0.42676120500015174,
           -0.5765240726218723,
           -0.4478199285964441,
           -0.15190306931048825,
           -0.41230047194619185,
           0.051199862501090966,
           -0.11418757324780886,
           -0.5303282665204943,
           2.140837764935557,
           -0.15403219643312618,
           -0.6976133786847283,
           -0.72599186801485,
           -0.3469491032777729,
           -0.22517531739805646,
           3.19430704922292,
           -0.3651821537839491,
           -0.739312898296826,
           -0.7967927490713501,
           -0.5689070408137332,
           -0.2327506661404252,
           1.1814844554665018,
           -0.6475037520920714,
           -0.5144404369252917,
           0.03548315286010355,
           -0.6124252584007582,
           -0.4933279641126114,
           -0.566764750617694,
           5.527527624945889,
           -0.5485843524051225,
           -0.5301023004271077,
           -0.32785058069547024,
           -0.309964157788858,
           3.011250381278527,
           -0.15177582626761035,
           -0.1621702665633946,
           -0.15830471067458668,
           -0.5572193285562848,
           0.19247583854741232,
           0.7636347564972322,
           -0.13554465984119418,
           -0.6190407997076255,
           0.07951582723255726,
           0.506489729914399,
           -0.10946312681957512,
           -0.22160044604685755,
           -0.1900825637105586,
           -0.2006360578099402,
           -0.3199691904965245,
           -0.24741103914096935,
           -0.25455310338388315,
           -0.6588974890435606,
           -0.8401749482332298,
           0.6416470706747469,
           -0.1302037428086727,
           0.6330504868210047,
           -0.22907049020201697,
           -0.4461372490466622,
           0.21025585994403187,
           -0.5383720012913877,
           4.246730966097674,
           -0.6916044356770978,
           -0.027802710207116433,
           -0.595235381461624,
           -0.5617978842543223,
           -0.7282219120335637,
           -0.4897947758271828,
           -0.18478332974380746,
           -0.005918003754901197,
           -0.511875831457632,
           -0.7904382753869392,
           -0.39807118959953575,
           -0.5899701521011592,
           0.1539453288566443,
           -0.17788149159046485,
           -0.7661556957301456,
           -0.21268026997200343,
           -0.02015715840660818,
           -0.5906294026940008,
           -0.6539262349890551,
           -0.3371031243737037,
           -0.30012585734427283,
           -0.571030683322454,
           -0.312233691027775,
           0.1235748277518133,
           -0.7170958242412314,
           -0.7425455297395948,
           -0.3546692458275544,
           -0.4581682981353243,
           -0.7223895735940654,
           -0.590114945908572,
           -0.6356646644905096,
           -0.7039064246932671,
           0.4810926767096404,
           1.4133443149684863,
           -0.3694075003457221,
           0.6365639304963315,
           -0.7361833775956997,
           -0.684360357615325,
           -0.023174792983824567,
           -0.21685077039460493,
           -0.6636471646958132,
           1.0308934111432915,
           -0.564951537256684,
           -0.2873894869058652,
           -0.6723501500595481,
           -0.15422744868857677,
           -0.6461040786204145,
           -0.7360144514870516,
           -0.8401749482332298,
           -0.3877568246669419,
           2.382494241816356,
           -0.2821253544681838,
           0.7221480399051199,
           -0.10307793929722814,
           0.5650193357926658,
           -0.6213300775566443,
           -0.5315261062000001,
           -0.5167351993882277,
           -0.33149346125924184,
           0.07501405612935987,
           -0.5179725282879369,
           -0.7064710301609268,
           -0.5701421758678756,
           0.8211727441792781,
           1.3514844515197255,
           -0.4201961221413222,
           -0.05521261671946942,
           -0.3900439086703938,
           -0.4823488639732588,
           -0.13034414892495177,
           0.0016189526900474726,
           -0.1429741178533667,
           -0.1598908610194267,
           0.6958712546280503,
           -0.6270856314013024,
           0.9294313444443515,
           -0.7359925130313829,
           -0.6249093365989769,
           -0.6471867414076601,
           2.202277506958264,
           0.4355473458188365,
           1.0726170630566247,
           -0.4642573165061451,
           0.5273367474134893,
           0.144392228335751,
           -0.6102972282009037,
           -0.5594504694977818,
           0.3746209636587748,
           -0.35082343454884823,
           -0.757055624318809,
           -0.6417843966992666,
           -0.6563877297150723,
           -0.5360180049981466,
           1.154355361186707,
           -0.834014629881486,
           -0.8120322973015455,
           -0.7278522490555477,
           -0.1916171586845774,
           1.808073075508615,
           -0.24113444697418193,
           -0.6239056522521383,
           1.8729955473687125,
           -0.46899492600778,
           -0.5615708212381523,
           -0.07892369960609588,
           1.0643769791074973,
           1.0614909752642925,
           -0.547626738815188,
           0.9919987230884247,
           -0.36956216645818574,
           -0.4844823787870305,
           -0.5470673081956386,
           -0.4200831390946289,
           -0.16276808948036403,
           0.810704810057004,
           -0.6097059868206348,
           -0.23356238900016352,
           -0.17333803742149712,
           -0.6503557513289899,
           1.3690483791280093,
           0.4487915915059723,
           -0.027130296540873743,
           1.0709201235106582,
           -0.6738726788829492,
           -0.027277284193853384,
           -0.23830548311571553,
           -0.3460693712054619,
           -0.13806429147473326,
           -0.5611605721171494,
           -0.8380260765004901,
           -0.20076659162116842,
           -0.7368283681923568,
           -0.5973348916691094,
           -0.4881954624089416,
           -0.6169928448709614,
           -0.6748653940019536,
           -0.5473733496522156,
           1.6462418634235956,
           -0.47066883017529443,
           1.1220356282957205,
           0.3179967126553262,
           -0.5643723620270329,
           -0.6125766337448716,
           -0.5512509716916413,
           0.16090420699472527,
           -0.3525357310137827,
           0.6080889119612678,
           -0.5916199239674382,
           -0.32130963013787617,
           -0.4066140242368899,
           -0.369323037291398,
           -0.7636711656256763,
           -0.5361408603498907,
           -0.746924445491048,
           -0.12061224999035933,
           0.00603626073892075,
           -0.6480631827116209,
           -0.48476538486515547,
           -0.6831394825573672,
           1.9221596265220526,
           -0.701929769837526,
           -0.6440385730192155,
           0.04868132779033531,
           -0.5684978886155138,
           1.994488521015871,
           0.6783095208653334,
           -0.6492818639240118,
           -0.4221091554756244,
           -0.15947841805285698,
           -0.6823343412343295,
           -0.46671222969546183,
           0.10248868108593523,
           -0.7941765882328692,
           -0.4445664556207902,
           2.4686706895281967,
           -0.54213664028412,
           -0.06570578006576239,
           -0.12539593024889828,
           -0.11964147332702364,
           -0.4135432854598182,
           -0.3473703216266101,
           -0.7205961048431572,
           -0.6627290403260822,
           0.0541538755568684,
           -0.34560208209972065,
           -0.4738839108535282,
           -0.47810267587860067,
           -0.6605604239832407,
           -0.475089428992518,
           -0.565061229535027,
           -0.6403518155441068,
           -0.029014809882806768,
           -0.6996328135290232,
           -0.28855112813351774,
           -0.5881799741186012,
           -0.1540936241089983,
           -0.4959847110940792,
           0.3859313344787232,
           3.003615798705853,
           -0.5826942632786669,
           -0.5704602834750703,
           -0.1349599999976259,
           -0.6042619590464708,
           0.042872024729289145,
           -0.46277208305738066,
           -0.1715445686705888,
           -0.4589624702305277,
           -0.7438881632265133,
           0.06652497070839382,
           -0.6518420817005378,
           -0.13565654596510407,
           -0.044684351844106684,
           -0.6394424665566432,
           -0.7236751670962456,
           -0.5526495482405147,
           -0.41424202527286325,
           -0.3491637903775184,
           0.302543264482362,
           -0.6561957682279721,
           1.5966236582379154,
           -0.4332275648084726,
           -0.5605155815204924,
           -0.007911112452393808,
           -0.616739455707989,
           -0.6423383427048988,
           -0.787331790064265,
           6.137359652548322,
           -0.629642558409478,
           -0.6820568197701217,
           -0.6968159158211745,
           -0.7790368599759661,
           -0.7098462615655415,
           2.1736840207625896,
           1.0416322851930728,
           -0.40301502058445554,
           -0.6625250126883642,
           0.1671775083931624,
           0.04033593925399861,
           -0.4606813482321628,
           -0.5553852736623895,
           0.14589610947183376,
           -0.30682805555103115,
           1.9849803943290982,
           -0.30977219630175773,
           -0.482698782341173,
           -0.43403380305429373,
           -0.6293409046440348,
           0.9858888631847187,
           -0.45816061967584026,
           -0.336706038326102,
           -0.7035543124797861,
           0.5474762497172672,
           -0.5158499827019996,
           -0.5910012595175836,
           0.391856911354813,
           -0.515096396749783,
           -0.30161328463860415,
           -0.6580747969559879,
           -0.5437995752238002,
           -0.6334554620046813,
           -0.5842200828704184,
           -0.022668014657879827,
           -0.41168400134190414,
           -0.03325880413189808,
           -0.46229601856937197,
           -0.4847039571892834,
           -0.4669590373217336,
           -0.7768890851660099,
           -0.6456488556652911,
           -0.5249928341018899,
           -0.6934011951963565,
           0.7979432103945775,
           -0.6192217919668915,
           0.3700797033353739,
           0.37184684593947986,
           0.26402701478777857,
           -0.504054772011775,
           -0.6916186956732824,
           -0.7322399401892683,
           -0.6380362115482857,
           -0.6027920825166745,
           1.721365717169594,
           1.496644631142173,
           -0.6484712379870569,
           -0.22272150113152317,
           -0.6142680886769208,
           -0.25174936874943565,
           0.7451395414458162,
           -0.6322137454138383,
           -0.6207892946244132,
           -0.7421747698387954,
           0.7896406018467945,
           -0.4339811507606891,
           -0.366903225631151,
           -0.07032711575235367,
           -0.4446893109725344,
           0.6930071892405141,
           -0.6294176892388749,
           -0.33501238954848583,
           -0.3264541979921637,
           -0.02650175978596826,
           -0.23779980171255424,
           -0.4325156619220264,
           -0.5308569833021076,
           -0.5887405016609341,
           0.4905591203306427,
           0.11503747772837633,
           -0.16443541211117788,
           -0.6552557054025724,
           -0.1185566166942112,
           1.9499128698656194,
           0.181933313675865,
           -0.6110552018442539,
           0.5231223700795506,
           -0.6514866787187064,
           -0.05666055479359724,
           -0.5718533754100267,
           -0.6195771949487229,
           -0.839369806910192,
           -0.6558579160106756,
           1.3581844558809169,
           -0.6099144021494866,
           -0.5948865600164932,
           -0.6943248041800046,
           -0.30625765570364744,
           -0.8379076088398796,
           -0.6096346868397119,
           -0.5623397641093368,
           -0.5655943340077741,
           -0.44941924201468525,
           0.862556350029748,
           -0.32202701763823954,
           0.40844128691749365,
           -0.7421396683097256,
           2.1193194306930074,
           -0.33802344258900163,
           -0.6408947923219047,
           -0.6500365467990117,
           1.3525693081525378,
           -0.279813041240713,
           -0.7469233485682645,
           1.3526811942764478,
           -0.1327924805775679,
           -0.6588536121322234,
           0.08198061272692485,
           0.34542526685499747,
           -0.3701852185991741,
           -0.20496890280448937,
           8.021719425291668,
           -0.6813416261153252,
           -0.5238849420906255,
           -0.645893469445996,
           -0.7465887871193183,
           -0.6279357465584607,
           -0.8294130388049964,
           0.2816951500604883,
           -0.5301516619523621,
           -0.5955787182928377,
           0.5200509862859461,
           0.9380246375297434,
           -0.5180120175081404,
           0.8206451243204482,
           0.14288834719966823,
           -0.039856794674230527,
           1.4280299171930493,
           -0.43320782019837084,
           -0.7362108006652855,
           0.08540959334792755,
           -0.529248894501599,
           -0.6451771788684161,
           0.9083506823923906,
           -0.31692632669528925,
           2.4479640781453855,
           0.3920730051431487,
           -0.5080300201789258,
           -0.5726815521115164,
           1.5340442134432246,
           1.3257188322597344,
           0.4388787003121139,
           -0.4706414071057087,
           -0.4317938867305293,
           -0.64926211931391,
           -0.5616607689063935,
           -0.6871706737864731,
           -0.5392517333636987,
           -0.6206543731220513,
           -0.7007988424478094,
           -0.38048971122671704,
           -0.5071941650179521,
           -0.14160625514242928,
           -0.193995287279054,
           -0.768515176637304,
           0.8670065657621242,
           0.03232949985774183,
           -0.380851695745249,
           0.46146872811407474,
           -0.18989828068294232,
           -0.6354770906945432,
           4.528499715322948,
           0.04900601693423064,
           -0.3989893139692668,
           -0.7387655338278943,
           0.04825681867314783,
           -0.14983866063207266,
           -0.0655357570343307,
           -0.19201424473217912,
           -0.7390748660528217,
           -0.7760049654025651,
           1.2068837025168273,
           1.3267038689192545,
           -0.6820282997777525,
           -0.48771720407536606,
           -0.7875149761690978,
           -0.20694884842858083,
           0.7630764228004663,
           -0.20302844640060141,
           0.06220528878724582,
           -0.5743390024372794,
           0.23003337772927776,
           0.7500296232143479,
           -0.47755421448688556,
           -0.6051153649719796,
           0.15872023373291583,
           -0.5050617471269638,
           0.28548721212280637,
           -0.5378509629692584,
           0.8534354370855262,
           0.106458444639169,
           0.14012958639934137,
           3.9238945247835586,
           -0.03366466556176724,
           -0.5055367146921891,
           0.04577996702816252,
           -0.38587889286170945,
           -0.8388816762715656,
           -0.3768577998907798,
           -0.6904592482911968,
           -0.13482069080413028,
           -0.17953345730231068,
           -0.5217996918793247,
           -0.4878532225005114,
           -0.5802766454639868,
           -0.5930459235858975,
           -0.7156051061785499,
           -0.6718565348070046,
           0.08787766961064541,
           -0.3784516286951038,
           -0.559910080144039,
           -0.72179942913658,
           -0.6652366058090035,
           0.33961925456230163,
           -0.018654374193308853,
           -0.49217180749887596,
           -0.24103901469202352,
           -0.297209139663132,
           -0.12094242374817181,
           -0.34466531004267126,
           0.029624488273803037,
           -0.6372892071327697,
           -0.630476219724885,
           -0.6643875875746286,
           -0.4212403926311477,
           -0.5550024476109724,
           -0.5219587456829221,
           -0.7664288295032198,
           -0.33212309493693076,
           -0.5585531866609359,
           -0.602635222558644,
           -0.1741453725901017,
           -0.3725754133442684,
           -0.3437307318311888,
           0.20427872769712088,
           -0.6220090727595875,
           -0.5653957909839733,
           -0.5353949528571582,
           1.9335533634735418,
           -0.3028769396851157,
           -0.5674053535232173,
           1.2894216573560302,
           -0.5362516495510172,
           0.6344677110571965,
           -0.31578991469165557,
           -0.18214742429522476,
           -0.28211657908591636,
           -0.2988523299927104,
           -0.5685132455344818,
           1.5736705489946392,
           0.8784979288413386,
           3.0663696542231094,
           0.22945091173127635,
           0.7354844271060639,
           3.122624242248542,
           -0.12320756929595511,
           2.5333902306733598,
           -0.620814523848432,
           -0.42387081346581323,
           0.20718996076434457,
           -0.19825244460154648,
           0.7921613304031171,
           -0.2861719026162577,
           -0.2253727634990739,
           -0.212199817792861,
           -0.39760170664822764,
           5.97364063635302,
           1.082774568031188,
           -0.15047816661481245,
           -0.29244739786026164,
           -0.544508187341896,
           0.0030471461540735483,
           -0.4146292390154141,
           -0.22573803878595614,
           -0.723331830265032,
           -0.5212413581825588,
           0.15715053722982725,
           0.38859905068802536,
           -0.6312243210631844,
           2.1756398340854455,
           -0.41019438020200594,
           -0.564874752661844,
           -0.36022406280284475,
           0.6581623401020714,
           0.24037516573145737,
           -0.39701594988187594,
           -0.2544741249434762,
           0.7870628333057337,
           -0.2332936429182231,
           -0.3492427688179254,
           3.0363951422430966,
           1.4292211753358546,
           0.9922301737957284,
           0.11594792363862336,
           0.3161034239311257,
           -0.26092074014169525,
           2.866664989194597,
           -0.6458759186814611,
           -0.4411276026947366,
           0.42432143805321215,
           -0.3551343410877288,
           0.09338312506068143,
           0.0559100489331401,
           -0.5839162352594082,
           -0.5437260813973104,
           -0.5190189926233293,
           0.11962590573146471,
           -0.6300111244647106,
           0.0793787118846285,
           0.22943226404395803,
           2.0777778679617236,
           -0.16587347788025483,
           2.5272035861748137,
           0.06915210077470905,
           -0.4837331805259477,
           -0.29980665281429464,
           3.085360678372636,
           -0.3471564216838412,
           0.21790579943567384,
           -0.5247723526224205
          ],
          "coloraxis": "coloraxis",
          "symbol": "circle"
         },
         "mode": "markers",
         "name": "",
         "orientation": "v",
         "showlegend": false,
         "type": "scatter",
         "x": [
          7355622,
          25888154,
          25427560,
          30316510,
          22635037,
          13242895,
          12148041,
          17728313,
          3520626,
          48464322,
          3719177,
          54308575,
          15315435,
          7105735,
          13143310,
          4002226,
          15371203,
          23618556,
          8070493,
          10812861,
          5002521,
          3238433,
          70403148,
          44213073,
          4408252,
          8317545,
          5787266,
          102665981,
          9880536,
          6652996,
          29632823,
          39155217,
          16293325,
          11053366,
          10531026,
          13922855,
          14287159,
          247966675,
          38740203,
          17015168,
          10513749,
          9800252,
          15706645,
          39826840,
          12741176,
          35243095,
          16194738,
          6844137,
          10778392,
          11111875,
          10326356,
          5900528,
          41282042,
          10288932,
          5324240,
          11355225,
          13841146,
          17878911,
          132434639,
          11801271,
          8800230,
          7353922,
          6109085,
          14123903,
          6084682,
          75063401,
          21635601,
          7450275,
          24727437,
          3258327,
          3961556,
          3294876,
          14812393,
          29027348,
          166007347,
          17861950,
          7623662,
          4055940,
          23586645,
          5107604,
          103261464,
          20242415,
          5767278,
          19445035,
          8369184,
          4869278,
          9453224,
          179139142,
          14788157,
          11203270,
          38155177,
          21760405,
          65769562,
          26858726,
          35316382,
          18723269,
          4698715,
          40406314,
          24166110,
          22383146,
          35535250,
          135060273,
          41039944,
          16800868,
          7572206,
          31515110,
          38527856,
          18775350,
          104352905,
          16628170,
          5303775,
          3964646,
          46018755,
          21373064,
          59253211,
          21688103,
          9445456,
          59215365,
          23817340,
          133682248,
          6249915,
          34263534,
          6601313,
          21514095,
          3551931,
          12608372,
          11203815,
          14685305,
          7456525,
          26411706,
          4765838,
          14202323,
          35028301,
          9576057,
          8000058,
          8571785,
          34703397,
          21311407,
          2495427,
          28871140,
          20223544,
          6541205,
          7004254,
          24536265,
          6878437,
          11767210,
          24710273,
          22872490,
          28501448,
          14065500,
          5461475,
          1489470,
          14860425,
          85058311,
          46581142,
          15190758,
          15134235,
          3613567,
          24074047,
          3161381,
          4223828,
          74403387,
          4754215,
          12701743,
          6176680,
          56631401,
          3760097,
          2534884,
          16890204,
          9553414,
          155081681,
          7102085,
          35258145,
          10278225,
          14869736,
          11613765,
          11002986,
          5106046,
          22800057,
          13688751,
          13501349,
          8344128,
          10950705,
          40010975,
          20130142,
          3404102,
          13601682,
          18222810,
          3775596,
          13002632,
          46607250,
          30436123,
          53003468,
          18469620,
          12201873,
          33377060,
          3704749,
          16172119,
          4690214,
          88411916,
          61025472,
          174750616,
          4137230,
          40300288,
          12501936,
          7722802,
          2684185,
          18676033,
          50198902,
          3967885,
          3090633,
          11932330,
          13210449,
          98786705,
          4095718,
          4785431,
          12252439,
          9034148,
          146510104,
          15371270,
          19542248,
          36160621,
          11727390,
          7126084,
          18503871,
          62983253,
          103251471,
          23851539,
          31668375,
          5988370,
          11205562,
          8004283,
          26435354,
          53688680,
          44680073,
          7563040,
          20553320,
          72434025,
          8724795,
          117027503,
          56262929,
          17007624,
          50513488,
          31201920,
          7125601,
          18286420,
          24531923,
          19153698,
          10016323,
          4600976,
          35006404,
          8342311,
          21384504,
          7600036,
          2702430,
          4730038,
          8567881,
          123403419,
          14846778,
          7534673,
          39023010,
          20433071,
          3408594,
          3006155,
          16776390,
          6574326,
          32753122,
          8885899,
          26039025,
          13113024,
          13707376,
          2591985,
          6002665,
          21226953,
          3372565,
          16640452,
          3817700,
          2840246,
          16759161,
          122744989,
          4057559,
          4396537,
          28681472,
          29651193,
          93842239,
          27547866,
          9812674,
          4447070,
          50802605,
          3891945,
          3530022,
          6366243,
          3201459,
          2861168,
          220009584,
          13401586,
          36169328,
          8805843,
          19361968,
          19928525,
          4954287,
          3287451,
          10110739,
          5584684,
          6856578,
          3246720,
          29581355,
          9959053,
          11001961,
          13701452,
          15206108,
          15815025,
          4245630,
          24167011,
          9307626,
          38560195,
          25010928,
          12554286,
          202003951,
          3190525,
          17005332,
          11071584,
          3016149,
          16853422,
          13010267,
          33123609,
          10402271,
          3024399,
          23633317,
          17108914,
          11756244,
          28116535,
          10604774,
          5172585,
          4003993,
          3762145,
          5475139,
          41764050,
          17170707,
          50203562,
          20556350,
          5765854,
          35753093,
          16030218,
          15181624,
          3941338,
          257698183,
          14711101,
          17886075,
          17630285,
          6023972,
          13582231,
          125507153,
          84420489,
          11603039,
          4670905,
          41607378,
          13575173,
          3232790,
          6870740,
          182687905,
          14947396,
          148024610,
          19007566,
          15242781,
          17374280,
          4208881,
          75812205,
          44076225,
          24905015,
          2850892,
          34952180,
          36011640,
          3653035,
          61236534,
          10411189,
          24585139,
          12103043,
          5842609,
          2554766,
          11371866,
          45402195,
          10845330,
          26510140,
          13710825,
          10352512,
          9532425,
          2798229,
          6066463,
          6022758,
          3035618,
          53807379,
          13423255,
          24632284,
          16011689,
          8860431,
          26608020,
          3008563,
          5130963,
          27257615,
          23045635,
          80255756,
          42908051,
          7602108,
          16006065,
          15802225,
          7132647,
          76221545,
          2980506,
          6653777,
          13743111,
          51061119,
          20352491,
          7810112,
          10202108,
          67572855,
          62163104,
          14504315,
          12361307,
          5501520,
          35574710,
          56237634,
          9195670,
          2085123,
          6401744,
          35363376,
          7559850,
          17509431,
          2406742,
          23523121,
          67873522,
          21654047,
          6489983,
          2354205,
          7411522,
          7768371,
          6070615,
          18238172,
          20355000,
          11251263,
          40328920,
          7173887,
          4415403,
          6864744,
          34115335,
          18232087,
          11030233,
          5853061,
          14247758,
          9497665,
          28525613,
          7813113,
          55022245,
          27062332,
          153433423,
          13190286,
          15853646,
          3131525,
          71117625,
          45990748,
          6382298,
          53505326,
          24502775,
          4446190,
          6002349,
          12045147,
          11282333,
          26347631,
          357115007,
          10855054,
          9740064,
          8603407,
          5361937,
          13007709,
          54365242,
          56818067,
          8030085,
          2511530,
          91500929,
          7845658,
          6933620,
          47776293,
          25725722,
          18099805,
          32828348,
          46652680,
          5255643,
          30035838,
          8901419,
          3600647,
          120908065,
          20269723,
          92579212,
          6560030,
          12005210,
          8225384,
          191770759,
          41082018,
          60038950,
          20915346,
          17431588,
          8137584,
          5527410,
          2974391,
          10354073,
          8427265,
          3462308,
          21402605,
          4333305,
          8015590,
          21380987,
          8146533,
          91062152,
          33181361,
          2679027,
          19001398,
          18872919,
          20612100,
          96202337,
          1711988,
          30300007,
          3106730,
          20552372,
          26803104,
          36948713,
          3952157,
          8376846,
          8865082,
          2633717,
          29033832,
          11676720,
          3500454,
          2901335,
          17897419,
          14114124,
          11441055,
          8351109,
          5605051,
          31474958,
          130263358,
          13251238,
          9261268,
          26769548,
          11890490,
          59251543,
          4240245,
          4705265,
          5109146,
          6619870,
          177383864,
          16755310,
          13354798,
          37000200,
          9713228,
          11404113,
          7008297,
          10011272,
          62504105,
          21844045,
          10651884,
          6950045,
          6154007,
          2715384,
          33010017,
          12181865,
          58018348,
          24791624,
          5823006,
          3600000,
          4805785,
          28205665,
          39119861,
          8170315,
          9176695,
          9103614,
          5304455,
          4020761,
          7037017,
          3623880,
          3607966,
          3119875,
          3600355,
          9724200,
          2250430,
          3104204,
          3775350,
          6820100,
          3153456,
          21144800,
          8309007,
          8750034,
          47547231,
          6101050,
          10101066,
          11397820,
          70043165,
          12551220,
          16000665,
          80366312,
          8801391,
          16854735,
          13367853,
          35018731,
          6745121,
          10622473,
          13148340,
          75388688,
          90033210,
          55225007,
          49404980,
          4759151,
          41000000,
          4178460,
          71297219,
          16627491,
          5406033,
          44008406,
          5319280,
          14423794,
          27206494,
          1911827,
          10574618,
          2811703,
          260138569,
          10749011,
          5915542,
          22326230,
          4621765,
          30018805,
          23154388,
          9868997,
          3502475,
          7949980,
          12891123,
          44010155,
          14883928,
          134008624,
          4275126,
          6059263,
          30453269,
          39005895,
          72105176,
          8699630,
          5402642,
          42151256,
          23950245,
          7131703,
          187420998,
          126707459,
          145075625,
          50577961,
          31211579,
          107010140,
          144165107,
          6321423,
          17253227,
          44366910,
          23003441,
          30030156,
          11575855,
          2919717,
          10543948,
          19051442,
          22609925,
          11401182,
          6444896,
          40050355,
          67004323,
          16509095,
          181339761,
          9004957,
          12151384,
          13450240,
          134100226,
          12429515,
          3603368,
          12828785
         ],
         "xaxis": "x",
         "y": [
          11063389.48876409,
          8296073.516013335,
          9430589.480870442,
          29985162.68941799,
          16784001.33661354,
          15428289.176025946,
          24140467.371445436,
          10436592.35574065,
          5691447.381572197,
          27089169.728077017,
          11199964.419249773,
          26744348.92539296,
          14286318.789354963,
          11310718.052962577,
          16447955.375703836,
          4626147.766468865,
          10298429.385169186,
          24003270.077567402,
          8975470.495735254,
          13114398.561037298,
          6793405.976649956,
          6737582.621607885,
          82242226.22057582,
          21309584.903501723,
          5778423.968975669,
          5908851.217525453,
          7937012.17244783,
          39210372.12779861,
          9212207.319002386,
          7774680.638604321,
          36770573.63641485,
          23404083.708581813,
          10895096.604152074,
          17153048.44763014,
          10837263.233935518,
          9375007.800311485,
          12667301.792781292,
          421079055.94895333,
          15964582.785640942,
          28903947.1877245,
          13196401.99427123,
          15900008.711203571,
          15230228.041404502,
          39174453.77242329,
          6122896.832279745,
          12669480.26769213,
          13162016.949543279,
          6296300.54019894,
          17623376.1174656,
          5909442.442871235,
          13259960.260558523,
          9995962.167753112,
          46075357.47019716,
          9216655.505896097,
          7470009.846911558,
          9599806.106651682,
          19611230.433572676,
          10954749.73522325,
          78774019.65906121,
          7009845.063280766,
          5063264.937482895,
          4886838.376719273,
          7380551.937749348,
          17064774.3266318,
          7222615.902653143,
          66398156.72363068,
          19265316.884814158,
          7365505.994584116,
          32633490.928688694,
          10361734.244176833,
          3228787.295982393,
          5193734.097947633,
          8387965.525090553,
          17365451.635497563,
          105809866.10470167,
          12957101.46365701,
          6306256.477493992,
          6521855.505484765,
          8453469.0272936,
          6862115.587752941,
          32826536.102818117,
          12446759.362685403,
          9986933.02280617,
          26437622.287795562,
          10526777.392941577,
          8359556.274176065,
          6386008.486516987,
          237842387.6602851,
          5731266.032396517,
          10890406.833335336,
          24561895.586424127,
          20070720.779885672,
          94387132.2619968,
          23242919.832700167,
          29225498.917378653,
          13474481.996651368,
          6988562.5191625105,
          35651889.09167271,
          23567854.766549703,
          23281961.077237822,
          14783279.514096757,
          64954003.49673428,
          40119274.64964978,
          10842604.567530584,
          10580345.780960973,
          14888723.70144358,
          22673747.3678137,
          11670520.195840642,
          36901082.64484964,
          11209219.016908705,
          8830911.432220519,
          4719585.774939875,
          61336679.10501088,
          22375351.130835082,
          56973101.21437602,
          8341555.6485886285,
          8088618.310258688,
          31831068.343460627,
          18383192.62352822,
          109065165.88575101,
          8220079.846747328,
          12099593.061946116,
          4657215.834300273,
          7312683.981183203,
          4909665.788594362,
          7152938.83080264,
          12887533.381551564,
          15504542.831325611,
          19991157.026408058,
          15607987.167629592,
          6471554.488848302,
          7367218.014150368,
          16867721.043167066,
          14296493.046090653,
          10150973.101006864,
          18947482.428355318,
          16839371.40719438,
          12051574.582790196,
          3290348.818908846,
          17996379.990027644,
          19486852.15267624,
          9040484.90271477,
          5724637.30584395,
          13365822.49884838,
          4924867.052972817,
          3592253.537464205,
          11693836.29461415,
          19868986.89694255,
          9712408.72846473,
          13882801.017053742,
          6966773.430231966,
          2325539.619629182,
          26898905.851105522,
          71384208.69836761,
          35730433.4491497,
          18340749.244469278,
          5308389.87455338,
          5647665.518363514,
          16491387.51702667,
          10296175.287131,
          4403834.168300597,
          64871582.25516879,
          4651782.089284976,
          15226076.775714725,
          6889391.306610683,
          82013730.08243053,
          6814191.698064764,
          4557591.69350622,
          6091929.034423894,
          14208397.226889137,
          125940631.20706014,
          11534593.059517067,
          42527267.929200016,
          18162153.993941452,
          22580445.023747984,
          9486751.353329495,
          11025744.583827496,
          10558026.941042237,
          10065823.214691797,
          12659317.900151609,
          7184991.503960975,
          8060302.431818526,
          10930757.429524792,
          23750551.163498625,
          42890663.34598882,
          6402071.293526303,
          26205492.074881304,
          20139918.303593777,
          7616291.004806932,
          8745730.349972852,
          23656129.175256398,
          31562417.20545035,
          32942782.37019612,
          21462912.461366456,
          7866422.165069015,
          9337964.91465284,
          6631524.430532792,
          7693803.892180865,
          5376563.5965713,
          96414696.8109166,
          52997600.763188474,
          25204103.13443595,
          4918690.931293088,
          46054448.43664777,
          16257171.126877312,
          7130120.435966219,
          4927508.754099853,
          14813329.627316695,
          37887620.063474655,
          4862954.716014053,
          6629481.760648504,
          7271550.268044828,
          12899678.877155868,
          61223605.45568526,
          7337554.137478941,
          4109905.483051592,
          5378140.725549724,
          10145161.252225418,
          80596275.14921068,
          18438677.29581399,
          8635041.949651036,
          66700863.45134351,
          7148409.56323443,
          10839702.125641506,
          15258010.609194765,
          46819181.911418624,
          86275336.56412195,
          21592127.916849706,
          49322290.97861789,
          5616448.154365671,
          10185222.453247404,
          7102370.84005476,
          9522962.90874,
          51633987.23513495,
          35171024.608515665,
          4056118.2898668023,
          13669659.095746638,
          31634388.40676661,
          6828717.9378780965,
          97021072.01681079,
          69059279.69988316,
          17926912.671516344,
          43056890.8712005,
          7197987.466678025,
          8808681.914237365,
          9505902.75803434,
          11171306.856430031,
          22772812.21054806,
          7765227.349227246,
          8178813.105805862,
          20798931.91813954,
          13377494.721558014,
          16040564.438476473,
          9935709.626514437,
          10855927.663461123,
          10388126.050927894,
          7880591.528846765,
          69145812.87510696,
          10935024.131323807,
          16884932.277361065,
          35880786.78838917,
          23162883.989824258,
          5993509.659011096,
          7399874.7229482215,
          14760230.32763224,
          9498003.147631835,
          85247783.72293316,
          5223039.191393136,
          12598752.11124181,
          10405524.126763321,
          10883470.77655009,
          4370546.852982948,
          7268973.508360709,
          7798304.486243995,
          15210636.22807153,
          17429923.873527143,
          5749705.682768087,
          7873710.2342671715,
          15011902.168779986,
          118196760.85642764,
          5784653.507986305,
          5502479.285947402,
          29104503.406692464,
          15291175.676457709,
          85005775.3470821,
          28013740.76288692,
          6476289.223559517,
          7718733.701127507,
          29379561.05488301,
          7740207.430557937,
          9940042.816890188,
          9405055.478115859,
          5339016.482429902,
          5879506.202924326,
          143361464.5071455,
          9076454.497411901,
          42752720.563535236,
          9730644.947721804,
          14030484.614998933,
          20375404.04360778,
          12633088.675704487,
          5408833.703051792,
          9783130.888299387,
          11490828.131130207,
          6259294.111505733,
          9447491.845208779,
          13947569.348426806,
          6278718.679045518,
          21050434.527899507,
          9698395.487587906,
          8550074.380799038,
          13438055.291185444,
          6096021.042776806,
          25932221.465868704,
          6821211.411288707,
          12125545.163190318,
          20955216.568553384,
          9852944.462899031,
          187690162.4728594,
          10305783.11685912,
          10441599.531332312,
          16361375.172909595,
          4364817.962484381,
          10601216.118952867,
          10499550.19183513,
          10947969.543683583,
          8422260.408082252,
          8273240.205002897,
          30132556.39027236,
          8096212.917271653,
          9855129.998409078,
          30788905.741624713,
          9980355.121630682,
          3787013.847106186,
          5779557.751076976,
          4158346.449183099,
          14482727.22033348,
          29044339.716952562,
          8102671.879254863,
          45654699.72122101,
          7566277.971661935,
          5486552.520315898,
          22389749.012282595,
          9054427.747800706,
          8755962.186186135,
          5727056.861089809,
          329334985.1483305,
          6073189.24578868,
          6893165.149730061,
          5495577.793596572,
          5420300.12562935,
          9580122.912960965,
          83573043.62609118,
          61535643.323169984,
          10400225.422586916,
          3628051.1397001296,
          36279105.743623585,
          9762349.813019777,
          8352869.811715267,
          7514014.010798757,
          118688748.19482365,
          10236231.485446444,
          85855079.56903464,
          23184251.08988958,
          9628452.52541034,
          16657794.410655156,
          2742543.210893683,
          62650811.943979226,
          24687269.001802724,
          18967101.061484445,
          2294050.5613705646,
          35903971.37255811,
          22335819.31051798,
          5830827.635544986,
          87011143.47291906,
          6731753.246579188,
          7640935.039855044,
          10002974.954701869,
          11070182.452142842,
          5762340.224083391,
          9277982.919014134,
          50221413.80345392,
          6779350.615081975,
          28203963.023574293,
          9786956.876016852,
          13970716.13388108,
          8574271.99432409,
          8024619.488285849,
          4907793.218217005,
          7660788.222713986,
          8164457.560424046,
          37171448.86788133,
          8028885.741342965,
          33535870.78734398,
          12533997.764544116,
          9705697.588648746,
          9797379.363577805,
          3409880.360376772,
          3107068.1922044107,
          9477475.330571769,
          11741759.519241897,
          64772783.721095674,
          23516088.754530378,
          8861532.755930673,
          15286807.527757676,
          14004627.013592254,
          12820197.769013736,
          27377006.866218064,
          3484073.919209551,
          10155683.09463777,
          5548284.095249964,
          24769595.854133796,
          6182128.685982592,
          15704189.760208068,
          12669365.958480077,
          19596501.825913645,
          55241623.625390954,
          11070537.28081094,
          10633199.11968898,
          10218019.10017008,
          34384611.511688456,
          53973781.91020332,
          14962981.500834914,
          7030463.416546026,
          6278737.774141402,
          72111675.25065696,
          20135263.24043983,
          13378441.278813986,
          4695047.131350876,
          25298831.98732619,
          74165675.00918752,
          48719609.6996589,
          6944035.749202684,
          14812684.407494549,
          8811304.53592639,
          15250745.383337561,
          8701830.004710106,
          14033780.373068143,
          7981636.8650094,
          9860353.594451519,
          30843323.300832324,
          8148691.540469037,
          5982956.295769504,
          7291127.1059730435,
          30604107.01023969,
          5811491.109907209,
          10232337.939073922,
          7886318.821779276,
          10440205.324393123,
          12246045.849270707,
          29268727.447225865,
          9215640.238467278,
          48000952.97738749,
          7367069.042265213,
          101562972.66602919,
          7841401.821026506,
          12276478.811303291,
          7686686.585648278,
          18522865.97714977,
          21167342.45154608,
          5733581.716687081,
          76594317.06066233,
          23205474.184201267,
          4709863.798391584,
          12245906.439099953,
          23326032.98780343,
          8551125.46530314,
          14780766.928899687,
          532164010.10327476,
          6876573.29964563,
          8564930.714745162,
          8552523.05083054,
          4781691.7603159845,
          8788668.36554931,
          32647159.862050243,
          53876303.079157494,
          16697062.388970103,
          5944709.970416278,
          26988855.313471433,
          12846376.389196547,
          3339593.6968934718,
          55968674.979038924,
          15556007.24771478,
          6727956.796964048,
          52285544.100914754,
          32333231.932038866,
          4464343.2574582435,
          30788469.130649872,
          15499883.15270275,
          9031958.166239148,
          121484694.91311029,
          23046314.61729308,
          134141967.4942436,
          10118469.971026871,
          10143045.994608128,
          7691195.14720839,
          70486726.33187905,
          35483708.73471988,
          75989588.97095464,
          9898304.335991867,
          14671354.482823797,
          6948000.87287328,
          9373474.224006819,
          5216685.164915405,
          22844144.47503816,
          14581033.999980716,
          7039791.060371953,
          10762769.751452003,
          3929498.4420611705,
          7044198.450456234,
          21677259.843125258,
          4193653.2906805333,
          54940485.2734393,
          11867092.002049109,
          10523335.695787087,
          19931546.05308791,
          23851133.28936978,
          12618241.015445845,
          113005915.24194898,
          9213255.67300921,
          17492961.55156198,
          4969766.183699694,
          19402226.307210498,
          24479192.336058065,
          26810553.441229098,
          10670468.343169468,
          6362400.6604713565,
          5941155.090392884,
          9076009.178703919,
          58340688.53418031,
          6734287.920650463,
          8043076.247440442,
          4340663.254366731,
          14971154.838503866,
          34351252.700837925,
          11929662.600713428,
          27392280.657961424,
          5841015.71832333,
          22202436.73561029,
          87225472.94953741,
          11783135.54449501,
          8807052.993300712,
          39019672.00084792,
          6453101.133241276,
          50322655.26502276,
          4541898.0198969,
          15952381.223531183,
          12717810.778947826,
          18019746.31912346,
          105618389.12336326,
          14425473.626157299,
          14657533.052552888,
          26325969.242154628,
          10315233.287576064,
          7292035.414539234,
          16626516.86371274,
          7336965.347939256,
          31467868.572064094,
          17840624.75637105,
          9735466.768192615,
          7781752.304670307,
          7330272.845018587,
          8463258.738516351,
          27944148.391570486,
          5387225.40671113,
          42663106.97961307,
          13970258.947246857,
          7918779.171382231,
          3912607.085205768,
          5233778.2015542,
          8944992.064903464,
          24054494.436234735,
          8996942.764273988,
          12594468.314259324,
          13690909.129010959,
          10359512.447202133,
          8258192.152605638,
          24326577.998481482,
          6141114.0104768975,
          6926398.97754338,
          6177397.528112875,
          7447720.065598554,
          29963516.052737422,
          9597786.684241211,
          5900139.735873356,
          13695251.446333358,
          15137050.892486675,
          7281778.132392378,
          14213398.218646605,
          13748306.270541666,
          11634562.321202293,
          34406289.37837746,
          11635934.638570426,
          17130698.13317766,
          17018673.129049066,
          87857079.47552055,
          14181734.946374843,
          21558313.278391477,
          92572884.67043287,
          12383123.397393785,
          14562446.988833861,
          24183080.92042608,
          20034876.609928895,
          9097783.360038772,
          20341584.98699065,
          20047950.112734295,
          67984538.22396035,
          57479042.13420223,
          123241651.99082933,
          20304134.313988343,
          19839331.606124047,
          38261915.90348565,
          12159147.26148556,
          71803351.63765545,
          11076895.148014305,
          13345350.905431328,
          30691738.921095587,
          17723770.004816078,
          21785356.91540583,
          27842257.213984232,
          5988954.636553235,
          9505935.777822893,
          14132490.045865294,
          223115114.6743873,
          74586050.41346523,
          32610324.518789835,
          32683510.79300673,
          11750385.9409035,
          26786553.27386872,
          14702432.000945391,
          18261131.920593247,
          6940108.2070431365,
          8611571.867076287,
          31731738.713977583,
          24248204.1804998,
          8828365.02522008,
          129324025.10994472,
          6718773.749685406,
          10480311.516434822,
          17809711.127302073,
          33103002.395748843,
          42211548.37640957,
          13517759.276608834,
          6290289.30978319,
          48476490.761161886,
          36588127.61792526,
          11019950.823586797,
          104517503.85628039,
          117027576.42130126,
          51650470.66807534,
          53165091.0959539,
          21590749.669129137,
          38968771.00379196,
          101114482.87918414,
          9861790.960604124,
          9879052.10178702,
          23557896.8175345,
          20203354.99007051,
          20488954.30547771,
          20351980.079311837,
          10940419.459300257,
          4529526.167274704,
          12120800.306528486,
          28442446.167149127,
          10464593.212568276,
          13238076.665286127,
          18715693.18458185,
          61266634.67929846,
          16372551.829981085,
          99490132.89422767,
          13371744.895613907,
          16510244.72412602,
          12019999.75790212,
          182689324.71575505,
          39674159.66865001,
          17426463.307168443,
          11523505.720843362
         ],
         "yaxis": "y"
        },
        {
         "mode": "lines",
         "name": "y=x",
         "type": "scatter",
         "x": [
          7355622,
          25888154,
          25427560,
          30316510,
          22635037,
          13242895,
          12148041,
          17728313,
          3520626,
          48464322,
          3719177,
          54308575,
          15315435,
          7105735,
          13143310,
          4002226,
          15371203,
          23618556,
          8070493,
          10812861,
          5002521,
          3238433,
          70403148,
          44213073,
          4408252,
          8317545,
          5787266,
          102665981,
          9880536,
          6652996,
          29632823,
          39155217,
          16293325,
          11053366,
          10531026,
          13922855,
          14287159,
          247966675,
          38740203,
          17015168,
          10513749,
          9800252,
          15706645,
          39826840,
          12741176,
          35243095,
          16194738,
          6844137,
          10778392,
          11111875,
          10326356,
          5900528,
          41282042,
          10288932,
          5324240,
          11355225,
          13841146,
          17878911,
          132434639,
          11801271,
          8800230,
          7353922,
          6109085,
          14123903,
          6084682,
          75063401,
          21635601,
          7450275,
          24727437,
          3258327,
          3961556,
          3294876,
          14812393,
          29027348,
          166007347,
          17861950,
          7623662,
          4055940,
          23586645,
          5107604,
          103261464,
          20242415,
          5767278,
          19445035,
          8369184,
          4869278,
          9453224,
          179139142,
          14788157,
          11203270,
          38155177,
          21760405,
          65769562,
          26858726,
          35316382,
          18723269,
          4698715,
          40406314,
          24166110,
          22383146,
          35535250,
          135060273,
          41039944,
          16800868,
          7572206,
          31515110,
          38527856,
          18775350,
          104352905,
          16628170,
          5303775,
          3964646,
          46018755,
          21373064,
          59253211,
          21688103,
          9445456,
          59215365,
          23817340,
          133682248,
          6249915,
          34263534,
          6601313,
          21514095,
          3551931,
          12608372,
          11203815,
          14685305,
          7456525,
          26411706,
          4765838,
          14202323,
          35028301,
          9576057,
          8000058,
          8571785,
          34703397,
          21311407,
          2495427,
          28871140,
          20223544,
          6541205,
          7004254,
          24536265,
          6878437,
          11767210,
          24710273,
          22872490,
          28501448,
          14065500,
          5461475,
          1489470,
          14860425,
          85058311,
          46581142,
          15190758,
          15134235,
          3613567,
          24074047,
          3161381,
          4223828,
          74403387,
          4754215,
          12701743,
          6176680,
          56631401,
          3760097,
          2534884,
          16890204,
          9553414,
          155081681,
          7102085,
          35258145,
          10278225,
          14869736,
          11613765,
          11002986,
          5106046,
          22800057,
          13688751,
          13501349,
          8344128,
          10950705,
          40010975,
          20130142,
          3404102,
          13601682,
          18222810,
          3775596,
          13002632,
          46607250,
          30436123,
          53003468,
          18469620,
          12201873,
          33377060,
          3704749,
          16172119,
          4690214,
          88411916,
          61025472,
          174750616,
          4137230,
          40300288,
          12501936,
          7722802,
          2684185,
          18676033,
          50198902,
          3967885,
          3090633,
          11932330,
          13210449,
          98786705,
          4095718,
          4785431,
          12252439,
          9034148,
          146510104,
          15371270,
          19542248,
          36160621,
          11727390,
          7126084,
          18503871,
          62983253,
          103251471,
          23851539,
          31668375,
          5988370,
          11205562,
          8004283,
          26435354,
          53688680,
          44680073,
          7563040,
          20553320,
          72434025,
          8724795,
          117027503,
          56262929,
          17007624,
          50513488,
          31201920,
          7125601,
          18286420,
          24531923,
          19153698,
          10016323,
          4600976,
          35006404,
          8342311,
          21384504,
          7600036,
          2702430,
          4730038,
          8567881,
          123403419,
          14846778,
          7534673,
          39023010,
          20433071,
          3408594,
          3006155,
          16776390,
          6574326,
          32753122,
          8885899,
          26039025,
          13113024,
          13707376,
          2591985,
          6002665,
          21226953,
          3372565,
          16640452,
          3817700,
          2840246,
          16759161,
          122744989,
          4057559,
          4396537,
          28681472,
          29651193,
          93842239,
          27547866,
          9812674,
          4447070,
          50802605,
          3891945,
          3530022,
          6366243,
          3201459,
          2861168,
          220009584,
          13401586,
          36169328,
          8805843,
          19361968,
          19928525,
          4954287,
          3287451,
          10110739,
          5584684,
          6856578,
          3246720,
          29581355,
          9959053,
          11001961,
          13701452,
          15206108,
          15815025,
          4245630,
          24167011,
          9307626,
          38560195,
          25010928,
          12554286,
          202003951,
          3190525,
          17005332,
          11071584,
          3016149,
          16853422,
          13010267,
          33123609,
          10402271,
          3024399,
          23633317,
          17108914,
          11756244,
          28116535,
          10604774,
          5172585,
          4003993,
          3762145,
          5475139,
          41764050,
          17170707,
          50203562,
          20556350,
          5765854,
          35753093,
          16030218,
          15181624,
          3941338,
          257698183,
          14711101,
          17886075,
          17630285,
          6023972,
          13582231,
          125507153,
          84420489,
          11603039,
          4670905,
          41607378,
          13575173,
          3232790,
          6870740,
          182687905,
          14947396,
          148024610,
          19007566,
          15242781,
          17374280,
          4208881,
          75812205,
          44076225,
          24905015,
          2850892,
          34952180,
          36011640,
          3653035,
          61236534,
          10411189,
          24585139,
          12103043,
          5842609,
          2554766,
          11371866,
          45402195,
          10845330,
          26510140,
          13710825,
          10352512,
          9532425,
          2798229,
          6066463,
          6022758,
          3035618,
          53807379,
          13423255,
          24632284,
          16011689,
          8860431,
          26608020,
          3008563,
          5130963,
          27257615,
          23045635,
          80255756,
          42908051,
          7602108,
          16006065,
          15802225,
          7132647,
          76221545,
          2980506,
          6653777,
          13743111,
          51061119,
          20352491,
          7810112,
          10202108,
          67572855,
          62163104,
          14504315,
          12361307,
          5501520,
          35574710,
          56237634,
          9195670,
          2085123,
          6401744,
          35363376,
          7559850,
          17509431,
          2406742,
          23523121,
          67873522,
          21654047,
          6489983,
          2354205,
          7411522,
          7768371,
          6070615,
          18238172,
          20355000,
          11251263,
          40328920,
          7173887,
          4415403,
          6864744,
          34115335,
          18232087,
          11030233,
          5853061,
          14247758,
          9497665,
          28525613,
          7813113,
          55022245,
          27062332,
          153433423,
          13190286,
          15853646,
          3131525,
          71117625,
          45990748,
          6382298,
          53505326,
          24502775,
          4446190,
          6002349,
          12045147,
          11282333,
          26347631,
          357115007,
          10855054,
          9740064,
          8603407,
          5361937,
          13007709,
          54365242,
          56818067,
          8030085,
          2511530,
          91500929,
          7845658,
          6933620,
          47776293,
          25725722,
          18099805,
          32828348,
          46652680,
          5255643,
          30035838,
          8901419,
          3600647,
          120908065,
          20269723,
          92579212,
          6560030,
          12005210,
          8225384,
          191770759,
          41082018,
          60038950,
          20915346,
          17431588,
          8137584,
          5527410,
          2974391,
          10354073,
          8427265,
          3462308,
          21402605,
          4333305,
          8015590,
          21380987,
          8146533,
          91062152,
          33181361,
          2679027,
          19001398,
          18872919,
          20612100,
          96202337,
          1711988,
          30300007,
          3106730,
          20552372,
          26803104,
          36948713,
          3952157,
          8376846,
          8865082,
          2633717,
          29033832,
          11676720,
          3500454,
          2901335,
          17897419,
          14114124,
          11441055,
          8351109,
          5605051,
          31474958,
          130263358,
          13251238,
          9261268,
          26769548,
          11890490,
          59251543,
          4240245,
          4705265,
          5109146,
          6619870,
          177383864,
          16755310,
          13354798,
          37000200,
          9713228,
          11404113,
          7008297,
          10011272,
          62504105,
          21844045,
          10651884,
          6950045,
          6154007,
          2715384,
          33010017,
          12181865,
          58018348,
          24791624,
          5823006,
          3600000,
          4805785,
          28205665,
          39119861,
          8170315,
          9176695,
          9103614,
          5304455,
          4020761,
          7037017,
          3623880,
          3607966,
          3119875,
          3600355,
          9724200,
          2250430,
          3104204,
          3775350,
          6820100,
          3153456,
          21144800,
          8309007,
          8750034,
          47547231,
          6101050,
          10101066,
          11397820,
          70043165,
          12551220,
          16000665,
          80366312,
          8801391,
          16854735,
          13367853,
          35018731,
          6745121,
          10622473,
          13148340,
          75388688,
          90033210,
          55225007,
          49404980,
          4759151,
          41000000,
          4178460,
          71297219,
          16627491,
          5406033,
          44008406,
          5319280,
          14423794,
          27206494,
          1911827,
          10574618,
          2811703,
          260138569,
          10749011,
          5915542,
          22326230,
          4621765,
          30018805,
          23154388,
          9868997,
          3502475,
          7949980,
          12891123,
          44010155,
          14883928,
          134008624,
          4275126,
          6059263,
          30453269,
          39005895,
          72105176,
          8699630,
          5402642,
          42151256,
          23950245,
          7131703,
          187420998,
          126707459,
          145075625,
          50577961,
          31211579,
          107010140,
          144165107,
          6321423,
          17253227,
          44366910,
          23003441,
          30030156,
          11575855,
          2919717,
          10543948,
          19051442,
          22609925,
          11401182,
          6444896,
          40050355,
          67004323,
          16509095,
          181339761,
          9004957,
          12151384,
          13450240,
          134100226,
          12429515,
          3603368,
          12828785
         ],
         "y": [
          7355622,
          25888154,
          25427560,
          30316510,
          22635037,
          13242895,
          12148041,
          17728313,
          3520626,
          48464322,
          3719177,
          54308575,
          15315435,
          7105735,
          13143310,
          4002226,
          15371203,
          23618556,
          8070493,
          10812861,
          5002521,
          3238433,
          70403148,
          44213073,
          4408252,
          8317545,
          5787266,
          102665981,
          9880536,
          6652996,
          29632823,
          39155217,
          16293325,
          11053366,
          10531026,
          13922855,
          14287159,
          247966675,
          38740203,
          17015168,
          10513749,
          9800252,
          15706645,
          39826840,
          12741176,
          35243095,
          16194738,
          6844137,
          10778392,
          11111875,
          10326356,
          5900528,
          41282042,
          10288932,
          5324240,
          11355225,
          13841146,
          17878911,
          132434639,
          11801271,
          8800230,
          7353922,
          6109085,
          14123903,
          6084682,
          75063401,
          21635601,
          7450275,
          24727437,
          3258327,
          3961556,
          3294876,
          14812393,
          29027348,
          166007347,
          17861950,
          7623662,
          4055940,
          23586645,
          5107604,
          103261464,
          20242415,
          5767278,
          19445035,
          8369184,
          4869278,
          9453224,
          179139142,
          14788157,
          11203270,
          38155177,
          21760405,
          65769562,
          26858726,
          35316382,
          18723269,
          4698715,
          40406314,
          24166110,
          22383146,
          35535250,
          135060273,
          41039944,
          16800868,
          7572206,
          31515110,
          38527856,
          18775350,
          104352905,
          16628170,
          5303775,
          3964646,
          46018755,
          21373064,
          59253211,
          21688103,
          9445456,
          59215365,
          23817340,
          133682248,
          6249915,
          34263534,
          6601313,
          21514095,
          3551931,
          12608372,
          11203815,
          14685305,
          7456525,
          26411706,
          4765838,
          14202323,
          35028301,
          9576057,
          8000058,
          8571785,
          34703397,
          21311407,
          2495427,
          28871140,
          20223544,
          6541205,
          7004254,
          24536265,
          6878437,
          11767210,
          24710273,
          22872490,
          28501448,
          14065500,
          5461475,
          1489470,
          14860425,
          85058311,
          46581142,
          15190758,
          15134235,
          3613567,
          24074047,
          3161381,
          4223828,
          74403387,
          4754215,
          12701743,
          6176680,
          56631401,
          3760097,
          2534884,
          16890204,
          9553414,
          155081681,
          7102085,
          35258145,
          10278225,
          14869736,
          11613765,
          11002986,
          5106046,
          22800057,
          13688751,
          13501349,
          8344128,
          10950705,
          40010975,
          20130142,
          3404102,
          13601682,
          18222810,
          3775596,
          13002632,
          46607250,
          30436123,
          53003468,
          18469620,
          12201873,
          33377060,
          3704749,
          16172119,
          4690214,
          88411916,
          61025472,
          174750616,
          4137230,
          40300288,
          12501936,
          7722802,
          2684185,
          18676033,
          50198902,
          3967885,
          3090633,
          11932330,
          13210449,
          98786705,
          4095718,
          4785431,
          12252439,
          9034148,
          146510104,
          15371270,
          19542248,
          36160621,
          11727390,
          7126084,
          18503871,
          62983253,
          103251471,
          23851539,
          31668375,
          5988370,
          11205562,
          8004283,
          26435354,
          53688680,
          44680073,
          7563040,
          20553320,
          72434025,
          8724795,
          117027503,
          56262929,
          17007624,
          50513488,
          31201920,
          7125601,
          18286420,
          24531923,
          19153698,
          10016323,
          4600976,
          35006404,
          8342311,
          21384504,
          7600036,
          2702430,
          4730038,
          8567881,
          123403419,
          14846778,
          7534673,
          39023010,
          20433071,
          3408594,
          3006155,
          16776390,
          6574326,
          32753122,
          8885899,
          26039025,
          13113024,
          13707376,
          2591985,
          6002665,
          21226953,
          3372565,
          16640452,
          3817700,
          2840246,
          16759161,
          122744989,
          4057559,
          4396537,
          28681472,
          29651193,
          93842239,
          27547866,
          9812674,
          4447070,
          50802605,
          3891945,
          3530022,
          6366243,
          3201459,
          2861168,
          220009584,
          13401586,
          36169328,
          8805843,
          19361968,
          19928525,
          4954287,
          3287451,
          10110739,
          5584684,
          6856578,
          3246720,
          29581355,
          9959053,
          11001961,
          13701452,
          15206108,
          15815025,
          4245630,
          24167011,
          9307626,
          38560195,
          25010928,
          12554286,
          202003951,
          3190525,
          17005332,
          11071584,
          3016149,
          16853422,
          13010267,
          33123609,
          10402271,
          3024399,
          23633317,
          17108914,
          11756244,
          28116535,
          10604774,
          5172585,
          4003993,
          3762145,
          5475139,
          41764050,
          17170707,
          50203562,
          20556350,
          5765854,
          35753093,
          16030218,
          15181624,
          3941338,
          257698183,
          14711101,
          17886075,
          17630285,
          6023972,
          13582231,
          125507153,
          84420489,
          11603039,
          4670905,
          41607378,
          13575173,
          3232790,
          6870740,
          182687905,
          14947396,
          148024610,
          19007566,
          15242781,
          17374280,
          4208881,
          75812205,
          44076225,
          24905015,
          2850892,
          34952180,
          36011640,
          3653035,
          61236534,
          10411189,
          24585139,
          12103043,
          5842609,
          2554766,
          11371866,
          45402195,
          10845330,
          26510140,
          13710825,
          10352512,
          9532425,
          2798229,
          6066463,
          6022758,
          3035618,
          53807379,
          13423255,
          24632284,
          16011689,
          8860431,
          26608020,
          3008563,
          5130963,
          27257615,
          23045635,
          80255756,
          42908051,
          7602108,
          16006065,
          15802225,
          7132647,
          76221545,
          2980506,
          6653777,
          13743111,
          51061119,
          20352491,
          7810112,
          10202108,
          67572855,
          62163104,
          14504315,
          12361307,
          5501520,
          35574710,
          56237634,
          9195670,
          2085123,
          6401744,
          35363376,
          7559850,
          17509431,
          2406742,
          23523121,
          67873522,
          21654047,
          6489983,
          2354205,
          7411522,
          7768371,
          6070615,
          18238172,
          20355000,
          11251263,
          40328920,
          7173887,
          4415403,
          6864744,
          34115335,
          18232087,
          11030233,
          5853061,
          14247758,
          9497665,
          28525613,
          7813113,
          55022245,
          27062332,
          153433423,
          13190286,
          15853646,
          3131525,
          71117625,
          45990748,
          6382298,
          53505326,
          24502775,
          4446190,
          6002349,
          12045147,
          11282333,
          26347631,
          357115007,
          10855054,
          9740064,
          8603407,
          5361937,
          13007709,
          54365242,
          56818067,
          8030085,
          2511530,
          91500929,
          7845658,
          6933620,
          47776293,
          25725722,
          18099805,
          32828348,
          46652680,
          5255643,
          30035838,
          8901419,
          3600647,
          120908065,
          20269723,
          92579212,
          6560030,
          12005210,
          8225384,
          191770759,
          41082018,
          60038950,
          20915346,
          17431588,
          8137584,
          5527410,
          2974391,
          10354073,
          8427265,
          3462308,
          21402605,
          4333305,
          8015590,
          21380987,
          8146533,
          91062152,
          33181361,
          2679027,
          19001398,
          18872919,
          20612100,
          96202337,
          1711988,
          30300007,
          3106730,
          20552372,
          26803104,
          36948713,
          3952157,
          8376846,
          8865082,
          2633717,
          29033832,
          11676720,
          3500454,
          2901335,
          17897419,
          14114124,
          11441055,
          8351109,
          5605051,
          31474958,
          130263358,
          13251238,
          9261268,
          26769548,
          11890490,
          59251543,
          4240245,
          4705265,
          5109146,
          6619870,
          177383864,
          16755310,
          13354798,
          37000200,
          9713228,
          11404113,
          7008297,
          10011272,
          62504105,
          21844045,
          10651884,
          6950045,
          6154007,
          2715384,
          33010017,
          12181865,
          58018348,
          24791624,
          5823006,
          3600000,
          4805785,
          28205665,
          39119861,
          8170315,
          9176695,
          9103614,
          5304455,
          4020761,
          7037017,
          3623880,
          3607966,
          3119875,
          3600355,
          9724200,
          2250430,
          3104204,
          3775350,
          6820100,
          3153456,
          21144800,
          8309007,
          8750034,
          47547231,
          6101050,
          10101066,
          11397820,
          70043165,
          12551220,
          16000665,
          80366312,
          8801391,
          16854735,
          13367853,
          35018731,
          6745121,
          10622473,
          13148340,
          75388688,
          90033210,
          55225007,
          49404980,
          4759151,
          41000000,
          4178460,
          71297219,
          16627491,
          5406033,
          44008406,
          5319280,
          14423794,
          27206494,
          1911827,
          10574618,
          2811703,
          260138569,
          10749011,
          5915542,
          22326230,
          4621765,
          30018805,
          23154388,
          9868997,
          3502475,
          7949980,
          12891123,
          44010155,
          14883928,
          134008624,
          4275126,
          6059263,
          30453269,
          39005895,
          72105176,
          8699630,
          5402642,
          42151256,
          23950245,
          7131703,
          187420998,
          126707459,
          145075625,
          50577961,
          31211579,
          107010140,
          144165107,
          6321423,
          17253227,
          44366910,
          23003441,
          30030156,
          11575855,
          2919717,
          10543948,
          19051442,
          22609925,
          11401182,
          6444896,
          40050355,
          67004323,
          16509095,
          181339761,
          9004957,
          12151384,
          13450240,
          134100226,
          12429515,
          3603368,
          12828785
         ]
        }
       ],
       "layout": {
        "coloraxis": {
         "colorbar": {
          "title": {
           "text": "extra"
          }
         },
         "colorscale": [
          [
           0,
           "#0d0887"
          ],
          [
           0.1111111111111111,
           "#46039f"
          ],
          [
           0.2222222222222222,
           "#7201a8"
          ],
          [
           0.3333333333333333,
           "#9c179e"
          ],
          [
           0.4444444444444444,
           "#bd3786"
          ],
          [
           0.5555555555555556,
           "#d8576b"
          ],
          [
           0.6666666666666666,
           "#ed7953"
          ],
          [
           0.7777777777777778,
           "#fb9f3a"
          ],
          [
           0.8888888888888888,
           "#fdca26"
          ],
          [
           1,
           "#f0f921"
          ]
         ]
        },
        "legend": {
         "tracegroupgap": 0
        },
        "margin": {
         "t": 60
        },
        "template": {
         "data": {
          "bar": [
           {
            "error_x": {
             "color": "#2a3f5f"
            },
            "error_y": {
             "color": "#2a3f5f"
            },
            "marker": {
             "line": {
              "color": "#E5ECF6",
              "width": 0.5
             },
             "pattern": {
              "fillmode": "overlay",
              "size": 10,
              "solidity": 0.2
             }
            },
            "type": "bar"
           }
          ],
          "barpolar": [
           {
            "marker": {
             "line": {
              "color": "#E5ECF6",
              "width": 0.5
             },
             "pattern": {
              "fillmode": "overlay",
              "size": 10,
              "solidity": 0.2
             }
            },
            "type": "barpolar"
           }
          ],
          "carpet": [
           {
            "aaxis": {
             "endlinecolor": "#2a3f5f",
             "gridcolor": "white",
             "linecolor": "white",
             "minorgridcolor": "white",
             "startlinecolor": "#2a3f5f"
            },
            "baxis": {
             "endlinecolor": "#2a3f5f",
             "gridcolor": "white",
             "linecolor": "white",
             "minorgridcolor": "white",
             "startlinecolor": "#2a3f5f"
            },
            "type": "carpet"
           }
          ],
          "choropleth": [
           {
            "colorbar": {
             "outlinewidth": 0,
             "ticks": ""
            },
            "type": "choropleth"
           }
          ],
          "contour": [
           {
            "colorbar": {
             "outlinewidth": 0,
             "ticks": ""
            },
            "colorscale": [
             [
              0,
              "#0d0887"
             ],
             [
              0.1111111111111111,
              "#46039f"
             ],
             [
              0.2222222222222222,
              "#7201a8"
             ],
             [
              0.3333333333333333,
              "#9c179e"
             ],
             [
              0.4444444444444444,
              "#bd3786"
             ],
             [
              0.5555555555555556,
              "#d8576b"
             ],
             [
              0.6666666666666666,
              "#ed7953"
             ],
             [
              0.7777777777777778,
              "#fb9f3a"
             ],
             [
              0.8888888888888888,
              "#fdca26"
             ],
             [
              1,
              "#f0f921"
             ]
            ],
            "type": "contour"
           }
          ],
          "contourcarpet": [
           {
            "colorbar": {
             "outlinewidth": 0,
             "ticks": ""
            },
            "type": "contourcarpet"
           }
          ],
          "heatmap": [
           {
            "colorbar": {
             "outlinewidth": 0,
             "ticks": ""
            },
            "colorscale": [
             [
              0,
              "#0d0887"
             ],
             [
              0.1111111111111111,
              "#46039f"
             ],
             [
              0.2222222222222222,
              "#7201a8"
             ],
             [
              0.3333333333333333,
              "#9c179e"
             ],
             [
              0.4444444444444444,
              "#bd3786"
             ],
             [
              0.5555555555555556,
              "#d8576b"
             ],
             [
              0.6666666666666666,
              "#ed7953"
             ],
             [
              0.7777777777777778,
              "#fb9f3a"
             ],
             [
              0.8888888888888888,
              "#fdca26"
             ],
             [
              1,
              "#f0f921"
             ]
            ],
            "type": "heatmap"
           }
          ],
          "heatmapgl": [
           {
            "colorbar": {
             "outlinewidth": 0,
             "ticks": ""
            },
            "colorscale": [
             [
              0,
              "#0d0887"
             ],
             [
              0.1111111111111111,
              "#46039f"
             ],
             [
              0.2222222222222222,
              "#7201a8"
             ],
             [
              0.3333333333333333,
              "#9c179e"
             ],
             [
              0.4444444444444444,
              "#bd3786"
             ],
             [
              0.5555555555555556,
              "#d8576b"
             ],
             [
              0.6666666666666666,
              "#ed7953"
             ],
             [
              0.7777777777777778,
              "#fb9f3a"
             ],
             [
              0.8888888888888888,
              "#fdca26"
             ],
             [
              1,
              "#f0f921"
             ]
            ],
            "type": "heatmapgl"
           }
          ],
          "histogram": [
           {
            "marker": {
             "pattern": {
              "fillmode": "overlay",
              "size": 10,
              "solidity": 0.2
             }
            },
            "type": "histogram"
           }
          ],
          "histogram2d": [
           {
            "colorbar": {
             "outlinewidth": 0,
             "ticks": ""
            },
            "colorscale": [
             [
              0,
              "#0d0887"
             ],
             [
              0.1111111111111111,
              "#46039f"
             ],
             [
              0.2222222222222222,
              "#7201a8"
             ],
             [
              0.3333333333333333,
              "#9c179e"
             ],
             [
              0.4444444444444444,
              "#bd3786"
             ],
             [
              0.5555555555555556,
              "#d8576b"
             ],
             [
              0.6666666666666666,
              "#ed7953"
             ],
             [
              0.7777777777777778,
              "#fb9f3a"
             ],
             [
              0.8888888888888888,
              "#fdca26"
             ],
             [
              1,
              "#f0f921"
             ]
            ],
            "type": "histogram2d"
           }
          ],
          "histogram2dcontour": [
           {
            "colorbar": {
             "outlinewidth": 0,
             "ticks": ""
            },
            "colorscale": [
             [
              0,
              "#0d0887"
             ],
             [
              0.1111111111111111,
              "#46039f"
             ],
             [
              0.2222222222222222,
              "#7201a8"
             ],
             [
              0.3333333333333333,
              "#9c179e"
             ],
             [
              0.4444444444444444,
              "#bd3786"
             ],
             [
              0.5555555555555556,
              "#d8576b"
             ],
             [
              0.6666666666666666,
              "#ed7953"
             ],
             [
              0.7777777777777778,
              "#fb9f3a"
             ],
             [
              0.8888888888888888,
              "#fdca26"
             ],
             [
              1,
              "#f0f921"
             ]
            ],
            "type": "histogram2dcontour"
           }
          ],
          "mesh3d": [
           {
            "colorbar": {
             "outlinewidth": 0,
             "ticks": ""
            },
            "type": "mesh3d"
           }
          ],
          "parcoords": [
           {
            "line": {
             "colorbar": {
              "outlinewidth": 0,
              "ticks": ""
             }
            },
            "type": "parcoords"
           }
          ],
          "pie": [
           {
            "automargin": true,
            "type": "pie"
           }
          ],
          "scatter": [
           {
            "fillpattern": {
             "fillmode": "overlay",
             "size": 10,
             "solidity": 0.2
            },
            "type": "scatter"
           }
          ],
          "scatter3d": [
           {
            "line": {
             "colorbar": {
              "outlinewidth": 0,
              "ticks": ""
             }
            },
            "marker": {
             "colorbar": {
              "outlinewidth": 0,
              "ticks": ""
             }
            },
            "type": "scatter3d"
           }
          ],
          "scattercarpet": [
           {
            "marker": {
             "colorbar": {
              "outlinewidth": 0,
              "ticks": ""
             }
            },
            "type": "scattercarpet"
           }
          ],
          "scattergeo": [
           {
            "marker": {
             "colorbar": {
              "outlinewidth": 0,
              "ticks": ""
             }
            },
            "type": "scattergeo"
           }
          ],
          "scattergl": [
           {
            "marker": {
             "colorbar": {
              "outlinewidth": 0,
              "ticks": ""
             }
            },
            "type": "scattergl"
           }
          ],
          "scattermapbox": [
           {
            "marker": {
             "colorbar": {
              "outlinewidth": 0,
              "ticks": ""
             }
            },
            "type": "scattermapbox"
           }
          ],
          "scatterpolar": [
           {
            "marker": {
             "colorbar": {
              "outlinewidth": 0,
              "ticks": ""
             }
            },
            "type": "scatterpolar"
           }
          ],
          "scatterpolargl": [
           {
            "marker": {
             "colorbar": {
              "outlinewidth": 0,
              "ticks": ""
             }
            },
            "type": "scatterpolargl"
           }
          ],
          "scatterternary": [
           {
            "marker": {
             "colorbar": {
              "outlinewidth": 0,
              "ticks": ""
             }
            },
            "type": "scatterternary"
           }
          ],
          "surface": [
           {
            "colorbar": {
             "outlinewidth": 0,
             "ticks": ""
            },
            "colorscale": [
             [
              0,
              "#0d0887"
             ],
             [
              0.1111111111111111,
              "#46039f"
             ],
             [
              0.2222222222222222,
              "#7201a8"
             ],
             [
              0.3333333333333333,
              "#9c179e"
             ],
             [
              0.4444444444444444,
              "#bd3786"
             ],
             [
              0.5555555555555556,
              "#d8576b"
             ],
             [
              0.6666666666666666,
              "#ed7953"
             ],
             [
              0.7777777777777778,
              "#fb9f3a"
             ],
             [
              0.8888888888888888,
              "#fdca26"
             ],
             [
              1,
              "#f0f921"
             ]
            ],
            "type": "surface"
           }
          ],
          "table": [
           {
            "cells": {
             "fill": {
              "color": "#EBF0F8"
             },
             "line": {
              "color": "white"
             }
            },
            "header": {
             "fill": {
              "color": "#C8D4E3"
             },
             "line": {
              "color": "white"
             }
            },
            "type": "table"
           }
          ]
         },
         "layout": {
          "annotationdefaults": {
           "arrowcolor": "#2a3f5f",
           "arrowhead": 0,
           "arrowwidth": 1
          },
          "autotypenumbers": "strict",
          "coloraxis": {
           "colorbar": {
            "outlinewidth": 0,
            "ticks": ""
           }
          },
          "colorscale": {
           "diverging": [
            [
             0,
             "#8e0152"
            ],
            [
             0.1,
             "#c51b7d"
            ],
            [
             0.2,
             "#de77ae"
            ],
            [
             0.3,
             "#f1b6da"
            ],
            [
             0.4,
             "#fde0ef"
            ],
            [
             0.5,
             "#f7f7f7"
            ],
            [
             0.6,
             "#e6f5d0"
            ],
            [
             0.7,
             "#b8e186"
            ],
            [
             0.8,
             "#7fbc41"
            ],
            [
             0.9,
             "#4d9221"
            ],
            [
             1,
             "#276419"
            ]
           ],
           "sequential": [
            [
             0,
             "#0d0887"
            ],
            [
             0.1111111111111111,
             "#46039f"
            ],
            [
             0.2222222222222222,
             "#7201a8"
            ],
            [
             0.3333333333333333,
             "#9c179e"
            ],
            [
             0.4444444444444444,
             "#bd3786"
            ],
            [
             0.5555555555555556,
             "#d8576b"
            ],
            [
             0.6666666666666666,
             "#ed7953"
            ],
            [
             0.7777777777777778,
             "#fb9f3a"
            ],
            [
             0.8888888888888888,
             "#fdca26"
            ],
            [
             1,
             "#f0f921"
            ]
           ],
           "sequentialminus": [
            [
             0,
             "#0d0887"
            ],
            [
             0.1111111111111111,
             "#46039f"
            ],
            [
             0.2222222222222222,
             "#7201a8"
            ],
            [
             0.3333333333333333,
             "#9c179e"
            ],
            [
             0.4444444444444444,
             "#bd3786"
            ],
            [
             0.5555555555555556,
             "#d8576b"
            ],
            [
             0.6666666666666666,
             "#ed7953"
            ],
            [
             0.7777777777777778,
             "#fb9f3a"
            ],
            [
             0.8888888888888888,
             "#fdca26"
            ],
            [
             1,
             "#f0f921"
            ]
           ]
          },
          "colorway": [
           "#636efa",
           "#EF553B",
           "#00cc96",
           "#ab63fa",
           "#FFA15A",
           "#19d3f3",
           "#FF6692",
           "#B6E880",
           "#FF97FF",
           "#FECB52"
          ],
          "font": {
           "color": "#2a3f5f"
          },
          "geo": {
           "bgcolor": "white",
           "lakecolor": "white",
           "landcolor": "#E5ECF6",
           "showlakes": true,
           "showland": true,
           "subunitcolor": "white"
          },
          "hoverlabel": {
           "align": "left"
          },
          "hovermode": "closest",
          "mapbox": {
           "style": "light"
          },
          "paper_bgcolor": "white",
          "plot_bgcolor": "#E5ECF6",
          "polar": {
           "angularaxis": {
            "gridcolor": "white",
            "linecolor": "white",
            "ticks": ""
           },
           "bgcolor": "#E5ECF6",
           "radialaxis": {
            "gridcolor": "white",
            "linecolor": "white",
            "ticks": ""
           }
          },
          "scene": {
           "xaxis": {
            "backgroundcolor": "#E5ECF6",
            "gridcolor": "white",
            "gridwidth": 2,
            "linecolor": "white",
            "showbackground": true,
            "ticks": "",
            "zerolinecolor": "white"
           },
           "yaxis": {
            "backgroundcolor": "#E5ECF6",
            "gridcolor": "white",
            "gridwidth": 2,
            "linecolor": "white",
            "showbackground": true,
            "ticks": "",
            "zerolinecolor": "white"
           },
           "zaxis": {
            "backgroundcolor": "#E5ECF6",
            "gridcolor": "white",
            "gridwidth": 2,
            "linecolor": "white",
            "showbackground": true,
            "ticks": "",
            "zerolinecolor": "white"
           }
          },
          "shapedefaults": {
           "line": {
            "color": "#2a3f5f"
           }
          },
          "ternary": {
           "aaxis": {
            "gridcolor": "white",
            "linecolor": "white",
            "ticks": ""
           },
           "baxis": {
            "gridcolor": "white",
            "linecolor": "white",
            "ticks": ""
           },
           "bgcolor": "#E5ECF6",
           "caxis": {
            "gridcolor": "white",
            "linecolor": "white",
            "ticks": ""
           }
          },
          "title": {
           "x": 0.05
          },
          "xaxis": {
           "automargin": true,
           "gridcolor": "white",
           "linecolor": "white",
           "ticks": "",
           "title": {
            "standoff": 15
           },
           "zerolinecolor": "white",
           "zerolinewidth": 2
          },
          "yaxis": {
           "automargin": true,
           "gridcolor": "white",
           "linecolor": "white",
           "ticks": "",
           "title": {
            "standoff": 15
           },
           "zerolinecolor": "white",
           "zerolinewidth": 2
          }
         }
        },
        "title": {
         "text": "Actual vs Predicted Opening Weekend Revenue"
        },
        "xaxis": {
         "anchor": "y",
         "domain": [
          0,
          1
         ],
         "title": {
          "text": "Actual"
         }
        },
        "yaxis": {
         "anchor": "x",
         "domain": [
          0,
          1
         ],
         "title": {
          "text": "Predicted"
         }
        }
       }
      }
     },
     "metadata": {},
     "output_type": "display_data"
    }
   ],
   "source": [
    "# print all columns that start with production_method\n",
    "print([col for col in X_train.columns if col.startswith(\"production_method\")])\n",
    "\n",
    "formula = \"log_opening_wide_revenue ~ normalized_metacritic_before_wide_friday_calculated + log_top_5_trailer_views + sqrt_wikipedia_pre_release_cumulative_views + log_budget : metacritic_before_wide_friday_calculated + in_franchise : metacritic_before_wide_friday_calculated\"\n",
    "\n",
    "# \"metacritic_review_count\",\n",
    "# \"metacritic_score_calculated\",\n",
    "# \"metacritic_monday_before_wide_friday_calculated\",\n",
    "# \"metacritic_before_wide_friday_calculated\",\n",
    "# \"metacritic_before_first_day_calculated\"\n",
    "\n",
    "# add in the interactions\n",
    "model_simple_glm = smf.glm(formula=formula, data=X_train).fit()\n",
    "\n",
    "pred_simple_glm = model_simple_glm.predict(X_test)\n",
    "\n",
    "pred_simple_glm = np.exp(pred_simple_glm)\n",
    "\n",
    "print(\"RMSE:\", root_mean_squared_error(y_test, pred_simple_glm))\n",
    "print(model_simple_glm.summary())\n",
    "\n",
    "train_pred = model_simple_glm.predict(X_train)\n",
    "train_pred = np.exp(train_pred)\n",
    "\n",
    "# print predictions vs actual within training data\n",
    "training_data = pd.DataFrame(\n",
    "    {\n",
    "        \"actual\": y_train,\n",
    "        \"predicted\": train_pred,\n",
    "        \"title\": X_train[\"title\"],\n",
    "        \"extra\": X_train[\"normalized_wikipedia_pre_release_cumulative_views\"],\n",
    "    }\n",
    ")\n",
    "\n",
    "# write to a file\n",
    "training_data.to_csv(\"training_data.csv\")\n",
    "\n",
    "fig = px.scatter(training_data, x=\"actual\", y=\"predicted\", hover_name=\"title\", color=\"extra\")\n",
    "fig.add_trace(go.Scatter(x=training_data[\"actual\"], y=training_data[\"actual\"], mode=\"lines\", name=\"y=x\"))\n",
    "fig.update_layout(title=\"Actual vs Predicted Opening Weekend Revenue\", xaxis_title=\"Actual\", yaxis_title=\"Predicted\")"
   ]
  },
  {
   "cell_type": "markdown",
   "metadata": {},
   "source": [
    "Manual Calculation for Paddington 2\n",
    "intercept of 1.7098 \n",
    "normalized metacritic guess is -5.1635 * 2.2 = -11.3597\n",
    "top 5 trailer views is 8.9 million, the log of that is 6.94939001 minus 9 = -2.05060999 * 0.7008 = -1.4373\n",
    "guess for normalized wikipedia pre release views is -0.6 * 0.1900 = -0.114\n",
    "budget is 40 million, the log of that is 17.504 * 88 * 0.0048 = 7.393689\n",
    "in franchise is 1, so 1 * 88 * 0.0094 = 0.8272\n",
    "kids fiction is 1, so 1 * 88 * 0.1984 = 17.472\n",
    "\n",
    "sum of all of these is 1.7098 - 11.3597 - 1.4373 - 0.114 + 7.393689 + 0.8272 + 17.472 = 15.391\n",
    "\n",
    "take the exponential of 15.391 = 4.83 million"
   ]
  },
  {
   "cell_type": "code",
   "execution_count": 12,
   "metadata": {},
   "outputs": [
    {
     "data": {
      "application/vnd.plotly.v1+json": {
       "config": {
        "plotlyServerURL": "https://plot.ly"
       },
       "data": [
        {
         "hovertemplate": "<b>%{hovertext}</b><br><br>actual=%{x}<br>predicted=%{y}<br>log_wikipedia_pre_release_cumulative_views=%{marker.color}<extra></extra>",
         "hovertext": [
          "M3GAN",
          "80 for Brady",
          "Knock at the Cabin",
          "Ant-Man and the Wasp: Quantumania",
          "Jesus Revolution",
          "Creed III",
          "Operation Fortune: Ruse de guerre",
          "Scream VI",
          "65",
          "Shazam! Fury of the Gods",
          "John Wick: Chapter 4",
          "Dungeons & Dragons: Honor Among Thieves",
          "His Only Son",
          "The Super Mario Bros. Movie",
          "Renfield",
          "The Pope’s Exorcist",
          "Beau is Afraid",
          "Big George Foreman: The Miraculous Story of the Once and Future Heavyweight Champion of the World",
          "Are You There God? It’s Me, Margaret",
          "Guardians of the Galaxy Vol 3",
          "Fast X",
          "The Little Mermaid",
          "The Machine",
          "Spider-Man: Across the Spider-Verse",
          "Transformers: Rise of the Beasts",
          "The Flash",
          "Elemental",
          "No Hard Feelings",
          "Ruby Gillman, Teenage Kraken",
          "Indiana Jones and the Dial of Destiny",
          "Sound of Freedom",
          "Insidious: The Red Door",
          "Oppenheimer",
          "Barbie",
          "Talk To Me",
          "Haunted Mansion",
          "Teenage Mutant Ninja Turtles: Mutant Mayhem",
          "Meg 2: The Trench",
          "The Last Voyage of the Demeter",
          "Blue Beetle",
          "Strays",
          "Dumb Money",
          "Expend4bles",
          "The Creator",
          "Saw X",
          "PAW Patrol: The Mighty Movie",
          "The Exorcist: Believer",
          "Killers of the Flower Moon",
          "Priscilla",
          "Five Nights at Freddy’s",
          "Journey to Bethlehem",
          "The Marvels",
          "Next Goal Wins",
          "The Hunger Games: The Ballad of Songbirds & Snakes",
          "Thanksgiving",
          "Trolls Band Together",
          "Wish",
          "Napoleon",
          "Godzilla Minus One (ゴジラ最新作)",
          "American Fiction",
          "Wonka",
          "Migration",
          "The Iron Claw",
          "Aquaman and the Lost Kingdom",
          "Anyone But You",
          "Ferrari",
          "Mean Girls",
          "Argylle",
          "Madame Web",
          "Dune: Part Two",
          "Kung Fu Panda 4",
          "Imaginary",
          "Cabrini",
          "Arthur the King",
          "Ghostbusters: Frozen Empire",
          "Godzilla x Kong: The New Empire",
          "Civil War",
          "Abigail",
          "Challengers",
          "Unsung Hero",
          "The Fall Guy",
          "Tarot",
          "Kingdom of the Planet of the Apes",
          "IF",
          "The Strangers: Chapter 1",
          "Furiosa: A Mad Max Saga",
          "The Garfield Movie",
          "The Watchers",
          "Bad Boys: Ride or Die",
          "Inside Out 2",
          "A Quiet Place: Day One",
          "Horizon: An American Saga Chapter 1",
          "Despicable Me 4",
          "Sound of Hope: The Story of Possum Trot",
          "Fly Me to the Moon",
          "Twisters",
          "Deadpool & Wolverine",
          "Harold and the Purple Crayon",
          "It Ends With Us",
          "Alien: Romulus",
          "The Crow",
          "Reagan",
          "Beetlejuice Beetlejuice",
          "Speak No Evil"
         ],
         "legendgroup": "",
         "marker": {
          "color": [
           13.61041687326812,
           12.985924906175642,
           13.993381391634413,
           14.704744945834777,
           12.155231880314798,
           13.738471833810898,
           13.14318901066319,
           13.949114447960799,
           13.390578186319217,
           13.824574357350661,
           14.733833224061149,
           13.6042869312329,
           7.995643604287271,
           14.228697112166168,
           13.312606806479458,
           13.461465011271644,
           12.868755463952951,
           11.43773844931995,
           10.680975881529823,
           14.604202436281605,
           14.661718681947242,
           14.399753172354082,
           12.050932309488045,
           14.465938111304059,
           14.315229530596408,
           14.853173255352425,
           13.531243979400273,
           13.689319019726396,
           13.154156574728814,
           14.682565666466777,
           12.843688617045835,
           13.22076694955144,
           15.748000341124078,
           15.135057293003403,
           13.020470176988812,
           13.19858710975809,
           13.442803497980742,
           13.581681368024384,
           13.224676253723594,
           13.994897813905174,
           12.634472724920833,
           12.428475922909234,
           13.472193146499114,
           13.830053297843106,
           13.623733639799545,
           12.416706273026223,
           13.513395495873551,
           14.765623225011467,
           12.711144749498645,
           14.237365941966532,
           0,
           14.396251347772807,
           12.462542649849187,
           13.962460517577687,
           13.322067969975695,
           13.572959901124836,
           13.884131360242062,
           14.298875772321713,
           13.614556489022318,
           12.299348940209876,
           14.327504498981801,
           13.121288800253051,
           13.847485855603288,
           14.227667227553258,
           12.653776344312304,
           13.008006964165848,
           13.687880574860474,
           14.01583819458847,
           14.141546381327691,
           14.747206419160698,
           13.848896976981907,
           12.60315605849928,
           6.371611847231857,
           12.321728976908853,
           13.636896918341089,
           14.488227964612706,
           13.381746278945812,
           13.615744120204534,
           14.0343793856524,
           11.721669843995286,
           14.04072955405222,
           12.22067057538573,
           14.498110814744877,
           13.563486449348412,
           12.534710703525011,
           14.071380704296187,
           13.435395894807808,
           13.287828662131503,
           13.159131084396543,
           13.92904190130618,
           13.580124876630256,
           11.563323859053922,
           13.743387076943284,
           11.39570602046651,
           13.186391143128558,
           14.045423942161257,
           14.89992959731761,
           12.061156694039013,
           13.174416782834273,
           14.204839509051853,
           12.903886420580784,
           12.779881519126072,
           14.09365352749709,
           13.717909856917888
          ],
          "coloraxis": "coloraxis",
          "symbol": "circle"
         },
         "mode": "markers",
         "name": "",
         "orientation": "v",
         "showlegend": false,
         "type": "scatter",
         "x": [
          30429860,
          12701640,
          14127170,
          106109650,
          15882067,
          58370007,
          3140214,
          44447270,
          12328361,
          30111158,
          73817950,
          37205784,
          5501070,
          146361865,
          8026475,
          9006368,
          2661957,
          2925364,
          6739037,
          118414021,
          67017410,
          95578040,
          5000545,
          120663589,
          61045464,
          55043679,
          29602429,
          15002770,
          5500990,
          60368101,
          19680879,
          33013036,
          82455420,
          162022044,
          10431720,
          24082475,
          28007544,
          30002735,
          6504950,
          25030225,
          8247810,
          3325504,
          8039021,
          14079512,
          18309301,
          22764354,
          26497600,
          23253655,
          5040003,
          80001720,
          2400446,
          46110859,
          2500295,
          44607143,
          10306272,
          30002525,
          19698228,
          20638887,
          11419975,
          1755364,
          39005800,
          12453275,
          4868370,
          27686211,
          6000344,
          3921773,
          28635307,
          17473540,
          15335860,
          82505391,
          57989905,
          9912713,
          7168520,
          7633898,
          45004673,
          80006561,
          25537368,
          10297110,
          15011061,
          7731539,
          27747035,
          6503012,
          58400788,
          33715801,
          11825058,
          26326462,
          24006629,
          7003537,
          56527324,
          154201673,
          52202495,
          11052561,
          75009210,
          3078758,
          9426615,
          81251415,
          211435291,
          6003197,
          50016652,
          42003361,
          4644666,
          7650720,
          111003345,
          11397595
         ],
         "xaxis": "x",
         "y": [
          26236585.93541573,
          6422733.1704466855,
          16765777.127447976,
          67389376.94481349,
          8925662.936233941,
          42950630.97318571,
          13497662.372976206,
          30523782.4503343,
          14373389.103787621,
          39298876.09416854,
          95876579.35291637,
          22527136.090250254,
          2311563.880564579,
          43933197.8149688,
          21287317.27215566,
          11453796.784239957,
          11028403.47143695,
          8088573.473291833,
          8722868.979078118,
          84861621.77449971,
          95555538.17890815,
          70400453.15478088,
          6325003.673212466,
          103176367.83388165,
          54099415.94687524,
          88573540.28166726,
          28507858.75362201,
          10283925.61989585,
          14539104.288083937,
          75436407.49401343,
          8055374.083425307,
          20023637.315028414,
          94311856.07155183,
          145195998.7448632,
          12565003.894696847,
          15490161.511755249,
          37216188.114408,
          34026931.01231033,
          13621976.738303686,
          50469888.065682255,
          11756790.848543419,
          9675615.215592181,
          22328602.537621856,
          20221602.139444754,
          20988955.19528106,
          19378485.107157353,
          24045999.480958827,
          50485403.82505735,
          7792902.373218103,
          27739311.7730552,
          4364322.624824912,
          64281094.24053897,
          5912601.650523667,
          42736122.70948266,
          20906214.619183257,
          29855403.443408553,
          22080752.66610045,
          37601365.252545185,
          23581440.969915733,
          6324122.423621343,
          65525468.76637414,
          17860299.909161035,
          10872226.677800955,
          32720744.294705577,
          8689799.596583184,
          14317092.080654884,
          13165420.914145252,
          23889185.902636573,
          25865375.621750396,
          116708971.35892521,
          37554778.07193249,
          9667637.299044643,
          6537479.234669684,
          7676052.00555147,
          22698229.931195527,
          58184671.39383396,
          23038701.350283615,
          10537739.049559627,
          17366364.066251796,
          3514094.74962411,
          31059706.724426843,
          7177018.161082952,
          64394017.42495332,
          19406134.03553958,
          13575924.205755107,
          74751125.61758831,
          20908092.160563383,
          12161675.749582147,
          23852128.66926807,
          85808912.69860943,
          40187823.34180504,
          9125442.443180807,
          38435214.59431602,
          5957755.879357651,
          10906877.363451373,
          59162528.06374205,
          95048845.10309525,
          10222520.111300318,
          12304853.540842697,
          46292613.62344774,
          9763522.516511014,
          4087012.8426147187,
          47666227.37710783,
          12802639.733410396
         ],
         "yaxis": "y"
        },
        {
         "mode": "lines",
         "name": "y=x",
         "type": "scatter",
         "x": [
          30429860,
          12701640,
          14127170,
          106109650,
          15882067,
          58370007,
          3140214,
          44447270,
          12328361,
          30111158,
          73817950,
          37205784,
          5501070,
          146361865,
          8026475,
          9006368,
          2661957,
          2925364,
          6739037,
          118414021,
          67017410,
          95578040,
          5000545,
          120663589,
          61045464,
          55043679,
          29602429,
          15002770,
          5500990,
          60368101,
          19680879,
          33013036,
          82455420,
          162022044,
          10431720,
          24082475,
          28007544,
          30002735,
          6504950,
          25030225,
          8247810,
          3325504,
          8039021,
          14079512,
          18309301,
          22764354,
          26497600,
          23253655,
          5040003,
          80001720,
          2400446,
          46110859,
          2500295,
          44607143,
          10306272,
          30002525,
          19698228,
          20638887,
          11419975,
          1755364,
          39005800,
          12453275,
          4868370,
          27686211,
          6000344,
          3921773,
          28635307,
          17473540,
          15335860,
          82505391,
          57989905,
          9912713,
          7168520,
          7633898,
          45004673,
          80006561,
          25537368,
          10297110,
          15011061,
          7731539,
          27747035,
          6503012,
          58400788,
          33715801,
          11825058,
          26326462,
          24006629,
          7003537,
          56527324,
          154201673,
          52202495,
          11052561,
          75009210,
          3078758,
          9426615,
          81251415,
          211435291,
          6003197,
          50016652,
          42003361,
          4644666,
          7650720,
          111003345,
          11397595
         ],
         "y": [
          30429860,
          12701640,
          14127170,
          106109650,
          15882067,
          58370007,
          3140214,
          44447270,
          12328361,
          30111158,
          73817950,
          37205784,
          5501070,
          146361865,
          8026475,
          9006368,
          2661957,
          2925364,
          6739037,
          118414021,
          67017410,
          95578040,
          5000545,
          120663589,
          61045464,
          55043679,
          29602429,
          15002770,
          5500990,
          60368101,
          19680879,
          33013036,
          82455420,
          162022044,
          10431720,
          24082475,
          28007544,
          30002735,
          6504950,
          25030225,
          8247810,
          3325504,
          8039021,
          14079512,
          18309301,
          22764354,
          26497600,
          23253655,
          5040003,
          80001720,
          2400446,
          46110859,
          2500295,
          44607143,
          10306272,
          30002525,
          19698228,
          20638887,
          11419975,
          1755364,
          39005800,
          12453275,
          4868370,
          27686211,
          6000344,
          3921773,
          28635307,
          17473540,
          15335860,
          82505391,
          57989905,
          9912713,
          7168520,
          7633898,
          45004673,
          80006561,
          25537368,
          10297110,
          15011061,
          7731539,
          27747035,
          6503012,
          58400788,
          33715801,
          11825058,
          26326462,
          24006629,
          7003537,
          56527324,
          154201673,
          52202495,
          11052561,
          75009210,
          3078758,
          9426615,
          81251415,
          211435291,
          6003197,
          50016652,
          42003361,
          4644666,
          7650720,
          111003345,
          11397595
         ]
        }
       ],
       "layout": {
        "coloraxis": {
         "colorbar": {
          "title": {
           "text": "log_wikipedia_pre_release_cumulative_views"
          }
         },
         "colorscale": [
          [
           0,
           "#0d0887"
          ],
          [
           0.1111111111111111,
           "#46039f"
          ],
          [
           0.2222222222222222,
           "#7201a8"
          ],
          [
           0.3333333333333333,
           "#9c179e"
          ],
          [
           0.4444444444444444,
           "#bd3786"
          ],
          [
           0.5555555555555556,
           "#d8576b"
          ],
          [
           0.6666666666666666,
           "#ed7953"
          ],
          [
           0.7777777777777778,
           "#fb9f3a"
          ],
          [
           0.8888888888888888,
           "#fdca26"
          ],
          [
           1,
           "#f0f921"
          ]
         ]
        },
        "legend": {
         "tracegroupgap": 0
        },
        "margin": {
         "t": 60
        },
        "template": {
         "data": {
          "bar": [
           {
            "error_x": {
             "color": "#2a3f5f"
            },
            "error_y": {
             "color": "#2a3f5f"
            },
            "marker": {
             "line": {
              "color": "#E5ECF6",
              "width": 0.5
             },
             "pattern": {
              "fillmode": "overlay",
              "size": 10,
              "solidity": 0.2
             }
            },
            "type": "bar"
           }
          ],
          "barpolar": [
           {
            "marker": {
             "line": {
              "color": "#E5ECF6",
              "width": 0.5
             },
             "pattern": {
              "fillmode": "overlay",
              "size": 10,
              "solidity": 0.2
             }
            },
            "type": "barpolar"
           }
          ],
          "carpet": [
           {
            "aaxis": {
             "endlinecolor": "#2a3f5f",
             "gridcolor": "white",
             "linecolor": "white",
             "minorgridcolor": "white",
             "startlinecolor": "#2a3f5f"
            },
            "baxis": {
             "endlinecolor": "#2a3f5f",
             "gridcolor": "white",
             "linecolor": "white",
             "minorgridcolor": "white",
             "startlinecolor": "#2a3f5f"
            },
            "type": "carpet"
           }
          ],
          "choropleth": [
           {
            "colorbar": {
             "outlinewidth": 0,
             "ticks": ""
            },
            "type": "choropleth"
           }
          ],
          "contour": [
           {
            "colorbar": {
             "outlinewidth": 0,
             "ticks": ""
            },
            "colorscale": [
             [
              0,
              "#0d0887"
             ],
             [
              0.1111111111111111,
              "#46039f"
             ],
             [
              0.2222222222222222,
              "#7201a8"
             ],
             [
              0.3333333333333333,
              "#9c179e"
             ],
             [
              0.4444444444444444,
              "#bd3786"
             ],
             [
              0.5555555555555556,
              "#d8576b"
             ],
             [
              0.6666666666666666,
              "#ed7953"
             ],
             [
              0.7777777777777778,
              "#fb9f3a"
             ],
             [
              0.8888888888888888,
              "#fdca26"
             ],
             [
              1,
              "#f0f921"
             ]
            ],
            "type": "contour"
           }
          ],
          "contourcarpet": [
           {
            "colorbar": {
             "outlinewidth": 0,
             "ticks": ""
            },
            "type": "contourcarpet"
           }
          ],
          "heatmap": [
           {
            "colorbar": {
             "outlinewidth": 0,
             "ticks": ""
            },
            "colorscale": [
             [
              0,
              "#0d0887"
             ],
             [
              0.1111111111111111,
              "#46039f"
             ],
             [
              0.2222222222222222,
              "#7201a8"
             ],
             [
              0.3333333333333333,
              "#9c179e"
             ],
             [
              0.4444444444444444,
              "#bd3786"
             ],
             [
              0.5555555555555556,
              "#d8576b"
             ],
             [
              0.6666666666666666,
              "#ed7953"
             ],
             [
              0.7777777777777778,
              "#fb9f3a"
             ],
             [
              0.8888888888888888,
              "#fdca26"
             ],
             [
              1,
              "#f0f921"
             ]
            ],
            "type": "heatmap"
           }
          ],
          "heatmapgl": [
           {
            "colorbar": {
             "outlinewidth": 0,
             "ticks": ""
            },
            "colorscale": [
             [
              0,
              "#0d0887"
             ],
             [
              0.1111111111111111,
              "#46039f"
             ],
             [
              0.2222222222222222,
              "#7201a8"
             ],
             [
              0.3333333333333333,
              "#9c179e"
             ],
             [
              0.4444444444444444,
              "#bd3786"
             ],
             [
              0.5555555555555556,
              "#d8576b"
             ],
             [
              0.6666666666666666,
              "#ed7953"
             ],
             [
              0.7777777777777778,
              "#fb9f3a"
             ],
             [
              0.8888888888888888,
              "#fdca26"
             ],
             [
              1,
              "#f0f921"
             ]
            ],
            "type": "heatmapgl"
           }
          ],
          "histogram": [
           {
            "marker": {
             "pattern": {
              "fillmode": "overlay",
              "size": 10,
              "solidity": 0.2
             }
            },
            "type": "histogram"
           }
          ],
          "histogram2d": [
           {
            "colorbar": {
             "outlinewidth": 0,
             "ticks": ""
            },
            "colorscale": [
             [
              0,
              "#0d0887"
             ],
             [
              0.1111111111111111,
              "#46039f"
             ],
             [
              0.2222222222222222,
              "#7201a8"
             ],
             [
              0.3333333333333333,
              "#9c179e"
             ],
             [
              0.4444444444444444,
              "#bd3786"
             ],
             [
              0.5555555555555556,
              "#d8576b"
             ],
             [
              0.6666666666666666,
              "#ed7953"
             ],
             [
              0.7777777777777778,
              "#fb9f3a"
             ],
             [
              0.8888888888888888,
              "#fdca26"
             ],
             [
              1,
              "#f0f921"
             ]
            ],
            "type": "histogram2d"
           }
          ],
          "histogram2dcontour": [
           {
            "colorbar": {
             "outlinewidth": 0,
             "ticks": ""
            },
            "colorscale": [
             [
              0,
              "#0d0887"
             ],
             [
              0.1111111111111111,
              "#46039f"
             ],
             [
              0.2222222222222222,
              "#7201a8"
             ],
             [
              0.3333333333333333,
              "#9c179e"
             ],
             [
              0.4444444444444444,
              "#bd3786"
             ],
             [
              0.5555555555555556,
              "#d8576b"
             ],
             [
              0.6666666666666666,
              "#ed7953"
             ],
             [
              0.7777777777777778,
              "#fb9f3a"
             ],
             [
              0.8888888888888888,
              "#fdca26"
             ],
             [
              1,
              "#f0f921"
             ]
            ],
            "type": "histogram2dcontour"
           }
          ],
          "mesh3d": [
           {
            "colorbar": {
             "outlinewidth": 0,
             "ticks": ""
            },
            "type": "mesh3d"
           }
          ],
          "parcoords": [
           {
            "line": {
             "colorbar": {
              "outlinewidth": 0,
              "ticks": ""
             }
            },
            "type": "parcoords"
           }
          ],
          "pie": [
           {
            "automargin": true,
            "type": "pie"
           }
          ],
          "scatter": [
           {
            "fillpattern": {
             "fillmode": "overlay",
             "size": 10,
             "solidity": 0.2
            },
            "type": "scatter"
           }
          ],
          "scatter3d": [
           {
            "line": {
             "colorbar": {
              "outlinewidth": 0,
              "ticks": ""
             }
            },
            "marker": {
             "colorbar": {
              "outlinewidth": 0,
              "ticks": ""
             }
            },
            "type": "scatter3d"
           }
          ],
          "scattercarpet": [
           {
            "marker": {
             "colorbar": {
              "outlinewidth": 0,
              "ticks": ""
             }
            },
            "type": "scattercarpet"
           }
          ],
          "scattergeo": [
           {
            "marker": {
             "colorbar": {
              "outlinewidth": 0,
              "ticks": ""
             }
            },
            "type": "scattergeo"
           }
          ],
          "scattergl": [
           {
            "marker": {
             "colorbar": {
              "outlinewidth": 0,
              "ticks": ""
             }
            },
            "type": "scattergl"
           }
          ],
          "scattermapbox": [
           {
            "marker": {
             "colorbar": {
              "outlinewidth": 0,
              "ticks": ""
             }
            },
            "type": "scattermapbox"
           }
          ],
          "scatterpolar": [
           {
            "marker": {
             "colorbar": {
              "outlinewidth": 0,
              "ticks": ""
             }
            },
            "type": "scatterpolar"
           }
          ],
          "scatterpolargl": [
           {
            "marker": {
             "colorbar": {
              "outlinewidth": 0,
              "ticks": ""
             }
            },
            "type": "scatterpolargl"
           }
          ],
          "scatterternary": [
           {
            "marker": {
             "colorbar": {
              "outlinewidth": 0,
              "ticks": ""
             }
            },
            "type": "scatterternary"
           }
          ],
          "surface": [
           {
            "colorbar": {
             "outlinewidth": 0,
             "ticks": ""
            },
            "colorscale": [
             [
              0,
              "#0d0887"
             ],
             [
              0.1111111111111111,
              "#46039f"
             ],
             [
              0.2222222222222222,
              "#7201a8"
             ],
             [
              0.3333333333333333,
              "#9c179e"
             ],
             [
              0.4444444444444444,
              "#bd3786"
             ],
             [
              0.5555555555555556,
              "#d8576b"
             ],
             [
              0.6666666666666666,
              "#ed7953"
             ],
             [
              0.7777777777777778,
              "#fb9f3a"
             ],
             [
              0.8888888888888888,
              "#fdca26"
             ],
             [
              1,
              "#f0f921"
             ]
            ],
            "type": "surface"
           }
          ],
          "table": [
           {
            "cells": {
             "fill": {
              "color": "#EBF0F8"
             },
             "line": {
              "color": "white"
             }
            },
            "header": {
             "fill": {
              "color": "#C8D4E3"
             },
             "line": {
              "color": "white"
             }
            },
            "type": "table"
           }
          ]
         },
         "layout": {
          "annotationdefaults": {
           "arrowcolor": "#2a3f5f",
           "arrowhead": 0,
           "arrowwidth": 1
          },
          "autotypenumbers": "strict",
          "coloraxis": {
           "colorbar": {
            "outlinewidth": 0,
            "ticks": ""
           }
          },
          "colorscale": {
           "diverging": [
            [
             0,
             "#8e0152"
            ],
            [
             0.1,
             "#c51b7d"
            ],
            [
             0.2,
             "#de77ae"
            ],
            [
             0.3,
             "#f1b6da"
            ],
            [
             0.4,
             "#fde0ef"
            ],
            [
             0.5,
             "#f7f7f7"
            ],
            [
             0.6,
             "#e6f5d0"
            ],
            [
             0.7,
             "#b8e186"
            ],
            [
             0.8,
             "#7fbc41"
            ],
            [
             0.9,
             "#4d9221"
            ],
            [
             1,
             "#276419"
            ]
           ],
           "sequential": [
            [
             0,
             "#0d0887"
            ],
            [
             0.1111111111111111,
             "#46039f"
            ],
            [
             0.2222222222222222,
             "#7201a8"
            ],
            [
             0.3333333333333333,
             "#9c179e"
            ],
            [
             0.4444444444444444,
             "#bd3786"
            ],
            [
             0.5555555555555556,
             "#d8576b"
            ],
            [
             0.6666666666666666,
             "#ed7953"
            ],
            [
             0.7777777777777778,
             "#fb9f3a"
            ],
            [
             0.8888888888888888,
             "#fdca26"
            ],
            [
             1,
             "#f0f921"
            ]
           ],
           "sequentialminus": [
            [
             0,
             "#0d0887"
            ],
            [
             0.1111111111111111,
             "#46039f"
            ],
            [
             0.2222222222222222,
             "#7201a8"
            ],
            [
             0.3333333333333333,
             "#9c179e"
            ],
            [
             0.4444444444444444,
             "#bd3786"
            ],
            [
             0.5555555555555556,
             "#d8576b"
            ],
            [
             0.6666666666666666,
             "#ed7953"
            ],
            [
             0.7777777777777778,
             "#fb9f3a"
            ],
            [
             0.8888888888888888,
             "#fdca26"
            ],
            [
             1,
             "#f0f921"
            ]
           ]
          },
          "colorway": [
           "#636efa",
           "#EF553B",
           "#00cc96",
           "#ab63fa",
           "#FFA15A",
           "#19d3f3",
           "#FF6692",
           "#B6E880",
           "#FF97FF",
           "#FECB52"
          ],
          "font": {
           "color": "#2a3f5f"
          },
          "geo": {
           "bgcolor": "white",
           "lakecolor": "white",
           "landcolor": "#E5ECF6",
           "showlakes": true,
           "showland": true,
           "subunitcolor": "white"
          },
          "hoverlabel": {
           "align": "left"
          },
          "hovermode": "closest",
          "mapbox": {
           "style": "light"
          },
          "paper_bgcolor": "white",
          "plot_bgcolor": "#E5ECF6",
          "polar": {
           "angularaxis": {
            "gridcolor": "white",
            "linecolor": "white",
            "ticks": ""
           },
           "bgcolor": "#E5ECF6",
           "radialaxis": {
            "gridcolor": "white",
            "linecolor": "white",
            "ticks": ""
           }
          },
          "scene": {
           "xaxis": {
            "backgroundcolor": "#E5ECF6",
            "gridcolor": "white",
            "gridwidth": 2,
            "linecolor": "white",
            "showbackground": true,
            "ticks": "",
            "zerolinecolor": "white"
           },
           "yaxis": {
            "backgroundcolor": "#E5ECF6",
            "gridcolor": "white",
            "gridwidth": 2,
            "linecolor": "white",
            "showbackground": true,
            "ticks": "",
            "zerolinecolor": "white"
           },
           "zaxis": {
            "backgroundcolor": "#E5ECF6",
            "gridcolor": "white",
            "gridwidth": 2,
            "linecolor": "white",
            "showbackground": true,
            "ticks": "",
            "zerolinecolor": "white"
           }
          },
          "shapedefaults": {
           "line": {
            "color": "#2a3f5f"
           }
          },
          "ternary": {
           "aaxis": {
            "gridcolor": "white",
            "linecolor": "white",
            "ticks": ""
           },
           "baxis": {
            "gridcolor": "white",
            "linecolor": "white",
            "ticks": ""
           },
           "bgcolor": "#E5ECF6",
           "caxis": {
            "gridcolor": "white",
            "linecolor": "white",
            "ticks": ""
           }
          },
          "title": {
           "x": 0.05
          },
          "xaxis": {
           "automargin": true,
           "gridcolor": "white",
           "linecolor": "white",
           "ticks": "",
           "title": {
            "standoff": 15
           },
           "zerolinecolor": "white",
           "zerolinewidth": 2
          },
          "yaxis": {
           "automargin": true,
           "gridcolor": "white",
           "linecolor": "white",
           "ticks": "",
           "title": {
            "standoff": 15
           },
           "zerolinecolor": "white",
           "zerolinewidth": 2
          }
         }
        },
        "title": {
         "text": "Actual vs Predicted Opening Weekend Revenue"
        },
        "xaxis": {
         "anchor": "y",
         "domain": [
          0,
          1
         ],
         "title": {
          "text": "Actual"
         }
        },
        "yaxis": {
         "anchor": "x",
         "domain": [
          0,
          1
         ],
         "title": {
          "text": "Predicted"
         }
        }
       }
      }
     },
     "metadata": {},
     "output_type": "display_data"
    }
   ],
   "source": [
    "results_df = pd.DataFrame({'title': X_test['title'], 'actual': y_test, 'predicted': pred_simple_glm, 'mpaa_rating': X_test['mpaa_rating'], 'creative_type': X_test['creative_type'], 'budget': X_test['budget'], 'wikipedia_pre_release_cumulative_views': X_test['wikipedia_pre_release_cumulative_views'], 'metacritic_before_wide_friday_calculated': X_test['metacritic_before_wide_friday_calculated'], 'genre': X_test['genre'], 'log_top_5_trailer_views': X_test['log_top_5_trailer_views'], 'sqrt_wikipedia_pre_release_cumulative_views': X_test['sqrt_wikipedia_pre_release_cumulative_views'], 'top_5_trailer_views': X_test['top_5_trailer_views'], 'log_budget': X_test['log_budget'], 'log_wikipedia_pre_release_cumulative_views': X_test['log_wikipedia_pre_release_cumulative_views'], 'log_top_5_trailer_views': X_test['log_top_5_trailer_views'], 'not_friday_opener': X_test['not_friday_opener'], 'production_method': X_test['production_method'], 'normalized_budget': X_test['normalized_budget'], 'normalized_wikipedia_pre_release_cumulative_views': X_test['normalized_wikipedia_pre_release_cumulative_views'], 'normalized_top_5_trailer_views': X_test['normalized_top_5_trailer_views'], 'normalized_metacritic_before_wide_friday_calculated': X_test['normalized_metacritic_before_wide_friday_calculated']})\n",
    "\n",
    "# plot actual vs predicted\n",
    "fig = px.scatter(results_df, x='actual', y='predicted', hover_name='title', color='log_wikipedia_pre_release_cumulative_views')\n",
    "fig.add_trace(go.Scatter(x=results_df['actual'], y=results_df['actual'], mode='lines', name='y=x'))\n",
    "fig.update_layout(title='Actual vs Predicted Opening Weekend Revenue', xaxis_title='Actual', yaxis_title='Predicted')\n"
   ]
  },
  {
   "cell_type": "code",
   "execution_count": 6,
   "metadata": {},
   "outputs": [
    {
     "data": {
      "application/vnd.plotly.v1+json": {
       "config": {
        "plotlyServerURL": "https://plot.ly"
       },
       "data": [
        {
         "hovertemplate": "<b>%{hovertext}</b><br><br>creative_type=Science Fiction<br>predicted=%{x}<br>residual=%{y}<extra></extra>",
         "hovertext": [
          "M3GAN",
          "65",
          "Transformers: Rise of the Beasts",
          "Meg 2: The Trench",
          "The Creator",
          "The Hunger Games: The Ballad of Songbirds & Snakes",
          "Godzilla Minus One (ゴジラ最新作)",
          "Dune: Part Two",
          "Ghostbusters: Frozen Empire",
          "Godzilla x Kong: The New Empire",
          "Civil War",
          "Kingdom of the Planet of the Apes",
          "Furiosa: A Mad Max Saga",
          "The Watchers",
          "A Quiet Place: Day One",
          "Alien: Romulus",
          "Beetlejuice Beetlejuice"
         ],
         "legendgroup": "Science Fiction",
         "marker": {
          "color": "#636efa",
          "symbol": "circle"
         },
         "mode": "markers",
         "name": "Science Fiction",
         "orientation": "v",
         "showlegend": true,
         "type": "scatter",
         "x": [
          25090085.014847554,
          13696670.383877026,
          50629753.144426055,
          32684299.89111719,
          19095712.377687264,
          40299548.02153272,
          22324116.134674557,
          115838999.55425622,
          20989180.373884626,
          54617618.14741982,
          23362260.616647426,
          60731158.08081481,
          72593476.41580096,
          11596462.528876055,
          39264109.95159013,
          43205250.504459254,
          44846572.84071874
         ],
         "xaxis": "x",
         "y": [
          5339774.985152446,
          -1368309.383877026,
          10415710.855573945,
          -2681564.891117189,
          -5016200.377687264,
          4307594.978467278,
          -10904141.134674557,
          -33333608.554256216,
          24015492.626115374,
          25388942.852580182,
          2175107.383352574,
          -2330370.0808148086,
          -46267014.41580096,
          -4592925.528876055,
          12938385.048409872,
          -1201889.5044592544,
          66156772.15928126
         ],
         "yaxis": "y"
        },
        {
         "hovertemplate": "<b>%{hovertext}</b><br><br>creative_type=Contemporary Fiction<br>predicted=%{x}<br>residual=%{y}<extra></extra>",
         "hovertext": [
          "80 for Brady",
          "Knock at the Cabin",
          "Creed III",
          "Operation Fortune: Ruse de guerre",
          "Scream VI",
          "John Wick: Chapter 4",
          "Renfield",
          "Beau is Afraid",
          "Fast X",
          "The Machine",
          "No Hard Feelings",
          "Insidious: The Red Door",
          "Barbie",
          "Talk To Me",
          "Haunted Mansion",
          "Strays",
          "Expend4bles",
          "Saw X",
          "The Exorcist: Believer",
          "Five Nights at Freddy’s",
          "Thanksgiving",
          "American Fiction",
          "Anyone But You",
          "Mean Girls",
          "Argylle",
          "Imaginary",
          "Abigail",
          "Challengers",
          "The Fall Guy",
          "Tarot",
          "The Strangers: Chapter 1",
          "Bad Boys: Ride or Die",
          "Twisters",
          "It Ends With Us",
          "Speak No Evil"
         ],
         "legendgroup": "Contemporary Fiction",
         "marker": {
          "color": "#EF553B",
          "symbol": "circle"
         },
         "mode": "markers",
         "name": "Contemporary Fiction",
         "orientation": "v",
         "showlegend": true,
         "type": "scatter",
         "x": [
          6050211.978349268,
          15515956.406546429,
          41441053.88242859,
          13216176.932191942,
          28267625.484953962,
          94210627.18849528,
          21221046.021484878,
          11095050.867625723,
          92785061.8463326,
          6295250.265023005,
          9316864.360161254,
          19499925.584721718,
          154833149.1231974,
          11926245.546999866,
          15125121.713835547,
          12113262.025845012,
          21025221.381191432,
          19623476.78970797,
          22823594.348178986,
          24989865.596859165,
          20209565.24586731,
          6639425.802029072,
          8749566.80525272,
          12215210.205716968,
          22023436.141667552,
          9724399.354931291,
          9726176.518866114,
          16123238.148129413,
          29831473.563312072,
          7357266.958415962,
          13844990.52373173,
          23357711.69531239,
          56626007.51207826,
          11993327.556070346,
          11944964.119261302
         ],
         "xaxis": "x",
         "y": [
          6651428.021650732,
          -1388786.4065464288,
          16928953.117571414,
          -10075962.932191942,
          16179644.515046038,
          -20392677.18849528,
          -13194571.021484878,
          -8433093.867625723,
          -25767651.846332595,
          -1294705.2650230052,
          5685905.639838746,
          13513110.415278282,
          7188894.8768025935,
          -1494525.5469998661,
          8957353.286164453,
          -3865452.0258450117,
          -12986200.381191432,
          -1314175.7897079699,
          3674005.6518210135,
          55011854.403140835,
          -9903293.245867308,
          -4884061.802029072,
          -2749222.8052527197,
          16420096.794283032,
          -4549896.141667552,
          188313.6450687088,
          570933.4811338857,
          -1112177.148129413,
          -2084438.5633120723,
          -854254.9584159618,
          -2019932.5237317309,
          33169612.30468761,
          24625407.487921737,
          38023324.44392966,
          -547369.119261302
         ],
         "yaxis": "y"
        },
        {
         "hovertemplate": "<b>%{hovertext}</b><br><br>creative_type=Super Hero<br>predicted=%{x}<br>residual=%{y}<extra></extra>",
         "hovertext": [
          "Ant-Man and the Wasp: Quantumania",
          "Shazam! Fury of the Gods",
          "Guardians of the Galaxy Vol 3",
          "Spider-Man: Across the Spider-Verse",
          "The Flash",
          "Teenage Mutant Ninja Turtles: Mutant Mayhem",
          "Blue Beetle",
          "The Marvels",
          "Aquaman and the Lost Kingdom",
          "Madame Web",
          "Deadpool & Wolverine",
          "The Crow"
         ],
         "legendgroup": "Super Hero",
         "marker": {
          "color": "#00cc96",
          "symbol": "circle"
         },
         "mode": "markers",
         "name": "Super Hero",
         "orientation": "v",
         "showlegend": true,
         "type": "scatter",
         "x": [
          64056540.119816296,
          37232929.795285225,
          81582291.96634309,
          101450212.44240896,
          86888257.57926045,
          36662674.51688203,
          48008666.94904407,
          60597154.51363633,
          29478232.09341564,
          23154629.74174435,
          94222389.1678014,
          9442240.289049717
         ],
         "xaxis": "x",
         "y": [
          42053109.880183704,
          -7121771.795285225,
          36831729.03365691,
          19213376.557591036,
          -31844578.579260454,
          -8655130.516882032,
          -22978441.94904407,
          -14486295.513636328,
          -1792021.0934156403,
          -7818769.741744351,
          117212901.8321986,
          -4797574.289049717
         ],
         "yaxis": "y"
        },
        {
         "hovertemplate": "<b>%{hovertext}</b><br><br>creative_type=Dramatization<br>predicted=%{x}<br>residual=%{y}<extra></extra>",
         "hovertext": [
          "Jesus Revolution",
          "His Only Son",
          "The Pope’s Exorcist",
          "Big George Foreman: The Miraculous Story of the Once and Future Heavyweight Champion of the World",
          "Sound of Freedom",
          "Oppenheimer",
          "Dumb Money",
          "Priscilla",
          "Journey to Bethlehem",
          "Next Goal Wins",
          "Napoleon",
          "The Iron Claw",
          "Ferrari",
          "Cabrini",
          "Arthur the King",
          "Unsung Hero",
          "Sound of Hope: The Story of Possum Trot",
          "Reagan"
         ],
         "legendgroup": "Dramatization",
         "marker": {
          "color": "#ab63fa",
          "symbol": "circle"
         },
         "mode": "markers",
         "name": "Dramatization",
         "orientation": "v",
         "showlegend": true,
         "type": "scatter",
         "x": [
          9509711.200724516,
          2573856.398742149,
          10623472.682070957,
          9047264.057683641,
          8069617.221131926,
          136152823.05589437,
          10146926.304503705,
          7876097.407160664,
          5467251.5998033965,
          5902034.612863773,
          35762208.23728736,
          9955442.852488192,
          14421807.591450114,
          8463087.527996562,
          7936435.361991215,
          3578215.4845619425,
          6242495.720451408,
          3722131.699703702
         ],
         "xaxis": "x",
         "y": [
          6372355.799275484,
          2927213.601257851,
          -1617104.6820709575,
          -6121900.057683641,
          11611261.778868074,
          -53697403.055894375,
          -6821422.304503705,
          -2836094.407160664,
          -3066805.5998033965,
          -3401739.6128637725,
          -15123321.237287357,
          -5087072.852488192,
          -10500034.591450114,
          -1294567.5279965624,
          -302537.36199121457,
          4153323.5154380575,
          -3163737.720451408,
          3928588.300296298
         ],
         "yaxis": "y"
        },
        {
         "hovertemplate": "<b>%{hovertext}</b><br><br>creative_type=Fantasy<br>predicted=%{x}<br>residual=%{y}<extra></extra>",
         "hovertext": [
          "Dungeons & Dragons: Honor Among Thieves"
         ],
         "legendgroup": "Fantasy",
         "marker": {
          "color": "#FFA15A",
          "symbol": "circle"
         },
         "mode": "markers",
         "name": "Fantasy",
         "orientation": "v",
         "showlegend": true,
         "type": "scatter",
         "x": [
          21920121.854214724
         ],
         "xaxis": "x",
         "y": [
          15285662.145785276
         ],
         "yaxis": "y"
        },
        {
         "hovertemplate": "<b>%{hovertext}</b><br><br>creative_type=Kids Fiction<br>predicted=%{x}<br>residual=%{y}<extra></extra>",
         "hovertext": [
          "The Super Mario Bros. Movie",
          "The Little Mermaid",
          "Elemental",
          "Ruby Gillman, Teenage Kraken",
          "PAW Patrol: The Mighty Movie",
          "Trolls Band Together",
          "Wish",
          "Wonka",
          "Migration",
          "Kung Fu Panda 4",
          "IF",
          "The Garfield Movie",
          "Inside Out 2",
          "Despicable Me 4",
          "Harold and the Purple Crayon"
         ],
         "legendgroup": "Kids Fiction",
         "marker": {
          "color": "#19d3f3",
          "symbol": "circle"
         },
         "mode": "markers",
         "name": "Kids Fiction",
         "orientation": "v",
         "showlegend": true,
         "type": "scatter",
         "x": [
          40749219.38256518,
          66817178.23069827,
          28238745.50236028,
          14290326.168043463,
          20463048.04147853,
          28432453.231570434,
          20515835.520149212,
          62279945.94254759,
          18005772.50040088,
          35439555.5929797,
          18555971.36320782,
          19710181.03224066,
          85185387.65104443,
          36696067.82598653,
          10931473.576664964
         ],
         "xaxis": "x",
         "y": [
          105612645.61743483,
          28760861.769301727,
          1363683.4976397194,
          -8789336.168043463,
          2301305.9585214704,
          1570071.7684295662,
          -817607.5201492123,
          -23274145.94254759,
          -5552497.5004008785,
          22550349.4070203,
          15159829.63679218,
          4296447.967759341,
          69016285.34895557,
          38313142.17401347,
          -4928276.576664964
         ],
         "yaxis": "y"
        },
        {
         "hovertemplate": "<b>%{hovertext}</b><br><br>creative_type=Historical Fiction<br>predicted=%{x}<br>residual=%{y}<extra></extra>",
         "hovertext": [
          "Are You There God? It’s Me, Margaret",
          "Indiana Jones and the Dial of Destiny",
          "The Last Voyage of the Demeter",
          "Killers of the Flower Moon",
          "Horizon: An American Saga Chapter 1",
          "Fly Me to the Moon"
         ],
         "legendgroup": "Historical Fiction",
         "marker": {
          "color": "#FF6692",
          "symbol": "circle"
         },
         "mode": "markers",
         "name": "Historical Fiction",
         "orientation": "v",
         "showlegend": true,
         "type": "scatter",
         "x": [
          10609214.61093021,
          71814530.09523599,
          13212467.608546192,
          49851782.40518751,
          10142751.79490009,
          10416727.48149661
         ],
         "xaxis": "x",
         "y": [
          -3870177.61093021,
          -11446429.095235988,
          -6707517.608546192,
          -26598127.40518751,
          909809.2050999105,
          -990112.4814966097
         ],
         "yaxis": "y"
        },
        {
         "mode": "lines",
         "name": "y=0",
         "type": "scatter",
         "x": [
          25090085.014847554,
          6050211.978349268,
          15515956.406546429,
          64056540.119816296,
          9509711.200724516,
          41441053.88242859,
          13216176.932191942,
          28267625.484953962,
          13696670.383877026,
          37232929.795285225,
          94210627.18849528,
          21920121.854214724,
          2573856.398742149,
          40749219.38256518,
          21221046.021484878,
          10623472.682070957,
          11095050.867625723,
          9047264.057683641,
          10609214.61093021,
          81582291.96634309,
          92785061.8463326,
          66817178.23069827,
          6295250.265023005,
          101450212.44240896,
          50629753.144426055,
          86888257.57926045,
          28238745.50236028,
          9316864.360161254,
          14290326.168043463,
          71814530.09523599,
          8069617.221131926,
          19499925.584721718,
          136152823.05589437,
          154833149.1231974,
          11926245.546999866,
          15125121.713835547,
          36662674.51688203,
          32684299.89111719,
          13212467.608546192,
          48008666.94904407,
          12113262.025845012,
          10146926.304503705,
          21025221.381191432,
          19095712.377687264,
          19623476.78970797,
          20463048.04147853,
          22823594.348178986,
          49851782.40518751,
          7876097.407160664,
          24989865.596859165,
          5467251.5998033965,
          60597154.51363633,
          5902034.612863773,
          40299548.02153272,
          20209565.24586731,
          28432453.231570434,
          20515835.520149212,
          35762208.23728736,
          22324116.134674557,
          6639425.802029072,
          62279945.94254759,
          18005772.50040088,
          9955442.852488192,
          29478232.09341564,
          8749566.80525272,
          14421807.591450114,
          12215210.205716968,
          22023436.141667552,
          23154629.74174435,
          115838999.55425622,
          35439555.5929797,
          9724399.354931291,
          8463087.527996562,
          7936435.361991215,
          20989180.373884626,
          54617618.14741982,
          23362260.616647426,
          9726176.518866114,
          16123238.148129413,
          3578215.4845619425,
          29831473.563312072,
          7357266.958415962,
          60731158.08081481,
          18555971.36320782,
          13844990.52373173,
          72593476.41580096,
          19710181.03224066,
          11596462.528876055,
          23357711.69531239,
          85185387.65104443,
          39264109.95159013,
          10142751.79490009,
          36696067.82598653,
          6242495.720451408,
          10416727.48149661,
          56626007.51207826,
          94222389.1678014,
          10931473.576664964,
          11993327.556070346,
          43205250.504459254,
          9442240.289049717,
          3722131.699703702,
          44846572.84071874,
          11944964.119261302
         ],
         "y": [
          0,
          0,
          0,
          0,
          0,
          0,
          0,
          0,
          0,
          0,
          0,
          0,
          0,
          0,
          0,
          0,
          0,
          0,
          0,
          0,
          0,
          0,
          0,
          0,
          0,
          0,
          0,
          0,
          0,
          0,
          0,
          0,
          0,
          0,
          0,
          0,
          0,
          0,
          0,
          0,
          0,
          0,
          0,
          0,
          0,
          0,
          0,
          0,
          0,
          0,
          0,
          0,
          0,
          0,
          0,
          0,
          0,
          0,
          0,
          0,
          0,
          0,
          0,
          0,
          0,
          0,
          0,
          0,
          0,
          0,
          0,
          0,
          0,
          0,
          0,
          0,
          0,
          0,
          0,
          0,
          0,
          0,
          0,
          0,
          0,
          0,
          0,
          0,
          0,
          0,
          0,
          0,
          0,
          0,
          0,
          0,
          0,
          0,
          0,
          0,
          0,
          0,
          0,
          0
         ]
        }
       ],
       "layout": {
        "legend": {
         "title": {
          "text": "creative_type"
         },
         "tracegroupgap": 0
        },
        "margin": {
         "t": 60
        },
        "template": {
         "data": {
          "bar": [
           {
            "error_x": {
             "color": "#2a3f5f"
            },
            "error_y": {
             "color": "#2a3f5f"
            },
            "marker": {
             "line": {
              "color": "#E5ECF6",
              "width": 0.5
             },
             "pattern": {
              "fillmode": "overlay",
              "size": 10,
              "solidity": 0.2
             }
            },
            "type": "bar"
           }
          ],
          "barpolar": [
           {
            "marker": {
             "line": {
              "color": "#E5ECF6",
              "width": 0.5
             },
             "pattern": {
              "fillmode": "overlay",
              "size": 10,
              "solidity": 0.2
             }
            },
            "type": "barpolar"
           }
          ],
          "carpet": [
           {
            "aaxis": {
             "endlinecolor": "#2a3f5f",
             "gridcolor": "white",
             "linecolor": "white",
             "minorgridcolor": "white",
             "startlinecolor": "#2a3f5f"
            },
            "baxis": {
             "endlinecolor": "#2a3f5f",
             "gridcolor": "white",
             "linecolor": "white",
             "minorgridcolor": "white",
             "startlinecolor": "#2a3f5f"
            },
            "type": "carpet"
           }
          ],
          "choropleth": [
           {
            "colorbar": {
             "outlinewidth": 0,
             "ticks": ""
            },
            "type": "choropleth"
           }
          ],
          "contour": [
           {
            "colorbar": {
             "outlinewidth": 0,
             "ticks": ""
            },
            "colorscale": [
             [
              0,
              "#0d0887"
             ],
             [
              0.1111111111111111,
              "#46039f"
             ],
             [
              0.2222222222222222,
              "#7201a8"
             ],
             [
              0.3333333333333333,
              "#9c179e"
             ],
             [
              0.4444444444444444,
              "#bd3786"
             ],
             [
              0.5555555555555556,
              "#d8576b"
             ],
             [
              0.6666666666666666,
              "#ed7953"
             ],
             [
              0.7777777777777778,
              "#fb9f3a"
             ],
             [
              0.8888888888888888,
              "#fdca26"
             ],
             [
              1,
              "#f0f921"
             ]
            ],
            "type": "contour"
           }
          ],
          "contourcarpet": [
           {
            "colorbar": {
             "outlinewidth": 0,
             "ticks": ""
            },
            "type": "contourcarpet"
           }
          ],
          "heatmap": [
           {
            "colorbar": {
             "outlinewidth": 0,
             "ticks": ""
            },
            "colorscale": [
             [
              0,
              "#0d0887"
             ],
             [
              0.1111111111111111,
              "#46039f"
             ],
             [
              0.2222222222222222,
              "#7201a8"
             ],
             [
              0.3333333333333333,
              "#9c179e"
             ],
             [
              0.4444444444444444,
              "#bd3786"
             ],
             [
              0.5555555555555556,
              "#d8576b"
             ],
             [
              0.6666666666666666,
              "#ed7953"
             ],
             [
              0.7777777777777778,
              "#fb9f3a"
             ],
             [
              0.8888888888888888,
              "#fdca26"
             ],
             [
              1,
              "#f0f921"
             ]
            ],
            "type": "heatmap"
           }
          ],
          "heatmapgl": [
           {
            "colorbar": {
             "outlinewidth": 0,
             "ticks": ""
            },
            "colorscale": [
             [
              0,
              "#0d0887"
             ],
             [
              0.1111111111111111,
              "#46039f"
             ],
             [
              0.2222222222222222,
              "#7201a8"
             ],
             [
              0.3333333333333333,
              "#9c179e"
             ],
             [
              0.4444444444444444,
              "#bd3786"
             ],
             [
              0.5555555555555556,
              "#d8576b"
             ],
             [
              0.6666666666666666,
              "#ed7953"
             ],
             [
              0.7777777777777778,
              "#fb9f3a"
             ],
             [
              0.8888888888888888,
              "#fdca26"
             ],
             [
              1,
              "#f0f921"
             ]
            ],
            "type": "heatmapgl"
           }
          ],
          "histogram": [
           {
            "marker": {
             "pattern": {
              "fillmode": "overlay",
              "size": 10,
              "solidity": 0.2
             }
            },
            "type": "histogram"
           }
          ],
          "histogram2d": [
           {
            "colorbar": {
             "outlinewidth": 0,
             "ticks": ""
            },
            "colorscale": [
             [
              0,
              "#0d0887"
             ],
             [
              0.1111111111111111,
              "#46039f"
             ],
             [
              0.2222222222222222,
              "#7201a8"
             ],
             [
              0.3333333333333333,
              "#9c179e"
             ],
             [
              0.4444444444444444,
              "#bd3786"
             ],
             [
              0.5555555555555556,
              "#d8576b"
             ],
             [
              0.6666666666666666,
              "#ed7953"
             ],
             [
              0.7777777777777778,
              "#fb9f3a"
             ],
             [
              0.8888888888888888,
              "#fdca26"
             ],
             [
              1,
              "#f0f921"
             ]
            ],
            "type": "histogram2d"
           }
          ],
          "histogram2dcontour": [
           {
            "colorbar": {
             "outlinewidth": 0,
             "ticks": ""
            },
            "colorscale": [
             [
              0,
              "#0d0887"
             ],
             [
              0.1111111111111111,
              "#46039f"
             ],
             [
              0.2222222222222222,
              "#7201a8"
             ],
             [
              0.3333333333333333,
              "#9c179e"
             ],
             [
              0.4444444444444444,
              "#bd3786"
             ],
             [
              0.5555555555555556,
              "#d8576b"
             ],
             [
              0.6666666666666666,
              "#ed7953"
             ],
             [
              0.7777777777777778,
              "#fb9f3a"
             ],
             [
              0.8888888888888888,
              "#fdca26"
             ],
             [
              1,
              "#f0f921"
             ]
            ],
            "type": "histogram2dcontour"
           }
          ],
          "mesh3d": [
           {
            "colorbar": {
             "outlinewidth": 0,
             "ticks": ""
            },
            "type": "mesh3d"
           }
          ],
          "parcoords": [
           {
            "line": {
             "colorbar": {
              "outlinewidth": 0,
              "ticks": ""
             }
            },
            "type": "parcoords"
           }
          ],
          "pie": [
           {
            "automargin": true,
            "type": "pie"
           }
          ],
          "scatter": [
           {
            "fillpattern": {
             "fillmode": "overlay",
             "size": 10,
             "solidity": 0.2
            },
            "type": "scatter"
           }
          ],
          "scatter3d": [
           {
            "line": {
             "colorbar": {
              "outlinewidth": 0,
              "ticks": ""
             }
            },
            "marker": {
             "colorbar": {
              "outlinewidth": 0,
              "ticks": ""
             }
            },
            "type": "scatter3d"
           }
          ],
          "scattercarpet": [
           {
            "marker": {
             "colorbar": {
              "outlinewidth": 0,
              "ticks": ""
             }
            },
            "type": "scattercarpet"
           }
          ],
          "scattergeo": [
           {
            "marker": {
             "colorbar": {
              "outlinewidth": 0,
              "ticks": ""
             }
            },
            "type": "scattergeo"
           }
          ],
          "scattergl": [
           {
            "marker": {
             "colorbar": {
              "outlinewidth": 0,
              "ticks": ""
             }
            },
            "type": "scattergl"
           }
          ],
          "scattermapbox": [
           {
            "marker": {
             "colorbar": {
              "outlinewidth": 0,
              "ticks": ""
             }
            },
            "type": "scattermapbox"
           }
          ],
          "scatterpolar": [
           {
            "marker": {
             "colorbar": {
              "outlinewidth": 0,
              "ticks": ""
             }
            },
            "type": "scatterpolar"
           }
          ],
          "scatterpolargl": [
           {
            "marker": {
             "colorbar": {
              "outlinewidth": 0,
              "ticks": ""
             }
            },
            "type": "scatterpolargl"
           }
          ],
          "scatterternary": [
           {
            "marker": {
             "colorbar": {
              "outlinewidth": 0,
              "ticks": ""
             }
            },
            "type": "scatterternary"
           }
          ],
          "surface": [
           {
            "colorbar": {
             "outlinewidth": 0,
             "ticks": ""
            },
            "colorscale": [
             [
              0,
              "#0d0887"
             ],
             [
              0.1111111111111111,
              "#46039f"
             ],
             [
              0.2222222222222222,
              "#7201a8"
             ],
             [
              0.3333333333333333,
              "#9c179e"
             ],
             [
              0.4444444444444444,
              "#bd3786"
             ],
             [
              0.5555555555555556,
              "#d8576b"
             ],
             [
              0.6666666666666666,
              "#ed7953"
             ],
             [
              0.7777777777777778,
              "#fb9f3a"
             ],
             [
              0.8888888888888888,
              "#fdca26"
             ],
             [
              1,
              "#f0f921"
             ]
            ],
            "type": "surface"
           }
          ],
          "table": [
           {
            "cells": {
             "fill": {
              "color": "#EBF0F8"
             },
             "line": {
              "color": "white"
             }
            },
            "header": {
             "fill": {
              "color": "#C8D4E3"
             },
             "line": {
              "color": "white"
             }
            },
            "type": "table"
           }
          ]
         },
         "layout": {
          "annotationdefaults": {
           "arrowcolor": "#2a3f5f",
           "arrowhead": 0,
           "arrowwidth": 1
          },
          "autotypenumbers": "strict",
          "coloraxis": {
           "colorbar": {
            "outlinewidth": 0,
            "ticks": ""
           }
          },
          "colorscale": {
           "diverging": [
            [
             0,
             "#8e0152"
            ],
            [
             0.1,
             "#c51b7d"
            ],
            [
             0.2,
             "#de77ae"
            ],
            [
             0.3,
             "#f1b6da"
            ],
            [
             0.4,
             "#fde0ef"
            ],
            [
             0.5,
             "#f7f7f7"
            ],
            [
             0.6,
             "#e6f5d0"
            ],
            [
             0.7,
             "#b8e186"
            ],
            [
             0.8,
             "#7fbc41"
            ],
            [
             0.9,
             "#4d9221"
            ],
            [
             1,
             "#276419"
            ]
           ],
           "sequential": [
            [
             0,
             "#0d0887"
            ],
            [
             0.1111111111111111,
             "#46039f"
            ],
            [
             0.2222222222222222,
             "#7201a8"
            ],
            [
             0.3333333333333333,
             "#9c179e"
            ],
            [
             0.4444444444444444,
             "#bd3786"
            ],
            [
             0.5555555555555556,
             "#d8576b"
            ],
            [
             0.6666666666666666,
             "#ed7953"
            ],
            [
             0.7777777777777778,
             "#fb9f3a"
            ],
            [
             0.8888888888888888,
             "#fdca26"
            ],
            [
             1,
             "#f0f921"
            ]
           ],
           "sequentialminus": [
            [
             0,
             "#0d0887"
            ],
            [
             0.1111111111111111,
             "#46039f"
            ],
            [
             0.2222222222222222,
             "#7201a8"
            ],
            [
             0.3333333333333333,
             "#9c179e"
            ],
            [
             0.4444444444444444,
             "#bd3786"
            ],
            [
             0.5555555555555556,
             "#d8576b"
            ],
            [
             0.6666666666666666,
             "#ed7953"
            ],
            [
             0.7777777777777778,
             "#fb9f3a"
            ],
            [
             0.8888888888888888,
             "#fdca26"
            ],
            [
             1,
             "#f0f921"
            ]
           ]
          },
          "colorway": [
           "#636efa",
           "#EF553B",
           "#00cc96",
           "#ab63fa",
           "#FFA15A",
           "#19d3f3",
           "#FF6692",
           "#B6E880",
           "#FF97FF",
           "#FECB52"
          ],
          "font": {
           "color": "#2a3f5f"
          },
          "geo": {
           "bgcolor": "white",
           "lakecolor": "white",
           "landcolor": "#E5ECF6",
           "showlakes": true,
           "showland": true,
           "subunitcolor": "white"
          },
          "hoverlabel": {
           "align": "left"
          },
          "hovermode": "closest",
          "mapbox": {
           "style": "light"
          },
          "paper_bgcolor": "white",
          "plot_bgcolor": "#E5ECF6",
          "polar": {
           "angularaxis": {
            "gridcolor": "white",
            "linecolor": "white",
            "ticks": ""
           },
           "bgcolor": "#E5ECF6",
           "radialaxis": {
            "gridcolor": "white",
            "linecolor": "white",
            "ticks": ""
           }
          },
          "scene": {
           "xaxis": {
            "backgroundcolor": "#E5ECF6",
            "gridcolor": "white",
            "gridwidth": 2,
            "linecolor": "white",
            "showbackground": true,
            "ticks": "",
            "zerolinecolor": "white"
           },
           "yaxis": {
            "backgroundcolor": "#E5ECF6",
            "gridcolor": "white",
            "gridwidth": 2,
            "linecolor": "white",
            "showbackground": true,
            "ticks": "",
            "zerolinecolor": "white"
           },
           "zaxis": {
            "backgroundcolor": "#E5ECF6",
            "gridcolor": "white",
            "gridwidth": 2,
            "linecolor": "white",
            "showbackground": true,
            "ticks": "",
            "zerolinecolor": "white"
           }
          },
          "shapedefaults": {
           "line": {
            "color": "#2a3f5f"
           }
          },
          "ternary": {
           "aaxis": {
            "gridcolor": "white",
            "linecolor": "white",
            "ticks": ""
           },
           "baxis": {
            "gridcolor": "white",
            "linecolor": "white",
            "ticks": ""
           },
           "bgcolor": "#E5ECF6",
           "caxis": {
            "gridcolor": "white",
            "linecolor": "white",
            "ticks": ""
           }
          },
          "title": {
           "x": 0.05
          },
          "xaxis": {
           "automargin": true,
           "gridcolor": "white",
           "linecolor": "white",
           "ticks": "",
           "title": {
            "standoff": 15
           },
           "zerolinecolor": "white",
           "zerolinewidth": 2
          },
          "yaxis": {
           "automargin": true,
           "gridcolor": "white",
           "linecolor": "white",
           "ticks": "",
           "title": {
            "standoff": 15
           },
           "zerolinecolor": "white",
           "zerolinewidth": 2
          }
         }
        },
        "title": {
         "text": "Residuals vs Predicted Opening Weekend Revenue"
        },
        "xaxis": {
         "anchor": "y",
         "domain": [
          0,
          1
         ],
         "title": {
          "text": "Predicted"
         }
        },
        "yaxis": {
         "anchor": "x",
         "domain": [
          0,
          1
         ],
         "title": {
          "text": "Residual"
         }
        }
       }
      }
     },
     "metadata": {},
     "output_type": "display_data"
    }
   ],
   "source": [
    "# plot residuals\n",
    "results_df[\"residual\"] = results_df[\"actual\"] - results_df[\"predicted\"]\n",
    "\n",
    "fig2 = px.scatter(results_df, x=\"predicted\", y=\"residual\", hover_name=\"title\", color=\"creative_type\")\n",
    "fig2.add_trace(go.Scatter(x=results_df[\"predicted\"], y=[0] * len(results_df), mode=\"lines\", name=\"y=0\"))\n",
    "fig2.update_layout(title=\"Residuals vs Predicted Opening Weekend Revenue\", xaxis_title=\"Predicted\", yaxis_title=\"Residual\")"
   ]
  },
  {
   "cell_type": "code",
   "execution_count": null,
   "metadata": {},
   "outputs": [
    {
     "data": {
      "application/vnd.plotly.v1+json": {
       "config": {
        "plotlyServerURL": "https://plot.ly"
       },
       "data": [
        {
         "hovertemplate": "<b>%{hovertext}</b><br><br>creative_type=Science Fiction<br>Predicted Opening Weekend Revenue=%{x}<br>Residual Percent Difference=%{y}<extra></extra>",
         "hovertext": [
          "M3GAN",
          "65",
          "Transformers: Rise of the Beasts",
          "Meg 2: The Trench",
          "The Creator",
          "The Hunger Games: The Ballad of Songbirds & Snakes",
          "Godzilla Minus One (ゴジラ最新作)",
          "Dune: Part Two",
          "Ghostbusters: Frozen Empire",
          "Godzilla x Kong: The New Empire",
          "Civil War",
          "Kingdom of the Planet of the Apes",
          "Furiosa: A Mad Max Saga",
          "The Watchers",
          "A Quiet Place: Day One",
          "Alien: Romulus",
          "Beetlejuice Beetlejuice"
         ],
         "legendgroup": "Science Fiction",
         "marker": {
          "color": "#636efa",
          "symbol": "circle"
         },
         "mode": "markers",
         "name": "Science Fiction",
         "orientation": "v",
         "showlegend": true,
         "type": "scatter",
         "x": [
          26236585.93541573,
          14373389.103787621,
          54099415.94687524,
          34026931.01231033,
          20221602.139444754,
          42736122.70948266,
          23581440.969915733,
          116708971.35892521,
          22698229.931195527,
          58184671.39383396,
          23038701.350283615,
          64394017.42495332,
          74751125.61758831,
          12161675.749582147,
          40187823.34180504,
          46292613.62344774,
          47666227.37710783
         ],
         "xaxis": "x",
         "y": [
          0.1479984846539858,
          -0.15317558555815677,
          0.12064883920725755,
          -0.12569786047413217,
          -0.35812773395495184,
          0.042842920408784416,
          -0.6949127989775444,
          -0.3433846832519083,
          0.6589508603929097,
          0.3158216223729072,
          0.10287644443598012,
          -0.09761372892302211,
          -0.9581681707876857,
          -0.5382813973400434,
          0.2600850797752588,
          -0.09715624391123015,
          0.7983524083919468
         ],
         "yaxis": "y"
        },
        {
         "hovertemplate": "<b>%{hovertext}</b><br><br>creative_type=Contemporary Fiction<br>Predicted Opening Weekend Revenue=%{x}<br>Residual Percent Difference=%{y}<extra></extra>",
         "hovertext": [
          "80 for Brady",
          "Knock at the Cabin",
          "Creed III",
          "Operation Fortune: Ruse de guerre",
          "Scream VI",
          "John Wick: Chapter 4",
          "Renfield",
          "Beau is Afraid",
          "Fast X",
          "The Machine",
          "No Hard Feelings",
          "Insidious: The Red Door",
          "Barbie",
          "Talk To Me",
          "Haunted Mansion",
          "Strays",
          "Expend4bles",
          "Saw X",
          "The Exorcist: Believer",
          "Five Nights at Freddy’s",
          "Thanksgiving",
          "American Fiction",
          "Anyone But You",
          "Mean Girls",
          "Argylle",
          "Imaginary",
          "Abigail",
          "Challengers",
          "The Fall Guy",
          "Tarot",
          "The Strangers: Chapter 1",
          "Bad Boys: Ride or Die",
          "Twisters",
          "It Ends With Us",
          "Speak No Evil"
         ],
         "legendgroup": "Contemporary Fiction",
         "marker": {
          "color": "#EF553B",
          "symbol": "circle"
         },
         "mode": "markers",
         "name": "Contemporary Fiction",
         "orientation": "v",
         "showlegend": true,
         "type": "scatter",
         "x": [
          6422733.1704466855,
          16765777.127447976,
          42950630.97318571,
          13497662.372976206,
          30523782.4503343,
          95876579.35291637,
          21287317.27215566,
          11028403.47143695,
          95555538.17890815,
          6325003.673212466,
          10283925.61989585,
          20023637.315028414,
          145195998.7448632,
          12565003.894696847,
          15490161.511755249,
          11756790.848543419,
          22328602.537621856,
          20988955.19528106,
          24045999.480958827,
          27739311.7730552,
          20906214.619183257,
          6324122.423621343,
          8689799.596583184,
          13165420.914145252,
          23889185.902636573,
          9667637.299044643,
          10537739.049559627,
          17366364.066251796,
          31059706.724426843,
          7177018.161082952,
          13575924.205755107,
          23852128.66926807,
          59162528.06374205,
          12304853.540842697,
          12802639.733410396
         ],
         "xaxis": "x",
         "y": [
          0.6566392292800736,
          -0.17082262281824243,
          0.3043679221778093,
          -1.245044516594572,
          0.37143636362553467,
          -0.2599804417623941,
          -0.904751057047761,
          -1.2222390329155155,
          -0.3510808962817422,
          -0.2338886550097332,
          0.37322744347753467,
          0.4898270526062925,
          0.10953813197169797,
          -0.1855293740504309,
          0.4342552958629563,
          -0.35081738197229917,
          -0.9411063410950661,
          -0.13637522143299743,
          0.09700933626481267,
          0.9701486493470733,
          -0.6792116724637063,
          -1.1309526828992578,
          -0.3661578362254717,
          0.740173047590388,
          -0.31021388279574785,
          0.025032820885468536,
          -0.0230987082255547,
          -0.1454904496841422,
          -0.11266299159883034,
          -0.09853869518509832,
          -0.13785814985992256,
          0.8130235836558469,
          0.3146252637635925,
          1.2102338713381273,
          -0.11611827313977388
         ],
         "yaxis": "y"
        },
        {
         "hovertemplate": "<b>%{hovertext}</b><br><br>creative_type=Super Hero<br>Predicted Opening Weekend Revenue=%{x}<br>Residual Percent Difference=%{y}<extra></extra>",
         "hovertext": [
          "Ant-Man and the Wasp: Quantumania",
          "Shazam! Fury of the Gods",
          "Guardians of the Galaxy Vol 3",
          "Spider-Man: Across the Spider-Verse",
          "The Flash",
          "Teenage Mutant Ninja Turtles: Mutant Mayhem",
          "Blue Beetle",
          "The Marvels",
          "Aquaman and the Lost Kingdom",
          "Madame Web",
          "Deadpool & Wolverine",
          "The Crow"
         ],
         "legendgroup": "Super Hero",
         "marker": {
          "color": "#00cc96",
          "symbol": "circle"
         },
         "mode": "markers",
         "name": "Super Hero",
         "orientation": "v",
         "showlegend": true,
         "type": "scatter",
         "x": [
          67389376.94481349,
          39298876.09416854,
          84861621.77449971,
          103176367.83388165,
          88573540.28166726,
          37216188.114408,
          50469888.065682255,
          64281094.24053897,
          32720744.294705577,
          25865375.621750396,
          95048845.10309525,
          9763522.516511014
         ],
         "xaxis": "x",
         "y": [
          0.44634570852668404,
          -0.26473746091821726,
          0.33011726114890266,
          0.1562475387635653,
          -0.46693372075262496,
          -0.2823709657783842,
          -0.673897350154978,
          -0.3291949224042964,
          -0.1666872058074688,
          -0.5111262059428041,
          0.7594940956928005,
          -0.7105482428474722
         ],
         "yaxis": "y"
        },
        {
         "hovertemplate": "<b>%{hovertext}</b><br><br>creative_type=Dramatization<br>Predicted Opening Weekend Revenue=%{x}<br>Residual Percent Difference=%{y}<extra></extra>",
         "hovertext": [
          "Jesus Revolution",
          "His Only Son",
          "The Pope’s Exorcist",
          "Big George Foreman: The Miraculous Story of the Once and Future Heavyweight Champion of the World",
          "Sound of Freedom",
          "Oppenheimer",
          "Dumb Money",
          "Priscilla",
          "Journey to Bethlehem",
          "Next Goal Wins",
          "Napoleon",
          "The Iron Claw",
          "Ferrari",
          "Cabrini",
          "Arthur the King",
          "Unsung Hero",
          "Sound of Hope: The Story of Possum Trot",
          "Reagan"
         ],
         "legendgroup": "Dramatization",
         "marker": {
          "color": "#ab63fa",
          "symbol": "circle"
         },
         "mode": "markers",
         "name": "Dramatization",
         "orientation": "v",
         "showlegend": true,
         "type": "scatter",
         "x": [
          8925662.936233941,
          2311563.880564579,
          11453796.784239957,
          8088573.473291833,
          8055374.083425307,
          94311856.07155183,
          9675615.215592181,
          7792902.373218103,
          4364322.624824912,
          5912601.650523667,
          37601365.252545185,
          10872226.677800955,
          14317092.080654884,
          6537479.234669684,
          7676052.00555147,
          3514094.74962411,
          5957755.879357651,
          4087012.8426147187
         ],
         "xaxis": "x",
         "y": [
          0.5608255234676349,
          0.816499574457195,
          -0.23923842354634028,
          -0.937577407863867,
          0.8382895037485716,
          -0.13414740935140715,
          -0.9768560860478108,
          -0.42903758629177197,
          -0.5806190082002226,
          -0.811208503390153,
          -0.5825001642847074,
          -0.762849947901686,
          -1.139908545261483,
          0.09208241654268903,
          -0.005506746336361017,
          0.7500589729799549,
          -0.6371921556905307,
          0.6072224006406034
         ],
         "yaxis": "y"
        },
        {
         "hovertemplate": "<b>%{hovertext}</b><br><br>creative_type=Fantasy<br>Predicted Opening Weekend Revenue=%{x}<br>Residual Percent Difference=%{y}<extra></extra>",
         "hovertext": [
          "Dungeons & Dragons: Honor Among Thieves"
         ],
         "legendgroup": "Fantasy",
         "marker": {
          "color": "#FFA15A",
          "symbol": "circle"
         },
         "mode": "markers",
         "name": "Fantasy",
         "orientation": "v",
         "showlegend": true,
         "type": "scatter",
         "x": [
          22527136.090250254
         ],
         "xaxis": "x",
         "y": [
          0.4914759863596767
         ],
         "yaxis": "y"
        },
        {
         "hovertemplate": "<b>%{hovertext}</b><br><br>creative_type=Kids Fiction<br>Predicted Opening Weekend Revenue=%{x}<br>Residual Percent Difference=%{y}<extra></extra>",
         "hovertext": [
          "The Super Mario Bros. Movie",
          "The Little Mermaid",
          "Elemental",
          "Ruby Gillman, Teenage Kraken",
          "PAW Patrol: The Mighty Movie",
          "Trolls Band Together",
          "Wish",
          "Wonka",
          "Migration",
          "Kung Fu Panda 4",
          "IF",
          "The Garfield Movie",
          "Inside Out 2",
          "Despicable Me 4",
          "Harold and the Purple Crayon"
         ],
         "legendgroup": "Kids Fiction",
         "marker": {
          "color": "#19d3f3",
          "symbol": "circle"
         },
         "mode": "markers",
         "name": "Kids Fiction",
         "orientation": "v",
         "showlegend": true,
         "type": "scatter",
         "x": [
          43933197.8149688,
          70400453.15478088,
          28507858.75362201,
          14539104.288083937,
          19378485.107157353,
          29855403.443408553,
          22080752.66610045,
          65525468.76637414,
          17860299.909161035,
          37554778.07193249,
          19406134.03553958,
          20908092.160563383,
          85808912.69860943,
          38435214.59431602,
          10222520.111300318
         ],
         "xaxis": "x",
         "y": [
          1.0765246945437206,
          0.3033837260076837,
          0.0376721674832789,
          -0.9020031700607417,
          0.16068537215697962,
          0.004915691552224047,
          -0.11405374799072755,
          -0.5074016431512989,
          -0.35673950864350107,
          0.42776063033633316,
          0.5387479561837114,
          0.13797422134091908,
          0.5699145319138049,
          0.6447914128257031,
          -0.520078475713322
         ],
         "yaxis": "y"
        },
        {
         "hovertemplate": "<b>%{hovertext}</b><br><br>creative_type=Historical Fiction<br>Predicted Opening Weekend Revenue=%{x}<br>Residual Percent Difference=%{y}<extra></extra>",
         "hovertext": [
          "Are You There God? It’s Me, Margaret",
          "Indiana Jones and the Dial of Destiny",
          "The Last Voyage of the Demeter",
          "Killers of the Flower Moon",
          "Horizon: An American Saga Chapter 1",
          "Fly Me to the Moon"
         ],
         "legendgroup": "Historical Fiction",
         "marker": {
          "color": "#FF6692",
          "symbol": "circle"
         },
         "mode": "markers",
         "name": "Historical Fiction",
         "orientation": "v",
         "showlegend": true,
         "type": "scatter",
         "x": [
          8722868.979078118,
          75436407.49401343,
          13621976.738303686,
          50485403.82505735,
          9125442.443180807,
          10906877.363451373
         ],
         "xaxis": "x",
         "y": [
          -0.2566089823288913,
          -0.22191172680659088,
          -0.707214452642611,
          -0.7385976783257694,
          0.191011817620684,
          -0.14559843798521147
         ],
         "yaxis": "y"
        },
        {
         "mode": "lines",
         "name": "y=0",
         "type": "scatter",
         "x": [
          26236585.93541573,
          6422733.1704466855,
          16765777.127447976,
          67389376.94481349,
          8925662.936233941,
          42950630.97318571,
          13497662.372976206,
          30523782.4503343,
          14373389.103787621,
          39298876.09416854,
          95876579.35291637,
          22527136.090250254,
          2311563.880564579,
          43933197.8149688,
          21287317.27215566,
          11453796.784239957,
          11028403.47143695,
          8088573.473291833,
          8722868.979078118,
          84861621.77449971,
          95555538.17890815,
          70400453.15478088,
          6325003.673212466,
          103176367.83388165,
          54099415.94687524,
          88573540.28166726,
          28507858.75362201,
          10283925.61989585,
          14539104.288083937,
          75436407.49401343,
          8055374.083425307,
          20023637.315028414,
          94311856.07155183,
          145195998.7448632,
          12565003.894696847,
          15490161.511755249,
          37216188.114408,
          34026931.01231033,
          13621976.738303686,
          50469888.065682255,
          11756790.848543419,
          9675615.215592181,
          22328602.537621856,
          20221602.139444754,
          20988955.19528106,
          19378485.107157353,
          24045999.480958827,
          50485403.82505735,
          7792902.373218103,
          27739311.7730552,
          4364322.624824912,
          64281094.24053897,
          5912601.650523667,
          42736122.70948266,
          20906214.619183257,
          29855403.443408553,
          22080752.66610045,
          37601365.252545185,
          23581440.969915733,
          6324122.423621343,
          65525468.76637414,
          17860299.909161035,
          10872226.677800955,
          32720744.294705577,
          8689799.596583184,
          14317092.080654884,
          13165420.914145252,
          23889185.902636573,
          25865375.621750396,
          116708971.35892521,
          37554778.07193249,
          9667637.299044643,
          6537479.234669684,
          7676052.00555147,
          22698229.931195527,
          58184671.39383396,
          23038701.350283615,
          10537739.049559627,
          17366364.066251796,
          3514094.74962411,
          31059706.724426843,
          7177018.161082952,
          64394017.42495332,
          19406134.03553958,
          13575924.205755107,
          74751125.61758831,
          20908092.160563383,
          12161675.749582147,
          23852128.66926807,
          85808912.69860943,
          40187823.34180504,
          9125442.443180807,
          38435214.59431602,
          5957755.879357651,
          10906877.363451373,
          59162528.06374205,
          95048845.10309525,
          10222520.111300318,
          12304853.540842697,
          46292613.62344774,
          9763522.516511014,
          4087012.8426147187,
          47666227.37710783,
          12802639.733410396
         ],
         "y": [
          0,
          0,
          0,
          0,
          0,
          0,
          0,
          0,
          0,
          0,
          0,
          0,
          0,
          0,
          0,
          0,
          0,
          0,
          0,
          0,
          0,
          0,
          0,
          0,
          0,
          0,
          0,
          0,
          0,
          0,
          0,
          0,
          0,
          0,
          0,
          0,
          0,
          0,
          0,
          0,
          0,
          0,
          0,
          0,
          0,
          0,
          0,
          0,
          0,
          0,
          0,
          0,
          0,
          0,
          0,
          0,
          0,
          0,
          0,
          0,
          0,
          0,
          0,
          0,
          0,
          0,
          0,
          0,
          0,
          0,
          0,
          0,
          0,
          0,
          0,
          0,
          0,
          0,
          0,
          0,
          0,
          0,
          0,
          0,
          0,
          0,
          0,
          0,
          0,
          0,
          0,
          0,
          0,
          0,
          0,
          0,
          0,
          0,
          0,
          0,
          0,
          0,
          0,
          0
         ]
        }
       ],
       "layout": {
        "legend": {
         "title": {
          "text": "creative_type"
         },
         "tracegroupgap": 0
        },
        "margin": {
         "t": 60
        },
        "template": {
         "data": {
          "bar": [
           {
            "error_x": {
             "color": "#2a3f5f"
            },
            "error_y": {
             "color": "#2a3f5f"
            },
            "marker": {
             "line": {
              "color": "#E5ECF6",
              "width": 0.5
             },
             "pattern": {
              "fillmode": "overlay",
              "size": 10,
              "solidity": 0.2
             }
            },
            "type": "bar"
           }
          ],
          "barpolar": [
           {
            "marker": {
             "line": {
              "color": "#E5ECF6",
              "width": 0.5
             },
             "pattern": {
              "fillmode": "overlay",
              "size": 10,
              "solidity": 0.2
             }
            },
            "type": "barpolar"
           }
          ],
          "carpet": [
           {
            "aaxis": {
             "endlinecolor": "#2a3f5f",
             "gridcolor": "white",
             "linecolor": "white",
             "minorgridcolor": "white",
             "startlinecolor": "#2a3f5f"
            },
            "baxis": {
             "endlinecolor": "#2a3f5f",
             "gridcolor": "white",
             "linecolor": "white",
             "minorgridcolor": "white",
             "startlinecolor": "#2a3f5f"
            },
            "type": "carpet"
           }
          ],
          "choropleth": [
           {
            "colorbar": {
             "outlinewidth": 0,
             "ticks": ""
            },
            "type": "choropleth"
           }
          ],
          "contour": [
           {
            "colorbar": {
             "outlinewidth": 0,
             "ticks": ""
            },
            "colorscale": [
             [
              0,
              "#0d0887"
             ],
             [
              0.1111111111111111,
              "#46039f"
             ],
             [
              0.2222222222222222,
              "#7201a8"
             ],
             [
              0.3333333333333333,
              "#9c179e"
             ],
             [
              0.4444444444444444,
              "#bd3786"
             ],
             [
              0.5555555555555556,
              "#d8576b"
             ],
             [
              0.6666666666666666,
              "#ed7953"
             ],
             [
              0.7777777777777778,
              "#fb9f3a"
             ],
             [
              0.8888888888888888,
              "#fdca26"
             ],
             [
              1,
              "#f0f921"
             ]
            ],
            "type": "contour"
           }
          ],
          "contourcarpet": [
           {
            "colorbar": {
             "outlinewidth": 0,
             "ticks": ""
            },
            "type": "contourcarpet"
           }
          ],
          "heatmap": [
           {
            "colorbar": {
             "outlinewidth": 0,
             "ticks": ""
            },
            "colorscale": [
             [
              0,
              "#0d0887"
             ],
             [
              0.1111111111111111,
              "#46039f"
             ],
             [
              0.2222222222222222,
              "#7201a8"
             ],
             [
              0.3333333333333333,
              "#9c179e"
             ],
             [
              0.4444444444444444,
              "#bd3786"
             ],
             [
              0.5555555555555556,
              "#d8576b"
             ],
             [
              0.6666666666666666,
              "#ed7953"
             ],
             [
              0.7777777777777778,
              "#fb9f3a"
             ],
             [
              0.8888888888888888,
              "#fdca26"
             ],
             [
              1,
              "#f0f921"
             ]
            ],
            "type": "heatmap"
           }
          ],
          "heatmapgl": [
           {
            "colorbar": {
             "outlinewidth": 0,
             "ticks": ""
            },
            "colorscale": [
             [
              0,
              "#0d0887"
             ],
             [
              0.1111111111111111,
              "#46039f"
             ],
             [
              0.2222222222222222,
              "#7201a8"
             ],
             [
              0.3333333333333333,
              "#9c179e"
             ],
             [
              0.4444444444444444,
              "#bd3786"
             ],
             [
              0.5555555555555556,
              "#d8576b"
             ],
             [
              0.6666666666666666,
              "#ed7953"
             ],
             [
              0.7777777777777778,
              "#fb9f3a"
             ],
             [
              0.8888888888888888,
              "#fdca26"
             ],
             [
              1,
              "#f0f921"
             ]
            ],
            "type": "heatmapgl"
           }
          ],
          "histogram": [
           {
            "marker": {
             "pattern": {
              "fillmode": "overlay",
              "size": 10,
              "solidity": 0.2
             }
            },
            "type": "histogram"
           }
          ],
          "histogram2d": [
           {
            "colorbar": {
             "outlinewidth": 0,
             "ticks": ""
            },
            "colorscale": [
             [
              0,
              "#0d0887"
             ],
             [
              0.1111111111111111,
              "#46039f"
             ],
             [
              0.2222222222222222,
              "#7201a8"
             ],
             [
              0.3333333333333333,
              "#9c179e"
             ],
             [
              0.4444444444444444,
              "#bd3786"
             ],
             [
              0.5555555555555556,
              "#d8576b"
             ],
             [
              0.6666666666666666,
              "#ed7953"
             ],
             [
              0.7777777777777778,
              "#fb9f3a"
             ],
             [
              0.8888888888888888,
              "#fdca26"
             ],
             [
              1,
              "#f0f921"
             ]
            ],
            "type": "histogram2d"
           }
          ],
          "histogram2dcontour": [
           {
            "colorbar": {
             "outlinewidth": 0,
             "ticks": ""
            },
            "colorscale": [
             [
              0,
              "#0d0887"
             ],
             [
              0.1111111111111111,
              "#46039f"
             ],
             [
              0.2222222222222222,
              "#7201a8"
             ],
             [
              0.3333333333333333,
              "#9c179e"
             ],
             [
              0.4444444444444444,
              "#bd3786"
             ],
             [
              0.5555555555555556,
              "#d8576b"
             ],
             [
              0.6666666666666666,
              "#ed7953"
             ],
             [
              0.7777777777777778,
              "#fb9f3a"
             ],
             [
              0.8888888888888888,
              "#fdca26"
             ],
             [
              1,
              "#f0f921"
             ]
            ],
            "type": "histogram2dcontour"
           }
          ],
          "mesh3d": [
           {
            "colorbar": {
             "outlinewidth": 0,
             "ticks": ""
            },
            "type": "mesh3d"
           }
          ],
          "parcoords": [
           {
            "line": {
             "colorbar": {
              "outlinewidth": 0,
              "ticks": ""
             }
            },
            "type": "parcoords"
           }
          ],
          "pie": [
           {
            "automargin": true,
            "type": "pie"
           }
          ],
          "scatter": [
           {
            "fillpattern": {
             "fillmode": "overlay",
             "size": 10,
             "solidity": 0.2
            },
            "type": "scatter"
           }
          ],
          "scatter3d": [
           {
            "line": {
             "colorbar": {
              "outlinewidth": 0,
              "ticks": ""
             }
            },
            "marker": {
             "colorbar": {
              "outlinewidth": 0,
              "ticks": ""
             }
            },
            "type": "scatter3d"
           }
          ],
          "scattercarpet": [
           {
            "marker": {
             "colorbar": {
              "outlinewidth": 0,
              "ticks": ""
             }
            },
            "type": "scattercarpet"
           }
          ],
          "scattergeo": [
           {
            "marker": {
             "colorbar": {
              "outlinewidth": 0,
              "ticks": ""
             }
            },
            "type": "scattergeo"
           }
          ],
          "scattergl": [
           {
            "marker": {
             "colorbar": {
              "outlinewidth": 0,
              "ticks": ""
             }
            },
            "type": "scattergl"
           }
          ],
          "scattermapbox": [
           {
            "marker": {
             "colorbar": {
              "outlinewidth": 0,
              "ticks": ""
             }
            },
            "type": "scattermapbox"
           }
          ],
          "scatterpolar": [
           {
            "marker": {
             "colorbar": {
              "outlinewidth": 0,
              "ticks": ""
             }
            },
            "type": "scatterpolar"
           }
          ],
          "scatterpolargl": [
           {
            "marker": {
             "colorbar": {
              "outlinewidth": 0,
              "ticks": ""
             }
            },
            "type": "scatterpolargl"
           }
          ],
          "scatterternary": [
           {
            "marker": {
             "colorbar": {
              "outlinewidth": 0,
              "ticks": ""
             }
            },
            "type": "scatterternary"
           }
          ],
          "surface": [
           {
            "colorbar": {
             "outlinewidth": 0,
             "ticks": ""
            },
            "colorscale": [
             [
              0,
              "#0d0887"
             ],
             [
              0.1111111111111111,
              "#46039f"
             ],
             [
              0.2222222222222222,
              "#7201a8"
             ],
             [
              0.3333333333333333,
              "#9c179e"
             ],
             [
              0.4444444444444444,
              "#bd3786"
             ],
             [
              0.5555555555555556,
              "#d8576b"
             ],
             [
              0.6666666666666666,
              "#ed7953"
             ],
             [
              0.7777777777777778,
              "#fb9f3a"
             ],
             [
              0.8888888888888888,
              "#fdca26"
             ],
             [
              1,
              "#f0f921"
             ]
            ],
            "type": "surface"
           }
          ],
          "table": [
           {
            "cells": {
             "fill": {
              "color": "#EBF0F8"
             },
             "line": {
              "color": "white"
             }
            },
            "header": {
             "fill": {
              "color": "#C8D4E3"
             },
             "line": {
              "color": "white"
             }
            },
            "type": "table"
           }
          ]
         },
         "layout": {
          "annotationdefaults": {
           "arrowcolor": "#2a3f5f",
           "arrowhead": 0,
           "arrowwidth": 1
          },
          "autotypenumbers": "strict",
          "coloraxis": {
           "colorbar": {
            "outlinewidth": 0,
            "ticks": ""
           }
          },
          "colorscale": {
           "diverging": [
            [
             0,
             "#8e0152"
            ],
            [
             0.1,
             "#c51b7d"
            ],
            [
             0.2,
             "#de77ae"
            ],
            [
             0.3,
             "#f1b6da"
            ],
            [
             0.4,
             "#fde0ef"
            ],
            [
             0.5,
             "#f7f7f7"
            ],
            [
             0.6,
             "#e6f5d0"
            ],
            [
             0.7,
             "#b8e186"
            ],
            [
             0.8,
             "#7fbc41"
            ],
            [
             0.9,
             "#4d9221"
            ],
            [
             1,
             "#276419"
            ]
           ],
           "sequential": [
            [
             0,
             "#0d0887"
            ],
            [
             0.1111111111111111,
             "#46039f"
            ],
            [
             0.2222222222222222,
             "#7201a8"
            ],
            [
             0.3333333333333333,
             "#9c179e"
            ],
            [
             0.4444444444444444,
             "#bd3786"
            ],
            [
             0.5555555555555556,
             "#d8576b"
            ],
            [
             0.6666666666666666,
             "#ed7953"
            ],
            [
             0.7777777777777778,
             "#fb9f3a"
            ],
            [
             0.8888888888888888,
             "#fdca26"
            ],
            [
             1,
             "#f0f921"
            ]
           ],
           "sequentialminus": [
            [
             0,
             "#0d0887"
            ],
            [
             0.1111111111111111,
             "#46039f"
            ],
            [
             0.2222222222222222,
             "#7201a8"
            ],
            [
             0.3333333333333333,
             "#9c179e"
            ],
            [
             0.4444444444444444,
             "#bd3786"
            ],
            [
             0.5555555555555556,
             "#d8576b"
            ],
            [
             0.6666666666666666,
             "#ed7953"
            ],
            [
             0.7777777777777778,
             "#fb9f3a"
            ],
            [
             0.8888888888888888,
             "#fdca26"
            ],
            [
             1,
             "#f0f921"
            ]
           ]
          },
          "colorway": [
           "#636efa",
           "#EF553B",
           "#00cc96",
           "#ab63fa",
           "#FFA15A",
           "#19d3f3",
           "#FF6692",
           "#B6E880",
           "#FF97FF",
           "#FECB52"
          ],
          "font": {
           "color": "#2a3f5f"
          },
          "geo": {
           "bgcolor": "white",
           "lakecolor": "white",
           "landcolor": "#E5ECF6",
           "showlakes": true,
           "showland": true,
           "subunitcolor": "white"
          },
          "hoverlabel": {
           "align": "left"
          },
          "hovermode": "closest",
          "mapbox": {
           "style": "light"
          },
          "paper_bgcolor": "white",
          "plot_bgcolor": "#E5ECF6",
          "polar": {
           "angularaxis": {
            "gridcolor": "white",
            "linecolor": "white",
            "ticks": ""
           },
           "bgcolor": "#E5ECF6",
           "radialaxis": {
            "gridcolor": "white",
            "linecolor": "white",
            "ticks": ""
           }
          },
          "scene": {
           "xaxis": {
            "backgroundcolor": "#E5ECF6",
            "gridcolor": "white",
            "gridwidth": 2,
            "linecolor": "white",
            "showbackground": true,
            "ticks": "",
            "zerolinecolor": "white"
           },
           "yaxis": {
            "backgroundcolor": "#E5ECF6",
            "gridcolor": "white",
            "gridwidth": 2,
            "linecolor": "white",
            "showbackground": true,
            "ticks": "",
            "zerolinecolor": "white"
           },
           "zaxis": {
            "backgroundcolor": "#E5ECF6",
            "gridcolor": "white",
            "gridwidth": 2,
            "linecolor": "white",
            "showbackground": true,
            "ticks": "",
            "zerolinecolor": "white"
           }
          },
          "shapedefaults": {
           "line": {
            "color": "#2a3f5f"
           }
          },
          "ternary": {
           "aaxis": {
            "gridcolor": "white",
            "linecolor": "white",
            "ticks": ""
           },
           "baxis": {
            "gridcolor": "white",
            "linecolor": "white",
            "ticks": ""
           },
           "bgcolor": "#E5ECF6",
           "caxis": {
            "gridcolor": "white",
            "linecolor": "white",
            "ticks": ""
           }
          },
          "title": {
           "x": 0.05
          },
          "xaxis": {
           "automargin": true,
           "gridcolor": "white",
           "linecolor": "white",
           "ticks": "",
           "title": {
            "standoff": 15
           },
           "zerolinecolor": "white",
           "zerolinewidth": 2
          },
          "yaxis": {
           "automargin": true,
           "gridcolor": "white",
           "linecolor": "white",
           "ticks": "",
           "title": {
            "standoff": 15
           },
           "zerolinecolor": "white",
           "zerolinewidth": 2
          }
         }
        },
        "title": {
         "text": "Residuals Percent Difference vs Predicted Opening Weekend Revenue"
        },
        "xaxis": {
         "anchor": "y",
         "domain": [
          0,
          1
         ],
         "range": [
          0,
          152455798
         ],
         "title": {
          "text": "Predicted"
         }
        },
        "yaxis": {
         "anchor": "x",
         "domain": [
          0,
          1
         ],
         "range": [
          -1.3695489682540294,
          1.3695489682540294
         ],
         "title": {
          "text": "Residual Percent Difference"
         }
        }
       }
      }
     },
     "metadata": {},
     "output_type": "display_data"
    }
   ],
   "source": [
    "# plot residuals as a percentage of actual\n",
    "results_df[\"residual_percent_difference\"] = (\n",
    "    (results_df[\"actual\"] - results_df[\"predicted\"]) / ((results_df[\"actual\"] + results_df[\"predicted\"]) / 2)\n",
    ")\n",
    "\n",
    "fig2 = px.scatter(results_df, x=\"predicted\", y=\"residual_percent_difference\", hover_name=\"title\", color=\"creative_type\", labels={\"residual_percent_difference\": \"Residual Percent Difference\", \"predicted\": \"Predicted Opening Weekend Revenue\", \"actual\": \"Actual Opening Weekend Revenue\"})\n",
    "x_axis_length = int(max(results_df[\"predicted\"]) * 1.05)\n",
    "fig2.add_trace(go.Scatter(x=results_df[\"predicted\"], y=[0] * len(results_df), mode=\"lines\", name=\"y=0\"))\n",
    "max_abs_residual_percent_difference = max(abs(results_df[\"residual_percent_difference\"]))\n",
    "fig2.update_layout(\n",
    "    title=\"Residuals Percent Difference vs Predicted Opening Weekend Revenue\",\n",
    "    xaxis_title=\"Predicted\",\n",
    "    yaxis_title=\"Residual Percent Difference\",\n",
    "    yaxis=dict(range=[-1.1 * max_abs_residual_percent_difference, 1.1 * max_abs_residual_percent_difference]),\n",
    "    xaxis=dict(range=[0, x_axis_length])\n",
    ")\n",
    "\n",
    "# positive is under prediction, negative is over prediction"
   ]
  },
  {
   "cell_type": "code",
   "execution_count": 13,
   "metadata": {},
   "outputs": [
    {
     "name": "stderr",
     "output_type": "stream",
     "text": [
      "/tmp/ipykernel_35894/4292569314.py:5: PerformanceWarning:\n",
      "\n",
      "DataFrame is highly fragmented.  This is usually the result of calling `frame.insert` many times, which has poor performance.  Consider joining all columns at once using pd.concat(axis=1) instead. To get a de-fragmented frame, use `newframe = frame.copy()`\n",
      "\n",
      "/tmp/ipykernel_35894/4292569314.py:6: PerformanceWarning:\n",
      "\n",
      "DataFrame is highly fragmented.  This is usually the result of calling `frame.insert` many times, which has poor performance.  Consider joining all columns at once using pd.concat(axis=1) instead. To get a de-fragmented frame, use `newframe = frame.copy()`\n",
      "\n"
     ]
    },
    {
     "data": {
      "text/html": [
       "<div>\n",
       "<style scoped>\n",
       "    .dataframe tbody tr th:only-of-type {\n",
       "        vertical-align: middle;\n",
       "    }\n",
       "\n",
       "    .dataframe tbody tr th {\n",
       "        vertical-align: top;\n",
       "    }\n",
       "\n",
       "    .dataframe thead th {\n",
       "        text-align: right;\n",
       "    }\n",
       "</style>\n",
       "<table border=\"1\" class=\"dataframe\">\n",
       "  <thead>\n",
       "    <tr style=\"text-align: right;\">\n",
       "      <th></th>\n",
       "      <th>title</th>\n",
       "      <th>actual</th>\n",
       "      <th>predicted</th>\n",
       "      <th>budget</th>\n",
       "      <th>wikipedia_pre_release_cumulative_views</th>\n",
       "      <th>metacritic_before_wide_friday_calculated</th>\n",
       "      <th>top_5_trailer_views</th>\n",
       "    </tr>\n",
       "  </thead>\n",
       "  <tbody>\n",
       "    <tr>\n",
       "      <th>468</th>\n",
       "      <td>Avengers: Endgame</td>\n",
       "      <td>357115007.0</td>\n",
       "      <td>20.092462</td>\n",
       "      <td>400000000.0</td>\n",
       "      <td>8078868.0</td>\n",
       "      <td>79.0</td>\n",
       "      <td>538068656.0</td>\n",
       "    </tr>\n",
       "    <tr>\n",
       "      <th>623</th>\n",
       "      <td>Spider-Man: No Way Home</td>\n",
       "      <td>260138569.0</td>\n",
       "      <td>19.223198</td>\n",
       "      <td>200000000.0</td>\n",
       "      <td>6211755.0</td>\n",
       "      <td>72.0</td>\n",
       "      <td>197038432.0</td>\n",
       "    </tr>\n",
       "    <tr>\n",
       "      <th>346</th>\n",
       "      <td>Avengers: Infinity War</td>\n",
       "      <td>257698183.0</td>\n",
       "      <td>19.612586</td>\n",
       "      <td>300000000.0</td>\n",
       "      <td>6361008.0</td>\n",
       "      <td>70.0</td>\n",
       "      <td>542667265.0</td>\n",
       "    </tr>\n",
       "    <tr>\n",
       "      <th>37</th>\n",
       "      <td>Star Wars Ep. VII: The Force Awakens</td>\n",
       "      <td>247966675.0</td>\n",
       "      <td>19.858331</td>\n",
       "      <td>533200000.0</td>\n",
       "      <td>7308580.0</td>\n",
       "      <td>80.0</td>\n",
       "      <td>191498815.0</td>\n",
       "    </tr>\n",
       "    <tr>\n",
       "      <th>294</th>\n",
       "      <td>Star Wars Ep. VIII: The Last Jedi</td>\n",
       "      <td>220009584.0</td>\n",
       "      <td>18.780880</td>\n",
       "      <td>262000000.0</td>\n",
       "      <td>3016480.0</td>\n",
       "      <td>83.0</td>\n",
       "      <td>65764078.0</td>\n",
       "    </tr>\n",
       "    <tr>\n",
       "      <th>96</th>\n",
       "      <td>Deadpool &amp; Wolverine</td>\n",
       "      <td>211435291.0</td>\n",
       "      <td>18.369901</td>\n",
       "      <td>200000000.0</td>\n",
       "      <td>2957720.0</td>\n",
       "      <td>62.0</td>\n",
       "      <td>92496312.0</td>\n",
       "    </tr>\n",
       "    <tr>\n",
       "      <th>318</th>\n",
       "      <td>Black Panther</td>\n",
       "      <td>202003951.0</td>\n",
       "      <td>19.050303</td>\n",
       "      <td>200000000.0</td>\n",
       "      <td>3504158.0</td>\n",
       "      <td>86.0</td>\n",
       "      <td>158087866.0</td>\n",
       "    </tr>\n",
       "    <tr>\n",
       "      <th>496</th>\n",
       "      <td>The Lion King</td>\n",
       "      <td>191770759.0</td>\n",
       "      <td>18.070935</td>\n",
       "      <td>260000000.0</td>\n",
       "      <td>2164436.0</td>\n",
       "      <td>59.0</td>\n",
       "      <td>49977186.0</td>\n",
       "    </tr>\n",
       "    <tr>\n",
       "      <th>647</th>\n",
       "      <td>Doctor Strange in the Multiverse of Madness</td>\n",
       "      <td>187420998.0</td>\n",
       "      <td>18.464865</td>\n",
       "      <td>200000000.0</td>\n",
       "      <td>3534041.0</td>\n",
       "      <td>64.0</td>\n",
       "      <td>80431609.0</td>\n",
       "    </tr>\n",
       "    <tr>\n",
       "      <th>360</th>\n",
       "      <td>Incredibles 2</td>\n",
       "      <td>182687905.0</td>\n",
       "      <td>18.592015</td>\n",
       "      <td>200000000.0</td>\n",
       "      <td>898943.0</td>\n",
       "      <td>80.0</td>\n",
       "      <td>337879237.0</td>\n",
       "    </tr>\n",
       "    <tr>\n",
       "      <th>669</th>\n",
       "      <td>Black Panther: Wakanda Forever</td>\n",
       "      <td>181339761.0</td>\n",
       "      <td>18.415569</td>\n",
       "      <td>250000000.0</td>\n",
       "      <td>3069841.0</td>\n",
       "      <td>69.0</td>\n",
       "      <td>48494846.0</td>\n",
       "    </tr>\n",
       "    <tr>\n",
       "      <th>87</th>\n",
       "      <td>Captain America: Civil War</td>\n",
       "      <td>179139142.0</td>\n",
       "      <td>19.287119</td>\n",
       "      <td>250000000.0</td>\n",
       "      <td>5805060.0</td>\n",
       "      <td>77.0</td>\n",
       "      <td>158290980.0</td>\n",
       "    </tr>\n",
       "    <tr>\n",
       "      <th>549</th>\n",
       "      <td>Star Wars: The Rise of Skywalker</td>\n",
       "      <td>177383864.0</td>\n",
       "      <td>18.475343</td>\n",
       "      <td>275000000.0</td>\n",
       "      <td>4343122.0</td>\n",
       "      <td>57.0</td>\n",
       "      <td>62680974.0</td>\n",
       "    </tr>\n",
       "    <tr>\n",
       "      <th>201</th>\n",
       "      <td>Beauty and the Beast</td>\n",
       "      <td>174750616.0</td>\n",
       "      <td>17.042517</td>\n",
       "      <td>160000000.0</td>\n",
       "      <td>1743780.0</td>\n",
       "      <td>68.0</td>\n",
       "      <td>15845005.0</td>\n",
       "    </tr>\n",
       "    <tr>\n",
       "      <th>74</th>\n",
       "      <td>Batman v Superman: Dawn of Justice</td>\n",
       "      <td>166007347.0</td>\n",
       "      <td>18.477154</td>\n",
       "      <td>263000000.0</td>\n",
       "      <td>3678000.0</td>\n",
       "      <td>48.0</td>\n",
       "      <td>183180035.0</td>\n",
       "    </tr>\n",
       "    <tr>\n",
       "      <th>33</th>\n",
       "      <td>Barbie</td>\n",
       "      <td>162022044.0</td>\n",
       "      <td>18.793595</td>\n",
       "      <td>151000000.0</td>\n",
       "      <td>3741724.0</td>\n",
       "      <td>81.0</td>\n",
       "      <td>111528091.0</td>\n",
       "    </tr>\n",
       "    <tr>\n",
       "      <th>170</th>\n",
       "      <td>Rogue One: A Star Wars Story</td>\n",
       "      <td>155081681.0</td>\n",
       "      <td>18.651321</td>\n",
       "      <td>280200000.0</td>\n",
       "      <td>2937918.0</td>\n",
       "      <td>68.0</td>\n",
       "      <td>118052687.0</td>\n",
       "    </tr>\n",
       "    <tr>\n",
       "      <th>89</th>\n",
       "      <td>Inside Out 2</td>\n",
       "      <td>154201673.0</td>\n",
       "      <td>18.267633</td>\n",
       "      <td>200000000.0</td>\n",
       "      <td>1120226.0</td>\n",
       "      <td>75.0</td>\n",
       "      <td>112778679.0</td>\n",
       "    </tr>\n",
       "    <tr>\n",
       "      <th>454</th>\n",
       "      <td>Captain Marvel</td>\n",
       "      <td>153433423.0</td>\n",
       "      <td>18.436190</td>\n",
       "      <td>175000000.0</td>\n",
       "      <td>2697997.0</td>\n",
       "      <td>66.0</td>\n",
       "      <td>124194021.0</td>\n",
       "    </tr>\n",
       "    <tr>\n",
       "      <th>362</th>\n",
       "      <td>Jurassic World: Fallen Kingdom</td>\n",
       "      <td>148024610.0</td>\n",
       "      <td>18.268171</td>\n",
       "      <td>170000000.0</td>\n",
       "      <td>2575528.0</td>\n",
       "      <td>55.0</td>\n",
       "      <td>154039630.0</td>\n",
       "    </tr>\n",
       "    <tr>\n",
       "      <th>218</th>\n",
       "      <td>Guardians of the Galaxy Vol 2</td>\n",
       "      <td>146510104.0</td>\n",
       "      <td>18.204963</td>\n",
       "      <td>200000000.0</td>\n",
       "      <td>2414252.0</td>\n",
       "      <td>68.0</td>\n",
       "      <td>48327507.0</td>\n",
       "    </tr>\n",
       "    <tr>\n",
       "      <th>13</th>\n",
       "      <td>The Super Mario Bros. Movie</td>\n",
       "      <td>146361865.0</td>\n",
       "      <td>17.598181</td>\n",
       "      <td>100000000.0</td>\n",
       "      <td>1511626.0</td>\n",
       "      <td>51.0</td>\n",
       "      <td>62046017.0</td>\n",
       "    </tr>\n",
       "    <tr>\n",
       "      <th>649</th>\n",
       "      <td>Jurassic World: Dominion</td>\n",
       "      <td>145075625.0</td>\n",
       "      <td>17.760010</td>\n",
       "      <td>165000000.0</td>\n",
       "      <td>1670496.0</td>\n",
       "      <td>43.0</td>\n",
       "      <td>105716506.0</td>\n",
       "    </tr>\n",
       "    <tr>\n",
       "      <th>653</th>\n",
       "      <td>Thor: Love and Thunder</td>\n",
       "      <td>144165107.0</td>\n",
       "      <td>18.431764</td>\n",
       "      <td>250000000.0</td>\n",
       "      <td>3379308.0</td>\n",
       "      <td>63.0</td>\n",
       "      <td>65518121.0</td>\n",
       "    </tr>\n",
       "    <tr>\n",
       "      <th>101</th>\n",
       "      <td>Finding Dory</td>\n",
       "      <td>135060273.0</td>\n",
       "      <td>17.989190</td>\n",
       "      <td>200000000.0</td>\n",
       "      <td>838428.0</td>\n",
       "      <td>78.0</td>\n",
       "      <td>45205238.0</td>\n",
       "    </tr>\n",
       "    <tr>\n",
       "      <th>673</th>\n",
       "      <td>Avatar: The Way of Water</td>\n",
       "      <td>134100226.0</td>\n",
       "      <td>19.023298</td>\n",
       "      <td>460000000.0</td>\n",
       "      <td>3578680.0</td>\n",
       "      <td>72.0</td>\n",
       "      <td>125927335.0</td>\n",
       "    </tr>\n",
       "    <tr>\n",
       "      <th>636</th>\n",
       "      <td>The Batman</td>\n",
       "      <td>134008624.0</td>\n",
       "      <td>18.677832</td>\n",
       "      <td>200000000.0</td>\n",
       "      <td>2749341.0</td>\n",
       "      <td>74.0</td>\n",
       "      <td>145520768.0</td>\n",
       "    </tr>\n",
       "    <tr>\n",
       "      <th>119</th>\n",
       "      <td>Suicide Squad</td>\n",
       "      <td>133682248.0</td>\n",
       "      <td>18.507456</td>\n",
       "      <td>175000000.0</td>\n",
       "      <td>4637433.0</td>\n",
       "      <td>47.0</td>\n",
       "      <td>182346190.0</td>\n",
       "    </tr>\n",
       "    <tr>\n",
       "      <th>58</th>\n",
       "      <td>Deadpool</td>\n",
       "      <td>132434639.0</td>\n",
       "      <td>18.182094</td>\n",
       "      <td>58000000.0</td>\n",
       "      <td>3007117.0</td>\n",
       "      <td>67.0</td>\n",
       "      <td>134042442.0</td>\n",
       "    </tr>\n",
       "    <tr>\n",
       "      <th>539</th>\n",
       "      <td>Frozen II</td>\n",
       "      <td>130263358.0</td>\n",
       "      <td>18.284007</td>\n",
       "      <td>150000000.0</td>\n",
       "      <td>1449696.0</td>\n",
       "      <td>65.0</td>\n",
       "      <td>237034175.0</td>\n",
       "    </tr>\n",
       "    <tr>\n",
       "      <th>648</th>\n",
       "      <td>Top Gun: Maverick</td>\n",
       "      <td>126707459.0</td>\n",
       "      <td>18.577920</td>\n",
       "      <td>170000000.0</td>\n",
       "      <td>2068875.0</td>\n",
       "      <td>79.0</td>\n",
       "      <td>145354138.0</td>\n",
       "    </tr>\n",
       "    <tr>\n",
       "      <th>352</th>\n",
       "      <td>Deadpool 2</td>\n",
       "      <td>125507153.0</td>\n",
       "      <td>18.241232</td>\n",
       "      <td>110000000.0</td>\n",
       "      <td>2747558.0</td>\n",
       "      <td>68.0</td>\n",
       "      <td>88719820.0</td>\n",
       "    </tr>\n",
       "    <tr>\n",
       "      <th>257</th>\n",
       "      <td>It</td>\n",
       "      <td>123403419.0</td>\n",
       "      <td>18.051728</td>\n",
       "      <td>35000000.0</td>\n",
       "      <td>2266720.0</td>\n",
       "      <td>72.0</td>\n",
       "      <td>204007513.0</td>\n",
       "    </tr>\n",
       "    <tr>\n",
       "      <th>279</th>\n",
       "      <td>Thor: Ragnarok</td>\n",
       "      <td>122744989.0</td>\n",
       "      <td>18.587861</td>\n",
       "      <td>180000000.0</td>\n",
       "      <td>2518258.0</td>\n",
       "      <td>74.0</td>\n",
       "      <td>139917675.0</td>\n",
       "    </tr>\n",
       "    <tr>\n",
       "      <th>490</th>\n",
       "      <td>Toy Story 4</td>\n",
       "      <td>120908065.0</td>\n",
       "      <td>18.615299</td>\n",
       "      <td>200000000.0</td>\n",
       "      <td>1594028.0</td>\n",
       "      <td>83.0</td>\n",
       "      <td>149979330.0</td>\n",
       "    </tr>\n",
       "    <tr>\n",
       "      <th>23</th>\n",
       "      <td>Spider-Man: Across the Spider-Verse</td>\n",
       "      <td>120663589.0</td>\n",
       "      <td>18.451950</td>\n",
       "      <td>100000000.0</td>\n",
       "      <td>1916359.0</td>\n",
       "      <td>85.0</td>\n",
       "      <td>151891677.0</td>\n",
       "    </tr>\n",
       "    <tr>\n",
       "      <th>19</th>\n",
       "      <td>Guardians of the Galaxy Vol 3</td>\n",
       "      <td>118414021.0</td>\n",
       "      <td>18.256533</td>\n",
       "      <td>250000000.0</td>\n",
       "      <td>2200515.0</td>\n",
       "      <td>67.0</td>\n",
       "      <td>56409773.0</td>\n",
       "    </tr>\n",
       "    <tr>\n",
       "      <th>239</th>\n",
       "      <td>Spider-Man: Homecoming</td>\n",
       "      <td>117027503.0</td>\n",
       "      <td>18.390439</td>\n",
       "      <td>175000000.0</td>\n",
       "      <td>2014019.0</td>\n",
       "      <td>75.0</td>\n",
       "      <td>95078092.0</td>\n",
       "    </tr>\n",
       "    <tr>\n",
       "      <th>102</th>\n",
       "      <td>Beetlejuice Beetlejuice</td>\n",
       "      <td>111003345.0</td>\n",
       "      <td>17.679734</td>\n",
       "      <td>100000000.0</td>\n",
       "      <td>1320674.0</td>\n",
       "      <td>64.0</td>\n",
       "      <td>48251920.0</td>\n",
       "    </tr>\n",
       "    <tr>\n",
       "      <th>652</th>\n",
       "      <td>Minions: The Rise of Gru</td>\n",
       "      <td>107010140.0</td>\n",
       "      <td>17.478271</td>\n",
       "      <td>80000000.0</td>\n",
       "      <td>528072.0</td>\n",
       "      <td>61.0</td>\n",
       "      <td>87411069.0</td>\n",
       "    </tr>\n",
       "    <tr>\n",
       "      <th>3</th>\n",
       "      <td>Ant-Man and the Wasp: Quantumania</td>\n",
       "      <td>106109650.0</td>\n",
       "      <td>18.025998</td>\n",
       "      <td>200000000.0</td>\n",
       "      <td>2433265.0</td>\n",
       "      <td>54.0</td>\n",
       "      <td>63966028.0</td>\n",
       "    </tr>\n",
       "    <tr>\n",
       "      <th>108</th>\n",
       "      <td>The Secret Life of Pets</td>\n",
       "      <td>104352905.0</td>\n",
       "      <td>17.423751</td>\n",
       "      <td>75000000.0</td>\n",
       "      <td>540388.0</td>\n",
       "      <td>64.0</td>\n",
       "      <td>64466316.0</td>\n",
       "    </tr>\n",
       "    <tr>\n",
       "      <th>80</th>\n",
       "      <td>The Jungle Book</td>\n",
       "      <td>103261464.0</td>\n",
       "      <td>17.306748</td>\n",
       "      <td>175000000.0</td>\n",
       "      <td>1843028.0</td>\n",
       "      <td>78.0</td>\n",
       "      <td>25587638.0</td>\n",
       "    </tr>\n",
       "    <tr>\n",
       "      <th>226</th>\n",
       "      <td>Wonder Woman</td>\n",
       "      <td>103251471.0</td>\n",
       "      <td>18.273054</td>\n",
       "      <td>150000000.0</td>\n",
       "      <td>1733637.0</td>\n",
       "      <td>76.0</td>\n",
       "      <td>88725095.0</td>\n",
       "    </tr>\n",
       "    <tr>\n",
       "      <th>27</th>\n",
       "      <td>The Hunger Games: Mockingjay - Part 2</td>\n",
       "      <td>102665981.0</td>\n",
       "      <td>17.484452</td>\n",
       "      <td>160000000.0</td>\n",
       "      <td>372675.0</td>\n",
       "      <td>67.0</td>\n",
       "      <td>37846008.0</td>\n",
       "    </tr>\n",
       "  </tbody>\n",
       "</table>\n",
       "</div>"
      ],
      "text/plain": [
       "                                           title       actual  predicted  \\\n",
       "468                            Avengers: Endgame  357115007.0  20.092462   \n",
       "623                      Spider-Man: No Way Home  260138569.0  19.223198   \n",
       "346                       Avengers: Infinity War  257698183.0  19.612586   \n",
       "37          Star Wars Ep. VII: The Force Awakens  247966675.0  19.858331   \n",
       "294            Star Wars Ep. VIII: The Last Jedi  220009584.0  18.780880   \n",
       "96                          Deadpool & Wolverine  211435291.0  18.369901   \n",
       "318                                Black Panther  202003951.0  19.050303   \n",
       "496                                The Lion King  191770759.0  18.070935   \n",
       "647  Doctor Strange in the Multiverse of Madness  187420998.0  18.464865   \n",
       "360                                Incredibles 2  182687905.0  18.592015   \n",
       "669               Black Panther: Wakanda Forever  181339761.0  18.415569   \n",
       "87                    Captain America: Civil War  179139142.0  19.287119   \n",
       "549             Star Wars: The Rise of Skywalker  177383864.0  18.475343   \n",
       "201                         Beauty and the Beast  174750616.0  17.042517   \n",
       "74            Batman v Superman: Dawn of Justice  166007347.0  18.477154   \n",
       "33                                        Barbie  162022044.0  18.793595   \n",
       "170                 Rogue One: A Star Wars Story  155081681.0  18.651321   \n",
       "89                                  Inside Out 2  154201673.0  18.267633   \n",
       "454                               Captain Marvel  153433423.0  18.436190   \n",
       "362               Jurassic World: Fallen Kingdom  148024610.0  18.268171   \n",
       "218                Guardians of the Galaxy Vol 2  146510104.0  18.204963   \n",
       "13                   The Super Mario Bros. Movie  146361865.0  17.598181   \n",
       "649                     Jurassic World: Dominion  145075625.0  17.760010   \n",
       "653                       Thor: Love and Thunder  144165107.0  18.431764   \n",
       "101                                 Finding Dory  135060273.0  17.989190   \n",
       "673                     Avatar: The Way of Water  134100226.0  19.023298   \n",
       "636                                   The Batman  134008624.0  18.677832   \n",
       "119                                Suicide Squad  133682248.0  18.507456   \n",
       "58                                      Deadpool  132434639.0  18.182094   \n",
       "539                                    Frozen II  130263358.0  18.284007   \n",
       "648                            Top Gun: Maverick  126707459.0  18.577920   \n",
       "352                                   Deadpool 2  125507153.0  18.241232   \n",
       "257                                           It  123403419.0  18.051728   \n",
       "279                               Thor: Ragnarok  122744989.0  18.587861   \n",
       "490                                  Toy Story 4  120908065.0  18.615299   \n",
       "23           Spider-Man: Across the Spider-Verse  120663589.0  18.451950   \n",
       "19                 Guardians of the Galaxy Vol 3  118414021.0  18.256533   \n",
       "239                       Spider-Man: Homecoming  117027503.0  18.390439   \n",
       "102                      Beetlejuice Beetlejuice  111003345.0  17.679734   \n",
       "652                     Minions: The Rise of Gru  107010140.0  17.478271   \n",
       "3              Ant-Man and the Wasp: Quantumania  106109650.0  18.025998   \n",
       "108                      The Secret Life of Pets  104352905.0  17.423751   \n",
       "80                               The Jungle Book  103261464.0  17.306748   \n",
       "226                                 Wonder Woman  103251471.0  18.273054   \n",
       "27         The Hunger Games: Mockingjay - Part 2  102665981.0  17.484452   \n",
       "\n",
       "          budget  wikipedia_pre_release_cumulative_views  \\\n",
       "468  400000000.0                               8078868.0   \n",
       "623  200000000.0                               6211755.0   \n",
       "346  300000000.0                               6361008.0   \n",
       "37   533200000.0                               7308580.0   \n",
       "294  262000000.0                               3016480.0   \n",
       "96   200000000.0                               2957720.0   \n",
       "318  200000000.0                               3504158.0   \n",
       "496  260000000.0                               2164436.0   \n",
       "647  200000000.0                               3534041.0   \n",
       "360  200000000.0                                898943.0   \n",
       "669  250000000.0                               3069841.0   \n",
       "87   250000000.0                               5805060.0   \n",
       "549  275000000.0                               4343122.0   \n",
       "201  160000000.0                               1743780.0   \n",
       "74   263000000.0                               3678000.0   \n",
       "33   151000000.0                               3741724.0   \n",
       "170  280200000.0                               2937918.0   \n",
       "89   200000000.0                               1120226.0   \n",
       "454  175000000.0                               2697997.0   \n",
       "362  170000000.0                               2575528.0   \n",
       "218  200000000.0                               2414252.0   \n",
       "13   100000000.0                               1511626.0   \n",
       "649  165000000.0                               1670496.0   \n",
       "653  250000000.0                               3379308.0   \n",
       "101  200000000.0                                838428.0   \n",
       "673  460000000.0                               3578680.0   \n",
       "636  200000000.0                               2749341.0   \n",
       "119  175000000.0                               4637433.0   \n",
       "58    58000000.0                               3007117.0   \n",
       "539  150000000.0                               1449696.0   \n",
       "648  170000000.0                               2068875.0   \n",
       "352  110000000.0                               2747558.0   \n",
       "257   35000000.0                               2266720.0   \n",
       "279  180000000.0                               2518258.0   \n",
       "490  200000000.0                               1594028.0   \n",
       "23   100000000.0                               1916359.0   \n",
       "19   250000000.0                               2200515.0   \n",
       "239  175000000.0                               2014019.0   \n",
       "102  100000000.0                               1320674.0   \n",
       "652   80000000.0                                528072.0   \n",
       "3    200000000.0                               2433265.0   \n",
       "108   75000000.0                                540388.0   \n",
       "80   175000000.0                               1843028.0   \n",
       "226  150000000.0                               1733637.0   \n",
       "27   160000000.0                                372675.0   \n",
       "\n",
       "     metacritic_before_wide_friday_calculated  top_5_trailer_views  \n",
       "468                                      79.0          538068656.0  \n",
       "623                                      72.0          197038432.0  \n",
       "346                                      70.0          542667265.0  \n",
       "37                                       80.0          191498815.0  \n",
       "294                                      83.0           65764078.0  \n",
       "96                                       62.0           92496312.0  \n",
       "318                                      86.0          158087866.0  \n",
       "496                                      59.0           49977186.0  \n",
       "647                                      64.0           80431609.0  \n",
       "360                                      80.0          337879237.0  \n",
       "669                                      69.0           48494846.0  \n",
       "87                                       77.0          158290980.0  \n",
       "549                                      57.0           62680974.0  \n",
       "201                                      68.0           15845005.0  \n",
       "74                                       48.0          183180035.0  \n",
       "33                                       81.0          111528091.0  \n",
       "170                                      68.0          118052687.0  \n",
       "89                                       75.0          112778679.0  \n",
       "454                                      66.0          124194021.0  \n",
       "362                                      55.0          154039630.0  \n",
       "218                                      68.0           48327507.0  \n",
       "13                                       51.0           62046017.0  \n",
       "649                                      43.0          105716506.0  \n",
       "653                                      63.0           65518121.0  \n",
       "101                                      78.0           45205238.0  \n",
       "673                                      72.0          125927335.0  \n",
       "636                                      74.0          145520768.0  \n",
       "119                                      47.0          182346190.0  \n",
       "58                                       67.0          134042442.0  \n",
       "539                                      65.0          237034175.0  \n",
       "648                                      79.0          145354138.0  \n",
       "352                                      68.0           88719820.0  \n",
       "257                                      72.0          204007513.0  \n",
       "279                                      74.0          139917675.0  \n",
       "490                                      83.0          149979330.0  \n",
       "23                                       85.0          151891677.0  \n",
       "19                                       67.0           56409773.0  \n",
       "239                                      75.0           95078092.0  \n",
       "102                                      64.0           48251920.0  \n",
       "652                                      61.0           87411069.0  \n",
       "3                                        54.0           63966028.0  \n",
       "108                                      64.0           64466316.0  \n",
       "80                                       78.0           25587638.0  \n",
       "226                                      76.0           88725095.0  \n",
       "27                                       67.0           37846008.0  "
      ]
     },
     "execution_count": 13,
     "metadata": {},
     "output_type": "execute_result"
    },
    {
     "data": {
      "image/png": "[encoded data removed]",
      "text/plain": [
       "<Figure size 640x480 with 2 Axes>"
      ]
     },
     "metadata": {},
     "output_type": "display_data"
    }
   ],
   "source": [
    "# create a heatmap with the big movies and their various features\n",
    "all_big_movies = pd.concat([X_train, X_test]).query('opening_wide_revenue > 100000000')\n",
    "\n",
    "# add actual and predicted values\n",
    "all_big_movies['actual'] = all_big_movies['opening_wide_revenue']\n",
    "all_big_movies['predicted'] = model_simple_glm.predict(all_big_movies)\n",
    "\n",
    "relevant_features = ['actual', 'predicted', 'budget', 'wikipedia_pre_release_cumulative_views', 'metacritic_before_wide_friday_calculated', 'top_5_trailer_views']\n",
    "\n",
    "sns.heatmap(all_big_movies[relevant_features].corr())\n",
    "\n",
    "display_features = ['title', 'actual', 'predicted', 'budget', 'wikipedia_pre_release_cumulative_views', 'metacritic_before_wide_friday_calculated', 'top_5_trailer_views']\n",
    "\n",
    "# create a table of the big movies and their values\n",
    "all_big_movies[display_features].sort_values('actual', ascending=False)"
   ]
  }
 ],
 "metadata": {
  "kernelspec": {
   "display_name": "stat413class_kernel",
   "language": "python",
   "name": "stat413class_kernel"
  },
  "language_info": {
   "codemirror_mode": {
    "name": "ipython",
    "version": 3
   },
   "file_extension": ".py",
   "mimetype": "text/x-python",
   "name": "python",
   "nbconvert_exporter": "python",
   "pygments_lexer": "ipython3",
   "version": "3.12.5"
  }
 },
 "nbformat": 4,
 "nbformat_minor": 2
}
