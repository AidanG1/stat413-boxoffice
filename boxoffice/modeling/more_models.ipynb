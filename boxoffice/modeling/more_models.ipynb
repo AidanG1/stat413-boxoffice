{
 "cells": [
  {
   "cell_type": "code",
   "execution_count": 2,
   "metadata": {},
   "outputs": [
    {
     "name": "stdout",
     "output_type": "stream",
     "text": [
      "MOVIES_DB_PATH: boxoffice/db/data/data.sqlite\n",
      "MOVIES_DB_PATH: ../boxoffice/db/data/data.sqlite\n",
      "movies.csv exists, 1731906929.6094918, 1731906849.873322\n",
      "Reading from movies.csv\n",
      "Index([], dtype='object')\n"
     ]
    }
   ],
   "source": [
    "# imports\n",
    "import numpy as np\n",
    "import statsmodels.formula.api as smf\n",
    "from boxoffice.modeling.cleaned_data import X_train, y_train, X_test, y_test\n",
    "from sklearn.metrics import root_mean_squared_error\n",
    "import plotly.express as px\n",
    "import plotly.graph_objects as go\n",
    "import pandas as pd\n",
    "import seaborn as sns"
   ]
  },
  {
   "cell_type": "code",
   "execution_count": 3,
   "metadata": {},
   "outputs": [
    {
     "name": "stderr",
     "output_type": "stream",
     "text": [
      "/tmp/ipykernel_12117/4046168135.py:3: PerformanceWarning: DataFrame is highly fragmented.  This is usually the result of calling `frame.insert` many times, which has poor performance.  Consider joining all columns at once using pd.concat(axis=1) instead. To get a de-fragmented frame, use `newframe = frame.copy()`\n",
      "  X_test['opening_wide_revenue'] = y_test\n",
      "/tmp/ipykernel_12117/4046168135.py:5: PerformanceWarning: DataFrame is highly fragmented.  This is usually the result of calling `frame.insert` many times, which has poor performance.  Consider joining all columns at once using pd.concat(axis=1) instead. To get a de-fragmented frame, use `newframe = frame.copy()`\n",
      "  X_test['log_opening_wide_revenue'] = np.log(y_test)\n",
      "/tmp/ipykernel_12117/4046168135.py:7: PerformanceWarning: DataFrame is highly fragmented.  This is usually the result of calling `frame.insert` many times, which has poor performance.  Consider joining all columns at once using pd.concat(axis=1) instead. To get a de-fragmented frame, use `newframe = frame.copy()`\n",
      "  X_test['sqrt_opening_wide_revenue'] = np.sqrt(y_test)\n",
      "/tmp/ipykernel_12117/4046168135.py:9: PerformanceWarning: DataFrame is highly fragmented.  This is usually the result of calling `frame.insert` many times, which has poor performance.  Consider joining all columns at once using pd.concat(axis=1) instead. To get a de-fragmented frame, use `newframe = frame.copy()`\n",
      "  X_test['log_budget'] = np.log(X_test['budget'])\n",
      "/tmp/ipykernel_12117/4046168135.py:11: PerformanceWarning: DataFrame is highly fragmented.  This is usually the result of calling `frame.insert` many times, which has poor performance.  Consider joining all columns at once using pd.concat(axis=1) instead. To get a de-fragmented frame, use `newframe = frame.copy()`\n",
      "  X_test['sqrt_budget'] = np.sqrt(X_test['budget'])\n",
      "/tmp/ipykernel_12117/4046168135.py:13: PerformanceWarning: DataFrame is highly fragmented.  This is usually the result of calling `frame.insert` many times, which has poor performance.  Consider joining all columns at once using pd.concat(axis=1) instead. To get a de-fragmented frame, use `newframe = frame.copy()`\n",
      "  X_test['sqrt_wikipedia_pre_release_cumulative_views'] = np.sqrt(X_test['wikipedia_pre_release_cumulative_views'])\n",
      "/tmp/ipykernel_12117/4046168135.py:15: PerformanceWarning: DataFrame is highly fragmented.  This is usually the result of calling `frame.insert` many times, which has poor performance.  Consider joining all columns at once using pd.concat(axis=1) instead. To get a de-fragmented frame, use `newframe = frame.copy()`\n",
      "  X_test['log_wikipedia_pre_release_cumulative_views'] = np.log(X_test['wikipedia_pre_release_cumulative_views'] + 1)\n",
      "/tmp/ipykernel_12117/4046168135.py:17: PerformanceWarning: DataFrame is highly fragmented.  This is usually the result of calling `frame.insert` many times, which has poor performance.  Consider joining all columns at once using pd.concat(axis=1) instead. To get a de-fragmented frame, use `newframe = frame.copy()`\n",
      "  X_test['sqrt_top_5_trailer_views'] = np.sqrt(X_test['top_5_trailer_views'])\n",
      "/tmp/ipykernel_12117/4046168135.py:19: PerformanceWarning: DataFrame is highly fragmented.  This is usually the result of calling `frame.insert` many times, which has poor performance.  Consider joining all columns at once using pd.concat(axis=1) instead. To get a de-fragmented frame, use `newframe = frame.copy()`\n",
      "  X_test['log_top_5_trailer_views'] = np.log(X_test['top_5_trailer_views'])\n",
      "/tmp/ipykernel_12117/4046168135.py:21: PerformanceWarning: DataFrame is highly fragmented.  This is usually the result of calling `frame.insert` many times, which has poor performance.  Consider joining all columns at once using pd.concat(axis=1) instead. To get a de-fragmented frame, use `newframe = frame.copy()`\n",
      "  X_test['not_friday_opener'] = X_test['release_day_of_week_non_preview'] != 4\n"
     ]
    }
   ],
   "source": [
    "# add the new variables to the data\n",
    "X_train['opening_wide_revenue'] = y_train\n",
    "X_test['opening_wide_revenue'] = y_test\n",
    "X_train['log_opening_wide_revenue'] = np.log(y_train)\n",
    "X_test['log_opening_wide_revenue'] = np.log(y_test)\n",
    "X_train['sqrt_opening_wide_revenue'] = np.sqrt(y_train)\n",
    "X_test['sqrt_opening_wide_revenue'] = np.sqrt(y_test)\n",
    "X_train['log_budget'] = np.log(X_train['budget'])\n",
    "X_test['log_budget'] = np.log(X_test['budget'])\n",
    "X_train['sqrt_budget'] = np.sqrt(X_train['budget'])\n",
    "X_test['sqrt_budget'] = np.sqrt(X_test['budget'])\n",
    "X_train['sqrt_wikipedia_pre_release_cumulative_views'] = np.sqrt(X_train['wikipedia_pre_release_cumulative_views'])\n",
    "X_test['sqrt_wikipedia_pre_release_cumulative_views'] = np.sqrt(X_test['wikipedia_pre_release_cumulative_views'])\n",
    "X_train['log_wikipedia_pre_release_cumulative_views'] = np.log(X_train['wikipedia_pre_release_cumulative_views'] + 1)\n",
    "X_test['log_wikipedia_pre_release_cumulative_views'] = np.log(X_test['wikipedia_pre_release_cumulative_views'] + 1)\n",
    "X_train['sqrt_top_5_trailer_views'] = np.sqrt(X_train['top_5_trailer_views'])\n",
    "X_test['sqrt_top_5_trailer_views'] = np.sqrt(X_test['top_5_trailer_views'])\n",
    "X_train['log_top_5_trailer_views'] = np.log(X_train['top_5_trailer_views'])\n",
    "X_test['log_top_5_trailer_views'] = np.log(X_test['top_5_trailer_views'])\n",
    "X_train['not_friday_opener'] = X_train['release_day_of_week_non_preview'] != 4\n",
    "X_test['not_friday_opener'] = X_test['release_day_of_week_non_preview'] != 4\n",
    "\n",
    "# within production method, change the stop motion to be called digital animation\n",
    "X_train['production_method'] = X_train['production_method'].replace('Stop-Motion Animation', 'Digital Animation')\n",
    "X_test['production_method'] = X_test['production_method'].replace('Stop-Motion Animation', 'Digital Animation')\n"
   ]
  },
  {
   "cell_type": "code",
   "execution_count": 3,
   "metadata": {},
   "outputs": [],
   "source": [
    "# # write all movies with a log wikipedia pre release cumulative views of less than -5 to a txt\n",
    "# with open('low_wikipedia_pre_release_cumulative_views.txt', 'w') as f:\n",
    "#     for index, row in X_train.iterrows():\n",
    "#         if row['log_wikipedia_pre_release_cumulative_views'] < 2:\n",
    "#             f.write(f'{row['wikipedia_key']}\\n')\n",
    "#     for index, row in X_test.iterrows():\n",
    "#         if row['log_wikipedia_pre_release_cumulative_views'] < 2:\n",
    "#             f.write(f'{row['wikipedia_key']}\\n')"
   ]
  },
  {
   "cell_type": "code",
   "execution_count": 12,
   "metadata": {},
   "outputs": [
    {
     "name": "stdout",
     "output_type": "stream",
     "text": [
      "['production_method', 'production_method_Digital_Animation', 'production_method_Live_Action', 'production_method_Stop_Motion_Animation']\n",
      "RMSE: 22959807.98982813\n",
      "                  Generalized Linear Model Regression Results                   \n",
      "================================================================================\n",
      "Dep. Variable:     opening_wide_revenue   No. Observations:                  677\n",
      "Model:                              GLM   Df Residuals:                      672\n",
      "Model Family:                  Gaussian   Df Model:                            4\n",
      "Link Function:                 Identity   Scale:                      3.1973e+14\n",
      "Method:                            IRLS   Log-Likelihood:                -12264.\n",
      "Date:                  Tue, 19 Nov 2024   Deviance:                   2.1486e+17\n",
      "Time:                          21:17:04   Pearson chi2:                 2.15e+17\n",
      "No. Iterations:                       3   Pseudo R-squ. (CS):             0.9761\n",
      "Covariance Type:              nonrobust                                         \n",
      "============================================================================================================================================================\n",
      "                                                                                               coef    std err          z      P>|z|      [0.025      0.975]\n",
      "------------------------------------------------------------------------------------------------------------------------------------------------------------\n",
      "top_5_trailer_views                                                                          0.2899      0.020     14.425      0.000       0.251       0.329\n",
      "budget                                                                                       0.1573      0.012     12.718      0.000       0.133       0.182\n",
      "wikipedia_pre_release_monday_views:in_franchise:production_method[Animation/Live Action]    46.1401      2.988     15.442      0.000      40.284      51.997\n",
      "wikipedia_pre_release_monday_views:in_franchise:production_method[Digital Animation]        42.7272      7.923      5.393      0.000      27.198      58.257\n",
      "wikipedia_pre_release_monday_views:in_franchise:production_method[Live Action]              18.1039      2.284      7.927      0.000      13.627      22.580\n",
      "============================================================================================================================================================\n"
     ]
    },
    {
     "data": {
      "application/vnd.plotly.v1+json": {
       "config": {
        "plotlyServerURL": "https://plot.ly"
       },
       "data": [
        {
         "hovertemplate": "<b>%{hovertext}</b><br><br>actual=%{x}<br>predicted=%{y}<br>extra=%{marker.color}<extra></extra>",
         "hovertext": [
          "The Transporter Refueled",
          "The Perfect Guy",
          "The Visit",
          "Maze Runner: The Scorch Trials",
          "Black Mass",
          "Everest",
          "Sicario",
          "The Intern",
          "The Green Inferno",
          "Hotel Transylvania 2",
          "The Walk",
          "The Martian",
          "Pan",
          "Steve Jobs",
          "Crimson Peak",
          "Woodlawn",
          "Bridge of Spies",
          "Goosebumps",
          "Paranormal Activity: The Ghost Dimension",
          "The Last Witch Hunter",
          "Burnt",
          "Our Brand is Crisis",
          "Spectre",
          "The Peanuts Movie",
          "Spotlight",
          "Love the Coopers",
          "The 33",
          "The Hunger Games: Mockingjay - Part 2",
          "The Night Before",
          "Secret in Their Eyes",
          "Creed",
          "The Good Dinosaur",
          "Krampus",
          "In the Heart of the Sea",
          "The Big Short",
          "Sisters",
          "Alvin and the Chipmunks: The Road Chip",
          "Star Wars Ep. VII: The Force Awakens",
          "Daddy’s Home",
          "Joy",
          "Concussion",
          "Point Break",
          "The Hateful Eight",
          "The Revenant",
          "The Forest",
          "Ride Along 2",
          "13 Hours: The Secret Soldiers of Benghazi",
          "Norm of the North",
          "The Boy",
          "Dirty Grandpa",
          "The 5th Wave",
          "Fifty Shades of Black",
          "Kung Fu Panda 3",
          "The Finest Hours",
          "Pride and Prejudice and Zombies",
          "Hail, Caesar!",
          "Zoolander 2",
          "How to be Single",
          "Deadpool",
          "Risen",
          "The Witch",
          "Race",
          "Triple 9",
          "Gods of Egypt",
          "Eddie the Eagle",
          "Zootopia",
          "London Has Fallen",
          "Whiskey Tango Foxtrot",
          "10 Cloverfield Lane",
          "The Brothers Grimsby",
          "Eye in the Sky",
          "The Young Messiah",
          "Miracles from Heaven",
          "The Divergent Series: Allegiant",
          "Batman v Superman: Dawn of Justice",
          "My Big Fat Greek Wedding 2",
          "God’s Not Dead 2",
          "Meet the Blacks",
          "The Boss",
          "Hardcore Henry",
          "The Jungle Book",
          "Barbershop: The Next Cut",
          "Criminal",
          "The Huntsman: Winter’s War",
          "Mother’s Day",
          "Ratchet and Clank",
          "Keanu",
          "Captain America: Civil War",
          "Money Monster",
          "The Nice Guys",
          "The Angry Birds Movie",
          "Neighbors 2: Sorority Rising",
          "X-Men: Apocalypse",
          "Alice Through the Looking Glass",
          "Teenage Mutant Ninja Turtles: Out of the Shadows",
          "Me Before You",
          "Popstar: Never Stop Never Stopping",
          "The Conjuring 2: The Enfield Poltergeist",
          "Warcraft",
          "Now You See Me 2",
          "Central Intelligence",
          "Finding Dory",
          "Independence Day: Resurgence",
          "The Shallows",
          "Free State of Jones",
          "The Purge: Election Year",
          "The Legend of Tarzan",
          "The BFG",
          "The Secret Life of Pets",
          "Mike and Dave Need Wedding Dates",
          "The Infiltrator",
          "Hillary’s America: The Secret History of the Democratic Party",
          "Ghostbusters",
          "Ice Age: Collision Course",
          "Star Trek Beyond",
          "Lights Out",
          "Nerve",
          "Jason Bourne",
          "Bad Moms",
          "Suicide Squad",
          "Nine Lives",
          "Sausage Party",
          "Florence Foster Jenkins",
          "Pete’s Dragon",
          "Hell or High Water",
          "Kubo and the Two Strings",
          "Ben-Hur",
          "War Dogs",
          "Mechanic: Resurrection",
          "Don’t Breathe",
          "The Light Between Oceans",
          "When the Bough Breaks",
          "Sully",
          "Blair Witch",
          "Snowden",
          "Bridget Jones’s Baby",
          "The Magnificent Seven",
          "Storks",
          "Queen of Katwe",
          "Miss Peregrine’s Home for Peculiar Children",
          "Deepwater Horizon",
          "Masterminds",
          "The Birth of a Nation",
          "The Girl on the Train",
          "Middle School: The Worst Years of My Life",
          "Kevin Hart: What Now?",
          "The Accountant",
          "Jack Reacher: Never Go Back",
          "Tyler Perry’s Boo! A Madea Halloween",
          "Ouija: Origin of Evil",
          "Keeping Up with the Joneses",
          "Moonlight",
          "Inferno",
          "Doctor Strange",
          "Trolls",
          "Hacksaw Ridge",
          "Almost Christmas",
          "Shut In",
          "Arrival",
          "Nocturnal Animals",
          "Manchester by the Sea",
          "Fantastic Beasts and Where to Find Them",
          "The Edge of Seventeen",
          "Allied",
          "Bad Santa 2",
          "Moana",
          "Lion",
          "Incarnate",
          "Office Christmas Party",
          "La La Land",
          "Rogue One: A Star Wars Story",
          "Collateral Beauty",
          "Sing",
          "Assassin’s Creed",
          "Passengers",
          "Patriots Day",
          "Why Him?",
          "Live by Night",
          "Hidden Figures",
          "Underworld: Blood Wars",
          "The Bye Bye Man",
          "Sleepless",
          "Monster Trucks",
          "Split",
          "xXx: Return of Xander Cage",
          "The Founder",
          "Resident Evil: The Final Chapter",
          "A Dog’s Purpose",
          "The Space Between Us",
          "Rings",
          "Fifty Shades Darker",
          "John Wick: Chapter Two",
          "The Lego Batman Movie",
          "The Great Wall",
          "Fist Fight",
          "Get Out",
          "Rock Dog",
          "The Shack",
          "Before I Fall",
          "Logan",
          "Kong: Skull Island",
          "Beauty and the Beast",
          "The Belko Experiment",
          "Power Rangers",
          "Life",
          "CHiPS",
          "The Zookeeper’s Wife",
          "Ghost in the Shell",
          "The Boss Baby",
          "The Case for Christ",
          "Gifted",
          "Going in Style",
          "Smurfs: The Lost Village",
          "The Fate of the Furious",
          "The Promise",
          "Unforgettable",
          "How to Be a Latin Lover",
          "The Circle",
          "Guardians of the Galaxy Vol 2",
          "King Arthur: Legend of the Sword",
          "Snatched",
          "Alien: Covenant",
          "Everything, Everything",
          "Diary of a Wimpy Kid: The Long Haul",
          "Baywatch",
          "Pirates of the Caribbean: Dead Men Tell No Tales",
          "Wonder Woman",
          "Captain Underpants: The First Epic Movie",
          "The Mummy",
          "It Comes at Night",
          "47 Meters Down",
          "Rough Night",
          "All Eyez on Me",
          "Cars 3",
          "Transformers: The Last Knight",
          "The Big Sick",
          "Baby Driver",
          "Despicable Me 3",
          "The House",
          "Spider-Man: Homecoming",
          "War for the Planet of the Apes",
          "Valerian and the City of a Thousand Planets",
          "Dunkirk",
          "Girls Trip",
          "Detroit",
          "Atomic Blonde",
          "The Emoji Movie",
          "The Dark Tower",
          "Kidnap",
          "Wind River",
          "Annabelle: Creation",
          "The Nut Job 2: Nutty by Nature",
          "The Hitman’s Bodyguard",
          "Logan Lucky",
          "Birth of the Dragon",
          "Ballerina",
          "Home Again",
          "It",
          "American Assassin",
          "mother!",
          "Kingsman: The Golden Circle",
          "The Lego Ninjago Movie",
          "Battle of the Sexes",
          "Victoria and Abdul",
          "American Made",
          "Flatliners",
          "Blade Runner 2049",
          "My Little Pony: The Movie",
          "Happy Death Day",
          "The Foreigner",
          "Geostorm",
          "Same Kind of Different as Me",
          "Only the Brave",
          "Tyler Perry’s Boo 2! A Madea Halloween",
          "The Snowman",
          "Jigsaw",
          "Thank You for Your Service",
          "Suburbicon",
          "A Bad Moms Christmas",
          "Thor: Ragnarok",
          "Lady Bird",
          "Three Billboards Outside Ebbing, Missouri",
          "Murder on the Orient Express",
          "Daddy’s Home 2",
          "Justice League",
          "Wonder",
          "The Star",
          "Roman J. Israel, Esq.",
          "Coco",
          "Darkest Hour",
          "The Shape of Water",
          "The Disaster Artist",
          "Just Getting Started",
          "I, Tonya",
          "Star Wars Ep. VIII: The Last Jedi",
          "Ferdinand",
          "Jumanji: Welcome to the Jungle",
          "The Greatest Showman",
          "The Post",
          "Pitch Perfect 3",
          "Downsizing",
          "Father Figures",
          "Hostiles",
          "All the Money in the World",
          "Molly’s Game",
          "Phantom Thread",
          "Insidious: The Last Key",
          "Proud Mary",
          "Paddington 2",
          "The Commuter",
          "Den of Thieves",
          "12 Strong",
          "Forever My Girl",
          "Maze Runner: The Death Cure",
          "Winchester",
          "Fifty Shades Freed",
          "Peter Rabbit",
          "The 15:17 to Paris",
          "Black Panther",
          "Early Man",
          "Game Night",
          "Annihilation",
          "Every Day",
          "Red Sparrow",
          "Death Wish",
          "A Wrinkle in Time",
          "The Strangers: Prey at Night",
          "The Hurricane Heist",
          "Tomb Raider",
          "I Can Only Imagine",
          "Love, Simon",
          "Pacific Rim: Uprising",
          "Sherlock Gnomes",
          "Paul, Apostle of Christ",
          "Midnight Sun",
          "Unsane",
          "Isle of Dogs",
          "Ready Player One",
          "Acrimony",
          "A Quiet Place",
          "Blockers",
          "Chappaquiddick",
          "Rampage",
          "I Feel Pretty",
          "Super Troopers 2",
          "Traffik",
          "Avengers: Infinity War",
          "Overboard",
          "Life of the Party",
          "Breaking In",
          "Show Dogs",
          "Book Club",
          "Deadpool 2",
          "Solo: A Star Wars Story",
          "Adrift",
          "Upgrade",
          "Ocean’s 8",
          "Hereditary",
          "Hotel Artemis",
          "Superfly",
          "Incredibles 2",
          "Tag",
          "Jurassic World: Fallen Kingdom",
          "Sicario: Day of the Soldado",
          "Uncle Drew",
          "The First Purge",
          "Sorry to Bother You",
          "Ant-Man and the Wasp",
          "Hotel Transylvania 3: Summer Vacation",
          "Skyscraper",
          "Eighth Grade",
          "Mamma Mia: Here We Go Again!",
          "The Equalizer 2",
          "Unfriended: Dark Web",
          "Mission: Impossible—Fallout",
          "Teen Titans Go! To The Movies",
          "Christopher Robin",
          "The Spy Who Dumped Me",
          "The Darkest Minds",
          "Dog Days",
          "Slender Man",
          "The Meg",
          "BlacKkKlansman",
          "Crazy Rich Asians",
          "Mile 22",
          "Alpha",
          "The Happytime Murders",
          "A.X.L.",
          "Searching",
          "Operation Finale",
          "Kin",
          "The Nun",
          "Peppermint",
          "The Predator",
          "A Simple Favor",
          "White Boy Rick",
          "The House with a Clock in its Walls",
          "Fahrenheit 11/9",
          "Hell Fest",
          "Night School",
          "Smallfoot",
          "Venom",
          "A Star is Born",
          "The Hate U Give",
          "First Man",
          "Goosebumps 2: Haunted Halloween",
          "Bad Times at the El Royale",
          "Halloween",
          "Mid90s",
          "Hunter Killer",
          "Nobody’s Fool",
          "Bohemian Rhapsody",
          "The Nutcracker and the Four Realms",
          "The Girl in the Spider’s Web",
          "Overlord",
          "Dr. Seuss’ The Grinch",
          "Fantastic Beasts: The Crimes of Grindelwald",
          "Instant Family",
          "Widows",
          "Green Book",
          "Creed II",
          "Ralph Breaks The Internet",
          "Robin Hood",
          "The Favourite",
          "The Possession of Hannah Grace",
          "Spider-Man: Into The Spider-Verse 3D",
          "Mortal Engines",
          "The Mule",
          "If Beale Street Could Talk",
          "Mary Poppins Returns",
          "Aquaman",
          "Bumblebee",
          "Second Act",
          "Welcome to Marwen",
          "Holmes & Watson",
          "Vice",
          "On the Basis of Sex",
          "Escape Room",
          "The Upside",
          "A Dog’s Way Home",
          "Glass",
          "The Kid Who Would Be King",
          "Serenity",
          "Miss Bala",
          "The LEGO Movie 2: The Second Part",
          "What Men Want",
          "Cold Pursuit",
          "The Prodigy",
          "Isn’t it Romantic",
          "Happy Death Day 2U",
          "Alita: Battle Angel",
          "Fighting With My Family",
          "How to Train Your Dragon: The Hidden World",
          "Tyler Perry’s A Madea Family Funeral",
          "Captain Marvel",
          "Five Feet Apart",
          "Wonder Park",
          "Captive State",
          "Us",
          "Dumbo",
          "Unplanned",
          "Shazam!",
          "Pet Sematary",
          "The Best of Enemies",
          "After",
          "Hellboy",
          "Breakthrough",
          "The Curse of La Llorona",
          "Avengers: Endgame",
          "The Intruder",
          "Long Shot",
          "UglyDolls",
          "Poms",
          "The Hustle",
          "Pokémon: Detective Pikachu",
          "John Wick: Chapter 3 — Parabellum",
          "A Dog’s Journey",
          "The Sun is Also a Star",
          "Aladdin",
          "BrightBurn",
          "Booksmart",
          "Godzilla: King of the Monsters",
          "Rocketman",
          "MA",
          "Dark Phoenix",
          "The Secret Life of Pets 2",
          "Late Night",
          "Men in Black: International",
          "Shaft",
          "Anna",
          "Toy Story 4",
          "Annabelle Comes Home",
          "Spider-Man: Far From Home",
          "Midsommar",
          "Crawl",
          "Stuber",
          "The Lion King",
          "Once Upon a Time…in Hollywood",
          "Fast & Furious Presents: Hobbs & Shaw",
          "Scary Stories to Tell in the Dark",
          "Dora and the Lost City of Gold",
          "The Art of Racing in the Rain",
          "The Kitchen",
          "The Peanut Butter Falcon",
          "The Angry Birds Movie 2",
          "47 Meters Down: Uncaged",
          "Where’d You Go Bernadette",
          "Good Boys",
          "Blinded by the Light",
          "Ready or Not",
          "Angel Has Fallen",
          "Overcomer",
          "It: Chapter Two",
          "Hustlers",
          "The Goldfinch",
          "Ad Astra",
          "Rambo: Last Blood",
          "Abominable",
          "Joker",
          "Parasite (기생충)",
          "The Addams Family",
          "Jexi",
          "Gemini Man",
          "Zombieland: Double Tap",
          "Maleficent: Mistress of Evil",
          "Jojo Rabbit",
          "Black and Blue",
          "Countdown",
          "The Current War: Director’s Cut",
          "Terminator: Dark Fate",
          "Harriet",
          "Motherless Brooklyn",
          "Arctic Dogs",
          "Midway",
          "Doctor Sleep",
          "Last Christmas",
          "Charlie’s Angels",
          "The Good Liar",
          "Ford v. Ferrari",
          "Frozen II",
          "A Beautiful Day in the Neighborhood",
          "21 Bridges",
          "Knives Out",
          "Queen & Slim",
          "Jumanji: The Next Level",
          "Black Christmas",
          "Richard Jewell",
          "Bombshell",
          "Cats",
          "Star Wars: The Rise of Skywalker",
          "Little Women",
          "Spies in Disguise",
          "1917",
          "Just Mercy",
          "The Grudge",
          "Underwater",
          "Like a Boss",
          "Bad Boys For Life",
          "Dolittle",
          "The Gentlemen",
          "The Turning",
          "Gretel & Hansel",
          "The Rhythm Section",
          "Birds of Prey (And the Fantabulous Emancipation of One Harley Quinn)",
          "The Photograph",
          "Sonic The Hedgehog",
          "The Call of the Wild",
          "Brahms: The Boy II",
          "Impractical Jokers: The Movie",
          "Emma.",
          "The Invisible Man",
          "Onward",
          "The Way Back",
          "Bloodshot",
          "I Still Believe",
          "The Hunt",
          "Unhinged",
          "The New Mutants",
          "The War with Grandpa",
          "Honest Thief",
          "Come Play",
          "Freaky",
          "The Croods: A New Age",
          "News of the World",
          "The Marksman",
          "Chaos Walking",
          "Nobody",
          "The Unholy",
          "Demon Slayer: Kimetsu no Yaiba—The Movie: Mugen Train (劇場版「鬼滅の刃」 無限列車編)",
          "Wrath of Man",
          "Spiral",
          "A Quiet Place: Part II",
          "Spirit Untamed",
          "Peter Rabbit 2: The Runaway",
          "The Hitman’s Wife’s Bodyguard",
          "F9: The Fast Saga",
          "The Forever Purge",
          "The Boss Baby: Family Business",
          "Black Widow",
          "Escape Room: Tournament of Champions",
          "Old",
          "Snake Eyes: G.I. Joe Origins",
          "Jungle Cruise",
          "The Green Knight",
          "Don’t Breathe 2",
          "PAW Patrol: The Movie",
          "Shang-Chi and the Legend of the Ten Rings",
          "Venom: Let There be Carnage",
          "No Time to Die",
          "Halloween Kills",
          "The Last Duel",
          "Dune",
          "Last Night in Soho",
          "Eternals",
          "Clifford the Big Red Dog",
          "King Richard",
          "Ghostbusters: Afterlife",
          "Resident Evil: Welcome to Raccoon City",
          "House of Gucci",
          "Encanto",
          "Licorice Pizza",
          "West Side Story",
          "Nightmare Alley",
          "Spider-Man: No Way Home",
          "The Matrix Resurrections",
          "The King’s Man",
          "Sing 2",
          "The 355",
          "Scream",
          "jackass forever",
          "Moonfall",
          "Blacklight",
          "Marry Me",
          "Death on the Nile",
          "Uncharted",
          "Dog",
          "The Batman",
          "X",
          "Everything Everywhere All At Once",
          "The Lost City",
          "Morbius",
          "Sonic the Hedgehog 2",
          "Ambulance",
          "Father Stu",
          "Fantastic Beasts: The Secrets of Dumbledore",
          "The Bad Guys",
          "The Unbearable Weight of Massive Talent",
          "Doctor Strange in the Multiverse of Madness",
          "Top Gun: Maverick",
          "Jurassic World: Dominion",
          "Lightyear",
          "Elvis",
          "Minions: The Rise of Gru",
          "Thor: Love and Thunder",
          "Paws of Fury: The Legend of Hank",
          "Where the Crawdads Sing",
          "Nope",
          "DC League of Super Pets",
          "Bullet Train",
          "Beast",
          "Three Thousand Years of Longing",
          "Barbarian",
          "The Woman King",
          "Smile",
          "Lyle, Lyle, Crocodile",
          "Amsterdam",
          "Halloween Ends",
          "Black Adam",
          "Ticket to Paradise",
          "Black Panther: Wakanda Forever",
          "The Menu",
          "Strange World",
          "Violent Night",
          "Avatar: The Way of Water",
          "Puss in Boots: The Last Wish",
          "Babylon",
          "A Man Called Otto"
         ],
         "legendgroup": "",
         "marker": {
          "color": [
           4690.41575982343,
           4242.640687119285,
           2236.06797749979,
           7810.249675906654,
           7280.1098892805185,
           8062.25774829855,
           5477.2255750516615,
           6324.555320336759,
           1000,
           8944.27190999916,
           5916.079783099616,
           10392.304845413264,
           12247.44871391589,
           5477.2255750516615,
           7416.198487095663,
           3605.5512754639894,
           6324.555320336759,
           7615.773105863908,
           3162.2776601683795,
           8944.27190999916,
           4472.13595499958,
           5291.502622129181,
           15652.475842498528,
           9949.8743710662,
           4472.13595499958,
           4242.640687119285,
           5000,
           12649.110640673518,
           5000,
           4472.13595499958,
           6082.76253029822,
           13693.063937629153,
           3872.983346207417,
           10000,
           5291.502622129181,
           5477.2255750516615,
           9486.832980505138,
           23091.123835794566,
           7071.067811865475,
           7745.966692414834,
           5916.079783099616,
           10000,
           7874.007874011811,
           11618.95003862225,
           3162.2776601683795,
           6324.555320336759,
           7071.067811865475,
           4242.640687119285,
           3162.2776601683795,
           3391.164991562634,
           6164.414002968976,
           2236.06797749979,
           11832.159566199232,
           8366.600265340756,
           5291.502622129181,
           4690.41575982343,
           7071.067811865475,
           6082.76253029822,
           7615.773105863908,
           4472.13595499958,
           1870.8286933869706,
           2236.06797749979,
           4472.13595499958,
           11832.159566199232,
           4795.83152331272,
           12247.44871391589,
           7745.966692414834,
           5916.079783099616,
           3872.983346207417,
           5916.079783099616,
           3605.5512754639894,
           4098.780306383839,
           3605.5512754639894,
           10488.088481701516,
           16217.274740226854,
           4242.640687119285,
           2236.06797749979,
           948.6832980505138,
           5385.164807134504,
           1414.213562373095,
           13228.756555322952,
           4472.13595499958,
           5612.486080160912,
           10723.805294763608,
           5000,
           4472.13595499958,
           3872.983346207417,
           15811.388300841896,
           5196.152422706632,
           7071.067811865475,
           8544.003745317532,
           5916.079783099616,
           13341.664064126333,
           13038.404810405298,
           11618.95003862225,
           4472.13595499958,
           4472.13595499958,
           6324.555320336759,
           12649.110640673518,
           9486.832980505138,
           7071.067811865475,
           14142.13562373095,
           12845.232578665129,
           3605.5512754639894,
           7071.067811865475,
           3162.2776601683795,
           13416.407864998739,
           11832.159566199232,
           8660.254037844386,
           5744.562646538028,
           6892.024376045111,
           2236.06797749979,
           12000,
           10246.950765959598,
           13601.470508735443,
           2236.06797749979,
           4472.13595499958,
           10954.451150103323,
           4472.13595499958,
           13228.756555322952,
           5477.2255750516615,
           4358.898943540674,
           5385.164807134504,
           8062.25774829855,
           3464.1016151377544,
           7416.198487095663,
           9746.794344808965,
           7071.067811865475,
           6324.555320336759,
           3162.2776601683795,
           4472.13595499958,
           3162.2776601683795,
           7745.966692414834,
           3162.2776601683795,
           7071.067811865475,
           5916.079783099616,
           9486.832980505138,
           8366.600265340756,
           3872.983346207417,
           10488.088481701516,
           12489.995996796797,
           5000,
           3162.2776601683795,
           6708.203932499369,
           2915.4759474226503,
           3162.2776601683795,
           6324.555320336759,
           7745.966692414834,
           4472.13595499958,
           3000,
           6324.555320336759,
           1224.744871391589,
           8660.254037844386,
           12845.232578665129,
           11180.339887498949,
           6324.555320336759,
           4123.105625617661,
           3162.2776601683795,
           6855.654600401044,
           4743.416490252569,
           2915.4759474226503,
           13416.407864998739,
           3000,
           10295.630140987001,
           5099.019513592785,
           12247.44871391589,
           3464.1016151377544,
           2236.06797749979,
           6708.203932499369,
           5477.2255750516615,
           16739.175606940742,
           6000,
           8660.254037844386,
           11180.339887498949,
           10488.088481701516,
           6324.555320336759,
           6164.414002968976,
           8062.25774829855,
           5000,
           5916.079783099616,
           2720.2941017470885,
           5477.2255750516615,
           11180.339887498949,
           3000,
           9219.544457292888,
           3872.983346207417,
           6324.555320336759,
           5000,
           5477.2255750516615,
           5000,
           7416.198487095663,
           6324.555320336759,
           8944.27190999916,
           12247.44871391589,
           5000,
           2236.06797749979,
           7745.966692414834,
           4472.13595499958,
           2236.06797749979,
           11269.427669584646,
           13601.470508735443,
           12649.110640673518,
           2236.06797749979,
           10954.451150103323,
           7615.773105863908,
           5000,
           4472.13595499958,
           10488.088481701516,
           11180.339887498949,
           1732.0508075688772,
           2645.7513110645905,
           4898.979485566356,
           7745.966692414834,
           15811.388300841896,
           9486.832980505138,
           3464.1016151377544,
           3162.2776601683795,
           4242.640687119285,
           14142.13562373095,
           13228.756555322952,
           6480.74069840786,
           9848.857801796104,
           3162.2776601683795,
           4690.41575982343,
           7745.966692414834,
           15165.7508881031,
           12247.44871391589,
           6164.414002968976,
           13964.240043768941,
           2236.06797749979,
           2302.1728866442677,
           4472.13595499958,
           6708.203932499369,
           13228.756555322952,
           14730.919862656236,
           2236.06797749979,
           5830.951894845301,
           8660.254037844386,
           6324.555320336759,
           13228.756555322952,
           12328.828005937952,
           13416.407864998739,
           12247.44871391589,
           5291.502622129181,
           6324.555320336759,
           5477.2255750516615,
           7071.067811865475,
           8124.03840463596,
           4582.57569495584,
           3316.6247903554,
           3872.983346207417,
           6324.555320336759,
           5477.2255750516615,
           5385.164807134504,
           5567.764362830022,
           5477.2255750516615,
           3872.983346207417,
           5916.079783099616,
           7937.253933193771,
           5477.2255750516615,
           10198.03902718557,
           8366.600265340756,
           5000,
           4582.57569495584,
           7071.067811865475,
           4472.13595499958,
           13601.470508735443,
           2549.5097567963926,
           2236.06797749979,
           5916.079783099616,
           10000,
           2549.5097567963926,
           6164.414002968976,
           4472.13595499958,
           5916.079783099616,
           3162.2776601683795,
           4472.13595499958,
           5000,
           5291.502622129181,
           13416.407864998739,
           3162.2776601683795,
           3464.1016151377544,
           7416.198487095663,
           8366.600265340756,
           17320.508075688773,
           4472.13595499958,
           4472.13595499958,
           4690.41575982343,
           13228.756555322952,
           5477.2255750516615,
           4415.880433163923,
           3162.2776601683795,
           4690.41575982343,
           3316.6247903554,
           16186.414056238646,
           10535.653752852739,
           9486.832980505138,
           9165.15138991168,
           7071.067811865475,
           6708.203932499369,
           8246.211251235321,
           5000,
           7071.067811865475,
           7071.067811865475,
           5477.2255750516615,
           5916.079783099616,
           3162.2776601683795,
           5477.2255750516615,
           6324.555320336759,
           6324.555320336759,
           5477.2255750516615,
           5916.079783099616,
           1870.8286933869706,
           7810.249675906654,
           1870.8286933869706,
           7416.198487095663,
           7071.067811865475,
           5477.2255750516615,
           14142.13562373095,
           7071.067811865475,
           6082.76253029822,
           7416.198487095663,
           2213.5943621178653,
           8306.623862918075,
           5477.2255750516615,
           10148.891565092219,
           2236.06797749979,
           6324.555320336759,
           9486.832980505138,
           2645.7513110645905,
           3162.2776601683795,
           12449.899597988733,
           7681.145747868608,
           2236.06797749979,
           1673.320053068151,
           1224.744871391589,
           7922.764542759049,
           12247.44871391589,
           4472.13595499958,
           4123.105625617661,
           4582.57569495584,
           5830.951894845301,
           10954.451150103323,
           5656.85424949238,
           3674.234614174767,
           2000,
           17320.508075688773,
           3464.1016151377544,
           5477.2255750516615,
           2449.489742783178,
           2345.207879911715,
           3162.2776601683795,
           10488.088481701516,
           18176.908428002822,
           5916.079783099616,
           1732.0508075688772,
           8366.600265340756,
           3162.2776601683795,
           3872.983346207417,
           4000,
           14142.13562373095,
           5291.502622129181,
           13038.404810405298,
           5916.079783099616,
           4242.640687119285,
           3605.5512754639894,
           1788.8543819998317,
           11401.75425099138,
           8062.25774829855,
           11180.339887498949,
           1414.213562373095,
           8660.254037844386,
           8774.964387392121,
           1000,
           13341.664064126333,
           3162.2776601683795,
           8660.254037844386,
           6324.555320336759,
           5830.951894845301,
           3162.2776601683795,
           3162.2776601683795,
           13341.664064126333,
           3872.983346207417,
           5477.2255750516615,
           5916.079783099616,
           7141.42842854285,
           6324.555320336759,
           3162.2776601683795,
           938.083151964686,
           4472.13595499958,
           5477.2255750516615,
           4690.41575982343,
           5000,
           9380.83151964686,
           4472.13595499958,
           5477.2255750516615,
           6324.555320336759,
           2236.06797749979,
           2345.207879911715,
           5385.164807134504,
           8944.27190999916,
           10770.329614269009,
           6000,
           4795.83152331272,
           7745.966692414834,
           5916.079783099616,
           5656.85424949238,
           3162.2776601683795,
           1673.320053068151,
           6324.555320336759,
           4358.898943540674,
           7416.198487095663,
           11528.22622956368,
           6557.438524302001,
           6164.414002968976,
           8660.254037844386,
           14142.13562373095,
           6928.203230275509,
           6324.555320336759,
           4795.83152331272,
           7071.067811865475,
           13228.756555322952,
           9949.8743710662,
           3872.983346207417,
           2449.489742783178,
           9486.832980505138,
           10000,
           7071.067811865475,
           3464.1016151377544,
           11401.75425099138,
           12649.110640673518,
           10099.504938362077,
           3962.32255123179,
           6708.203932499369,
           6480.74069840786,
           7745.966692414834,
           4472.13595499958,
           3000,
           6123.724356957945,
           7810.249675906654,
           4472.13595499958,
           7681.145747868608,
           5000,
           3872.983346207417,
           9949.8743710662,
           4472.13595499958,
           7745.966692414834,
           2449.489742783178,
           5567.764362830022,
           3000,
           13038.404810405298,
           3316.6247903554,
           11357.816691600547,
           4472.13595499958,
           13228.756555322952,
           2645.7513110645905,
           10000,
           5000,
           4472.13595499958,
           13038.404810405298,
           2449.489742783178,
           9219.544457292888,
           4582.57569495584,
           3162.2776601683795,
           3741.657386773941,
           7071.067811865475,
           3741.657386773941,
           3000,
           20000,
           2828.42712474619,
           6324.555320336759,
           6708.203932499369,
           3162.2776601683795,
           4582.57569495584,
           12247.44871391589,
           8660.254037844386,
           4000,
           3000,
           13490.737563232042,
           2645.7513110645905,
           2449.489742783178,
           13038.404810405298,
           6403.1242374328485,
           2236.06797749979,
           14142.13562373095,
           8944.27190999916,
           2000,
           10488.088481701516,
           5477.2255750516615,
           5477.2255750516615,
           14142.13562373095,
           5196.152422706632,
           12649.110640673518,
           3000,
           4123.105625617661,
           4000,
           16124.5154965971,
           9486.832980505138,
           14142.13562373095,
           5291.502622129181,
           7000,
           4242.640687119285,
           6164.414002968976,
           2489.9799195977466,
           8062.25774829855,
           3464.1016151377544,
           4472.13595499958,
           4472.13595499958,
           3872.983346207417,
           2449.489742783178,
           6324.555320336759,
           2236.06797749979,
           8366.600265340756,
           4549.72526643093,
           6324.555320336759,
           8944.27190999916,
           7071.067811865475,
           8660.254037844386,
           7416.198487095663,
           3435.1128074635335,
           4898.979485566356,
           2236.06797749979,
           11832.159566199232,
           6928.203230275509,
           13601.470508735443,
           3741.657386773941,
           3464.1016151377544,
           2549.5097567963926,
           5477.2255750516615,
           13601.470508735443,
           4123.105625617661,
           5099.019513592785,
           7071.067811865475,
           10000,
           6708.203932499369,
           5477.2255750516615,
           6928.203230275509,
           3162.2776601683795,
           9879.271228182775,
           12247.44871391589,
           6708.203932499369,
           5744.562646538028,
           6324.555320336759,
           4472.13595499958,
           11180.339887498949,
           2236.06797749979,
           6708.203932499369,
           5656.85424949238,
           10000,
           16583.123951777,
           6480.74069840786,
           10000,
           10000,
           5000,
           3162.2776601683795,
           8062.25774829855,
           5385.164807134504,
           9486.832980505138,
           13228.756555322952,
           4690.41575982343,
           3464.1016151377544,
           2236.06797749979,
           7071.067811865475,
           9055.385138137417,
           3872.983346207417,
           9486.832980505138,
           11180.339887498949,
           3162.2776601683795,
           1732.0508075688772,
           3162.2776601683795,
           2645.7513110645905,
           14142.13562373095,
           4795.83152331272,
           6708.203932499369,
           3464.1016151377544,
           4266.145801540309,
           5744.562646538028,
           8185.35277187245,
           6164.414002968976,
           5477.2255750516615,
           3000,
           2449.489742783178,
           8062.25774829855,
           6164.414002968976,
           4795.83152331272,
           10000,
           4000,
           3162.2776601683795,
           3968.6269665968857,
           6324.555320336759,
           4472.13595499958,
           7810.249675906654,
           5477.2255750516615,
           6708.203932499369,
           8366.600265340756,
           14142.13562373095,
           4242.640687119285,
           9055.385138137417,
           14142.13562373095,
           3872.983346207417,
           4242.640687119285,
           9380.83151964686,
           14142.13562373095,
           3872.983346207417,
           3872.983346207417,
           5099.019513592785,
           12247.44871391589,
           10488.088481701516,
           15811.388300841896,
           4472.13595499958,
           10000,
           12845.232578665129,
           6557.438524302001,
           14142.13562373095,
           8000,
           7071.067811865475,
           8660.254037844386,
           5000,
           8660.254037844386,
           12247.44871391589,
           6324.555320336759,
           10000,
           7745.966692414834,
           14142.13562373095,
           13784.048752090222,
           10000,
           9219.544457292888,
           8660.254037844386,
           4898.979485566356,
           3162.2776601683795,
           12247.44871391589,
           5385.164807134504,
           4795.83152331272,
           9486.832980505138,
           10954.451150103323,
           3872.983346207417,
           14142.13562373095,
           1000,
           5000,
           8602.325267042626,
           8660.254037844386,
           9486.832980505138,
           6324.555320336759,
           2000,
           14142.13562373095,
           8366.600265340756,
           5477.2255750516615,
           14142.13562373095,
           13038.404810405298,
           12845.232578665129,
           14142.13562373095,
           9219.544457292888,
           8944.27190999916,
           15811.388300841896,
           6708.203932499369,
           4898.979485566356,
           8246.211251235321,
           9486.832980505138,
           9268.225288586807,
           6000,
           7745.966692414834,
           2121.3203435596424,
           7071.067811865475,
           4123.105625617661,
           7071.067811865475,
           8944.27190999916,
           4472.13595499958,
           14142.13562373095,
           7745.966692414834,
           15811.388300841896,
           5477.2255750516615,
           11618.95003862225,
           4472.13595499958,
           21447.610589527216,
           9486.832980505138,
           10488.088481701516,
           7071.067811865475
          ],
          "coloraxis": "coloraxis",
          "symbol": "circle"
         },
         "mode": "markers",
         "name": "",
         "orientation": "v",
         "showlegend": false,
         "type": "scatter",
         "x": [
          7355622,
          25888154,
          25427560,
          30316510,
          22635037,
          13242895,
          12148041,
          17728313,
          3520626,
          48464322,
          3719177,
          54308575,
          15315435,
          7105735,
          13143310,
          4002226,
          15371203,
          23618556,
          8070493,
          10812861,
          5002521,
          3238433,
          70403148,
          44213073,
          4408252,
          8317545,
          5787266,
          102665981,
          9880536,
          6652996,
          29632823,
          39155217,
          16293325,
          11053366,
          10531026,
          13922855,
          14287159,
          247966675,
          38740203,
          17015168,
          10513749,
          9800252,
          15706645,
          39826840,
          12741176,
          35243095,
          16194738,
          6844137,
          10778392,
          11111875,
          10326356,
          5900528,
          41282042,
          10288932,
          5324240,
          11355225,
          13841146,
          17878911,
          132434639,
          11801271,
          8800230,
          7353922,
          6109085,
          14123903,
          6084682,
          75063401,
          21635601,
          7450275,
          24727437,
          3258327,
          3961556,
          3294876,
          14812393,
          29027348,
          166007347,
          17861950,
          7623662,
          4055940,
          23586645,
          5107604,
          103261464,
          20242415,
          5767278,
          19445035,
          8369184,
          4869278,
          9453224,
          179139142,
          14788157,
          11203270,
          38155177,
          21760405,
          65769562,
          26858726,
          35316382,
          18723269,
          4698715,
          40406314,
          24166110,
          22383146,
          35535250,
          135060273,
          41039944,
          16800868,
          7572206,
          31515110,
          38527856,
          18775350,
          104352905,
          16628170,
          5303775,
          3964646,
          46018755,
          21373064,
          59253211,
          21688103,
          9445456,
          59215365,
          23817340,
          133682248,
          6249915,
          34263534,
          6601313,
          21514095,
          3551931,
          12608372,
          11203815,
          14685305,
          7456525,
          26411706,
          4765838,
          14202323,
          35028301,
          9576057,
          8000058,
          8571785,
          34703397,
          21311407,
          2495427,
          28871140,
          20223544,
          6541205,
          7004254,
          24536265,
          6878437,
          11767210,
          24710273,
          22872490,
          28501448,
          14065500,
          5461475,
          1489470,
          14860425,
          85058311,
          46581142,
          15190758,
          15134235,
          3613567,
          24074047,
          3161381,
          4223828,
          74403387,
          4754215,
          12701743,
          6176680,
          56631401,
          3760097,
          2534884,
          16890204,
          9553414,
          155081681,
          7102085,
          35258145,
          10278225,
          14869736,
          11613765,
          11002986,
          5106046,
          22800057,
          13688751,
          13501349,
          8344128,
          10950705,
          40010975,
          20130142,
          3404102,
          13601682,
          18222810,
          3775596,
          13002632,
          46607250,
          30436123,
          53003468,
          18469620,
          12201873,
          33377060,
          3704749,
          16172119,
          4690214,
          88411916,
          61025472,
          174750616,
          4137230,
          40300288,
          12501936,
          7722802,
          2684185,
          18676033,
          50198902,
          3967885,
          3090633,
          11932330,
          13210449,
          98786705,
          4095718,
          4785431,
          12252439,
          9034148,
          146510104,
          15371270,
          19542248,
          36160621,
          11727390,
          7126084,
          18503871,
          62983253,
          103251471,
          23851539,
          31668375,
          5988370,
          11205562,
          8004283,
          26435354,
          53688680,
          44680073,
          7563040,
          20553320,
          72434025,
          8724795,
          117027503,
          56262929,
          17007624,
          50513488,
          31201920,
          7125601,
          18286420,
          24531923,
          19153698,
          10016323,
          4600976,
          35006404,
          8342311,
          21384504,
          7600036,
          2702430,
          4730038,
          8567881,
          123403419,
          14846778,
          7534673,
          39023010,
          20433071,
          3408594,
          3006155,
          16776390,
          6574326,
          32753122,
          8885899,
          26039025,
          13113024,
          13707376,
          2591985,
          6002665,
          21226953,
          3372565,
          16640452,
          3817700,
          2840246,
          16759161,
          122744989,
          4057559,
          4396537,
          28681472,
          29651193,
          93842239,
          27547866,
          9812674,
          4447070,
          50802605,
          3891945,
          3530022,
          6366243,
          3201459,
          2861168,
          220009584,
          13401586,
          36169328,
          8805843,
          19361968,
          19928525,
          4954287,
          3287451,
          10110739,
          5584684,
          6856578,
          3246720,
          29581355,
          9959053,
          11001961,
          13701452,
          15206108,
          15815025,
          4245630,
          24167011,
          9307626,
          38560195,
          25010928,
          12554286,
          202003951,
          3190525,
          17005332,
          11071584,
          3016149,
          16853422,
          13010267,
          33123609,
          10402271,
          3024399,
          23633317,
          17108914,
          11756244,
          28116535,
          10604774,
          5172585,
          4003993,
          3762145,
          5475139,
          41764050,
          17170707,
          50203562,
          20556350,
          5765854,
          35753093,
          16030218,
          15181624,
          3941338,
          257698183,
          14711101,
          17886075,
          17630285,
          6023972,
          13582231,
          125507153,
          84420489,
          11603039,
          4670905,
          41607378,
          13575173,
          3232790,
          6870740,
          182687905,
          14947396,
          148024610,
          19007566,
          15242781,
          17374280,
          4208881,
          75812205,
          44076225,
          24905015,
          2850892,
          34952180,
          36011640,
          3653035,
          61236534,
          10411189,
          24585139,
          12103043,
          5842609,
          2554766,
          11371866,
          45402195,
          10845330,
          26510140,
          13710825,
          10352512,
          9532425,
          2798229,
          6066463,
          6022758,
          3035618,
          53807379,
          13423255,
          24632284,
          16011689,
          8860431,
          26608020,
          3008563,
          5130963,
          27257615,
          23045635,
          80255756,
          42908051,
          7602108,
          16006065,
          15802225,
          7132647,
          76221545,
          2980506,
          6653777,
          13743111,
          51061119,
          20352491,
          7810112,
          10202108,
          67572855,
          62163104,
          14504315,
          12361307,
          5501520,
          35574710,
          56237634,
          9195670,
          2085123,
          6401744,
          35363376,
          7559850,
          17509431,
          2406742,
          23523121,
          67873522,
          21654047,
          6489983,
          2354205,
          7411522,
          7768371,
          6070615,
          18238172,
          20355000,
          11251263,
          40328920,
          7173887,
          4415403,
          6864744,
          34115335,
          18232087,
          11030233,
          5853061,
          14247758,
          9497665,
          28525613,
          7813113,
          55022245,
          27062332,
          153433423,
          13190286,
          15853646,
          3131525,
          71117625,
          45990748,
          6382298,
          53505326,
          24502775,
          4446190,
          6002349,
          12045147,
          11282333,
          26347631,
          357115007,
          10855054,
          9740064,
          8603407,
          5361937,
          13007709,
          54365242,
          56818067,
          8030085,
          2511530,
          91500929,
          7845658,
          6933620,
          47776293,
          25725722,
          18099805,
          32828348,
          46652680,
          5255643,
          30035838,
          8901419,
          3600647,
          120908065,
          20269723,
          92579212,
          6560030,
          12005210,
          8225384,
          191770759,
          41082018,
          60038950,
          20915346,
          17431588,
          8137584,
          5527410,
          2974391,
          10354073,
          8427265,
          3462308,
          21402605,
          4333305,
          8015590,
          21380987,
          8146533,
          91062152,
          33181361,
          2679027,
          19001398,
          18872919,
          20612100,
          96202337,
          1711988,
          30300007,
          3106730,
          20552372,
          26803104,
          36948713,
          3952157,
          8376846,
          8865082,
          2633717,
          29033832,
          11676720,
          3500454,
          2901335,
          17897419,
          14114124,
          11441055,
          8351109,
          5605051,
          31474958,
          130263358,
          13251238,
          9261268,
          26769548,
          11890490,
          59251543,
          4240245,
          4705265,
          5109146,
          6619870,
          177383864,
          16755310,
          13354798,
          37000200,
          9713228,
          11404113,
          7008297,
          10011272,
          62504105,
          21844045,
          10651884,
          6950045,
          6154007,
          2715384,
          33010017,
          12181865,
          58018348,
          24791624,
          5823006,
          3600000,
          4805785,
          28205665,
          39119861,
          8170315,
          9176695,
          9103614,
          5304455,
          4020761,
          7037017,
          3623880,
          3607966,
          3119875,
          3600355,
          9724200,
          2250430,
          3104204,
          3775350,
          6820100,
          3153456,
          21144800,
          8309007,
          8750034,
          47547231,
          6101050,
          10101066,
          11397820,
          70043165,
          12551220,
          16000665,
          80366312,
          8801391,
          16854735,
          13367853,
          35018731,
          6745121,
          10622473,
          13148340,
          75388688,
          90033210,
          55225007,
          49404980,
          4759151,
          41000000,
          4178460,
          71297219,
          16627491,
          5406033,
          44008406,
          5319280,
          14423794,
          27206494,
          1911827,
          10574618,
          2811703,
          260138569,
          10749011,
          5915542,
          22326230,
          4621765,
          30018805,
          23154388,
          9868997,
          3502475,
          7949980,
          12891123,
          44010155,
          14883928,
          134008624,
          4275126,
          6059263,
          30453269,
          39005895,
          72105176,
          8699630,
          5402642,
          42151256,
          23950245,
          7131703,
          187420998,
          126707459,
          145075625,
          50577961,
          31211579,
          107010140,
          144165107,
          6321423,
          17253227,
          44366910,
          23003441,
          30030156,
          11575855,
          2919717,
          10543948,
          19051442,
          22609925,
          11401182,
          6444896,
          40050355,
          67004323,
          16509095,
          181339761,
          9004957,
          12151384,
          13450240,
          134100226,
          12429515,
          3603368,
          12828785
         ],
         "xaxis": "x",
         "y": [
          9303970.420146298,
          6413667.39045345,
          8064802.973154007,
          32835570.445397597,
          14988839.004296202,
          15436199.488368517,
          16671026.453318205,
          11470386.54613249,
          5380290.838115615,
          39217180.63297094,
          10426829.823769983,
          31049624.16764777,
          28284915.052222885,
          13078059.652689805,
          15096500.903427303,
          2517623.6306188134,
          9341125.316176487,
          25318461.377620786,
          7410462.77680949,
          20116195.504094873,
          5257603.412097508,
          6137753.539518753,
          83851198.62792508,
          23899290.84017316,
          5064137.5613041,
          4809176.17744905,
          6769148.638046388,
          39698557.873261236,
          10285072.958317509,
          6630019.803947002,
          29513720.5302205,
          41169113.62578365,
          10194073.435479285,
          22556632.011962418,
          10996610.98519164,
          10330992.848889923,
          21811916.268264554,
          256173663.2113239,
          15199864.904430203,
          15776690.559590422,
          12282206.56812862,
          25401523.381091498,
          12771735.598801468,
          37369947.40132503,
          2624068.0769550186,
          12462651.628065202,
          13226594.787925638,
          6329606.680615742,
          22932626.629797976,
          3196662.875964067,
          15862233.363214448,
          6785072.465485346,
          51595673.37413574,
          11908410.338354662,
          6377882.430805095,
          8570354.36645028,
          20872683.045105565,
          12649460.443207044,
          118360383.25263754,
          5545399.710603518,
          9805939.735928725,
          4030888.98116937,
          5758196.721444553,
          33073946.730529077,
          5631932.269130792,
          63430386.87962575,
          23553437.642726287,
          7237438.927705057,
          34027171.22932476,
          9025976.864053454,
          2446245.1661881017,
          3537838.1566917724,
          7010382.735679535,
          26290727.416974045,
          124138495.15018456,
          11910199.36485962,
          3140733.916137105,
          2861822.042182658,
          8292298.537458998,
          10969899.356610129,
          34945726.90783714,
          7640312.859936346,
          11039859.39472318,
          37577928.975737706,
          10101640.012302607,
          7042719.136992191,
          5162327.769198675,
          146991492.49712476,
          5181578.385720592,
          12382847.292754777,
          36304357.010157526,
          16811784.61334339,
          107773328.51265652,
          47831669.58565815,
          47175717.507671066,
          18994195.499003187,
          6016569.482009102,
          35909943.35469196,
          36145078.28188169,
          25702652.099085968,
          27319230.53029632,
          64981033.726092234,
          50421251.28919776,
          12735771.782110373,
          10729526.86610056,
          13313940.331061548,
          46676704.44816231,
          23329213.968312204,
          45336409.416189134,
          10791477.46671502,
          10551404.004273877,
          2378117.418895555,
          78012661.33057897,
          41410893.76347683,
          50436385.92367452,
          13585408.776630726,
          6949303.463246928,
          33599106.57717671,
          16563742.830220195,
          190779147.08089986,
          9100310.172801781,
          13488437.974813526,
          5006043.081328218,
          11024193.903668731,
          4717252.236157762,
          9364334.411200428,
          19074145.240131885,
          16737449.433769222,
          17794495.52674058,
          22517496.89947512,
          4714553.28284205,
          3876414.2242772374,
          16230394.092076086,
          13578968.460743729,
          14815807.970926594,
          16149132.809278697,
          21201129.561167274,
          16999419.44039683,
          2688507.2838005605,
          27535736.23233824,
          31730117.95211389,
          9387280.733134089,
          3728207.214191084,
          12202631.625116441,
          3500437.2595160883,
          2355768.496637792,
          12588457.502427356,
          19168277.812077217,
          7618636.45527446,
          12557457.274441898,
          7974154.076500237,
          6441939.113701311,
          34046714.62564752,
          100696129.84761271,
          47026206.64640723,
          16444804.15422111,
          4381373.597351829,
          3787000.0705076354,
          17393020.94995721,
          9534640.247769833,
          4482080.47900436,
          84241433.10750692,
          3395246.25344019,
          21790868.23064209,
          6478312.337135858,
          93188476.06142336,
          7865728.525541614,
          1357877.116758198,
          9423860.872201374,
          22473092.158762556,
          148860454.934934,
          12104627.393629633,
          66981497.95754704,
          30507677.89402211,
          28911155.286376555,
          10643717.054590818,
          13518847.177957695,
          13939448.932510402,
          9749586.313598322,
          19692816.304319967,
          5936432.05806709,
          8956828.963315822,
          22605491.26519634,
          31684384.799558207,
          46906985.2577014,
          4665269.45960116,
          21135737.60600028,
          24305968.124531936,
          6825730.356931606,
          14340188.404612193,
          28623895.962772157,
          24274708.85364892,
          32949012.80796937,
          30658727.112538397,
          7542517.106461786,
          13197835.718462054,
          10662395.748486206,
          6881561.189093352,
          6013897.424982118,
          66456228.04977733,
          53689350.08480249,
          29761472.10812188,
          2590294.2390817143,
          75862324.53840092,
          16922039.649844013,
          6317615.627880687,
          3894685.0125212357,
          19748302.561260983,
          55448869.319062695,
          1251950.5336950866,
          9375502.238242147,
          6906975.882127063,
          18816382.490945116,
          66392151.87669132,
          19674569.84157481,
          3038036.6025948958,
          4517140.17748464,
          8960046.703141555,
          120539171.61756703,
          36788021.94954656,
          9891294.842254508,
          61813227.46359136,
          6109524.770201834,
          7393478.488333768,
          18768524.492126875,
          91153233.86740126,
          64680395.41740273,
          19657441.887096316,
          70819195.74627183,
          7146915.584942319,
          8676248.827380547,
          5858320.834265018,
          10338200.79306271,
          63746809.34039062,
          89332595.8925482,
          4462040.943320496,
          15622600.35284592,
          47051087.6552277,
          7994953.224058678,
          74819115.1377555,
          68160532.48029993,
          33027873.25316831,
          42324653.373800896,
          7182192.585020265,
          7573187.335717574,
          7983193.13294195,
          13892615.763536971,
          25713992.972309288,
          6866338.881781615,
          4090338.277299153,
          20396512.821773637,
          13308823.574546553,
          13108340.630712593,
          10458712.637978096,
          14777338.028934274,
          14659665.569579508,
          7142029.979239779,
          83852219.54767579,
          14072126.134214398,
          11961375.78947251,
          38816238.45361196,
          24452225.62334078,
          5342434.684837422,
          6448818.066548522,
          13547935.6013613,
          12074200.600872815,
          58399572.93733513,
          3208043.788828359,
          13921365.668378742,
          10534507.563023744,
          22277027.797029506,
          1562132.5963932597,
          7411026.653948605,
          6040172.224868935,
          17979462.673618484,
          18743314.16807205,
          4827466.254664506,
          6710563.381780744,
          13939931.273232175,
          101162479.07310335,
          8600305.541881833,
          5368869.363544264,
          28298829.76024999,
          19865508.24401136,
          104140628.42163183,
          22183487.274448495,
          5408165.349018118,
          6209448.882484059,
          43343378.31290877,
          8115511.200584352,
          13293824.406586075,
          10544341.135355584,
          4745796.327479625,
          4611138.692486623,
          116497477.24445078,
          18559498.899684653,
          49250650.83757551,
          14410655.96162356,
          13538727.263349054,
          21286095.177763637,
          14966107.889730722,
          5058366.7788657965,
          12178585.07953736,
          10269608.379576907,
          5535006.614723621,
          9109753.342697576,
          13250910.326268632,
          6220878.040454053,
          15727954.516695995,
          10745418.753831655,
          9141913.976858564,
          13203143.58949037,
          7886357.166887067,
          24812582.05280731,
          7605381.22591946,
          16517802.344843391,
          22763339.653224103,
          6576458.944967594,
          115002186.62010433,
          12068521.679363392,
          12004766.603551783,
          17738558.034549467,
          2817115.4688593093,
          12396874.06841798,
          11363040.258950539,
          17758950.634241376,
          6635652.470377061,
          10856551.46823432,
          33220126.73200381,
          4677817.977543707,
          14610450.241938978,
          39424934.56808542,
          14056214.93879467,
          2168243.33558692,
          5938058.16744294,
          6394086.142190329,
          16265843.608811848,
          41201296.44470143,
          6945406.0332409255,
          50621707.901174255,
          6202854.338077179,
          5971802.844389989,
          36636311.50583413,
          9925633.560207438,
          5691621.287117955,
          2240123.0601440724,
          298477165.4430408,
          4470042.0375483595,
          6941453.467990647,
          4365285.455680099,
          5063387.426143294,
          6320838.245589779,
          102845471.69434507,
          101868021.12839238,
          10454544.720510328,
          3332790.791442164,
          32248564.481454782,
          14389905.921935588,
          7989124.88025942,
          6727442.003046372,
          148508187.44260576,
          9471250.474831797,
          105926136.88148955,
          18770758.497344498,
          11149477.7344445,
          16984336.039515916,
          2064396.7069549356,
          72452898.98925908,
          28779465.38084437,
          31965562.299008735,
          2831999.1068544667,
          33292795.29401145,
          22268154.276921798,
          5883113.521967454,
          59373837.93678523,
          6912874.049321043,
          12395032.663252562,
          12582713.12783437,
          13840289.838136334,
          4258144.326823164,
          12261249.515591586,
          74988209.41534832,
          5596480.0739849815,
          25002633.627808273,
          10056598.61845721,
          19059024.039707363,
          8972175.374306396,
          10109906.424913434,
          5437759.988087587,
          6726555.857228391,
          8999772.309600526,
          58161185.3925816,
          7710230.112951288,
          34889810.59054448,
          10480676.880602546,
          6693789.506700141,
          10407095.90829872,
          2324264.921891031,
          1168163.6055982553,
          11174033.40668425,
          17223834.75963826,
          131546120.77612989,
          19924079.893228896,
          11023864.023735784,
          16216505.76464806,
          13630070.136863556,
          14334545.730182178,
          35132003.764185406,
          3134286.395547992,
          12574470.304025367,
          4629626.25218747,
          31082162.06531057,
          21194388.82279337,
          14198968.802442044,
          11919612.653393172,
          39842248.854159765,
          78978650.63616015,
          14344992.11458691,
          9968896.562296538,
          10356466.68298247,
          29889885.22293529,
          60384757.78893207,
          26181853.93635732,
          7306850.502338425,
          6037333.668490966,
          69667386.49258451,
          27957223.240199253,
          14002877.775491484,
          3881838.897220536,
          43761411.1953121,
          135010238.4857527,
          61288338.82956971,
          5877464.4897119785,
          12432761.500543015,
          10909499.446127312,
          16554323.237431372,
          9548479.87603271,
          15691555.493069025,
          12798780.720771136,
          13852931.977565898,
          41863956.34202927,
          10820804.971915647,
          5014198.998202627,
          7207793.094248809,
          34132867.18216335,
          6813932.283124002,
          13144621.426448224,
          13420670.941034865,
          12445086.570988968,
          10233413.68852281,
          38922751.55013487,
          12952868.848649777,
          55762232.79224424,
          7493515.686234299,
          117053552.9916833,
          8318372.044935792,
          21535377.774939552,
          7582445.322956843,
          18214600.478781592,
          42210050.409339786,
          3344663.2970245224,
          72827383.31896672,
          21854381.352975264,
          3122674.978552388,
          14453945.28343515,
          25518180.054092262,
          7518161.205779405,
          16199503.82242272,
          339681614.4839405,
          7139826.609338654,
          8714341.620019272,
          10451143.04924989,
          3132854.3397077764,
          9440570.814707527,
          61126517.03347354,
          45100529.36703337,
          19607766.252963964,
          4716039.819222977,
          39943880.012336016,
          11875928.003907392,
          2025306.404778392,
          62959988.853772275,
          15004487.232086323,
          4955227.627946269,
          61124202.562253624,
          41254225.7792497,
          6438901.936690749,
          48651478.502993,
          12713593.22412397,
          10209929.25551571,
          116537132.08739395,
          23911004.7505522,
          126929511.56592697,
          10887009.611231418,
          13948863.176999206,
          6829181.974922295,
          114693078.43746848,
          33603299.25492577,
          87328666.66720027,
          10218010.473593807,
          20212288.0268739,
          6079707.335375827,
          10394849.718040198,
          6710069.06670899,
          25021656.756375544,
          15643791.066161586,
          6810435.556009555,
          12937228.28914026,
          2808761.063009712,
          6770382.785678521,
          21344393.410450287,
          1661822.147715799,
          55686418.67768106,
          12082343.233593335,
          10946570.735560128,
          18620418.290933542,
          29259156.495797664,
          18437721.860675704,
          116196930.84754632,
          10996057.602364402,
          21887978.783838633,
          2256135.572223543,
          32156496.578178793,
          21836465.083411332,
          41098569.12025842,
          12979994.15908973,
          6563680.432511993,
          5547781.026262947,
          5412346.588555697,
          103420086.10082634,
          6642175.554536153,
          7117620.743941686,
          8445948.631822687,
          21384040.23727009,
          33467910.021860946,
          11916150.002404645,
          24727307.31389143,
          4405958.462511301,
          24093726.378146626,
          125532209.57417798,
          12945959.844265966,
          9381786.13779205,
          31627963.81587991,
          5152707.397548224,
          53079152.23332515,
          2472492.5180157525,
          11548373.975853384,
          10886225.670622967,
          25484218.077906102,
          128597344.02083756,
          13564775.133563543,
          23019674.937241066,
          34215771.25927011,
          10722179.21466617,
          7480354.85115447,
          25631162.25149302,
          7492837.990019635,
          29490200.573532425,
          38782722.97332152,
          10907764.51169411,
          6226182.478242787,
          14046946.891484503,
          10353987.9421678,
          27662621.212257512,
          4281966.119797939,
          65288562.67055282,
          24021445.968839563,
          5677279.371128904,
          2329466.4141232995,
          4653797.84004594,
          9401616.932914115,
          40726547.08285647,
          9006170.424490212,
          13734587.496311469,
          13250188.383517925,
          10335827.79219532,
          7290098.487440856,
          26624981.141403984,
          7068676.193461541,
          6712954.5287182,
          6355968.012984228,
          12506810.877833098,
          35228568.57200279,
          9860397.594245087,
          5647983.870273649,
          21231359.678042248,
          11268129.614911268,
          6485399.739468396,
          13742979.058134688,
          17679274.661405694,
          12702177.070142066,
          27741141.300922018,
          11098619.9539527,
          20517024.44456386,
          20425632.54869903,
          87755527.92442755,
          10035437.76578078,
          29512281.430158414,
          79966088.66307305,
          9327926.932917077,
          13151408.80691978,
          27477722.96873693,
          39490352.56742789,
          10321025.795660663,
          25721459.928478193,
          24732381.332453582,
          57867287.85159178,
          87188773.94244117,
          104457871.62275548,
          21370550.833963808,
          19881808.576157294,
          99562645.70431373,
          11289953.557630561,
          80863204.8746541,
          15475287.973041069,
          15581257.483210173,
          30547936.47653394,
          14360093.52429169,
          20940579.968278185,
          45550255.98153891,
          6666735.926846514,
          18909997.944555018,
          16825984.140919227,
          201058339.06688285,
          72788618.47434492,
          42391075.35436064,
          47383816.66119583,
          17327082.464303754,
          25345153.738251474,
          12330330.079669649,
          34660465.70613023,
          7184796.337387074,
          8161354.774867473,
          30600506.831447817,
          33888988.10141267,
          12717539.617408996,
          94718816.98395966,
          10573184.382191187,
          14217321.784031158,
          26313326.641310647,
          39345761.64756122,
          71542626.2496765,
          17465058.953568727,
          4264024.0748783015,
          87399104.67960873,
          41749809.61382451,
          11304455.292629099,
          112639853.57243098,
          91389351.34649087,
          93247409.62093857,
          64312195.794795975,
          24212862.96731615,
          49957943.68785766,
          121997392.05625825,
          12498076.071866635,
          9991681.553079868,
          25551552.141346037,
          33977068.069485925,
          27363543.37362838,
          36971770.72559762,
          14092782.179066751,
          5644095.455362957,
          14195897.982041534,
          32769263.378001116,
          13556417.339195373,
          15863189.812574787,
          17157266.61189743,
          76596782.33518471,
          20950118.62150807,
          121168383.23097667,
          12594251.793268925,
          27758804.402034473,
          15918433.157059096,
          191036114.77444494,
          39167112.58058371,
          21445235.525425453,
          14221956.4275377
         ],
         "yaxis": "y"
        },
        {
         "mode": "lines",
         "name": "y=x",
         "type": "scatter",
         "x": [
          7355622,
          25888154,
          25427560,
          30316510,
          22635037,
          13242895,
          12148041,
          17728313,
          3520626,
          48464322,
          3719177,
          54308575,
          15315435,
          7105735,
          13143310,
          4002226,
          15371203,
          23618556,
          8070493,
          10812861,
          5002521,
          3238433,
          70403148,
          44213073,
          4408252,
          8317545,
          5787266,
          102665981,
          9880536,
          6652996,
          29632823,
          39155217,
          16293325,
          11053366,
          10531026,
          13922855,
          14287159,
          247966675,
          38740203,
          17015168,
          10513749,
          9800252,
          15706645,
          39826840,
          12741176,
          35243095,
          16194738,
          6844137,
          10778392,
          11111875,
          10326356,
          5900528,
          41282042,
          10288932,
          5324240,
          11355225,
          13841146,
          17878911,
          132434639,
          11801271,
          8800230,
          7353922,
          6109085,
          14123903,
          6084682,
          75063401,
          21635601,
          7450275,
          24727437,
          3258327,
          3961556,
          3294876,
          14812393,
          29027348,
          166007347,
          17861950,
          7623662,
          4055940,
          23586645,
          5107604,
          103261464,
          20242415,
          5767278,
          19445035,
          8369184,
          4869278,
          9453224,
          179139142,
          14788157,
          11203270,
          38155177,
          21760405,
          65769562,
          26858726,
          35316382,
          18723269,
          4698715,
          40406314,
          24166110,
          22383146,
          35535250,
          135060273,
          41039944,
          16800868,
          7572206,
          31515110,
          38527856,
          18775350,
          104352905,
          16628170,
          5303775,
          3964646,
          46018755,
          21373064,
          59253211,
          21688103,
          9445456,
          59215365,
          23817340,
          133682248,
          6249915,
          34263534,
          6601313,
          21514095,
          3551931,
          12608372,
          11203815,
          14685305,
          7456525,
          26411706,
          4765838,
          14202323,
          35028301,
          9576057,
          8000058,
          8571785,
          34703397,
          21311407,
          2495427,
          28871140,
          20223544,
          6541205,
          7004254,
          24536265,
          6878437,
          11767210,
          24710273,
          22872490,
          28501448,
          14065500,
          5461475,
          1489470,
          14860425,
          85058311,
          46581142,
          15190758,
          15134235,
          3613567,
          24074047,
          3161381,
          4223828,
          74403387,
          4754215,
          12701743,
          6176680,
          56631401,
          3760097,
          2534884,
          16890204,
          9553414,
          155081681,
          7102085,
          35258145,
          10278225,
          14869736,
          11613765,
          11002986,
          5106046,
          22800057,
          13688751,
          13501349,
          8344128,
          10950705,
          40010975,
          20130142,
          3404102,
          13601682,
          18222810,
          3775596,
          13002632,
          46607250,
          30436123,
          53003468,
          18469620,
          12201873,
          33377060,
          3704749,
          16172119,
          4690214,
          88411916,
          61025472,
          174750616,
          4137230,
          40300288,
          12501936,
          7722802,
          2684185,
          18676033,
          50198902,
          3967885,
          3090633,
          11932330,
          13210449,
          98786705,
          4095718,
          4785431,
          12252439,
          9034148,
          146510104,
          15371270,
          19542248,
          36160621,
          11727390,
          7126084,
          18503871,
          62983253,
          103251471,
          23851539,
          31668375,
          5988370,
          11205562,
          8004283,
          26435354,
          53688680,
          44680073,
          7563040,
          20553320,
          72434025,
          8724795,
          117027503,
          56262929,
          17007624,
          50513488,
          31201920,
          7125601,
          18286420,
          24531923,
          19153698,
          10016323,
          4600976,
          35006404,
          8342311,
          21384504,
          7600036,
          2702430,
          4730038,
          8567881,
          123403419,
          14846778,
          7534673,
          39023010,
          20433071,
          3408594,
          3006155,
          16776390,
          6574326,
          32753122,
          8885899,
          26039025,
          13113024,
          13707376,
          2591985,
          6002665,
          21226953,
          3372565,
          16640452,
          3817700,
          2840246,
          16759161,
          122744989,
          4057559,
          4396537,
          28681472,
          29651193,
          93842239,
          27547866,
          9812674,
          4447070,
          50802605,
          3891945,
          3530022,
          6366243,
          3201459,
          2861168,
          220009584,
          13401586,
          36169328,
          8805843,
          19361968,
          19928525,
          4954287,
          3287451,
          10110739,
          5584684,
          6856578,
          3246720,
          29581355,
          9959053,
          11001961,
          13701452,
          15206108,
          15815025,
          4245630,
          24167011,
          9307626,
          38560195,
          25010928,
          12554286,
          202003951,
          3190525,
          17005332,
          11071584,
          3016149,
          16853422,
          13010267,
          33123609,
          10402271,
          3024399,
          23633317,
          17108914,
          11756244,
          28116535,
          10604774,
          5172585,
          4003993,
          3762145,
          5475139,
          41764050,
          17170707,
          50203562,
          20556350,
          5765854,
          35753093,
          16030218,
          15181624,
          3941338,
          257698183,
          14711101,
          17886075,
          17630285,
          6023972,
          13582231,
          125507153,
          84420489,
          11603039,
          4670905,
          41607378,
          13575173,
          3232790,
          6870740,
          182687905,
          14947396,
          148024610,
          19007566,
          15242781,
          17374280,
          4208881,
          75812205,
          44076225,
          24905015,
          2850892,
          34952180,
          36011640,
          3653035,
          61236534,
          10411189,
          24585139,
          12103043,
          5842609,
          2554766,
          11371866,
          45402195,
          10845330,
          26510140,
          13710825,
          10352512,
          9532425,
          2798229,
          6066463,
          6022758,
          3035618,
          53807379,
          13423255,
          24632284,
          16011689,
          8860431,
          26608020,
          3008563,
          5130963,
          27257615,
          23045635,
          80255756,
          42908051,
          7602108,
          16006065,
          15802225,
          7132647,
          76221545,
          2980506,
          6653777,
          13743111,
          51061119,
          20352491,
          7810112,
          10202108,
          67572855,
          62163104,
          14504315,
          12361307,
          5501520,
          35574710,
          56237634,
          9195670,
          2085123,
          6401744,
          35363376,
          7559850,
          17509431,
          2406742,
          23523121,
          67873522,
          21654047,
          6489983,
          2354205,
          7411522,
          7768371,
          6070615,
          18238172,
          20355000,
          11251263,
          40328920,
          7173887,
          4415403,
          6864744,
          34115335,
          18232087,
          11030233,
          5853061,
          14247758,
          9497665,
          28525613,
          7813113,
          55022245,
          27062332,
          153433423,
          13190286,
          15853646,
          3131525,
          71117625,
          45990748,
          6382298,
          53505326,
          24502775,
          4446190,
          6002349,
          12045147,
          11282333,
          26347631,
          357115007,
          10855054,
          9740064,
          8603407,
          5361937,
          13007709,
          54365242,
          56818067,
          8030085,
          2511530,
          91500929,
          7845658,
          6933620,
          47776293,
          25725722,
          18099805,
          32828348,
          46652680,
          5255643,
          30035838,
          8901419,
          3600647,
          120908065,
          20269723,
          92579212,
          6560030,
          12005210,
          8225384,
          191770759,
          41082018,
          60038950,
          20915346,
          17431588,
          8137584,
          5527410,
          2974391,
          10354073,
          8427265,
          3462308,
          21402605,
          4333305,
          8015590,
          21380987,
          8146533,
          91062152,
          33181361,
          2679027,
          19001398,
          18872919,
          20612100,
          96202337,
          1711988,
          30300007,
          3106730,
          20552372,
          26803104,
          36948713,
          3952157,
          8376846,
          8865082,
          2633717,
          29033832,
          11676720,
          3500454,
          2901335,
          17897419,
          14114124,
          11441055,
          8351109,
          5605051,
          31474958,
          130263358,
          13251238,
          9261268,
          26769548,
          11890490,
          59251543,
          4240245,
          4705265,
          5109146,
          6619870,
          177383864,
          16755310,
          13354798,
          37000200,
          9713228,
          11404113,
          7008297,
          10011272,
          62504105,
          21844045,
          10651884,
          6950045,
          6154007,
          2715384,
          33010017,
          12181865,
          58018348,
          24791624,
          5823006,
          3600000,
          4805785,
          28205665,
          39119861,
          8170315,
          9176695,
          9103614,
          5304455,
          4020761,
          7037017,
          3623880,
          3607966,
          3119875,
          3600355,
          9724200,
          2250430,
          3104204,
          3775350,
          6820100,
          3153456,
          21144800,
          8309007,
          8750034,
          47547231,
          6101050,
          10101066,
          11397820,
          70043165,
          12551220,
          16000665,
          80366312,
          8801391,
          16854735,
          13367853,
          35018731,
          6745121,
          10622473,
          13148340,
          75388688,
          90033210,
          55225007,
          49404980,
          4759151,
          41000000,
          4178460,
          71297219,
          16627491,
          5406033,
          44008406,
          5319280,
          14423794,
          27206494,
          1911827,
          10574618,
          2811703,
          260138569,
          10749011,
          5915542,
          22326230,
          4621765,
          30018805,
          23154388,
          9868997,
          3502475,
          7949980,
          12891123,
          44010155,
          14883928,
          134008624,
          4275126,
          6059263,
          30453269,
          39005895,
          72105176,
          8699630,
          5402642,
          42151256,
          23950245,
          7131703,
          187420998,
          126707459,
          145075625,
          50577961,
          31211579,
          107010140,
          144165107,
          6321423,
          17253227,
          44366910,
          23003441,
          30030156,
          11575855,
          2919717,
          10543948,
          19051442,
          22609925,
          11401182,
          6444896,
          40050355,
          67004323,
          16509095,
          181339761,
          9004957,
          12151384,
          13450240,
          134100226,
          12429515,
          3603368,
          12828785
         ],
         "y": [
          7355622,
          25888154,
          25427560,
          30316510,
          22635037,
          13242895,
          12148041,
          17728313,
          3520626,
          48464322,
          3719177,
          54308575,
          15315435,
          7105735,
          13143310,
          4002226,
          15371203,
          23618556,
          8070493,
          10812861,
          5002521,
          3238433,
          70403148,
          44213073,
          4408252,
          8317545,
          5787266,
          102665981,
          9880536,
          6652996,
          29632823,
          39155217,
          16293325,
          11053366,
          10531026,
          13922855,
          14287159,
          247966675,
          38740203,
          17015168,
          10513749,
          9800252,
          15706645,
          39826840,
          12741176,
          35243095,
          16194738,
          6844137,
          10778392,
          11111875,
          10326356,
          5900528,
          41282042,
          10288932,
          5324240,
          11355225,
          13841146,
          17878911,
          132434639,
          11801271,
          8800230,
          7353922,
          6109085,
          14123903,
          6084682,
          75063401,
          21635601,
          7450275,
          24727437,
          3258327,
          3961556,
          3294876,
          14812393,
          29027348,
          166007347,
          17861950,
          7623662,
          4055940,
          23586645,
          5107604,
          103261464,
          20242415,
          5767278,
          19445035,
          8369184,
          4869278,
          9453224,
          179139142,
          14788157,
          11203270,
          38155177,
          21760405,
          65769562,
          26858726,
          35316382,
          18723269,
          4698715,
          40406314,
          24166110,
          22383146,
          35535250,
          135060273,
          41039944,
          16800868,
          7572206,
          31515110,
          38527856,
          18775350,
          104352905,
          16628170,
          5303775,
          3964646,
          46018755,
          21373064,
          59253211,
          21688103,
          9445456,
          59215365,
          23817340,
          133682248,
          6249915,
          34263534,
          6601313,
          21514095,
          3551931,
          12608372,
          11203815,
          14685305,
          7456525,
          26411706,
          4765838,
          14202323,
          35028301,
          9576057,
          8000058,
          8571785,
          34703397,
          21311407,
          2495427,
          28871140,
          20223544,
          6541205,
          7004254,
          24536265,
          6878437,
          11767210,
          24710273,
          22872490,
          28501448,
          14065500,
          5461475,
          1489470,
          14860425,
          85058311,
          46581142,
          15190758,
          15134235,
          3613567,
          24074047,
          3161381,
          4223828,
          74403387,
          4754215,
          12701743,
          6176680,
          56631401,
          3760097,
          2534884,
          16890204,
          9553414,
          155081681,
          7102085,
          35258145,
          10278225,
          14869736,
          11613765,
          11002986,
          5106046,
          22800057,
          13688751,
          13501349,
          8344128,
          10950705,
          40010975,
          20130142,
          3404102,
          13601682,
          18222810,
          3775596,
          13002632,
          46607250,
          30436123,
          53003468,
          18469620,
          12201873,
          33377060,
          3704749,
          16172119,
          4690214,
          88411916,
          61025472,
          174750616,
          4137230,
          40300288,
          12501936,
          7722802,
          2684185,
          18676033,
          50198902,
          3967885,
          3090633,
          11932330,
          13210449,
          98786705,
          4095718,
          4785431,
          12252439,
          9034148,
          146510104,
          15371270,
          19542248,
          36160621,
          11727390,
          7126084,
          18503871,
          62983253,
          103251471,
          23851539,
          31668375,
          5988370,
          11205562,
          8004283,
          26435354,
          53688680,
          44680073,
          7563040,
          20553320,
          72434025,
          8724795,
          117027503,
          56262929,
          17007624,
          50513488,
          31201920,
          7125601,
          18286420,
          24531923,
          19153698,
          10016323,
          4600976,
          35006404,
          8342311,
          21384504,
          7600036,
          2702430,
          4730038,
          8567881,
          123403419,
          14846778,
          7534673,
          39023010,
          20433071,
          3408594,
          3006155,
          16776390,
          6574326,
          32753122,
          8885899,
          26039025,
          13113024,
          13707376,
          2591985,
          6002665,
          21226953,
          3372565,
          16640452,
          3817700,
          2840246,
          16759161,
          122744989,
          4057559,
          4396537,
          28681472,
          29651193,
          93842239,
          27547866,
          9812674,
          4447070,
          50802605,
          3891945,
          3530022,
          6366243,
          3201459,
          2861168,
          220009584,
          13401586,
          36169328,
          8805843,
          19361968,
          19928525,
          4954287,
          3287451,
          10110739,
          5584684,
          6856578,
          3246720,
          29581355,
          9959053,
          11001961,
          13701452,
          15206108,
          15815025,
          4245630,
          24167011,
          9307626,
          38560195,
          25010928,
          12554286,
          202003951,
          3190525,
          17005332,
          11071584,
          3016149,
          16853422,
          13010267,
          33123609,
          10402271,
          3024399,
          23633317,
          17108914,
          11756244,
          28116535,
          10604774,
          5172585,
          4003993,
          3762145,
          5475139,
          41764050,
          17170707,
          50203562,
          20556350,
          5765854,
          35753093,
          16030218,
          15181624,
          3941338,
          257698183,
          14711101,
          17886075,
          17630285,
          6023972,
          13582231,
          125507153,
          84420489,
          11603039,
          4670905,
          41607378,
          13575173,
          3232790,
          6870740,
          182687905,
          14947396,
          148024610,
          19007566,
          15242781,
          17374280,
          4208881,
          75812205,
          44076225,
          24905015,
          2850892,
          34952180,
          36011640,
          3653035,
          61236534,
          10411189,
          24585139,
          12103043,
          5842609,
          2554766,
          11371866,
          45402195,
          10845330,
          26510140,
          13710825,
          10352512,
          9532425,
          2798229,
          6066463,
          6022758,
          3035618,
          53807379,
          13423255,
          24632284,
          16011689,
          8860431,
          26608020,
          3008563,
          5130963,
          27257615,
          23045635,
          80255756,
          42908051,
          7602108,
          16006065,
          15802225,
          7132647,
          76221545,
          2980506,
          6653777,
          13743111,
          51061119,
          20352491,
          7810112,
          10202108,
          67572855,
          62163104,
          14504315,
          12361307,
          5501520,
          35574710,
          56237634,
          9195670,
          2085123,
          6401744,
          35363376,
          7559850,
          17509431,
          2406742,
          23523121,
          67873522,
          21654047,
          6489983,
          2354205,
          7411522,
          7768371,
          6070615,
          18238172,
          20355000,
          11251263,
          40328920,
          7173887,
          4415403,
          6864744,
          34115335,
          18232087,
          11030233,
          5853061,
          14247758,
          9497665,
          28525613,
          7813113,
          55022245,
          27062332,
          153433423,
          13190286,
          15853646,
          3131525,
          71117625,
          45990748,
          6382298,
          53505326,
          24502775,
          4446190,
          6002349,
          12045147,
          11282333,
          26347631,
          357115007,
          10855054,
          9740064,
          8603407,
          5361937,
          13007709,
          54365242,
          56818067,
          8030085,
          2511530,
          91500929,
          7845658,
          6933620,
          47776293,
          25725722,
          18099805,
          32828348,
          46652680,
          5255643,
          30035838,
          8901419,
          3600647,
          120908065,
          20269723,
          92579212,
          6560030,
          12005210,
          8225384,
          191770759,
          41082018,
          60038950,
          20915346,
          17431588,
          8137584,
          5527410,
          2974391,
          10354073,
          8427265,
          3462308,
          21402605,
          4333305,
          8015590,
          21380987,
          8146533,
          91062152,
          33181361,
          2679027,
          19001398,
          18872919,
          20612100,
          96202337,
          1711988,
          30300007,
          3106730,
          20552372,
          26803104,
          36948713,
          3952157,
          8376846,
          8865082,
          2633717,
          29033832,
          11676720,
          3500454,
          2901335,
          17897419,
          14114124,
          11441055,
          8351109,
          5605051,
          31474958,
          130263358,
          13251238,
          9261268,
          26769548,
          11890490,
          59251543,
          4240245,
          4705265,
          5109146,
          6619870,
          177383864,
          16755310,
          13354798,
          37000200,
          9713228,
          11404113,
          7008297,
          10011272,
          62504105,
          21844045,
          10651884,
          6950045,
          6154007,
          2715384,
          33010017,
          12181865,
          58018348,
          24791624,
          5823006,
          3600000,
          4805785,
          28205665,
          39119861,
          8170315,
          9176695,
          9103614,
          5304455,
          4020761,
          7037017,
          3623880,
          3607966,
          3119875,
          3600355,
          9724200,
          2250430,
          3104204,
          3775350,
          6820100,
          3153456,
          21144800,
          8309007,
          8750034,
          47547231,
          6101050,
          10101066,
          11397820,
          70043165,
          12551220,
          16000665,
          80366312,
          8801391,
          16854735,
          13367853,
          35018731,
          6745121,
          10622473,
          13148340,
          75388688,
          90033210,
          55225007,
          49404980,
          4759151,
          41000000,
          4178460,
          71297219,
          16627491,
          5406033,
          44008406,
          5319280,
          14423794,
          27206494,
          1911827,
          10574618,
          2811703,
          260138569,
          10749011,
          5915542,
          22326230,
          4621765,
          30018805,
          23154388,
          9868997,
          3502475,
          7949980,
          12891123,
          44010155,
          14883928,
          134008624,
          4275126,
          6059263,
          30453269,
          39005895,
          72105176,
          8699630,
          5402642,
          42151256,
          23950245,
          7131703,
          187420998,
          126707459,
          145075625,
          50577961,
          31211579,
          107010140,
          144165107,
          6321423,
          17253227,
          44366910,
          23003441,
          30030156,
          11575855,
          2919717,
          10543948,
          19051442,
          22609925,
          11401182,
          6444896,
          40050355,
          67004323,
          16509095,
          181339761,
          9004957,
          12151384,
          13450240,
          134100226,
          12429515,
          3603368,
          12828785
         ]
        }
       ],
       "layout": {
        "coloraxis": {
         "colorbar": {
          "title": {
           "text": "extra"
          }
         },
         "colorscale": [
          [
           0,
           "#0d0887"
          ],
          [
           0.1111111111111111,
           "#46039f"
          ],
          [
           0.2222222222222222,
           "#7201a8"
          ],
          [
           0.3333333333333333,
           "#9c179e"
          ],
          [
           0.4444444444444444,
           "#bd3786"
          ],
          [
           0.5555555555555556,
           "#d8576b"
          ],
          [
           0.6666666666666666,
           "#ed7953"
          ],
          [
           0.7777777777777778,
           "#fb9f3a"
          ],
          [
           0.8888888888888888,
           "#fdca26"
          ],
          [
           1,
           "#f0f921"
          ]
         ]
        },
        "legend": {
         "tracegroupgap": 0
        },
        "margin": {
         "t": 60
        },
        "template": {
         "data": {
          "bar": [
           {
            "error_x": {
             "color": "#2a3f5f"
            },
            "error_y": {
             "color": "#2a3f5f"
            },
            "marker": {
             "line": {
              "color": "#E5ECF6",
              "width": 0.5
             },
             "pattern": {
              "fillmode": "overlay",
              "size": 10,
              "solidity": 0.2
             }
            },
            "type": "bar"
           }
          ],
          "barpolar": [
           {
            "marker": {
             "line": {
              "color": "#E5ECF6",
              "width": 0.5
             },
             "pattern": {
              "fillmode": "overlay",
              "size": 10,
              "solidity": 0.2
             }
            },
            "type": "barpolar"
           }
          ],
          "carpet": [
           {
            "aaxis": {
             "endlinecolor": "#2a3f5f",
             "gridcolor": "white",
             "linecolor": "white",
             "minorgridcolor": "white",
             "startlinecolor": "#2a3f5f"
            },
            "baxis": {
             "endlinecolor": "#2a3f5f",
             "gridcolor": "white",
             "linecolor": "white",
             "minorgridcolor": "white",
             "startlinecolor": "#2a3f5f"
            },
            "type": "carpet"
           }
          ],
          "choropleth": [
           {
            "colorbar": {
             "outlinewidth": 0,
             "ticks": ""
            },
            "type": "choropleth"
           }
          ],
          "contour": [
           {
            "colorbar": {
             "outlinewidth": 0,
             "ticks": ""
            },
            "colorscale": [
             [
              0,
              "#0d0887"
             ],
             [
              0.1111111111111111,
              "#46039f"
             ],
             [
              0.2222222222222222,
              "#7201a8"
             ],
             [
              0.3333333333333333,
              "#9c179e"
             ],
             [
              0.4444444444444444,
              "#bd3786"
             ],
             [
              0.5555555555555556,
              "#d8576b"
             ],
             [
              0.6666666666666666,
              "#ed7953"
             ],
             [
              0.7777777777777778,
              "#fb9f3a"
             ],
             [
              0.8888888888888888,
              "#fdca26"
             ],
             [
              1,
              "#f0f921"
             ]
            ],
            "type": "contour"
           }
          ],
          "contourcarpet": [
           {
            "colorbar": {
             "outlinewidth": 0,
             "ticks": ""
            },
            "type": "contourcarpet"
           }
          ],
          "heatmap": [
           {
            "colorbar": {
             "outlinewidth": 0,
             "ticks": ""
            },
            "colorscale": [
             [
              0,
              "#0d0887"
             ],
             [
              0.1111111111111111,
              "#46039f"
             ],
             [
              0.2222222222222222,
              "#7201a8"
             ],
             [
              0.3333333333333333,
              "#9c179e"
             ],
             [
              0.4444444444444444,
              "#bd3786"
             ],
             [
              0.5555555555555556,
              "#d8576b"
             ],
             [
              0.6666666666666666,
              "#ed7953"
             ],
             [
              0.7777777777777778,
              "#fb9f3a"
             ],
             [
              0.8888888888888888,
              "#fdca26"
             ],
             [
              1,
              "#f0f921"
             ]
            ],
            "type": "heatmap"
           }
          ],
          "heatmapgl": [
           {
            "colorbar": {
             "outlinewidth": 0,
             "ticks": ""
            },
            "colorscale": [
             [
              0,
              "#0d0887"
             ],
             [
              0.1111111111111111,
              "#46039f"
             ],
             [
              0.2222222222222222,
              "#7201a8"
             ],
             [
              0.3333333333333333,
              "#9c179e"
             ],
             [
              0.4444444444444444,
              "#bd3786"
             ],
             [
              0.5555555555555556,
              "#d8576b"
             ],
             [
              0.6666666666666666,
              "#ed7953"
             ],
             [
              0.7777777777777778,
              "#fb9f3a"
             ],
             [
              0.8888888888888888,
              "#fdca26"
             ],
             [
              1,
              "#f0f921"
             ]
            ],
            "type": "heatmapgl"
           }
          ],
          "histogram": [
           {
            "marker": {
             "pattern": {
              "fillmode": "overlay",
              "size": 10,
              "solidity": 0.2
             }
            },
            "type": "histogram"
           }
          ],
          "histogram2d": [
           {
            "colorbar": {
             "outlinewidth": 0,
             "ticks": ""
            },
            "colorscale": [
             [
              0,
              "#0d0887"
             ],
             [
              0.1111111111111111,
              "#46039f"
             ],
             [
              0.2222222222222222,
              "#7201a8"
             ],
             [
              0.3333333333333333,
              "#9c179e"
             ],
             [
              0.4444444444444444,
              "#bd3786"
             ],
             [
              0.5555555555555556,
              "#d8576b"
             ],
             [
              0.6666666666666666,
              "#ed7953"
             ],
             [
              0.7777777777777778,
              "#fb9f3a"
             ],
             [
              0.8888888888888888,
              "#fdca26"
             ],
             [
              1,
              "#f0f921"
             ]
            ],
            "type": "histogram2d"
           }
          ],
          "histogram2dcontour": [
           {
            "colorbar": {
             "outlinewidth": 0,
             "ticks": ""
            },
            "colorscale": [
             [
              0,
              "#0d0887"
             ],
             [
              0.1111111111111111,
              "#46039f"
             ],
             [
              0.2222222222222222,
              "#7201a8"
             ],
             [
              0.3333333333333333,
              "#9c179e"
             ],
             [
              0.4444444444444444,
              "#bd3786"
             ],
             [
              0.5555555555555556,
              "#d8576b"
             ],
             [
              0.6666666666666666,
              "#ed7953"
             ],
             [
              0.7777777777777778,
              "#fb9f3a"
             ],
             [
              0.8888888888888888,
              "#fdca26"
             ],
             [
              1,
              "#f0f921"
             ]
            ],
            "type": "histogram2dcontour"
           }
          ],
          "mesh3d": [
           {
            "colorbar": {
             "outlinewidth": 0,
             "ticks": ""
            },
            "type": "mesh3d"
           }
          ],
          "parcoords": [
           {
            "line": {
             "colorbar": {
              "outlinewidth": 0,
              "ticks": ""
             }
            },
            "type": "parcoords"
           }
          ],
          "pie": [
           {
            "automargin": true,
            "type": "pie"
           }
          ],
          "scatter": [
           {
            "fillpattern": {
             "fillmode": "overlay",
             "size": 10,
             "solidity": 0.2
            },
            "type": "scatter"
           }
          ],
          "scatter3d": [
           {
            "line": {
             "colorbar": {
              "outlinewidth": 0,
              "ticks": ""
             }
            },
            "marker": {
             "colorbar": {
              "outlinewidth": 0,
              "ticks": ""
             }
            },
            "type": "scatter3d"
           }
          ],
          "scattercarpet": [
           {
            "marker": {
             "colorbar": {
              "outlinewidth": 0,
              "ticks": ""
             }
            },
            "type": "scattercarpet"
           }
          ],
          "scattergeo": [
           {
            "marker": {
             "colorbar": {
              "outlinewidth": 0,
              "ticks": ""
             }
            },
            "type": "scattergeo"
           }
          ],
          "scattergl": [
           {
            "marker": {
             "colorbar": {
              "outlinewidth": 0,
              "ticks": ""
             }
            },
            "type": "scattergl"
           }
          ],
          "scattermapbox": [
           {
            "marker": {
             "colorbar": {
              "outlinewidth": 0,
              "ticks": ""
             }
            },
            "type": "scattermapbox"
           }
          ],
          "scatterpolar": [
           {
            "marker": {
             "colorbar": {
              "outlinewidth": 0,
              "ticks": ""
             }
            },
            "type": "scatterpolar"
           }
          ],
          "scatterpolargl": [
           {
            "marker": {
             "colorbar": {
              "outlinewidth": 0,
              "ticks": ""
             }
            },
            "type": "scatterpolargl"
           }
          ],
          "scatterternary": [
           {
            "marker": {
             "colorbar": {
              "outlinewidth": 0,
              "ticks": ""
             }
            },
            "type": "scatterternary"
           }
          ],
          "surface": [
           {
            "colorbar": {
             "outlinewidth": 0,
             "ticks": ""
            },
            "colorscale": [
             [
              0,
              "#0d0887"
             ],
             [
              0.1111111111111111,
              "#46039f"
             ],
             [
              0.2222222222222222,
              "#7201a8"
             ],
             [
              0.3333333333333333,
              "#9c179e"
             ],
             [
              0.4444444444444444,
              "#bd3786"
             ],
             [
              0.5555555555555556,
              "#d8576b"
             ],
             [
              0.6666666666666666,
              "#ed7953"
             ],
             [
              0.7777777777777778,
              "#fb9f3a"
             ],
             [
              0.8888888888888888,
              "#fdca26"
             ],
             [
              1,
              "#f0f921"
             ]
            ],
            "type": "surface"
           }
          ],
          "table": [
           {
            "cells": {
             "fill": {
              "color": "#EBF0F8"
             },
             "line": {
              "color": "white"
             }
            },
            "header": {
             "fill": {
              "color": "#C8D4E3"
             },
             "line": {
              "color": "white"
             }
            },
            "type": "table"
           }
          ]
         },
         "layout": {
          "annotationdefaults": {
           "arrowcolor": "#2a3f5f",
           "arrowhead": 0,
           "arrowwidth": 1
          },
          "autotypenumbers": "strict",
          "coloraxis": {
           "colorbar": {
            "outlinewidth": 0,
            "ticks": ""
           }
          },
          "colorscale": {
           "diverging": [
            [
             0,
             "#8e0152"
            ],
            [
             0.1,
             "#c51b7d"
            ],
            [
             0.2,
             "#de77ae"
            ],
            [
             0.3,
             "#f1b6da"
            ],
            [
             0.4,
             "#fde0ef"
            ],
            [
             0.5,
             "#f7f7f7"
            ],
            [
             0.6,
             "#e6f5d0"
            ],
            [
             0.7,
             "#b8e186"
            ],
            [
             0.8,
             "#7fbc41"
            ],
            [
             0.9,
             "#4d9221"
            ],
            [
             1,
             "#276419"
            ]
           ],
           "sequential": [
            [
             0,
             "#0d0887"
            ],
            [
             0.1111111111111111,
             "#46039f"
            ],
            [
             0.2222222222222222,
             "#7201a8"
            ],
            [
             0.3333333333333333,
             "#9c179e"
            ],
            [
             0.4444444444444444,
             "#bd3786"
            ],
            [
             0.5555555555555556,
             "#d8576b"
            ],
            [
             0.6666666666666666,
             "#ed7953"
            ],
            [
             0.7777777777777778,
             "#fb9f3a"
            ],
            [
             0.8888888888888888,
             "#fdca26"
            ],
            [
             1,
             "#f0f921"
            ]
           ],
           "sequentialminus": [
            [
             0,
             "#0d0887"
            ],
            [
             0.1111111111111111,
             "#46039f"
            ],
            [
             0.2222222222222222,
             "#7201a8"
            ],
            [
             0.3333333333333333,
             "#9c179e"
            ],
            [
             0.4444444444444444,
             "#bd3786"
            ],
            [
             0.5555555555555556,
             "#d8576b"
            ],
            [
             0.6666666666666666,
             "#ed7953"
            ],
            [
             0.7777777777777778,
             "#fb9f3a"
            ],
            [
             0.8888888888888888,
             "#fdca26"
            ],
            [
             1,
             "#f0f921"
            ]
           ]
          },
          "colorway": [
           "#636efa",
           "#EF553B",
           "#00cc96",
           "#ab63fa",
           "#FFA15A",
           "#19d3f3",
           "#FF6692",
           "#B6E880",
           "#FF97FF",
           "#FECB52"
          ],
          "font": {
           "color": "#2a3f5f"
          },
          "geo": {
           "bgcolor": "white",
           "lakecolor": "white",
           "landcolor": "#E5ECF6",
           "showlakes": true,
           "showland": true,
           "subunitcolor": "white"
          },
          "hoverlabel": {
           "align": "left"
          },
          "hovermode": "closest",
          "mapbox": {
           "style": "light"
          },
          "paper_bgcolor": "white",
          "plot_bgcolor": "#E5ECF6",
          "polar": {
           "angularaxis": {
            "gridcolor": "white",
            "linecolor": "white",
            "ticks": ""
           },
           "bgcolor": "#E5ECF6",
           "radialaxis": {
            "gridcolor": "white",
            "linecolor": "white",
            "ticks": ""
           }
          },
          "scene": {
           "xaxis": {
            "backgroundcolor": "#E5ECF6",
            "gridcolor": "white",
            "gridwidth": 2,
            "linecolor": "white",
            "showbackground": true,
            "ticks": "",
            "zerolinecolor": "white"
           },
           "yaxis": {
            "backgroundcolor": "#E5ECF6",
            "gridcolor": "white",
            "gridwidth": 2,
            "linecolor": "white",
            "showbackground": true,
            "ticks": "",
            "zerolinecolor": "white"
           },
           "zaxis": {
            "backgroundcolor": "#E5ECF6",
            "gridcolor": "white",
            "gridwidth": 2,
            "linecolor": "white",
            "showbackground": true,
            "ticks": "",
            "zerolinecolor": "white"
           }
          },
          "shapedefaults": {
           "line": {
            "color": "#2a3f5f"
           }
          },
          "ternary": {
           "aaxis": {
            "gridcolor": "white",
            "linecolor": "white",
            "ticks": ""
           },
           "baxis": {
            "gridcolor": "white",
            "linecolor": "white",
            "ticks": ""
           },
           "bgcolor": "#E5ECF6",
           "caxis": {
            "gridcolor": "white",
            "linecolor": "white",
            "ticks": ""
           }
          },
          "title": {
           "x": 0.05
          },
          "xaxis": {
           "automargin": true,
           "gridcolor": "white",
           "linecolor": "white",
           "ticks": "",
           "title": {
            "standoff": 15
           },
           "zerolinecolor": "white",
           "zerolinewidth": 2
          },
          "yaxis": {
           "automargin": true,
           "gridcolor": "white",
           "linecolor": "white",
           "ticks": "",
           "title": {
            "standoff": 15
           },
           "zerolinecolor": "white",
           "zerolinewidth": 2
          }
         }
        },
        "title": {
         "text": "Actual vs Predicted Opening Weekend Revenue"
        },
        "xaxis": {
         "anchor": "y",
         "domain": [
          0,
          1
         ],
         "title": {
          "text": "Actual"
         }
        },
        "yaxis": {
         "anchor": "x",
         "domain": [
          0,
          1
         ],
         "title": {
          "text": "Predicted"
         }
        }
       }
      }
     },
     "metadata": {},
     "output_type": "display_data"
    }
   ],
   "source": [
    "# print all columns that start with production_method\n",
    "print([col for col in X_train.columns if col.startswith(\"production_method\")])\n",
    "\n",
    "# formula = \"opening_wide_revenue ~ 0 + top_5_trailer_views + budget : production_method + wikipedia_pre_release_cumulative_views + wikipedia_pre_release_cumulative_views :  metacritic_before_wide_friday_calculated : in_franchise : production_method\"\n",
    "formula = \"opening_wide_revenue ~ 0 + top_5_trailer_views + budget + wikipedia_pre_release_cumulative_views + wikipedia_pre_release_cumulative_views :  production_method : in_franchise\"\n",
    "formula = \"opening_wide_revenue ~ 0 + top_5_trailer_views + budget + wikipedia_pre_release_monday_views : in_franchise : production_method\"\n",
    "\n",
    "# \"metacritic_review_count\",\n",
    "# \"metacritic_score_calculated\",\n",
    "# \"metacritic_monday_before_wide_friday_calculated\",\n",
    "# \"metacritic_before_wide_friday_calculated\",\n",
    "# \"metacritic_before_first_day_calculated\"\n",
    "\n",
    "# add in the interactions\n",
    "model_simple_glm = smf.glm(formula=formula, data=X_train).fit()\n",
    "\n",
    "pred_simple_glm = model_simple_glm.predict(X_test)\n",
    "\n",
    "# pred_simple_glm = np.exp(pred_simple_glm)\n",
    "# pred_simple_glm = pred_simple_glm ** 2\n",
    "\n",
    "print(\"RMSE:\", root_mean_squared_error(y_test, pred_simple_glm))\n",
    "print(model_simple_glm.summary())\n",
    "\n",
    "train_pred = model_simple_glm.predict(X_train)\n",
    "# train_pred = np.exp(train_pred)\n",
    "# train_pred = train_pred ** 2\n",
    "\n",
    "# print predictions vs actual within training data\n",
    "training_data = pd.DataFrame(\n",
    "    {\n",
    "        \"actual\": y_train,\n",
    "        \"predicted\": train_pred,\n",
    "        \"title\": X_train[\"title\"],\n",
    "        \"extra\": X_train[\"sqrt_budget\"],\n",
    "    }\n",
    ")\n",
    "\n",
    "# write to a file\n",
    "training_data.to_csv(\"training_data.csv\")\n",
    "\n",
    "fig = px.scatter(training_data, x=\"actual\", y=\"predicted\", hover_name=\"title\", color=\"extra\")\n",
    "fig.add_trace(go.Scatter(x=training_data[\"actual\"], y=training_data[\"actual\"], mode=\"lines\", name=\"y=x\"))\n",
    "fig.update_layout(title=\"Actual vs Predicted Opening Weekend Revenue\", xaxis_title=\"Actual\", yaxis_title=\"Predicted\")"
   ]
  },
  {
   "cell_type": "code",
   "execution_count": null,
   "metadata": {},
   "outputs": [
    {
     "name": "stdout",
     "output_type": "stream",
     "text": [
      "('top_5_trailer_views',) 27421054.718193922\n",
      "('metacritic_before_wide_friday_calculated',) 27396621.0242101\n",
      "('in_franchise',) 26679887.390754785\n",
      "('production_method',) 25964555.9446219\n",
      "('top_5_trailer_views', 'in_franchise') 25120028.875322152\n",
      "('budget', 'production_method') 24618907.46758768\n",
      "('wikipedia_pre_release_cumulative_views', 'in_franchise') 24426182.34173703\n",
      "('wikipedia_pre_release_cumulative_views', 'production_method') 23637375.261868846\n",
      "('budget', 'in_franchise', 'production_method') 23096233.230929025\n",
      "('wikipedia_pre_release_cumulative_views', 'in_franchise', 'production_method') 21472287.968184467\n"
     ]
    },
    {
     "ename": "KeyboardInterrupt",
     "evalue": "",
     "output_type": "error",
     "traceback": [
      "\u001b[0;31m---------------------------------------------------------------------------\u001b[0m",
      "\u001b[0;31mKeyboardInterrupt\u001b[0m                         Traceback (most recent call last)",
      "Cell \u001b[0;32mIn[5], line 36\u001b[0m\n\u001b[1;32m     34\u001b[0m formula \u001b[38;5;241m=\u001b[39m basic_model \u001b[38;5;241m+\u001b[39m \u001b[38;5;124m\"\u001b[39m\u001b[38;5;124m + \u001b[39m\u001b[38;5;124m\"\u001b[39m \u001b[38;5;241m+\u001b[39m \u001b[38;5;124m\"\u001b[39m\u001b[38;5;124m : \u001b[39m\u001b[38;5;124m\"\u001b[39m\u001b[38;5;241m.\u001b[39mjoin(combo)\n\u001b[1;32m     35\u001b[0m model \u001b[38;5;241m=\u001b[39m smf\u001b[38;5;241m.\u001b[39mglm(formula\u001b[38;5;241m=\u001b[39mformula, data\u001b[38;5;241m=\u001b[39mX_train)\u001b[38;5;241m.\u001b[39mfit()\n\u001b[0;32m---> 36\u001b[0m pred \u001b[38;5;241m=\u001b[39m \u001b[43mmodel\u001b[49m\u001b[38;5;241;43m.\u001b[39;49m\u001b[43mpredict\u001b[49m\u001b[43m(\u001b[49m\u001b[43mX_test\u001b[49m\u001b[43m)\u001b[49m\n\u001b[1;32m     37\u001b[0m rmse \u001b[38;5;241m=\u001b[39m root_mean_squared_error(y_test, pred)\n\u001b[1;32m     38\u001b[0m \u001b[38;5;28;01mif\u001b[39;00m rmse \u001b[38;5;241m<\u001b[39m best_rmse:\n",
      "File \u001b[0;32m~/.pyenv/versions/3.12.5/lib/python3.12/site-packages/statsmodels/base/model.py:1171\u001b[0m, in \u001b[0;36mResults.predict\u001b[0;34m(self, exog, transform, *args, **kwargs)\u001b[0m\n\u001b[1;32m   1126\u001b[0m \u001b[38;5;28;01mdef\u001b[39;00m \u001b[38;5;21mpredict\u001b[39m(\u001b[38;5;28mself\u001b[39m, exog\u001b[38;5;241m=\u001b[39m\u001b[38;5;28;01mNone\u001b[39;00m, transform\u001b[38;5;241m=\u001b[39m\u001b[38;5;28;01mTrue\u001b[39;00m, \u001b[38;5;241m*\u001b[39margs, \u001b[38;5;241m*\u001b[39m\u001b[38;5;241m*\u001b[39mkwargs):\n\u001b[1;32m   1127\u001b[0m \u001b[38;5;250m    \u001b[39m\u001b[38;5;124;03m\"\"\"\u001b[39;00m\n\u001b[1;32m   1128\u001b[0m \u001b[38;5;124;03m    Call self.model.predict with self.params as the first argument.\u001b[39;00m\n\u001b[1;32m   1129\u001b[0m \n\u001b[0;32m   (...)\u001b[0m\n\u001b[1;32m   1169\u001b[0m \u001b[38;5;124;03m    returned prediction.\u001b[39;00m\n\u001b[1;32m   1170\u001b[0m \u001b[38;5;124;03m    \"\"\"\u001b[39;00m\n\u001b[0;32m-> 1171\u001b[0m     exog, exog_index \u001b[38;5;241m=\u001b[39m \u001b[38;5;28;43mself\u001b[39;49m\u001b[38;5;241;43m.\u001b[39;49m\u001b[43m_transform_predict_exog\u001b[49m\u001b[43m(\u001b[49m\u001b[43mexog\u001b[49m\u001b[43m,\u001b[49m\n\u001b[1;32m   1172\u001b[0m \u001b[43m                                                    \u001b[49m\u001b[43mtransform\u001b[49m\u001b[38;5;241;43m=\u001b[39;49m\u001b[43mtransform\u001b[49m\u001b[43m)\u001b[49m\n\u001b[1;32m   1174\u001b[0m     predict_results \u001b[38;5;241m=\u001b[39m \u001b[38;5;28mself\u001b[39m\u001b[38;5;241m.\u001b[39mmodel\u001b[38;5;241m.\u001b[39mpredict(\u001b[38;5;28mself\u001b[39m\u001b[38;5;241m.\u001b[39mparams, exog, \u001b[38;5;241m*\u001b[39margs,\n\u001b[1;32m   1175\u001b[0m                                          \u001b[38;5;241m*\u001b[39m\u001b[38;5;241m*\u001b[39mkwargs)\n\u001b[1;32m   1177\u001b[0m     \u001b[38;5;28;01mif\u001b[39;00m exog_index \u001b[38;5;129;01mis\u001b[39;00m \u001b[38;5;129;01mnot\u001b[39;00m \u001b[38;5;28;01mNone\u001b[39;00m \u001b[38;5;129;01mand\u001b[39;00m \u001b[38;5;129;01mnot\u001b[39;00m \u001b[38;5;28mhasattr\u001b[39m(predict_results,\n\u001b[1;32m   1178\u001b[0m                                               \u001b[38;5;124m'\u001b[39m\u001b[38;5;124mpredicted_values\u001b[39m\u001b[38;5;124m'\u001b[39m):\n",
      "File \u001b[0;32m~/.pyenv/versions/3.12.5/lib/python3.12/site-packages/statsmodels/base/model.py:1102\u001b[0m, in \u001b[0;36mResults._transform_predict_exog\u001b[0;34m(self, exog, transform)\u001b[0m\n\u001b[1;32m   1100\u001b[0m is_dict \u001b[38;5;241m=\u001b[39m \u001b[38;5;28misinstance\u001b[39m(exog, \u001b[38;5;28mdict\u001b[39m)\n\u001b[1;32m   1101\u001b[0m \u001b[38;5;28;01mtry\u001b[39;00m:\n\u001b[0;32m-> 1102\u001b[0m     exog \u001b[38;5;241m=\u001b[39m \u001b[43mdmatrix\u001b[49m\u001b[43m(\u001b[49m\u001b[43mdesign_info\u001b[49m\u001b[43m,\u001b[49m\u001b[43m \u001b[49m\u001b[43mexog\u001b[49m\u001b[43m,\u001b[49m\u001b[43m \u001b[49m\u001b[43mreturn_type\u001b[49m\u001b[38;5;241;43m=\u001b[39;49m\u001b[38;5;124;43m\"\u001b[39;49m\u001b[38;5;124;43mdataframe\u001b[39;49m\u001b[38;5;124;43m\"\u001b[39;49m\u001b[43m)\u001b[49m\n\u001b[1;32m   1103\u001b[0m \u001b[38;5;28;01mexcept\u001b[39;00m \u001b[38;5;167;01mException\u001b[39;00m \u001b[38;5;28;01mas\u001b[39;00m exc:\n\u001b[1;32m   1104\u001b[0m     msg \u001b[38;5;241m=\u001b[39m (\u001b[38;5;124m'\u001b[39m\u001b[38;5;124mpredict requires that you use a DataFrame when \u001b[39m\u001b[38;5;124m'\u001b[39m\n\u001b[1;32m   1105\u001b[0m            \u001b[38;5;124m'\u001b[39m\u001b[38;5;124mpredicting from a model\u001b[39m\u001b[38;5;130;01m\\n\u001b[39;00m\u001b[38;5;124mthat was created using the \u001b[39m\u001b[38;5;124m'\u001b[39m\n\u001b[1;32m   1106\u001b[0m            \u001b[38;5;124m'\u001b[39m\u001b[38;5;124mformula api.\u001b[39m\u001b[38;5;124m'\u001b[39m\n\u001b[1;32m   1107\u001b[0m            \u001b[38;5;124m'\u001b[39m\u001b[38;5;130;01m\\n\u001b[39;00m\u001b[38;5;130;01m\\n\u001b[39;00m\u001b[38;5;124mThe original error message returned by patsy is:\u001b[39m\u001b[38;5;130;01m\\n\u001b[39;00m\u001b[38;5;124m'\u001b[39m\n\u001b[1;32m   1108\u001b[0m            \u001b[38;5;124m'\u001b[39m\u001b[38;5;132;01m{}\u001b[39;00m\u001b[38;5;124m'\u001b[39m\u001b[38;5;241m.\u001b[39mformat(\u001b[38;5;28mstr\u001b[39m(\u001b[38;5;28mstr\u001b[39m(exc))))\n",
      "File \u001b[0;32m~/.pyenv/versions/3.12.5/lib/python3.12/site-packages/patsy/highlevel.py:290\u001b[0m, in \u001b[0;36mdmatrix\u001b[0;34m(formula_like, data, eval_env, NA_action, return_type)\u001b[0m\n\u001b[1;32m    227\u001b[0m \u001b[38;5;250m\u001b[39m\u001b[38;5;124;03m\"\"\"Construct a single design matrix given a formula_like and data.\u001b[39;00m\n\u001b[1;32m    228\u001b[0m \n\u001b[1;32m    229\u001b[0m \u001b[38;5;124;03m:arg formula_like: An object that can be used to construct a design\u001b[39;00m\n\u001b[0;32m   (...)\u001b[0m\n\u001b[1;32m    287\u001b[0m \u001b[38;5;124;03m   The ``NA_action`` argument.\u001b[39;00m\n\u001b[1;32m    288\u001b[0m \u001b[38;5;124;03m\"\"\"\u001b[39;00m\n\u001b[1;32m    289\u001b[0m eval_env \u001b[38;5;241m=\u001b[39m EvalEnvironment\u001b[38;5;241m.\u001b[39mcapture(eval_env, reference\u001b[38;5;241m=\u001b[39m\u001b[38;5;241m1\u001b[39m)\n\u001b[0;32m--> 290\u001b[0m (lhs, rhs) \u001b[38;5;241m=\u001b[39m \u001b[43m_do_highlevel_design\u001b[49m\u001b[43m(\u001b[49m\u001b[43mformula_like\u001b[49m\u001b[43m,\u001b[49m\u001b[43m \u001b[49m\u001b[43mdata\u001b[49m\u001b[43m,\u001b[49m\u001b[43m \u001b[49m\u001b[43meval_env\u001b[49m\u001b[43m,\u001b[49m\n\u001b[1;32m    291\u001b[0m \u001b[43m                                  \u001b[49m\u001b[43mNA_action\u001b[49m\u001b[43m,\u001b[49m\u001b[43m \u001b[49m\u001b[43mreturn_type\u001b[49m\u001b[43m)\u001b[49m\n\u001b[1;32m    292\u001b[0m \u001b[38;5;28;01mif\u001b[39;00m lhs\u001b[38;5;241m.\u001b[39mshape[\u001b[38;5;241m1\u001b[39m] \u001b[38;5;241m!=\u001b[39m \u001b[38;5;241m0\u001b[39m:\n\u001b[1;32m    293\u001b[0m     \u001b[38;5;28;01mraise\u001b[39;00m PatsyError(\u001b[38;5;124m\"\u001b[39m\u001b[38;5;124mencountered outcome variables for a model \u001b[39m\u001b[38;5;124m\"\u001b[39m\n\u001b[1;32m    294\u001b[0m                         \u001b[38;5;124m\"\u001b[39m\u001b[38;5;124mthat does not expect them\u001b[39m\u001b[38;5;124m\"\u001b[39m)\n",
      "File \u001b[0;32m~/.pyenv/versions/3.12.5/lib/python3.12/site-packages/patsy/highlevel.py:167\u001b[0m, in \u001b[0;36m_do_highlevel_design\u001b[0;34m(formula_like, data, eval_env, NA_action, return_type)\u001b[0m\n\u001b[1;32m    164\u001b[0m design_infos \u001b[38;5;241m=\u001b[39m _try_incr_builders(formula_like, data_iter_maker, eval_env,\n\u001b[1;32m    165\u001b[0m                                   NA_action)\n\u001b[1;32m    166\u001b[0m \u001b[38;5;28;01mif\u001b[39;00m design_infos \u001b[38;5;129;01mis\u001b[39;00m \u001b[38;5;129;01mnot\u001b[39;00m \u001b[38;5;28;01mNone\u001b[39;00m:\n\u001b[0;32m--> 167\u001b[0m     \u001b[38;5;28;01mreturn\u001b[39;00m \u001b[43mbuild_design_matrices\u001b[49m\u001b[43m(\u001b[49m\u001b[43mdesign_infos\u001b[49m\u001b[43m,\u001b[49m\u001b[43m \u001b[49m\u001b[43mdata\u001b[49m\u001b[43m,\u001b[49m\n\u001b[1;32m    168\u001b[0m \u001b[43m                                 \u001b[49m\u001b[43mNA_action\u001b[49m\u001b[38;5;241;43m=\u001b[39;49m\u001b[43mNA_action\u001b[49m\u001b[43m,\u001b[49m\n\u001b[1;32m    169\u001b[0m \u001b[43m                                 \u001b[49m\u001b[43mreturn_type\u001b[49m\u001b[38;5;241;43m=\u001b[39;49m\u001b[43mreturn_type\u001b[49m\u001b[43m)\u001b[49m\n\u001b[1;32m    170\u001b[0m \u001b[38;5;28;01melse\u001b[39;00m:\n\u001b[1;32m    171\u001b[0m     \u001b[38;5;66;03m# No builders, but maybe we can still get matrices\u001b[39;00m\n\u001b[1;32m    172\u001b[0m     \u001b[38;5;28;01mif\u001b[39;00m \u001b[38;5;28misinstance\u001b[39m(formula_like, \u001b[38;5;28mtuple\u001b[39m):\n",
      "File \u001b[0;32m~/.pyenv/versions/3.12.5/lib/python3.12/site-packages/patsy/build.py:888\u001b[0m, in \u001b[0;36mbuild_design_matrices\u001b[0;34m(design_infos, data, NA_action, return_type, dtype)\u001b[0m\n\u001b[1;32m    886\u001b[0m \u001b[38;5;28;01mfor\u001b[39;00m factor_info \u001b[38;5;129;01min\u001b[39;00m six\u001b[38;5;241m.\u001b[39mitervalues(design_info\u001b[38;5;241m.\u001b[39mfactor_infos):\n\u001b[1;32m    887\u001b[0m     \u001b[38;5;28;01mif\u001b[39;00m factor_info \u001b[38;5;129;01mnot\u001b[39;00m \u001b[38;5;129;01min\u001b[39;00m factor_info_to_values:\n\u001b[0;32m--> 888\u001b[0m         value, is_NA \u001b[38;5;241m=\u001b[39m \u001b[43m_eval_factor\u001b[49m\u001b[43m(\u001b[49m\u001b[43mfactor_info\u001b[49m\u001b[43m,\u001b[49m\u001b[43m \u001b[49m\u001b[43mdata\u001b[49m\u001b[43m,\u001b[49m\u001b[43m \u001b[49m\u001b[43mNA_action\u001b[49m\u001b[43m)\u001b[49m\n\u001b[1;32m    889\u001b[0m         factor_info_to_isNAs[factor_info] \u001b[38;5;241m=\u001b[39m is_NA\n\u001b[1;32m    890\u001b[0m         \u001b[38;5;66;03m# value may now be a Series, DataFrame, or ndarray\u001b[39;00m\n",
      "File \u001b[0;32m~/.pyenv/versions/3.12.5/lib/python3.12/site-packages/patsy/build.py:80\u001b[0m, in \u001b[0;36m_eval_factor\u001b[0;34m(factor_info, data, NA_action)\u001b[0m\n\u001b[1;32m     75\u001b[0m     \u001b[38;5;28;01mif\u001b[39;00m \u001b[38;5;129;01mnot\u001b[39;00m safe_issubdtype(np\u001b[38;5;241m.\u001b[39masarray(result)\u001b[38;5;241m.\u001b[39mdtype, np\u001b[38;5;241m.\u001b[39mnumber):\n\u001b[1;32m     76\u001b[0m         \u001b[38;5;28;01mraise\u001b[39;00m PatsyError(\u001b[38;5;124m\"\u001b[39m\u001b[38;5;124mwhen evaluating numeric factor \u001b[39m\u001b[38;5;132;01m%s\u001b[39;00m\u001b[38;5;124m, \u001b[39m\u001b[38;5;124m\"\u001b[39m\n\u001b[1;32m     77\u001b[0m                          \u001b[38;5;124m\"\u001b[39m\u001b[38;5;124mI got non-numeric data of type \u001b[39m\u001b[38;5;124m'\u001b[39m\u001b[38;5;132;01m%s\u001b[39;00m\u001b[38;5;124m'\u001b[39m\u001b[38;5;124m\"\u001b[39m\n\u001b[1;32m     78\u001b[0m                          \u001b[38;5;241m%\u001b[39m (factor\u001b[38;5;241m.\u001b[39mname(), result\u001b[38;5;241m.\u001b[39mdtype),\n\u001b[1;32m     79\u001b[0m                          factor)\n\u001b[0;32m---> 80\u001b[0m     \u001b[38;5;28;01mreturn\u001b[39;00m result, \u001b[43mNA_action\u001b[49m\u001b[38;5;241;43m.\u001b[39;49m\u001b[43mis_numerical_NA\u001b[49m\u001b[43m(\u001b[49m\u001b[43mresult\u001b[49m\u001b[43m)\u001b[49m\n\u001b[1;32m     81\u001b[0m \u001b[38;5;66;03m# returns either a 1d ndarray or a pandas.Series, plus is_NA mask\u001b[39;00m\n\u001b[1;32m     82\u001b[0m \u001b[38;5;28;01melse\u001b[39;00m:\n\u001b[1;32m     83\u001b[0m     \u001b[38;5;28;01massert\u001b[39;00m factor_info\u001b[38;5;241m.\u001b[39mtype \u001b[38;5;241m==\u001b[39m \u001b[38;5;124m\"\u001b[39m\u001b[38;5;124mcategorical\u001b[39m\u001b[38;5;124m\"\u001b[39m\n",
      "File \u001b[0;32m~/.pyenv/versions/3.12.5/lib/python3.12/site-packages/patsy/missing.py:136\u001b[0m, in \u001b[0;36mNAAction.is_numerical_NA\u001b[0;34m(self, arr)\u001b[0m\n\u001b[1;32m    134\u001b[0m mask \u001b[38;5;241m=\u001b[39m np\u001b[38;5;241m.\u001b[39mzeros(arr\u001b[38;5;241m.\u001b[39mshape, dtype\u001b[38;5;241m=\u001b[39m\u001b[38;5;28mbool\u001b[39m)\n\u001b[1;32m    135\u001b[0m \u001b[38;5;28;01mif\u001b[39;00m \u001b[38;5;124m\"\u001b[39m\u001b[38;5;124mNaN\u001b[39m\u001b[38;5;124m\"\u001b[39m \u001b[38;5;129;01min\u001b[39;00m \u001b[38;5;28mself\u001b[39m\u001b[38;5;241m.\u001b[39mNA_types:\n\u001b[0;32m--> 136\u001b[0m     \u001b[43mmask\u001b[49m\u001b[43m \u001b[49m\u001b[38;5;241;43m|\u001b[39;49m\u001b[38;5;241;43m=\u001b[39;49m\u001b[43m \u001b[49m\u001b[43mnp\u001b[49m\u001b[38;5;241;43m.\u001b[39;49m\u001b[43misnan\u001b[49m\u001b[43m(\u001b[49m\u001b[43marr\u001b[49m\u001b[43m)\u001b[49m\n\u001b[1;32m    137\u001b[0m \u001b[38;5;28;01mif\u001b[39;00m mask\u001b[38;5;241m.\u001b[39mndim \u001b[38;5;241m>\u001b[39m \u001b[38;5;241m1\u001b[39m:\n\u001b[1;32m    138\u001b[0m     mask \u001b[38;5;241m=\u001b[39m np\u001b[38;5;241m.\u001b[39many(mask, axis\u001b[38;5;241m=\u001b[39m\u001b[38;5;241m1\u001b[39m)\n",
      "File \u001b[0;32m~/.pyenv/versions/3.12.5/lib/python3.12/site-packages/pandas/core/generic.py:2171\u001b[0m, in \u001b[0;36mNDFrame.__array_ufunc__\u001b[0;34m(self, ufunc, method, *inputs, **kwargs)\u001b[0m\n\u001b[1;32m   2167\u001b[0m \u001b[38;5;129m@final\u001b[39m\n\u001b[1;32m   2168\u001b[0m \u001b[38;5;28;01mdef\u001b[39;00m \u001b[38;5;21m__array_ufunc__\u001b[39m(\n\u001b[1;32m   2169\u001b[0m     \u001b[38;5;28mself\u001b[39m, ufunc: np\u001b[38;5;241m.\u001b[39mufunc, method: \u001b[38;5;28mstr\u001b[39m, \u001b[38;5;241m*\u001b[39minputs: Any, \u001b[38;5;241m*\u001b[39m\u001b[38;5;241m*\u001b[39mkwargs: Any\n\u001b[1;32m   2170\u001b[0m ):\n\u001b[0;32m-> 2171\u001b[0m     \u001b[38;5;28;01mreturn\u001b[39;00m \u001b[43marraylike\u001b[49m\u001b[38;5;241;43m.\u001b[39;49m\u001b[43marray_ufunc\u001b[49m\u001b[43m(\u001b[49m\u001b[38;5;28;43mself\u001b[39;49m\u001b[43m,\u001b[49m\u001b[43m \u001b[49m\u001b[43mufunc\u001b[49m\u001b[43m,\u001b[49m\u001b[43m \u001b[49m\u001b[43mmethod\u001b[49m\u001b[43m,\u001b[49m\u001b[43m \u001b[49m\u001b[38;5;241;43m*\u001b[39;49m\u001b[43minputs\u001b[49m\u001b[43m,\u001b[49m\u001b[43m \u001b[49m\u001b[38;5;241;43m*\u001b[39;49m\u001b[38;5;241;43m*\u001b[39;49m\u001b[43mkwargs\u001b[49m\u001b[43m)\u001b[49m\n",
      "File \u001b[0;32m~/.pyenv/versions/3.12.5/lib/python3.12/site-packages/pandas/core/arraylike.py:301\u001b[0m, in \u001b[0;36marray_ufunc\u001b[0;34m(self, ufunc, method, *inputs, **kwargs)\u001b[0m\n\u001b[1;32m    299\u001b[0m \u001b[38;5;66;03m# align all the inputs.\u001b[39;00m\n\u001b[1;32m    300\u001b[0m types \u001b[38;5;241m=\u001b[39m \u001b[38;5;28mtuple\u001b[39m(\u001b[38;5;28mtype\u001b[39m(x) \u001b[38;5;28;01mfor\u001b[39;00m x \u001b[38;5;129;01min\u001b[39;00m inputs)\n\u001b[0;32m--> 301\u001b[0m alignable \u001b[38;5;241m=\u001b[39m [x \u001b[38;5;28;01mfor\u001b[39;00m x, t \u001b[38;5;129;01min\u001b[39;00m \u001b[38;5;28;43mzip\u001b[39;49m\u001b[43m(\u001b[49m\u001b[43minputs\u001b[49m\u001b[43m,\u001b[49m\u001b[43m \u001b[49m\u001b[43mtypes\u001b[49m\u001b[43m)\u001b[49m \u001b[38;5;28;01mif\u001b[39;00m \u001b[38;5;28missubclass\u001b[39m(t, NDFrame)]\n\u001b[1;32m    303\u001b[0m \u001b[38;5;28;01mif\u001b[39;00m \u001b[38;5;28mlen\u001b[39m(alignable) \u001b[38;5;241m>\u001b[39m \u001b[38;5;241m1\u001b[39m:\n\u001b[1;32m    304\u001b[0m     \u001b[38;5;66;03m# This triggers alignment.\u001b[39;00m\n\u001b[1;32m    305\u001b[0m     \u001b[38;5;66;03m# At the moment, there aren't any ufuncs with more than two inputs\u001b[39;00m\n\u001b[1;32m    306\u001b[0m     \u001b[38;5;66;03m# so this ends up just being x1.index | x2.index, but we write\u001b[39;00m\n\u001b[1;32m    307\u001b[0m     \u001b[38;5;66;03m# it to handle *args.\u001b[39;00m\n\u001b[1;32m    308\u001b[0m     set_types \u001b[38;5;241m=\u001b[39m \u001b[38;5;28mset\u001b[39m(types)\n",
      "\u001b[0;31mKeyboardInterrupt\u001b[0m: "
     ]
    }
   ],
   "source": [
    "# find best interaction term\n",
    "possibilities = [\n",
    "    \"top_5_trailer_views\",\n",
    "    \"budget\",\n",
    "    \"wikipedia_pre_release_cumulative_views\",\n",
    "    \"metacritic_before_wide_friday_calculated\",\n",
    "    \"in_franchise\",\n",
    "    \"production_method\",\n",
    "    \"normalized_budget\",\n",
    "    \"normalized_top_5_trailer_views\",\n",
    "    \"normalized_wikipedia_pre_release_cumulative_views\",\n",
    "    \"normalized_metacritic_before_wide_friday_calculated\",\n",
    "    \"log_budget\",\n",
    "    \"log_top_5_trailer_views\",\n",
    "    \"log_wikipedia_pre_release_cumulative_views\",\n",
    "    \"wikipedia_pre_release_monday_views\",\n",
    "    \"genre\",\n",
    "    \"source\",\n",
    "    \"top_3_trailer_views\",\n",
    "    \"max_trailer_views\",\n",
    "    \"total_trailer_views\",\n",
    "    \"sum_cast_box_office\",\n",
    "    \"sum_crew_box_office\",\n",
    "    \"mpaa_rating\"\n",
    "]\n",
    "\n",
    "from itertools import combinations\n",
    "\n",
    "basic_model = \"opening_wide_revenue ~ 0 + top_5_trailer_views + budget + wikipedia_pre_release_cumulative_views\"\n",
    "\n",
    "best_3_interactions = []\n",
    "best_rmse = 100000000000\n",
    "\n",
    "for i in range(1, 4):\n",
    "    for combo in combinations(possibilities, i):\n",
    "        formula = basic_model + \" + \" + \" : \".join(combo)\n",
    "        model = smf.glm(formula=formula, data=X_train).fit()\n",
    "        pred = model.predict(X_test)\n",
    "        rmse = root_mean_squared_error(y_test, pred)\n",
    "        if rmse < best_rmse:\n",
    "            best_3_interactions = combo\n",
    "            best_rmse = rmse\n",
    "            print(best_3_interactions, best_rmse)\n",
    "\n",
    "print(best_3_interactions)"
   ]
  },
  {
   "cell_type": "code",
   "execution_count": null,
   "metadata": {},
   "outputs": [
    {
     "data": {
      "application/vnd.plotly.v1+json": {
       "config": {
        "plotlyServerURL": "https://plot.ly"
       },
       "data": [
        {
         "hovertemplate": "<b>%{hovertext}</b><br><br>actual=%{x}<br>predicted=%{y}<br>log_budget=%{marker.color}<extra></extra>",
         "hovertext": [
          "M3GAN",
          "80 for Brady",
          "Knock at the Cabin",
          "Ant-Man and the Wasp: Quantumania",
          "Jesus Revolution",
          "Creed III",
          "Operation Fortune: Ruse de guerre",
          "Scream VI",
          "65",
          "Shazam! Fury of the Gods",
          "John Wick: Chapter 4",
          "Dungeons & Dragons: Honor Among Thieves",
          "His Only Son",
          "The Super Mario Bros. Movie",
          "Renfield",
          "The Pope’s Exorcist",
          "Beau is Afraid",
          "Big George Foreman: The Miraculous Story of the Once and Future Heavyweight Champion of the World",
          "Are You There God? It’s Me, Margaret",
          "Guardians of the Galaxy Vol 3",
          "Fast X",
          "The Little Mermaid",
          "The Machine",
          "Spider-Man: Across the Spider-Verse",
          "Transformers: Rise of the Beasts",
          "The Flash",
          "Elemental",
          "No Hard Feelings",
          "Ruby Gillman, Teenage Kraken",
          "Indiana Jones and the Dial of Destiny",
          "Sound of Freedom",
          "Insidious: The Red Door",
          "Oppenheimer",
          "Barbie",
          "Talk To Me",
          "Haunted Mansion",
          "Teenage Mutant Ninja Turtles: Mutant Mayhem",
          "Meg 2: The Trench",
          "The Last Voyage of the Demeter",
          "Blue Beetle",
          "Strays",
          "Dumb Money",
          "Expend4bles",
          "The Creator",
          "Saw X",
          "PAW Patrol: The Mighty Movie",
          "The Exorcist: Believer",
          "Killers of the Flower Moon",
          "Priscilla",
          "Five Nights at Freddy’s",
          "Journey to Bethlehem",
          "The Marvels",
          "Next Goal Wins",
          "The Hunger Games: The Ballad of Songbirds & Snakes",
          "Thanksgiving",
          "Trolls Band Together",
          "Wish",
          "Napoleon",
          "Godzilla Minus One (ゴジラ最新作)",
          "American Fiction",
          "Wonka",
          "Migration",
          "The Iron Claw",
          "Aquaman and the Lost Kingdom",
          "Anyone But You",
          "Ferrari",
          "Mean Girls",
          "Argylle",
          "Madame Web",
          "Dune: Part Two",
          "Kung Fu Panda 4",
          "Imaginary",
          "Cabrini",
          "Arthur the King",
          "Ghostbusters: Frozen Empire",
          "Godzilla x Kong: The New Empire",
          "Civil War",
          "Abigail",
          "Challengers",
          "Unsung Hero",
          "The Fall Guy",
          "Tarot",
          "Kingdom of the Planet of the Apes",
          "IF",
          "The Strangers: Chapter 1",
          "Furiosa: A Mad Max Saga",
          "The Garfield Movie",
          "The Watchers",
          "Bad Boys: Ride or Die",
          "Inside Out 2",
          "A Quiet Place: Day One",
          "Horizon: An American Saga Chapter 1",
          "Despicable Me 4",
          "Sound of Hope: The Story of Possum Trot",
          "Fly Me to the Moon",
          "Twisters",
          "Deadpool & Wolverine",
          "Harold and the Purple Crayon",
          "It Ends With Us",
          "Alien: Romulus",
          "The Crow",
          "Reagan",
          "Beetlejuice Beetlejuice",
          "Speak No Evil"
         ],
         "legendgroup": "",
         "marker": {
          "color": [
           16.300417207752275,
           17.14771506813948,
           16.811242831518264,
           19.11382792451231,
           16.523560759066484,
           18.132998671500584,
           17.72753356339242,
           17.37085861945369,
           17.622173047734595,
           18.643824295266576,
           18.420680743952367,
           18.82614585206053,
           12.429216196844383,
           18.420680743952367,
           18.272216431052517,
           16.70588231586044,
           17.37085861945369,
           17.281246460764002,
           17.216707939626428,
           19.33697147582652,
           19.644456175574483,
           19.33697147582652,
           16.811242831518264,
           18.420680743952367,
           19.08851011652802,
           19.11382792451231,
           19.11382792451231,
           17.622173047734595,
           18.064005800013632,
           19.812708636920018,
           16.489659207390805,
           16.588099280204055,
           18.420680743952367,
           18.8327903947792,
           15.2624295409006,
           18.876522059385596,
           18.064005800013632,
           18.675322962325946,
           17.622173047734595,
           18.60300230074632,
           17.64415195445337,
           17.216707939626428,
           18.420680743952367,
           18.197537192638155,
           16.38045991542581,
           17.216707939626428,
           17.216707939626428,
           19.11382792451231,
           16.811242831518264,
           16.811242831518264,
           15.60727002719233,
           19.43155411831247,
           16.11809565095832,
           18.420680743952367,
           16.523560759066484,
           18.369387449564815,
           19.11382792451231,
           19.11382792451231,
           16.523560759066484,
           16.11809565095832,
           18.643824295266576,
           18.09217667698033,
           16.58182966719046,
           19.138520537102682,
           17.034386382832476,
           18.369387449564815,
           17.399029496420383,
           19.11382792451231,
           18.197537192638155,
           19.06253463012476,
           18.258161814454592,
           16.38045991542581,
           17.72753356339242,
           16.759949537130716,
           18.420680743952367,
           18.720785336402702,
           17.72753356339242,
           17.14771506813948,
           17.822843743196746,
           15.60727002719233,
           18.643824295266576,
           15.89495209964411,
           18.890684373198102,
           18.51599092375669,
           15.955576721460545,
           18.939474537367534,
           17.909855120186375,
           17.216707939626428,
           18.420680743952367,
           19.11382792451231,
           18.02020317735524,
           17.72753356339242,
           18.420680743952367,
           15.955576721460545,
           18.420680743952367,
           18.858935674883522,
           19.11382792451231,
           17.50439001207821,
           17.034386382832476,
           18.197537192638155,
           17.72753356339242,
           17.034386382832476,
           18.420680743952367,
           16.523560759066484
          ],
          "coloraxis": "coloraxis",
          "symbol": "circle"
         },
         "mode": "markers",
         "name": "",
         "orientation": "v",
         "showlegend": false,
         "type": "scatter",
         "x": [
          30429860,
          12701640,
          14127170,
          106109650,
          15882067,
          58370007,
          3140214,
          44447270,
          12328361,
          30111158,
          73817950,
          37205784,
          5501070,
          146361865,
          8026475,
          9006368,
          2661957,
          2925364,
          6739037,
          118414021,
          67017410,
          95578040,
          5000545,
          120663589,
          61045464,
          55043679,
          29602429,
          15002770,
          5500990,
          60368101,
          19680879,
          33013036,
          82455420,
          162022044,
          10431720,
          24082475,
          28007544,
          30002735,
          6504950,
          25030225,
          8247810,
          3325504,
          8039021,
          14079512,
          18309301,
          22764354,
          26497600,
          23253655,
          5040003,
          80001720,
          2400446,
          46110859,
          2500295,
          44607143,
          10306272,
          30002525,
          19698228,
          20638887,
          11419975,
          1755364,
          39005800,
          12453275,
          4868370,
          27686211,
          6000344,
          3921773,
          28635307,
          17473540,
          15335860,
          82505391,
          57989905,
          9912713,
          7168520,
          7633898,
          45004673,
          80006561,
          25537368,
          10297110,
          15011061,
          7731539,
          27747035,
          6503012,
          58400788,
          33715801,
          11825058,
          26326462,
          24006629,
          7003537,
          56527324,
          154201673,
          52202495,
          11052561,
          75009210,
          3078758,
          9426615,
          81251415,
          211435291,
          6003197,
          50016652,
          42003361,
          4644666,
          7650720,
          111003345,
          11397595
         ],
         "xaxis": "x",
         "y": [
          33860616.98341061,
          6698414.645238322,
          23769234.35893478,
          95016161.26101704,
          9839212.862920213,
          35044474.12590383,
          14432947.229875237,
          31639167.912209947,
          15873190.67746184,
          40686325.88389434,
          83996172.96557559,
          26719869.356283616,
          105145.45425424127,
          68310503.67132945,
          27465394.673416033,
          12042044.720236136,
          10759625.560537934,
          7199467.44111333,
          8920775.151577022,
          104379277.0875906,
          95372658.93199618,
          93771756.18741941,
          4387717.7492927,
          120393610.99588105,
          81131266.42697105,
          88016154.30586204,
          53426592.28300853,
          12202318.962894369,
          20917017.61533903,
          91050073.49431646,
          8501737.212155582,
          18921626.193617463,
          83890790.87212542,
          117758994.80391604,
          11119419.768056761,
          23594097.313342113,
          42351360.79317723,
          36954988.797420174,
          14654528.617928471,
          46200180.439755276,
          15273687.536093969,
          9112104.318706024,
          25985004.641882144,
          27869501.7955569,
          24198828.33637615,
          19700724.38889488,
          25009219.483223647,
          48357241.070875674,
          7157618.133034289,
          36973086.20004646,
          2197729.8796005836,
          71331628.41443923,
          4653866.347810954,
          42170097.63879332,
          20947607.969454035,
          43014759.70475044,
          47584084.404269174,
          45463858.76801519,
          25807200.938099816,
          6936326.306968718,
          59008453.59227879,
          25877648.9758111,
          13502575.050270151,
          48095818.78515068,
          7791018.409776241,
          16145383.415578257,
          13988643.261927845,
          37078666.12793287,
          32422886.780340165,
          90860150.98084527,
          52499094.39539048,
          9720950.13596778,
          6984434.3663577195,
          6523868.4272835385,
          26145343.32583286,
          63465127.866389394,
          35870682.74899391,
          11179917.117748808,
          18423915.609245032,
          1918265.464363607,
          34569847.20226521,
          5804036.899988143,
          80233679.18214135,
          32081965.59529111,
          12560959.706994027,
          56011680.52840513,
          30421250.046010286,
          12661330.563625243,
          22319220.259954233,
          95883674.99441254,
          33131598.680251602,
          9272970.782050483,
          54419080.8488383,
          2627128.0597023615,
          15571561.62293018,
          51815478.10264476,
          116134281.26213554,
          13313036.206725549,
          13636548.646116696,
          44418960.48049125,
          10492128.917774249,
          5280156.787032262,
          44452260.797133364,
          17387139.70974
         ],
         "yaxis": "y"
        },
        {
         "mode": "lines",
         "name": "y=x",
         "type": "scatter",
         "x": [
          30429860,
          12701640,
          14127170,
          106109650,
          15882067,
          58370007,
          3140214,
          44447270,
          12328361,
          30111158,
          73817950,
          37205784,
          5501070,
          146361865,
          8026475,
          9006368,
          2661957,
          2925364,
          6739037,
          118414021,
          67017410,
          95578040,
          5000545,
          120663589,
          61045464,
          55043679,
          29602429,
          15002770,
          5500990,
          60368101,
          19680879,
          33013036,
          82455420,
          162022044,
          10431720,
          24082475,
          28007544,
          30002735,
          6504950,
          25030225,
          8247810,
          3325504,
          8039021,
          14079512,
          18309301,
          22764354,
          26497600,
          23253655,
          5040003,
          80001720,
          2400446,
          46110859,
          2500295,
          44607143,
          10306272,
          30002525,
          19698228,
          20638887,
          11419975,
          1755364,
          39005800,
          12453275,
          4868370,
          27686211,
          6000344,
          3921773,
          28635307,
          17473540,
          15335860,
          82505391,
          57989905,
          9912713,
          7168520,
          7633898,
          45004673,
          80006561,
          25537368,
          10297110,
          15011061,
          7731539,
          27747035,
          6503012,
          58400788,
          33715801,
          11825058,
          26326462,
          24006629,
          7003537,
          56527324,
          154201673,
          52202495,
          11052561,
          75009210,
          3078758,
          9426615,
          81251415,
          211435291,
          6003197,
          50016652,
          42003361,
          4644666,
          7650720,
          111003345,
          11397595
         ],
         "y": [
          30429860,
          12701640,
          14127170,
          106109650,
          15882067,
          58370007,
          3140214,
          44447270,
          12328361,
          30111158,
          73817950,
          37205784,
          5501070,
          146361865,
          8026475,
          9006368,
          2661957,
          2925364,
          6739037,
          118414021,
          67017410,
          95578040,
          5000545,
          120663589,
          61045464,
          55043679,
          29602429,
          15002770,
          5500990,
          60368101,
          19680879,
          33013036,
          82455420,
          162022044,
          10431720,
          24082475,
          28007544,
          30002735,
          6504950,
          25030225,
          8247810,
          3325504,
          8039021,
          14079512,
          18309301,
          22764354,
          26497600,
          23253655,
          5040003,
          80001720,
          2400446,
          46110859,
          2500295,
          44607143,
          10306272,
          30002525,
          19698228,
          20638887,
          11419975,
          1755364,
          39005800,
          12453275,
          4868370,
          27686211,
          6000344,
          3921773,
          28635307,
          17473540,
          15335860,
          82505391,
          57989905,
          9912713,
          7168520,
          7633898,
          45004673,
          80006561,
          25537368,
          10297110,
          15011061,
          7731539,
          27747035,
          6503012,
          58400788,
          33715801,
          11825058,
          26326462,
          24006629,
          7003537,
          56527324,
          154201673,
          52202495,
          11052561,
          75009210,
          3078758,
          9426615,
          81251415,
          211435291,
          6003197,
          50016652,
          42003361,
          4644666,
          7650720,
          111003345,
          11397595
         ]
        }
       ],
       "layout": {
        "coloraxis": {
         "colorbar": {
          "title": {
           "text": "log_budget"
          }
         },
         "colorscale": [
          [
           0,
           "#0d0887"
          ],
          [
           0.1111111111111111,
           "#46039f"
          ],
          [
           0.2222222222222222,
           "#7201a8"
          ],
          [
           0.3333333333333333,
           "#9c179e"
          ],
          [
           0.4444444444444444,
           "#bd3786"
          ],
          [
           0.5555555555555556,
           "#d8576b"
          ],
          [
           0.6666666666666666,
           "#ed7953"
          ],
          [
           0.7777777777777778,
           "#fb9f3a"
          ],
          [
           0.8888888888888888,
           "#fdca26"
          ],
          [
           1,
           "#f0f921"
          ]
         ]
        },
        "legend": {
         "tracegroupgap": 0
        },
        "margin": {
         "t": 60
        },
        "template": {
         "data": {
          "bar": [
           {
            "error_x": {
             "color": "#2a3f5f"
            },
            "error_y": {
             "color": "#2a3f5f"
            },
            "marker": {
             "line": {
              "color": "#E5ECF6",
              "width": 0.5
             },
             "pattern": {
              "fillmode": "overlay",
              "size": 10,
              "solidity": 0.2
             }
            },
            "type": "bar"
           }
          ],
          "barpolar": [
           {
            "marker": {
             "line": {
              "color": "#E5ECF6",
              "width": 0.5
             },
             "pattern": {
              "fillmode": "overlay",
              "size": 10,
              "solidity": 0.2
             }
            },
            "type": "barpolar"
           }
          ],
          "carpet": [
           {
            "aaxis": {
             "endlinecolor": "#2a3f5f",
             "gridcolor": "white",
             "linecolor": "white",
             "minorgridcolor": "white",
             "startlinecolor": "#2a3f5f"
            },
            "baxis": {
             "endlinecolor": "#2a3f5f",
             "gridcolor": "white",
             "linecolor": "white",
             "minorgridcolor": "white",
             "startlinecolor": "#2a3f5f"
            },
            "type": "carpet"
           }
          ],
          "choropleth": [
           {
            "colorbar": {
             "outlinewidth": 0,
             "ticks": ""
            },
            "type": "choropleth"
           }
          ],
          "contour": [
           {
            "colorbar": {
             "outlinewidth": 0,
             "ticks": ""
            },
            "colorscale": [
             [
              0,
              "#0d0887"
             ],
             [
              0.1111111111111111,
              "#46039f"
             ],
             [
              0.2222222222222222,
              "#7201a8"
             ],
             [
              0.3333333333333333,
              "#9c179e"
             ],
             [
              0.4444444444444444,
              "#bd3786"
             ],
             [
              0.5555555555555556,
              "#d8576b"
             ],
             [
              0.6666666666666666,
              "#ed7953"
             ],
             [
              0.7777777777777778,
              "#fb9f3a"
             ],
             [
              0.8888888888888888,
              "#fdca26"
             ],
             [
              1,
              "#f0f921"
             ]
            ],
            "type": "contour"
           }
          ],
          "contourcarpet": [
           {
            "colorbar": {
             "outlinewidth": 0,
             "ticks": ""
            },
            "type": "contourcarpet"
           }
          ],
          "heatmap": [
           {
            "colorbar": {
             "outlinewidth": 0,
             "ticks": ""
            },
            "colorscale": [
             [
              0,
              "#0d0887"
             ],
             [
              0.1111111111111111,
              "#46039f"
             ],
             [
              0.2222222222222222,
              "#7201a8"
             ],
             [
              0.3333333333333333,
              "#9c179e"
             ],
             [
              0.4444444444444444,
              "#bd3786"
             ],
             [
              0.5555555555555556,
              "#d8576b"
             ],
             [
              0.6666666666666666,
              "#ed7953"
             ],
             [
              0.7777777777777778,
              "#fb9f3a"
             ],
             [
              0.8888888888888888,
              "#fdca26"
             ],
             [
              1,
              "#f0f921"
             ]
            ],
            "type": "heatmap"
           }
          ],
          "heatmapgl": [
           {
            "colorbar": {
             "outlinewidth": 0,
             "ticks": ""
            },
            "colorscale": [
             [
              0,
              "#0d0887"
             ],
             [
              0.1111111111111111,
              "#46039f"
             ],
             [
              0.2222222222222222,
              "#7201a8"
             ],
             [
              0.3333333333333333,
              "#9c179e"
             ],
             [
              0.4444444444444444,
              "#bd3786"
             ],
             [
              0.5555555555555556,
              "#d8576b"
             ],
             [
              0.6666666666666666,
              "#ed7953"
             ],
             [
              0.7777777777777778,
              "#fb9f3a"
             ],
             [
              0.8888888888888888,
              "#fdca26"
             ],
             [
              1,
              "#f0f921"
             ]
            ],
            "type": "heatmapgl"
           }
          ],
          "histogram": [
           {
            "marker": {
             "pattern": {
              "fillmode": "overlay",
              "size": 10,
              "solidity": 0.2
             }
            },
            "type": "histogram"
           }
          ],
          "histogram2d": [
           {
            "colorbar": {
             "outlinewidth": 0,
             "ticks": ""
            },
            "colorscale": [
             [
              0,
              "#0d0887"
             ],
             [
              0.1111111111111111,
              "#46039f"
             ],
             [
              0.2222222222222222,
              "#7201a8"
             ],
             [
              0.3333333333333333,
              "#9c179e"
             ],
             [
              0.4444444444444444,
              "#bd3786"
             ],
             [
              0.5555555555555556,
              "#d8576b"
             ],
             [
              0.6666666666666666,
              "#ed7953"
             ],
             [
              0.7777777777777778,
              "#fb9f3a"
             ],
             [
              0.8888888888888888,
              "#fdca26"
             ],
             [
              1,
              "#f0f921"
             ]
            ],
            "type": "histogram2d"
           }
          ],
          "histogram2dcontour": [
           {
            "colorbar": {
             "outlinewidth": 0,
             "ticks": ""
            },
            "colorscale": [
             [
              0,
              "#0d0887"
             ],
             [
              0.1111111111111111,
              "#46039f"
             ],
             [
              0.2222222222222222,
              "#7201a8"
             ],
             [
              0.3333333333333333,
              "#9c179e"
             ],
             [
              0.4444444444444444,
              "#bd3786"
             ],
             [
              0.5555555555555556,
              "#d8576b"
             ],
             [
              0.6666666666666666,
              "#ed7953"
             ],
             [
              0.7777777777777778,
              "#fb9f3a"
             ],
             [
              0.8888888888888888,
              "#fdca26"
             ],
             [
              1,
              "#f0f921"
             ]
            ],
            "type": "histogram2dcontour"
           }
          ],
          "mesh3d": [
           {
            "colorbar": {
             "outlinewidth": 0,
             "ticks": ""
            },
            "type": "mesh3d"
           }
          ],
          "parcoords": [
           {
            "line": {
             "colorbar": {
              "outlinewidth": 0,
              "ticks": ""
             }
            },
            "type": "parcoords"
           }
          ],
          "pie": [
           {
            "automargin": true,
            "type": "pie"
           }
          ],
          "scatter": [
           {
            "fillpattern": {
             "fillmode": "overlay",
             "size": 10,
             "solidity": 0.2
            },
            "type": "scatter"
           }
          ],
          "scatter3d": [
           {
            "line": {
             "colorbar": {
              "outlinewidth": 0,
              "ticks": ""
             }
            },
            "marker": {
             "colorbar": {
              "outlinewidth": 0,
              "ticks": ""
             }
            },
            "type": "scatter3d"
           }
          ],
          "scattercarpet": [
           {
            "marker": {
             "colorbar": {
              "outlinewidth": 0,
              "ticks": ""
             }
            },
            "type": "scattercarpet"
           }
          ],
          "scattergeo": [
           {
            "marker": {
             "colorbar": {
              "outlinewidth": 0,
              "ticks": ""
             }
            },
            "type": "scattergeo"
           }
          ],
          "scattergl": [
           {
            "marker": {
             "colorbar": {
              "outlinewidth": 0,
              "ticks": ""
             }
            },
            "type": "scattergl"
           }
          ],
          "scattermapbox": [
           {
            "marker": {
             "colorbar": {
              "outlinewidth": 0,
              "ticks": ""
             }
            },
            "type": "scattermapbox"
           }
          ],
          "scatterpolar": [
           {
            "marker": {
             "colorbar": {
              "outlinewidth": 0,
              "ticks": ""
             }
            },
            "type": "scatterpolar"
           }
          ],
          "scatterpolargl": [
           {
            "marker": {
             "colorbar": {
              "outlinewidth": 0,
              "ticks": ""
             }
            },
            "type": "scatterpolargl"
           }
          ],
          "scatterternary": [
           {
            "marker": {
             "colorbar": {
              "outlinewidth": 0,
              "ticks": ""
             }
            },
            "type": "scatterternary"
           }
          ],
          "surface": [
           {
            "colorbar": {
             "outlinewidth": 0,
             "ticks": ""
            },
            "colorscale": [
             [
              0,
              "#0d0887"
             ],
             [
              0.1111111111111111,
              "#46039f"
             ],
             [
              0.2222222222222222,
              "#7201a8"
             ],
             [
              0.3333333333333333,
              "#9c179e"
             ],
             [
              0.4444444444444444,
              "#bd3786"
             ],
             [
              0.5555555555555556,
              "#d8576b"
             ],
             [
              0.6666666666666666,
              "#ed7953"
             ],
             [
              0.7777777777777778,
              "#fb9f3a"
             ],
             [
              0.8888888888888888,
              "#fdca26"
             ],
             [
              1,
              "#f0f921"
             ]
            ],
            "type": "surface"
           }
          ],
          "table": [
           {
            "cells": {
             "fill": {
              "color": "#EBF0F8"
             },
             "line": {
              "color": "white"
             }
            },
            "header": {
             "fill": {
              "color": "#C8D4E3"
             },
             "line": {
              "color": "white"
             }
            },
            "type": "table"
           }
          ]
         },
         "layout": {
          "annotationdefaults": {
           "arrowcolor": "#2a3f5f",
           "arrowhead": 0,
           "arrowwidth": 1
          },
          "autotypenumbers": "strict",
          "coloraxis": {
           "colorbar": {
            "outlinewidth": 0,
            "ticks": ""
           }
          },
          "colorscale": {
           "diverging": [
            [
             0,
             "#8e0152"
            ],
            [
             0.1,
             "#c51b7d"
            ],
            [
             0.2,
             "#de77ae"
            ],
            [
             0.3,
             "#f1b6da"
            ],
            [
             0.4,
             "#fde0ef"
            ],
            [
             0.5,
             "#f7f7f7"
            ],
            [
             0.6,
             "#e6f5d0"
            ],
            [
             0.7,
             "#b8e186"
            ],
            [
             0.8,
             "#7fbc41"
            ],
            [
             0.9,
             "#4d9221"
            ],
            [
             1,
             "#276419"
            ]
           ],
           "sequential": [
            [
             0,
             "#0d0887"
            ],
            [
             0.1111111111111111,
             "#46039f"
            ],
            [
             0.2222222222222222,
             "#7201a8"
            ],
            [
             0.3333333333333333,
             "#9c179e"
            ],
            [
             0.4444444444444444,
             "#bd3786"
            ],
            [
             0.5555555555555556,
             "#d8576b"
            ],
            [
             0.6666666666666666,
             "#ed7953"
            ],
            [
             0.7777777777777778,
             "#fb9f3a"
            ],
            [
             0.8888888888888888,
             "#fdca26"
            ],
            [
             1,
             "#f0f921"
            ]
           ],
           "sequentialminus": [
            [
             0,
             "#0d0887"
            ],
            [
             0.1111111111111111,
             "#46039f"
            ],
            [
             0.2222222222222222,
             "#7201a8"
            ],
            [
             0.3333333333333333,
             "#9c179e"
            ],
            [
             0.4444444444444444,
             "#bd3786"
            ],
            [
             0.5555555555555556,
             "#d8576b"
            ],
            [
             0.6666666666666666,
             "#ed7953"
            ],
            [
             0.7777777777777778,
             "#fb9f3a"
            ],
            [
             0.8888888888888888,
             "#fdca26"
            ],
            [
             1,
             "#f0f921"
            ]
           ]
          },
          "colorway": [
           "#636efa",
           "#EF553B",
           "#00cc96",
           "#ab63fa",
           "#FFA15A",
           "#19d3f3",
           "#FF6692",
           "#B6E880",
           "#FF97FF",
           "#FECB52"
          ],
          "font": {
           "color": "#2a3f5f"
          },
          "geo": {
           "bgcolor": "white",
           "lakecolor": "white",
           "landcolor": "#E5ECF6",
           "showlakes": true,
           "showland": true,
           "subunitcolor": "white"
          },
          "hoverlabel": {
           "align": "left"
          },
          "hovermode": "closest",
          "mapbox": {
           "style": "light"
          },
          "paper_bgcolor": "white",
          "plot_bgcolor": "#E5ECF6",
          "polar": {
           "angularaxis": {
            "gridcolor": "white",
            "linecolor": "white",
            "ticks": ""
           },
           "bgcolor": "#E5ECF6",
           "radialaxis": {
            "gridcolor": "white",
            "linecolor": "white",
            "ticks": ""
           }
          },
          "scene": {
           "xaxis": {
            "backgroundcolor": "#E5ECF6",
            "gridcolor": "white",
            "gridwidth": 2,
            "linecolor": "white",
            "showbackground": true,
            "ticks": "",
            "zerolinecolor": "white"
           },
           "yaxis": {
            "backgroundcolor": "#E5ECF6",
            "gridcolor": "white",
            "gridwidth": 2,
            "linecolor": "white",
            "showbackground": true,
            "ticks": "",
            "zerolinecolor": "white"
           },
           "zaxis": {
            "backgroundcolor": "#E5ECF6",
            "gridcolor": "white",
            "gridwidth": 2,
            "linecolor": "white",
            "showbackground": true,
            "ticks": "",
            "zerolinecolor": "white"
           }
          },
          "shapedefaults": {
           "line": {
            "color": "#2a3f5f"
           }
          },
          "ternary": {
           "aaxis": {
            "gridcolor": "white",
            "linecolor": "white",
            "ticks": ""
           },
           "baxis": {
            "gridcolor": "white",
            "linecolor": "white",
            "ticks": ""
           },
           "bgcolor": "#E5ECF6",
           "caxis": {
            "gridcolor": "white",
            "linecolor": "white",
            "ticks": ""
           }
          },
          "title": {
           "x": 0.05
          },
          "xaxis": {
           "automargin": true,
           "gridcolor": "white",
           "linecolor": "white",
           "ticks": "",
           "title": {
            "standoff": 15
           },
           "zerolinecolor": "white",
           "zerolinewidth": 2
          },
          "yaxis": {
           "automargin": true,
           "gridcolor": "white",
           "linecolor": "white",
           "ticks": "",
           "title": {
            "standoff": 15
           },
           "zerolinecolor": "white",
           "zerolinewidth": 2
          }
         }
        },
        "title": {
         "text": "Actual vs Predicted Opening Weekend Revenue"
        },
        "xaxis": {
         "anchor": "y",
         "domain": [
          0,
          1
         ],
         "title": {
          "text": "Actual"
         }
        },
        "yaxis": {
         "anchor": "x",
         "domain": [
          0,
          1
         ],
         "title": {
          "text": "Predicted"
         }
        }
       }
      }
     },
     "metadata": {},
     "output_type": "display_data"
    }
   ],
   "source": [
    "results_df = pd.DataFrame({'title': X_test['title'], 'actual': y_test, 'predicted': pred_simple_glm, 'mpaa_rating': X_test['mpaa_rating'], 'creative_type': X_test['creative_type'], 'budget': X_test['budget'], 'wikipedia_pre_release_cumulative_views': X_test['wikipedia_pre_release_cumulative_views'], 'metacritic_before_wide_friday_calculated': X_test['metacritic_before_wide_friday_calculated'], 'genre': X_test['genre'], 'log_top_5_trailer_views': X_test['log_top_5_trailer_views'], 'sqrt_wikipedia_pre_release_cumulative_views': X_test['sqrt_wikipedia_pre_release_cumulative_views'], 'top_5_trailer_views': X_test['top_5_trailer_views'], 'log_budget': X_test['log_budget'], 'log_wikipedia_pre_release_cumulative_views': X_test['log_wikipedia_pre_release_cumulative_views'], 'log_top_5_trailer_views': X_test['log_top_5_trailer_views'], 'not_friday_opener': X_test['not_friday_opener'], 'production_method': X_test['production_method'], 'normalized_budget': X_test['normalized_budget'], 'normalized_wikipedia_pre_release_cumulative_views': X_test['normalized_wikipedia_pre_release_cumulative_views'], 'normalized_top_5_trailer_views': X_test['normalized_top_5_trailer_views'], 'normalized_metacritic_before_wide_friday_calculated': X_test['normalized_metacritic_before_wide_friday_calculated']})\n",
    "\n",
    "# plot actual vs predicted\n",
    "fig = px.scatter(results_df, x='actual', y='predicted', hover_name='title', color='log_budget')\n",
    "fig.add_trace(go.Scatter(x=results_df['actual'], y=results_df['actual'], mode='lines', name='y=x'))\n",
    "fig.update_layout(title='Actual vs Predicted Opening Weekend Revenue', xaxis_title='Actual', yaxis_title='Predicted')\n"
   ]
  },
  {
   "cell_type": "code",
   "execution_count": null,
   "metadata": {},
   "outputs": [
    {
     "data": {
      "application/vnd.plotly.v1+json": {
       "config": {
        "plotlyServerURL": "https://plot.ly"
       },
       "data": [
        {
         "hovertemplate": "<b>%{hovertext}</b><br><br>creative_type=Science Fiction<br>predicted=%{x}<br>residual=%{y}<extra></extra>",
         "hovertext": [
          "M3GAN",
          "65",
          "Transformers: Rise of the Beasts",
          "Meg 2: The Trench",
          "The Creator",
          "The Hunger Games: The Ballad of Songbirds & Snakes",
          "Godzilla Minus One (ゴジラ最新作)",
          "Dune: Part Two",
          "Ghostbusters: Frozen Empire",
          "Godzilla x Kong: The New Empire",
          "Civil War",
          "Kingdom of the Planet of the Apes",
          "Furiosa: A Mad Max Saga",
          "The Watchers",
          "A Quiet Place: Day One",
          "Alien: Romulus",
          "Beetlejuice Beetlejuice"
         ],
         "legendgroup": "Science Fiction",
         "marker": {
          "color": "#636efa",
          "symbol": "circle"
         },
         "mode": "markers",
         "name": "Science Fiction",
         "orientation": "v",
         "showlegend": true,
         "type": "scatter",
         "x": [
          36886678.33376073,
          16644148.937303327,
          74281150.04052876,
          44173007.002582535,
          23588359.240093805,
          48561066.72386661,
          28606613.994192727,
          106233240.85222577,
          31345652.78832789,
          71829144.0202537,
          38505313.27772283,
          72922781.91772223,
          67636651.94764854,
          12774589.967885293,
          38311935.79672672,
          50561521.90442988,
          51345048.219335064
         ],
         "xaxis": "x",
         "y": [
          -6456818.333760731,
          -4315787.937303327,
          -13235686.04052876,
          -14170272.002582535,
          -9508847.240093805,
          -3953923.7238666117,
          -17186638.994192727,
          -23727849.852225766,
          13659020.211672109,
          8177416.979746297,
          -12967945.277722828,
          -14521993.917722225,
          -41310189.94764854,
          -5771052.967885293,
          13890559.203273281,
          -8558160.904429883,
          59658296.780664936
         ],
         "yaxis": "y"
        },
        {
         "hovertemplate": "<b>%{hovertext}</b><br><br>creative_type=Contemporary Fiction<br>predicted=%{x}<br>residual=%{y}<extra></extra>",
         "hovertext": [
          "80 for Brady",
          "Knock at the Cabin",
          "Creed III",
          "Operation Fortune: Ruse de guerre",
          "Scream VI",
          "John Wick: Chapter 4",
          "Renfield",
          "Beau is Afraid",
          "Fast X",
          "The Machine",
          "No Hard Feelings",
          "Insidious: The Red Door",
          "Barbie",
          "Talk To Me",
          "Haunted Mansion",
          "Strays",
          "Expend4bles",
          "Saw X",
          "The Exorcist: Believer",
          "Five Nights at Freddy’s",
          "Thanksgiving",
          "American Fiction",
          "Anyone But You",
          "Mean Girls",
          "Argylle",
          "Imaginary",
          "Abigail",
          "Challengers",
          "The Fall Guy",
          "Tarot",
          "The Strangers: Chapter 1",
          "Bad Boys: Ride or Die",
          "Twisters",
          "It Ends With Us",
          "Speak No Evil"
         ],
         "legendgroup": "Contemporary Fiction",
         "marker": {
          "color": "#EF553B",
          "symbol": "circle"
         },
         "mode": "markers",
         "name": "Contemporary Fiction",
         "orientation": "v",
         "showlegend": true,
         "type": "scatter",
         "x": [
          6809918.470057747,
          22129331.092248473,
          40788117.290025376,
          15827413.580687549,
          34928853.23617248,
          95018206.23186985,
          31099603.838598497,
          11675942.613770083,
          115480737.30047463,
          4954417.506019222,
          11831177.948915694,
          20846825.46832585,
          134011413.55372724,
          10534359.276383579,
          30167811.313068584,
          13774039.550470218,
          30850076.86273597,
          26051991.638542227,
          27163080.120568085,
          37677081.4943354,
          22993243.726273276,
          7110943.74912386,
          8321628.94353047,
          13388794.576500192,
          44007502.378863744,
          9960671.55977007,
          10240592.665389474,
          17637286.900337122,
          38020342.838380635,
          5863493.113259295,
          13498609.566114053,
          27836091.928064726,
          61846803.704219416,
          13852874.756819425,
          16080583.200519314
         ],
         "xaxis": "x",
         "y": [
          5891721.529942253,
          -8002161.092248473,
          17581889.709974624,
          -12687199.580687549,
          9518416.763827518,
          -21200256.231869847,
          -23073128.838598497,
          -9013985.613770083,
          -48463327.30047463,
          46127.49398077838,
          3171592.051084306,
          12166210.53167415,
          28010630.44627276,
          -102639.27638357878,
          -6085336.313068584,
          -5526229.550470218,
          -22811055.86273597,
          -7742690.638542227,
          -665480.1205680855,
          42324638.5056646,
          -12686971.726273276,
          -5355579.74912386,
          -2321284.94353047,
          15246512.423499808,
          -26533962.378863744,
          -47958.55977007002,
          56517.33461052552,
          -2626225.9003371224,
          -10273307.838380635,
          639518.886740705,
          -1673551.5661140531,
          28691232.071935274,
          19404611.295780584,
          36163777.24318057,
          -4682988.200519314
         ],
         "yaxis": "y"
        },
        {
         "hovertemplate": "<b>%{hovertext}</b><br><br>creative_type=Super Hero<br>predicted=%{x}<br>residual=%{y}<extra></extra>",
         "hovertext": [
          "Ant-Man and the Wasp: Quantumania",
          "Shazam! Fury of the Gods",
          "Guardians of the Galaxy Vol 3",
          "Spider-Man: Across the Spider-Verse",
          "The Flash",
          "Teenage Mutant Ninja Turtles: Mutant Mayhem",
          "Blue Beetle",
          "The Marvels",
          "Aquaman and the Lost Kingdom",
          "Madame Web",
          "Deadpool & Wolverine",
          "The Crow"
         ],
         "legendgroup": "Super Hero",
         "marker": {
          "color": "#00cc96",
          "symbol": "circle"
         },
         "mode": "markers",
         "name": "Super Hero",
         "orientation": "v",
         "showlegend": true,
         "type": "scatter",
         "x": [
          85838751.13870402,
          47936838.1197478,
          94964742.38647947,
          94972508.89643723,
          101204391.82588424,
          33056572.88242437,
          54111455.002571285,
          86696987.63648891,
          58658225.41607991,
          35442434.64214836,
          106372883.82130215,
          11967197.839169424
         ],
         "xaxis": "x",
         "y": [
          20270898.861295983,
          -17825680.119747803,
          23449278.613520533,
          25691080.103562772,
          -46160712.82588424,
          -5049028.882424369,
          -29081230.002571285,
          -40586128.636488914,
          -30972014.41607991,
          -20106574.64214836,
          105062407.17869785,
          -7322531.839169424
         ],
         "yaxis": "y"
        },
        {
         "hovertemplate": "<b>%{hovertext}</b><br><br>creative_type=Dramatization<br>predicted=%{x}<br>residual=%{y}<extra></extra>",
         "hovertext": [
          "Jesus Revolution",
          "His Only Son",
          "The Pope’s Exorcist",
          "Big George Foreman: The Miraculous Story of the Once and Future Heavyweight Champion of the World",
          "Sound of Freedom",
          "Oppenheimer",
          "Dumb Money",
          "Priscilla",
          "Journey to Bethlehem",
          "Next Goal Wins",
          "Napoleon",
          "The Iron Claw",
          "Ferrari",
          "Cabrini",
          "Arthur the King",
          "Unsung Hero",
          "Sound of Hope: The Story of Possum Trot",
          "Reagan"
         ],
         "legendgroup": "Dramatization",
         "marker": {
          "color": "#ab63fa",
          "symbol": "circle"
         },
         "mode": "markers",
         "name": "Dramatization",
         "orientation": "v",
         "showlegend": true,
         "type": "scatter",
         "x": [
          10570412.3295048,
          113275.08221189433,
          11185141.972894631,
          8791712.592227839,
          8405731.741900805,
          69384322.2476245,
          10194819.475542702,
          7357506.590135971,
          2629831.2092270562,
          4498184.205971405,
          51597374.66310249,
          11452503.193020042,
          19814302.410574213,
          9658616.508836845,
          7025595.203816563,
          1871502.2171190577,
          2870390.7789388755,
          5450204.482031778
         ],
         "xaxis": "x",
         "y": [
          5311654.670495201,
          5387794.917788106,
          -2178773.9728946313,
          -5866348.592227839,
          11275147.258099195,
          13071097.752375498,
          -6869315.475542702,
          -2317503.590135971,
          -229385.20922705624,
          -1997889.205971405,
          -30958487.663102493,
          -6584133.193020042,
          -15892529.410574213,
          -2490096.508836845,
          608302.7961834371,
          5860036.782880942,
          208367.22106112447,
          2200515.5179682216
         ],
         "yaxis": "y"
        },
        {
         "hovertemplate": "<b>%{hovertext}</b><br><br>creative_type=Fantasy<br>predicted=%{x}<br>residual=%{y}<extra></extra>",
         "hovertext": [
          "Dungeons & Dragons: Honor Among Thieves"
         ],
         "legendgroup": "Fantasy",
         "marker": {
          "color": "#FFA15A",
          "symbol": "circle"
         },
         "mode": "markers",
         "name": "Fantasy",
         "orientation": "v",
         "showlegend": true,
         "type": "scatter",
         "x": [
          32222789.09831846
         ],
         "xaxis": "x",
         "y": [
          4982994.901681539
         ],
         "yaxis": "y"
        },
        {
         "hovertemplate": "<b>%{hovertext}</b><br><br>creative_type=Kids Fiction<br>predicted=%{x}<br>residual=%{y}<extra></extra>",
         "hovertext": [
          "The Super Mario Bros. Movie",
          "The Little Mermaid",
          "Elemental",
          "Ruby Gillman, Teenage Kraken",
          "PAW Patrol: The Mighty Movie",
          "Trolls Band Together",
          "Wish",
          "Wonka",
          "Migration",
          "Kung Fu Panda 4",
          "IF",
          "The Garfield Movie",
          "Inside Out 2",
          "Despicable Me 4",
          "Harold and the Purple Crayon"
         ],
         "legendgroup": "Kids Fiction",
         "marker": {
          "color": "#19d3f3",
          "symbol": "circle"
         },
         "mode": "markers",
         "name": "Kids Fiction",
         "orientation": "v",
         "showlegend": true,
         "type": "scatter",
         "x": [
          53361992.29993577,
          85265398.41231051,
          48911236.75616011,
          18582054.15659691,
          17388024.86817562,
          34197411.04030291,
          41413220.516099334,
          68203856.14728025,
          23948342.182418495,
          40965205.7359974,
          27973513.549213983,
          24751602.874773238,
          80521944.35357007,
          44913781.0666793,
          12359145.566895047
         ],
         "xaxis": "x",
         "y": [
          92999872.70006423,
          10312641.58768949,
          -19308807.75616011,
          -13081064.15659691,
          5376329.131824382,
          -4194886.04030291,
          -21714992.516099334,
          -29198056.147280246,
          -11495067.182418495,
          17024699.2640026,
          5742287.450786017,
          -744973.8747732379,
          73679728.64642993,
          30095428.9333207,
          -6355948.566895047
         ],
         "yaxis": "y"
        },
        {
         "hovertemplate": "<b>%{hovertext}</b><br><br>creative_type=Historical Fiction<br>predicted=%{x}<br>residual=%{y}<extra></extra>",
         "hovertext": [
          "Are You There God? It’s Me, Margaret",
          "Indiana Jones and the Dial of Destiny",
          "The Last Voyage of the Demeter",
          "Killers of the Flower Moon",
          "Horizon: An American Saga Chapter 1",
          "Fly Me to the Moon"
         ],
         "legendgroup": "Historical Fiction",
         "marker": {
          "color": "#FF6692",
          "symbol": "circle"
         },
         "mode": "markers",
         "name": "Historical Fiction",
         "orientation": "v",
         "showlegend": true,
         "type": "scatter",
         "x": [
          10751465.33035909,
          113276995.73227122,
          15696001.323551599,
          51156896.31587283,
          11746781.645962667,
          19081939.584990468
         ],
         "xaxis": "x",
         "y": [
          -4012428.33035909,
          -52908894.732271224,
          -9191051.323551599,
          -27903241.315872833,
          -694220.6459626667,
          -9655324.584990468
         ],
         "yaxis": "y"
        },
        {
         "mode": "lines",
         "name": "y=0",
         "type": "scatter",
         "x": [
          36886678.33376073,
          6809918.470057747,
          22129331.092248473,
          85838751.13870402,
          10570412.3295048,
          40788117.290025376,
          15827413.580687549,
          34928853.23617248,
          16644148.937303327,
          47936838.1197478,
          95018206.23186985,
          32222789.09831846,
          113275.08221189433,
          53361992.29993577,
          31099603.838598497,
          11185141.972894631,
          11675942.613770083,
          8791712.592227839,
          10751465.33035909,
          94964742.38647947,
          115480737.30047463,
          85265398.41231051,
          4954417.506019222,
          94972508.89643723,
          74281150.04052876,
          101204391.82588424,
          48911236.75616011,
          11831177.948915694,
          18582054.15659691,
          113276995.73227122,
          8405731.741900805,
          20846825.46832585,
          69384322.2476245,
          134011413.55372724,
          10534359.276383579,
          30167811.313068584,
          33056572.88242437,
          44173007.002582535,
          15696001.323551599,
          54111455.002571285,
          13774039.550470218,
          10194819.475542702,
          30850076.86273597,
          23588359.240093805,
          26051991.638542227,
          17388024.86817562,
          27163080.120568085,
          51156896.31587283,
          7357506.590135971,
          37677081.4943354,
          2629831.2092270562,
          86696987.63648891,
          4498184.205971405,
          48561066.72386661,
          22993243.726273276,
          34197411.04030291,
          41413220.516099334,
          51597374.66310249,
          28606613.994192727,
          7110943.74912386,
          68203856.14728025,
          23948342.182418495,
          11452503.193020042,
          58658225.41607991,
          8321628.94353047,
          19814302.410574213,
          13388794.576500192,
          44007502.378863744,
          35442434.64214836,
          106233240.85222577,
          40965205.7359974,
          9960671.55977007,
          9658616.508836845,
          7025595.203816563,
          31345652.78832789,
          71829144.0202537,
          38505313.27772283,
          10240592.665389474,
          17637286.900337122,
          1871502.2171190577,
          38020342.838380635,
          5863493.113259295,
          72922781.91772223,
          27973513.549213983,
          13498609.566114053,
          67636651.94764854,
          24751602.874773238,
          12774589.967885293,
          27836091.928064726,
          80521944.35357007,
          38311935.79672672,
          11746781.645962667,
          44913781.0666793,
          2870390.7789388755,
          19081939.584990468,
          61846803.704219416,
          106372883.82130215,
          12359145.566895047,
          13852874.756819425,
          50561521.90442988,
          11967197.839169424,
          5450204.482031778,
          51345048.219335064,
          16080583.200519314
         ],
         "y": [
          0,
          0,
          0,
          0,
          0,
          0,
          0,
          0,
          0,
          0,
          0,
          0,
          0,
          0,
          0,
          0,
          0,
          0,
          0,
          0,
          0,
          0,
          0,
          0,
          0,
          0,
          0,
          0,
          0,
          0,
          0,
          0,
          0,
          0,
          0,
          0,
          0,
          0,
          0,
          0,
          0,
          0,
          0,
          0,
          0,
          0,
          0,
          0,
          0,
          0,
          0,
          0,
          0,
          0,
          0,
          0,
          0,
          0,
          0,
          0,
          0,
          0,
          0,
          0,
          0,
          0,
          0,
          0,
          0,
          0,
          0,
          0,
          0,
          0,
          0,
          0,
          0,
          0,
          0,
          0,
          0,
          0,
          0,
          0,
          0,
          0,
          0,
          0,
          0,
          0,
          0,
          0,
          0,
          0,
          0,
          0,
          0,
          0,
          0,
          0,
          0,
          0,
          0,
          0
         ]
        }
       ],
       "layout": {
        "legend": {
         "title": {
          "text": "creative_type"
         },
         "tracegroupgap": 0
        },
        "margin": {
         "t": 60
        },
        "template": {
         "data": {
          "bar": [
           {
            "error_x": {
             "color": "#2a3f5f"
            },
            "error_y": {
             "color": "#2a3f5f"
            },
            "marker": {
             "line": {
              "color": "#E5ECF6",
              "width": 0.5
             },
             "pattern": {
              "fillmode": "overlay",
              "size": 10,
              "solidity": 0.2
             }
            },
            "type": "bar"
           }
          ],
          "barpolar": [
           {
            "marker": {
             "line": {
              "color": "#E5ECF6",
              "width": 0.5
             },
             "pattern": {
              "fillmode": "overlay",
              "size": 10,
              "solidity": 0.2
             }
            },
            "type": "barpolar"
           }
          ],
          "carpet": [
           {
            "aaxis": {
             "endlinecolor": "#2a3f5f",
             "gridcolor": "white",
             "linecolor": "white",
             "minorgridcolor": "white",
             "startlinecolor": "#2a3f5f"
            },
            "baxis": {
             "endlinecolor": "#2a3f5f",
             "gridcolor": "white",
             "linecolor": "white",
             "minorgridcolor": "white",
             "startlinecolor": "#2a3f5f"
            },
            "type": "carpet"
           }
          ],
          "choropleth": [
           {
            "colorbar": {
             "outlinewidth": 0,
             "ticks": ""
            },
            "type": "choropleth"
           }
          ],
          "contour": [
           {
            "colorbar": {
             "outlinewidth": 0,
             "ticks": ""
            },
            "colorscale": [
             [
              0,
              "#0d0887"
             ],
             [
              0.1111111111111111,
              "#46039f"
             ],
             [
              0.2222222222222222,
              "#7201a8"
             ],
             [
              0.3333333333333333,
              "#9c179e"
             ],
             [
              0.4444444444444444,
              "#bd3786"
             ],
             [
              0.5555555555555556,
              "#d8576b"
             ],
             [
              0.6666666666666666,
              "#ed7953"
             ],
             [
              0.7777777777777778,
              "#fb9f3a"
             ],
             [
              0.8888888888888888,
              "#fdca26"
             ],
             [
              1,
              "#f0f921"
             ]
            ],
            "type": "contour"
           }
          ],
          "contourcarpet": [
           {
            "colorbar": {
             "outlinewidth": 0,
             "ticks": ""
            },
            "type": "contourcarpet"
           }
          ],
          "heatmap": [
           {
            "colorbar": {
             "outlinewidth": 0,
             "ticks": ""
            },
            "colorscale": [
             [
              0,
              "#0d0887"
             ],
             [
              0.1111111111111111,
              "#46039f"
             ],
             [
              0.2222222222222222,
              "#7201a8"
             ],
             [
              0.3333333333333333,
              "#9c179e"
             ],
             [
              0.4444444444444444,
              "#bd3786"
             ],
             [
              0.5555555555555556,
              "#d8576b"
             ],
             [
              0.6666666666666666,
              "#ed7953"
             ],
             [
              0.7777777777777778,
              "#fb9f3a"
             ],
             [
              0.8888888888888888,
              "#fdca26"
             ],
             [
              1,
              "#f0f921"
             ]
            ],
            "type": "heatmap"
           }
          ],
          "heatmapgl": [
           {
            "colorbar": {
             "outlinewidth": 0,
             "ticks": ""
            },
            "colorscale": [
             [
              0,
              "#0d0887"
             ],
             [
              0.1111111111111111,
              "#46039f"
             ],
             [
              0.2222222222222222,
              "#7201a8"
             ],
             [
              0.3333333333333333,
              "#9c179e"
             ],
             [
              0.4444444444444444,
              "#bd3786"
             ],
             [
              0.5555555555555556,
              "#d8576b"
             ],
             [
              0.6666666666666666,
              "#ed7953"
             ],
             [
              0.7777777777777778,
              "#fb9f3a"
             ],
             [
              0.8888888888888888,
              "#fdca26"
             ],
             [
              1,
              "#f0f921"
             ]
            ],
            "type": "heatmapgl"
           }
          ],
          "histogram": [
           {
            "marker": {
             "pattern": {
              "fillmode": "overlay",
              "size": 10,
              "solidity": 0.2
             }
            },
            "type": "histogram"
           }
          ],
          "histogram2d": [
           {
            "colorbar": {
             "outlinewidth": 0,
             "ticks": ""
            },
            "colorscale": [
             [
              0,
              "#0d0887"
             ],
             [
              0.1111111111111111,
              "#46039f"
             ],
             [
              0.2222222222222222,
              "#7201a8"
             ],
             [
              0.3333333333333333,
              "#9c179e"
             ],
             [
              0.4444444444444444,
              "#bd3786"
             ],
             [
              0.5555555555555556,
              "#d8576b"
             ],
             [
              0.6666666666666666,
              "#ed7953"
             ],
             [
              0.7777777777777778,
              "#fb9f3a"
             ],
             [
              0.8888888888888888,
              "#fdca26"
             ],
             [
              1,
              "#f0f921"
             ]
            ],
            "type": "histogram2d"
           }
          ],
          "histogram2dcontour": [
           {
            "colorbar": {
             "outlinewidth": 0,
             "ticks": ""
            },
            "colorscale": [
             [
              0,
              "#0d0887"
             ],
             [
              0.1111111111111111,
              "#46039f"
             ],
             [
              0.2222222222222222,
              "#7201a8"
             ],
             [
              0.3333333333333333,
              "#9c179e"
             ],
             [
              0.4444444444444444,
              "#bd3786"
             ],
             [
              0.5555555555555556,
              "#d8576b"
             ],
             [
              0.6666666666666666,
              "#ed7953"
             ],
             [
              0.7777777777777778,
              "#fb9f3a"
             ],
             [
              0.8888888888888888,
              "#fdca26"
             ],
             [
              1,
              "#f0f921"
             ]
            ],
            "type": "histogram2dcontour"
           }
          ],
          "mesh3d": [
           {
            "colorbar": {
             "outlinewidth": 0,
             "ticks": ""
            },
            "type": "mesh3d"
           }
          ],
          "parcoords": [
           {
            "line": {
             "colorbar": {
              "outlinewidth": 0,
              "ticks": ""
             }
            },
            "type": "parcoords"
           }
          ],
          "pie": [
           {
            "automargin": true,
            "type": "pie"
           }
          ],
          "scatter": [
           {
            "fillpattern": {
             "fillmode": "overlay",
             "size": 10,
             "solidity": 0.2
            },
            "type": "scatter"
           }
          ],
          "scatter3d": [
           {
            "line": {
             "colorbar": {
              "outlinewidth": 0,
              "ticks": ""
             }
            },
            "marker": {
             "colorbar": {
              "outlinewidth": 0,
              "ticks": ""
             }
            },
            "type": "scatter3d"
           }
          ],
          "scattercarpet": [
           {
            "marker": {
             "colorbar": {
              "outlinewidth": 0,
              "ticks": ""
             }
            },
            "type": "scattercarpet"
           }
          ],
          "scattergeo": [
           {
            "marker": {
             "colorbar": {
              "outlinewidth": 0,
              "ticks": ""
             }
            },
            "type": "scattergeo"
           }
          ],
          "scattergl": [
           {
            "marker": {
             "colorbar": {
              "outlinewidth": 0,
              "ticks": ""
             }
            },
            "type": "scattergl"
           }
          ],
          "scattermapbox": [
           {
            "marker": {
             "colorbar": {
              "outlinewidth": 0,
              "ticks": ""
             }
            },
            "type": "scattermapbox"
           }
          ],
          "scatterpolar": [
           {
            "marker": {
             "colorbar": {
              "outlinewidth": 0,
              "ticks": ""
             }
            },
            "type": "scatterpolar"
           }
          ],
          "scatterpolargl": [
           {
            "marker": {
             "colorbar": {
              "outlinewidth": 0,
              "ticks": ""
             }
            },
            "type": "scatterpolargl"
           }
          ],
          "scatterternary": [
           {
            "marker": {
             "colorbar": {
              "outlinewidth": 0,
              "ticks": ""
             }
            },
            "type": "scatterternary"
           }
          ],
          "surface": [
           {
            "colorbar": {
             "outlinewidth": 0,
             "ticks": ""
            },
            "colorscale": [
             [
              0,
              "#0d0887"
             ],
             [
              0.1111111111111111,
              "#46039f"
             ],
             [
              0.2222222222222222,
              "#7201a8"
             ],
             [
              0.3333333333333333,
              "#9c179e"
             ],
             [
              0.4444444444444444,
              "#bd3786"
             ],
             [
              0.5555555555555556,
              "#d8576b"
             ],
             [
              0.6666666666666666,
              "#ed7953"
             ],
             [
              0.7777777777777778,
              "#fb9f3a"
             ],
             [
              0.8888888888888888,
              "#fdca26"
             ],
             [
              1,
              "#f0f921"
             ]
            ],
            "type": "surface"
           }
          ],
          "table": [
           {
            "cells": {
             "fill": {
              "color": "#EBF0F8"
             },
             "line": {
              "color": "white"
             }
            },
            "header": {
             "fill": {
              "color": "#C8D4E3"
             },
             "line": {
              "color": "white"
             }
            },
            "type": "table"
           }
          ]
         },
         "layout": {
          "annotationdefaults": {
           "arrowcolor": "#2a3f5f",
           "arrowhead": 0,
           "arrowwidth": 1
          },
          "autotypenumbers": "strict",
          "coloraxis": {
           "colorbar": {
            "outlinewidth": 0,
            "ticks": ""
           }
          },
          "colorscale": {
           "diverging": [
            [
             0,
             "#8e0152"
            ],
            [
             0.1,
             "#c51b7d"
            ],
            [
             0.2,
             "#de77ae"
            ],
            [
             0.3,
             "#f1b6da"
            ],
            [
             0.4,
             "#fde0ef"
            ],
            [
             0.5,
             "#f7f7f7"
            ],
            [
             0.6,
             "#e6f5d0"
            ],
            [
             0.7,
             "#b8e186"
            ],
            [
             0.8,
             "#7fbc41"
            ],
            [
             0.9,
             "#4d9221"
            ],
            [
             1,
             "#276419"
            ]
           ],
           "sequential": [
            [
             0,
             "#0d0887"
            ],
            [
             0.1111111111111111,
             "#46039f"
            ],
            [
             0.2222222222222222,
             "#7201a8"
            ],
            [
             0.3333333333333333,
             "#9c179e"
            ],
            [
             0.4444444444444444,
             "#bd3786"
            ],
            [
             0.5555555555555556,
             "#d8576b"
            ],
            [
             0.6666666666666666,
             "#ed7953"
            ],
            [
             0.7777777777777778,
             "#fb9f3a"
            ],
            [
             0.8888888888888888,
             "#fdca26"
            ],
            [
             1,
             "#f0f921"
            ]
           ],
           "sequentialminus": [
            [
             0,
             "#0d0887"
            ],
            [
             0.1111111111111111,
             "#46039f"
            ],
            [
             0.2222222222222222,
             "#7201a8"
            ],
            [
             0.3333333333333333,
             "#9c179e"
            ],
            [
             0.4444444444444444,
             "#bd3786"
            ],
            [
             0.5555555555555556,
             "#d8576b"
            ],
            [
             0.6666666666666666,
             "#ed7953"
            ],
            [
             0.7777777777777778,
             "#fb9f3a"
            ],
            [
             0.8888888888888888,
             "#fdca26"
            ],
            [
             1,
             "#f0f921"
            ]
           ]
          },
          "colorway": [
           "#636efa",
           "#EF553B",
           "#00cc96",
           "#ab63fa",
           "#FFA15A",
           "#19d3f3",
           "#FF6692",
           "#B6E880",
           "#FF97FF",
           "#FECB52"
          ],
          "font": {
           "color": "#2a3f5f"
          },
          "geo": {
           "bgcolor": "white",
           "lakecolor": "white",
           "landcolor": "#E5ECF6",
           "showlakes": true,
           "showland": true,
           "subunitcolor": "white"
          },
          "hoverlabel": {
           "align": "left"
          },
          "hovermode": "closest",
          "mapbox": {
           "style": "light"
          },
          "paper_bgcolor": "white",
          "plot_bgcolor": "#E5ECF6",
          "polar": {
           "angularaxis": {
            "gridcolor": "white",
            "linecolor": "white",
            "ticks": ""
           },
           "bgcolor": "#E5ECF6",
           "radialaxis": {
            "gridcolor": "white",
            "linecolor": "white",
            "ticks": ""
           }
          },
          "scene": {
           "xaxis": {
            "backgroundcolor": "#E5ECF6",
            "gridcolor": "white",
            "gridwidth": 2,
            "linecolor": "white",
            "showbackground": true,
            "ticks": "",
            "zerolinecolor": "white"
           },
           "yaxis": {
            "backgroundcolor": "#E5ECF6",
            "gridcolor": "white",
            "gridwidth": 2,
            "linecolor": "white",
            "showbackground": true,
            "ticks": "",
            "zerolinecolor": "white"
           },
           "zaxis": {
            "backgroundcolor": "#E5ECF6",
            "gridcolor": "white",
            "gridwidth": 2,
            "linecolor": "white",
            "showbackground": true,
            "ticks": "",
            "zerolinecolor": "white"
           }
          },
          "shapedefaults": {
           "line": {
            "color": "#2a3f5f"
           }
          },
          "ternary": {
           "aaxis": {
            "gridcolor": "white",
            "linecolor": "white",
            "ticks": ""
           },
           "baxis": {
            "gridcolor": "white",
            "linecolor": "white",
            "ticks": ""
           },
           "bgcolor": "#E5ECF6",
           "caxis": {
            "gridcolor": "white",
            "linecolor": "white",
            "ticks": ""
           }
          },
          "title": {
           "x": 0.05
          },
          "xaxis": {
           "automargin": true,
           "gridcolor": "white",
           "linecolor": "white",
           "ticks": "",
           "title": {
            "standoff": 15
           },
           "zerolinecolor": "white",
           "zerolinewidth": 2
          },
          "yaxis": {
           "automargin": true,
           "gridcolor": "white",
           "linecolor": "white",
           "ticks": "",
           "title": {
            "standoff": 15
           },
           "zerolinecolor": "white",
           "zerolinewidth": 2
          }
         }
        },
        "title": {
         "text": "Residuals vs Predicted Opening Weekend Revenue"
        },
        "xaxis": {
         "anchor": "y",
         "domain": [
          0,
          1
         ],
         "title": {
          "text": "Predicted"
         }
        },
        "yaxis": {
         "anchor": "x",
         "domain": [
          0,
          1
         ],
         "title": {
          "text": "Residual"
         }
        }
       }
      }
     },
     "metadata": {},
     "output_type": "display_data"
    }
   ],
   "source": [
    "# plot residuals\n",
    "results_df[\"residual\"] = results_df[\"actual\"] - results_df[\"predicted\"]\n",
    "\n",
    "fig2 = px.scatter(results_df, x=\"predicted\", y=\"residual\", hover_name=\"title\", color=\"creative_type\")\n",
    "fig2.add_trace(go.Scatter(x=results_df[\"predicted\"], y=[0] * len(results_df), mode=\"lines\", name=\"y=0\"))\n",
    "fig2.update_layout(title=\"Residuals vs Predicted Opening Weekend Revenue\", xaxis_title=\"Predicted\", yaxis_title=\"Residual\")"
   ]
  },
  {
   "cell_type": "code",
   "execution_count": null,
   "metadata": {},
   "outputs": [
    {
     "data": {
      "application/vnd.plotly.v1+json": {
       "config": {
        "plotlyServerURL": "https://plot.ly"
       },
       "data": [
        {
         "hovertemplate": "<b>%{hovertext}</b><br><br>Actual Opening Weekend Revenue=%{x}<br>Residual Percent Difference=%{y}<br>log_actual=%{marker.color}<extra></extra>",
         "hovertext": [
          "M3GAN",
          "80 for Brady",
          "Knock at the Cabin",
          "Ant-Man and the Wasp: Quantumania",
          "Jesus Revolution",
          "Creed III",
          "Operation Fortune: Ruse de guerre",
          "Scream VI",
          "65",
          "Shazam! Fury of the Gods",
          "John Wick: Chapter 4",
          "Dungeons & Dragons: Honor Among Thieves",
          "His Only Son",
          "The Super Mario Bros. Movie",
          "Renfield",
          "The Pope’s Exorcist",
          "Beau is Afraid",
          "Big George Foreman: The Miraculous Story of the Once and Future Heavyweight Champion of the World",
          "Are You There God? It’s Me, Margaret",
          "Guardians of the Galaxy Vol 3",
          "Fast X",
          "The Little Mermaid",
          "The Machine",
          "Spider-Man: Across the Spider-Verse",
          "Transformers: Rise of the Beasts",
          "The Flash",
          "Elemental",
          "No Hard Feelings",
          "Ruby Gillman, Teenage Kraken",
          "Indiana Jones and the Dial of Destiny",
          "Sound of Freedom",
          "Insidious: The Red Door",
          "Oppenheimer",
          "Barbie",
          "Talk To Me",
          "Haunted Mansion",
          "Teenage Mutant Ninja Turtles: Mutant Mayhem",
          "Meg 2: The Trench",
          "The Last Voyage of the Demeter",
          "Blue Beetle",
          "Strays",
          "Dumb Money",
          "Expend4bles",
          "The Creator",
          "Saw X",
          "PAW Patrol: The Mighty Movie",
          "The Exorcist: Believer",
          "Killers of the Flower Moon",
          "Priscilla",
          "Five Nights at Freddy’s",
          "Journey to Bethlehem",
          "The Marvels",
          "Next Goal Wins",
          "The Hunger Games: The Ballad of Songbirds & Snakes",
          "Thanksgiving",
          "Trolls Band Together",
          "Wish",
          "Napoleon",
          "Godzilla Minus One (ゴジラ最新作)",
          "American Fiction",
          "Wonka",
          "Migration",
          "The Iron Claw",
          "Aquaman and the Lost Kingdom",
          "Anyone But You",
          "Ferrari",
          "Mean Girls",
          "Argylle",
          "Madame Web",
          "Dune: Part Two",
          "Kung Fu Panda 4",
          "Imaginary",
          "Cabrini",
          "Arthur the King",
          "Ghostbusters: Frozen Empire",
          "Godzilla x Kong: The New Empire",
          "Civil War",
          "Abigail",
          "Challengers",
          "Unsung Hero",
          "The Fall Guy",
          "Tarot",
          "Kingdom of the Planet of the Apes",
          "IF",
          "The Strangers: Chapter 1",
          "Furiosa: A Mad Max Saga",
          "The Garfield Movie",
          "The Watchers",
          "Bad Boys: Ride or Die",
          "Inside Out 2",
          "A Quiet Place: Day One",
          "Horizon: An American Saga Chapter 1",
          "Despicable Me 4",
          "Sound of Hope: The Story of Possum Trot",
          "Fly Me to the Moon",
          "Twisters",
          "Deadpool & Wolverine",
          "Harold and the Purple Crayon",
          "It Ends With Us",
          "Alien: Romulus",
          "The Crow",
          "Reagan",
          "Beetlejuice Beetlejuice",
          "Speak No Evil"
         ],
         "legendgroup": "",
         "marker": {
          "color": [
           17.2309349211396,
           16.35724167695003,
           16.46361045151574,
           18.479983551380474,
           16.580701169040662,
           17.882312737104584,
           14.959801508428377,
           17.609814100715234,
           16.32741293848651,
           17.220406358702114,
           18.117112484928562,
           17.43197479102798,
           15.520453176735732,
           18.801592640586705,
           15.898256010714142,
           16.01344244065663,
           14.79457212453851,
           14.88892947534997,
           15.723427594342128,
           18.58969769401112,
           18.02046299434615,
           18.37545364452194,
           15.425057464458305,
           18.6085169752718,
           17.927129456006323,
           17.823637591652027,
           17.203366976738295,
           16.52374540868436,
           15.520438634004643,
           17.915971394256655,
           16.795158113225092,
           17.312413071729857,
           18.2277683416195,
           18.903242958013497,
           16.160361722297562,
           16.996994955515174,
           17.147984460421547,
           17.216799102137667,
           15.688073983504122,
           17.0355946525805,
           15.925458268526114,
           15.017131799532532,
           15.899817867571892,
           16.46023124900262,
           16.72291974006179,
           16.940706449454034,
           17.092564720817364,
           16.961972881943414,
           15.432917235285469,
           18.197558692407036,
           14.691165111386633,
           17.646559033373926,
           14.731919282876976,
           17.61340456111721,
           16.148263199914815,
           17.21679210275128,
           16.796039240423962,
           16.842687572705056,
           16.250874573047884,
           14.378186800783569,
           17.47922091098522,
           16.33749419849166,
           15.398269736774743,
           17.136445049381155,
           15.60732735888217,
           15.182054405430046,
           17.170151024898075,
           16.676198294668218,
           16.54570443481879,
           18.228374194624532,
           17.875779501637798,
           16.109328632714554,
           15.785209775648525,
           15.848109150919559,
           17.622276886787578,
           18.197619201775314,
           17.055653349225345,
           16.14737383130495,
           16.524297887320685,
           15.860818495184194,
           17.13863954560134,
           15.687776012151755,
           17.88283994085811,
           17.333477157839834,
           16.285731397192823,
           17.08608515100442,
           16.993840558507053,
           15.761925865120032,
           17.85023468983421,
           18.85377186858069,
           17.770640848645495,
           16.21817272378063,
           18.13312146396128,
           14.940036826870674,
           16.059047629404283,
           18.21305879440709,
           19.16942955691885,
           15.607802718620388,
           17.72786654794691,
           17.553260196855433,
           15.35123002237028,
           15.85031031902099,
           18.52507089395769,
           16.248912926196216
          ],
          "coloraxis": "coloraxis",
          "symbol": "circle"
         },
         "mode": "markers",
         "name": "",
         "orientation": "v",
         "showlegend": false,
         "type": "scatter",
         "x": [
          30429860,
          12701640,
          14127170,
          106109650,
          15882067,
          58370007,
          3140214,
          44447270,
          12328361,
          30111158,
          73817950,
          37205784,
          5501070,
          146361865,
          8026475,
          9006368,
          2661957,
          2925364,
          6739037,
          118414021,
          67017410,
          95578040,
          5000545,
          120663589,
          61045464,
          55043679,
          29602429,
          15002770,
          5500990,
          60368101,
          19680879,
          33013036,
          82455420,
          162022044,
          10431720,
          24082475,
          28007544,
          30002735,
          6504950,
          25030225,
          8247810,
          3325504,
          8039021,
          14079512,
          18309301,
          22764354,
          26497600,
          23253655,
          5040003,
          80001720,
          2400446,
          46110859,
          2500295,
          44607143,
          10306272,
          30002525,
          19698228,
          20638887,
          11419975,
          1755364,
          39005800,
          12453275,
          4868370,
          27686211,
          6000344,
          3921773,
          28635307,
          17473540,
          15335860,
          82505391,
          57989905,
          9912713,
          7168520,
          7633898,
          45004673,
          80006561,
          25537368,
          10297110,
          15011061,
          7731539,
          27747035,
          6503012,
          58400788,
          33715801,
          11825058,
          26326462,
          24006629,
          7003537,
          56527324,
          154201673,
          52202495,
          11052561,
          75009210,
          3078758,
          9426615,
          81251415,
          211435291,
          6003197,
          50016652,
          42003361,
          4644666,
          7650720,
          111003345,
          11397595
         ],
         "xaxis": "x",
         "y": [
          -0.1918345326002152,
          0.6039211618060785,
          -0.44141937865920056,
          0.2112119584330167,
          0.40159975965433536,
          0.35462328146808725,
          -1.3377740074995352,
          0.2398307293367505,
          -0.2979229584625368,
          -0.45678764365450575,
          -0.2511340782095825,
          0.14354305955921268,
          1.9192959602210509,
          0.931284564171034,
          -1.1794245436032036,
          -0.21581090030606412,
          -1.2573648660663064,
          -1.0013331475735339,
          -0.4588122461633968,
          0.21979018194091168,
          -0.5311103484319984,
          0.11405049227362489,
          0.009267236105186254,
          0.23828181231420106,
          -0.1956109836098437,
          -0.5908644194055189,
          -0.4918585209389528,
          0.2363865397012864,
          -1.0863297904981584,
          -0.6093911746191947,
          0.8028841473049967,
          0.4517728118862285,
          0.17216965148766897,
          0.18923962634317507,
          -0.009790984287576627,
          -0.2243430118673,
          -0.1653681127378293,
          -0.3820729424476583,
          -0.8279871605142783,
          -0.7349156601585017,
          -0.5018860507429287,
          -1.0161466163097062,
          -1.173133711831038,
          -0.504878397798735,
          -0.3490741670505417,
          0.267796294185977,
          -0.0248032682058015,
          -0.7499807708028814,
          -0.37386598869500104,
          0.7193247716361548,
          -0.09120181639544402,
          -0.6112007635750324,
          -0.5709495297969077,
          -0.08487709993752832,
          -0.7619913653136565,
          -0.13068193830191602,
          -0.710668558621342,
          -0.857145343636069,
          -0.8587611098555641,
          -1.2080744094751463,
          -0.5446907899260334,
          -0.6315690385299949,
          -0.806835898441498,
          -0.7174061399122641,
          -0.3241571468795495,
          -1.33910338045979,
          0.7256080130943541,
          -0.8631591577564313,
          -0.7919357979170479,
          -0.2514360692283035,
          0.3440893378296112,
          -0.004826410883947076,
          -0.29596200251054716,
          0.08299097216062926,
          0.3577986097803984,
          0.10771401863159251,
          -0.40497821199855705,
          0.005503764031579793,
          -0.16087955864437503,
          1.2204543644849568,
          -0.3124134844976386,
          0.10342758619086594,
          -0.22116355695814008,
          0.1861679771528336,
          -0.13217292177326284,
          -0.8792852474145221,
          -0.030557870789349767,
          -0.5835793224763935,
          0.6801818479327534,
          0.627799873546123,
          0.3069247429609999,
          -0.06089830366978586,
          0.5019125801588307,
          0.07004942347341667,
          -0.6773633195752352,
          0.2712068881289075,
          0.6611686891803369,
          -0.6922807962807545,
          1.1324266541342214,
          -0.18491161304154397,
          -0.8816026798755103,
          0.3359328604613025,
          0.7349416350559835,
          -0.34085143246001726
         ],
         "yaxis": "y"
        },
        {
         "mode": "lines",
         "name": "y=0",
         "type": "scatter",
         "x": [
          36886678.33376073,
          6809918.470057747,
          22129331.092248473,
          85838751.13870402,
          10570412.3295048,
          40788117.290025376,
          15827413.580687549,
          34928853.23617248,
          16644148.937303327,
          47936838.1197478,
          95018206.23186985,
          32222789.09831846,
          113275.08221189433,
          53361992.29993577,
          31099603.838598497,
          11185141.972894631,
          11675942.613770083,
          8791712.592227839,
          10751465.33035909,
          94964742.38647947,
          115480737.30047463,
          85265398.41231051,
          4954417.506019222,
          94972508.89643723,
          74281150.04052876,
          101204391.82588424,
          48911236.75616011,
          11831177.948915694,
          18582054.15659691,
          113276995.73227122,
          8405731.741900805,
          20846825.46832585,
          69384322.2476245,
          134011413.55372724,
          10534359.276383579,
          30167811.313068584,
          33056572.88242437,
          44173007.002582535,
          15696001.323551599,
          54111455.002571285,
          13774039.550470218,
          10194819.475542702,
          30850076.86273597,
          23588359.240093805,
          26051991.638542227,
          17388024.86817562,
          27163080.120568085,
          51156896.31587283,
          7357506.590135971,
          37677081.4943354,
          2629831.2092270562,
          86696987.63648891,
          4498184.205971405,
          48561066.72386661,
          22993243.726273276,
          34197411.04030291,
          41413220.516099334,
          51597374.66310249,
          28606613.994192727,
          7110943.74912386,
          68203856.14728025,
          23948342.182418495,
          11452503.193020042,
          58658225.41607991,
          8321628.94353047,
          19814302.410574213,
          13388794.576500192,
          44007502.378863744,
          35442434.64214836,
          106233240.85222577,
          40965205.7359974,
          9960671.55977007,
          9658616.508836845,
          7025595.203816563,
          31345652.78832789,
          71829144.0202537,
          38505313.27772283,
          10240592.665389474,
          17637286.900337122,
          1871502.2171190577,
          38020342.838380635,
          5863493.113259295,
          72922781.91772223,
          27973513.549213983,
          13498609.566114053,
          67636651.94764854,
          24751602.874773238,
          12774589.967885293,
          27836091.928064726,
          80521944.35357007,
          38311935.79672672,
          11746781.645962667,
          44913781.0666793,
          2870390.7789388755,
          19081939.584990468,
          61846803.704219416,
          106372883.82130215,
          12359145.566895047,
          13852874.756819425,
          50561521.90442988,
          11967197.839169424,
          5450204.482031778,
          51345048.219335064,
          16080583.200519314
         ],
         "y": [
          0,
          0,
          0,
          0,
          0,
          0,
          0,
          0,
          0,
          0,
          0,
          0,
          0,
          0,
          0,
          0,
          0,
          0,
          0,
          0,
          0,
          0,
          0,
          0,
          0,
          0,
          0,
          0,
          0,
          0,
          0,
          0,
          0,
          0,
          0,
          0,
          0,
          0,
          0,
          0,
          0,
          0,
          0,
          0,
          0,
          0,
          0,
          0,
          0,
          0,
          0,
          0,
          0,
          0,
          0,
          0,
          0,
          0,
          0,
          0,
          0,
          0,
          0,
          0,
          0,
          0,
          0,
          0,
          0,
          0,
          0,
          0,
          0,
          0,
          0,
          0,
          0,
          0,
          0,
          0,
          0,
          0,
          0,
          0,
          0,
          0,
          0,
          0,
          0,
          0,
          0,
          0,
          0,
          0,
          0,
          0,
          0,
          0,
          0,
          0,
          0,
          0,
          0,
          0
         ]
        }
       ],
       "layout": {
        "coloraxis": {
         "colorbar": {
          "title": {
           "text": "log_actual"
          }
         },
         "colorscale": [
          [
           0,
           "#0d0887"
          ],
          [
           0.1111111111111111,
           "#46039f"
          ],
          [
           0.2222222222222222,
           "#7201a8"
          ],
          [
           0.3333333333333333,
           "#9c179e"
          ],
          [
           0.4444444444444444,
           "#bd3786"
          ],
          [
           0.5555555555555556,
           "#d8576b"
          ],
          [
           0.6666666666666666,
           "#ed7953"
          ],
          [
           0.7777777777777778,
           "#fb9f3a"
          ],
          [
           0.8888888888888888,
           "#fdca26"
          ],
          [
           1,
           "#f0f921"
          ]
         ]
        },
        "legend": {
         "tracegroupgap": 0
        },
        "margin": {
         "t": 60
        },
        "template": {
         "data": {
          "bar": [
           {
            "error_x": {
             "color": "#2a3f5f"
            },
            "error_y": {
             "color": "#2a3f5f"
            },
            "marker": {
             "line": {
              "color": "#E5ECF6",
              "width": 0.5
             },
             "pattern": {
              "fillmode": "overlay",
              "size": 10,
              "solidity": 0.2
             }
            },
            "type": "bar"
           }
          ],
          "barpolar": [
           {
            "marker": {
             "line": {
              "color": "#E5ECF6",
              "width": 0.5
             },
             "pattern": {
              "fillmode": "overlay",
              "size": 10,
              "solidity": 0.2
             }
            },
            "type": "barpolar"
           }
          ],
          "carpet": [
           {
            "aaxis": {
             "endlinecolor": "#2a3f5f",
             "gridcolor": "white",
             "linecolor": "white",
             "minorgridcolor": "white",
             "startlinecolor": "#2a3f5f"
            },
            "baxis": {
             "endlinecolor": "#2a3f5f",
             "gridcolor": "white",
             "linecolor": "white",
             "minorgridcolor": "white",
             "startlinecolor": "#2a3f5f"
            },
            "type": "carpet"
           }
          ],
          "choropleth": [
           {
            "colorbar": {
             "outlinewidth": 0,
             "ticks": ""
            },
            "type": "choropleth"
           }
          ],
          "contour": [
           {
            "colorbar": {
             "outlinewidth": 0,
             "ticks": ""
            },
            "colorscale": [
             [
              0,
              "#0d0887"
             ],
             [
              0.1111111111111111,
              "#46039f"
             ],
             [
              0.2222222222222222,
              "#7201a8"
             ],
             [
              0.3333333333333333,
              "#9c179e"
             ],
             [
              0.4444444444444444,
              "#bd3786"
             ],
             [
              0.5555555555555556,
              "#d8576b"
             ],
             [
              0.6666666666666666,
              "#ed7953"
             ],
             [
              0.7777777777777778,
              "#fb9f3a"
             ],
             [
              0.8888888888888888,
              "#fdca26"
             ],
             [
              1,
              "#f0f921"
             ]
            ],
            "type": "contour"
           }
          ],
          "contourcarpet": [
           {
            "colorbar": {
             "outlinewidth": 0,
             "ticks": ""
            },
            "type": "contourcarpet"
           }
          ],
          "heatmap": [
           {
            "colorbar": {
             "outlinewidth": 0,
             "ticks": ""
            },
            "colorscale": [
             [
              0,
              "#0d0887"
             ],
             [
              0.1111111111111111,
              "#46039f"
             ],
             [
              0.2222222222222222,
              "#7201a8"
             ],
             [
              0.3333333333333333,
              "#9c179e"
             ],
             [
              0.4444444444444444,
              "#bd3786"
             ],
             [
              0.5555555555555556,
              "#d8576b"
             ],
             [
              0.6666666666666666,
              "#ed7953"
             ],
             [
              0.7777777777777778,
              "#fb9f3a"
             ],
             [
              0.8888888888888888,
              "#fdca26"
             ],
             [
              1,
              "#f0f921"
             ]
            ],
            "type": "heatmap"
           }
          ],
          "heatmapgl": [
           {
            "colorbar": {
             "outlinewidth": 0,
             "ticks": ""
            },
            "colorscale": [
             [
              0,
              "#0d0887"
             ],
             [
              0.1111111111111111,
              "#46039f"
             ],
             [
              0.2222222222222222,
              "#7201a8"
             ],
             [
              0.3333333333333333,
              "#9c179e"
             ],
             [
              0.4444444444444444,
              "#bd3786"
             ],
             [
              0.5555555555555556,
              "#d8576b"
             ],
             [
              0.6666666666666666,
              "#ed7953"
             ],
             [
              0.7777777777777778,
              "#fb9f3a"
             ],
             [
              0.8888888888888888,
              "#fdca26"
             ],
             [
              1,
              "#f0f921"
             ]
            ],
            "type": "heatmapgl"
           }
          ],
          "histogram": [
           {
            "marker": {
             "pattern": {
              "fillmode": "overlay",
              "size": 10,
              "solidity": 0.2
             }
            },
            "type": "histogram"
           }
          ],
          "histogram2d": [
           {
            "colorbar": {
             "outlinewidth": 0,
             "ticks": ""
            },
            "colorscale": [
             [
              0,
              "#0d0887"
             ],
             [
              0.1111111111111111,
              "#46039f"
             ],
             [
              0.2222222222222222,
              "#7201a8"
             ],
             [
              0.3333333333333333,
              "#9c179e"
             ],
             [
              0.4444444444444444,
              "#bd3786"
             ],
             [
              0.5555555555555556,
              "#d8576b"
             ],
             [
              0.6666666666666666,
              "#ed7953"
             ],
             [
              0.7777777777777778,
              "#fb9f3a"
             ],
             [
              0.8888888888888888,
              "#fdca26"
             ],
             [
              1,
              "#f0f921"
             ]
            ],
            "type": "histogram2d"
           }
          ],
          "histogram2dcontour": [
           {
            "colorbar": {
             "outlinewidth": 0,
             "ticks": ""
            },
            "colorscale": [
             [
              0,
              "#0d0887"
             ],
             [
              0.1111111111111111,
              "#46039f"
             ],
             [
              0.2222222222222222,
              "#7201a8"
             ],
             [
              0.3333333333333333,
              "#9c179e"
             ],
             [
              0.4444444444444444,
              "#bd3786"
             ],
             [
              0.5555555555555556,
              "#d8576b"
             ],
             [
              0.6666666666666666,
              "#ed7953"
             ],
             [
              0.7777777777777778,
              "#fb9f3a"
             ],
             [
              0.8888888888888888,
              "#fdca26"
             ],
             [
              1,
              "#f0f921"
             ]
            ],
            "type": "histogram2dcontour"
           }
          ],
          "mesh3d": [
           {
            "colorbar": {
             "outlinewidth": 0,
             "ticks": ""
            },
            "type": "mesh3d"
           }
          ],
          "parcoords": [
           {
            "line": {
             "colorbar": {
              "outlinewidth": 0,
              "ticks": ""
             }
            },
            "type": "parcoords"
           }
          ],
          "pie": [
           {
            "automargin": true,
            "type": "pie"
           }
          ],
          "scatter": [
           {
            "fillpattern": {
             "fillmode": "overlay",
             "size": 10,
             "solidity": 0.2
            },
            "type": "scatter"
           }
          ],
          "scatter3d": [
           {
            "line": {
             "colorbar": {
              "outlinewidth": 0,
              "ticks": ""
             }
            },
            "marker": {
             "colorbar": {
              "outlinewidth": 0,
              "ticks": ""
             }
            },
            "type": "scatter3d"
           }
          ],
          "scattercarpet": [
           {
            "marker": {
             "colorbar": {
              "outlinewidth": 0,
              "ticks": ""
             }
            },
            "type": "scattercarpet"
           }
          ],
          "scattergeo": [
           {
            "marker": {
             "colorbar": {
              "outlinewidth": 0,
              "ticks": ""
             }
            },
            "type": "scattergeo"
           }
          ],
          "scattergl": [
           {
            "marker": {
             "colorbar": {
              "outlinewidth": 0,
              "ticks": ""
             }
            },
            "type": "scattergl"
           }
          ],
          "scattermapbox": [
           {
            "marker": {
             "colorbar": {
              "outlinewidth": 0,
              "ticks": ""
             }
            },
            "type": "scattermapbox"
           }
          ],
          "scatterpolar": [
           {
            "marker": {
             "colorbar": {
              "outlinewidth": 0,
              "ticks": ""
             }
            },
            "type": "scatterpolar"
           }
          ],
          "scatterpolargl": [
           {
            "marker": {
             "colorbar": {
              "outlinewidth": 0,
              "ticks": ""
             }
            },
            "type": "scatterpolargl"
           }
          ],
          "scatterternary": [
           {
            "marker": {
             "colorbar": {
              "outlinewidth": 0,
              "ticks": ""
             }
            },
            "type": "scatterternary"
           }
          ],
          "surface": [
           {
            "colorbar": {
             "outlinewidth": 0,
             "ticks": ""
            },
            "colorscale": [
             [
              0,
              "#0d0887"
             ],
             [
              0.1111111111111111,
              "#46039f"
             ],
             [
              0.2222222222222222,
              "#7201a8"
             ],
             [
              0.3333333333333333,
              "#9c179e"
             ],
             [
              0.4444444444444444,
              "#bd3786"
             ],
             [
              0.5555555555555556,
              "#d8576b"
             ],
             [
              0.6666666666666666,
              "#ed7953"
             ],
             [
              0.7777777777777778,
              "#fb9f3a"
             ],
             [
              0.8888888888888888,
              "#fdca26"
             ],
             [
              1,
              "#f0f921"
             ]
            ],
            "type": "surface"
           }
          ],
          "table": [
           {
            "cells": {
             "fill": {
              "color": "#EBF0F8"
             },
             "line": {
              "color": "white"
             }
            },
            "header": {
             "fill": {
              "color": "#C8D4E3"
             },
             "line": {
              "color": "white"
             }
            },
            "type": "table"
           }
          ]
         },
         "layout": {
          "annotationdefaults": {
           "arrowcolor": "#2a3f5f",
           "arrowhead": 0,
           "arrowwidth": 1
          },
          "autotypenumbers": "strict",
          "coloraxis": {
           "colorbar": {
            "outlinewidth": 0,
            "ticks": ""
           }
          },
          "colorscale": {
           "diverging": [
            [
             0,
             "#8e0152"
            ],
            [
             0.1,
             "#c51b7d"
            ],
            [
             0.2,
             "#de77ae"
            ],
            [
             0.3,
             "#f1b6da"
            ],
            [
             0.4,
             "#fde0ef"
            ],
            [
             0.5,
             "#f7f7f7"
            ],
            [
             0.6,
             "#e6f5d0"
            ],
            [
             0.7,
             "#b8e186"
            ],
            [
             0.8,
             "#7fbc41"
            ],
            [
             0.9,
             "#4d9221"
            ],
            [
             1,
             "#276419"
            ]
           ],
           "sequential": [
            [
             0,
             "#0d0887"
            ],
            [
             0.1111111111111111,
             "#46039f"
            ],
            [
             0.2222222222222222,
             "#7201a8"
            ],
            [
             0.3333333333333333,
             "#9c179e"
            ],
            [
             0.4444444444444444,
             "#bd3786"
            ],
            [
             0.5555555555555556,
             "#d8576b"
            ],
            [
             0.6666666666666666,
             "#ed7953"
            ],
            [
             0.7777777777777778,
             "#fb9f3a"
            ],
            [
             0.8888888888888888,
             "#fdca26"
            ],
            [
             1,
             "#f0f921"
            ]
           ],
           "sequentialminus": [
            [
             0,
             "#0d0887"
            ],
            [
             0.1111111111111111,
             "#46039f"
            ],
            [
             0.2222222222222222,
             "#7201a8"
            ],
            [
             0.3333333333333333,
             "#9c179e"
            ],
            [
             0.4444444444444444,
             "#bd3786"
            ],
            [
             0.5555555555555556,
             "#d8576b"
            ],
            [
             0.6666666666666666,
             "#ed7953"
            ],
            [
             0.7777777777777778,
             "#fb9f3a"
            ],
            [
             0.8888888888888888,
             "#fdca26"
            ],
            [
             1,
             "#f0f921"
            ]
           ]
          },
          "colorway": [
           "#636efa",
           "#EF553B",
           "#00cc96",
           "#ab63fa",
           "#FFA15A",
           "#19d3f3",
           "#FF6692",
           "#B6E880",
           "#FF97FF",
           "#FECB52"
          ],
          "font": {
           "color": "#2a3f5f"
          },
          "geo": {
           "bgcolor": "white",
           "lakecolor": "white",
           "landcolor": "#E5ECF6",
           "showlakes": true,
           "showland": true,
           "subunitcolor": "white"
          },
          "hoverlabel": {
           "align": "left"
          },
          "hovermode": "closest",
          "mapbox": {
           "style": "light"
          },
          "paper_bgcolor": "white",
          "plot_bgcolor": "#E5ECF6",
          "polar": {
           "angularaxis": {
            "gridcolor": "white",
            "linecolor": "white",
            "ticks": ""
           },
           "bgcolor": "#E5ECF6",
           "radialaxis": {
            "gridcolor": "white",
            "linecolor": "white",
            "ticks": ""
           }
          },
          "scene": {
           "xaxis": {
            "backgroundcolor": "#E5ECF6",
            "gridcolor": "white",
            "gridwidth": 2,
            "linecolor": "white",
            "showbackground": true,
            "ticks": "",
            "zerolinecolor": "white"
           },
           "yaxis": {
            "backgroundcolor": "#E5ECF6",
            "gridcolor": "white",
            "gridwidth": 2,
            "linecolor": "white",
            "showbackground": true,
            "ticks": "",
            "zerolinecolor": "white"
           },
           "zaxis": {
            "backgroundcolor": "#E5ECF6",
            "gridcolor": "white",
            "gridwidth": 2,
            "linecolor": "white",
            "showbackground": true,
            "ticks": "",
            "zerolinecolor": "white"
           }
          },
          "shapedefaults": {
           "line": {
            "color": "#2a3f5f"
           }
          },
          "ternary": {
           "aaxis": {
            "gridcolor": "white",
            "linecolor": "white",
            "ticks": ""
           },
           "baxis": {
            "gridcolor": "white",
            "linecolor": "white",
            "ticks": ""
           },
           "bgcolor": "#E5ECF6",
           "caxis": {
            "gridcolor": "white",
            "linecolor": "white",
            "ticks": ""
           }
          },
          "title": {
           "x": 0.05
          },
          "xaxis": {
           "automargin": true,
           "gridcolor": "white",
           "linecolor": "white",
           "ticks": "",
           "title": {
            "standoff": 15
           },
           "zerolinecolor": "white",
           "zerolinewidth": 2
          },
          "yaxis": {
           "automargin": true,
           "gridcolor": "white",
           "linecolor": "white",
           "ticks": "",
           "title": {
            "standoff": 15
           },
           "zerolinecolor": "white",
           "zerolinewidth": 2
          }
         }
        },
        "title": {
         "text": "Residuals Percent Difference vs Predicted Opening Weekend Revenue"
        },
        "xaxis": {
         "anchor": "y",
         "domain": [
          0,
          1
         ],
         "range": [
          0,
          140711984
         ],
         "title": {
          "text": "Predicted"
         }
        },
        "yaxis": {
         "anchor": "x",
         "domain": [
          0,
          1
         ],
         "range": [
          -2.111225556243156,
          2.111225556243156
         ],
         "title": {
          "text": "Residual Percent Difference"
         }
        }
       }
      }
     },
     "metadata": {},
     "output_type": "display_data"
    }
   ],
   "source": [
    "# plot residuals as a percentage of actual\n",
    "results_df[\"residual_percent_difference\"] = (\n",
    "    (results_df[\"actual\"] - results_df[\"predicted\"]) / ((results_df[\"actual\"] + results_df[\"predicted\"]) / 2)\n",
    ")\n",
    "\n",
    "results_df[\"log_actual\"] = np.log(results_df[\"actual\"])\n",
    "\n",
    "fig2 = px.scatter(results_df, x=\"actual\", y=\"residual_percent_difference\", hover_name=\"title\", color=\"log_actual\", labels={\"residual_percent_difference\": \"Residual Percent Difference\", \"predicted\": \"Predicted Opening Weekend Revenue\", \"actual\": \"Actual Opening Weekend Revenue\"})\n",
    "\n",
    "x_axis_length = int(max(results_df[\"predicted\"]) * 1.05)\n",
    "fig2.add_trace(go.Scatter(x=results_df[\"predicted\"], y=[0] * len(results_df), mode=\"lines\", name=\"y=0\"))\n",
    "max_abs_residual_percent_difference = max(abs(results_df[\"residual_percent_difference\"]))\n",
    "fig2.update_layout(\n",
    "    title=\"Residuals Percent Difference vs Predicted Opening Weekend Revenue\",\n",
    "    xaxis_title=\"Predicted\",\n",
    "    yaxis_title=\"Residual Percent Difference\",\n",
    "    yaxis=dict(range=[-1.1 * max_abs_residual_percent_difference, 1.1 * max_abs_residual_percent_difference]),\n",
    "    xaxis=dict(range=[0, x_axis_length])\n",
    ")\n",
    "\n",
    "# positive is under prediction, negative is over prediction"
   ]
  },
  {
   "cell_type": "code",
   "execution_count": null,
   "metadata": {},
   "outputs": [
    {
     "name": "stderr",
     "output_type": "stream",
     "text": [
      "/tmp/ipykernel_35894/4292569314.py:5: PerformanceWarning:\n",
      "\n",
      "DataFrame is highly fragmented.  This is usually the result of calling `frame.insert` many times, which has poor performance.  Consider joining all columns at once using pd.concat(axis=1) instead. To get a de-fragmented frame, use `newframe = frame.copy()`\n",
      "\n",
      "/tmp/ipykernel_35894/4292569314.py:6: PerformanceWarning:\n",
      "\n",
      "DataFrame is highly fragmented.  This is usually the result of calling `frame.insert` many times, which has poor performance.  Consider joining all columns at once using pd.concat(axis=1) instead. To get a de-fragmented frame, use `newframe = frame.copy()`\n",
      "\n"
     ]
    },
    {
     "data": {
      "text/html": [
       "<div>\n",
       "<style scoped>\n",
       "    .dataframe tbody tr th:only-of-type {\n",
       "        vertical-align: middle;\n",
       "    }\n",
       "\n",
       "    .dataframe tbody tr th {\n",
       "        vertical-align: top;\n",
       "    }\n",
       "\n",
       "    .dataframe thead th {\n",
       "        text-align: right;\n",
       "    }\n",
       "</style>\n",
       "<table border=\"1\" class=\"dataframe\">\n",
       "  <thead>\n",
       "    <tr style=\"text-align: right;\">\n",
       "      <th></th>\n",
       "      <th>title</th>\n",
       "      <th>actual</th>\n",
       "      <th>predicted</th>\n",
       "      <th>budget</th>\n",
       "      <th>wikipedia_pre_release_cumulative_views</th>\n",
       "      <th>metacritic_before_wide_friday_calculated</th>\n",
       "      <th>top_5_trailer_views</th>\n",
       "    </tr>\n",
       "  </thead>\n",
       "  <tbody>\n",
       "    <tr>\n",
       "      <th>468</th>\n",
       "      <td>Avengers: Endgame</td>\n",
       "      <td>357115007.0</td>\n",
       "      <td>20.092462</td>\n",
       "      <td>400000000.0</td>\n",
       "      <td>8078868.0</td>\n",
       "      <td>79.0</td>\n",
       "      <td>538068656.0</td>\n",
       "    </tr>\n",
       "    <tr>\n",
       "      <th>623</th>\n",
       "      <td>Spider-Man: No Way Home</td>\n",
       "      <td>260138569.0</td>\n",
       "      <td>19.223198</td>\n",
       "      <td>200000000.0</td>\n",
       "      <td>6211755.0</td>\n",
       "      <td>72.0</td>\n",
       "      <td>197038432.0</td>\n",
       "    </tr>\n",
       "    <tr>\n",
       "      <th>346</th>\n",
       "      <td>Avengers: Infinity War</td>\n",
       "      <td>257698183.0</td>\n",
       "      <td>19.612586</td>\n",
       "      <td>300000000.0</td>\n",
       "      <td>6361008.0</td>\n",
       "      <td>70.0</td>\n",
       "      <td>542667265.0</td>\n",
       "    </tr>\n",
       "    <tr>\n",
       "      <th>37</th>\n",
       "      <td>Star Wars Ep. VII: The Force Awakens</td>\n",
       "      <td>247966675.0</td>\n",
       "      <td>19.858331</td>\n",
       "      <td>533200000.0</td>\n",
       "      <td>7308580.0</td>\n",
       "      <td>80.0</td>\n",
       "      <td>191498815.0</td>\n",
       "    </tr>\n",
       "    <tr>\n",
       "      <th>294</th>\n",
       "      <td>Star Wars Ep. VIII: The Last Jedi</td>\n",
       "      <td>220009584.0</td>\n",
       "      <td>18.780880</td>\n",
       "      <td>262000000.0</td>\n",
       "      <td>3016480.0</td>\n",
       "      <td>83.0</td>\n",
       "      <td>65764078.0</td>\n",
       "    </tr>\n",
       "    <tr>\n",
       "      <th>96</th>\n",
       "      <td>Deadpool &amp; Wolverine</td>\n",
       "      <td>211435291.0</td>\n",
       "      <td>18.369901</td>\n",
       "      <td>200000000.0</td>\n",
       "      <td>2957720.0</td>\n",
       "      <td>62.0</td>\n",
       "      <td>92496312.0</td>\n",
       "    </tr>\n",
       "    <tr>\n",
       "      <th>318</th>\n",
       "      <td>Black Panther</td>\n",
       "      <td>202003951.0</td>\n",
       "      <td>19.050303</td>\n",
       "      <td>200000000.0</td>\n",
       "      <td>3504158.0</td>\n",
       "      <td>86.0</td>\n",
       "      <td>158087866.0</td>\n",
       "    </tr>\n",
       "    <tr>\n",
       "      <th>496</th>\n",
       "      <td>The Lion King</td>\n",
       "      <td>191770759.0</td>\n",
       "      <td>18.070935</td>\n",
       "      <td>260000000.0</td>\n",
       "      <td>2164436.0</td>\n",
       "      <td>59.0</td>\n",
       "      <td>49977186.0</td>\n",
       "    </tr>\n",
       "    <tr>\n",
       "      <th>647</th>\n",
       "      <td>Doctor Strange in the Multiverse of Madness</td>\n",
       "      <td>187420998.0</td>\n",
       "      <td>18.464865</td>\n",
       "      <td>200000000.0</td>\n",
       "      <td>3534041.0</td>\n",
       "      <td>64.0</td>\n",
       "      <td>80431609.0</td>\n",
       "    </tr>\n",
       "    <tr>\n",
       "      <th>360</th>\n",
       "      <td>Incredibles 2</td>\n",
       "      <td>182687905.0</td>\n",
       "      <td>18.592015</td>\n",
       "      <td>200000000.0</td>\n",
       "      <td>898943.0</td>\n",
       "      <td>80.0</td>\n",
       "      <td>337879237.0</td>\n",
       "    </tr>\n",
       "    <tr>\n",
       "      <th>669</th>\n",
       "      <td>Black Panther: Wakanda Forever</td>\n",
       "      <td>181339761.0</td>\n",
       "      <td>18.415569</td>\n",
       "      <td>250000000.0</td>\n",
       "      <td>3069841.0</td>\n",
       "      <td>69.0</td>\n",
       "      <td>48494846.0</td>\n",
       "    </tr>\n",
       "    <tr>\n",
       "      <th>87</th>\n",
       "      <td>Captain America: Civil War</td>\n",
       "      <td>179139142.0</td>\n",
       "      <td>19.287119</td>\n",
       "      <td>250000000.0</td>\n",
       "      <td>5805060.0</td>\n",
       "      <td>77.0</td>\n",
       "      <td>158290980.0</td>\n",
       "    </tr>\n",
       "    <tr>\n",
       "      <th>549</th>\n",
       "      <td>Star Wars: The Rise of Skywalker</td>\n",
       "      <td>177383864.0</td>\n",
       "      <td>18.475343</td>\n",
       "      <td>275000000.0</td>\n",
       "      <td>4343122.0</td>\n",
       "      <td>57.0</td>\n",
       "      <td>62680974.0</td>\n",
       "    </tr>\n",
       "    <tr>\n",
       "      <th>201</th>\n",
       "      <td>Beauty and the Beast</td>\n",
       "      <td>174750616.0</td>\n",
       "      <td>17.042517</td>\n",
       "      <td>160000000.0</td>\n",
       "      <td>1743780.0</td>\n",
       "      <td>68.0</td>\n",
       "      <td>15845005.0</td>\n",
       "    </tr>\n",
       "    <tr>\n",
       "      <th>74</th>\n",
       "      <td>Batman v Superman: Dawn of Justice</td>\n",
       "      <td>166007347.0</td>\n",
       "      <td>18.477154</td>\n",
       "      <td>263000000.0</td>\n",
       "      <td>3678000.0</td>\n",
       "      <td>48.0</td>\n",
       "      <td>183180035.0</td>\n",
       "    </tr>\n",
       "    <tr>\n",
       "      <th>33</th>\n",
       "      <td>Barbie</td>\n",
       "      <td>162022044.0</td>\n",
       "      <td>18.793595</td>\n",
       "      <td>151000000.0</td>\n",
       "      <td>3741724.0</td>\n",
       "      <td>81.0</td>\n",
       "      <td>111528091.0</td>\n",
       "    </tr>\n",
       "    <tr>\n",
       "      <th>170</th>\n",
       "      <td>Rogue One: A Star Wars Story</td>\n",
       "      <td>155081681.0</td>\n",
       "      <td>18.651321</td>\n",
       "      <td>280200000.0</td>\n",
       "      <td>2937918.0</td>\n",
       "      <td>68.0</td>\n",
       "      <td>118052687.0</td>\n",
       "    </tr>\n",
       "    <tr>\n",
       "      <th>89</th>\n",
       "      <td>Inside Out 2</td>\n",
       "      <td>154201673.0</td>\n",
       "      <td>18.267633</td>\n",
       "      <td>200000000.0</td>\n",
       "      <td>1120226.0</td>\n",
       "      <td>75.0</td>\n",
       "      <td>112778679.0</td>\n",
       "    </tr>\n",
       "    <tr>\n",
       "      <th>454</th>\n",
       "      <td>Captain Marvel</td>\n",
       "      <td>153433423.0</td>\n",
       "      <td>18.436190</td>\n",
       "      <td>175000000.0</td>\n",
       "      <td>2697997.0</td>\n",
       "      <td>66.0</td>\n",
       "      <td>124194021.0</td>\n",
       "    </tr>\n",
       "    <tr>\n",
       "      <th>362</th>\n",
       "      <td>Jurassic World: Fallen Kingdom</td>\n",
       "      <td>148024610.0</td>\n",
       "      <td>18.268171</td>\n",
       "      <td>170000000.0</td>\n",
       "      <td>2575528.0</td>\n",
       "      <td>55.0</td>\n",
       "      <td>154039630.0</td>\n",
       "    </tr>\n",
       "    <tr>\n",
       "      <th>218</th>\n",
       "      <td>Guardians of the Galaxy Vol 2</td>\n",
       "      <td>146510104.0</td>\n",
       "      <td>18.204963</td>\n",
       "      <td>200000000.0</td>\n",
       "      <td>2414252.0</td>\n",
       "      <td>68.0</td>\n",
       "      <td>48327507.0</td>\n",
       "    </tr>\n",
       "    <tr>\n",
       "      <th>13</th>\n",
       "      <td>The Super Mario Bros. Movie</td>\n",
       "      <td>146361865.0</td>\n",
       "      <td>17.598181</td>\n",
       "      <td>100000000.0</td>\n",
       "      <td>1511626.0</td>\n",
       "      <td>51.0</td>\n",
       "      <td>62046017.0</td>\n",
       "    </tr>\n",
       "    <tr>\n",
       "      <th>649</th>\n",
       "      <td>Jurassic World: Dominion</td>\n",
       "      <td>145075625.0</td>\n",
       "      <td>17.760010</td>\n",
       "      <td>165000000.0</td>\n",
       "      <td>1670496.0</td>\n",
       "      <td>43.0</td>\n",
       "      <td>105716506.0</td>\n",
       "    </tr>\n",
       "    <tr>\n",
       "      <th>653</th>\n",
       "      <td>Thor: Love and Thunder</td>\n",
       "      <td>144165107.0</td>\n",
       "      <td>18.431764</td>\n",
       "      <td>250000000.0</td>\n",
       "      <td>3379308.0</td>\n",
       "      <td>63.0</td>\n",
       "      <td>65518121.0</td>\n",
       "    </tr>\n",
       "    <tr>\n",
       "      <th>101</th>\n",
       "      <td>Finding Dory</td>\n",
       "      <td>135060273.0</td>\n",
       "      <td>17.989190</td>\n",
       "      <td>200000000.0</td>\n",
       "      <td>838428.0</td>\n",
       "      <td>78.0</td>\n",
       "      <td>45205238.0</td>\n",
       "    </tr>\n",
       "    <tr>\n",
       "      <th>673</th>\n",
       "      <td>Avatar: The Way of Water</td>\n",
       "      <td>134100226.0</td>\n",
       "      <td>19.023298</td>\n",
       "      <td>460000000.0</td>\n",
       "      <td>3578680.0</td>\n",
       "      <td>72.0</td>\n",
       "      <td>125927335.0</td>\n",
       "    </tr>\n",
       "    <tr>\n",
       "      <th>636</th>\n",
       "      <td>The Batman</td>\n",
       "      <td>134008624.0</td>\n",
       "      <td>18.677832</td>\n",
       "      <td>200000000.0</td>\n",
       "      <td>2749341.0</td>\n",
       "      <td>74.0</td>\n",
       "      <td>145520768.0</td>\n",
       "    </tr>\n",
       "    <tr>\n",
       "      <th>119</th>\n",
       "      <td>Suicide Squad</td>\n",
       "      <td>133682248.0</td>\n",
       "      <td>18.507456</td>\n",
       "      <td>175000000.0</td>\n",
       "      <td>4637433.0</td>\n",
       "      <td>47.0</td>\n",
       "      <td>182346190.0</td>\n",
       "    </tr>\n",
       "    <tr>\n",
       "      <th>58</th>\n",
       "      <td>Deadpool</td>\n",
       "      <td>132434639.0</td>\n",
       "      <td>18.182094</td>\n",
       "      <td>58000000.0</td>\n",
       "      <td>3007117.0</td>\n",
       "      <td>67.0</td>\n",
       "      <td>134042442.0</td>\n",
       "    </tr>\n",
       "    <tr>\n",
       "      <th>539</th>\n",
       "      <td>Frozen II</td>\n",
       "      <td>130263358.0</td>\n",
       "      <td>18.284007</td>\n",
       "      <td>150000000.0</td>\n",
       "      <td>1449696.0</td>\n",
       "      <td>65.0</td>\n",
       "      <td>237034175.0</td>\n",
       "    </tr>\n",
       "    <tr>\n",
       "      <th>648</th>\n",
       "      <td>Top Gun: Maverick</td>\n",
       "      <td>126707459.0</td>\n",
       "      <td>18.577920</td>\n",
       "      <td>170000000.0</td>\n",
       "      <td>2068875.0</td>\n",
       "      <td>79.0</td>\n",
       "      <td>145354138.0</td>\n",
       "    </tr>\n",
       "    <tr>\n",
       "      <th>352</th>\n",
       "      <td>Deadpool 2</td>\n",
       "      <td>125507153.0</td>\n",
       "      <td>18.241232</td>\n",
       "      <td>110000000.0</td>\n",
       "      <td>2747558.0</td>\n",
       "      <td>68.0</td>\n",
       "      <td>88719820.0</td>\n",
       "    </tr>\n",
       "    <tr>\n",
       "      <th>257</th>\n",
       "      <td>It</td>\n",
       "      <td>123403419.0</td>\n",
       "      <td>18.051728</td>\n",
       "      <td>35000000.0</td>\n",
       "      <td>2266720.0</td>\n",
       "      <td>72.0</td>\n",
       "      <td>204007513.0</td>\n",
       "    </tr>\n",
       "    <tr>\n",
       "      <th>279</th>\n",
       "      <td>Thor: Ragnarok</td>\n",
       "      <td>122744989.0</td>\n",
       "      <td>18.587861</td>\n",
       "      <td>180000000.0</td>\n",
       "      <td>2518258.0</td>\n",
       "      <td>74.0</td>\n",
       "      <td>139917675.0</td>\n",
       "    </tr>\n",
       "    <tr>\n",
       "      <th>490</th>\n",
       "      <td>Toy Story 4</td>\n",
       "      <td>120908065.0</td>\n",
       "      <td>18.615299</td>\n",
       "      <td>200000000.0</td>\n",
       "      <td>1594028.0</td>\n",
       "      <td>83.0</td>\n",
       "      <td>149979330.0</td>\n",
       "    </tr>\n",
       "    <tr>\n",
       "      <th>23</th>\n",
       "      <td>Spider-Man: Across the Spider-Verse</td>\n",
       "      <td>120663589.0</td>\n",
       "      <td>18.451950</td>\n",
       "      <td>100000000.0</td>\n",
       "      <td>1916359.0</td>\n",
       "      <td>85.0</td>\n",
       "      <td>151891677.0</td>\n",
       "    </tr>\n",
       "    <tr>\n",
       "      <th>19</th>\n",
       "      <td>Guardians of the Galaxy Vol 3</td>\n",
       "      <td>118414021.0</td>\n",
       "      <td>18.256533</td>\n",
       "      <td>250000000.0</td>\n",
       "      <td>2200515.0</td>\n",
       "      <td>67.0</td>\n",
       "      <td>56409773.0</td>\n",
       "    </tr>\n",
       "    <tr>\n",
       "      <th>239</th>\n",
       "      <td>Spider-Man: Homecoming</td>\n",
       "      <td>117027503.0</td>\n",
       "      <td>18.390439</td>\n",
       "      <td>175000000.0</td>\n",
       "      <td>2014019.0</td>\n",
       "      <td>75.0</td>\n",
       "      <td>95078092.0</td>\n",
       "    </tr>\n",
       "    <tr>\n",
       "      <th>102</th>\n",
       "      <td>Beetlejuice Beetlejuice</td>\n",
       "      <td>111003345.0</td>\n",
       "      <td>17.679734</td>\n",
       "      <td>100000000.0</td>\n",
       "      <td>1320674.0</td>\n",
       "      <td>64.0</td>\n",
       "      <td>48251920.0</td>\n",
       "    </tr>\n",
       "    <tr>\n",
       "      <th>652</th>\n",
       "      <td>Minions: The Rise of Gru</td>\n",
       "      <td>107010140.0</td>\n",
       "      <td>17.478271</td>\n",
       "      <td>80000000.0</td>\n",
       "      <td>528072.0</td>\n",
       "      <td>61.0</td>\n",
       "      <td>87411069.0</td>\n",
       "    </tr>\n",
       "    <tr>\n",
       "      <th>3</th>\n",
       "      <td>Ant-Man and the Wasp: Quantumania</td>\n",
       "      <td>106109650.0</td>\n",
       "      <td>18.025998</td>\n",
       "      <td>200000000.0</td>\n",
       "      <td>2433265.0</td>\n",
       "      <td>54.0</td>\n",
       "      <td>63966028.0</td>\n",
       "    </tr>\n",
       "    <tr>\n",
       "      <th>108</th>\n",
       "      <td>The Secret Life of Pets</td>\n",
       "      <td>104352905.0</td>\n",
       "      <td>17.423751</td>\n",
       "      <td>75000000.0</td>\n",
       "      <td>540388.0</td>\n",
       "      <td>64.0</td>\n",
       "      <td>64466316.0</td>\n",
       "    </tr>\n",
       "    <tr>\n",
       "      <th>80</th>\n",
       "      <td>The Jungle Book</td>\n",
       "      <td>103261464.0</td>\n",
       "      <td>17.306748</td>\n",
       "      <td>175000000.0</td>\n",
       "      <td>1843028.0</td>\n",
       "      <td>78.0</td>\n",
       "      <td>25587638.0</td>\n",
       "    </tr>\n",
       "    <tr>\n",
       "      <th>226</th>\n",
       "      <td>Wonder Woman</td>\n",
       "      <td>103251471.0</td>\n",
       "      <td>18.273054</td>\n",
       "      <td>150000000.0</td>\n",
       "      <td>1733637.0</td>\n",
       "      <td>76.0</td>\n",
       "      <td>88725095.0</td>\n",
       "    </tr>\n",
       "    <tr>\n",
       "      <th>27</th>\n",
       "      <td>The Hunger Games: Mockingjay - Part 2</td>\n",
       "      <td>102665981.0</td>\n",
       "      <td>17.484452</td>\n",
       "      <td>160000000.0</td>\n",
       "      <td>372675.0</td>\n",
       "      <td>67.0</td>\n",
       "      <td>37846008.0</td>\n",
       "    </tr>\n",
       "  </tbody>\n",
       "</table>\n",
       "</div>"
      ],
      "text/plain": [
       "                                           title       actual  predicted  \\\n",
       "468                            Avengers: Endgame  357115007.0  20.092462   \n",
       "623                      Spider-Man: No Way Home  260138569.0  19.223198   \n",
       "346                       Avengers: Infinity War  257698183.0  19.612586   \n",
       "37          Star Wars Ep. VII: The Force Awakens  247966675.0  19.858331   \n",
       "294            Star Wars Ep. VIII: The Last Jedi  220009584.0  18.780880   \n",
       "96                          Deadpool & Wolverine  211435291.0  18.369901   \n",
       "318                                Black Panther  202003951.0  19.050303   \n",
       "496                                The Lion King  191770759.0  18.070935   \n",
       "647  Doctor Strange in the Multiverse of Madness  187420998.0  18.464865   \n",
       "360                                Incredibles 2  182687905.0  18.592015   \n",
       "669               Black Panther: Wakanda Forever  181339761.0  18.415569   \n",
       "87                    Captain America: Civil War  179139142.0  19.287119   \n",
       "549             Star Wars: The Rise of Skywalker  177383864.0  18.475343   \n",
       "201                         Beauty and the Beast  174750616.0  17.042517   \n",
       "74            Batman v Superman: Dawn of Justice  166007347.0  18.477154   \n",
       "33                                        Barbie  162022044.0  18.793595   \n",
       "170                 Rogue One: A Star Wars Story  155081681.0  18.651321   \n",
       "89                                  Inside Out 2  154201673.0  18.267633   \n",
       "454                               Captain Marvel  153433423.0  18.436190   \n",
       "362               Jurassic World: Fallen Kingdom  148024610.0  18.268171   \n",
       "218                Guardians of the Galaxy Vol 2  146510104.0  18.204963   \n",
       "13                   The Super Mario Bros. Movie  146361865.0  17.598181   \n",
       "649                     Jurassic World: Dominion  145075625.0  17.760010   \n",
       "653                       Thor: Love and Thunder  144165107.0  18.431764   \n",
       "101                                 Finding Dory  135060273.0  17.989190   \n",
       "673                     Avatar: The Way of Water  134100226.0  19.023298   \n",
       "636                                   The Batman  134008624.0  18.677832   \n",
       "119                                Suicide Squad  133682248.0  18.507456   \n",
       "58                                      Deadpool  132434639.0  18.182094   \n",
       "539                                    Frozen II  130263358.0  18.284007   \n",
       "648                            Top Gun: Maverick  126707459.0  18.577920   \n",
       "352                                   Deadpool 2  125507153.0  18.241232   \n",
       "257                                           It  123403419.0  18.051728   \n",
       "279                               Thor: Ragnarok  122744989.0  18.587861   \n",
       "490                                  Toy Story 4  120908065.0  18.615299   \n",
       "23           Spider-Man: Across the Spider-Verse  120663589.0  18.451950   \n",
       "19                 Guardians of the Galaxy Vol 3  118414021.0  18.256533   \n",
       "239                       Spider-Man: Homecoming  117027503.0  18.390439   \n",
       "102                      Beetlejuice Beetlejuice  111003345.0  17.679734   \n",
       "652                     Minions: The Rise of Gru  107010140.0  17.478271   \n",
       "3              Ant-Man and the Wasp: Quantumania  106109650.0  18.025998   \n",
       "108                      The Secret Life of Pets  104352905.0  17.423751   \n",
       "80                               The Jungle Book  103261464.0  17.306748   \n",
       "226                                 Wonder Woman  103251471.0  18.273054   \n",
       "27         The Hunger Games: Mockingjay - Part 2  102665981.0  17.484452   \n",
       "\n",
       "          budget  wikipedia_pre_release_cumulative_views  \\\n",
       "468  400000000.0                               8078868.0   \n",
       "623  200000000.0                               6211755.0   \n",
       "346  300000000.0                               6361008.0   \n",
       "37   533200000.0                               7308580.0   \n",
       "294  262000000.0                               3016480.0   \n",
       "96   200000000.0                               2957720.0   \n",
       "318  200000000.0                               3504158.0   \n",
       "496  260000000.0                               2164436.0   \n",
       "647  200000000.0                               3534041.0   \n",
       "360  200000000.0                                898943.0   \n",
       "669  250000000.0                               3069841.0   \n",
       "87   250000000.0                               5805060.0   \n",
       "549  275000000.0                               4343122.0   \n",
       "201  160000000.0                               1743780.0   \n",
       "74   263000000.0                               3678000.0   \n",
       "33   151000000.0                               3741724.0   \n",
       "170  280200000.0                               2937918.0   \n",
       "89   200000000.0                               1120226.0   \n",
       "454  175000000.0                               2697997.0   \n",
       "362  170000000.0                               2575528.0   \n",
       "218  200000000.0                               2414252.0   \n",
       "13   100000000.0                               1511626.0   \n",
       "649  165000000.0                               1670496.0   \n",
       "653  250000000.0                               3379308.0   \n",
       "101  200000000.0                                838428.0   \n",
       "673  460000000.0                               3578680.0   \n",
       "636  200000000.0                               2749341.0   \n",
       "119  175000000.0                               4637433.0   \n",
       "58    58000000.0                               3007117.0   \n",
       "539  150000000.0                               1449696.0   \n",
       "648  170000000.0                               2068875.0   \n",
       "352  110000000.0                               2747558.0   \n",
       "257   35000000.0                               2266720.0   \n",
       "279  180000000.0                               2518258.0   \n",
       "490  200000000.0                               1594028.0   \n",
       "23   100000000.0                               1916359.0   \n",
       "19   250000000.0                               2200515.0   \n",
       "239  175000000.0                               2014019.0   \n",
       "102  100000000.0                               1320674.0   \n",
       "652   80000000.0                                528072.0   \n",
       "3    200000000.0                               2433265.0   \n",
       "108   75000000.0                                540388.0   \n",
       "80   175000000.0                               1843028.0   \n",
       "226  150000000.0                               1733637.0   \n",
       "27   160000000.0                                372675.0   \n",
       "\n",
       "     metacritic_before_wide_friday_calculated  top_5_trailer_views  \n",
       "468                                      79.0          538068656.0  \n",
       "623                                      72.0          197038432.0  \n",
       "346                                      70.0          542667265.0  \n",
       "37                                       80.0          191498815.0  \n",
       "294                                      83.0           65764078.0  \n",
       "96                                       62.0           92496312.0  \n",
       "318                                      86.0          158087866.0  \n",
       "496                                      59.0           49977186.0  \n",
       "647                                      64.0           80431609.0  \n",
       "360                                      80.0          337879237.0  \n",
       "669                                      69.0           48494846.0  \n",
       "87                                       77.0          158290980.0  \n",
       "549                                      57.0           62680974.0  \n",
       "201                                      68.0           15845005.0  \n",
       "74                                       48.0          183180035.0  \n",
       "33                                       81.0          111528091.0  \n",
       "170                                      68.0          118052687.0  \n",
       "89                                       75.0          112778679.0  \n",
       "454                                      66.0          124194021.0  \n",
       "362                                      55.0          154039630.0  \n",
       "218                                      68.0           48327507.0  \n",
       "13                                       51.0           62046017.0  \n",
       "649                                      43.0          105716506.0  \n",
       "653                                      63.0           65518121.0  \n",
       "101                                      78.0           45205238.0  \n",
       "673                                      72.0          125927335.0  \n",
       "636                                      74.0          145520768.0  \n",
       "119                                      47.0          182346190.0  \n",
       "58                                       67.0          134042442.0  \n",
       "539                                      65.0          237034175.0  \n",
       "648                                      79.0          145354138.0  \n",
       "352                                      68.0           88719820.0  \n",
       "257                                      72.0          204007513.0  \n",
       "279                                      74.0          139917675.0  \n",
       "490                                      83.0          149979330.0  \n",
       "23                                       85.0          151891677.0  \n",
       "19                                       67.0           56409773.0  \n",
       "239                                      75.0           95078092.0  \n",
       "102                                      64.0           48251920.0  \n",
       "652                                      61.0           87411069.0  \n",
       "3                                        54.0           63966028.0  \n",
       "108                                      64.0           64466316.0  \n",
       "80                                       78.0           25587638.0  \n",
       "226                                      76.0           88725095.0  \n",
       "27                                       67.0           37846008.0  "
      ]
     },
     "execution_count": 13,
     "metadata": {},
     "output_type": "execute_result"
    },
    {
     "data": {
      "image/png": "[encoded data removed]",
      "text/plain": [
       "<Figure size 640x480 with 2 Axes>"
      ]
     },
     "metadata": {},
     "output_type": "display_data"
    }
   ],
   "source": [
    "# create a heatmap with the big movies and their various features\n",
    "all_big_movies = pd.concat([X_train, X_test]).query('opening_wide_revenue > 100000000')\n",
    "\n",
    "# add actual and predicted values\n",
    "all_big_movies['actual'] = all_big_movies['opening_wide_revenue']\n",
    "all_big_movies['predicted'] = model_simple_glm.predict(all_big_movies)\n",
    "\n",
    "relevant_features = ['actual', 'predicted', 'budget', 'wikipedia_pre_release_cumulative_views', 'metacritic_before_wide_friday_calculated', 'top_5_trailer_views']\n",
    "\n",
    "sns.heatmap(all_big_movies[relevant_features].corr())\n",
    "\n",
    "display_features = ['title', 'actual', 'predicted', 'budget', 'wikipedia_pre_release_cumulative_views', 'metacritic_before_wide_friday_calculated', 'top_5_trailer_views']\n",
    "\n",
    "# create a table of the big movies and their values\n",
    "all_big_movies[display_features].sort_values('actual', ascending=False)"
   ]
  }
 ],
 "metadata": {
  "kernelspec": {
   "display_name": "stat413class_kernel",
   "language": "python",
   "name": "stat413class_kernel"
  },
  "language_info": {
   "codemirror_mode": {
    "name": "ipython",
    "version": 3
   },
   "file_extension": ".py",
   "mimetype": "text/x-python",
   "name": "python",
   "nbconvert_exporter": "python",
   "pygments_lexer": "ipython3",
   "version": "3.12.5"
  }
 },
 "nbformat": 4,
 "nbformat_minor": 2
}
