{
 "cells": [
  {
   "cell_type": "code",
   "execution_count": 8,
   "metadata": {},
   "outputs": [
    {
     "name": "stdout",
     "output_type": "stream",
     "text": [
      "['/Users/goodmanwu/Desktop/stat413model/stat413-boxoffice/boxoffice/modeling', '/Users/goodmanwu/.vscode/extensions/ms-toolsai.jupyter-2022.4.1021342353/pythonFiles', '/Users/goodmanwu/.vscode/extensions/ms-toolsai.jupyter-2022.4.1021342353/pythonFiles/lib/python', '/Library/Frameworks/Python.framework/Versions/3.12/lib/python312.zip', '/Library/Frameworks/Python.framework/Versions/3.12/lib/python3.12', '/Library/Frameworks/Python.framework/Versions/3.12/lib/python3.12/lib-dynload', '', '/Users/goodmanwu/Desktop/stat413model/stat413-boxoffice/venv/lib/python3.12/site-packages', '/Users/goodmanwu/Desktop/stat413model/stat413-boxoffice']\n"
     ]
    }
   ],
   "source": [
    "import sys\n",
    "import os\n",
    "\n",
    "# Add the project root to sys.path\n",
    "sys.path.append(\"/Users/goodmanwu/Desktop/stat413model/stat413-boxoffice\")\n",
    "import sys\n",
    "print(sys.path)"
   ]
  },
  {
   "cell_type": "code",
   "execution_count": 9,
   "metadata": {},
   "outputs": [
    {
     "name": "stdout",
     "output_type": "stream",
     "text": [
      "MOVIES_DB_PATH: boxoffice/db/data/data.sqlite\n",
      "MOVIES_DB_PATH: ../boxoffice/db/data/data.sqlite\n",
      "movies.csv exists, 1732658019.9106991, 1732655031.5551286\n",
      "Reading from movies.csv\n",
      "Index([], dtype='object')\n"
     ]
    }
   ],
   "source": [
    "# imports\n",
    "from boxoffice.modeling.cleaned_data import X_train, y_train, X_test, y_test\n",
    "from sklearn.metrics import root_mean_squared_error\n",
    "import pandas as pd\n",
    "import plotly.express as px\n",
    "import plotly.graph_objects as go\n",
    "import statsmodels.formula.api as smf"
   ]
  },
  {
   "cell_type": "code",
   "execution_count": 10,
   "metadata": {},
   "outputs": [
    {
     "name": "stderr",
     "output_type": "stream",
     "text": [
      "/var/folders/pp/mkrvmf_d5p7d78r3bqvkxswr0000gn/T/ipykernel_50226/3335510034.py:2: PerformanceWarning: DataFrame is highly fragmented.  This is usually the result of calling `frame.insert` many times, which has poor performance.  Consider joining all columns at once using pd.concat(axis=1) instead. To get a de-fragmented frame, use `newframe = frame.copy()`\n",
      "  X_test['opening_wide_revenue'] = y_test\n"
     ]
    }
   ],
   "source": [
    "X_train['opening_wide_revenue'] = y_train\n",
    "X_test['opening_wide_revenue'] = y_test\n",
    "X_train['production_method'] = X_train['production_method'].replace('Stop-Motion Animation', 'Digital Animation')\n",
    "X_test['production_method'] = X_test['production_method'].replace('Stop-Motion Animation', 'Digital Animation')"
   ]
  },
  {
   "cell_type": "code",
   "execution_count": 11,
   "metadata": {},
   "outputs": [
    {
     "name": "stdout",
     "output_type": "stream",
     "text": [
      "RMSE: 22323753.63116176\n",
      "                  Generalized Linear Model Regression Results                   \n",
      "================================================================================\n",
      "Dep. Variable:     opening_wide_revenue   No. Observations:                  677\n",
      "Model:                              GLM   Df Residuals:                      672\n",
      "Model Family:                  Gaussian   Df Model:                            4\n",
      "Link Function:                 Identity   Scale:                      3.6368e+14\n",
      "Method:                            IRLS   Log-Likelihood:                -12307.\n",
      "Date:                  Tue, 26 Nov 2024   Deviance:                   2.4439e+17\n",
      "Time:                          16:55:02   Pearson chi2:                 2.44e+17\n",
      "No. Iterations:                       3   Pseudo R-squ. (CS):             0.9577\n",
      "Covariance Type:              nonrobust                                         \n",
      "================================================================================================================================================================\n",
      "                                                                                                   coef    std err          z      P>|z|      [0.025      0.975]\n",
      "----------------------------------------------------------------------------------------------------------------------------------------------------------------\n",
      "budget                                                                                           0.1720      0.014     11.999      0.000       0.144       0.200\n",
      "wikipedia_pre_release_cumulative_views                                                          11.0957      1.778      6.240      0.000       7.610      14.581\n",
      "wikipedia_pre_release_cumulative_views:in_franchise:production_method[Animation/Live Action]    20.1711      1.780     11.329      0.000      16.681      23.661\n",
      "wikipedia_pre_release_cumulative_views:in_franchise:production_method[Digital Animation]        42.6899      4.800      8.894      0.000      33.283      52.097\n",
      "wikipedia_pre_release_cumulative_views:in_franchise:production_method[Live Action]              10.3238      1.819      5.674      0.000       6.758      13.890\n",
      "================================================================================================================================================================\n"
     ]
    },
    {
     "data": {
      "application/vnd.plotly.v1+json": {
       "config": {
        "plotlyServerURL": "https://plot.ly"
       },
       "data": [
        {
         "hovertemplate": "<b>%{hovertext}</b><br><br>production_method=Live Action<br>actual=%{x}<br>predicted=%{y}<extra></extra>",
         "hovertext": [
          "The Transporter Refueled",
          "The Perfect Guy",
          "The Visit",
          "Maze Runner: The Scorch Trials",
          "Black Mass",
          "Everest",
          "Sicario",
          "The Intern",
          "The Green Inferno",
          "The Walk",
          "The Martian",
          "Pan",
          "Steve Jobs",
          "Crimson Peak",
          "Woodlawn",
          "Bridge of Spies",
          "Paranormal Activity: The Ghost Dimension",
          "The Last Witch Hunter",
          "Burnt",
          "Our Brand is Crisis",
          "Spectre",
          "Spotlight",
          "Love the Coopers",
          "The 33",
          "The Hunger Games: Mockingjay - Part 2",
          "The Night Before",
          "Secret in Their Eyes",
          "Creed",
          "Krampus",
          "In the Heart of the Sea",
          "The Big Short",
          "Sisters",
          "Daddy’s Home",
          "Joy",
          "Concussion",
          "Point Break",
          "The Hateful Eight",
          "The Revenant",
          "The Forest",
          "Ride Along 2",
          "13 Hours: The Secret Soldiers of Benghazi",
          "The Boy",
          "Dirty Grandpa",
          "The 5th Wave",
          "Fifty Shades of Black",
          "The Finest Hours",
          "Pride and Prejudice and Zombies",
          "Hail, Caesar!",
          "Zoolander 2",
          "How to be Single",
          "Risen",
          "The Witch",
          "Race",
          "Triple 9",
          "Gods of Egypt",
          "Eddie the Eagle",
          "London Has Fallen",
          "Whiskey Tango Foxtrot",
          "10 Cloverfield Lane",
          "The Brothers Grimsby",
          "Eye in the Sky",
          "The Young Messiah",
          "Miracles from Heaven",
          "The Divergent Series: Allegiant",
          "Batman v Superman: Dawn of Justice",
          "My Big Fat Greek Wedding 2",
          "God’s Not Dead 2",
          "Meet the Blacks",
          "The Boss",
          "Hardcore Henry",
          "Barbershop: The Next Cut",
          "Criminal",
          "The Huntsman: Winter’s War",
          "Mother’s Day",
          "Captain America: Civil War",
          "Money Monster",
          "The Nice Guys",
          "Neighbors 2: Sorority Rising",
          "X-Men: Apocalypse",
          "Me Before You",
          "Popstar: Never Stop Never Stopping",
          "The Conjuring 2: The Enfield Poltergeist",
          "Warcraft",
          "Now You See Me 2",
          "Central Intelligence",
          "Independence Day: Resurgence",
          "The Shallows",
          "Free State of Jones",
          "The Purge: Election Year",
          "The Legend of Tarzan",
          "Mike and Dave Need Wedding Dates",
          "The Infiltrator",
          "Hillary’s America: The Secret History of the Democratic Party",
          "Star Trek Beyond",
          "Lights Out",
          "Nerve",
          "Jason Bourne",
          "Bad Moms",
          "Nine Lives",
          "Florence Foster Jenkins",
          "Hell or High Water",
          "Ben-Hur",
          "War Dogs",
          "Mechanic: Resurrection",
          "Don’t Breathe",
          "The Light Between Oceans",
          "When the Bough Breaks",
          "Sully",
          "Blair Witch",
          "Snowden",
          "Bridget Jones’s Baby",
          "The Magnificent Seven",
          "Queen of Katwe",
          "Deepwater Horizon",
          "Masterminds",
          "The Birth of a Nation",
          "The Girl on the Train",
          "Kevin Hart: What Now?",
          "The Accountant",
          "Jack Reacher: Never Go Back",
          "Tyler Perry’s Boo! A Madea Halloween",
          "Ouija: Origin of Evil",
          "Keeping Up with the Joneses",
          "Moonlight",
          "Inferno",
          "Hacksaw Ridge",
          "Almost Christmas",
          "Shut In",
          "Arrival",
          "Nocturnal Animals",
          "Manchester by the Sea",
          "The Edge of Seventeen",
          "Allied",
          "Bad Santa 2",
          "Lion",
          "Incarnate",
          "Office Christmas Party",
          "La La Land",
          "Collateral Beauty",
          "Assassin’s Creed",
          "Passengers",
          "Patriots Day",
          "Why Him?",
          "Live by Night",
          "Hidden Figures",
          "Underworld: Blood Wars",
          "The Bye Bye Man",
          "Sleepless",
          "Split",
          "xXx: Return of Xander Cage",
          "The Founder",
          "Resident Evil: The Final Chapter",
          "A Dog’s Purpose",
          "The Space Between Us",
          "Rings",
          "Fifty Shades Darker",
          "John Wick: Chapter Two",
          "The Great Wall",
          "Fist Fight",
          "Get Out",
          "The Shack",
          "Before I Fall",
          "Logan",
          "Kong: Skull Island",
          "The Belko Experiment",
          "Life",
          "CHiPS",
          "The Zookeeper’s Wife",
          "Ghost in the Shell",
          "The Case for Christ",
          "Gifted",
          "Going in Style",
          "The Fate of the Furious",
          "The Promise",
          "Unforgettable",
          "How to Be a Latin Lover",
          "The Circle",
          "King Arthur: Legend of the Sword",
          "Snatched",
          "Alien: Covenant",
          "Everything, Everything",
          "Diary of a Wimpy Kid: The Long Haul",
          "Baywatch",
          "Wonder Woman",
          "The Mummy",
          "It Comes at Night",
          "47 Meters Down",
          "Rough Night",
          "All Eyez on Me",
          "The Big Sick",
          "Baby Driver",
          "The House",
          "Spider-Man: Homecoming",
          "Dunkirk",
          "Girls Trip",
          "Detroit",
          "Atomic Blonde",
          "The Dark Tower",
          "Kidnap",
          "Wind River",
          "Annabelle: Creation",
          "The Hitman’s Bodyguard",
          "Logan Lucky",
          "Birth of the Dragon",
          "Home Again",
          "It",
          "American Assassin",
          "mother!",
          "Kingsman: The Golden Circle",
          "Battle of the Sexes",
          "Victoria and Abdul",
          "American Made",
          "Flatliners",
          "Blade Runner 2049",
          "Happy Death Day",
          "The Foreigner",
          "Geostorm",
          "Same Kind of Different as Me",
          "Only the Brave",
          "Tyler Perry’s Boo 2! A Madea Halloween",
          "The Snowman",
          "Jigsaw",
          "Thank You for Your Service",
          "Suburbicon",
          "A Bad Moms Christmas",
          "Thor: Ragnarok",
          "Lady Bird",
          "Three Billboards Outside Ebbing, Missouri",
          "Murder on the Orient Express",
          "Daddy’s Home 2",
          "Justice League",
          "Wonder",
          "Roman J. Israel, Esq.",
          "Darkest Hour",
          "The Shape of Water",
          "The Disaster Artist",
          "Just Getting Started",
          "I, Tonya",
          "Jumanji: Welcome to the Jungle",
          "The Greatest Showman",
          "The Post",
          "Pitch Perfect 3",
          "Downsizing",
          "Father Figures",
          "Hostiles",
          "All the Money in the World",
          "Molly’s Game",
          "Phantom Thread",
          "Insidious: The Last Key",
          "Proud Mary",
          "The Commuter",
          "Den of Thieves",
          "12 Strong",
          "Forever My Girl",
          "Maze Runner: The Death Cure",
          "Winchester",
          "Fifty Shades Freed",
          "The 15:17 to Paris",
          "Black Panther",
          "Game Night",
          "Annihilation",
          "Every Day",
          "Red Sparrow",
          "Death Wish",
          "A Wrinkle in Time",
          "The Strangers: Prey at Night",
          "The Hurricane Heist",
          "Tomb Raider",
          "I Can Only Imagine",
          "Love, Simon",
          "Pacific Rim: Uprising",
          "Paul, Apostle of Christ",
          "Midnight Sun",
          "Unsane",
          "Acrimony",
          "A Quiet Place",
          "Blockers",
          "Chappaquiddick",
          "Rampage",
          "I Feel Pretty",
          "Super Troopers 2",
          "Traffik",
          "Overboard",
          "Life of the Party",
          "Breaking In",
          "Book Club",
          "Adrift",
          "Upgrade",
          "Ocean’s 8",
          "Hereditary",
          "Hotel Artemis",
          "Superfly",
          "Tag",
          "Jurassic World: Fallen Kingdom",
          "Sicario: Day of the Soldado",
          "Uncle Drew",
          "The First Purge",
          "Sorry to Bother You",
          "Skyscraper",
          "Eighth Grade",
          "Mamma Mia: Here We Go Again!",
          "The Equalizer 2",
          "Unfriended: Dark Web",
          "Mission: Impossible—Fallout",
          "The Spy Who Dumped Me",
          "The Darkest Minds",
          "Dog Days",
          "Slender Man",
          "The Meg",
          "BlacKkKlansman",
          "Crazy Rich Asians",
          "Mile 22",
          "Alpha",
          "The Happytime Murders",
          "A.X.L.",
          "Searching",
          "Operation Finale",
          "Kin",
          "The Nun",
          "Peppermint",
          "The Predator",
          "A Simple Favor",
          "White Boy Rick",
          "The House with a Clock in its Walls",
          "Fahrenheit 11/9",
          "Hell Fest",
          "Night School",
          "A Star is Born",
          "The Hate U Give",
          "First Man",
          "Bad Times at the El Royale",
          "Halloween",
          "Mid90s",
          "Hunter Killer",
          "Nobody’s Fool",
          "Bohemian Rhapsody",
          "The Nutcracker and the Four Realms",
          "The Girl in the Spider’s Web",
          "Overlord",
          "Instant Family",
          "Widows",
          "Green Book",
          "Creed II",
          "Robin Hood",
          "The Favourite",
          "The Possession of Hannah Grace",
          "Mortal Engines",
          "The Mule",
          "If Beale Street Could Talk",
          "Second Act",
          "Holmes & Watson",
          "Vice",
          "On the Basis of Sex",
          "Escape Room",
          "The Upside",
          "A Dog’s Way Home",
          "Glass",
          "The Kid Who Would Be King",
          "Serenity",
          "Miss Bala",
          "What Men Want",
          "Cold Pursuit",
          "The Prodigy",
          "Isn’t it Romantic",
          "Happy Death Day 2U",
          "Fighting With My Family",
          "Tyler Perry’s A Madea Family Funeral",
          "Five Feet Apart",
          "Captive State",
          "Us",
          "Unplanned",
          "Shazam!",
          "Pet Sematary",
          "The Best of Enemies",
          "After",
          "Hellboy",
          "Breakthrough",
          "The Curse of La Llorona",
          "The Intruder",
          "Long Shot",
          "Poms",
          "The Hustle",
          "John Wick: Chapter 3 — Parabellum",
          "A Dog’s Journey",
          "The Sun is Also a Star",
          "BrightBurn",
          "Booksmart",
          "Godzilla: King of the Monsters",
          "Rocketman",
          "MA",
          "Dark Phoenix",
          "Late Night",
          "Shaft",
          "Anna",
          "Annabelle Comes Home",
          "Spider-Man: Far From Home",
          "Midsommar",
          "Crawl",
          "Stuber",
          "Once Upon a Time…in Hollywood",
          "Fast & Furious Presents: Hobbs & Shaw",
          "Scary Stories to Tell in the Dark",
          "Dora and the Lost City of Gold",
          "The Art of Racing in the Rain",
          "The Kitchen",
          "The Peanut Butter Falcon",
          "47 Meters Down: Uncaged",
          "Where’d You Go Bernadette",
          "Good Boys",
          "Blinded by the Light",
          "Ready or Not",
          "Angel Has Fallen",
          "Overcomer",
          "It: Chapter Two",
          "Hustlers",
          "The Goldfinch",
          "Ad Astra",
          "Rambo: Last Blood",
          "Joker",
          "Parasite (기생충)",
          "Jexi",
          "Zombieland: Double Tap",
          "Maleficent: Mistress of Evil",
          "Jojo Rabbit",
          "Black and Blue",
          "Countdown",
          "The Current War: Director’s Cut",
          "Harriet",
          "Motherless Brooklyn",
          "Midway",
          "Doctor Sleep",
          "Last Christmas",
          "Charlie’s Angels",
          "The Good Liar",
          "Ford v. Ferrari",
          "A Beautiful Day in the Neighborhood",
          "21 Bridges",
          "Knives Out",
          "Queen & Slim",
          "Jumanji: The Next Level",
          "Black Christmas",
          "Richard Jewell",
          "Bombshell",
          "Little Women",
          "1917",
          "Just Mercy",
          "The Grudge",
          "Underwater",
          "Like a Boss",
          "Bad Boys For Life",
          "The Gentlemen",
          "The Turning",
          "Gretel & Hansel",
          "The Rhythm Section",
          "Birds of Prey (And the Fantabulous Emancipation of One Harley Quinn)",
          "The Photograph",
          "The Call of the Wild",
          "Brahms: The Boy II",
          "Impractical Jokers: The Movie",
          "Emma.",
          "The Invisible Man",
          "The Way Back",
          "Bloodshot",
          "I Still Believe",
          "The Hunt",
          "Unhinged",
          "The New Mutants",
          "The War with Grandpa",
          "Honest Thief",
          "Come Play",
          "Freaky",
          "News of the World",
          "The Marksman",
          "Chaos Walking",
          "Nobody",
          "The Unholy",
          "Wrath of Man",
          "Spiral",
          "A Quiet Place: Part II",
          "The Hitman’s Wife’s Bodyguard",
          "F9: The Fast Saga",
          "The Forever Purge",
          "Black Widow",
          "Escape Room: Tournament of Champions",
          "Old",
          "Snake Eyes: G.I. Joe Origins",
          "The Green Knight",
          "Don’t Breathe 2",
          "Shang-Chi and the Legend of the Ten Rings",
          "No Time to Die",
          "Halloween Kills",
          "The Last Duel",
          "Dune",
          "Last Night in Soho",
          "Eternals",
          "King Richard",
          "Ghostbusters: Afterlife",
          "Resident Evil: Welcome to Raccoon City",
          "House of Gucci",
          "Licorice Pizza",
          "West Side Story",
          "Nightmare Alley",
          "The Matrix Resurrections",
          "The King’s Man",
          "The 355",
          "Scream",
          "jackass forever",
          "Moonfall",
          "Blacklight",
          "Marry Me",
          "Death on the Nile",
          "Uncharted",
          "Dog",
          "The Batman",
          "X",
          "Everything Everywhere All At Once",
          "The Lost City",
          "Morbius",
          "Ambulance",
          "Father Stu",
          "The Unbearable Weight of Massive Talent",
          "Top Gun: Maverick",
          "Elvis",
          "Where the Crawdads Sing",
          "Nope",
          "Bullet Train",
          "Beast",
          "Three Thousand Years of Longing",
          "Barbarian",
          "The Woman King",
          "Smile",
          "Amsterdam",
          "Halloween Ends",
          "Black Adam",
          "Ticket to Paradise",
          "The Menu",
          "Violent Night",
          "Babylon",
          "A Man Called Otto"
         ],
         "legendgroup": "Live Action",
         "marker": {
          "color": "#636efa",
          "symbol": "circle"
         },
         "mode": "markers",
         "name": "Live Action",
         "orientation": "v",
         "showlegend": true,
         "type": "scatter",
         "x": [
          7355622,
          25888154,
          25427560,
          30316510,
          22635037,
          13242895,
          12148041,
          17728313,
          3520626,
          3719177,
          54308575,
          15315435,
          7105735,
          13143310,
          4002226,
          15371203,
          8070493,
          10812861,
          5002521,
          3238433,
          70403148,
          4408252,
          8317545,
          5787266,
          102665981,
          9880536,
          6652996,
          29632823,
          16293325,
          11053366,
          10531026,
          13922855,
          38740203,
          17015168,
          10513749,
          9800252,
          15706645,
          39826840,
          12741176,
          35243095,
          16194738,
          10778392,
          11111875,
          10326356,
          5900528,
          10288932,
          5324240,
          11355225,
          13841146,
          17878911,
          11801271,
          8800230,
          7353922,
          6109085,
          14123903,
          6084682,
          21635601,
          7450275,
          24727437,
          3258327,
          3961556,
          3294876,
          14812393,
          29027348,
          166007347,
          17861950,
          7623662,
          4055940,
          23586645,
          5107604,
          20242415,
          5767278,
          19445035,
          8369184,
          179139142,
          14788157,
          11203270,
          21760405,
          65769562,
          18723269,
          4698715,
          40406314,
          24166110,
          22383146,
          35535250,
          41039944,
          16800868,
          7572206,
          31515110,
          38527856,
          16628170,
          5303775,
          3964646,
          59253211,
          21688103,
          9445456,
          59215365,
          23817340,
          6249915,
          6601313,
          3551931,
          11203815,
          14685305,
          7456525,
          26411706,
          4765838,
          14202323,
          35028301,
          9576057,
          8000058,
          8571785,
          34703397,
          2495427,
          20223544,
          6541205,
          7004254,
          24536265,
          11767210,
          24710273,
          22872490,
          28501448,
          14065500,
          5461475,
          1489470,
          14860425,
          15190758,
          15134235,
          3613567,
          24074047,
          3161381,
          4223828,
          4754215,
          12701743,
          6176680,
          3760097,
          2534884,
          16890204,
          9553414,
          7102085,
          10278225,
          14869736,
          11613765,
          11002986,
          5106046,
          22800057,
          13688751,
          13501349,
          8344128,
          40010975,
          20130142,
          3404102,
          13601682,
          18222810,
          3775596,
          13002632,
          46607250,
          30436123,
          18469620,
          12201873,
          33377060,
          16172119,
          4690214,
          88411916,
          61025472,
          4137230,
          12501936,
          7722802,
          2684185,
          18676033,
          3967885,
          3090633,
          11932330,
          98786705,
          4095718,
          4785431,
          12252439,
          9034148,
          15371270,
          19542248,
          36160621,
          11727390,
          7126084,
          18503871,
          103251471,
          31668375,
          5988370,
          11205562,
          8004283,
          26435354,
          7563040,
          20553320,
          8724795,
          117027503,
          50513488,
          31201920,
          7125601,
          18286420,
          19153698,
          10016323,
          4600976,
          35006404,
          21384504,
          7600036,
          2702430,
          8567881,
          123403419,
          14846778,
          7534673,
          39023010,
          3408594,
          3006155,
          16776390,
          6574326,
          32753122,
          26039025,
          13113024,
          13707376,
          2591985,
          6002665,
          21226953,
          3372565,
          16640452,
          3817700,
          2840246,
          16759161,
          122744989,
          4057559,
          4396537,
          28681472,
          29651193,
          93842239,
          27547866,
          4447070,
          3891945,
          3530022,
          6366243,
          3201459,
          2861168,
          36169328,
          8805843,
          19361968,
          19928525,
          4954287,
          3287451,
          10110739,
          5584684,
          6856578,
          3246720,
          29581355,
          9959053,
          13701452,
          15206108,
          15815025,
          4245630,
          24167011,
          9307626,
          38560195,
          12554286,
          202003951,
          17005332,
          11071584,
          3016149,
          16853422,
          13010267,
          33123609,
          10402271,
          3024399,
          23633317,
          17108914,
          11756244,
          28116535,
          5172585,
          4003993,
          3762145,
          17170707,
          50203562,
          20556350,
          5765854,
          35753093,
          16030218,
          15181624,
          3941338,
          14711101,
          17886075,
          17630285,
          13582231,
          11603039,
          4670905,
          41607378,
          13575173,
          3232790,
          6870740,
          14947396,
          148024610,
          19007566,
          15242781,
          17374280,
          4208881,
          24905015,
          2850892,
          34952180,
          36011640,
          3653035,
          61236534,
          12103043,
          5842609,
          2554766,
          11371866,
          45402195,
          10845330,
          26510140,
          13710825,
          10352512,
          9532425,
          2798229,
          6066463,
          6022758,
          3035618,
          53807379,
          13423255,
          24632284,
          16011689,
          8860431,
          26608020,
          3008563,
          5130963,
          27257615,
          42908051,
          7602108,
          16006065,
          7132647,
          76221545,
          2980506,
          6653777,
          13743111,
          51061119,
          20352491,
          7810112,
          10202108,
          14504315,
          12361307,
          5501520,
          35574710,
          9195670,
          2085123,
          6401744,
          7559850,
          17509431,
          2406742,
          6489983,
          7411522,
          7768371,
          6070615,
          18238172,
          20355000,
          11251263,
          40328920,
          7173887,
          4415403,
          6864744,
          18232087,
          11030233,
          5853061,
          14247758,
          9497665,
          7813113,
          27062332,
          13190286,
          3131525,
          71117625,
          6382298,
          53505326,
          24502775,
          4446190,
          6002349,
          12045147,
          11282333,
          26347631,
          10855054,
          9740064,
          5361937,
          13007709,
          56818067,
          8030085,
          2511530,
          7845658,
          6933620,
          47776293,
          25725722,
          18099805,
          32828348,
          5255643,
          8901419,
          3600647,
          20269723,
          92579212,
          6560030,
          12005210,
          8225384,
          41082018,
          60038950,
          20915346,
          17431588,
          8137584,
          5527410,
          2974391,
          8427265,
          3462308,
          21402605,
          4333305,
          8015590,
          21380987,
          8146533,
          91062152,
          33181361,
          2679027,
          19001398,
          18872919,
          96202337,
          1711988,
          3106730,
          26803104,
          36948713,
          3952157,
          8376846,
          8865082,
          2633717,
          11676720,
          3500454,
          17897419,
          14114124,
          11441055,
          8351109,
          5605051,
          31474958,
          13251238,
          9261268,
          26769548,
          11890490,
          59251543,
          4240245,
          4705265,
          5109146,
          16755310,
          37000200,
          9713228,
          11404113,
          7008297,
          10011272,
          62504105,
          10651884,
          6950045,
          6154007,
          2715384,
          33010017,
          12181865,
          24791624,
          5823006,
          3600000,
          4805785,
          28205665,
          8170315,
          9176695,
          9103614,
          5304455,
          4020761,
          7037017,
          3623880,
          3607966,
          3119875,
          3600355,
          2250430,
          3104204,
          3775350,
          6820100,
          3153456,
          8309007,
          8750034,
          47547231,
          11397820,
          70043165,
          12551220,
          80366312,
          8801391,
          16854735,
          13367853,
          6745121,
          10622473,
          75388688,
          55225007,
          49404980,
          4759151,
          41000000,
          4178460,
          71297219,
          5406033,
          44008406,
          5319280,
          14423794,
          1911827,
          10574618,
          2811703,
          10749011,
          5915542,
          4621765,
          30018805,
          23154388,
          9868997,
          3502475,
          7949980,
          12891123,
          44010155,
          14883928,
          134008624,
          4275126,
          6059263,
          30453269,
          39005895,
          8699630,
          5402642,
          7131703,
          126707459,
          31211579,
          17253227,
          44366910,
          30030156,
          11575855,
          2919717,
          10543948,
          19051442,
          22609925,
          6444896,
          40050355,
          67004323,
          16509095,
          9004957,
          13450240,
          3603368,
          12828785
         ],
         "xaxis": "x",
         "y": [
          8953069.706648037,
          5605511.635428765,
          15560300.891092535,
          27789280.3392454,
          21446702.307778742,
          20916773.00248587,
          10611921.549296,
          10382090.335822504,
          6243311.01710707,
          12111440.434800863,
          30371790.780160442,
          31885701.349665962,
          9205421.024017844,
          21096208.05155933,
          4183319.094283289,
          12696096.868858546,
          7764332.658893676,
          17762152.479052506,
          6571598.885756742,
          7407090.311609304,
          104114126.17960139,
          5576370.806252221,
          4235937.104658024,
          8102762.21645363,
          35503084.29041123,
          6765243.139405935,
          6586788.887884416,
          25333539.49723408,
          10385918.246829262,
          26026288.197939523,
          9989046.706866816,
          7635480.490017353,
          13431943.580708493,
          53613233.699091755,
          14732886.397313591,
          21959672.756156534,
          25698777.39351119,
          46459253.40681521,
          9885733.314742347,
          9287372.979411928,
          16491637.94266927,
          14586305.609248918,
          5310688.424704558,
          12280156.21129486,
          4252281.892999895,
          20558939.180350084,
          8740215.49468873,
          9713995.133398023,
          21714124.698161446,
          9717308.368587796,
          6880414.181021471,
          4783812.571663622,
          3526923.230405,
          7408857.60054856,
          31042579.630235296,
          8284158.129045759,
          24496481.211519953,
          9154316.507081043,
          60789908.522252835,
          12960660.30539519,
          3678098.9577753525,
          4044656.1602120297,
          7225169.724886175,
          30929419.91526019,
          124017772.09240045,
          12371189.114197742,
          2829538.5635053036,
          593626.7958599746,
          7732059.162988119,
          6488279.93032626,
          7202338.67090313,
          8713013.754778644,
          36879282.73444661,
          8747330.14778905,
          167342224.40040907,
          7593621.758319334,
          11736656.874882817,
          16373485.800199896,
          105822938.24397826,
          10337387.930399122,
          6302250.966363551,
          27044585.546208803,
          43743582.9318829,
          29239553.42454734,
          10837018.180571802,
          54676750.089495756,
          9627409.199426426,
          14857242.534775676,
          14414307.258286726,
          37429777.076322496,
          11599854.913584478,
          10003847.108385721,
          860018.2184276424,
          60588158.67146484,
          7041516.907502892,
          7425878.391829679,
          41152065.2441328,
          9333340.406753391,
          6662943.10032371,
          7465740.367466992,
          3196481.1290126834,
          22969822.30151068,
          17038932.942630924,
          13290800.598956084,
          2691238.0843431726,
          7912080.512525465,
          4250930.458269441,
          20376033.31672719,
          14652556.032602103,
          9348908.37388438,
          18273135.831349954,
          23775045.51428922,
          4464014.364020667,
          32295321.47375888,
          7022563.328845585,
          7060315.249152172,
          17488772.241496198,
          2707586.297607176,
          11791176.625232138,
          17779613.604648083,
          5740052.815132529,
          6430922.466531682,
          8948826.533895556,
          1636401.0713110857,
          38700497.149102345,
          21817787.45990721,
          3975966.816072426,
          3296146.175518295,
          16348364.58756224,
          10175186.679086775,
          3247660.658986979,
          4331997.354049201,
          23823971.367425784,
          7749188.098689449,
          4027126.8114684215,
          1913631.828389299,
          7740163.965848781,
          9736449.739743434,
          11836964.534574442,
          28956405.314400785,
          33134348.209075168,
          9093825.034848398,
          9658210.942649376,
          14451923.630916536,
          9445551.747124877,
          23890906.130261302,
          4531997.814235633,
          6512563.188828925,
          33988956.63437048,
          57416562.416995674,
          6828262.189703975,
          22208004.768834457,
          13089742.313077625,
          8779623.849693902,
          18160866.296309505,
          25897802.20909263,
          20494297.16417292,
          41338099.035977826,
          6455551.284485921,
          18760098.695024446,
          5617546.918666974,
          2812149.8578245696,
          81254042.59706731,
          56731540.1051579,
          4662534.003057313,
          19935393.649129756,
          6625370.84808274,
          6279682.329162902,
          31208413.498110265,
          1356786.9801613858,
          3210803.427502999,
          5987148.424703572,
          81947849.09836234,
          15542641.337065725,
          2348714.794049275,
          2856213.0897913896,
          9656415.57756764,
          36160105.91519675,
          9411779.63778134,
          69664086.58908083,
          5474629.928432054,
          9224347.305021157,
          18020495.609137543,
          62934133.746732496,
          69317331.39500259,
          5620402.888139717,
          7857182.60871941,
          6404941.594334055,
          11989514.356529253,
          3191278.5522734234,
          11984185.716302268,
          8800221.933095021,
          73239858.91601661,
          45131827.03267096,
          6498297.6715310635,
          15102841.194285454,
          11248193.370048055,
          25062265.451541714,
          6434387.789271336,
          1934000.8239449149,
          15065699.830590863,
          9902016.026763003,
          8548480.168506183,
          7589664.607210286,
          5541827.677883314,
          54572070.504463166,
          14573891.018018657,
          25008437.934415914,
          40503848.79197101,
          6602314.000441173,
          6534626.269345406,
          18726387.948898904,
          12962141.48105113,
          60100737.19269825,
          10991834.90258523,
          10405721.919765789,
          21963167.89908584,
          1891881.6155793623,
          9611531.367082447,
          5260963.5105283735,
          20070936.27858653,
          18243894.4523752,
          5383339.055328088,
          7895161.82214481,
          7882513.47073496,
          84900409.69868149,
          3118426.4793320643,
          4048019.9992013723,
          26816783.186637077,
          17345258.24347992,
          106953204.0101535,
          33091324.83081217,
          8012936.8089353535,
          6756712.792055609,
          7131754.678161658,
          11255352.228280444,
          4249366.902660784,
          5893734.629373456,
          30603288.29491607,
          21678502.977136597,
          15888587.091216339,
          16070945.862670751,
          16681109.381924042,
          5509665.746589702,
          10395098.966005705,
          17646577.410505228,
          10162857.177118525,
          9725267.522043573,
          8790175.37653157,
          6976962.275060957,
          9663000.739116678,
          7181378.205811967,
          14225247.39998474,
          2023637.1740871218,
          21263710.02657569,
          3151014.943394852,
          22857222.643403076,
          17562529.681820538,
          109457938.88791208,
          9092376.812828237,
          16593653.973111503,
          3229146.1065021274,
          20800527.44996553,
          8977648.661945613,
          24479765.355800528,
          8303905.505045311,
          7854114.481362021,
          33185341.248021856,
          4881577.295761438,
          8846444.242944917,
          42194007.87393239,
          2038447.2658868893,
          3390012.9471739866,
          4566440.415251761,
          5301075.596033294,
          50507116.57348806,
          7728467.232769109,
          8676959.423984574,
          29059027.128546342,
          7764231.355710638,
          6185179.2752013635,
          1222538.4333970086,
          4193639.858897201,
          6759520.002090891,
          2482140.0199436503,
          4264948.0274992455,
          10442126.884689748,
          2312991.5114679313,
          31710697.600455727,
          10626659.232987443,
          6418742.395307935,
          5632788.388376346,
          10211060.404874574,
          84407066.3576674,
          16377234.207599446,
          6712040.5997709,
          10166713.549170483,
          2683059.1097202916,
          26593189.388058513,
          1725964.6102341884,
          39996760.68627918,
          19577332.672414534,
          5037586.3845969625,
          54674377.075221695,
          8722141.549623553,
          8846046.671920015,
          3811063.9466935694,
          4309094.074889795,
          46580001.87822161,
          6914364.758375084,
          20916657.621662527,
          9842482.410631407,
          12367877.916711539,
          10655332.843051204,
          2360191.281818034,
          3949849.328850903,
          6628231.296903306,
          6644768.357091328,
          35771403.86799514,
          6535096.299280144,
          38768808.38864837,
          15700024.561751716,
          16329432.16067024,
          10280098.73643786,
          2362707.76419159,
          2037813.9258502699,
          7032797.567598695,
          29829738.420794755,
          5895222.389020543,
          16565939.17457144,
          11456211.858239587,
          32676269.655771535,
          2585198.0353195807,
          9099295.210925054,
          4259369.4346185345,
          25946257.00702285,
          26968052.220886312,
          16637673.056565134,
          14323372.384998634,
          10388045.648403233,
          11990011.422988098,
          9152518.068062464,
          24488674.435837246,
          21151952.54424388,
          5708895.5099040475,
          3575354.154078913,
          26862614.874616858,
          15435483.419276468,
          3934555.454455141,
          5018069.838746535,
          9132789.562180007,
          18245693.770703115,
          6154223.341538646,
          5855616.898848801,
          6458280.876017189,
          12356642.460226392,
          46367155.70541603,
          12477367.12984254,
          6781254.2227297,
          4055371.1292799124,
          3463007.6687419075,
          12652200.174947029,
          3842405.265261418,
          8109575.439713138,
          9178269.476222178,
          7133256.55609857,
          5354395.2423960045,
          6283433.507267439,
          6223396.12413726,
          25620316.477224912,
          1975288.816735372,
          57439931.05969801,
          17425043.462619994,
          3554154.2978519658,
          20414864.672262575,
          31751245.90167098,
          7162133.328344887,
          13951619.975633835,
          2982674.232088332,
          10079510.819371326,
          2666687.577488399,
          5758937.548568535,
          34806887.15662956,
          8805843.346595421,
          4022194.5422107964,
          19191029.6322627,
          4290793.268169688,
          61671240.50225953,
          16996119.51296442,
          8955468.271281613,
          78691674.956005,
          1739642.0558645788,
          11231522.58270613,
          7132568.25741194,
          14861507.269201716,
          91727653.08175452,
          14012577.943031337,
          6283804.14444595,
          5457831.519458042,
          37388971.19037539,
          59376645.693426155,
          8554040.881321136,
          12559071.325197559,
          5027204.176776938,
          9353390.096446708,
          2614105.1670216136,
          6350593.909526199,
          4849902.57447342,
          8089922.261321925,
          5948251.774256257,
          8098246.63566774,
          19498013.31631433,
          1584877.5748897789,
          45376170.06937505,
          12386110.765689295,
          11526333.556725604,
          26926794.493210174,
          21298051.476811435,
          114293623.70357762,
          11023966.139917327,
          1885803.8332569355,
          21736283.265049253,
          46946954.46302374,
          8964384.362379786,
          3086700.3539570197,
          1767121.6565409673,
          25866700.793859072,
          4523761.122166837,
          8037306.959091427,
          23605629.87494643,
          39046648.37217895,
          11605030.819592237,
          25876838.337004367,
          4409044.066976051,
          27613022.983719483,
          11408177.77400536,
          8053816.045814689,
          26385444.16960114,
          6829840.017619032,
          43481116.45165023,
          3918112.941882913,
          24871523.816143643,
          15079587.69812763,
          15382238.268077664,
          26162055.083282262,
          8895427.345744263,
          1745289.992992822,
          15866824.062849836,
          6502523.35891816,
          29253690.27531136,
          7004538.143217867,
          5627880.081705985,
          3488964.8686235743,
          11099963.885773854,
          16536758.150870806,
          4282644.185219387,
          26170920.64373939,
          7192732.659668635,
          1713413.6115606255,
          3489588.4670404736,
          13137985.767608253,
          7476236.423476417,
          13800597.561268043,
          12666467.602529677,
          10405711.731495406,
          10688343.829005668,
          28508706.443706986,
          8588386.52691085,
          7281272.719439028,
          3326172.888838378,
          5269666.297903433,
          9754987.56686966,
          4702047.167107184,
          22339456.096423894,
          8251250.4072289085,
          4122819.600295649,
          11610050.551651314,
          13134075.573600758,
          30887135.57000007,
          17991655.034929115,
          88562966.61615849,
          13587815.058737287,
          75985089.19935076,
          8514726.025487632,
          18012503.43172114,
          25375920.105824288,
          8224976.7827130575,
          13150392.166246116,
          72935398.75603148,
          119283507.58030757,
          24326520.196064062,
          33138615.571085386,
          105761674.01034339,
          14648489.491248854,
          100275904.38038781,
          12811219.15103662,
          33352033.8572455,
          16834829.69464482,
          29411827.78057958,
          13099048.013685862,
          23552514.798112847,
          14796975.216053722,
          70229881.48714484,
          30667985.18518852,
          15891028.246098649,
          20593577.405893896,
          10029613.057531232,
          32015753.953711588,
          6170007.665885199,
          7182189.494049478,
          34954975.091084674,
          33069842.336070694,
          4693650.802321861,
          93290158.15587853,
          8568179.185026499,
          7084832.351446391,
          17583111.927067105,
          42158113.812330365,
          11362827.44178521,
          6612548.136516565,
          10126030.575904684,
          73554827.19078723,
          26316400.533433698,
          8164566.991200781,
          24486995.164854057,
          24218323.446056016,
          15256290.601542164,
          12912349.76580564,
          3772682.5945501416,
          11848767.745224684,
          21665970.423577126,
          23061843.25060211,
          24326156.065059535,
          91379220.06358813,
          17140973.404130746,
          14358215.931310128,
          8906054.778852172,
          29623194.196447384,
          11790570.841528812
         ],
         "yaxis": "y"
        },
        {
         "hovertemplate": "<b>%{hovertext}</b><br><br>production_method=Digital Animation<br>actual=%{x}<br>predicted=%{y}<extra></extra>",
         "hovertext": [
          "Hotel Transylvania 2",
          "The Peanuts Movie",
          "The Good Dinosaur",
          "Norm of the North",
          "Kung Fu Panda 3",
          "Zootopia",
          "Ratchet and Clank",
          "The Angry Birds Movie",
          "Finding Dory",
          "The Secret Life of Pets",
          "Ice Age: Collision Course",
          "Sausage Party",
          "Kubo and the Two Strings",
          "Storks",
          "Trolls",
          "Moana",
          "Sing",
          "The Lego Batman Movie",
          "Rock Dog",
          "The Boss Baby",
          "Smurfs: The Lost Village",
          "Captain Underpants: The First Epic Movie",
          "Cars 3",
          "Despicable Me 3",
          "The Emoji Movie",
          "The Nut Job 2: Nutty by Nature",
          "Ballerina",
          "The Lego Ninjago Movie",
          "My Little Pony: The Movie",
          "The Star",
          "Coco",
          "Ferdinand",
          "Early Man",
          "Sherlock Gnomes",
          "Isle of Dogs",
          "Incredibles 2",
          "Hotel Transylvania 3: Summer Vacation",
          "Teen Titans Go! To The Movies",
          "Smallfoot",
          "Dr. Seuss’ The Grinch",
          "Ralph Breaks The Internet",
          "Spider-Man: Into The Spider-Verse 3D",
          "The LEGO Movie 2: The Second Part",
          "How to Train Your Dragon: The Hidden World",
          "Wonder Park",
          "UglyDolls",
          "The Secret Life of Pets 2",
          "Toy Story 4",
          "The Angry Birds Movie 2",
          "Abominable",
          "The Addams Family",
          "Arctic Dogs",
          "Frozen II",
          "Spies in Disguise",
          "Onward",
          "The Croods: A New Age",
          "Demon Slayer: Kimetsu no Yaiba—The Movie: Mugen Train (劇場版「鬼滅の刃」 無限列車編)",
          "Spirit Untamed",
          "The Boss Baby: Family Business",
          "PAW Patrol: The Movie",
          "Encanto",
          "Sing 2",
          "The Bad Guys",
          "Lightyear",
          "Minions: The Rise of Gru",
          "Paws of Fury: The Legend of Hank",
          "DC League of Super Pets",
          "Strange World",
          "Puss in Boots: The Last Wish"
         ],
         "legendgroup": "Digital Animation",
         "marker": {
          "color": "#EF553B",
          "symbol": "circle"
         },
         "mode": "markers",
         "name": "Digital Animation",
         "orientation": "v",
         "showlegend": true,
         "type": "scatter",
         "x": [
          48464322,
          44213073,
          39155217,
          6844137,
          41282042,
          75063401,
          4869278,
          38155177,
          135060273,
          104352905,
          21373064,
          34263534,
          12608372,
          21311407,
          46581142,
          56631401,
          35258145,
          53003468,
          3704749,
          50198902,
          13210449,
          23851539,
          53688680,
          72434025,
          24531923,
          8342311,
          4730038,
          20433071,
          8885899,
          9812674,
          50802605,
          13401586,
          3190525,
          10604774,
          5475139,
          182687905,
          44076225,
          10411189,
          23045635,
          67572855,
          56237634,
          35363376,
          34115335,
          55022245,
          15853646,
          8603407,
          46652680,
          120908065,
          10354073,
          20612100,
          30300007,
          2901335,
          130263358,
          13354798,
          39119861,
          9724200,
          21144800,
          6101050,
          16000665,
          13148340,
          27206494,
          22326230,
          23950245,
          50577961,
          107010140,
          6321423,
          23003441,
          12151384,
          12429515
         ],
         "xaxis": "x",
         "y": [
          31680848.97408314,
          30974484.558022603,
          37309353.344458126,
          8272177.264753078,
          52502761.153986275,
          69507483.82622343,
          6948530.633221462,
          37677156.467379406,
          79496087.67044592,
          41965369.889683574,
          52872525.09731673,
          11485449.840498447,
          13004397.385628572,
          14564480.568605874,
          44583678.216587275,
          59434730.48353901,
          89505930.08995132,
          47116780.3364414,
          11374054.144930147,
          45494913.97093786,
          25233999.310415037,
          20880706.070104733,
          63316046.83931944,
          45597404.36139803,
          13598203.286105655,
          11947556.71402131,
          6832263.357787771,
          25563731.591078125,
          3632229.7848441442,
          5371011.741694892,
          36986080.31138825,
          22107148.304533724,
          11204673.929659069,
          19990765.922030002,
          15763422.926013315,
          82750923.68003896,
          29911612.344820462,
          5008300.191820024,
          16161487.974349657,
          16900725.107761305,
          59637003.74705828,
          80730444.67481628,
          43208020.87764484,
          83412088.66485852,
          19216140.896338627,
          9705377.42592396,
          33715181.988886714,
          120136492.34446904,
          25935457.559309833,
          14970851.426193533,
          25760819.953886945,
          9132853.062394196,
          103773325.92592698,
          20585327.077895,
          42710647.417516865,
          25163150.027925104,
          35366602.26625428,
          15857474.907722797,
          27479058.11185863,
          17792530.602365855,
          31404447.907530397,
          41477130.65859105,
          41797572.43376874,
          81282469.03682804,
          42162964.57189461,
          9705554.956993386,
          20386654.236168798,
          26826003.673573498,
          39654591.726255186
         ],
         "yaxis": "y"
        },
        {
         "hovertemplate": "<b>%{hovertext}</b><br><br>production_method=Animation/Live Action<br>actual=%{x}<br>predicted=%{y}<extra></extra>",
         "hovertext": [
          "Goosebumps",
          "Alvin and the Chipmunks: The Road Chip",
          "Star Wars Ep. VII: The Force Awakens",
          "Deadpool",
          "The Jungle Book",
          "Keanu",
          "Alice Through the Looking Glass",
          "Teenage Mutant Ninja Turtles: Out of the Shadows",
          "The BFG",
          "Ghostbusters",
          "Suicide Squad",
          "Pete’s Dragon",
          "Miss Peregrine’s Home for Peculiar Children",
          "Middle School: The Worst Years of My Life",
          "Doctor Strange",
          "Fantastic Beasts and Where to Find Them",
          "Rogue One: A Star Wars Story",
          "Monster Trucks",
          "Beauty and the Beast",
          "Power Rangers",
          "Guardians of the Galaxy Vol 2",
          "Pirates of the Caribbean: Dead Men Tell No Tales",
          "Transformers: The Last Knight",
          "War for the Planet of the Apes",
          "Valerian and the City of a Thousand Planets",
          "Star Wars Ep. VIII: The Last Jedi",
          "Paddington 2",
          "Peter Rabbit",
          "Ready Player One",
          "Avengers: Infinity War",
          "Show Dogs",
          "Deadpool 2",
          "Solo: A Star Wars Story",
          "Ant-Man and the Wasp",
          "Christopher Robin",
          "Venom",
          "Goosebumps 2: Haunted Halloween",
          "Fantastic Beasts: The Crimes of Grindelwald",
          "Mary Poppins Returns",
          "Aquaman",
          "Bumblebee",
          "Welcome to Marwen",
          "Alita: Battle Angel",
          "Captain Marvel",
          "Dumbo",
          "Avengers: Endgame",
          "Pokémon: Detective Pikachu",
          "Aladdin",
          "Men in Black: International",
          "The Lion King",
          "Gemini Man",
          "Terminator: Dark Fate",
          "Cats",
          "Star Wars: The Rise of Skywalker",
          "Dolittle",
          "Sonic The Hedgehog",
          "Peter Rabbit 2: The Runaway",
          "Jungle Cruise",
          "Venom: Let There be Carnage",
          "Clifford the Big Red Dog",
          "Spider-Man: No Way Home",
          "Sonic the Hedgehog 2",
          "Fantastic Beasts: The Secrets of Dumbledore",
          "Doctor Strange in the Multiverse of Madness",
          "Jurassic World: Dominion",
          "Thor: Love and Thunder",
          "Lyle, Lyle, Crocodile",
          "Black Panther: Wakanda Forever",
          "Avatar: The Way of Water"
         ],
         "legendgroup": "Animation/Live Action",
         "marker": {
          "color": "#00cc96",
          "symbol": "circle"
         },
         "mode": "markers",
         "name": "Animation/Live Action",
         "orientation": "v",
         "showlegend": true,
         "type": "scatter",
         "x": [
          23618556,
          14287159,
          247966675,
          132434639,
          103261464,
          9453224,
          26858726,
          35316382,
          18775350,
          46018755,
          133682248,
          21514095,
          28871140,
          6878437,
          85058311,
          74403387,
          155081681,
          10950705,
          174750616,
          40300288,
          146510104,
          62983253,
          44680073,
          56262929,
          17007624,
          220009584,
          11001961,
          25010928,
          41764050,
          257698183,
          6023972,
          125507153,
          84420489,
          75812205,
          24585139,
          80255756,
          15802225,
          62163104,
          23523121,
          67873522,
          21654047,
          2354205,
          28525613,
          153433423,
          45990748,
          357115007,
          54365242,
          91500929,
          30035838,
          191770759,
          20552372,
          29033832,
          6619870,
          177383864,
          21844045,
          58018348,
          10101066,
          35018731,
          90033210,
          16627491,
          260138569,
          72105176,
          42151256,
          187420998,
          145075625,
          144165107,
          11401182,
          181339761,
          134100226
         ],
         "xaxis": "x",
         "y": [
          18871648.160741214,
          22339389.121670112,
          320228276.6233164,
          103999147.29827154,
          50550308.38372726,
          5345678.037552405,
          48862821.02097597,
          42546409.26320131,
          29342542.10942182,
          67006536.70192089,
          175098343.42053577,
          13996101.514476094,
          24009118.09232984,
          2707011.978436923,
          92615153.3284411,
          84293786.85261592,
          140054725.39845183,
          24231915.207788073,
          46869028.504801266,
          59620135.67376323,
          109886671.31871867,
          93848388.2099131,
          84381642.42711388,
          62885392.81603585,
          39184838.13296588,
          59184105.04564085,
          17286582.1143002,
          18411017.2136658,
          37359472.43047859,
          250489479.50822997,
          1564449.5206122762,
          104827756.55271679,
          110469236.86796029,
          74410790.25947149,
          18347980.577097308,
          92966849.5095569,
          12459400.616853781,
          78102715.01593304,
          42929559.14696223,
          107049542.11530398,
          46678653.97350164,
          21530311.419722907,
          46464239.95447649,
          114458379.35020956,
          45213234.6638367,
          321401834.72249806,
          26107305.160741042,
          45063742.66749094,
          45303360.76000592,
          112395942.18793045,
          33067254.902875997,
          93585617.73758017,
          27116428.825435363,
          183096543.62099966,
          36783217.7774947,
          41933638.19388902,
          15572498.211277202,
          41056867.83598043,
          67909634.8017452,
          13227127.45846544,
          228622450.93555367,
          46280442.9994866,
          80783687.0713193,
          144898893.80316597,
          80611671.17877564,
          148661069.70082414,
          10726050.166489359,
          138985025.86078423,
          191015559.99725837
         ],
         "yaxis": "y"
        },
        {
         "mode": "lines",
         "name": "y=x",
         "type": "scatter",
         "x": [
          7355622,
          25888154,
          25427560,
          30316510,
          22635037,
          13242895,
          12148041,
          17728313,
          3520626,
          48464322,
          3719177,
          54308575,
          15315435,
          7105735,
          13143310,
          4002226,
          15371203,
          23618556,
          8070493,
          10812861,
          5002521,
          3238433,
          70403148,
          44213073,
          4408252,
          8317545,
          5787266,
          102665981,
          9880536,
          6652996,
          29632823,
          39155217,
          16293325,
          11053366,
          10531026,
          13922855,
          14287159,
          247966675,
          38740203,
          17015168,
          10513749,
          9800252,
          15706645,
          39826840,
          12741176,
          35243095,
          16194738,
          6844137,
          10778392,
          11111875,
          10326356,
          5900528,
          41282042,
          10288932,
          5324240,
          11355225,
          13841146,
          17878911,
          132434639,
          11801271,
          8800230,
          7353922,
          6109085,
          14123903,
          6084682,
          75063401,
          21635601,
          7450275,
          24727437,
          3258327,
          3961556,
          3294876,
          14812393,
          29027348,
          166007347,
          17861950,
          7623662,
          4055940,
          23586645,
          5107604,
          103261464,
          20242415,
          5767278,
          19445035,
          8369184,
          4869278,
          9453224,
          179139142,
          14788157,
          11203270,
          38155177,
          21760405,
          65769562,
          26858726,
          35316382,
          18723269,
          4698715,
          40406314,
          24166110,
          22383146,
          35535250,
          135060273,
          41039944,
          16800868,
          7572206,
          31515110,
          38527856,
          18775350,
          104352905,
          16628170,
          5303775,
          3964646,
          46018755,
          21373064,
          59253211,
          21688103,
          9445456,
          59215365,
          23817340,
          133682248,
          6249915,
          34263534,
          6601313,
          21514095,
          3551931,
          12608372,
          11203815,
          14685305,
          7456525,
          26411706,
          4765838,
          14202323,
          35028301,
          9576057,
          8000058,
          8571785,
          34703397,
          21311407,
          2495427,
          28871140,
          20223544,
          6541205,
          7004254,
          24536265,
          6878437,
          11767210,
          24710273,
          22872490,
          28501448,
          14065500,
          5461475,
          1489470,
          14860425,
          85058311,
          46581142,
          15190758,
          15134235,
          3613567,
          24074047,
          3161381,
          4223828,
          74403387,
          4754215,
          12701743,
          6176680,
          56631401,
          3760097,
          2534884,
          16890204,
          9553414,
          155081681,
          7102085,
          35258145,
          10278225,
          14869736,
          11613765,
          11002986,
          5106046,
          22800057,
          13688751,
          13501349,
          8344128,
          10950705,
          40010975,
          20130142,
          3404102,
          13601682,
          18222810,
          3775596,
          13002632,
          46607250,
          30436123,
          53003468,
          18469620,
          12201873,
          33377060,
          3704749,
          16172119,
          4690214,
          88411916,
          61025472,
          174750616,
          4137230,
          40300288,
          12501936,
          7722802,
          2684185,
          18676033,
          50198902,
          3967885,
          3090633,
          11932330,
          13210449,
          98786705,
          4095718,
          4785431,
          12252439,
          9034148,
          146510104,
          15371270,
          19542248,
          36160621,
          11727390,
          7126084,
          18503871,
          62983253,
          103251471,
          23851539,
          31668375,
          5988370,
          11205562,
          8004283,
          26435354,
          53688680,
          44680073,
          7563040,
          20553320,
          72434025,
          8724795,
          117027503,
          56262929,
          17007624,
          50513488,
          31201920,
          7125601,
          18286420,
          24531923,
          19153698,
          10016323,
          4600976,
          35006404,
          8342311,
          21384504,
          7600036,
          2702430,
          4730038,
          8567881,
          123403419,
          14846778,
          7534673,
          39023010,
          20433071,
          3408594,
          3006155,
          16776390,
          6574326,
          32753122,
          8885899,
          26039025,
          13113024,
          13707376,
          2591985,
          6002665,
          21226953,
          3372565,
          16640452,
          3817700,
          2840246,
          16759161,
          122744989,
          4057559,
          4396537,
          28681472,
          29651193,
          93842239,
          27547866,
          9812674,
          4447070,
          50802605,
          3891945,
          3530022,
          6366243,
          3201459,
          2861168,
          220009584,
          13401586,
          36169328,
          8805843,
          19361968,
          19928525,
          4954287,
          3287451,
          10110739,
          5584684,
          6856578,
          3246720,
          29581355,
          9959053,
          11001961,
          13701452,
          15206108,
          15815025,
          4245630,
          24167011,
          9307626,
          38560195,
          25010928,
          12554286,
          202003951,
          3190525,
          17005332,
          11071584,
          3016149,
          16853422,
          13010267,
          33123609,
          10402271,
          3024399,
          23633317,
          17108914,
          11756244,
          28116535,
          10604774,
          5172585,
          4003993,
          3762145,
          5475139,
          41764050,
          17170707,
          50203562,
          20556350,
          5765854,
          35753093,
          16030218,
          15181624,
          3941338,
          257698183,
          14711101,
          17886075,
          17630285,
          6023972,
          13582231,
          125507153,
          84420489,
          11603039,
          4670905,
          41607378,
          13575173,
          3232790,
          6870740,
          182687905,
          14947396,
          148024610,
          19007566,
          15242781,
          17374280,
          4208881,
          75812205,
          44076225,
          24905015,
          2850892,
          34952180,
          36011640,
          3653035,
          61236534,
          10411189,
          24585139,
          12103043,
          5842609,
          2554766,
          11371866,
          45402195,
          10845330,
          26510140,
          13710825,
          10352512,
          9532425,
          2798229,
          6066463,
          6022758,
          3035618,
          53807379,
          13423255,
          24632284,
          16011689,
          8860431,
          26608020,
          3008563,
          5130963,
          27257615,
          23045635,
          80255756,
          42908051,
          7602108,
          16006065,
          15802225,
          7132647,
          76221545,
          2980506,
          6653777,
          13743111,
          51061119,
          20352491,
          7810112,
          10202108,
          67572855,
          62163104,
          14504315,
          12361307,
          5501520,
          35574710,
          56237634,
          9195670,
          2085123,
          6401744,
          35363376,
          7559850,
          17509431,
          2406742,
          23523121,
          67873522,
          21654047,
          6489983,
          2354205,
          7411522,
          7768371,
          6070615,
          18238172,
          20355000,
          11251263,
          40328920,
          7173887,
          4415403,
          6864744,
          34115335,
          18232087,
          11030233,
          5853061,
          14247758,
          9497665,
          28525613,
          7813113,
          55022245,
          27062332,
          153433423,
          13190286,
          15853646,
          3131525,
          71117625,
          45990748,
          6382298,
          53505326,
          24502775,
          4446190,
          6002349,
          12045147,
          11282333,
          26347631,
          357115007,
          10855054,
          9740064,
          8603407,
          5361937,
          13007709,
          54365242,
          56818067,
          8030085,
          2511530,
          91500929,
          7845658,
          6933620,
          47776293,
          25725722,
          18099805,
          32828348,
          46652680,
          5255643,
          30035838,
          8901419,
          3600647,
          120908065,
          20269723,
          92579212,
          6560030,
          12005210,
          8225384,
          191770759,
          41082018,
          60038950,
          20915346,
          17431588,
          8137584,
          5527410,
          2974391,
          10354073,
          8427265,
          3462308,
          21402605,
          4333305,
          8015590,
          21380987,
          8146533,
          91062152,
          33181361,
          2679027,
          19001398,
          18872919,
          20612100,
          96202337,
          1711988,
          30300007,
          3106730,
          20552372,
          26803104,
          36948713,
          3952157,
          8376846,
          8865082,
          2633717,
          29033832,
          11676720,
          3500454,
          2901335,
          17897419,
          14114124,
          11441055,
          8351109,
          5605051,
          31474958,
          130263358,
          13251238,
          9261268,
          26769548,
          11890490,
          59251543,
          4240245,
          4705265,
          5109146,
          6619870,
          177383864,
          16755310,
          13354798,
          37000200,
          9713228,
          11404113,
          7008297,
          10011272,
          62504105,
          21844045,
          10651884,
          6950045,
          6154007,
          2715384,
          33010017,
          12181865,
          58018348,
          24791624,
          5823006,
          3600000,
          4805785,
          28205665,
          39119861,
          8170315,
          9176695,
          9103614,
          5304455,
          4020761,
          7037017,
          3623880,
          3607966,
          3119875,
          3600355,
          9724200,
          2250430,
          3104204,
          3775350,
          6820100,
          3153456,
          21144800,
          8309007,
          8750034,
          47547231,
          6101050,
          10101066,
          11397820,
          70043165,
          12551220,
          16000665,
          80366312,
          8801391,
          16854735,
          13367853,
          35018731,
          6745121,
          10622473,
          13148340,
          75388688,
          90033210,
          55225007,
          49404980,
          4759151,
          41000000,
          4178460,
          71297219,
          16627491,
          5406033,
          44008406,
          5319280,
          14423794,
          27206494,
          1911827,
          10574618,
          2811703,
          260138569,
          10749011,
          5915542,
          22326230,
          4621765,
          30018805,
          23154388,
          9868997,
          3502475,
          7949980,
          12891123,
          44010155,
          14883928,
          134008624,
          4275126,
          6059263,
          30453269,
          39005895,
          72105176,
          8699630,
          5402642,
          42151256,
          23950245,
          7131703,
          187420998,
          126707459,
          145075625,
          50577961,
          31211579,
          107010140,
          144165107,
          6321423,
          17253227,
          44366910,
          23003441,
          30030156,
          11575855,
          2919717,
          10543948,
          19051442,
          22609925,
          11401182,
          6444896,
          40050355,
          67004323,
          16509095,
          181339761,
          9004957,
          12151384,
          13450240,
          134100226,
          12429515,
          3603368,
          12828785
         ],
         "y": [
          7355622,
          25888154,
          25427560,
          30316510,
          22635037,
          13242895,
          12148041,
          17728313,
          3520626,
          48464322,
          3719177,
          54308575,
          15315435,
          7105735,
          13143310,
          4002226,
          15371203,
          23618556,
          8070493,
          10812861,
          5002521,
          3238433,
          70403148,
          44213073,
          4408252,
          8317545,
          5787266,
          102665981,
          9880536,
          6652996,
          29632823,
          39155217,
          16293325,
          11053366,
          10531026,
          13922855,
          14287159,
          247966675,
          38740203,
          17015168,
          10513749,
          9800252,
          15706645,
          39826840,
          12741176,
          35243095,
          16194738,
          6844137,
          10778392,
          11111875,
          10326356,
          5900528,
          41282042,
          10288932,
          5324240,
          11355225,
          13841146,
          17878911,
          132434639,
          11801271,
          8800230,
          7353922,
          6109085,
          14123903,
          6084682,
          75063401,
          21635601,
          7450275,
          24727437,
          3258327,
          3961556,
          3294876,
          14812393,
          29027348,
          166007347,
          17861950,
          7623662,
          4055940,
          23586645,
          5107604,
          103261464,
          20242415,
          5767278,
          19445035,
          8369184,
          4869278,
          9453224,
          179139142,
          14788157,
          11203270,
          38155177,
          21760405,
          65769562,
          26858726,
          35316382,
          18723269,
          4698715,
          40406314,
          24166110,
          22383146,
          35535250,
          135060273,
          41039944,
          16800868,
          7572206,
          31515110,
          38527856,
          18775350,
          104352905,
          16628170,
          5303775,
          3964646,
          46018755,
          21373064,
          59253211,
          21688103,
          9445456,
          59215365,
          23817340,
          133682248,
          6249915,
          34263534,
          6601313,
          21514095,
          3551931,
          12608372,
          11203815,
          14685305,
          7456525,
          26411706,
          4765838,
          14202323,
          35028301,
          9576057,
          8000058,
          8571785,
          34703397,
          21311407,
          2495427,
          28871140,
          20223544,
          6541205,
          7004254,
          24536265,
          6878437,
          11767210,
          24710273,
          22872490,
          28501448,
          14065500,
          5461475,
          1489470,
          14860425,
          85058311,
          46581142,
          15190758,
          15134235,
          3613567,
          24074047,
          3161381,
          4223828,
          74403387,
          4754215,
          12701743,
          6176680,
          56631401,
          3760097,
          2534884,
          16890204,
          9553414,
          155081681,
          7102085,
          35258145,
          10278225,
          14869736,
          11613765,
          11002986,
          5106046,
          22800057,
          13688751,
          13501349,
          8344128,
          10950705,
          40010975,
          20130142,
          3404102,
          13601682,
          18222810,
          3775596,
          13002632,
          46607250,
          30436123,
          53003468,
          18469620,
          12201873,
          33377060,
          3704749,
          16172119,
          4690214,
          88411916,
          61025472,
          174750616,
          4137230,
          40300288,
          12501936,
          7722802,
          2684185,
          18676033,
          50198902,
          3967885,
          3090633,
          11932330,
          13210449,
          98786705,
          4095718,
          4785431,
          12252439,
          9034148,
          146510104,
          15371270,
          19542248,
          36160621,
          11727390,
          7126084,
          18503871,
          62983253,
          103251471,
          23851539,
          31668375,
          5988370,
          11205562,
          8004283,
          26435354,
          53688680,
          44680073,
          7563040,
          20553320,
          72434025,
          8724795,
          117027503,
          56262929,
          17007624,
          50513488,
          31201920,
          7125601,
          18286420,
          24531923,
          19153698,
          10016323,
          4600976,
          35006404,
          8342311,
          21384504,
          7600036,
          2702430,
          4730038,
          8567881,
          123403419,
          14846778,
          7534673,
          39023010,
          20433071,
          3408594,
          3006155,
          16776390,
          6574326,
          32753122,
          8885899,
          26039025,
          13113024,
          13707376,
          2591985,
          6002665,
          21226953,
          3372565,
          16640452,
          3817700,
          2840246,
          16759161,
          122744989,
          4057559,
          4396537,
          28681472,
          29651193,
          93842239,
          27547866,
          9812674,
          4447070,
          50802605,
          3891945,
          3530022,
          6366243,
          3201459,
          2861168,
          220009584,
          13401586,
          36169328,
          8805843,
          19361968,
          19928525,
          4954287,
          3287451,
          10110739,
          5584684,
          6856578,
          3246720,
          29581355,
          9959053,
          11001961,
          13701452,
          15206108,
          15815025,
          4245630,
          24167011,
          9307626,
          38560195,
          25010928,
          12554286,
          202003951,
          3190525,
          17005332,
          11071584,
          3016149,
          16853422,
          13010267,
          33123609,
          10402271,
          3024399,
          23633317,
          17108914,
          11756244,
          28116535,
          10604774,
          5172585,
          4003993,
          3762145,
          5475139,
          41764050,
          17170707,
          50203562,
          20556350,
          5765854,
          35753093,
          16030218,
          15181624,
          3941338,
          257698183,
          14711101,
          17886075,
          17630285,
          6023972,
          13582231,
          125507153,
          84420489,
          11603039,
          4670905,
          41607378,
          13575173,
          3232790,
          6870740,
          182687905,
          14947396,
          148024610,
          19007566,
          15242781,
          17374280,
          4208881,
          75812205,
          44076225,
          24905015,
          2850892,
          34952180,
          36011640,
          3653035,
          61236534,
          10411189,
          24585139,
          12103043,
          5842609,
          2554766,
          11371866,
          45402195,
          10845330,
          26510140,
          13710825,
          10352512,
          9532425,
          2798229,
          6066463,
          6022758,
          3035618,
          53807379,
          13423255,
          24632284,
          16011689,
          8860431,
          26608020,
          3008563,
          5130963,
          27257615,
          23045635,
          80255756,
          42908051,
          7602108,
          16006065,
          15802225,
          7132647,
          76221545,
          2980506,
          6653777,
          13743111,
          51061119,
          20352491,
          7810112,
          10202108,
          67572855,
          62163104,
          14504315,
          12361307,
          5501520,
          35574710,
          56237634,
          9195670,
          2085123,
          6401744,
          35363376,
          7559850,
          17509431,
          2406742,
          23523121,
          67873522,
          21654047,
          6489983,
          2354205,
          7411522,
          7768371,
          6070615,
          18238172,
          20355000,
          11251263,
          40328920,
          7173887,
          4415403,
          6864744,
          34115335,
          18232087,
          11030233,
          5853061,
          14247758,
          9497665,
          28525613,
          7813113,
          55022245,
          27062332,
          153433423,
          13190286,
          15853646,
          3131525,
          71117625,
          45990748,
          6382298,
          53505326,
          24502775,
          4446190,
          6002349,
          12045147,
          11282333,
          26347631,
          357115007,
          10855054,
          9740064,
          8603407,
          5361937,
          13007709,
          54365242,
          56818067,
          8030085,
          2511530,
          91500929,
          7845658,
          6933620,
          47776293,
          25725722,
          18099805,
          32828348,
          46652680,
          5255643,
          30035838,
          8901419,
          3600647,
          120908065,
          20269723,
          92579212,
          6560030,
          12005210,
          8225384,
          191770759,
          41082018,
          60038950,
          20915346,
          17431588,
          8137584,
          5527410,
          2974391,
          10354073,
          8427265,
          3462308,
          21402605,
          4333305,
          8015590,
          21380987,
          8146533,
          91062152,
          33181361,
          2679027,
          19001398,
          18872919,
          20612100,
          96202337,
          1711988,
          30300007,
          3106730,
          20552372,
          26803104,
          36948713,
          3952157,
          8376846,
          8865082,
          2633717,
          29033832,
          11676720,
          3500454,
          2901335,
          17897419,
          14114124,
          11441055,
          8351109,
          5605051,
          31474958,
          130263358,
          13251238,
          9261268,
          26769548,
          11890490,
          59251543,
          4240245,
          4705265,
          5109146,
          6619870,
          177383864,
          16755310,
          13354798,
          37000200,
          9713228,
          11404113,
          7008297,
          10011272,
          62504105,
          21844045,
          10651884,
          6950045,
          6154007,
          2715384,
          33010017,
          12181865,
          58018348,
          24791624,
          5823006,
          3600000,
          4805785,
          28205665,
          39119861,
          8170315,
          9176695,
          9103614,
          5304455,
          4020761,
          7037017,
          3623880,
          3607966,
          3119875,
          3600355,
          9724200,
          2250430,
          3104204,
          3775350,
          6820100,
          3153456,
          21144800,
          8309007,
          8750034,
          47547231,
          6101050,
          10101066,
          11397820,
          70043165,
          12551220,
          16000665,
          80366312,
          8801391,
          16854735,
          13367853,
          35018731,
          6745121,
          10622473,
          13148340,
          75388688,
          90033210,
          55225007,
          49404980,
          4759151,
          41000000,
          4178460,
          71297219,
          16627491,
          5406033,
          44008406,
          5319280,
          14423794,
          27206494,
          1911827,
          10574618,
          2811703,
          260138569,
          10749011,
          5915542,
          22326230,
          4621765,
          30018805,
          23154388,
          9868997,
          3502475,
          7949980,
          12891123,
          44010155,
          14883928,
          134008624,
          4275126,
          6059263,
          30453269,
          39005895,
          72105176,
          8699630,
          5402642,
          42151256,
          23950245,
          7131703,
          187420998,
          126707459,
          145075625,
          50577961,
          31211579,
          107010140,
          144165107,
          6321423,
          17253227,
          44366910,
          23003441,
          30030156,
          11575855,
          2919717,
          10543948,
          19051442,
          22609925,
          11401182,
          6444896,
          40050355,
          67004323,
          16509095,
          181339761,
          9004957,
          12151384,
          13450240,
          134100226,
          12429515,
          3603368,
          12828785
         ]
        }
       ],
       "layout": {
        "legend": {
         "title": {
          "text": "production_method"
         },
         "tracegroupgap": 0
        },
        "margin": {
         "t": 60
        },
        "template": {
         "data": {
          "bar": [
           {
            "error_x": {
             "color": "#2a3f5f"
            },
            "error_y": {
             "color": "#2a3f5f"
            },
            "marker": {
             "line": {
              "color": "#E5ECF6",
              "width": 0.5
             },
             "pattern": {
              "fillmode": "overlay",
              "size": 10,
              "solidity": 0.2
             }
            },
            "type": "bar"
           }
          ],
          "barpolar": [
           {
            "marker": {
             "line": {
              "color": "#E5ECF6",
              "width": 0.5
             },
             "pattern": {
              "fillmode": "overlay",
              "size": 10,
              "solidity": 0.2
             }
            },
            "type": "barpolar"
           }
          ],
          "carpet": [
           {
            "aaxis": {
             "endlinecolor": "#2a3f5f",
             "gridcolor": "white",
             "linecolor": "white",
             "minorgridcolor": "white",
             "startlinecolor": "#2a3f5f"
            },
            "baxis": {
             "endlinecolor": "#2a3f5f",
             "gridcolor": "white",
             "linecolor": "white",
             "minorgridcolor": "white",
             "startlinecolor": "#2a3f5f"
            },
            "type": "carpet"
           }
          ],
          "choropleth": [
           {
            "colorbar": {
             "outlinewidth": 0,
             "ticks": ""
            },
            "type": "choropleth"
           }
          ],
          "contour": [
           {
            "colorbar": {
             "outlinewidth": 0,
             "ticks": ""
            },
            "colorscale": [
             [
              0,
              "#0d0887"
             ],
             [
              0.1111111111111111,
              "#46039f"
             ],
             [
              0.2222222222222222,
              "#7201a8"
             ],
             [
              0.3333333333333333,
              "#9c179e"
             ],
             [
              0.4444444444444444,
              "#bd3786"
             ],
             [
              0.5555555555555556,
              "#d8576b"
             ],
             [
              0.6666666666666666,
              "#ed7953"
             ],
             [
              0.7777777777777778,
              "#fb9f3a"
             ],
             [
              0.8888888888888888,
              "#fdca26"
             ],
             [
              1,
              "#f0f921"
             ]
            ],
            "type": "contour"
           }
          ],
          "contourcarpet": [
           {
            "colorbar": {
             "outlinewidth": 0,
             "ticks": ""
            },
            "type": "contourcarpet"
           }
          ],
          "heatmap": [
           {
            "colorbar": {
             "outlinewidth": 0,
             "ticks": ""
            },
            "colorscale": [
             [
              0,
              "#0d0887"
             ],
             [
              0.1111111111111111,
              "#46039f"
             ],
             [
              0.2222222222222222,
              "#7201a8"
             ],
             [
              0.3333333333333333,
              "#9c179e"
             ],
             [
              0.4444444444444444,
              "#bd3786"
             ],
             [
              0.5555555555555556,
              "#d8576b"
             ],
             [
              0.6666666666666666,
              "#ed7953"
             ],
             [
              0.7777777777777778,
              "#fb9f3a"
             ],
             [
              0.8888888888888888,
              "#fdca26"
             ],
             [
              1,
              "#f0f921"
             ]
            ],
            "type": "heatmap"
           }
          ],
          "heatmapgl": [
           {
            "colorbar": {
             "outlinewidth": 0,
             "ticks": ""
            },
            "colorscale": [
             [
              0,
              "#0d0887"
             ],
             [
              0.1111111111111111,
              "#46039f"
             ],
             [
              0.2222222222222222,
              "#7201a8"
             ],
             [
              0.3333333333333333,
              "#9c179e"
             ],
             [
              0.4444444444444444,
              "#bd3786"
             ],
             [
              0.5555555555555556,
              "#d8576b"
             ],
             [
              0.6666666666666666,
              "#ed7953"
             ],
             [
              0.7777777777777778,
              "#fb9f3a"
             ],
             [
              0.8888888888888888,
              "#fdca26"
             ],
             [
              1,
              "#f0f921"
             ]
            ],
            "type": "heatmapgl"
           }
          ],
          "histogram": [
           {
            "marker": {
             "pattern": {
              "fillmode": "overlay",
              "size": 10,
              "solidity": 0.2
             }
            },
            "type": "histogram"
           }
          ],
          "histogram2d": [
           {
            "colorbar": {
             "outlinewidth": 0,
             "ticks": ""
            },
            "colorscale": [
             [
              0,
              "#0d0887"
             ],
             [
              0.1111111111111111,
              "#46039f"
             ],
             [
              0.2222222222222222,
              "#7201a8"
             ],
             [
              0.3333333333333333,
              "#9c179e"
             ],
             [
              0.4444444444444444,
              "#bd3786"
             ],
             [
              0.5555555555555556,
              "#d8576b"
             ],
             [
              0.6666666666666666,
              "#ed7953"
             ],
             [
              0.7777777777777778,
              "#fb9f3a"
             ],
             [
              0.8888888888888888,
              "#fdca26"
             ],
             [
              1,
              "#f0f921"
             ]
            ],
            "type": "histogram2d"
           }
          ],
          "histogram2dcontour": [
           {
            "colorbar": {
             "outlinewidth": 0,
             "ticks": ""
            },
            "colorscale": [
             [
              0,
              "#0d0887"
             ],
             [
              0.1111111111111111,
              "#46039f"
             ],
             [
              0.2222222222222222,
              "#7201a8"
             ],
             [
              0.3333333333333333,
              "#9c179e"
             ],
             [
              0.4444444444444444,
              "#bd3786"
             ],
             [
              0.5555555555555556,
              "#d8576b"
             ],
             [
              0.6666666666666666,
              "#ed7953"
             ],
             [
              0.7777777777777778,
              "#fb9f3a"
             ],
             [
              0.8888888888888888,
              "#fdca26"
             ],
             [
              1,
              "#f0f921"
             ]
            ],
            "type": "histogram2dcontour"
           }
          ],
          "mesh3d": [
           {
            "colorbar": {
             "outlinewidth": 0,
             "ticks": ""
            },
            "type": "mesh3d"
           }
          ],
          "parcoords": [
           {
            "line": {
             "colorbar": {
              "outlinewidth": 0,
              "ticks": ""
             }
            },
            "type": "parcoords"
           }
          ],
          "pie": [
           {
            "automargin": true,
            "type": "pie"
           }
          ],
          "scatter": [
           {
            "fillpattern": {
             "fillmode": "overlay",
             "size": 10,
             "solidity": 0.2
            },
            "type": "scatter"
           }
          ],
          "scatter3d": [
           {
            "line": {
             "colorbar": {
              "outlinewidth": 0,
              "ticks": ""
             }
            },
            "marker": {
             "colorbar": {
              "outlinewidth": 0,
              "ticks": ""
             }
            },
            "type": "scatter3d"
           }
          ],
          "scattercarpet": [
           {
            "marker": {
             "colorbar": {
              "outlinewidth": 0,
              "ticks": ""
             }
            },
            "type": "scattercarpet"
           }
          ],
          "scattergeo": [
           {
            "marker": {
             "colorbar": {
              "outlinewidth": 0,
              "ticks": ""
             }
            },
            "type": "scattergeo"
           }
          ],
          "scattergl": [
           {
            "marker": {
             "colorbar": {
              "outlinewidth": 0,
              "ticks": ""
             }
            },
            "type": "scattergl"
           }
          ],
          "scattermapbox": [
           {
            "marker": {
             "colorbar": {
              "outlinewidth": 0,
              "ticks": ""
             }
            },
            "type": "scattermapbox"
           }
          ],
          "scatterpolar": [
           {
            "marker": {
             "colorbar": {
              "outlinewidth": 0,
              "ticks": ""
             }
            },
            "type": "scatterpolar"
           }
          ],
          "scatterpolargl": [
           {
            "marker": {
             "colorbar": {
              "outlinewidth": 0,
              "ticks": ""
             }
            },
            "type": "scatterpolargl"
           }
          ],
          "scatterternary": [
           {
            "marker": {
             "colorbar": {
              "outlinewidth": 0,
              "ticks": ""
             }
            },
            "type": "scatterternary"
           }
          ],
          "surface": [
           {
            "colorbar": {
             "outlinewidth": 0,
             "ticks": ""
            },
            "colorscale": [
             [
              0,
              "#0d0887"
             ],
             [
              0.1111111111111111,
              "#46039f"
             ],
             [
              0.2222222222222222,
              "#7201a8"
             ],
             [
              0.3333333333333333,
              "#9c179e"
             ],
             [
              0.4444444444444444,
              "#bd3786"
             ],
             [
              0.5555555555555556,
              "#d8576b"
             ],
             [
              0.6666666666666666,
              "#ed7953"
             ],
             [
              0.7777777777777778,
              "#fb9f3a"
             ],
             [
              0.8888888888888888,
              "#fdca26"
             ],
             [
              1,
              "#f0f921"
             ]
            ],
            "type": "surface"
           }
          ],
          "table": [
           {
            "cells": {
             "fill": {
              "color": "#EBF0F8"
             },
             "line": {
              "color": "white"
             }
            },
            "header": {
             "fill": {
              "color": "#C8D4E3"
             },
             "line": {
              "color": "white"
             }
            },
            "type": "table"
           }
          ]
         },
         "layout": {
          "annotationdefaults": {
           "arrowcolor": "#2a3f5f",
           "arrowhead": 0,
           "arrowwidth": 1
          },
          "autotypenumbers": "strict",
          "coloraxis": {
           "colorbar": {
            "outlinewidth": 0,
            "ticks": ""
           }
          },
          "colorscale": {
           "diverging": [
            [
             0,
             "#8e0152"
            ],
            [
             0.1,
             "#c51b7d"
            ],
            [
             0.2,
             "#de77ae"
            ],
            [
             0.3,
             "#f1b6da"
            ],
            [
             0.4,
             "#fde0ef"
            ],
            [
             0.5,
             "#f7f7f7"
            ],
            [
             0.6,
             "#e6f5d0"
            ],
            [
             0.7,
             "#b8e186"
            ],
            [
             0.8,
             "#7fbc41"
            ],
            [
             0.9,
             "#4d9221"
            ],
            [
             1,
             "#276419"
            ]
           ],
           "sequential": [
            [
             0,
             "#0d0887"
            ],
            [
             0.1111111111111111,
             "#46039f"
            ],
            [
             0.2222222222222222,
             "#7201a8"
            ],
            [
             0.3333333333333333,
             "#9c179e"
            ],
            [
             0.4444444444444444,
             "#bd3786"
            ],
            [
             0.5555555555555556,
             "#d8576b"
            ],
            [
             0.6666666666666666,
             "#ed7953"
            ],
            [
             0.7777777777777778,
             "#fb9f3a"
            ],
            [
             0.8888888888888888,
             "#fdca26"
            ],
            [
             1,
             "#f0f921"
            ]
           ],
           "sequentialminus": [
            [
             0,
             "#0d0887"
            ],
            [
             0.1111111111111111,
             "#46039f"
            ],
            [
             0.2222222222222222,
             "#7201a8"
            ],
            [
             0.3333333333333333,
             "#9c179e"
            ],
            [
             0.4444444444444444,
             "#bd3786"
            ],
            [
             0.5555555555555556,
             "#d8576b"
            ],
            [
             0.6666666666666666,
             "#ed7953"
            ],
            [
             0.7777777777777778,
             "#fb9f3a"
            ],
            [
             0.8888888888888888,
             "#fdca26"
            ],
            [
             1,
             "#f0f921"
            ]
           ]
          },
          "colorway": [
           "#636efa",
           "#EF553B",
           "#00cc96",
           "#ab63fa",
           "#FFA15A",
           "#19d3f3",
           "#FF6692",
           "#B6E880",
           "#FF97FF",
           "#FECB52"
          ],
          "font": {
           "color": "#2a3f5f"
          },
          "geo": {
           "bgcolor": "white",
           "lakecolor": "white",
           "landcolor": "#E5ECF6",
           "showlakes": true,
           "showland": true,
           "subunitcolor": "white"
          },
          "hoverlabel": {
           "align": "left"
          },
          "hovermode": "closest",
          "mapbox": {
           "style": "light"
          },
          "paper_bgcolor": "white",
          "plot_bgcolor": "#E5ECF6",
          "polar": {
           "angularaxis": {
            "gridcolor": "white",
            "linecolor": "white",
            "ticks": ""
           },
           "bgcolor": "#E5ECF6",
           "radialaxis": {
            "gridcolor": "white",
            "linecolor": "white",
            "ticks": ""
           }
          },
          "scene": {
           "xaxis": {
            "backgroundcolor": "#E5ECF6",
            "gridcolor": "white",
            "gridwidth": 2,
            "linecolor": "white",
            "showbackground": true,
            "ticks": "",
            "zerolinecolor": "white"
           },
           "yaxis": {
            "backgroundcolor": "#E5ECF6",
            "gridcolor": "white",
            "gridwidth": 2,
            "linecolor": "white",
            "showbackground": true,
            "ticks": "",
            "zerolinecolor": "white"
           },
           "zaxis": {
            "backgroundcolor": "#E5ECF6",
            "gridcolor": "white",
            "gridwidth": 2,
            "linecolor": "white",
            "showbackground": true,
            "ticks": "",
            "zerolinecolor": "white"
           }
          },
          "shapedefaults": {
           "line": {
            "color": "#2a3f5f"
           }
          },
          "ternary": {
           "aaxis": {
            "gridcolor": "white",
            "linecolor": "white",
            "ticks": ""
           },
           "baxis": {
            "gridcolor": "white",
            "linecolor": "white",
            "ticks": ""
           },
           "bgcolor": "#E5ECF6",
           "caxis": {
            "gridcolor": "white",
            "linecolor": "white",
            "ticks": ""
           }
          },
          "title": {
           "x": 0.05
          },
          "xaxis": {
           "automargin": true,
           "gridcolor": "white",
           "linecolor": "white",
           "ticks": "",
           "title": {
            "standoff": 15
           },
           "zerolinecolor": "white",
           "zerolinewidth": 2
          },
          "yaxis": {
           "automargin": true,
           "gridcolor": "white",
           "linecolor": "white",
           "ticks": "",
           "title": {
            "standoff": 15
           },
           "zerolinecolor": "white",
           "zerolinewidth": 2
          }
         }
        },
        "title": {
         "text": "Actual vs Predicted Opening Weekend Revenue"
        },
        "xaxis": {
         "anchor": "y",
         "domain": [
          0,
          1
         ],
         "title": {
          "text": "Actual"
         }
        },
        "yaxis": {
         "anchor": "x",
         "domain": [
          0,
          1
         ],
         "title": {
          "text": "Predicted"
         }
        }
       }
      }
     },
     "metadata": {},
     "output_type": "display_data"
    }
   ],
   "source": [
    "formula1 = \"opening_wide_revenue ~ 0 + top_5_trailer_views + budget + wikipedia_pre_release_cumulative_views + wikipedia_pre_release_cumulative_views : in_franchise : production_method\"\n",
    "formula2 = \"opening_wide_revenue ~ 0 + budget + wikipedia_pre_release_cumulative_views + wikipedia_pre_release_cumulative_views : in_franchise : production_method\"\n",
    "formula3 = \"opening_wide_revenue ~ 0 + budget + wikipedia_pre_release_monday_views + wikipedia_pre_release_monday_views : in_franchise : production_method\"\n",
    "\n",
    "formula = formula2\n",
    "\n",
    "model_simple_glm = smf.glm(formula=formula, data=X_train).fit()\n",
    "\n",
    "pred_simple_glm = model_simple_glm.predict(X_test)\n",
    "\n",
    "print(\"RMSE:\", root_mean_squared_error(y_test, pred_simple_glm))\n",
    "print(model_simple_glm.summary())\n",
    "\n",
    "train_pred = model_simple_glm.predict(X_train)\n",
    "\n",
    "training_data = pd.DataFrame(\n",
    "    {\n",
    "        \"actual\": y_train,\n",
    "        \"predicted\": train_pred,\n",
    "        \"title\": X_train[\"title\"],\n",
    "        \"production_method\": X_train[\"production_method\"],\n",
    "    }\n",
    ")\n",
    "\n",
    "# write to a file\n",
    "training_data.to_csv(\"training_data.csv\")\n",
    "\n",
    "fig = px.scatter(training_data, x=\"actual\", y=\"predicted\", hover_name=\"title\", color=\"production_method\")\n",
    "fig.add_trace(go.Scatter(x=training_data[\"actual\"], y=training_data[\"actual\"], mode=\"lines\", name=\"y=x\"))\n",
    "fig.update_layout(title=\"Actual vs Predicted Opening Weekend Revenue\", xaxis_title=\"Actual\", yaxis_title=\"Predicted\")"
   ]
  },
  {
   "cell_type": "code",
   "execution_count": 12,
   "metadata": {},
   "outputs": [
    {
     "data": {
      "application/vnd.plotly.v1+json": {
       "config": {
        "plotlyServerURL": "https://plot.ly"
       },
       "data": [
        {
         "hovertemplate": "<b>%{hovertext}</b><br><br>production_method=Live Action<br>actual=%{x}<br>predicted=%{y}<extra></extra>",
         "hovertext": [
          "M3GAN",
          "80 for Brady",
          "Knock at the Cabin",
          "Jesus Revolution",
          "Creed III",
          "Operation Fortune: Ruse de guerre",
          "Scream VI",
          "65",
          "Shazam! Fury of the Gods",
          "John Wick: Chapter 4",
          "Dungeons & Dragons: Honor Among Thieves",
          "His Only Son",
          "Renfield",
          "The Pope’s Exorcist",
          "Beau is Afraid",
          "Big George Foreman: The Miraculous Story of the Once and Future Heavyweight Champion of the World",
          "Are You There God? It’s Me, Margaret",
          "Fast X",
          "The Machine",
          "The Flash",
          "No Hard Feelings",
          "Indiana Jones and the Dial of Destiny",
          "Sound of Freedom",
          "Insidious: The Red Door",
          "Oppenheimer",
          "Barbie",
          "Talk To Me",
          "Haunted Mansion",
          "Meg 2: The Trench",
          "The Last Voyage of the Demeter",
          "Blue Beetle",
          "Dumb Money",
          "Expend4bles",
          "Saw X",
          "The Exorcist: Believer",
          "Killers of the Flower Moon",
          "Priscilla",
          "Five Nights at Freddy’s",
          "Journey to Bethlehem",
          "The Marvels",
          "Next Goal Wins",
          "The Hunger Games: The Ballad of Songbirds & Snakes",
          "Thanksgiving",
          "Napoleon",
          "Godzilla Minus One (ゴジラ最新作)",
          "American Fiction",
          "Wonka",
          "The Iron Claw",
          "Aquaman and the Lost Kingdom",
          "Anyone But You",
          "Ferrari",
          "Mean Girls",
          "Argylle",
          "Madame Web",
          "Dune: Part Two",
          "Imaginary",
          "Cabrini",
          "Arthur the King",
          "Ghostbusters: Frozen Empire",
          "Godzilla x Kong: The New Empire",
          "Civil War",
          "Abigail",
          "Challengers",
          "Unsung Hero",
          "The Fall Guy",
          "Tarot",
          "The Strangers: Chapter 1",
          "Furiosa: A Mad Max Saga",
          "The Watchers",
          "Bad Boys: Ride or Die",
          "A Quiet Place: Day One",
          "Horizon: An American Saga Chapter 1",
          "Sound of Hope: The Story of Possum Trot",
          "Fly Me to the Moon",
          "Twisters",
          "It Ends With Us",
          "Alien: Romulus",
          "The Crow",
          "Reagan",
          "Beetlejuice Beetlejuice",
          "Speak No Evil"
         ],
         "legendgroup": "Live Action",
         "marker": {
          "color": "#636efa",
          "symbol": "circle"
         },
         "mode": "markers",
         "name": "Live Action",
         "orientation": "v",
         "showlegend": true,
         "type": "scatter",
         "x": [
          30429860,
          12701640,
          14127170,
          15882067,
          58370007,
          3140214,
          44447270,
          12328361,
          30111158,
          73817950,
          37205784,
          5501070,
          8026475,
          9006368,
          2661957,
          2925364,
          6739037,
          67017410,
          5000545,
          55043679,
          15002770,
          60368101,
          19680879,
          33013036,
          82455420,
          162022044,
          10431720,
          24082475,
          30002735,
          6504950,
          25030225,
          3325504,
          8039021,
          18309301,
          26497600,
          23253655,
          5040003,
          80001720,
          2400446,
          46110859,
          2500295,
          44607143,
          10306272,
          20638887,
          11419975,
          1755364,
          39005800,
          4868370,
          27686211,
          6000344,
          3921773,
          28635307,
          17473540,
          15335860,
          82505391,
          9912713,
          7168520,
          7633898,
          45004673,
          80006561,
          25537368,
          10297110,
          15011061,
          7731539,
          27747035,
          6503012,
          11825058,
          26326462,
          7003537,
          56527324,
          52202495,
          11052561,
          3078758,
          9426615,
          81251415,
          50016652,
          42003361,
          4644666,
          7650720,
          111003345,
          11397595
         ],
         "xaxis": "x",
         "y": [
          19511702.09823298,
          9656364.578456268,
          16695763.043080835,
          4689179.2385107195,
          32731554.62553033,
          14264765.87764537,
          30501276.128044255,
          14994671.534220366,
          43114929.17792051,
          70857938.09480111,
          34783529.90019785,
          75921.82860787427,
          21537595.99010456,
          10883488.138049329,
          10325222.675473407,
          6533308.590160796,
          5642982.723709923,
          108405548.74567248,
          5340298.866684372,
          94859562.78539284,
          17520406.058929358,
          120173071.76624025,
          6692573.859805899,
          14569244.627846988,
          93834801.66232176,
          106118298.36035784,
          5741408.28389328,
          33120821.20344094,
          39141895.53894148,
          13885668.23059812,
          46268469.98875124,
          7931968.471648885,
          32395594.026434675,
          19917606.363650408,
          20994495.978748035,
          63094187.83291584,
          7117407.063011961,
          36100203.57963696,
          1032021.8621131709,
          85550928.13087735,
          4587951.002189061,
          42010430.36204637,
          15657070.00141467,
          52392626.063670725,
          20100089.421307158,
          4156117.7715046695,
          57241284.40121761,
          14191059.897203194,
          67605647.30889304,
          7772399.087637446,
          21288680.743899126,
          15958315.024199514,
          47957467.217453346,
          43436197.26289749,
          87060659.1005399,
          5536960.211573138,
          8606662.068310436,
          5759285.057422716,
          35116209.536498666,
          65193101.68850133,
          15790900.620265251,
          13902597.079729963,
          23270641.876951832,
          2399144.2449874785,
          35398874.67553074,
          3627788.8513031416,
          7412659.84731835,
          56561657.98339702,
          11706234.624856308,
          28311179.387589388,
          28451302.261816736,
          9767093.903606726,
          2448859.6121093445,
          23115033.860282376,
          53616754.64702403,
          10144358.4191489,
          45375194.862007394,
          13059207.86363962,
          8239083.886388326,
          45488502.619940504,
          12643958.110229084
         ],
         "yaxis": "y"
        },
        {
         "hovertemplate": "<b>%{hovertext}</b><br><br>production_method=Animation/Live Action<br>actual=%{x}<br>predicted=%{y}<extra></extra>",
         "hovertext": [
          "Ant-Man and the Wasp: Quantumania",
          "Guardians of the Galaxy Vol 3",
          "The Little Mermaid",
          "Transformers: Rise of the Beasts",
          "Strays",
          "The Creator",
          "Kingdom of the Planet of the Apes",
          "IF",
          "Deadpool & Wolverine",
          "Harold and the Purple Crayon"
         ],
         "legendgroup": "Animation/Live Action",
         "marker": {
          "color": "#EF553B",
          "symbol": "circle"
         },
         "mode": "markers",
         "name": "Animation/Live Action",
         "orientation": "v",
         "showlegend": true,
         "type": "scatter",
         "x": [
          106109650,
          118414021,
          95578040,
          61045464,
          8247810,
          14079512,
          58400788,
          33715801,
          211435291,
          6003197
         ],
         "xaxis": "x",
         "y": [
          110481147.05128686,
          111803980.75004047,
          99082018.72562173,
          85076438.04908568,
          11318090.080760445,
          25018513.027961217,
          89398087.13759182,
          27544249.895021833,
          126879178.41530348,
          8799900.158031687
         ],
         "yaxis": "y"
        },
        {
         "hovertemplate": "<b>%{hovertext}</b><br><br>production_method=Digital Animation<br>actual=%{x}<br>predicted=%{y}<extra></extra>",
         "hovertext": [
          "The Super Mario Bros. Movie",
          "Spider-Man: Across the Spider-Verse",
          "Elemental",
          "Ruby Gillman, Teenage Kraken",
          "Teenage Mutant Ninja Turtles: Mutant Mayhem",
          "PAW Patrol: The Mighty Movie",
          "Trolls Band Together",
          "Wish",
          "Migration",
          "Kung Fu Panda 4",
          "The Garfield Movie",
          "Inside Out 2",
          "Despicable Me 4"
         ],
         "legendgroup": "Digital Animation",
         "marker": {
          "color": "#00cc96",
          "symbol": "circle"
         },
         "mode": "markers",
         "name": "Digital Animation",
         "orientation": "v",
         "showlegend": true,
         "type": "scatter",
         "x": [
          146361865,
          120663589,
          29602429,
          5500990,
          28007544,
          22764354,
          30002525,
          19698228,
          12453275,
          57989905,
          24006629,
          154201673,
          75009210
         ],
         "xaxis": "x",
         "y": [
          98504086.3851951,
          120272896.47642249,
          42750958.06596817,
          17767307.49640985,
          49091331.03227976,
          18439291.61651377,
          58541770.49706281,
          46284536.4718027,
          17926138.782678828,
          70231884.31928043,
          47097848.56926946,
          94652764.1610896,
          67243299.93602404
         ],
         "yaxis": "y"
        },
        {
         "mode": "lines",
         "name": "y=x",
         "type": "scatter",
         "x": [
          30429860,
          12701640,
          14127170,
          106109650,
          15882067,
          58370007,
          3140214,
          44447270,
          12328361,
          30111158,
          73817950,
          37205784,
          5501070,
          146361865,
          8026475,
          9006368,
          2661957,
          2925364,
          6739037,
          118414021,
          67017410,
          95578040,
          5000545,
          120663589,
          61045464,
          55043679,
          29602429,
          15002770,
          5500990,
          60368101,
          19680879,
          33013036,
          82455420,
          162022044,
          10431720,
          24082475,
          28007544,
          30002735,
          6504950,
          25030225,
          8247810,
          3325504,
          8039021,
          14079512,
          18309301,
          22764354,
          26497600,
          23253655,
          5040003,
          80001720,
          2400446,
          46110859,
          2500295,
          44607143,
          10306272,
          30002525,
          19698228,
          20638887,
          11419975,
          1755364,
          39005800,
          12453275,
          4868370,
          27686211,
          6000344,
          3921773,
          28635307,
          17473540,
          15335860,
          82505391,
          57989905,
          9912713,
          7168520,
          7633898,
          45004673,
          80006561,
          25537368,
          10297110,
          15011061,
          7731539,
          27747035,
          6503012,
          58400788,
          33715801,
          11825058,
          26326462,
          24006629,
          7003537,
          56527324,
          154201673,
          52202495,
          11052561,
          75009210,
          3078758,
          9426615,
          81251415,
          211435291,
          6003197,
          50016652,
          42003361,
          4644666,
          7650720,
          111003345,
          11397595
         ],
         "y": [
          30429860,
          12701640,
          14127170,
          106109650,
          15882067,
          58370007,
          3140214,
          44447270,
          12328361,
          30111158,
          73817950,
          37205784,
          5501070,
          146361865,
          8026475,
          9006368,
          2661957,
          2925364,
          6739037,
          118414021,
          67017410,
          95578040,
          5000545,
          120663589,
          61045464,
          55043679,
          29602429,
          15002770,
          5500990,
          60368101,
          19680879,
          33013036,
          82455420,
          162022044,
          10431720,
          24082475,
          28007544,
          30002735,
          6504950,
          25030225,
          8247810,
          3325504,
          8039021,
          14079512,
          18309301,
          22764354,
          26497600,
          23253655,
          5040003,
          80001720,
          2400446,
          46110859,
          2500295,
          44607143,
          10306272,
          30002525,
          19698228,
          20638887,
          11419975,
          1755364,
          39005800,
          12453275,
          4868370,
          27686211,
          6000344,
          3921773,
          28635307,
          17473540,
          15335860,
          82505391,
          57989905,
          9912713,
          7168520,
          7633898,
          45004673,
          80006561,
          25537368,
          10297110,
          15011061,
          7731539,
          27747035,
          6503012,
          58400788,
          33715801,
          11825058,
          26326462,
          24006629,
          7003537,
          56527324,
          154201673,
          52202495,
          11052561,
          75009210,
          3078758,
          9426615,
          81251415,
          211435291,
          6003197,
          50016652,
          42003361,
          4644666,
          7650720,
          111003345,
          11397595
         ]
        }
       ],
       "layout": {
        "legend": {
         "title": {
          "text": "production_method"
         },
         "tracegroupgap": 0
        },
        "margin": {
         "t": 60
        },
        "template": {
         "data": {
          "bar": [
           {
            "error_x": {
             "color": "#2a3f5f"
            },
            "error_y": {
             "color": "#2a3f5f"
            },
            "marker": {
             "line": {
              "color": "#E5ECF6",
              "width": 0.5
             },
             "pattern": {
              "fillmode": "overlay",
              "size": 10,
              "solidity": 0.2
             }
            },
            "type": "bar"
           }
          ],
          "barpolar": [
           {
            "marker": {
             "line": {
              "color": "#E5ECF6",
              "width": 0.5
             },
             "pattern": {
              "fillmode": "overlay",
              "size": 10,
              "solidity": 0.2
             }
            },
            "type": "barpolar"
           }
          ],
          "carpet": [
           {
            "aaxis": {
             "endlinecolor": "#2a3f5f",
             "gridcolor": "white",
             "linecolor": "white",
             "minorgridcolor": "white",
             "startlinecolor": "#2a3f5f"
            },
            "baxis": {
             "endlinecolor": "#2a3f5f",
             "gridcolor": "white",
             "linecolor": "white",
             "minorgridcolor": "white",
             "startlinecolor": "#2a3f5f"
            },
            "type": "carpet"
           }
          ],
          "choropleth": [
           {
            "colorbar": {
             "outlinewidth": 0,
             "ticks": ""
            },
            "type": "choropleth"
           }
          ],
          "contour": [
           {
            "colorbar": {
             "outlinewidth": 0,
             "ticks": ""
            },
            "colorscale": [
             [
              0,
              "#0d0887"
             ],
             [
              0.1111111111111111,
              "#46039f"
             ],
             [
              0.2222222222222222,
              "#7201a8"
             ],
             [
              0.3333333333333333,
              "#9c179e"
             ],
             [
              0.4444444444444444,
              "#bd3786"
             ],
             [
              0.5555555555555556,
              "#d8576b"
             ],
             [
              0.6666666666666666,
              "#ed7953"
             ],
             [
              0.7777777777777778,
              "#fb9f3a"
             ],
             [
              0.8888888888888888,
              "#fdca26"
             ],
             [
              1,
              "#f0f921"
             ]
            ],
            "type": "contour"
           }
          ],
          "contourcarpet": [
           {
            "colorbar": {
             "outlinewidth": 0,
             "ticks": ""
            },
            "type": "contourcarpet"
           }
          ],
          "heatmap": [
           {
            "colorbar": {
             "outlinewidth": 0,
             "ticks": ""
            },
            "colorscale": [
             [
              0,
              "#0d0887"
             ],
             [
              0.1111111111111111,
              "#46039f"
             ],
             [
              0.2222222222222222,
              "#7201a8"
             ],
             [
              0.3333333333333333,
              "#9c179e"
             ],
             [
              0.4444444444444444,
              "#bd3786"
             ],
             [
              0.5555555555555556,
              "#d8576b"
             ],
             [
              0.6666666666666666,
              "#ed7953"
             ],
             [
              0.7777777777777778,
              "#fb9f3a"
             ],
             [
              0.8888888888888888,
              "#fdca26"
             ],
             [
              1,
              "#f0f921"
             ]
            ],
            "type": "heatmap"
           }
          ],
          "heatmapgl": [
           {
            "colorbar": {
             "outlinewidth": 0,
             "ticks": ""
            },
            "colorscale": [
             [
              0,
              "#0d0887"
             ],
             [
              0.1111111111111111,
              "#46039f"
             ],
             [
              0.2222222222222222,
              "#7201a8"
             ],
             [
              0.3333333333333333,
              "#9c179e"
             ],
             [
              0.4444444444444444,
              "#bd3786"
             ],
             [
              0.5555555555555556,
              "#d8576b"
             ],
             [
              0.6666666666666666,
              "#ed7953"
             ],
             [
              0.7777777777777778,
              "#fb9f3a"
             ],
             [
              0.8888888888888888,
              "#fdca26"
             ],
             [
              1,
              "#f0f921"
             ]
            ],
            "type": "heatmapgl"
           }
          ],
          "histogram": [
           {
            "marker": {
             "pattern": {
              "fillmode": "overlay",
              "size": 10,
              "solidity": 0.2
             }
            },
            "type": "histogram"
           }
          ],
          "histogram2d": [
           {
            "colorbar": {
             "outlinewidth": 0,
             "ticks": ""
            },
            "colorscale": [
             [
              0,
              "#0d0887"
             ],
             [
              0.1111111111111111,
              "#46039f"
             ],
             [
              0.2222222222222222,
              "#7201a8"
             ],
             [
              0.3333333333333333,
              "#9c179e"
             ],
             [
              0.4444444444444444,
              "#bd3786"
             ],
             [
              0.5555555555555556,
              "#d8576b"
             ],
             [
              0.6666666666666666,
              "#ed7953"
             ],
             [
              0.7777777777777778,
              "#fb9f3a"
             ],
             [
              0.8888888888888888,
              "#fdca26"
             ],
             [
              1,
              "#f0f921"
             ]
            ],
            "type": "histogram2d"
           }
          ],
          "histogram2dcontour": [
           {
            "colorbar": {
             "outlinewidth": 0,
             "ticks": ""
            },
            "colorscale": [
             [
              0,
              "#0d0887"
             ],
             [
              0.1111111111111111,
              "#46039f"
             ],
             [
              0.2222222222222222,
              "#7201a8"
             ],
             [
              0.3333333333333333,
              "#9c179e"
             ],
             [
              0.4444444444444444,
              "#bd3786"
             ],
             [
              0.5555555555555556,
              "#d8576b"
             ],
             [
              0.6666666666666666,
              "#ed7953"
             ],
             [
              0.7777777777777778,
              "#fb9f3a"
             ],
             [
              0.8888888888888888,
              "#fdca26"
             ],
             [
              1,
              "#f0f921"
             ]
            ],
            "type": "histogram2dcontour"
           }
          ],
          "mesh3d": [
           {
            "colorbar": {
             "outlinewidth": 0,
             "ticks": ""
            },
            "type": "mesh3d"
           }
          ],
          "parcoords": [
           {
            "line": {
             "colorbar": {
              "outlinewidth": 0,
              "ticks": ""
             }
            },
            "type": "parcoords"
           }
          ],
          "pie": [
           {
            "automargin": true,
            "type": "pie"
           }
          ],
          "scatter": [
           {
            "fillpattern": {
             "fillmode": "overlay",
             "size": 10,
             "solidity": 0.2
            },
            "type": "scatter"
           }
          ],
          "scatter3d": [
           {
            "line": {
             "colorbar": {
              "outlinewidth": 0,
              "ticks": ""
             }
            },
            "marker": {
             "colorbar": {
              "outlinewidth": 0,
              "ticks": ""
             }
            },
            "type": "scatter3d"
           }
          ],
          "scattercarpet": [
           {
            "marker": {
             "colorbar": {
              "outlinewidth": 0,
              "ticks": ""
             }
            },
            "type": "scattercarpet"
           }
          ],
          "scattergeo": [
           {
            "marker": {
             "colorbar": {
              "outlinewidth": 0,
              "ticks": ""
             }
            },
            "type": "scattergeo"
           }
          ],
          "scattergl": [
           {
            "marker": {
             "colorbar": {
              "outlinewidth": 0,
              "ticks": ""
             }
            },
            "type": "scattergl"
           }
          ],
          "scattermapbox": [
           {
            "marker": {
             "colorbar": {
              "outlinewidth": 0,
              "ticks": ""
             }
            },
            "type": "scattermapbox"
           }
          ],
          "scatterpolar": [
           {
            "marker": {
             "colorbar": {
              "outlinewidth": 0,
              "ticks": ""
             }
            },
            "type": "scatterpolar"
           }
          ],
          "scatterpolargl": [
           {
            "marker": {
             "colorbar": {
              "outlinewidth": 0,
              "ticks": ""
             }
            },
            "type": "scatterpolargl"
           }
          ],
          "scatterternary": [
           {
            "marker": {
             "colorbar": {
              "outlinewidth": 0,
              "ticks": ""
             }
            },
            "type": "scatterternary"
           }
          ],
          "surface": [
           {
            "colorbar": {
             "outlinewidth": 0,
             "ticks": ""
            },
            "colorscale": [
             [
              0,
              "#0d0887"
             ],
             [
              0.1111111111111111,
              "#46039f"
             ],
             [
              0.2222222222222222,
              "#7201a8"
             ],
             [
              0.3333333333333333,
              "#9c179e"
             ],
             [
              0.4444444444444444,
              "#bd3786"
             ],
             [
              0.5555555555555556,
              "#d8576b"
             ],
             [
              0.6666666666666666,
              "#ed7953"
             ],
             [
              0.7777777777777778,
              "#fb9f3a"
             ],
             [
              0.8888888888888888,
              "#fdca26"
             ],
             [
              1,
              "#f0f921"
             ]
            ],
            "type": "surface"
           }
          ],
          "table": [
           {
            "cells": {
             "fill": {
              "color": "#EBF0F8"
             },
             "line": {
              "color": "white"
             }
            },
            "header": {
             "fill": {
              "color": "#C8D4E3"
             },
             "line": {
              "color": "white"
             }
            },
            "type": "table"
           }
          ]
         },
         "layout": {
          "annotationdefaults": {
           "arrowcolor": "#2a3f5f",
           "arrowhead": 0,
           "arrowwidth": 1
          },
          "autotypenumbers": "strict",
          "coloraxis": {
           "colorbar": {
            "outlinewidth": 0,
            "ticks": ""
           }
          },
          "colorscale": {
           "diverging": [
            [
             0,
             "#8e0152"
            ],
            [
             0.1,
             "#c51b7d"
            ],
            [
             0.2,
             "#de77ae"
            ],
            [
             0.3,
             "#f1b6da"
            ],
            [
             0.4,
             "#fde0ef"
            ],
            [
             0.5,
             "#f7f7f7"
            ],
            [
             0.6,
             "#e6f5d0"
            ],
            [
             0.7,
             "#b8e186"
            ],
            [
             0.8,
             "#7fbc41"
            ],
            [
             0.9,
             "#4d9221"
            ],
            [
             1,
             "#276419"
            ]
           ],
           "sequential": [
            [
             0,
             "#0d0887"
            ],
            [
             0.1111111111111111,
             "#46039f"
            ],
            [
             0.2222222222222222,
             "#7201a8"
            ],
            [
             0.3333333333333333,
             "#9c179e"
            ],
            [
             0.4444444444444444,
             "#bd3786"
            ],
            [
             0.5555555555555556,
             "#d8576b"
            ],
            [
             0.6666666666666666,
             "#ed7953"
            ],
            [
             0.7777777777777778,
             "#fb9f3a"
            ],
            [
             0.8888888888888888,
             "#fdca26"
            ],
            [
             1,
             "#f0f921"
            ]
           ],
           "sequentialminus": [
            [
             0,
             "#0d0887"
            ],
            [
             0.1111111111111111,
             "#46039f"
            ],
            [
             0.2222222222222222,
             "#7201a8"
            ],
            [
             0.3333333333333333,
             "#9c179e"
            ],
            [
             0.4444444444444444,
             "#bd3786"
            ],
            [
             0.5555555555555556,
             "#d8576b"
            ],
            [
             0.6666666666666666,
             "#ed7953"
            ],
            [
             0.7777777777777778,
             "#fb9f3a"
            ],
            [
             0.8888888888888888,
             "#fdca26"
            ],
            [
             1,
             "#f0f921"
            ]
           ]
          },
          "colorway": [
           "#636efa",
           "#EF553B",
           "#00cc96",
           "#ab63fa",
           "#FFA15A",
           "#19d3f3",
           "#FF6692",
           "#B6E880",
           "#FF97FF",
           "#FECB52"
          ],
          "font": {
           "color": "#2a3f5f"
          },
          "geo": {
           "bgcolor": "white",
           "lakecolor": "white",
           "landcolor": "#E5ECF6",
           "showlakes": true,
           "showland": true,
           "subunitcolor": "white"
          },
          "hoverlabel": {
           "align": "left"
          },
          "hovermode": "closest",
          "mapbox": {
           "style": "light"
          },
          "paper_bgcolor": "white",
          "plot_bgcolor": "#E5ECF6",
          "polar": {
           "angularaxis": {
            "gridcolor": "white",
            "linecolor": "white",
            "ticks": ""
           },
           "bgcolor": "#E5ECF6",
           "radialaxis": {
            "gridcolor": "white",
            "linecolor": "white",
            "ticks": ""
           }
          },
          "scene": {
           "xaxis": {
            "backgroundcolor": "#E5ECF6",
            "gridcolor": "white",
            "gridwidth": 2,
            "linecolor": "white",
            "showbackground": true,
            "ticks": "",
            "zerolinecolor": "white"
           },
           "yaxis": {
            "backgroundcolor": "#E5ECF6",
            "gridcolor": "white",
            "gridwidth": 2,
            "linecolor": "white",
            "showbackground": true,
            "ticks": "",
            "zerolinecolor": "white"
           },
           "zaxis": {
            "backgroundcolor": "#E5ECF6",
            "gridcolor": "white",
            "gridwidth": 2,
            "linecolor": "white",
            "showbackground": true,
            "ticks": "",
            "zerolinecolor": "white"
           }
          },
          "shapedefaults": {
           "line": {
            "color": "#2a3f5f"
           }
          },
          "ternary": {
           "aaxis": {
            "gridcolor": "white",
            "linecolor": "white",
            "ticks": ""
           },
           "baxis": {
            "gridcolor": "white",
            "linecolor": "white",
            "ticks": ""
           },
           "bgcolor": "#E5ECF6",
           "caxis": {
            "gridcolor": "white",
            "linecolor": "white",
            "ticks": ""
           }
          },
          "title": {
           "x": 0.05
          },
          "xaxis": {
           "automargin": true,
           "gridcolor": "white",
           "linecolor": "white",
           "ticks": "",
           "title": {
            "standoff": 15
           },
           "zerolinecolor": "white",
           "zerolinewidth": 2
          },
          "yaxis": {
           "automargin": true,
           "gridcolor": "white",
           "linecolor": "white",
           "ticks": "",
           "title": {
            "standoff": 15
           },
           "zerolinecolor": "white",
           "zerolinewidth": 2
          }
         }
        },
        "title": {
         "text": "Actual vs Predicted Opening Weekend Revenue"
        },
        "xaxis": {
         "anchor": "y",
         "domain": [
          0,
          1
         ],
         "title": {
          "text": "Actual"
         }
        },
        "yaxis": {
         "anchor": "x",
         "domain": [
          0,
          1
         ],
         "title": {
          "text": "Predicted"
         }
        }
       }
      }
     },
     "metadata": {},
     "output_type": "display_data"
    }
   ],
   "source": [
    "results_df = pd.DataFrame({'title': X_test['title'], 'actual': y_test, 'predicted': pred_simple_glm, 'production_method': X_test['production_method']})\n",
    "\n",
    "# plot actual vs predicted\n",
    "fig = px.scatter(results_df, x='actual', y='predicted', hover_name='title', color='production_method')\n",
    "fig.add_trace(go.Scatter(x=results_df['actual'], y=results_df['actual'], mode='lines', name='y=x'))\n",
    "fig.update_layout(title='Actual vs Predicted Opening Weekend Revenue', xaxis_title='Actual', yaxis_title='Predicted')"
   ]
  },
  {
   "cell_type": "code",
   "execution_count": 13,
   "metadata": {},
   "outputs": [
    {
     "data": {
      "image/png": "[encoded data removed]",
      "text/plain": [
       "<Figure size 800x600 with 1 Axes>"
      ]
     },
     "metadata": {},
     "output_type": "display_data"
    }
   ],
   "source": [
    "import matplotlib.pyplot as plt\n",
    "training_data[\"residuals\"] = training_data[\"actual\"] - training_data[\"predicted\"]\n",
    "\n",
    "# Residuals Plot\n",
    "plt.figure(figsize=(8, 6))\n",
    "plt.scatter(training_data[\"predicted\"], training_data[\"residuals\"])\n",
    "plt.axhline(y=0, color=\"red\", linestyle=\"--\")\n",
    "plt.title(\"Residuals vs Predicted Values\")\n",
    "plt.xlabel(\"Predicted Values\")\n",
    "plt.ylabel(\"Residuals\")\n",
    "plt.show()"
   ]
  },
  {
   "cell_type": "code",
   "execution_count": null,
   "metadata": {},
   "outputs": [
    {
     "data": {
      "image/png": "[encoded data removed]",
      "text/plain": [
       "<Figure size 640x480 with 1 Axes>"
      ]
     },
     "metadata": {},
     "output_type": "display_data"
    }
   ],
   "source": [
    "import statsmodels.api as sm\n",
    "sm.qqplot(training_data[\"residuals\"], line=\"45\", fit=True)\n",
    "plt.title(\"QQ Plot of Residuals\")\n",
    "plt.show()"
   ]
  },
  {
   "cell_type": "code",
   "execution_count": null,
   "metadata": {},
   "outputs": [
    {
     "data": {
      "image/png": "[encoded data removed]",
      "text/plain": [
       "<Figure size 800x600 with 1 Axes>"
      ]
     },
     "metadata": {},
     "output_type": "display_data"
    }
   ],
   "source": [
    "results_df[\"residuals\"] = results_df[\"actual\"] - results_df[\"predicted\"]\n",
    "\n",
    "plt.figure(figsize=(8, 6))\n",
    "plt.scatter(results_df[\"predicted\"], results_df[\"residuals\"])\n",
    "plt.axhline(y=0, color=\"red\", linestyle=\"--\")\n",
    "plt.title(\"Residuals vs Predicted Values (Test Set)\")\n",
    "plt.xlabel(\"Predicted Values\")\n",
    "plt.ylabel(\"Residuals\")\n",
    "plt.show()"
   ]
  },
  {
   "cell_type": "code",
   "execution_count": null,
   "metadata": {},
   "outputs": [
    {
     "data": {
      "image/png": "[encoded data removed]",
      "text/plain": [
       "<Figure size 640x480 with 1 Axes>"
      ]
     },
     "metadata": {},
     "output_type": "display_data"
    }
   ],
   "source": [
    "sm.qqplot(results_df[\"residuals\"], line=\"45\", fit=True)\n",
    "plt.title(\"QQ Plot of Residuals (Test Set)\")\n",
    "plt.show()"
   ]
  },
  {
   "cell_type": "code",
   "execution_count": null,
   "metadata": {},
   "outputs": [
    {
     "data": {
      "image/png": "[encoded data removed]",
      "text/plain": [
       "<Figure size 600x600 with 1 Axes>"
      ]
     },
     "metadata": {},
     "output_type": "display_data"
    }
   ],
   "source": [
    "influence = model_simple_glm.get_influence()\n",
    "leverage = influence.hat_matrix_diag  # Leverage values\n",
    "\n",
    "# Create the plot\n",
    "plt.figure(figsize=(6, 6))\n",
    "plt.scatter(range(len(leverage)), leverage)\n",
    "plt.axhline(y=0, color=\"red\", linestyle=\"--\", linewidth=1.2)\n",
    "plt.xlabel(\"Index\", fontsize=12)\n",
    "plt.ylabel(\"Leverage\", fontsize=12)\n",
    "plt.title(\"Leverage Plot\", fontsize=14)\n",
    "plt.grid(linestyle=\"--\", alpha=0.6)\n",
    "plt.tight_layout()\n",
    "plt.show()"
   ]
  },
  {
   "cell_type": "code",
   "execution_count": null,
   "metadata": {},
   "outputs": [
    {
     "name": "stderr",
     "output_type": "stream",
     "text": [
      "/var/folders/sl/2bth227n2bz24mmk9w3byqth0000gn/T/ipykernel_4014/2050972200.py:2: FutureWarning:\n",
      "\n",
      "Series.__getitem__ treating keys as positions is deprecated. In a future version, integer keys will always be treated as labels (consistent with DataFrame behavior). To access a value by position, use `ser.iloc[pos]`\n",
      "\n"
     ]
    },
    {
     "data": {
      "text/plain": [
       "np.float64(0.17200364368552845)"
      ]
     },
     "execution_count": 22,
     "metadata": {},
     "output_type": "execute_result"
    }
   ],
   "source": [
    "coefficients = model_simple_glm.params\n",
    "coefficients[0]"
   ]
  },
  {
   "cell_type": "code",
   "execution_count": null,
   "metadata": {},
   "outputs": [
    {
     "name": "stderr",
     "output_type": "stream",
     "text": [
      "/var/folders/sl/2bth227n2bz24mmk9w3byqth0000gn/T/ipykernel_4014/363825280.py:13: FutureWarning:\n",
      "\n",
      "Series.__getitem__ treating keys as positions is deprecated. In a future version, integer keys will always be treated as labels (consistent with DataFrame behavior). To access a value by position, use `ser.iloc[pos]`\n",
      "\n"
     ]
    },
    {
     "data": {
      "image/png": "[encoded data removed]",
      "text/plain": [
       "<Figure size 2000x1000 with 1 Axes>"
      ]
     },
     "metadata": {},
     "output_type": "display_data"
    }
   ],
   "source": [
    "#feature_names = X_train.drop(columns=[\"title\", \"production_method\"]).columns\n",
    "feature_names = coefficients.index\n",
    "coefficients = model_simple_glm.params\n",
    "feature_names = [\"Budget\", \"Wikipedia\", \"Wikipedia X Franchise X\\nProduction(Animation/Live Action)\", \"Wikipedia X Franchise X\\n Production(Animation)\", \"Wikipedia X Franchise X\\n Production(Live Action)\"]\n",
    "\n",
    "# Normalize coefficients for transparency\n",
    "max_coef = max(coefficients, key=abs)\n",
    "normalized_alpha = [abs(coef) / abs(max_coef) for coef in coefficients]\n",
    "\n",
    "# Create the plot\n",
    "fig, axs = plt.subplots(figsize=(20, 10))\n",
    "for n, feature in enumerate(feature_names):\n",
    "    coef = coefficients[n]\n",
    "    axs.bar(\n",
    "        feature,\n",
    "        coef,\n",
    "        color=\"Purple\" if coef > 0 else \"Red\",\n",
    "        alpha=normalized_alpha[n],\n",
    "    )\n",
    "    axs.text(\n",
    "            n, coef + 0.01 * max_coef, f\"{coef:.2f}\", ha=\"center\", va=\"bottom\", fontsize=15\n",
    "        )\n",
    "\n",
    "axs.set_xticks(range(len(feature_names)))\n",
    "axs.set_xticklabels(feature_names, rotation=30, ha = \"center\", fontsize = 15)\n",
    "axs.set_title(\"Feature Importance\", fontsize=14)\n",
    "axs.set_ylabel(\"Coefficient Value\", fontsize=14)\n",
    "axs.set_xlabel(\"Features\", fontsize=14)\n",
    "plt.tight_layout()\n",
    "plt.show()"
   ]
  },
  {
   "cell_type": "code",
   "execution_count": null,
   "metadata": {},
   "outputs": [
    {
     "data": {
      "application/vnd.plotly.v1+json": {
       "config": {
        "plotlyServerURL": "https://plot.ly"
       },
       "data": [
        {
         "customdata": [
          [
           -1597447.7066480406,
           "Live Action"
          ],
          [
           20282642.36457123,
           "Live Action"
          ],
          [
           9867259.108907435,
           "Live Action"
          ],
          [
           2527229.660754591,
           "Live Action"
          ],
          [
           1188334.6922212318,
           "Live Action"
          ],
          [
           -7673878.002485886,
           "Live Action"
          ],
          [
           1536119.4507039972,
           "Live Action"
          ],
          [
           7346222.66417749,
           "Live Action"
          ],
          [
           -2722685.0171070825,
           "Live Action"
          ],
          [
           -8392263.434800876,
           "Live Action"
          ],
          [
           23936784.219839536,
           "Live Action"
          ],
          [
           -16570266.34966597,
           "Live Action"
          ],
          [
           -2099686.024017852,
           "Live Action"
          ],
          [
           -7952898.051559355,
           "Live Action"
          ],
          [
           -181093.09428329207,
           "Live Action"
          ],
          [
           2675106.131141443,
           "Live Action"
          ],
          [
           306160.34110632073,
           "Live Action"
          ],
          [
           -6949291.479052514,
           "Live Action"
          ],
          [
           -1569077.8857567478,
           "Live Action"
          ],
          [
           -4168657.311609309,
           "Live Action"
          ],
          [
           -33710978.179601416,
           "Live Action"
          ],
          [
           -1168118.8062522244,
           "Live Action"
          ],
          [
           4081607.8953419738,
           "Live Action"
          ],
          [
           -2315496.216453636,
           "Live Action"
          ],
          [
           67162896.70958877,
           "Live Action"
          ],
          [
           3115292.8605940603,
           "Live Action"
          ],
          [
           66207.11211557873,
           "Live Action"
          ],
          [
           4299283.502765909,
           "Live Action"
          ],
          [
           5907406.753170723,
           "Live Action"
          ],
          [
           -14972922.197939537,
           "Live Action"
          ],
          [
           541979.293133175,
           "Live Action"
          ],
          [
           6287374.509982644,
           "Live Action"
          ],
          [
           25308259.419291504,
           "Live Action"
          ],
          [
           -36598065.69909184,
           "Live Action"
          ],
          [
           -4219137.39731361,
           "Live Action"
          ],
          [
           -12159420.756156541,
           "Live Action"
          ],
          [
           -9992132.39351122,
           "Live Action"
          ],
          [
           -6632413.406815253,
           "Live Action"
          ],
          [
           2855442.685257636,
           "Live Action"
          ],
          [
           25955722.02058807,
           "Live Action"
          ],
          [
           -296899.9426692836,
           "Live Action"
          ],
          [
           -3807913.609248927,
           "Live Action"
          ],
          [
           5801186.575295435,
           "Live Action"
          ],
          [
           -1953800.2112948708,
           "Live Action"
          ],
          [
           1648246.1070000986,
           "Live Action"
          ],
          [
           -10270007.180350099,
           "Live Action"
          ],
          [
           -3415975.494688738,
           "Live Action"
          ],
          [
           1641229.8666019663,
           "Live Action"
          ],
          [
           -7872978.698161453,
           "Live Action"
          ],
          [
           8161602.631412197,
           "Live Action"
          ],
          [
           4920856.818978524,
           "Live Action"
          ],
          [
           4016417.4283363707,
           "Live Action"
          ],
          [
           3826998.7695949944,
           "Live Action"
          ],
          [
           -1299772.6005485673,
           "Live Action"
          ],
          [
           -16918676.630235307,
           "Live Action"
          ],
          [
           -2199476.1290457677,
           "Live Action"
          ],
          [
           -2860880.211519964,
           "Live Action"
          ],
          [
           -1704041.5070810486,
           "Live Action"
          ],
          [
           -36062471.52225287,
           "Live Action"
          ],
          [
           -9702333.305395205,
           "Live Action"
          ],
          [
           283457.0422246447,
           "Live Action"
          ],
          [
           -749780.1602120316,
           "Live Action"
          ],
          [
           7587223.275113815,
           "Live Action"
          ],
          [
           -1902071.915260192,
           "Live Action"
          ],
          [
           41989574.90759951,
           "Live Action"
          ],
          [
           5490760.885802254,
           "Live Action"
          ],
          [
           4794123.436494695,
           "Live Action"
          ],
          [
           3462313.2041400243,
           "Live Action"
          ],
          [
           15854585.837011876,
           "Live Action"
          ],
          [
           -1380675.9303262727,
           "Live Action"
          ],
          [
           13040076.329096869,
           "Live Action"
          ],
          [
           -2945735.7547786497,
           "Live Action"
          ],
          [
           -17434247.734446615,
           "Live Action"
          ],
          [
           -378146.14778905176,
           "Live Action"
          ],
          [
           11796917.599590838,
           "Live Action"
          ],
          [
           7194535.241680661,
           "Live Action"
          ],
          [
           -533386.874882821,
           "Live Action"
          ],
          [
           5386919.199800098,
           "Live Action"
          ],
          [
           -40053376.24397832,
           "Live Action"
          ],
          [
           8385881.069600863,
           "Live Action"
          ],
          [
           -1603535.9663635567,
           "Live Action"
          ],
          [
           13361728.453791182,
           "Live Action"
          ],
          [
           -19577472.931882933,
           "Live Action"
          ],
          [
           -6856407.424547352,
           "Live Action"
          ],
          [
           24698231.819428194,
           "Live Action"
          ],
          [
           -13636806.089495763,
           "Live Action"
          ],
          [
           7173458.8005735595,
           "Live Action"
          ],
          [
           -7285036.534775687,
           "Live Action"
          ],
          [
           17100802.741713263,
           "Live Action"
          ],
          [
           1098078.9236774892,
           "Live Action"
          ],
          [
           5028315.086415511,
           "Live Action"
          ],
          [
           -4700072.108385725,
           "Live Action"
          ],
          [
           3104627.7815723578,
           "Live Action"
          ],
          [
           -1334947.671464853,
           "Live Action"
          ],
          [
           14646586.092497095,
           "Live Action"
          ],
          [
           2019577.6081703138,
           "Live Action"
          ],
          [
           18063299.75586719,
           "Live Action"
          ],
          [
           14483999.593246607,
           "Live Action"
          ],
          [
           -413028.1003237115,
           "Live Action"
          ],
          [
           -864427.3674669964,
           "Live Action"
          ],
          [
           355449.87098731473,
           "Live Action"
          ],
          [
           -11766007.301510692,
           "Live Action"
          ],
          [
           -2353627.942630939,
           "Live Action"
          ],
          [
           -5834275.5989560895,
           "Live Action"
          ],
          [
           23720467.915656827,
           "Live Action"
          ],
          [
           -3146242.5125254737,
           "Live Action"
          ],
          [
           9951392.541730555,
           "Live Action"
          ],
          [
           14652267.683272794,
           "Live Action"
          ],
          [
           -5076499.032602111,
           "Live Action"
          ],
          [
           -1348850.3738843799,
           "Live Action"
          ],
          [
           -9701350.831349958,
           "Live Action"
          ],
          [
           10928351.485710766,
           "Live Action"
          ],
          [
           -1968587.3640206708,
           "Live Action"
          ],
          [
           -12071777.473758887,
           "Live Action"
          ],
          [
           -481358.3288455885,
           "Live Action"
          ],
          [
           -56061.24915218353,
           "Live Action"
          ],
          [
           7047492.7585037835,
           "Live Action"
          ],
          [
           9059623.702392822,
           "Live Action"
          ],
          [
           12919096.374767855,
           "Live Action"
          ],
          [
           5092876.395351913,
           "Live Action"
          ],
          [
           22761395.18486747,
           "Live Action"
          ],
          [
           7634577.533468315,
           "Live Action"
          ],
          [
           -3487351.5338955596,
           "Live Action"
          ],
          [
           -146931.0713110885,
           "Live Action"
          ],
          [
           -23840072.14910236,
           "Live Action"
          ],
          [
           -6627029.459907241,
           "Live Action"
          ],
          [
           11158268.183927573,
           "Live Action"
          ],
          [
           317420.8244817024,
           "Live Action"
          ],
          [
           7725682.412437744,
           "Live Action"
          ],
          [
           -7013805.679086786,
           "Live Action"
          ],
          [
           976167.3410130171,
           "Live Action"
          ],
          [
           422217.6459507933,
           "Live Action"
          ],
          [
           -11122228.367425792,
           "Live Action"
          ],
          [
           -1572508.09868945,
           "Live Action"
          ],
          [
           -267029.8114684252,
           "Live Action"
          ],
          [
           621252.171610699,
           "Live Action"
          ],
          [
           9150040.034151219,
           "Live Action"
          ],
          [
           -183035.7397434432,
           "Live Action"
          ],
          [
           -4734879.534574453,
           "Live Action"
          ],
          [
           -18678180.3144008,
           "Live Action"
          ],
          [
           -18264612.209075198,
           "Live Action"
          ],
          [
           2519939.9651515987,
           "Live Action"
          ],
          [
           1344775.0573506206,
           "Live Action"
          ],
          [
           -9345877.63091654,
           "Live Action"
          ],
          [
           13354505.252875112,
           "Live Action"
          ],
          [
           -10202155.130261313,
           "Live Action"
          ],
          [
           8969351.18576436,
           "Live Action"
          ],
          [
           1831564.8111710735,
           "Live Action"
          ],
          [
           6022018.365629494,
           "Live Action"
          ],
          [
           -37286420.4169957,
           "Live Action"
          ],
          [
           -3424160.1897039833,
           "Live Action"
          ],
          [
           -8606322.768834468,
           "Live Action"
          ],
          [
           5133067.686922371,
           "Live Action"
          ],
          [
           -5004027.849693909,
           "Live Action"
          ],
          [
           -5158234.296309516,
           "Live Action"
          ],
          [
           20709447.79090736,
           "Live Action"
          ],
          [
           9941825.835827071,
           "Live Action"
          ],
          [
           -22868479.035977855,
           "Live Action"
          ],
          [
           5746321.715514075,
           "Live Action"
          ],
          [
           14616961.304975517,
           "Live Action"
          ],
          [
           10554572.081333023,
           "Live Action"
          ],
          [
           1878064.1421754267,
           "Live Action"
          ],
          [
           7157873.402932644,
           "Live Action"
          ],
          [
           4293931.894842088,
           "Live Action"
          ],
          [
           -525304.0030573206,
           "Live Action"
          ],
          [
           -7433457.649129778,
           "Live Action"
          ],
          [
           1097431.1519172564,
           "Live Action"
          ],
          [
           -3595497.329162907,
           "Live Action"
          ],
          [
           -12532380.498110287,
           "Live Action"
          ],
          [
           2611098.0198386125,
           "Live Action"
          ],
          [
           -120170.42750300281,
           "Live Action"
          ],
          [
           5945181.575296424,
           "Live Action"
          ],
          [
           16838855.901637644,
           "Live Action"
          ],
          [
           -11446923.337065723,
           "Live Action"
          ],
          [
           2436716.205950725,
           "Live Action"
          ],
          [
           9396225.910208609,
           "Live Action"
          ],
          [
           -622267.5775676537,
           "Live Action"
          ],
          [
           -20788835.915196754,
           "Live Action"
          ],
          [
           10130468.362218656,
           "Live Action"
          ],
          [
           -33503465.589080855,
           "Live Action"
          ],
          [
           6252760.071567939,
           "Live Action"
          ],
          [
           -2098263.305021161,
           "Live Action"
          ],
          [
           483375.39086244255,
           "Live Action"
          ],
          [
           40317337.25326748,
           "Live Action"
          ],
          [
           -37648956.3950026,
           "Live Action"
          ],
          [
           367967.1118602725,
           "Live Action"
          ],
          [
           3348379.391280585,
           "Live Action"
          ],
          [
           1599341.4056659397,
           "Live Action"
          ],
          [
           14445839.64347074,
           "Live Action"
          ],
          [
           4371761.447726572,
           "Live Action"
          ],
          [
           8569134.28369772,
           "Live Action"
          ],
          [
           -75426.93309502304,
           "Live Action"
          ],
          [
           43787644.08398338,
           "Live Action"
          ],
          [
           5381660.96732901,
           "Live Action"
          ],
          [
           24703622.328468934,
           "Live Action"
          ],
          [
           -7977240.194285471,
           "Live Action"
          ],
          [
           7038226.629951932,
           "Live Action"
          ],
          [
           -5908567.451541718,
           "Live Action"
          ],
          [
           3581935.2107286593,
           "Live Action"
          ],
          [
           2666975.1760550854,
           "Live Action"
          ],
          [
           19940704.16940913,
           "Live Action"
          ],
          [
           11482487.973236993,
           "Live Action"
          ],
          [
           -948444.1685061883,
           "Live Action"
          ],
          [
           -4887234.60721029,
           "Live Action"
          ],
          [
           3026053.3221166795,
           "Live Action"
          ],
          [
           68831348.4955368,
           "Live Action"
          ],
          [
           272886.98198133707,
           "Live Action"
          ],
          [
           -17473764.93441595,
           "Live Action"
          ],
          [
           -1480838.7919710204,
           "Live Action"
          ],
          [
           -3193720.000441177,
           "Live Action"
          ],
          [
           -3528471.269345412,
           "Live Action"
          ],
          [
           -1949997.9488989227,
           "Live Action"
          ],
          [
           -6387815.481051136,
           "Live Action"
          ],
          [
           -27347615.19269827,
           "Live Action"
          ],
          [
           15047190.097414762,
           "Live Action"
          ],
          [
           2707302.0802342016,
           "Live Action"
          ],
          [
           -8255791.899085846,
           "Live Action"
          ],
          [
           700103.3844206363,
           "Live Action"
          ],
          [
           -3608866.3670824524,
           "Live Action"
          ],
          [
           15965989.489471626,
           "Live Action"
          ],
          [
           -16698371.278586537,
           "Live Action"
          ],
          [
           -1603442.4523752108,
           "Live Action"
          ],
          [
           -1565639.0553280907,
           "Live Action"
          ],
          [
           -5054915.822144817,
           "Live Action"
          ],
          [
           8876647.529265039,
           "Live Action"
          ],
          [
           37844579.30131848,
           "Live Action"
          ],
          [
           939132.5206679329,
           "Live Action"
          ],
          [
           348517.000798624,
           "Live Action"
          ],
          [
           1864688.8133629113,
           "Live Action"
          ],
          [
           12305934.756520078,
           "Live Action"
          ],
          [
           -13110965.010153547,
           "Live Action"
          ],
          [
           -5543458.830812193,
           "Live Action"
          ],
          [
           -3565866.808935362,
           "Live Action"
          ],
          [
           -2864767.7920556115,
           "Live Action"
          ],
          [
           -3601732.678161666,
           "Live Action"
          ],
          [
           -4889109.228280462,
           "Live Action"
          ],
          [
           -1047907.9026607852,
           "Live Action"
          ],
          [
           -3032566.6293734647,
           "Live Action"
          ],
          [
           5566039.705083922,
           "Live Action"
          ],
          [
           -12872659.977136608,
           "Live Action"
          ],
          [
           3473380.908783648,
           "Live Action"
          ],
          [
           3857579.137329245,
           "Live Action"
          ],
          [
           -11726822.381924052,
           "Live Action"
          ],
          [
           -2222214.7465897035,
           "Live Action"
          ],
          [
           -284359.96600570716,
           "Live Action"
          ],
          [
           -12061893.410505243,
           "Live Action"
          ],
          [
           -3306279.177118536,
           "Live Action"
          ],
          [
           -6478547.52204358,
           "Live Action"
          ],
          [
           20791179.623468425,
           "Live Action"
          ],
          [
           2982090.72493904,
           "Live Action"
          ],
          [
           4038451.2608833164,
           "Live Action"
          ],
          [
           8024729.79418803,
           "Live Action"
          ],
          [
           1589777.6000152435,
           "Live Action"
          ],
          [
           2221992.825912875,
           "Live Action"
          ],
          [
           2903300.973424308,
           "Live Action"
          ],
          [
           6156611.0566051435,
           "Live Action"
          ],
          [
           15702972.356596917,
           "Live Action"
          ],
          [
           -5008243.681820564,
           "Live Action"
          ],
          [
           92546012.11208788,
           "Live Action"
          ],
          [
           7912955.187171757,
           "Live Action"
          ],
          [
           -5522069.973111518,
           "Live Action"
          ],
          [
           -212997.1065021325,
           "Live Action"
          ],
          [
           -3947105.449965548,
           "Live Action"
          ],
          [
           4032618.3380543813,
           "Live Action"
          ],
          [
           8643843.64419946,
           "Live Action"
          ],
          [
           2098365.4949546847,
           "Live Action"
          ],
          [
           -4829715.4813620215,
           "Live Action"
          ],
          [
           -9552024.248021863,
           "Live Action"
          ],
          [
           12227336.70423856,
           "Live Action"
          ],
          [
           2909799.7570550684,
           "Live Action"
          ],
          [
           -14077472.873932399,
           "Live Action"
          ],
          [
           3134137.7341131084,
           "Live Action"
          ],
          [
           613980.0528260074,
           "Live Action"
          ],
          [
           -804295.4152517691,
           "Live Action"
          ],
          [
           11869631.403966703,
           "Live Action"
          ],
          [
           -303554.5734880939,
           "Live Action"
          ],
          [
           12827882.767230883,
           "Live Action"
          ],
          [
           -2911105.423984578,
           "Live Action"
          ],
          [
           6694065.871453643,
           "Live Action"
          ],
          [
           8265986.6442893585,
           "Live Action"
          ],
          [
           8996444.724798635,
           "Live Action"
          ],
          [
           2718799.56660299,
           "Live Action"
          ],
          [
           10517461.141102795,
           "Live Action"
          ],
          [
           11126554.997909106,
           "Live Action"
          ],
          [
           15148144.980056347,
           "Live Action"
          ],
          [
           9317282.972500753,
           "Live Action"
          ],
          [
           1160912.1153102443,
           "Live Action"
          ],
          [
           2357913.488532065,
           "Live Action"
          ],
          [
           9896680.399544269,
           "Live Action"
          ],
          [
           2948513.7670125384,
           "Live Action"
          ],
          [
           -3185952.3953079423,
           "Live Action"
          ],
          [
           1237951.6116236486,
           "Live Action"
          ],
          [
           4736335.595125414,
           "Live Action"
          ],
          [
           63617543.64233257,
           "Live Action"
          ],
          [
           2630331.7924005464,
           "Live Action"
          ],
          [
           8530740.400229093,
           "Live Action"
          ],
          [
           7207566.450829513,
           "Live Action"
          ],
          [
           1525821.8902797038,
           "Live Action"
          ],
          [
           -1688174.3880585171,
           "Live Action"
          ],
          [
           1124927.3897658088,
           "Live Action"
          ],
          [
           -5044580.686279193,
           "Live Action"
          ],
          [
           16434307.327585466,
           "Live Action"
          ],
          [
           -1384551.3845969653,
           "Live Action"
          ],
          [
           6562156.92477829,
           "Live Action"
          ],
          [
           3380901.4503764436,
           "Live Action"
          ],
          [
           -3003437.67192002,
           "Live Action"
          ],
          [
           -1256297.946693574,
           "Live Action"
          ],
          [
           7062771.9251102,
           "Live Action"
          ],
          [
           -1177806.8782216161,
           "Live Action"
          ],
          [
           3930965.2416249076,
           "Live Action"
          ],
          [
           5593482.378337465,
           "Live Action"
          ],
          [
           3868342.5893685855,
           "Live Action"
          ],
          [
           -2015365.9167115446,
           "Live Action"
          ],
          [
           -1122907.84305121,
           "Live Action"
          ],
          [
           438037.7181819645,
           "Live Action"
          ],
          [
           2116613.6711490946,
           "Live Action"
          ],
          [
           -605473.2969033122,
           "Live Action"
          ],
          [
           -3609150.357091331,
           "Live Action"
          ],
          [
           18035975.132004842,
           "Live Action"
          ],
          [
           6888158.700719852,
           "Live Action"
          ],
          [
           -14136524.388648376,
           "Live Action"
          ],
          [
           311664.4382482581,
           "Live Action"
          ],
          [
           -7469001.160670262,
           "Live Action"
          ],
          [
           16327921.263562134,
           "Live Action"
          ],
          [
           645855.235808407,
           "Live Action"
          ],
          [
           3093149.074149728,
           "Live Action"
          ],
          [
           20224817.4324013,
           "Live Action"
          ],
          [
           13078312.5792052,
           "Live Action"
          ],
          [
           1706885.6109794546,
           "Live Action"
          ],
          [
           -559874.1745714508,
           "Live Action"
          ],
          [
           -4323564.8582396,
           "Live Action"
          ],
          [
           43545275.34422845,
           "Live Action"
          ],
          [
           395307.96468041465,
           "Live Action"
          ],
          [
           -2445518.2109250575,
           "Live Action"
          ],
          [
           9483741.565381464,
           "Live Action"
          ],
          [
           25114861.992977113,
           "Live Action"
          ],
          [
           -6615561.220886316,
           "Live Action"
          ],
          [
           -8827561.05656514,
           "Live Action"
          ],
          [
           -4121264.3849986494,
           "Live Action"
          ],
          [
           4116269.3515967634,
           "Live Action"
          ],
          [
           371295.5770118907,
           "Live Action"
          ],
          [
           -3650998.068062473,
           "Live Action"
          ],
          [
           11086035.564162746,
           "Live Action"
          ],
          [
           -11956282.544243887,
           "Live Action"
          ],
          [
           -3623772.509904053,
           "Live Action"
          ],
          [
           2826389.8459210815,
           "Live Action"
          ],
          [
           -19302764.874616876,
           "Live Action"
          ],
          [
           2073947.5807235185,
           "Live Action"
          ],
          [
           -1527813.4544551442,
           "Live Action"
          ],
          [
           1471913.1612534616,
           "Live Action"
          ],
          [
           -1721267.5621800087,
           "Live Action"
          ],
          [
           -10477322.77070313,
           "Live Action"
          ],
          [
           -83608.34153865092,
           "Live Action"
          ],
          [
           12382555.101151196,
           "Live Action"
          ],
          [
           13896719.123982813,
           "Live Action"
          ],
          [
           -1105379.4602263942,
           "Live Action"
          ],
          [
           -6038235.7054160535,
           "Live Action"
          ],
          [
           -5303480.129842542,
           "Live Action"
          ],
          [
           -2365851.2227297034,
           "Live Action"
          ],
          [
           2809372.8707200848,
           "Live Action"
          ],
          [
           14769079.331258092,
           "Live Action"
          ],
          [
           -1621967.1749470327,
           "Live Action"
          ],
          [
           2010655.7347385758,
           "Live Action"
          ],
          [
           6138182.560286857,
           "Live Action"
          ],
          [
           319395.52377781644,
           "Live Action"
          ],
          [
           679856.4439014196,
           "Live Action"
          ],
          [
           21707936.757603996,
           "Live Action"
          ],
          [
           6906852.492732551,
           "Live Action"
          ],
          [
           -3091871.1241372637,
           "Live Action"
          ],
          [
           45497308.52277504,
           "Live Action"
          ],
          [
           4407009.183264626,
           "Live Action"
          ],
          [
           -3934605.059698038,
           "Live Action"
          ],
          [
           7077731.537379999,
           "Live Action"
          ],
          [
           892035.7021480305,
           "Live Action"
          ],
          [
           -14412515.672262587,
           "Live Action"
          ],
          [
           -19706098.901670992,
           "Live Action"
          ],
          [
           4120199.6716551036,
           "Live Action"
          ],
          [
           12396011.024366155,
           "Live Action"
          ],
          [
           7872379.767911665,
           "Live Action"
          ],
          [
           -339446.8193713315,
           "Live Action"
          ],
          [
           2695249.422511599,
           "Live Action"
          ],
          [
           7248771.451431461,
           "Live Action"
          ],
          [
           22011179.843370423,
           "Live Action"
          ],
          [
           -775758.3465954252,
           "Live Action"
          ],
          [
           -1510664.542210801,
           "Live Action"
          ],
          [
           -11345371.632262737,
           "Live Action"
          ],
          [
           2642826.7318303064,
           "Live Action"
          ],
          [
           -13894947.502259545,
           "Live Action"
          ],
          [
           8729602.487035561,
           "Live Action"
          ],
          [
           9144336.72871837,
           "Live Action"
          ],
          [
           -45863326.95600504,
           "Live Action"
          ],
          [
           3516000.944135419,
           "Live Action"
          ],
          [
           -2330103.582706133,
           "Live Action"
          ],
          [
           -3531921.2574119437,
           "Live Action"
          ],
          [
           5408215.730798278,
           "Live Action"
          ],
          [
           851558.9182454497,
           "Live Action"
          ],
          [
           -7452547.943031363,
           "Live Action"
          ],
          [
           5721405.855554042,
           "Live Action"
          ],
          [
           2767552.480541953,
           "Live Action"
          ],
          [
           3693046.8096245676,
           "Live Action"
          ],
          [
           662304.306573838,
           "Live Action"
          ],
          [
           12361305.118678857,
           "Live Action"
          ],
          [
           4872516.674802436,
           "Live Action"
          ],
          [
           3110379.823223059,
           "Live Action"
          ],
          [
           -3825980.0964467116,
           "Live Action"
          ],
          [
           360285.8329783832,
           "Live Action"
          ],
          [
           2076671.090473799,
           "Live Action"
          ],
          [
           -1387594.574473423,
           "Live Action"
          ],
          [
           13312682.738678066,
           "Live Action"
          ],
          [
           -1614946.7742562639,
           "Live Action"
          ],
          [
           -82656.63566775434,
           "Live Action"
          ],
          [
           1882973.6836856604,
           "Live Action"
          ],
          [
           6561655.42511022,
           "Live Action"
          ],
          [
           45685981.930624925,
           "Live Action"
          ],
          [
           20795250.234310687,
           "Live Action"
          ],
          [
           -8847306.556725614,
           "Live Action"
          ],
          [
           -7925396.4932102,
           "Live Action"
          ],
          [
           -2425132.4768114425,
           "Live Action"
          ],
          [
           -18091286.703577697,
           "Live Action"
          ],
          [
           -9311978.139917346,
           "Live Action"
          ],
          [
           1220926.1667430624,
           "Live Action"
          ],
          [
           5066820.73495074,
           "Live Action"
          ],
          [
           -9998241.463023745,
           "Live Action"
          ],
          [
           -5012227.3623798005,
           "Live Action"
          ],
          [
           5290145.646042978,
           "Live Action"
          ],
          [
           7097960.343459032,
           "Live Action"
          ],
          [
           -23232983.793859117,
           "Live Action"
          ],
          [
           7152958.877833161,
           "Live Action"
          ],
          [
           -4536852.959091432,
           "Live Action"
          ],
          [
           -5708210.874946438,
           "Live Action"
          ],
          [
           -24932524.37217897,
           "Live Action"
          ],
          [
           -163975.81959224865,
           "Live Action"
          ],
          [
           -17525729.33700437,
           "Live Action"
          ],
          [
           1196006.9330239445,
           "Live Action"
          ],
          [
           3861935.0162804946,
           "Live Action"
          ],
          [
           1843060.2259946316,
           "Live Action"
          ],
          [
           1207451.954185307,
           "Live Action"
          ],
          [
           384103.83039885014,
           "Live Action"
          ],
          [
           5060649.98238096,
           "Live Action"
          ],
          [
           15770426.548349753,
           "Live Action"
          ],
          [
           322132.05811708095,
           "Live Action"
          ],
          [
           -20166258.816143677,
           "Live Action"
          ],
          [
           -9970441.69812765,
           "Live Action"
          ],
          [
           1373071.731922321,
           "Live Action"
          ],
          [
           10838144.916717723,
           "Live Action"
          ],
          [
           817800.6542557273,
           "Live Action"
          ],
          [
           9658823.007007178,
           "Live Action"
          ],
          [
           -8858527.062849846,
           "Live Action"
          ],
          [
           3508748.641081837,
           "Live Action"
          ],
          [
           33250414.724688634,
           "Live Action"
          ],
          [
           3647345.8567821262,
           "Live Action"
          ],
          [
           1322164.9182940088,
           "Live Action"
          ],
          [
           2665042.13137642,
           "Live Action"
          ],
          [
           -8384579.885773858,
           "Live Action"
          ],
          [
           16473258.849129196,
           "Live Action"
          ],
          [
           7899220.814780611,
           "Live Action"
          ],
          [
           -1379296.6437393948,
           "Live Action"
          ],
          [
           -1369726.6596686374,
           "Live Action"
          ],
          [
           1886586.3884393722,
           "Live Action"
          ],
          [
           1316196.5329595231,
           "Live Action"
          ],
          [
           15067679.232391723,
           "Live Action"
          ],
          [
           694078.5765235759,
           "Live Action"
          ],
          [
           -4623902.561268056,
           "Live Action"
          ],
          [
           -3562853.602529682,
           "Live Action"
          ],
          [
           -5101256.731495421,
           "Live Action"
          ],
          [
           -6667582.829005677,
           "Live Action"
          ],
          [
           -21471689.443706997,
           "Live Action"
          ],
          [
           -4964506.5269108545,
           "Live Action"
          ],
          [
           -3673306.7194390316,
           "Live Action"
          ],
          [
           -206297.88883838104,
           "Live Action"
          ],
          [
           -1669311.2979034418,
           "Live Action"
          ],
          [
           -7504557.566869665,
           "Live Action"
          ],
          [
           -1597843.1671071853,
           "Live Action"
          ],
          [
           -18564106.0964239,
           "Live Action"
          ],
          [
           -1431150.4072289113,
           "Live Action"
          ],
          [
           -969363.600295654,
           "Live Action"
          ],
          [
           -3301043.551651325,
           "Live Action"
          ],
          [
           -4384041.573600763,
           "Live Action"
          ],
          [
           16660095.429999918,
           "Live Action"
          ],
          [
           -6593835.034929119,
           "Live Action"
          ],
          [
           -18519801.6161585,
           "Live Action"
          ],
          [
           -1036595.0587372929,
           "Live Action"
          ],
          [
           4381222.800649211,
           "Live Action"
          ],
          [
           286664.9745123647,
           "Live Action"
          ],
          [
           -1157768.4317211695,
           "Live Action"
          ],
          [
           -12008067.105824295,
           "Live Action"
          ],
          [
           -1479855.7827130677,
           "Live Action"
          ],
          [
           -2527919.1662461236,
           "Live Action"
          ],
          [
           2453289.243968487,
           "Live Action"
          ],
          [
           -64058500.58030763,
           "Live Action"
          ],
          [
           25078459.803935923,
           "Live Action"
          ],
          [
           -28379464.571085416,
           "Live Action"
          ],
          [
           -64761674.01034345,
           "Live Action"
          ],
          [
           -10470029.491248868,
           "Live Action"
          ],
          [
           -28978685.380387843,
           "Live Action"
          ],
          [
           -7405186.151036628,
           "Live Action"
          ],
          [
           10656372.142754488,
           "Live Action"
          ],
          [
           -11515549.694644827,
           "Live Action"
          ],
          [
           -14988033.78057962,
           "Live Action"
          ],
          [
           -11187221.013685875,
           "Live Action"
          ],
          [
           -12977896.798112858,
           "Live Action"
          ],
          [
           -11985272.21605373,
           "Live Action"
          ],
          [
           -59480870.48714487,
           "Live Action"
          ],
          [
           -24752443.185188524,
           "Live Action"
          ],
          [
           -11269263.246098654,
           "Live Action"
          ],
          [
           9425227.594106093,
           "Live Action"
          ],
          [
           13124774.942468762,
           "Live Action"
          ],
          [
           -22146756.9537116,
           "Live Action"
          ],
          [
           -2667532.6658852007,
           "Live Action"
          ],
          [
           767790.5059505161,
           "Live Action"
          ],
          [
           -22063852.09108469,
           "Live Action"
          ],
          [
           10940312.663929284,
           "Live Action"
          ],
          [
           10190277.197678136,
           "Live Action"
          ],
          [
           40718465.84412144,
           "Live Action"
          ],
          [
           -4293053.185026504,
           "Live Action"
          ],
          [
           -1025569.3514463957,
           "Live Action"
          ],
          [
           12870157.072932888,
           "Live Action"
          ],
          [
           -3152218.81233038,
           "Live Action"
          ],
          [
           -2663197.44178522,
           "Live Action"
          ],
          [
           -1209906.1365165776,
           "Live Action"
          ],
          [
           -2994327.5759046935,
           "Live Action"
          ],
          [
           53152631.809212744,
           "Live Action"
          ],
          [
           4895178.4665662795,
           "Live Action"
          ],
          [
           9088660.00879921,
           "Live Action"
          ],
          [
           19879914.83514592,
           "Live Action"
          ],
          [
           5811832.553943969,
           "Live Action"
          ],
          [
           -3680435.6015421804,
           "Live Action"
          ],
          [
           -9992632.765805643,
           "Live Action"
          ],
          [
           6771265.405449852,
           "Live Action"
          ],
          [
           7202674.254775312,
           "Live Action"
          ],
          [
           943954.576422859,
           "Live Action"
          ],
          [
           -16616947.25060213,
           "Live Action"
          ],
          [
           15724198.93494045,
           "Live Action"
          ],
          [
           -24374897.063588157,
           "Live Action"
          ],
          [
           -631878.4041307569,
           "Live Action"
          ],
          [
           -5353258.931310147,
           "Live Action"
          ],
          [
           4544185.221147817,
           "Live Action"
          ],
          [
           -26019826.196447406,
           "Live Action"
          ],
          [
           1038214.1584711839,
           "Live Action"
          ]
         ],
         "hovertemplate": "<b>%{hovertext}</b><br><br>Production Method=%{customdata[1]}<br>Index=%{x}<br>Leverage=%{y}<br>Residuals=%{customdata[0]}<extra></extra>",
         "hovertext": [
          "The Transporter Refueled",
          "The Perfect Guy",
          "The Visit",
          "Maze Runner: The Scorch Trials",
          "Black Mass",
          "Everest",
          "Sicario",
          "The Intern",
          "The Green Inferno",
          "The Walk",
          "The Martian",
          "Pan",
          "Steve Jobs",
          "Crimson Peak",
          "Woodlawn",
          "Bridge of Spies",
          "Paranormal Activity: The Ghost Dimension",
          "The Last Witch Hunter",
          "Burnt",
          "Our Brand is Crisis",
          "Spectre",
          "Spotlight",
          "Love the Coopers",
          "The 33",
          "The Hunger Games: Mockingjay - Part 2",
          "The Night Before",
          "Secret in Their Eyes",
          "Creed",
          "Krampus",
          "In the Heart of the Sea",
          "The Big Short",
          "Sisters",
          "Daddy’s Home",
          "Joy",
          "Concussion",
          "Point Break",
          "The Hateful Eight",
          "The Revenant",
          "The Forest",
          "Ride Along 2",
          "13 Hours: The Secret Soldiers of Benghazi",
          "The Boy",
          "Dirty Grandpa",
          "The 5th Wave",
          "Fifty Shades of Black",
          "The Finest Hours",
          "Pride and Prejudice and Zombies",
          "Hail, Caesar!",
          "Zoolander 2",
          "How to be Single",
          "Risen",
          "The Witch",
          "Race",
          "Triple 9",
          "Gods of Egypt",
          "Eddie the Eagle",
          "London Has Fallen",
          "Whiskey Tango Foxtrot",
          "10 Cloverfield Lane",
          "The Brothers Grimsby",
          "Eye in the Sky",
          "The Young Messiah",
          "Miracles from Heaven",
          "The Divergent Series: Allegiant",
          "Batman v Superman: Dawn of Justice",
          "My Big Fat Greek Wedding 2",
          "God’s Not Dead 2",
          "Meet the Blacks",
          "The Boss",
          "Hardcore Henry",
          "Barbershop: The Next Cut",
          "Criminal",
          "The Huntsman: Winter’s War",
          "Mother’s Day",
          "Captain America: Civil War",
          "Money Monster",
          "The Nice Guys",
          "Neighbors 2: Sorority Rising",
          "X-Men: Apocalypse",
          "Me Before You",
          "Popstar: Never Stop Never Stopping",
          "The Conjuring 2: The Enfield Poltergeist",
          "Warcraft",
          "Now You See Me 2",
          "Central Intelligence",
          "Independence Day: Resurgence",
          "The Shallows",
          "Free State of Jones",
          "The Purge: Election Year",
          "The Legend of Tarzan",
          "Mike and Dave Need Wedding Dates",
          "The Infiltrator",
          "Hillary’s America: The Secret History of the Democratic Party",
          "Star Trek Beyond",
          "Lights Out",
          "Nerve",
          "Jason Bourne",
          "Bad Moms",
          "Nine Lives",
          "Florence Foster Jenkins",
          "Hell or High Water",
          "Ben-Hur",
          "War Dogs",
          "Mechanic: Resurrection",
          "Don’t Breathe",
          "The Light Between Oceans",
          "When the Bough Breaks",
          "Sully",
          "Blair Witch",
          "Snowden",
          "Bridget Jones’s Baby",
          "The Magnificent Seven",
          "Queen of Katwe",
          "Deepwater Horizon",
          "Masterminds",
          "The Birth of a Nation",
          "The Girl on the Train",
          "Kevin Hart: What Now?",
          "The Accountant",
          "Jack Reacher: Never Go Back",
          "Tyler Perry’s Boo! A Madea Halloween",
          "Ouija: Origin of Evil",
          "Keeping Up with the Joneses",
          "Moonlight",
          "Inferno",
          "Hacksaw Ridge",
          "Almost Christmas",
          "Shut In",
          "Arrival",
          "Nocturnal Animals",
          "Manchester by the Sea",
          "The Edge of Seventeen",
          "Allied",
          "Bad Santa 2",
          "Lion",
          "Incarnate",
          "Office Christmas Party",
          "La La Land",
          "Collateral Beauty",
          "Assassin’s Creed",
          "Passengers",
          "Patriots Day",
          "Why Him?",
          "Live by Night",
          "Hidden Figures",
          "Underworld: Blood Wars",
          "The Bye Bye Man",
          "Sleepless",
          "Split",
          "xXx: Return of Xander Cage",
          "The Founder",
          "Resident Evil: The Final Chapter",
          "A Dog’s Purpose",
          "The Space Between Us",
          "Rings",
          "Fifty Shades Darker",
          "John Wick: Chapter Two",
          "The Great Wall",
          "Fist Fight",
          "Get Out",
          "The Shack",
          "Before I Fall",
          "Logan",
          "Kong: Skull Island",
          "The Belko Experiment",
          "Life",
          "CHiPS",
          "The Zookeeper’s Wife",
          "Ghost in the Shell",
          "The Case for Christ",
          "Gifted",
          "Going in Style",
          "The Fate of the Furious",
          "The Promise",
          "Unforgettable",
          "How to Be a Latin Lover",
          "The Circle",
          "King Arthur: Legend of the Sword",
          "Snatched",
          "Alien: Covenant",
          "Everything, Everything",
          "Diary of a Wimpy Kid: The Long Haul",
          "Baywatch",
          "Wonder Woman",
          "The Mummy",
          "It Comes at Night",
          "47 Meters Down",
          "Rough Night",
          "All Eyez on Me",
          "The Big Sick",
          "Baby Driver",
          "The House",
          "Spider-Man: Homecoming",
          "Dunkirk",
          "Girls Trip",
          "Detroit",
          "Atomic Blonde",
          "The Dark Tower",
          "Kidnap",
          "Wind River",
          "Annabelle: Creation",
          "The Hitman’s Bodyguard",
          "Logan Lucky",
          "Birth of the Dragon",
          "Home Again",
          "It",
          "American Assassin",
          "mother!",
          "Kingsman: The Golden Circle",
          "Battle of the Sexes",
          "Victoria and Abdul",
          "American Made",
          "Flatliners",
          "Blade Runner 2049",
          "Happy Death Day",
          "The Foreigner",
          "Geostorm",
          "Same Kind of Different as Me",
          "Only the Brave",
          "Tyler Perry’s Boo 2! A Madea Halloween",
          "The Snowman",
          "Jigsaw",
          "Thank You for Your Service",
          "Suburbicon",
          "A Bad Moms Christmas",
          "Thor: Ragnarok",
          "Lady Bird",
          "Three Billboards Outside Ebbing, Missouri",
          "Murder on the Orient Express",
          "Daddy’s Home 2",
          "Justice League",
          "Wonder",
          "Roman J. Israel, Esq.",
          "Darkest Hour",
          "The Shape of Water",
          "The Disaster Artist",
          "Just Getting Started",
          "I, Tonya",
          "Jumanji: Welcome to the Jungle",
          "The Greatest Showman",
          "The Post",
          "Pitch Perfect 3",
          "Downsizing",
          "Father Figures",
          "Hostiles",
          "All the Money in the World",
          "Molly’s Game",
          "Phantom Thread",
          "Insidious: The Last Key",
          "Proud Mary",
          "The Commuter",
          "Den of Thieves",
          "12 Strong",
          "Forever My Girl",
          "Maze Runner: The Death Cure",
          "Winchester",
          "Fifty Shades Freed",
          "The 15:17 to Paris",
          "Black Panther",
          "Game Night",
          "Annihilation",
          "Every Day",
          "Red Sparrow",
          "Death Wish",
          "A Wrinkle in Time",
          "The Strangers: Prey at Night",
          "The Hurricane Heist",
          "Tomb Raider",
          "I Can Only Imagine",
          "Love, Simon",
          "Pacific Rim: Uprising",
          "Paul, Apostle of Christ",
          "Midnight Sun",
          "Unsane",
          "Acrimony",
          "A Quiet Place",
          "Blockers",
          "Chappaquiddick",
          "Rampage",
          "I Feel Pretty",
          "Super Troopers 2",
          "Traffik",
          "Overboard",
          "Life of the Party",
          "Breaking In",
          "Book Club",
          "Adrift",
          "Upgrade",
          "Ocean’s 8",
          "Hereditary",
          "Hotel Artemis",
          "Superfly",
          "Tag",
          "Jurassic World: Fallen Kingdom",
          "Sicario: Day of the Soldado",
          "Uncle Drew",
          "The First Purge",
          "Sorry to Bother You",
          "Skyscraper",
          "Eighth Grade",
          "Mamma Mia: Here We Go Again!",
          "The Equalizer 2",
          "Unfriended: Dark Web",
          "Mission: Impossible—Fallout",
          "The Spy Who Dumped Me",
          "The Darkest Minds",
          "Dog Days",
          "Slender Man",
          "The Meg",
          "BlacKkKlansman",
          "Crazy Rich Asians",
          "Mile 22",
          "Alpha",
          "The Happytime Murders",
          "A.X.L.",
          "Searching",
          "Operation Finale",
          "Kin",
          "The Nun",
          "Peppermint",
          "The Predator",
          "A Simple Favor",
          "White Boy Rick",
          "The House with a Clock in its Walls",
          "Fahrenheit 11/9",
          "Hell Fest",
          "Night School",
          "A Star is Born",
          "The Hate U Give",
          "First Man",
          "Bad Times at the El Royale",
          "Halloween",
          "Mid90s",
          "Hunter Killer",
          "Nobody’s Fool",
          "Bohemian Rhapsody",
          "The Nutcracker and the Four Realms",
          "The Girl in the Spider’s Web",
          "Overlord",
          "Instant Family",
          "Widows",
          "Green Book",
          "Creed II",
          "Robin Hood",
          "The Favourite",
          "The Possession of Hannah Grace",
          "Mortal Engines",
          "The Mule",
          "If Beale Street Could Talk",
          "Second Act",
          "Holmes & Watson",
          "Vice",
          "On the Basis of Sex",
          "Escape Room",
          "The Upside",
          "A Dog’s Way Home",
          "Glass",
          "The Kid Who Would Be King",
          "Serenity",
          "Miss Bala",
          "What Men Want",
          "Cold Pursuit",
          "The Prodigy",
          "Isn’t it Romantic",
          "Happy Death Day 2U",
          "Fighting With My Family",
          "Tyler Perry’s A Madea Family Funeral",
          "Five Feet Apart",
          "Captive State",
          "Us",
          "Unplanned",
          "Shazam!",
          "Pet Sematary",
          "The Best of Enemies",
          "After",
          "Hellboy",
          "Breakthrough",
          "The Curse of La Llorona",
          "The Intruder",
          "Long Shot",
          "Poms",
          "The Hustle",
          "John Wick: Chapter 3 — Parabellum",
          "A Dog’s Journey",
          "The Sun is Also a Star",
          "BrightBurn",
          "Booksmart",
          "Godzilla: King of the Monsters",
          "Rocketman",
          "MA",
          "Dark Phoenix",
          "Late Night",
          "Shaft",
          "Anna",
          "Annabelle Comes Home",
          "Spider-Man: Far From Home",
          "Midsommar",
          "Crawl",
          "Stuber",
          "Once Upon a Time…in Hollywood",
          "Fast & Furious Presents: Hobbs & Shaw",
          "Scary Stories to Tell in the Dark",
          "Dora and the Lost City of Gold",
          "The Art of Racing in the Rain",
          "The Kitchen",
          "The Peanut Butter Falcon",
          "47 Meters Down: Uncaged",
          "Where’d You Go Bernadette",
          "Good Boys",
          "Blinded by the Light",
          "Ready or Not",
          "Angel Has Fallen",
          "Overcomer",
          "It: Chapter Two",
          "Hustlers",
          "The Goldfinch",
          "Ad Astra",
          "Rambo: Last Blood",
          "Joker",
          "Parasite (기생충)",
          "Jexi",
          "Zombieland: Double Tap",
          "Maleficent: Mistress of Evil",
          "Jojo Rabbit",
          "Black and Blue",
          "Countdown",
          "The Current War: Director’s Cut",
          "Harriet",
          "Motherless Brooklyn",
          "Midway",
          "Doctor Sleep",
          "Last Christmas",
          "Charlie’s Angels",
          "The Good Liar",
          "Ford v. Ferrari",
          "A Beautiful Day in the Neighborhood",
          "21 Bridges",
          "Knives Out",
          "Queen & Slim",
          "Jumanji: The Next Level",
          "Black Christmas",
          "Richard Jewell",
          "Bombshell",
          "Little Women",
          "1917",
          "Just Mercy",
          "The Grudge",
          "Underwater",
          "Like a Boss",
          "Bad Boys For Life",
          "The Gentlemen",
          "The Turning",
          "Gretel & Hansel",
          "The Rhythm Section",
          "Birds of Prey (And the Fantabulous Emancipation of One Harley Quinn)",
          "The Photograph",
          "The Call of the Wild",
          "Brahms: The Boy II",
          "Impractical Jokers: The Movie",
          "Emma.",
          "The Invisible Man",
          "The Way Back",
          "Bloodshot",
          "I Still Believe",
          "The Hunt",
          "Unhinged",
          "The New Mutants",
          "The War with Grandpa",
          "Honest Thief",
          "Come Play",
          "Freaky",
          "News of the World",
          "The Marksman",
          "Chaos Walking",
          "Nobody",
          "The Unholy",
          "Wrath of Man",
          "Spiral",
          "A Quiet Place: Part II",
          "The Hitman’s Wife’s Bodyguard",
          "F9: The Fast Saga",
          "The Forever Purge",
          "Black Widow",
          "Escape Room: Tournament of Champions",
          "Old",
          "Snake Eyes: G.I. Joe Origins",
          "The Green Knight",
          "Don’t Breathe 2",
          "Shang-Chi and the Legend of the Ten Rings",
          "No Time to Die",
          "Halloween Kills",
          "The Last Duel",
          "Dune",
          "Last Night in Soho",
          "Eternals",
          "King Richard",
          "Ghostbusters: Afterlife",
          "Resident Evil: Welcome to Raccoon City",
          "House of Gucci",
          "Licorice Pizza",
          "West Side Story",
          "Nightmare Alley",
          "The Matrix Resurrections",
          "The King’s Man",
          "The 355",
          "Scream",
          "jackass forever",
          "Moonfall",
          "Blacklight",
          "Marry Me",
          "Death on the Nile",
          "Uncharted",
          "Dog",
          "The Batman",
          "X",
          "Everything Everywhere All At Once",
          "The Lost City",
          "Morbius",
          "Ambulance",
          "Father Stu",
          "The Unbearable Weight of Massive Talent",
          "Top Gun: Maverick",
          "Elvis",
          "Where the Crawdads Sing",
          "Nope",
          "Bullet Train",
          "Beast",
          "Three Thousand Years of Longing",
          "Barbarian",
          "The Woman King",
          "Smile",
          "Amsterdam",
          "Halloween Ends",
          "Black Adam",
          "Ticket to Paradise",
          "The Menu",
          "Violent Night",
          "Babylon",
          "A Man Called Otto"
         ],
         "legendgroup": "Live Action",
         "marker": {
          "color": "#636efa",
          "symbol": "circle"
         },
         "mode": "markers",
         "name": "Live Action",
         "orientation": "v",
         "showlegend": true,
         "type": "scatter",
         "x": [
          0,
          1,
          2,
          3,
          4,
          5,
          6,
          7,
          8,
          10,
          11,
          12,
          13,
          14,
          15,
          16,
          18,
          19,
          20,
          21,
          22,
          24,
          25,
          26,
          27,
          28,
          29,
          30,
          32,
          33,
          34,
          35,
          38,
          39,
          40,
          41,
          42,
          43,
          44,
          45,
          46,
          48,
          49,
          50,
          51,
          53,
          54,
          55,
          56,
          57,
          59,
          60,
          61,
          62,
          63,
          64,
          66,
          67,
          68,
          69,
          70,
          71,
          72,
          73,
          74,
          75,
          76,
          77,
          78,
          79,
          81,
          82,
          83,
          84,
          87,
          88,
          89,
          91,
          92,
          95,
          96,
          97,
          98,
          99,
          100,
          102,
          103,
          104,
          105,
          106,
          109,
          110,
          111,
          114,
          115,
          116,
          117,
          118,
          120,
          122,
          124,
          126,
          127,
          128,
          129,
          130,
          131,
          132,
          133,
          134,
          135,
          136,
          138,
          140,
          141,
          142,
          143,
          145,
          146,
          147,
          148,
          149,
          150,
          151,
          152,
          155,
          156,
          157,
          158,
          159,
          160,
          162,
          163,
          164,
          166,
          167,
          168,
          169,
          171,
          173,
          174,
          175,
          176,
          177,
          178,
          179,
          180,
          181,
          183,
          184,
          185,
          186,
          187,
          188,
          189,
          190,
          191,
          193,
          194,
          195,
          197,
          198,
          199,
          200,
          202,
          204,
          205,
          206,
          207,
          209,
          210,
          211,
          213,
          214,
          215,
          216,
          217,
          219,
          220,
          221,
          222,
          223,
          224,
          226,
          228,
          229,
          230,
          231,
          232,
          235,
          236,
          238,
          239,
          242,
          243,
          244,
          245,
          247,
          248,
          249,
          250,
          252,
          253,
          254,
          256,
          257,
          258,
          259,
          260,
          262,
          263,
          264,
          265,
          266,
          268,
          269,
          270,
          271,
          272,
          273,
          274,
          275,
          276,
          277,
          278,
          279,
          280,
          281,
          282,
          283,
          284,
          285,
          287,
          289,
          290,
          291,
          292,
          293,
          296,
          297,
          298,
          299,
          300,
          301,
          302,
          303,
          304,
          305,
          306,
          307,
          309,
          310,
          311,
          312,
          313,
          314,
          315,
          317,
          318,
          320,
          321,
          322,
          323,
          324,
          325,
          326,
          327,
          328,
          329,
          330,
          331,
          333,
          334,
          335,
          338,
          339,
          340,
          341,
          342,
          343,
          344,
          345,
          347,
          348,
          349,
          351,
          354,
          355,
          356,
          357,
          358,
          359,
          361,
          362,
          363,
          364,
          365,
          366,
          369,
          370,
          371,
          372,
          373,
          374,
          377,
          378,
          379,
          380,
          381,
          382,
          383,
          384,
          385,
          386,
          387,
          388,
          389,
          390,
          391,
          392,
          393,
          394,
          395,
          396,
          397,
          398,
          399,
          402,
          403,
          404,
          406,
          407,
          408,
          409,
          410,
          411,
          412,
          413,
          414,
          417,
          418,
          419,
          420,
          422,
          423,
          424,
          426,
          427,
          428,
          432,
          434,
          435,
          436,
          437,
          438,
          439,
          440,
          441,
          442,
          443,
          445,
          446,
          447,
          448,
          449,
          451,
          453,
          455,
          457,
          458,
          460,
          461,
          462,
          463,
          464,
          465,
          466,
          467,
          469,
          470,
          472,
          473,
          475,
          476,
          477,
          479,
          480,
          481,
          482,
          483,
          484,
          486,
          488,
          489,
          491,
          492,
          493,
          494,
          495,
          497,
          498,
          499,
          500,
          501,
          502,
          503,
          505,
          506,
          507,
          508,
          509,
          510,
          511,
          512,
          513,
          514,
          515,
          516,
          518,
          519,
          521,
          523,
          524,
          525,
          526,
          527,
          528,
          530,
          531,
          533,
          534,
          535,
          536,
          537,
          538,
          540,
          541,
          542,
          543,
          544,
          545,
          546,
          547,
          550,
          552,
          553,
          554,
          555,
          556,
          557,
          559,
          560,
          561,
          562,
          563,
          564,
          566,
          567,
          568,
          569,
          570,
          572,
          573,
          574,
          575,
          576,
          577,
          578,
          579,
          580,
          581,
          583,
          584,
          585,
          586,
          587,
          589,
          590,
          591,
          594,
          595,
          596,
          598,
          599,
          600,
          601,
          603,
          604,
          606,
          608,
          609,
          610,
          611,
          612,
          613,
          615,
          616,
          617,
          618,
          620,
          621,
          622,
          624,
          625,
          627,
          628,
          629,
          630,
          631,
          632,
          633,
          634,
          635,
          636,
          637,
          638,
          639,
          640,
          642,
          643,
          646,
          648,
          651,
          655,
          656,
          658,
          659,
          660,
          661,
          662,
          663,
          665,
          666,
          667,
          668,
          670,
          672,
          675,
          676
         ],
         "xaxis": "x",
         "y": [
          0.0002052941316886789,
          0.00031518124631661304,
          0.014766807764897538,
          0.0020318906246549885,
          0.007801751434597618,
          0.0047021621073712735,
          0.00031506128282385174,
          0.000800653927351163,
          0.0025617417619047656,
          0.0018370228101369794,
          0.00759963618388965,
          0.009010814815670166,
          0.000824306173986186,
          0.006841986414028037,
          0.00018807991305649598,
          0.0016827914198121235,
          0.0002650030014780456,
          0.0025314182336279535,
          0.0004851041361224218,
          0.0004149843978418839,
          0.02780737542032934,
          0.0002526103637005862,
          0.00013282577595831596,
          0.0007164119236967833,
          0.0111085037912472,
          0.000355781435004607,
          0.0004897365804065145,
          0.0024889778623032504,
          0.0036199049008559985,
          0.005043136397254577,
          0.001330346297887746,
          0.0004273003218500513,
          0.0009015068531850152,
          0.11642298599664715,
          0.003942745836166136,
          0.003955996847034512,
          0.011684006343550763,
          0.026723954309659573,
          0.0042003651657014866,
          0.000661878616883512,
          0.0030797683028391427,
          0.0014622337935538575,
          0.0005938475811049129,
          0.0016353436668698023,
          0.000709421833991325,
          0.0037665379627871754,
          0.0007700318530072844,
          0.0018539410775523873,
          0.0012157987869284865,
          0.0007089166622030228,
          0.0005856862604241073,
          0.0011406306521384894,
          0.00042413211660182794,
          0.0007890484024145111,
          0.0077517541363002675,
          0.00093286504672393,
          0.0015364148482200236,
          0.0006266841959977922,
          0.034488596279050605,
          0.002412886390860187,
          0.00011260479684845775,
          0.00011938990521210687,
          0.0014044951062146514,
          0.004223887545556672,
          0.041326891733167205,
          0.000595874943800592,
          0.000025375505052273488,
          0.000011323797411573035,
          0.0004561896955964334,
          0.002583354672072472,
          0.00014227186354551582,
          0.0006090280829919494,
          0.004434492236093145,
          0.00021695376874899703,
          0.10607131502441255,
          0.000475132089231326,
          0.0010219343863514976,
          0.0007165748345538596,
          0.03739143680530606,
          0.0026310122842465415,
          0.00040837447742804445,
          0.002799620757503829,
          0.015086885803019874,
          0.002720455022746068,
          0.000991857976685313,
          0.009187498682550303,
          0.003288734263011614,
          0.0020122505933203197,
          0.001419514049795667,
          0.013203164183930851,
          0.0017405724769183966,
          0.0009094764872115694,
          0.000014125479020897026,
          0.011513156251591,
          0.002498764795973287,
          0.0007962542287390465,
          0.004933642207140684,
          0.00023247132078194055,
          0.0003559902792871217,
          0.0004114334174982534,
          0.0000778802696928554,
          0.003844372189338728,
          0.003521563285437828,
          0.0005404156777599049,
          0.00003600930698228955,
          0.0010193690600037685,
          0.00033370793882606624,
          0.004999653108194035,
          0.001478861585840592,
          0.00119304570593613,
          0.0009761417485914072,
          0.004269028120033073,
          0.00018220954516806406,
          0.009959889238965963,
          0.00040553177412921027,
          0.0017009571328195305,
          0.004819681792630111,
          0.00005702951896873043,
          0.0012477695291831987,
          0.0012231242704120043,
          0.00013796015333830702,
          0.0001675559733867691,
          0.0006335706902560391,
          0.00012114243253909939,
          0.004330630985018613,
          0.01252695519481346,
          0.00011767252721454755,
          0.00012285574902218523,
          0.0033832257273670396,
          0.0021117568594837062,
          0.00016095601838896702,
          0.00041971486560911657,
          0.004454557098897671,
          0.0002291752144383609,
          0.000190484580364643,
          0.000056063797303260504,
          0.0011441638006926592,
          0.0010373841006286219,
          0.00157616542977399,
          0.006304183335061017,
          0.010283973140354126,
          0.0006372819257812708,
          0.0006831823962146753,
          0.0016713499839059686,
          0.001332639795361792,
          0.0022065589538698078,
          0.0006141881177511396,
          0.0003568894595374751,
          0.010652297557837566,
          0.012606471266032782,
          0.0009606498440750144,
          0.001532515078707672,
          0.0005022648026216122,
          0.0006822254591956951,
          0.001358604169881652,
          0.0018003944225906008,
          0.0012065687287250008,
          0.013632224859991153,
          0.00030830676747646893,
          0.022023023917924815,
          0.00025945511466210464,
          0.0002157021050247836,
          0.023842170440533324,
          0.011509294177712836,
          0.0009036794994561707,
          0.004907697718075754,
          0.0003326620097202846,
          0.0004024105779035747,
          0.008145542396016,
          0.000037551694263978345,
          0.00021487261947515765,
          0.00026073717813913987,
          0.02102901975903044,
          0.00453811566436008,
          0.00006344371364343967,
          0.0000690346630670701,
          0.002405263889572056,
          0.012557808300360854,
          0.0006987787689389333,
          0.01976325898708275,
          0.0007922124991408533,
          0.00021788964232242038,
          0.0030240064769368608,
          0.010142947725155428,
          0.013366197568759161,
          0.0014497873568567043,
          0.00042768734324641003,
          0.000436419512236051,
          0.0010959733450386303,
          0.000317270267581422,
          0.0018683057734781813,
          0.0006328484656212286,
          0.013733823364045696,
          0.019035961650615833,
          0.00031683697968842,
          0.0034026681837078685,
          0.0018620711597923227,
          0.0016487620805652565,
          0.00040152101935034636,
          0.0000669214299518704,
          0.0012410249791471885,
          0.00030336090736079167,
          0.0006558217245658929,
          0.00041856112216654345,
          0.00043916442256099295,
          0.02113132792708837,
          0.0015994839958016083,
          0.024209597466389517,
          0.004250179394868927,
          0.000329116256532014,
          0.00042762082824618407,
          0.00515005370938209,
          0.0006151234157865449,
          0.011494671149985453,
          0.000978291786823182,
          0.0009881325871184152,
          0.0039559282916752266,
          0.000031352112611455656,
          0.0006750281249155318,
          0.00014674033539311985,
          0.001294639169503977,
          0.0025241826229991764,
          0.00022371528740789656,
          0.0006438713689140532,
          0.00027347156899753394,
          0.01937127951564943,
          0.00009782261665807954,
          0.00019457337905619076,
          0.0019802930507821083,
          0.0018982125430998002,
          0.03171608802326867,
          0.007978602345459877,
          0.0008925418144314335,
          0.0003570464106616414,
          0.0007128670649973164,
          0.005817719096945974,
          0.00021791410556190269,
          0.0008946349777207484,
          0.0027624933134576327,
          0.0034753054923143422,
          0.002641957265972222,
          0.0007147149438020747,
          0.002021556135781041,
          0.0002471792902255458,
          0.001018953086559775,
          0.004061636656860738,
          0.001237314361112227,
          0.0007641570153730877,
          0.0003798735719493056,
          0.0003644115131582552,
          0.0006805573080917642,
          0.00037737775875711056,
          0.0034591943899946777,
          0.0001152142904966016,
          0.0012881995581315853,
          0.00040403945809488464,
          0.0013371128578070265,
          0.008796581668388639,
          0.036687187019612384,
          0.000600546509845534,
          0.0025875443708873866,
          0.0003348036871295093,
          0.004059172376321281,
          0.0007451173176657086,
          0.004403507606038143,
          0.0005032287653959739,
          0.0007013950191615527,
          0.0029537396010813873,
          0.00009418183994008027,
          0.0031498975250473845,
          0.00857598914743829,
          0.00007141955763136777,
          0.0005454503748967861,
          0.0012674798458264629,
          0.00021300057121390807,
          0.022408179227591286,
          0.0008475760111509407,
          0.0005526506518995092,
          0.006149778680927184,
          0.00043878317753998607,
          0.00010097350311015792,
          0.000014420717029940548,
          0.00022478362222225665,
          0.00035709717491826684,
          0.0001086318244630341,
          0.000046693677638249294,
          0.0010019585449127276,
          0.00019582457444590994,
          0.0026380228197584133,
          0.005042411910844299,
          0.0007692802213157179,
          0.0004117168994493507,
          0.0014530190002326445,
          0.01991072406072105,
          0.0007170091334644134,
          0.0006560097145560284,
          0.00045748393845660335,
          0.00027975806364715245,
          0.00625430275722358,
          0.00011800638633116913,
          0.0047734542719107785,
          0.0022415738381367173,
          0.00024456085969990876,
          0.010651335343583508,
          0.0006337189831233369,
          0.0005824420318407599,
          0.00022057328869377709,
          0.00035071348604934574,
          0.011674847549223266,
          0.0010038995542817914,
          0.0017287728111758387,
          0.0007980764925742316,
          0.0011135374382333313,
          0.0008654377842373789,
          0.000041138450253659956,
          0.000147947843442309,
          0.0005025408832242933,
          0.0003559292620752444,
          0.00925267676504194,
          0.0003192078509736692,
          0.003894431599220579,
          0.009144009852267293,
          0.006999877160801811,
          0.0007791752137022958,
          0.00012159645236682067,
          0.00005971568821050064,
          0.0003600553356570536,
          0.03430220984113986,
          0.00025578069192029753,
          0.002195423721883708,
          0.0017623487632324824,
          0.009575670506293517,
          0.00027617522017643034,
          0.0006374800634829716,
          0.00014301798890990145,
          0.014628247071413475,
          0.0073926586191053805,
          0.0007192320631031722,
          0.0030505068860740277,
          0.0009145609558080719,
          0.0013334403058718723,
          0.0013787358141418003,
          0.0016572798418101186,
          0.003913264119275081,
          0.0004936820563218922,
          0.0003715516369605307,
          0.005556298259899637,
          0.002346803079758302,
          0.0001731101444936102,
          0.00026678059313769753,
          0.0006991663951094967,
          0.0031790046544827324,
          0.00037056883424195367,
          0.000126048445538652,
          0.0007924491786557795,
          0.0015608142092495571,
          0.017695114977155195,
          0.001398886460063921,
          0.0003586041631371605,
          0.00012768559398616784,
          0.00022287022963496633,
          0.0014497604071341842,
          0.0004614321826783474,
          0.0004918878881072413,
          0.0004658119093935616,
          0.0016093763288538225,
          0.00014463314919088807,
          0.0016036925510922947,
          0.00028160197294054993,
          0.03189948159247998,
          0.0000440076702943946,
          0.012622091780950313,
          0.0014193249763783532,
          0.00016713756049685266,
          0.00286388935871056,
          0.00361174215375775,
          0.0012462667647342265,
          0.0013774280983166153,
          0.00012950410315605625,
          0.000741219149173413,
          0.00005427339462608882,
          0.00026265104567769543,
          0.003221965948763109,
          0.00023880143969814746,
          0.000323969247479182,
          0.02200490641913461,
          0.0006349999694631078,
          0.01035416889394734,
          0.005111452997297824,
          0.00436231738152334,
          0.0159797101161457,
          0.000058030256539832846,
          0.0003343008779662822,
          0.00037374532410139723,
          0.0006802520055146415,
          0.027032646406340125,
          0.010241613368947815,
          0.0005651759054542013,
          0.0003620644940527241,
          0.024828144892585037,
          0.013580403395517124,
          0.000705368280924674,
          0.0011608481215650487,
          0.00020586454039162643,
          0.0006354914945757799,
          0.00012447235139373164,
          0.00011944337363350695,
          0.00017123267041618202,
          0.001109319553977048,
          0.0005786590328399951,
          0.0032531971587745822,
          0.001046664314090784,
          0.000026148619408864868,
          0.007539671744920442,
          0.004478630888469418,
          0.0011423307185418107,
          0.008569082545201744,
          0.001164142371438684,
          0.10384566592736211,
          0.005057337405972561,
          0.00005294016912106408,
          0.0012392357566332441,
          0.012962225051250224,
          0.0025112236378963875,
          0.00007028923314960449,
          0.000024427090281848737,
          0.02648953706460215,
          0.00015580312814942888,
          0.0006380803623127347,
          0.004114634375875519,
          0.007412969588525964,
          0.002103822854910496,
          0.002019574601086017,
          0.0003810523734753153,
          0.006346155240604217,
          0.0009519744104445589,
          0.0004715248751126657,
          0.002596760699647759,
          0.0005682917429336472,
          0.005401414682238183,
          0.0005687583480632735,
          0.016535277582799778,
          0.0049332567435901205,
          0.003325551047482356,
          0.005119724535300315,
          0.001049382886046718,
          0.00005570726605597709,
          0.001830065898076559,
          0.0003331984973666917,
          0.00272068171676667,
          0.0005155733244101698,
          0.0006823537515546255,
          0.00041124900229619885,
          0.000988825392105819,
          0.003230868056238339,
          0.0001550988124036544,
          0.00632845757582455,
          0.00021100366572662522,
          0.00008148038303114586,
          0.00015517410087481957,
          0.009507528494677089,
          0.0006136712768812223,
          0.0018505821469738948,
          0.0009094021684235476,
          0.0030087518565429265,
          0.0012447704728355835,
          0.002085427361677084,
          0.0005736012028248658,
          0.00038586098348868244,
          0.00015830238232766863,
          0.001112581759792725,
          0.0007010683888504757,
          0.00021945101671597941,
          0.003958640102355449,
          0.00019675293191743275,
          0.000297936932399976,
          0.0011745890962727836,
          0.0006404150380483229,
          0.002711647694836935,
          0.0018343181976853938,
          0.020363264586703705,
          0.0007899092747871473,
          0.015150870400039002,
          0.00023052513452831246,
          0.01403832472926313,
          0.002664179131192662,
          0.0017915037760479326,
          0.0008482837299232892,
          0.014616905571204927,
          0.03854706376070577,
          0.0036807564564234735,
          0.012559560071736404,
          0.04047311126151325,
          0.002600917869950728,
          0.028335223901339354,
          0.0012076772333194136,
          0.002892985649058436,
          0.0010802584727897325,
          0.013861518684215762,
          0.0019137205166079984,
          0.0041035402080999836,
          0.001590449266290357,
          0.013201677792575583,
          0.003362781513115314,
          0.002257522060767931,
          0.0020421391368317947,
          0.0005494309681506216,
          0.008988777121508272,
          0.0003366184880963999,
          0.0005203829982840849,
          0.0031692056778084513,
          0.00872403470379712,
          0.00022320047857771804,
          0.023218748316928512,
          0.0007464718395312486,
          0.00041897630120390497,
          0.0022721924520916503,
          0.005593702923779658,
          0.0010821822099316026,
          0.0023238806936760554,
          0.0012190342053930206,
          0.013935895368136827,
          0.006862779828372088,
          0.0008056488592480574,
          0.008147112050270812,
          0.004852836976006915,
          0.004276175288184209,
          0.0014322001418023117,
          0.0005530875836971611,
          0.0010336930024107576,
          0.003001329750075895,
          0.004576291934506511,
          0.0036806128811289304,
          0.022005458980022322,
          0.0024872722196816973,
          0.0045737638324879325,
          0.001579400748972357,
          0.006778500125958929,
          0.0010273675023734932
         ],
         "yaxis": "y"
        },
        {
         "customdata": [
          [
           16783473.025916845,
           "Digital Animation"
          ],
          [
           13238588.44197739,
           "Digital Animation"
          ],
          [
           1845863.655541867,
           "Digital Animation"
          ],
          [
           -1428040.2647530818,
           "Digital Animation"
          ],
          [
           -11220719.153986298,
           "Digital Animation"
          ],
          [
           5555917.173776522,
           "Digital Animation"
          ],
          [
           -2079252.633221469,
           "Digital Animation"
          ],
          [
           478020.532620579,
           "Digital Animation"
          ],
          [
           55564185.32955405,
           "Digital Animation"
          ],
          [
           62387535.110316396,
           "Digital Animation"
          ],
          [
           -31499461.09731675,
           "Digital Animation"
          ],
          [
           22778084.159501538,
           "Digital Animation"
          ],
          [
           -396025.3856285792,
           "Digital Animation"
          ],
          [
           6746926.431394123,
           "Digital Animation"
          ],
          [
           1997463.7834127098,
           "Digital Animation"
          ],
          [
           -2803329.4835390374,
           "Digital Animation"
          ],
          [
           -54247785.08995138,
           "Digital Animation"
          ],
          [
           5886687.6635585725,
           "Digital Animation"
          ],
          [
           -7669305.144930147,
           "Digital Animation"
          ],
          [
           4703988.029062122,
           "Digital Animation"
          ],
          [
           -12023550.310415044,
           "Digital Animation"
          ],
          [
           2970832.929895252,
           "Digital Animation"
          ],
          [
           -9627366.839319453,
           "Digital Animation"
          ],
          [
           26836620.63860196,
           "Digital Animation"
          ],
          [
           10933719.713894336,
           "Digital Animation"
          ],
          [
           -3605245.714021314,
           "Digital Animation"
          ],
          [
           -2102225.357787773,
           "Digital Animation"
          ],
          [
           -5130660.591078132,
           "Digital Animation"
          ],
          [
           5253669.215155851,
           "Digital Animation"
          ],
          [
           4441662.258305105,
           "Digital Animation"
          ],
          [
           13816524.688611746,
           "Digital Animation"
          ],
          [
           -8705562.304533727,
           "Digital Animation"
          ],
          [
           -8014148.92965907,
           "Digital Animation"
          ],
          [
           -9385991.92203001,
           "Digital Animation"
          ],
          [
           -10288283.926013324,
           "Digital Animation"
          ],
          [
           99936981.31996101,
           "Digital Animation"
          ],
          [
           14164612.655179523,
           "Digital Animation"
          ],
          [
           5402888.808179969,
           "Digital Animation"
          ],
          [
           6884147.025650341,
           "Digital Animation"
          ],
          [
           50672129.89223869,
           "Digital Animation"
          ],
          [
           -3399369.747058302,
           "Digital Animation"
          ],
          [
           -45367068.67481634,
           "Digital Animation"
          ],
          [
           -9092685.87764486,
           "Digital Animation"
          ],
          [
           -28389843.66485858,
           "Digital Animation"
          ],
          [
           -3362494.8963386267,
           "Digital Animation"
          ],
          [
           -1101970.425923964,
           "Digital Animation"
          ],
          [
           12937498.011113271,
           "Digital Animation"
          ],
          [
           771572.6555308998,
           "Digital Animation"
          ],
          [
           -15581384.55930984,
           "Digital Animation"
          ],
          [
           5641248.573806465,
           "Digital Animation"
          ],
          [
           4539187.04611304,
           "Digital Animation"
          ],
          [
           -6231518.062394194,
           "Digital Animation"
          ],
          [
           26490032.074072942,
           "Digital Animation"
          ],
          [
           -7230529.077895001,
           "Digital Animation"
          ],
          [
           -3590786.4175168723,
           "Digital Animation"
          ],
          [
           -15438950.027925119,
           "Digital Animation"
          ],
          [
           -14221802.266254306,
           "Digital Animation"
          ],
          [
           -9756424.907722807,
           "Digital Animation"
          ],
          [
           -11478393.111858636,
           "Digital Animation"
          ],
          [
           -4644190.602365866,
           "Digital Animation"
          ],
          [
           -4197953.907530405,
           "Digital Animation"
          ],
          [
           -19150900.658591077,
           "Digital Animation"
          ],
          [
           -17847327.433768764,
           "Digital Animation"
          ],
          [
           -30704508.03682807,
           "Digital Animation"
          ],
          [
           64847175.42810537,
           "Digital Animation"
          ],
          [
           -3384131.956993388,
           "Digital Animation"
          ],
          [
           2616786.7638311908,
           "Digital Animation"
          ],
          [
           -14674619.673573501,
           "Digital Animation"
          ],
          [
           -27225076.72625521,
           "Digital Animation"
          ]
         ],
         "hovertemplate": "<b>%{hovertext}</b><br><br>Production Method=%{customdata[1]}<br>Index=%{x}<br>Leverage=%{y}<br>Residuals=%{customdata[0]}<extra></extra>",
         "hovertext": [
          "Hotel Transylvania 2",
          "The Peanuts Movie",
          "The Good Dinosaur",
          "Norm of the North",
          "Kung Fu Panda 3",
          "Zootopia",
          "Ratchet and Clank",
          "The Angry Birds Movie",
          "Finding Dory",
          "The Secret Life of Pets",
          "Ice Age: Collision Course",
          "Sausage Party",
          "Kubo and the Two Strings",
          "Storks",
          "Trolls",
          "Moana",
          "Sing",
          "The Lego Batman Movie",
          "Rock Dog",
          "The Boss Baby",
          "Smurfs: The Lost Village",
          "Captain Underpants: The First Epic Movie",
          "Cars 3",
          "Despicable Me 3",
          "The Emoji Movie",
          "The Nut Job 2: Nutty by Nature",
          "Ballerina",
          "The Lego Ninjago Movie",
          "My Little Pony: The Movie",
          "The Star",
          "Coco",
          "Ferdinand",
          "Early Man",
          "Sherlock Gnomes",
          "Isle of Dogs",
          "Incredibles 2",
          "Hotel Transylvania 3: Summer Vacation",
          "Teen Titans Go! To The Movies",
          "Smallfoot",
          "Dr. Seuss’ The Grinch",
          "Ralph Breaks The Internet",
          "Spider-Man: Into The Spider-Verse 3D",
          "The LEGO Movie 2: The Second Part",
          "How to Train Your Dragon: The Hidden World",
          "Wonder Park",
          "UglyDolls",
          "The Secret Life of Pets 2",
          "Toy Story 4",
          "The Angry Birds Movie 2",
          "Abominable",
          "The Addams Family",
          "Arctic Dogs",
          "Frozen II",
          "Spies in Disguise",
          "Onward",
          "The Croods: A New Age",
          "Demon Slayer: Kimetsu no Yaiba—The Movie: Mugen Train (劇場版「鬼滅の刃」 無限列車編)",
          "Spirit Untamed",
          "The Boss Baby: Family Business",
          "PAW Patrol: The Movie",
          "Encanto",
          "Sing 2",
          "The Bad Guys",
          "Lightyear",
          "Minions: The Rise of Gru",
          "Paws of Fury: The Legend of Hank",
          "DC League of Super Pets",
          "Strange World",
          "Puss in Boots: The Last Wish"
         ],
         "legendgroup": "Digital Animation",
         "marker": {
          "color": "#EF553B",
          "symbol": "circle"
         },
         "mode": "markers",
         "name": "Digital Animation",
         "orientation": "v",
         "showlegend": true,
         "type": "scatter",
         "x": [
          9,
          23,
          31,
          47,
          52,
          65,
          85,
          90,
          101,
          108,
          113,
          121,
          125,
          137,
          154,
          165,
          172,
          192,
          196,
          208,
          212,
          227,
          233,
          237,
          246,
          251,
          255,
          261,
          267,
          286,
          288,
          295,
          319,
          332,
          336,
          360,
          368,
          375,
          400,
          415,
          421,
          425,
          444,
          452,
          456,
          471,
          485,
          490,
          504,
          517,
          520,
          532,
          539,
          551,
          571,
          582,
          588,
          592,
          597,
          605,
          619,
          626,
          645,
          650,
          652,
          654,
          657,
          671,
          674
         ],
         "xaxis": "x",
         "y": [
          0.0065175745947589885,
          0.005716958663302603,
          0.015106726083013448,
          0.0005065280970836741,
          0.017224550235657495,
          0.036044018311742636,
          0.0006096852531759734,
          0.011740529761386802,
          0.04115583792737628,
          0.01571108599119766,
          0.022582119276624908,
          0.0038922128394811074,
          0.0012471999149743002,
          0.0019956879982005855,
          0.012081878036522492,
          0.022948800925055787,
          0.11917997518636264,
          0.020746968855887667,
          0.0016748914449894522,
          0.012708432497102701,
          0.004345645190893936,
          0.003825053402725576,
          0.024538062898605256,
          0.0199827485027313,
          0.0014471732428002764,
          0.0008648374425764875,
          0.00035880075790772946,
          0.004019879200599014,
          0.00035718905415706105,
          0.00022204878439299438,
          0.012312531271860964,
          0.0052874835273244,
          0.0009903365259555088,
          0.0023855579398033497,
          0.001810695885770782,
          0.04608033952018814,
          0.006631194399584547,
          0.0005925420065356244,
          0.002693840511919775,
          0.0022319455907109614,
          0.02126113826664995,
          0.08348858067346089,
          0.013170563690531729,
          0.07047568732546095,
          0.004542059294320721,
          0.0008048660553946904,
          0.007771781213735057,
          0.13725820829554355,
          0.004393711111755154,
          0.002406243904754907,
          0.009388049847002384,
          0.0012482584309736942,
          0.11520454853388618,
          0.0041166865321876234,
          0.01597517586451418,
          0.004042662078976272,
          0.022853606356862767,
          0.002127271387181437,
          0.004497146471028521,
          0.0033577339441700437,
          0.009113140869042424,
          0.01348470929600495,
          0.01652740139639963,
          0.04379883475075338,
          0.014997372258553882,
          0.0008048600457440593,
          0.003220628215975505,
          0.007846844289917564,
          0.011190335887588181
         ],
         "yaxis": "y"
        },
        {
         "customdata": [
          [
           4746907.83925879,
           "Animation/Live Action"
          ],
          [
           -8052230.121670105,
           "Animation/Live Action"
          ],
          [
           -72261601.62331635,
           "Animation/Live Action"
          ],
          [
           28435491.701728478,
           "Animation/Live Action"
          ],
          [
           52711155.6162727,
           "Animation/Live Action"
          ],
          [
           4107545.9624475893,
           "Animation/Live Action"
          ],
          [
           -22004095.020975962,
           "Animation/Live Action"
          ],
          [
           -7230027.263201311,
           "Animation/Live Action"
          ],
          [
           -10567192.109421827,
           "Animation/Live Action"
          ],
          [
           -20987781.701920874,
           "Animation/Live Action"
          ],
          [
           -41416095.42053574,
           "Animation/Live Action"
          ],
          [
           7517993.4855239,
           "Animation/Live Action"
          ],
          [
           4862021.907670148,
           "Animation/Live Action"
          ],
          [
           4171425.0215630746,
           "Animation/Live Action"
          ],
          [
           -7556842.328441098,
           "Animation/Live Action"
          ],
          [
           -9890399.852615908,
           "Animation/Live Action"
          ],
          [
           15026955.601548165,
           "Animation/Live Action"
          ],
          [
           -13281210.207788073,
           "Animation/Live Action"
          ],
          [
           127881587.4951987,
           "Animation/Live Action"
          ],
          [
           -19319847.673763216,
           "Animation/Live Action"
          ],
          [
           36623432.68128133,
           "Animation/Live Action"
          ],
          [
           -30865135.209913105,
           "Animation/Live Action"
          ],
          [
           -39701569.42711386,
           "Animation/Live Action"
          ],
          [
           -6622463.816035852,
           "Animation/Live Action"
          ],
          [
           -22177214.132965885,
           "Animation/Live Action"
          ],
          [
           160825478.95435917,
           "Animation/Live Action"
          ],
          [
           -6284621.114300199,
           "Animation/Live Action"
          ],
          [
           6599910.786334202,
           "Animation/Live Action"
          ],
          [
           4404577.569521397,
           "Animation/Live Action"
          ],
          [
           7208703.491770029,
           "Animation/Live Action"
          ],
          [
           4459522.479387723,
           "Animation/Live Action"
          ],
          [
           20679396.44728321,
           "Animation/Live Action"
          ],
          [
           -26048747.867960274,
           "Animation/Live Action"
          ],
          [
           1401414.740528524,
           "Animation/Live Action"
          ],
          [
           6237158.422902685,
           "Animation/Live Action"
          ],
          [
           -12711093.50955689,
           "Animation/Live Action"
          ],
          [
           3342824.383146219,
           "Animation/Live Action"
          ],
          [
           -15939611.015933022,
           "Animation/Live Action"
          ],
          [
           -19406438.146962225,
           "Animation/Live Action"
          ],
          [
           -39176020.11530396,
           "Animation/Live Action"
          ],
          [
           -25024606.973501623,
           "Animation/Live Action"
          ],
          [
           -19176106.419722933,
           "Animation/Live Action"
          ],
          [
           -17938626.95447652,
           "Animation/Live Action"
          ],
          [
           38975043.64979045,
           "Animation/Live Action"
          ],
          [
           777513.3361633122,
           "Animation/Live Action"
          ],
          [
           35713172.27750194,
           "Animation/Live Action"
          ],
          [
           28257936.83925896,
           "Animation/Live Action"
          ],
          [
           46437186.33250903,
           "Animation/Live Action"
          ],
          [
           -15267522.760005921,
           "Animation/Live Action"
          ],
          [
           79374816.81206955,
           "Animation/Live Action"
          ],
          [
           -12514882.902876016,
           "Animation/Live Action"
          ],
          [
           -64551785.73758015,
           "Animation/Live Action"
          ],
          [
           -20496558.82543538,
           "Animation/Live Action"
          ],
          [
           -5712679.620999634,
           "Animation/Live Action"
          ],
          [
           -14939172.777494706,
           "Animation/Live Action"
          ],
          [
           16084709.806110978,
           "Animation/Live Action"
          ],
          [
           -5471432.211277198,
           "Animation/Live Action"
          ],
          [
           -6038136.835980438,
           "Animation/Live Action"
          ],
          [
           22123575.198254794,
           "Animation/Live Action"
          ],
          [
           3400363.541534558,
           "Animation/Live Action"
          ],
          [
           31516118.06444636,
           "Animation/Live Action"
          ],
          [
           25824733.000513405,
           "Animation/Live Action"
          ],
          [
           -38632431.07131928,
           "Animation/Live Action"
          ],
          [
           42522104.19683403,
           "Animation/Live Action"
          ],
          [
           64463953.82122436,
           "Animation/Live Action"
          ],
          [
           -4495962.7008241415,
           "Animation/Live Action"
          ],
          [
           675131.8335106391,
           "Animation/Live Action"
          ],
          [
           42354735.1392158,
           "Animation/Live Action"
          ],
          [
           -56915333.997258365,
           "Animation/Live Action"
          ]
         ],
         "hovertemplate": "<b>%{hovertext}</b><br><br>Production Method=%{customdata[1]}<br>Index=%{x}<br>Leverage=%{y}<br>Residuals=%{customdata[0]}<extra></extra>",
         "hovertext": [
          "Goosebumps",
          "Alvin and the Chipmunks: The Road Chip",
          "Star Wars Ep. VII: The Force Awakens",
          "Deadpool",
          "The Jungle Book",
          "Keanu",
          "Alice Through the Looking Glass",
          "Teenage Mutant Ninja Turtles: Out of the Shadows",
          "The BFG",
          "Ghostbusters",
          "Suicide Squad",
          "Pete’s Dragon",
          "Miss Peregrine’s Home for Peculiar Children",
          "Middle School: The Worst Years of My Life",
          "Doctor Strange",
          "Fantastic Beasts and Where to Find Them",
          "Rogue One: A Star Wars Story",
          "Monster Trucks",
          "Beauty and the Beast",
          "Power Rangers",
          "Guardians of the Galaxy Vol 2",
          "Pirates of the Caribbean: Dead Men Tell No Tales",
          "Transformers: The Last Knight",
          "War for the Planet of the Apes",
          "Valerian and the City of a Thousand Planets",
          "Star Wars Ep. VIII: The Last Jedi",
          "Paddington 2",
          "Peter Rabbit",
          "Ready Player One",
          "Avengers: Infinity War",
          "Show Dogs",
          "Deadpool 2",
          "Solo: A Star Wars Story",
          "Ant-Man and the Wasp",
          "Christopher Robin",
          "Venom",
          "Goosebumps 2: Haunted Halloween",
          "Fantastic Beasts: The Crimes of Grindelwald",
          "Mary Poppins Returns",
          "Aquaman",
          "Bumblebee",
          "Welcome to Marwen",
          "Alita: Battle Angel",
          "Captain Marvel",
          "Dumbo",
          "Avengers: Endgame",
          "Pokémon: Detective Pikachu",
          "Aladdin",
          "Men in Black: International",
          "The Lion King",
          "Gemini Man",
          "Terminator: Dark Fate",
          "Cats",
          "Star Wars: The Rise of Skywalker",
          "Dolittle",
          "Sonic The Hedgehog",
          "Peter Rabbit 2: The Runaway",
          "Jungle Cruise",
          "Venom: Let There be Carnage",
          "Clifford the Big Red Dog",
          "Spider-Man: No Way Home",
          "Sonic the Hedgehog 2",
          "Fantastic Beasts: The Secrets of Dumbledore",
          "Doctor Strange in the Multiverse of Madness",
          "Jurassic World: Dominion",
          "Thor: Love and Thunder",
          "Lyle, Lyle, Crocodile",
          "Black Panther: Wakanda Forever",
          "Avatar: The Way of Water"
         ],
         "legendgroup": "Animation/Live Action",
         "marker": {
          "color": "#00cc96",
          "symbol": "circle"
         },
         "mode": "markers",
         "name": "Animation/Live Action",
         "orientation": "v",
         "showlegend": true,
         "type": "scatter",
         "x": [
          17,
          36,
          37,
          58,
          80,
          86,
          93,
          94,
          107,
          112,
          119,
          123,
          139,
          144,
          153,
          161,
          170,
          182,
          201,
          203,
          218,
          225,
          234,
          240,
          241,
          294,
          308,
          316,
          337,
          346,
          350,
          352,
          353,
          367,
          376,
          401,
          405,
          416,
          429,
          430,
          431,
          433,
          450,
          454,
          459,
          468,
          474,
          478,
          487,
          496,
          522,
          529,
          548,
          549,
          558,
          565,
          593,
          602,
          607,
          614,
          623,
          641,
          644,
          647,
          649,
          653,
          664,
          669,
          673
         ],
         "xaxis": "x",
         "y": [
          0.0010950411082818292,
          0.0033685426531891534,
          0.14222143682757232,
          0.03440613499564563,
          0.022069492164881604,
          0.00038018829275998693,
          0.01047119906005813,
          0.006086682856485027,
          0.007931327398607703,
          0.0065807652898905444,
          0.06548603184878349,
          0.0016804391970818636,
          0.004791473482018409,
          0.00007704658330097434,
          0.011647462384097099,
          0.010347447968879644,
          0.02718161778922355,
          0.006992313488498053,
          0.019477506387235225,
          0.004942274463222187,
          0.01636173872364656,
          0.01568108008004474,
          0.013982504115648348,
          0.00686193717567345,
          0.012837964850000848,
          0.031122449078898565,
          0.0004818303418009176,
          0.0007542408460851853,
          0.010148997748883996,
          0.1135094629967982,
          0.000020561271527491618,
          0.022475923444191952,
          0.034819938277938625,
          0.007548648011593237,
          0.0024464071184767113,
          0.015041845015050187,
          0.0003755605878572429,
          0.01186979550577682,
          0.005439665148212163,
          0.01700743371032477,
          0.0032522429502471763,
          0.010279490309830299,
          0.017014938509635154,
          0.019118135362310253,
          0.011261955135469928,
          0.18021700986741487,
          0.012605389648866965,
          0.014754422064995054,
          0.003590999374992598,
          0.02036008846840462,
          0.008070476669065305,
          0.01206440213269159,
          0.005731576727132877,
          0.049569712866519546,
          0.012363845170578529,
          0.0025738620706772086,
          0.0006311309652325198,
          0.016516356590832657,
          0.006485800003044483,
          0.0016791973658935948,
          0.12473929806243514,
          0.0029309280862769775,
          0.011848804686073657,
          0.03329600569389478,
          0.009132222506354499,
          0.03051817439864638,
          0.000996068080720736,
          0.02619737624042097,
          0.06289032975694228
         ],
         "yaxis": "y"
        },
        {
         "line": {
          "color": "orange",
          "width": 2
         },
         "mode": "lines",
         "name": "Baseline",
         "type": "scatter",
         "x": [
          0,
          1,
          2,
          3,
          4,
          5,
          6,
          7,
          8,
          9,
          10,
          11,
          12,
          13,
          14,
          15,
          16,
          17,
          18,
          19,
          20,
          21,
          22,
          23,
          24,
          25,
          26,
          27,
          28,
          29,
          30,
          31,
          32,
          33,
          34,
          35,
          36,
          37,
          38,
          39,
          40,
          41,
          42,
          43,
          44,
          45,
          46,
          47,
          48,
          49,
          50,
          51,
          52,
          53,
          54,
          55,
          56,
          57,
          58,
          59,
          60,
          61,
          62,
          63,
          64,
          65,
          66,
          67,
          68,
          69,
          70,
          71,
          72,
          73,
          74,
          75,
          76,
          77,
          78,
          79,
          80,
          81,
          82,
          83,
          84,
          85,
          86,
          87,
          88,
          89,
          90,
          91,
          92,
          93,
          94,
          95,
          96,
          97,
          98,
          99,
          100,
          101,
          102,
          103,
          104,
          105,
          106,
          107,
          108,
          109,
          110,
          111,
          112,
          113,
          114,
          115,
          116,
          117,
          118,
          119,
          120,
          121,
          122,
          123,
          124,
          125,
          126,
          127,
          128,
          129,
          130,
          131,
          132,
          133,
          134,
          135,
          136,
          137,
          138,
          139,
          140,
          141,
          142,
          143,
          144,
          145,
          146,
          147,
          148,
          149,
          150,
          151,
          152,
          153,
          154,
          155,
          156,
          157,
          158,
          159,
          160,
          161,
          162,
          163,
          164,
          165,
          166,
          167,
          168,
          169,
          170,
          171,
          172,
          173,
          174,
          175,
          176,
          177,
          178,
          179,
          180,
          181,
          182,
          183,
          184,
          185,
          186,
          187,
          188,
          189,
          190,
          191,
          192,
          193,
          194,
          195,
          196,
          197,
          198,
          199,
          200,
          201,
          202,
          203,
          204,
          205,
          206,
          207,
          208,
          209,
          210,
          211,
          212,
          213,
          214,
          215,
          216,
          217,
          218,
          219,
          220,
          221,
          222,
          223,
          224,
          225,
          226,
          227,
          228,
          229,
          230,
          231,
          232,
          233,
          234,
          235,
          236,
          237,
          238,
          239,
          240,
          241,
          242,
          243,
          244,
          245,
          246,
          247,
          248,
          249,
          250,
          251,
          252,
          253,
          254,
          255,
          256,
          257,
          258,
          259,
          260,
          261,
          262,
          263,
          264,
          265,
          266,
          267,
          268,
          269,
          270,
          271,
          272,
          273,
          274,
          275,
          276,
          277,
          278,
          279,
          280,
          281,
          282,
          283,
          284,
          285,
          286,
          287,
          288,
          289,
          290,
          291,
          292,
          293,
          294,
          295,
          296,
          297,
          298,
          299,
          300,
          301,
          302,
          303,
          304,
          305,
          306,
          307,
          308,
          309,
          310,
          311,
          312,
          313,
          314,
          315,
          316,
          317,
          318,
          319,
          320,
          321,
          322,
          323,
          324,
          325,
          326,
          327,
          328,
          329,
          330,
          331,
          332,
          333,
          334,
          335,
          336,
          337,
          338,
          339,
          340,
          341,
          342,
          343,
          344,
          345,
          346,
          347,
          348,
          349,
          350,
          351,
          352,
          353,
          354,
          355,
          356,
          357,
          358,
          359,
          360,
          361,
          362,
          363,
          364,
          365,
          366,
          367,
          368,
          369,
          370,
          371,
          372,
          373,
          374,
          375,
          376,
          377,
          378,
          379,
          380,
          381,
          382,
          383,
          384,
          385,
          386,
          387,
          388,
          389,
          390,
          391,
          392,
          393,
          394,
          395,
          396,
          397,
          398,
          399,
          400,
          401,
          402,
          403,
          404,
          405,
          406,
          407,
          408,
          409,
          410,
          411,
          412,
          413,
          414,
          415,
          416,
          417,
          418,
          419,
          420,
          421,
          422,
          423,
          424,
          425,
          426,
          427,
          428,
          429,
          430,
          431,
          432,
          433,
          434,
          435,
          436,
          437,
          438,
          439,
          440,
          441,
          442,
          443,
          444,
          445,
          446,
          447,
          448,
          449,
          450,
          451,
          452,
          453,
          454,
          455,
          456,
          457,
          458,
          459,
          460,
          461,
          462,
          463,
          464,
          465,
          466,
          467,
          468,
          469,
          470,
          471,
          472,
          473,
          474,
          475,
          476,
          477,
          478,
          479,
          480,
          481,
          482,
          483,
          484,
          485,
          486,
          487,
          488,
          489,
          490,
          491,
          492,
          493,
          494,
          495,
          496,
          497,
          498,
          499,
          500,
          501,
          502,
          503,
          504,
          505,
          506,
          507,
          508,
          509,
          510,
          511,
          512,
          513,
          514,
          515,
          516,
          517,
          518,
          519,
          520,
          521,
          522,
          523,
          524,
          525,
          526,
          527,
          528,
          529,
          530,
          531,
          532,
          533,
          534,
          535,
          536,
          537,
          538,
          539,
          540,
          541,
          542,
          543,
          544,
          545,
          546,
          547,
          548,
          549,
          550,
          551,
          552,
          553,
          554,
          555,
          556,
          557,
          558,
          559,
          560,
          561,
          562,
          563,
          564,
          565,
          566,
          567,
          568,
          569,
          570,
          571,
          572,
          573,
          574,
          575,
          576,
          577,
          578,
          579,
          580,
          581,
          582,
          583,
          584,
          585,
          586,
          587,
          588,
          589,
          590,
          591,
          592,
          593,
          594,
          595,
          596,
          597,
          598,
          599,
          600,
          601,
          602,
          603,
          604,
          605,
          606,
          607,
          608,
          609,
          610,
          611,
          612,
          613,
          614,
          615,
          616,
          617,
          618,
          619,
          620,
          621,
          622,
          623,
          624,
          625,
          626,
          627,
          628,
          629,
          630,
          631,
          632,
          633,
          634,
          635,
          636,
          637,
          638,
          639,
          640,
          641,
          642,
          643,
          644,
          645,
          646,
          647,
          648,
          649,
          650,
          651,
          652,
          653,
          654,
          655,
          656,
          657,
          658,
          659,
          660,
          661,
          662,
          663,
          664,
          665,
          666,
          667,
          668,
          669,
          670,
          671,
          672,
          673,
          674,
          675,
          676
         ],
         "y": [
          0,
          0,
          0,
          0,
          0,
          0,
          0,
          0,
          0,
          0,
          0,
          0,
          0,
          0,
          0,
          0,
          0,
          0,
          0,
          0,
          0,
          0,
          0,
          0,
          0,
          0,
          0,
          0,
          0,
          0,
          0,
          0,
          0,
          0,
          0,
          0,
          0,
          0,
          0,
          0,
          0,
          0,
          0,
          0,
          0,
          0,
          0,
          0,
          0,
          0,
          0,
          0,
          0,
          0,
          0,
          0,
          0,
          0,
          0,
          0,
          0,
          0,
          0,
          0,
          0,
          0,
          0,
          0,
          0,
          0,
          0,
          0,
          0,
          0,
          0,
          0,
          0,
          0,
          0,
          0,
          0,
          0,
          0,
          0,
          0,
          0,
          0,
          0,
          0,
          0,
          0,
          0,
          0,
          0,
          0,
          0,
          0,
          0,
          0,
          0,
          0,
          0,
          0,
          0,
          0,
          0,
          0,
          0,
          0,
          0,
          0,
          0,
          0,
          0,
          0,
          0,
          0,
          0,
          0,
          0,
          0,
          0,
          0,
          0,
          0,
          0,
          0,
          0,
          0,
          0,
          0,
          0,
          0,
          0,
          0,
          0,
          0,
          0,
          0,
          0,
          0,
          0,
          0,
          0,
          0,
          0,
          0,
          0,
          0,
          0,
          0,
          0,
          0,
          0,
          0,
          0,
          0,
          0,
          0,
          0,
          0,
          0,
          0,
          0,
          0,
          0,
          0,
          0,
          0,
          0,
          0,
          0,
          0,
          0,
          0,
          0,
          0,
          0,
          0,
          0,
          0,
          0,
          0,
          0,
          0,
          0,
          0,
          0,
          0,
          0,
          0,
          0,
          0,
          0,
          0,
          0,
          0,
          0,
          0,
          0,
          0,
          0,
          0,
          0,
          0,
          0,
          0,
          0,
          0,
          0,
          0,
          0,
          0,
          0,
          0,
          0,
          0,
          0,
          0,
          0,
          0,
          0,
          0,
          0,
          0,
          0,
          0,
          0,
          0,
          0,
          0,
          0,
          0,
          0,
          0,
          0,
          0,
          0,
          0,
          0,
          0,
          0,
          0,
          0,
          0,
          0,
          0,
          0,
          0,
          0,
          0,
          0,
          0,
          0,
          0,
          0,
          0,
          0,
          0,
          0,
          0,
          0,
          0,
          0,
          0,
          0,
          0,
          0,
          0,
          0,
          0,
          0,
          0,
          0,
          0,
          0,
          0,
          0,
          0,
          0,
          0,
          0,
          0,
          0,
          0,
          0,
          0,
          0,
          0,
          0,
          0,
          0,
          0,
          0,
          0,
          0,
          0,
          0,
          0,
          0,
          0,
          0,
          0,
          0,
          0,
          0,
          0,
          0,
          0,
          0,
          0,
          0,
          0,
          0,
          0,
          0,
          0,
          0,
          0,
          0,
          0,
          0,
          0,
          0,
          0,
          0,
          0,
          0,
          0,
          0,
          0,
          0,
          0,
          0,
          0,
          0,
          0,
          0,
          0,
          0,
          0,
          0,
          0,
          0,
          0,
          0,
          0,
          0,
          0,
          0,
          0,
          0,
          0,
          0,
          0,
          0,
          0,
          0,
          0,
          0,
          0,
          0,
          0,
          0,
          0,
          0,
          0,
          0,
          0,
          0,
          0,
          0,
          0,
          0,
          0,
          0,
          0,
          0,
          0,
          0,
          0,
          0,
          0,
          0,
          0,
          0,
          0,
          0,
          0,
          0,
          0,
          0,
          0,
          0,
          0,
          0,
          0,
          0,
          0,
          0,
          0,
          0,
          0,
          0,
          0,
          0,
          0,
          0,
          0,
          0,
          0,
          0,
          0,
          0,
          0,
          0,
          0,
          0,
          0,
          0,
          0,
          0,
          0,
          0,
          0,
          0,
          0,
          0,
          0,
          0,
          0,
          0,
          0,
          0,
          0,
          0,
          0,
          0,
          0,
          0,
          0,
          0,
          0,
          0,
          0,
          0,
          0,
          0,
          0,
          0,
          0,
          0,
          0,
          0,
          0,
          0,
          0,
          0,
          0,
          0,
          0,
          0,
          0,
          0,
          0,
          0,
          0,
          0,
          0,
          0,
          0,
          0,
          0,
          0,
          0,
          0,
          0,
          0,
          0,
          0,
          0,
          0,
          0,
          0,
          0,
          0,
          0,
          0,
          0,
          0,
          0,
          0,
          0,
          0,
          0,
          0,
          0,
          0,
          0,
          0,
          0,
          0,
          0,
          0,
          0,
          0,
          0,
          0,
          0,
          0,
          0,
          0,
          0,
          0,
          0,
          0,
          0,
          0,
          0,
          0,
          0,
          0,
          0,
          0,
          0,
          0,
          0,
          0,
          0,
          0,
          0,
          0,
          0,
          0,
          0,
          0,
          0,
          0,
          0,
          0,
          0,
          0,
          0,
          0,
          0,
          0,
          0,
          0,
          0,
          0,
          0,
          0,
          0,
          0,
          0,
          0,
          0,
          0,
          0,
          0,
          0,
          0,
          0,
          0,
          0,
          0,
          0,
          0,
          0,
          0,
          0,
          0,
          0,
          0,
          0,
          0,
          0,
          0,
          0,
          0,
          0,
          0,
          0,
          0,
          0,
          0,
          0,
          0,
          0,
          0,
          0,
          0,
          0,
          0,
          0,
          0,
          0,
          0,
          0,
          0,
          0,
          0,
          0,
          0,
          0,
          0,
          0,
          0,
          0,
          0,
          0,
          0,
          0,
          0,
          0,
          0,
          0,
          0,
          0,
          0,
          0,
          0,
          0,
          0,
          0,
          0,
          0,
          0,
          0,
          0,
          0,
          0,
          0,
          0,
          0,
          0,
          0,
          0,
          0,
          0,
          0,
          0,
          0,
          0,
          0,
          0,
          0,
          0,
          0,
          0,
          0,
          0,
          0,
          0,
          0,
          0,
          0,
          0,
          0,
          0,
          0,
          0,
          0,
          0,
          0,
          0,
          0,
          0,
          0,
          0,
          0,
          0,
          0,
          0,
          0,
          0,
          0
         ]
        }
       ],
       "layout": {
        "legend": {
         "title": {
          "text": "Production Method"
         },
         "tracegroupgap": 0
        },
        "template": {
         "data": {
          "bar": [
           {
            "error_x": {
             "color": "#2a3f5f"
            },
            "error_y": {
             "color": "#2a3f5f"
            },
            "marker": {
             "line": {
              "color": "white",
              "width": 0.5
             },
             "pattern": {
              "fillmode": "overlay",
              "size": 10,
              "solidity": 0.2
             }
            },
            "type": "bar"
           }
          ],
          "barpolar": [
           {
            "marker": {
             "line": {
              "color": "white",
              "width": 0.5
             },
             "pattern": {
              "fillmode": "overlay",
              "size": 10,
              "solidity": 0.2
             }
            },
            "type": "barpolar"
           }
          ],
          "carpet": [
           {
            "aaxis": {
             "endlinecolor": "#2a3f5f",
             "gridcolor": "#C8D4E3",
             "linecolor": "#C8D4E3",
             "minorgridcolor": "#C8D4E3",
             "startlinecolor": "#2a3f5f"
            },
            "baxis": {
             "endlinecolor": "#2a3f5f",
             "gridcolor": "#C8D4E3",
             "linecolor": "#C8D4E3",
             "minorgridcolor": "#C8D4E3",
             "startlinecolor": "#2a3f5f"
            },
            "type": "carpet"
           }
          ],
          "choropleth": [
           {
            "colorbar": {
             "outlinewidth": 0,
             "ticks": ""
            },
            "type": "choropleth"
           }
          ],
          "contour": [
           {
            "colorbar": {
             "outlinewidth": 0,
             "ticks": ""
            },
            "colorscale": [
             [
              0,
              "#0d0887"
             ],
             [
              0.1111111111111111,
              "#46039f"
             ],
             [
              0.2222222222222222,
              "#7201a8"
             ],
             [
              0.3333333333333333,
              "#9c179e"
             ],
             [
              0.4444444444444444,
              "#bd3786"
             ],
             [
              0.5555555555555556,
              "#d8576b"
             ],
             [
              0.6666666666666666,
              "#ed7953"
             ],
             [
              0.7777777777777778,
              "#fb9f3a"
             ],
             [
              0.8888888888888888,
              "#fdca26"
             ],
             [
              1,
              "#f0f921"
             ]
            ],
            "type": "contour"
           }
          ],
          "contourcarpet": [
           {
            "colorbar": {
             "outlinewidth": 0,
             "ticks": ""
            },
            "type": "contourcarpet"
           }
          ],
          "heatmap": [
           {
            "colorbar": {
             "outlinewidth": 0,
             "ticks": ""
            },
            "colorscale": [
             [
              0,
              "#0d0887"
             ],
             [
              0.1111111111111111,
              "#46039f"
             ],
             [
              0.2222222222222222,
              "#7201a8"
             ],
             [
              0.3333333333333333,
              "#9c179e"
             ],
             [
              0.4444444444444444,
              "#bd3786"
             ],
             [
              0.5555555555555556,
              "#d8576b"
             ],
             [
              0.6666666666666666,
              "#ed7953"
             ],
             [
              0.7777777777777778,
              "#fb9f3a"
             ],
             [
              0.8888888888888888,
              "#fdca26"
             ],
             [
              1,
              "#f0f921"
             ]
            ],
            "type": "heatmap"
           }
          ],
          "heatmapgl": [
           {
            "colorbar": {
             "outlinewidth": 0,
             "ticks": ""
            },
            "colorscale": [
             [
              0,
              "#0d0887"
             ],
             [
              0.1111111111111111,
              "#46039f"
             ],
             [
              0.2222222222222222,
              "#7201a8"
             ],
             [
              0.3333333333333333,
              "#9c179e"
             ],
             [
              0.4444444444444444,
              "#bd3786"
             ],
             [
              0.5555555555555556,
              "#d8576b"
             ],
             [
              0.6666666666666666,
              "#ed7953"
             ],
             [
              0.7777777777777778,
              "#fb9f3a"
             ],
             [
              0.8888888888888888,
              "#fdca26"
             ],
             [
              1,
              "#f0f921"
             ]
            ],
            "type": "heatmapgl"
           }
          ],
          "histogram": [
           {
            "marker": {
             "pattern": {
              "fillmode": "overlay",
              "size": 10,
              "solidity": 0.2
             }
            },
            "type": "histogram"
           }
          ],
          "histogram2d": [
           {
            "colorbar": {
             "outlinewidth": 0,
             "ticks": ""
            },
            "colorscale": [
             [
              0,
              "#0d0887"
             ],
             [
              0.1111111111111111,
              "#46039f"
             ],
             [
              0.2222222222222222,
              "#7201a8"
             ],
             [
              0.3333333333333333,
              "#9c179e"
             ],
             [
              0.4444444444444444,
              "#bd3786"
             ],
             [
              0.5555555555555556,
              "#d8576b"
             ],
             [
              0.6666666666666666,
              "#ed7953"
             ],
             [
              0.7777777777777778,
              "#fb9f3a"
             ],
             [
              0.8888888888888888,
              "#fdca26"
             ],
             [
              1,
              "#f0f921"
             ]
            ],
            "type": "histogram2d"
           }
          ],
          "histogram2dcontour": [
           {
            "colorbar": {
             "outlinewidth": 0,
             "ticks": ""
            },
            "colorscale": [
             [
              0,
              "#0d0887"
             ],
             [
              0.1111111111111111,
              "#46039f"
             ],
             [
              0.2222222222222222,
              "#7201a8"
             ],
             [
              0.3333333333333333,
              "#9c179e"
             ],
             [
              0.4444444444444444,
              "#bd3786"
             ],
             [
              0.5555555555555556,
              "#d8576b"
             ],
             [
              0.6666666666666666,
              "#ed7953"
             ],
             [
              0.7777777777777778,
              "#fb9f3a"
             ],
             [
              0.8888888888888888,
              "#fdca26"
             ],
             [
              1,
              "#f0f921"
             ]
            ],
            "type": "histogram2dcontour"
           }
          ],
          "mesh3d": [
           {
            "colorbar": {
             "outlinewidth": 0,
             "ticks": ""
            },
            "type": "mesh3d"
           }
          ],
          "parcoords": [
           {
            "line": {
             "colorbar": {
              "outlinewidth": 0,
              "ticks": ""
             }
            },
            "type": "parcoords"
           }
          ],
          "pie": [
           {
            "automargin": true,
            "type": "pie"
           }
          ],
          "scatter": [
           {
            "fillpattern": {
             "fillmode": "overlay",
             "size": 10,
             "solidity": 0.2
            },
            "type": "scatter"
           }
          ],
          "scatter3d": [
           {
            "line": {
             "colorbar": {
              "outlinewidth": 0,
              "ticks": ""
             }
            },
            "marker": {
             "colorbar": {
              "outlinewidth": 0,
              "ticks": ""
             }
            },
            "type": "scatter3d"
           }
          ],
          "scattercarpet": [
           {
            "marker": {
             "colorbar": {
              "outlinewidth": 0,
              "ticks": ""
             }
            },
            "type": "scattercarpet"
           }
          ],
          "scattergeo": [
           {
            "marker": {
             "colorbar": {
              "outlinewidth": 0,
              "ticks": ""
             }
            },
            "type": "scattergeo"
           }
          ],
          "scattergl": [
           {
            "marker": {
             "colorbar": {
              "outlinewidth": 0,
              "ticks": ""
             }
            },
            "type": "scattergl"
           }
          ],
          "scattermapbox": [
           {
            "marker": {
             "colorbar": {
              "outlinewidth": 0,
              "ticks": ""
             }
            },
            "type": "scattermapbox"
           }
          ],
          "scatterpolar": [
           {
            "marker": {
             "colorbar": {
              "outlinewidth": 0,
              "ticks": ""
             }
            },
            "type": "scatterpolar"
           }
          ],
          "scatterpolargl": [
           {
            "marker": {
             "colorbar": {
              "outlinewidth": 0,
              "ticks": ""
             }
            },
            "type": "scatterpolargl"
           }
          ],
          "scatterternary": [
           {
            "marker": {
             "colorbar": {
              "outlinewidth": 0,
              "ticks": ""
             }
            },
            "type": "scatterternary"
           }
          ],
          "surface": [
           {
            "colorbar": {
             "outlinewidth": 0,
             "ticks": ""
            },
            "colorscale": [
             [
              0,
              "#0d0887"
             ],
             [
              0.1111111111111111,
              "#46039f"
             ],
             [
              0.2222222222222222,
              "#7201a8"
             ],
             [
              0.3333333333333333,
              "#9c179e"
             ],
             [
              0.4444444444444444,
              "#bd3786"
             ],
             [
              0.5555555555555556,
              "#d8576b"
             ],
             [
              0.6666666666666666,
              "#ed7953"
             ],
             [
              0.7777777777777778,
              "#fb9f3a"
             ],
             [
              0.8888888888888888,
              "#fdca26"
             ],
             [
              1,
              "#f0f921"
             ]
            ],
            "type": "surface"
           }
          ],
          "table": [
           {
            "cells": {
             "fill": {
              "color": "#EBF0F8"
             },
             "line": {
              "color": "white"
             }
            },
            "header": {
             "fill": {
              "color": "#C8D4E3"
             },
             "line": {
              "color": "white"
             }
            },
            "type": "table"
           }
          ]
         },
         "layout": {
          "annotationdefaults": {
           "arrowcolor": "#2a3f5f",
           "arrowhead": 0,
           "arrowwidth": 1
          },
          "autotypenumbers": "strict",
          "coloraxis": {
           "colorbar": {
            "outlinewidth": 0,
            "ticks": ""
           }
          },
          "colorscale": {
           "diverging": [
            [
             0,
             "#8e0152"
            ],
            [
             0.1,
             "#c51b7d"
            ],
            [
             0.2,
             "#de77ae"
            ],
            [
             0.3,
             "#f1b6da"
            ],
            [
             0.4,
             "#fde0ef"
            ],
            [
             0.5,
             "#f7f7f7"
            ],
            [
             0.6,
             "#e6f5d0"
            ],
            [
             0.7,
             "#b8e186"
            ],
            [
             0.8,
             "#7fbc41"
            ],
            [
             0.9,
             "#4d9221"
            ],
            [
             1,
             "#276419"
            ]
           ],
           "sequential": [
            [
             0,
             "#0d0887"
            ],
            [
             0.1111111111111111,
             "#46039f"
            ],
            [
             0.2222222222222222,
             "#7201a8"
            ],
            [
             0.3333333333333333,
             "#9c179e"
            ],
            [
             0.4444444444444444,
             "#bd3786"
            ],
            [
             0.5555555555555556,
             "#d8576b"
            ],
            [
             0.6666666666666666,
             "#ed7953"
            ],
            [
             0.7777777777777778,
             "#fb9f3a"
            ],
            [
             0.8888888888888888,
             "#fdca26"
            ],
            [
             1,
             "#f0f921"
            ]
           ],
           "sequentialminus": [
            [
             0,
             "#0d0887"
            ],
            [
             0.1111111111111111,
             "#46039f"
            ],
            [
             0.2222222222222222,
             "#7201a8"
            ],
            [
             0.3333333333333333,
             "#9c179e"
            ],
            [
             0.4444444444444444,
             "#bd3786"
            ],
            [
             0.5555555555555556,
             "#d8576b"
            ],
            [
             0.6666666666666666,
             "#ed7953"
            ],
            [
             0.7777777777777778,
             "#fb9f3a"
            ],
            [
             0.8888888888888888,
             "#fdca26"
            ],
            [
             1,
             "#f0f921"
            ]
           ]
          },
          "colorway": [
           "#636efa",
           "#EF553B",
           "#00cc96",
           "#ab63fa",
           "#FFA15A",
           "#19d3f3",
           "#FF6692",
           "#B6E880",
           "#FF97FF",
           "#FECB52"
          ],
          "font": {
           "color": "#2a3f5f"
          },
          "geo": {
           "bgcolor": "white",
           "lakecolor": "white",
           "landcolor": "white",
           "showlakes": true,
           "showland": true,
           "subunitcolor": "#C8D4E3"
          },
          "hoverlabel": {
           "align": "left"
          },
          "hovermode": "closest",
          "mapbox": {
           "style": "light"
          },
          "paper_bgcolor": "white",
          "plot_bgcolor": "white",
          "polar": {
           "angularaxis": {
            "gridcolor": "#EBF0F8",
            "linecolor": "#EBF0F8",
            "ticks": ""
           },
           "bgcolor": "white",
           "radialaxis": {
            "gridcolor": "#EBF0F8",
            "linecolor": "#EBF0F8",
            "ticks": ""
           }
          },
          "scene": {
           "xaxis": {
            "backgroundcolor": "white",
            "gridcolor": "#DFE8F3",
            "gridwidth": 2,
            "linecolor": "#EBF0F8",
            "showbackground": true,
            "ticks": "",
            "zerolinecolor": "#EBF0F8"
           },
           "yaxis": {
            "backgroundcolor": "white",
            "gridcolor": "#DFE8F3",
            "gridwidth": 2,
            "linecolor": "#EBF0F8",
            "showbackground": true,
            "ticks": "",
            "zerolinecolor": "#EBF0F8"
           },
           "zaxis": {
            "backgroundcolor": "white",
            "gridcolor": "#DFE8F3",
            "gridwidth": 2,
            "linecolor": "#EBF0F8",
            "showbackground": true,
            "ticks": "",
            "zerolinecolor": "#EBF0F8"
           }
          },
          "shapedefaults": {
           "line": {
            "color": "#2a3f5f"
           }
          },
          "ternary": {
           "aaxis": {
            "gridcolor": "#DFE8F3",
            "linecolor": "#A2B1C6",
            "ticks": ""
           },
           "baxis": {
            "gridcolor": "#DFE8F3",
            "linecolor": "#A2B1C6",
            "ticks": ""
           },
           "bgcolor": "white",
           "caxis": {
            "gridcolor": "#DFE8F3",
            "linecolor": "#A2B1C6",
            "ticks": ""
           }
          },
          "title": {
           "x": 0.05
          },
          "xaxis": {
           "automargin": true,
           "gridcolor": "#EBF0F8",
           "linecolor": "#EBF0F8",
           "ticks": "",
           "title": {
            "standoff": 15
           },
           "zerolinecolor": "#EBF0F8",
           "zerolinewidth": 2
          },
          "yaxis": {
           "automargin": true,
           "gridcolor": "#EBF0F8",
           "linecolor": "#EBF0F8",
           "ticks": "",
           "title": {
            "standoff": 15
           },
           "zerolinecolor": "#EBF0F8",
           "zerolinewidth": 2
          }
         }
        },
        "title": {
         "text": "Leverage Plot"
        },
        "xaxis": {
         "anchor": "y",
         "domain": [
          0,
          1
         ],
         "title": {
          "text": "Index"
         }
        },
        "yaxis": {
         "anchor": "x",
         "domain": [
          0,
          1
         ],
         "title": {
          "text": "Leverage"
         }
        }
       }
      }
     },
     "metadata": {},
     "output_type": "display_data"
    }
   ],
   "source": [
    "\n",
    "# Assuming leverage and other relevant data are available\n",
    "influence = model_simple_glm.get_influence()\n",
    "leverage = influence.hat_matrix_diag  # Leverage values\n",
    "\n",
    "# Creating a DataFrame for the plot\n",
    "leverage_df = pd.DataFrame({\n",
    "    'Index': range(len(leverage)),\n",
    "    'Leverage': leverage,\n",
    "    'Residuals': model_simple_glm.resid_pearson,  # Standardized residuals\n",
    "    'Title': X_train['title'],  # Assuming titles are in X_train\n",
    "    'Production Method': X_train['production_method'],  # Assuming production method is in X_train\n",
    "})\n",
    "\n",
    "# Create the Plotly scatter plot for leverage with color based on production method\n",
    "fig = px.scatter(\n",
    "    leverage_df,\n",
    "    x=\"Index\",\n",
    "    y=\"Leverage\",\n",
    "    hover_name=\"Title\",  # Show the movie title on hover\n",
    "    hover_data=[\"Residuals\", \"Production Method\"],\n",
    "    color=\"Production Method\",  # Color by production method\n",
    "    title=\"Leverage Plot\",\n",
    ")\n",
    "\n",
    "# Add a horizontal baseline with a standout color\n",
    "fig.add_trace(\n",
    "    go.Scatter(\n",
    "        x=leverage_df[\"Index\"],\n",
    "        y=[0] * len(leverage_df),\n",
    "        mode=\"lines\",\n",
    "        line=dict(color=\"orange\", width=2),  # Standout line style\n",
    "        name=\"Baseline\"\n",
    "    )\n",
    ")\n",
    "\n",
    "# Update layout\n",
    "fig.update_layout(\n",
    "    xaxis_title=\"Index\",\n",
    "    yaxis_title=\"Leverage\",\n",
    "    template=\"plotly_white\"\n",
    ")\n",
    "\n",
    "fig.show()"
   ]
  },
  {
   "cell_type": "code",
   "execution_count": 18,
   "metadata": {},
   "outputs": [
    {
     "name": "stdout",
     "output_type": "stream",
     "text": [
      "  Dataset           MSE        R²\n",
      "0   Train  3.609927e+14  0.761082\n",
      "1    Test  4.983500e+14  0.674956\n"
     ]
    },
    {
     "data": {
      "image/png": "[encoded data removed]",
      "text/plain": [
       "<Figure size 1200x600 with 2 Axes>"
      ]
     },
     "metadata": {},
     "output_type": "display_data"
    },
    {
     "data": {
      "application/vnd.plotly.v1+json": {
       "config": {
        "plotlyServerURL": "https://plot.ly"
       },
       "data": [
        {
         "alignmentgroup": "True",
         "hovertemplate": "Metric=Normalized MSE<br>Dataset=%{x}<br>Normalized Metric Value=%{y}<extra></extra>",
         "legendgroup": "Normalized MSE",
         "marker": {
          "color": "#636efa",
          "pattern": {
           "shape": ""
          }
         },
         "name": "Normalized MSE",
         "offsetgroup": "Normalized MSE",
         "orientation": "v",
         "showlegend": true,
         "textposition": "auto",
         "type": "bar",
         "x": [
          "Train",
          "Test"
         ],
         "xaxis": "x",
         "y": [
          0.7243758443289685,
          1
         ],
         "yaxis": "y"
        },
        {
         "alignmentgroup": "True",
         "hovertemplate": "Metric=Normalized R²<br>Dataset=%{x}<br>Normalized Metric Value=%{y}<extra></extra>",
         "legendgroup": "Normalized R²",
         "marker": {
          "color": "#EF553B",
          "pattern": {
           "shape": ""
          }
         },
         "name": "Normalized R²",
         "offsetgroup": "Normalized R²",
         "orientation": "v",
         "showlegend": true,
         "textposition": "auto",
         "type": "bar",
         "x": [
          "Train",
          "Test"
         ],
         "xaxis": "x",
         "y": [
          1,
          0.8868369871631537
         ],
         "yaxis": "y"
        }
       ],
       "layout": {
        "barmode": "group",
        "legend": {
         "title": {
          "text": "Metric"
         },
         "tracegroupgap": 0
        },
        "template": {
         "data": {
          "bar": [
           {
            "error_x": {
             "color": "#2a3f5f"
            },
            "error_y": {
             "color": "#2a3f5f"
            },
            "marker": {
             "line": {
              "color": "#E5ECF6",
              "width": 0.5
             },
             "pattern": {
              "fillmode": "overlay",
              "size": 10,
              "solidity": 0.2
             }
            },
            "type": "bar"
           }
          ],
          "barpolar": [
           {
            "marker": {
             "line": {
              "color": "#E5ECF6",
              "width": 0.5
             },
             "pattern": {
              "fillmode": "overlay",
              "size": 10,
              "solidity": 0.2
             }
            },
            "type": "barpolar"
           }
          ],
          "carpet": [
           {
            "aaxis": {
             "endlinecolor": "#2a3f5f",
             "gridcolor": "white",
             "linecolor": "white",
             "minorgridcolor": "white",
             "startlinecolor": "#2a3f5f"
            },
            "baxis": {
             "endlinecolor": "#2a3f5f",
             "gridcolor": "white",
             "linecolor": "white",
             "minorgridcolor": "white",
             "startlinecolor": "#2a3f5f"
            },
            "type": "carpet"
           }
          ],
          "choropleth": [
           {
            "colorbar": {
             "outlinewidth": 0,
             "ticks": ""
            },
            "type": "choropleth"
           }
          ],
          "contour": [
           {
            "colorbar": {
             "outlinewidth": 0,
             "ticks": ""
            },
            "colorscale": [
             [
              0,
              "#0d0887"
             ],
             [
              0.1111111111111111,
              "#46039f"
             ],
             [
              0.2222222222222222,
              "#7201a8"
             ],
             [
              0.3333333333333333,
              "#9c179e"
             ],
             [
              0.4444444444444444,
              "#bd3786"
             ],
             [
              0.5555555555555556,
              "#d8576b"
             ],
             [
              0.6666666666666666,
              "#ed7953"
             ],
             [
              0.7777777777777778,
              "#fb9f3a"
             ],
             [
              0.8888888888888888,
              "#fdca26"
             ],
             [
              1,
              "#f0f921"
             ]
            ],
            "type": "contour"
           }
          ],
          "contourcarpet": [
           {
            "colorbar": {
             "outlinewidth": 0,
             "ticks": ""
            },
            "type": "contourcarpet"
           }
          ],
          "heatmap": [
           {
            "colorbar": {
             "outlinewidth": 0,
             "ticks": ""
            },
            "colorscale": [
             [
              0,
              "#0d0887"
             ],
             [
              0.1111111111111111,
              "#46039f"
             ],
             [
              0.2222222222222222,
              "#7201a8"
             ],
             [
              0.3333333333333333,
              "#9c179e"
             ],
             [
              0.4444444444444444,
              "#bd3786"
             ],
             [
              0.5555555555555556,
              "#d8576b"
             ],
             [
              0.6666666666666666,
              "#ed7953"
             ],
             [
              0.7777777777777778,
              "#fb9f3a"
             ],
             [
              0.8888888888888888,
              "#fdca26"
             ],
             [
              1,
              "#f0f921"
             ]
            ],
            "type": "heatmap"
           }
          ],
          "heatmapgl": [
           {
            "colorbar": {
             "outlinewidth": 0,
             "ticks": ""
            },
            "colorscale": [
             [
              0,
              "#0d0887"
             ],
             [
              0.1111111111111111,
              "#46039f"
             ],
             [
              0.2222222222222222,
              "#7201a8"
             ],
             [
              0.3333333333333333,
              "#9c179e"
             ],
             [
              0.4444444444444444,
              "#bd3786"
             ],
             [
              0.5555555555555556,
              "#d8576b"
             ],
             [
              0.6666666666666666,
              "#ed7953"
             ],
             [
              0.7777777777777778,
              "#fb9f3a"
             ],
             [
              0.8888888888888888,
              "#fdca26"
             ],
             [
              1,
              "#f0f921"
             ]
            ],
            "type": "heatmapgl"
           }
          ],
          "histogram": [
           {
            "marker": {
             "pattern": {
              "fillmode": "overlay",
              "size": 10,
              "solidity": 0.2
             }
            },
            "type": "histogram"
           }
          ],
          "histogram2d": [
           {
            "colorbar": {
             "outlinewidth": 0,
             "ticks": ""
            },
            "colorscale": [
             [
              0,
              "#0d0887"
             ],
             [
              0.1111111111111111,
              "#46039f"
             ],
             [
              0.2222222222222222,
              "#7201a8"
             ],
             [
              0.3333333333333333,
              "#9c179e"
             ],
             [
              0.4444444444444444,
              "#bd3786"
             ],
             [
              0.5555555555555556,
              "#d8576b"
             ],
             [
              0.6666666666666666,
              "#ed7953"
             ],
             [
              0.7777777777777778,
              "#fb9f3a"
             ],
             [
              0.8888888888888888,
              "#fdca26"
             ],
             [
              1,
              "#f0f921"
             ]
            ],
            "type": "histogram2d"
           }
          ],
          "histogram2dcontour": [
           {
            "colorbar": {
             "outlinewidth": 0,
             "ticks": ""
            },
            "colorscale": [
             [
              0,
              "#0d0887"
             ],
             [
              0.1111111111111111,
              "#46039f"
             ],
             [
              0.2222222222222222,
              "#7201a8"
             ],
             [
              0.3333333333333333,
              "#9c179e"
             ],
             [
              0.4444444444444444,
              "#bd3786"
             ],
             [
              0.5555555555555556,
              "#d8576b"
             ],
             [
              0.6666666666666666,
              "#ed7953"
             ],
             [
              0.7777777777777778,
              "#fb9f3a"
             ],
             [
              0.8888888888888888,
              "#fdca26"
             ],
             [
              1,
              "#f0f921"
             ]
            ],
            "type": "histogram2dcontour"
           }
          ],
          "mesh3d": [
           {
            "colorbar": {
             "outlinewidth": 0,
             "ticks": ""
            },
            "type": "mesh3d"
           }
          ],
          "parcoords": [
           {
            "line": {
             "colorbar": {
              "outlinewidth": 0,
              "ticks": ""
             }
            },
            "type": "parcoords"
           }
          ],
          "pie": [
           {
            "automargin": true,
            "type": "pie"
           }
          ],
          "scatter": [
           {
            "fillpattern": {
             "fillmode": "overlay",
             "size": 10,
             "solidity": 0.2
            },
            "type": "scatter"
           }
          ],
          "scatter3d": [
           {
            "line": {
             "colorbar": {
              "outlinewidth": 0,
              "ticks": ""
             }
            },
            "marker": {
             "colorbar": {
              "outlinewidth": 0,
              "ticks": ""
             }
            },
            "type": "scatter3d"
           }
          ],
          "scattercarpet": [
           {
            "marker": {
             "colorbar": {
              "outlinewidth": 0,
              "ticks": ""
             }
            },
            "type": "scattercarpet"
           }
          ],
          "scattergeo": [
           {
            "marker": {
             "colorbar": {
              "outlinewidth": 0,
              "ticks": ""
             }
            },
            "type": "scattergeo"
           }
          ],
          "scattergl": [
           {
            "marker": {
             "colorbar": {
              "outlinewidth": 0,
              "ticks": ""
             }
            },
            "type": "scattergl"
           }
          ],
          "scattermapbox": [
           {
            "marker": {
             "colorbar": {
              "outlinewidth": 0,
              "ticks": ""
             }
            },
            "type": "scattermapbox"
           }
          ],
          "scatterpolar": [
           {
            "marker": {
             "colorbar": {
              "outlinewidth": 0,
              "ticks": ""
             }
            },
            "type": "scatterpolar"
           }
          ],
          "scatterpolargl": [
           {
            "marker": {
             "colorbar": {
              "outlinewidth": 0,
              "ticks": ""
             }
            },
            "type": "scatterpolargl"
           }
          ],
          "scatterternary": [
           {
            "marker": {
             "colorbar": {
              "outlinewidth": 0,
              "ticks": ""
             }
            },
            "type": "scatterternary"
           }
          ],
          "surface": [
           {
            "colorbar": {
             "outlinewidth": 0,
             "ticks": ""
            },
            "colorscale": [
             [
              0,
              "#0d0887"
             ],
             [
              0.1111111111111111,
              "#46039f"
             ],
             [
              0.2222222222222222,
              "#7201a8"
             ],
             [
              0.3333333333333333,
              "#9c179e"
             ],
             [
              0.4444444444444444,
              "#bd3786"
             ],
             [
              0.5555555555555556,
              "#d8576b"
             ],
             [
              0.6666666666666666,
              "#ed7953"
             ],
             [
              0.7777777777777778,
              "#fb9f3a"
             ],
             [
              0.8888888888888888,
              "#fdca26"
             ],
             [
              1,
              "#f0f921"
             ]
            ],
            "type": "surface"
           }
          ],
          "table": [
           {
            "cells": {
             "fill": {
              "color": "#EBF0F8"
             },
             "line": {
              "color": "white"
             }
            },
            "header": {
             "fill": {
              "color": "#C8D4E3"
             },
             "line": {
              "color": "white"
             }
            },
            "type": "table"
           }
          ]
         },
         "layout": {
          "annotationdefaults": {
           "arrowcolor": "#2a3f5f",
           "arrowhead": 0,
           "arrowwidth": 1
          },
          "autotypenumbers": "strict",
          "coloraxis": {
           "colorbar": {
            "outlinewidth": 0,
            "ticks": ""
           }
          },
          "colorscale": {
           "diverging": [
            [
             0,
             "#8e0152"
            ],
            [
             0.1,
             "#c51b7d"
            ],
            [
             0.2,
             "#de77ae"
            ],
            [
             0.3,
             "#f1b6da"
            ],
            [
             0.4,
             "#fde0ef"
            ],
            [
             0.5,
             "#f7f7f7"
            ],
            [
             0.6,
             "#e6f5d0"
            ],
            [
             0.7,
             "#b8e186"
            ],
            [
             0.8,
             "#7fbc41"
            ],
            [
             0.9,
             "#4d9221"
            ],
            [
             1,
             "#276419"
            ]
           ],
           "sequential": [
            [
             0,
             "#0d0887"
            ],
            [
             0.1111111111111111,
             "#46039f"
            ],
            [
             0.2222222222222222,
             "#7201a8"
            ],
            [
             0.3333333333333333,
             "#9c179e"
            ],
            [
             0.4444444444444444,
             "#bd3786"
            ],
            [
             0.5555555555555556,
             "#d8576b"
            ],
            [
             0.6666666666666666,
             "#ed7953"
            ],
            [
             0.7777777777777778,
             "#fb9f3a"
            ],
            [
             0.8888888888888888,
             "#fdca26"
            ],
            [
             1,
             "#f0f921"
            ]
           ],
           "sequentialminus": [
            [
             0,
             "#0d0887"
            ],
            [
             0.1111111111111111,
             "#46039f"
            ],
            [
             0.2222222222222222,
             "#7201a8"
            ],
            [
             0.3333333333333333,
             "#9c179e"
            ],
            [
             0.4444444444444444,
             "#bd3786"
            ],
            [
             0.5555555555555556,
             "#d8576b"
            ],
            [
             0.6666666666666666,
             "#ed7953"
            ],
            [
             0.7777777777777778,
             "#fb9f3a"
            ],
            [
             0.8888888888888888,
             "#fdca26"
            ],
            [
             1,
             "#f0f921"
            ]
           ]
          },
          "colorway": [
           "#636efa",
           "#EF553B",
           "#00cc96",
           "#ab63fa",
           "#FFA15A",
           "#19d3f3",
           "#FF6692",
           "#B6E880",
           "#FF97FF",
           "#FECB52"
          ],
          "font": {
           "color": "#2a3f5f"
          },
          "geo": {
           "bgcolor": "white",
           "lakecolor": "white",
           "landcolor": "#E5ECF6",
           "showlakes": true,
           "showland": true,
           "subunitcolor": "white"
          },
          "hoverlabel": {
           "align": "left"
          },
          "hovermode": "closest",
          "mapbox": {
           "style": "light"
          },
          "paper_bgcolor": "white",
          "plot_bgcolor": "#E5ECF6",
          "polar": {
           "angularaxis": {
            "gridcolor": "white",
            "linecolor": "white",
            "ticks": ""
           },
           "bgcolor": "#E5ECF6",
           "radialaxis": {
            "gridcolor": "white",
            "linecolor": "white",
            "ticks": ""
           }
          },
          "scene": {
           "xaxis": {
            "backgroundcolor": "#E5ECF6",
            "gridcolor": "white",
            "gridwidth": 2,
            "linecolor": "white",
            "showbackground": true,
            "ticks": "",
            "zerolinecolor": "white"
           },
           "yaxis": {
            "backgroundcolor": "#E5ECF6",
            "gridcolor": "white",
            "gridwidth": 2,
            "linecolor": "white",
            "showbackground": true,
            "ticks": "",
            "zerolinecolor": "white"
           },
           "zaxis": {
            "backgroundcolor": "#E5ECF6",
            "gridcolor": "white",
            "gridwidth": 2,
            "linecolor": "white",
            "showbackground": true,
            "ticks": "",
            "zerolinecolor": "white"
           }
          },
          "shapedefaults": {
           "line": {
            "color": "#2a3f5f"
           }
          },
          "ternary": {
           "aaxis": {
            "gridcolor": "white",
            "linecolor": "white",
            "ticks": ""
           },
           "baxis": {
            "gridcolor": "white",
            "linecolor": "white",
            "ticks": ""
           },
           "bgcolor": "#E5ECF6",
           "caxis": {
            "gridcolor": "white",
            "linecolor": "white",
            "ticks": ""
           }
          },
          "title": {
           "x": 0.05
          },
          "xaxis": {
           "automargin": true,
           "gridcolor": "white",
           "linecolor": "white",
           "ticks": "",
           "title": {
            "standoff": 15
           },
           "zerolinecolor": "white",
           "zerolinewidth": 2
          },
          "yaxis": {
           "automargin": true,
           "gridcolor": "white",
           "linecolor": "white",
           "ticks": "",
           "title": {
            "standoff": 15
           },
           "zerolinecolor": "white",
           "zerolinewidth": 2
          }
         }
        },
        "title": {
         "text": "Comparison of Normalized R² and MSE for Train and Test Datasets"
        },
        "xaxis": {
         "anchor": "y",
         "domain": [
          0,
          1
         ],
         "title": {
          "text": "Dataset"
         }
        },
        "yaxis": {
         "anchor": "x",
         "domain": [
          0,
          1
         ],
         "title": {
          "text": "Normalized Metric Value"
         }
        }
       }
      }
     },
     "metadata": {},
     "output_type": "display_data"
    }
   ],
   "source": [
    "import pandas as pd\n",
    "import matplotlib.pyplot as plt\n",
    "import plotly.express as px\n",
    "import plotly.graph_objects as go\n",
    "from sklearn.metrics import mean_squared_error, r2_score\n",
    "\n",
    "# Calculate R² and MSE for train and test datasets\n",
    "mse_train = mean_squared_error(y_train, model_simple_glm.predict(X_train))\n",
    "r2_train = r2_score(y_train, model_simple_glm.predict(X_train))\n",
    "\n",
    "mse_test = mean_squared_error(y_test, pred_simple_glm)\n",
    "r2_test = r2_score(y_test, pred_simple_glm)\n",
    "\n",
    "# Create a DataFrame for metrics\n",
    "metrics_df = pd.DataFrame({\n",
    "    \"Dataset\": [\"Train\", \"Test\"],\n",
    "    \"MSE\": [mse_train, mse_test],\n",
    "    \"R²\": [r2_train, r2_test]\n",
    "})\n",
    "\n",
    "# Display the metrics table\n",
    "print(metrics_df)\n",
    "\n",
    "\n",
    "\n",
    "# Plot 2: Separate Plots for MSE and R² using Matplotlib\n",
    "fig, ax = plt.subplots(1, 2, figsize=(12, 6))\n",
    "\n",
    "# Plot MSE\n",
    "ax[0].bar(metrics_df[\"Dataset\"], metrics_df[\"MSE\"], color=\"blue\", alpha=0.7)\n",
    "ax[0].set_title(\"MSE Comparison\")\n",
    "ax[0].set_ylabel(\"MSE\")\n",
    "ax[0].set_xlabel(\"Dataset\")\n",
    "ax[0].set_xticks(range(len(metrics_df)))\n",
    "ax[0].set_xticklabels(metrics_df[\"Dataset\"])\n",
    "\n",
    "# Plot R²\n",
    "ax[1].bar(metrics_df[\"Dataset\"], metrics_df[\"R²\"], color=\"green\", alpha=0.7)\n",
    "ax[1].set_title(\"R² Comparison\")\n",
    "ax[1].set_ylabel(\"R²\")\n",
    "ax[1].set_xlabel(\"Dataset\")\n",
    "ax[1].set_xticks(range(len(metrics_df)))\n",
    "ax[1].set_xticklabels(metrics_df[\"Dataset\"])\n",
    "\n",
    "plt.tight_layout()\n",
    "plt.show()\n",
    "\n",
    "# Optional: Normalize metrics if scales differ too much\n",
    "metrics_df[\"Normalized MSE\"] = metrics_df[\"MSE\"] / metrics_df[\"MSE\"].max()\n",
    "metrics_df[\"Normalized R²\"] = metrics_df[\"R²\"] / metrics_df[\"R²\"].max()\n",
    "\n",
    "# Plot Normalized Metrics for better comparison\n",
    "normalized_metrics_melted = metrics_df.melt(\n",
    "    id_vars= \"Dataset\",\n",
    "    value_vars=[\"Normalized MSE\", \"Normalized R²\"],\n",
    "    var_name=\"Metric\",\n",
    "    value_name=\"Normalized Value\"\n",
    ")\n",
    "fig = px.bar(\n",
    "    normalized_metrics_melted,\n",
    "    x=\"Dataset\",\n",
    "    y=\"Normalized Value\",\n",
    "    color=\"Metric\",\n",
    "    barmode=\"group\",\n",
    "    title=\"Comparison of Normalized R² and MSE for Train and Test Datasets\",\n",
    "    labels={\"Normalized Value\": \"Normalized Metric Value\"}\n",
    ")\n",
    "fig.show()\n",
    "\n"
   ]
  },
  {
   "cell_type": "code",
   "execution_count": null,
   "metadata": {},
   "outputs": [],
   "source": []
  }
 ],
 "metadata": {
  "interpreter": {
   "hash": "397704579725e15f5c7cb49fe5f0341eb7531c82d19f2c29d197e8b64ab5776b"
  },
  "kernelspec": {
   "display_name": "boxoffice_kernel",
   "language": "python",
   "name": "boxoffice_kernel"
  },
  "language_info": {
   "codemirror_mode": {
    "name": "ipython",
    "version": 3
   },
   "file_extension": ".py",
   "mimetype": "text/x-python",
   "name": "python",
   "nbconvert_exporter": "python",
   "pygments_lexer": "ipython3",
   "version": "3.12.6"
  }
 },
 "nbformat": 4,
 "nbformat_minor": 2
}
