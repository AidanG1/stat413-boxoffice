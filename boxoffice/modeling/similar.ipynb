{
 "cells": [
  {
   "cell_type": "code",
   "execution_count": 105,
   "metadata": {},
   "outputs": [],
   "source": [
    "import pandas as pd\n",
    "import numpy as np\n",
    "import matplotlib.pyplot as plt\n",
    "from boxoffice.db.frames import get_movie_frame_full\n",
    "from sklearn.metrics.pairwise import cosine_similarity, euclidean_distances"
   ]
  },
  {
   "cell_type": "code",
   "execution_count": 106,
   "metadata": {},
   "outputs": [
    {
     "name": "stdout",
     "output_type": "stream",
     "text": [
      "Reading from movies.csv\n"
     ]
    }
   ],
   "source": [
    "target_slugs = ['Paddington-2', 'Deadpool-and-Wolverine-(2024)', 'Renfield']\n",
    "\n",
    "df = get_movie_frame_full()"
   ]
  },
  {
   "cell_type": "code",
   "execution_count": 107,
   "metadata": {},
   "outputs": [],
   "source": [
    "# make dummy variables for genre, mpaa_rating, source, production_method, creative_type\n",
    "# eventually include franchise\n",
    "columns = []\n",
    "for col in ['genre', 'mpaa_rating', 'source', 'production_method', 'creative_type']:\n",
    "    dummies = pd.get_dummies(df[col], prefix=col)\n",
    "    columns.extend(dummies.columns)\n",
    "    df = pd.concat([df, dummies], axis=1)\n",
    "columns.extend(['budget'])"
   ]
  },
  {
   "cell_type": "code",
   "execution_count": 111,
   "metadata": {},
   "outputs": [
    {
     "name": "stdout",
     "output_type": "stream",
     "text": [
      "Budget NA: 230\n",
      "822\n",
      "Target: 716 Paddington 2\n",
      "0 Paddington 2 0.0 40.77M\n",
      "1 Peter Rabbit 2: The Runaway 0.25 41.24M\n",
      "2 Peter Rabbit 0.5 115.23M\n",
      "3 Paddington 0.75 76.40M\n",
      "4 Harold and the Purple Crayon 1.0 18.32M\n",
      "5 The Nut Job 2: Nutty by Nature 1.41 28.70M\n",
      "6 Goosebumps 2: Haunted Halloween 1.44 47.42M\n",
      "7 Nanny McPhee and the Big Bang 1.44 29.01M\n",
      "8 Clifford the Big Red Dog 1.56 48.95M\n",
      "9 Alvin and the Chipmunks 1.6 217.31M\n",
      "10 Goosebumps 1.68 78.12M\n",
      "\n",
      "Target: 0 Deadpool & Wolverine\n",
      "0 Deadpool & Wolverine 0.0 662.89M\n",
      "1 Spider-Man: No Way Home 1.41 864.80M\n",
      "2 Doctor Strange in the Multiverse of Madness 1.41 447.33M\n",
      "3 Iron Man 3 1.41 405.84M\n",
      "4 Guardians of the Galaxy Vol 2 1.41 406.81M\n",
      "5 Ant-Man and the Wasp: Quantumania 1.41 232.01M\n",
      "6 Green Lantern 1.73 116.60M\n",
      "7 Captain Marvel 1.89 447.53M\n",
      "8 Suicide Squad 1.89 345.60M\n",
      "9 The Avengers 1.89 637.75M\n",
      "10 Black Adam 2.0 175.75M\n",
      "\n",
      "Target: 228 Renfield\n",
      "0 Renfield 0.0 18.05M\n",
      "1 It’s Complicated 1.42 112.74M\n",
      "2 Tropic Thunder 1.43 110.50M\n",
      "3 The Campaign 1.48 86.91M\n",
      "4 The Kingdom 1.57 42.30M\n",
      "5 Funny People 1.57 51.86M\n",
      "6 The Brave One 1.63 35.53M\n",
      "7 Blackhat 1.63 8.07M\n",
      "8 Hall Pass 1.68 45.06M\n",
      "9 Safe House 1.73 126.15M\n",
      "10 Bad Boys For Life 1.74 210.78M\n",
      "\n"
     ]
    },
    {
     "name": "stderr",
     "output_type": "stream",
     "text": [
      "/tmp/ipykernel_26340/2961322660.py:12: SettingWithCopyWarning: \n",
      "A value is trying to be set on a copy of a slice from a DataFrame.\n",
      "Try using .loc[row_indexer,col_indexer] = value instead\n",
      "\n",
      "See the caveats in the documentation: https://pandas.pydata.org/pandas-docs/stable/user_guide/indexing.html#returning-a-view-versus-a-copy\n",
      "  df_distances['budget'] = df_distances['budget'].fillna(-1)\n",
      "/tmp/ipykernel_26340/2961322660.py:15: SettingWithCopyWarning: \n",
      "A value is trying to be set on a copy of a slice from a DataFrame.\n",
      "Try using .loc[row_indexer,col_indexer] = value instead\n",
      "\n",
      "See the caveats in the documentation: https://pandas.pydata.org/pandas-docs/stable/user_guide/indexing.html#returning-a-view-versus-a-copy\n",
      "  df_distances['budget'] = df_distances['budget'] / 20000000\n",
      "/tmp/ipykernel_26340/2961322660.py:17: SettingWithCopyWarning: \n",
      "A value is trying to be set on a copy of a slice from a DataFrame.\n",
      "Try using .loc[row_indexer,col_indexer] = value instead\n",
      "\n",
      "See the caveats in the documentation: https://pandas.pydata.org/pandas-docs/stable/user_guide/indexing.html#returning-a-view-versus-a-copy\n",
      "  df_distances['in_franchise'] = df['franchise_name'].notna().astype(int)\n"
     ]
    }
   ],
   "source": [
    "# make na budget 0\n",
    "df_distances = df[columns]\n",
    "\n",
    "print('Budget NA:', df['budget'].isna().sum())\n",
    "\n",
    "# print all the NA titles in budget\n",
    "na_title_df = df[df['budget'].isna()]\n",
    "with open('na_budget_titles.txt', 'w') as f:\n",
    "    for row in na_title_df.iterrows():\n",
    "        f.write(row[1]['title'] + ' ' + row[1]['slug'] + '\\n')\n",
    "\n",
    "df_distances['budget'] = df_distances['budget'].fillna(-1)\n",
    "\n",
    "# divide budget by 20,000,000\n",
    "df_distances['budget'] = df_distances['budget'] / 20000000\n",
    "\n",
    "df_distances['in_franchise'] = df['franchise_name'].notna().astype(int)\n",
    "\n",
    "# multiply all the mpaas by 10\n",
    "# df_distances['mpaa_rating'] = df_distances['mpaa_rating'].apply(lambda x: x * 10)\n",
    "\n",
    "euclidean_dist = euclidean_distances(df_distances)\n",
    "\n",
    "def format_number_in_millions(x):\n",
    "    return \"{:.2f}M\".format(x / 1000000)\n",
    "\n",
    "for target_slug in target_slugs:\n",
    "    # find the row where the id is the target\n",
    "    target = df[df['slug'] == target_slug]\n",
    "    target_id = target.index[0]\n",
    "    target = target[columns]\n",
    "    target = target.values.reshape(1, -1)\n",
    "    distances = euclidean_dist[target_id]\n",
    "    closest = np.argsort(distances)\n",
    "    print('Target:', target_id, df.loc[target_id]['title'])\n",
    "    for i in range(0, 11):\n",
    "        located = df.loc[closest[i]]\n",
    "        print(i, located['title'], round(distances[closest[i]], 2), format_number_in_millions(located['total_revenue_within_365_days']))\n",
    "    print()"
   ]
  }
 ],
 "metadata": {
  "kernelspec": {
   "display_name": "stat413class_kernel",
   "language": "python",
   "name": "stat413class_kernel"
  },
  "language_info": {
   "codemirror_mode": {
    "name": "ipython",
    "version": 3
   },
   "file_extension": ".py",
   "mimetype": "text/x-python",
   "name": "python",
   "nbconvert_exporter": "python",
   "pygments_lexer": "ipython3",
   "version": "3.12.5"
  }
 },
 "nbformat": 4,
 "nbformat_minor": 2
}
