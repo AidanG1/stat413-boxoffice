{
 "cells": [
  {
   "cell_type": "code",
   "execution_count": 100,
   "metadata": {},
   "outputs": [],
   "source": [
    "import pandas as pd\n",
    "import numpy as np\n",
    "import matplotlib.pyplot as plt\n",
    "from boxoffice.db.frames import get_movie_frame_full\n",
    "from sklearn.metrics.pairwise import cosine_similarity, euclidean_distances"
   ]
  },
  {
   "cell_type": "code",
   "execution_count": 101,
   "metadata": {},
   "outputs": [
    {
     "name": "stdout",
     "output_type": "stream",
     "text": [
      "Reading from movies.csv\n"
     ]
    }
   ],
   "source": [
    "target_slugs = ['Paddington-2', 'Deadpool-and-Wolverine-(2024)', 'Renfield']\n",
    "\n",
    "df = get_movie_frame_full()"
   ]
  },
  {
   "cell_type": "code",
   "execution_count": 102,
   "metadata": {},
   "outputs": [],
   "source": [
    "# make dummy variables for genre, mpaa_rating, source, production_method, creative_type\n",
    "# eventually include franchise\n",
    "columns = []\n",
    "for col in ['genre', 'mpaa_rating', 'source', 'production_method', 'creative_type']:\n",
    "    dummies = pd.get_dummies(df[col], prefix=col)\n",
    "    columns.extend(dummies.columns)\n",
    "    df = pd.concat([df, dummies], axis=1)\n",
    "columns.extend(['budget'])"
   ]
  },
  {
   "cell_type": "code",
   "execution_count": 103,
   "metadata": {},
   "outputs": [
    {
     "name": "stdout",
     "output_type": "stream",
     "text": [
      "Budget NA: 230\n",
      "Target: 716 Paddington 2\n",
      "0 Paddington 2 0.0 40.77M\n",
      "1 Harold and the Purple Crayon 0.0 18.32M\n",
      "2 Peter Rabbit 2: The Runaway 0.25 41.24M\n",
      "3 Peter Rabbit 0.5 115.23M\n",
      "4 Paddington 0.75 76.40M\n",
      "5 Clifford the Big Red Dog 1.2 48.95M\n",
      "6 The Nut Job 2: Nutty by Nature 1.41 28.70M\n",
      "7 Goosebumps 2: Haunted Halloween 1.44 47.42M\n",
      "8 The Ant Bully 1.44 20.84M\n",
      "9 Nanny McPhee and the Big Bang 1.44 29.01M\n",
      "10 The Hitchhiker's Guide to the Galaxy 1.44 48.14M\n",
      "\n",
      "Target: 0 Deadpool & Wolverine\n",
      "0 Deadpool & Wolverine 0.0 662.89M\n",
      "1 Iron Man 3 1.41 405.84M\n",
      "2 Spider-Man: No Way Home 1.41 864.80M\n",
      "3 Guardians of the Galaxy Vol 2 1.41 406.81M\n",
      "4 Green Lantern 1.41 116.60M\n",
      "5 Ant-Man and the Wasp: Quantumania 1.41 232.01M\n",
      "6 Doctor Strange in the Multiverse of Madness 1.41 447.33M\n",
      "7 Suicide Squad 1.89 345.60M\n",
      "8 The Avengers 1.89 637.75M\n",
      "9 Captain Marvel 1.89 447.53M\n",
      "10 The Amazing Spider-Man 2 2.0 211.29M\n",
      "\n",
      "Target: 228 Renfield\n",
      "0 Renfield 0.0 18.05M\n",
      "1 Safe House 1.42 126.15M\n",
      "2 It’s Complicated 1.42 112.74M\n",
      "3 Bad Boys For Life 1.43 210.78M\n",
      "4 Tropic Thunder 1.43 110.50M\n",
      "5 The Expendables 1.43 103.94M\n",
      "6 A Good Day to Die Hard 1.44 68.19M\n",
      "7 The Hangover Part II 1.45 254.46M\n",
      "8 The Campaign 1.48 86.91M\n",
      "9 John Wick: Chapter 3 — Parabellum 1.52 176.92M\n",
      "10 The Kingdom 1.57 42.30M\n",
      "\n"
     ]
    },
    {
     "name": "stderr",
     "output_type": "stream",
     "text": [
      "/tmp/ipykernel_26340/2335400341.py:12: SettingWithCopyWarning: \n",
      "A value is trying to be set on a copy of a slice from a DataFrame.\n",
      "Try using .loc[row_indexer,col_indexer] = value instead\n",
      "\n",
      "See the caveats in the documentation: https://pandas.pydata.org/pandas-docs/stable/user_guide/indexing.html#returning-a-view-versus-a-copy\n",
      "  df_distances['budget'] = df_distances['budget'].fillna(-1)\n",
      "/tmp/ipykernel_26340/2335400341.py:15: SettingWithCopyWarning: \n",
      "A value is trying to be set on a copy of a slice from a DataFrame.\n",
      "Try using .loc[row_indexer,col_indexer] = value instead\n",
      "\n",
      "See the caveats in the documentation: https://pandas.pydata.org/pandas-docs/stable/user_guide/indexing.html#returning-a-view-versus-a-copy\n",
      "  df_distances['budget'] = df_distances['budget'] / 20000000\n"
     ]
    }
   ],
   "source": [
    "# make na budget 0\n",
    "df_distances = df[columns]\n",
    "\n",
    "print('Budget NA:', df['budget'].isna().sum())\n",
    "\n",
    "# print all the NA titles in budget\n",
    "na_title_df = df[df['budget'].isna()]\n",
    "with open('na_budget_titles.txt', 'w') as f:\n",
    "    for row in na_title_df.iterrows():\n",
    "        f.write(row[1]['title'] + ' ' + row[1]['slug'] + '\\n')\n",
    "\n",
    "df_distances['budget'] = df_distances['budget'].fillna(-1)\n",
    "\n",
    "# divide budget by 1 million\n",
    "df_distances['budget'] = df_distances['budget'] / 20000000\n",
    "\n",
    "# multiply all the mpaas by 10\n",
    "# df_distances['mpaa_rating'] = df_distances['mpaa_rating'].apply(lambda x: x * 10)\n",
    "\n",
    "euclidean_dist = euclidean_distances(df_distances)\n",
    "\n",
    "def format_number_in_millions(x):\n",
    "    return \"{:.2f}M\".format(x / 1000000)\n",
    "\n",
    "for target_slug in target_slugs:\n",
    "    # find the row where the id is the target\n",
    "    target = df[df['slug'] == target_slug]\n",
    "    target_id = target.index[0]\n",
    "    target = target[columns]\n",
    "    target = target.values.reshape(1, -1)\n",
    "    distances = euclidean_dist[target_id]\n",
    "    closest = np.argsort(distances)\n",
    "    print('Target:', target_id, df.loc[target_id]['title'])\n",
    "    for i in range(0, 11):\n",
    "        located = df.loc[closest[i]]\n",
    "        print(i, located['title'], round(distances[closest[i]], 2), format_number_in_millions(located['total_revenue_within_365_days']))\n",
    "    print()"
   ]
  }
 ],
 "metadata": {
  "kernelspec": {
   "display_name": "stat413class_kernel",
   "language": "python",
   "name": "stat413class_kernel"
  },
  "language_info": {
   "codemirror_mode": {
    "name": "ipython",
    "version": 3
   },
   "file_extension": ".py",
   "mimetype": "text/x-python",
   "name": "python",
   "nbconvert_exporter": "python",
   "pygments_lexer": "ipython3",
   "version": "3.12.5"
  }
 },
 "nbformat": 4,
 "nbformat_minor": 2
}
